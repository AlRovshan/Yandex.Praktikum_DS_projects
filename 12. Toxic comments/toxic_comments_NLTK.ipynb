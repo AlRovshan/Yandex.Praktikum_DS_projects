{
 "cells": [
  {
   "cell_type": "markdown",
   "metadata": {},
   "source": [
    "# Выявление негативных комментарий"
   ]
  },
  {
   "cell_type": "markdown",
   "metadata": {},
   "source": [
    "Интернет-магазин запускает новый сервис. Теперь пользователи могут редактировать и дополнять описания товаров, как в вики-сообществах. То есть клиенты предлагают свои правки и комментируют изменения других.\n",
    "\n",
    "\n",
    "**Цель проекта:**\n",
    "\n",
    "Обучить модель классифицировать комментарии на позитивные и негативные на основе набора данных с разметкой о токсичности правок. Метрика качества *F1* должна быть не меньше 0.75. \n",
    "\n",
    "**Задачи:**\n",
    "\n",
    "1. Загрузите и подготовьте данные.\n",
    "2. Обучите разные модели. \n",
    "3. Сделайте выводы.\n",
    "\n",
    "**Описание данных**\n",
    "\n",
    "Данные находятся в файле `toxic_comments.csv`. Столбец *text* содержит текст комментария, а *toxic* — целевой признак."
   ]
  },
  {
   "cell_type": "markdown",
   "metadata": {
    "toc": true
   },
   "source": [
    "<h1>Содержание<span class=\"tocSkip\"></span></h1>\n",
    "<div class=\"toc\"><li><span><a href=\"#Подготовка\" data-toc-modified-id=\"Подготовка-1\"><span class=\"toc-item-num\">1&nbsp;&nbsp;</span>Подготовка</a></span></li><li><span><a href=\"#Обучение\" data-toc-modified-id=\"Обучение-2\"><span class=\"toc-item-num\">2&nbsp;&nbsp;</span>Обучение</a></span></li><li><span><a href=\"#Выводы\" data-toc-modified-id=\"Выводы-3\"><span class=\"toc-item-num\">3&nbsp;&nbsp;</span>Выводы</a></span></li><li><span><a href=\"#Чек-лист-проверки\" data-toc-modified-id=\"Чек-лист-проверки-4\"><span class=\"toc-item-num\">4&nbsp;&nbsp;</span>Чек-лист проверки</a></span></li></ul></div>"
   ]
  },
  {
   "cell_type": "markdown",
   "metadata": {},
   "source": [
    "## Подготовка"
   ]
  },
  {
   "cell_type": "code",
   "execution_count": 1,
   "metadata": {},
   "outputs": [
    {
     "name": "stderr",
     "output_type": "stream",
     "text": [
      "[nltk_data] Downloading package punkt to\n",
      "[nltk_data]     C:\\Users\\arnam\\AppData\\Roaming\\nltk_data...\n",
      "[nltk_data]   Package punkt is already up-to-date!\n",
      "[nltk_data] Downloading package wordnet to\n",
      "[nltk_data]     C:\\Users\\arnam\\AppData\\Roaming\\nltk_data...\n",
      "[nltk_data]   Unzipping corpora\\wordnet.zip.\n"
     ]
    }
   ],
   "source": [
    "import warnings\n",
    "warnings.filterwarnings('ignore')\n",
    "import pandas as pd\n",
    "import numpy as np\n",
    "from pymystem3 import Mystem\n",
    "import nltk\n",
    "nltk.download('punkt')\n",
    "nltk.download('wordnet')\n",
    "from nltk import word_tokenize\n",
    "from nltk.stem import WordNetLemmatizer\n",
    "from nltk.corpus import stopwords \n",
    "from sklearn.feature_extraction.text import TfidfVectorizer \n",
    "from nltk.corpus import stopwords as nltk_stopwords\n",
    "from sklearn.linear_model import LogisticRegression\n",
    "from sklearn.model_selection import train_test_split, cross_val_score, GridSearchCV\n",
    "from sklearn.metrics import f1_score, accuracy_score\n",
    "from sklearn.ensemble import RandomForestClassifier\n",
    "from sklearn.tree import DecisionTreeClassifier\n",
    "from catboost import CatBoostClassifier\n",
    "from sklearn.pipeline import Pipeline"
   ]
  },
  {
   "cell_type": "code",
   "execution_count": 2,
   "metadata": {
    "scrolled": false
   },
   "outputs": [
    {
     "data": {
      "text/html": [
       "<div>\n",
       "<style scoped>\n",
       "    .dataframe tbody tr th:only-of-type {\n",
       "        vertical-align: middle;\n",
       "    }\n",
       "\n",
       "    .dataframe tbody tr th {\n",
       "        vertical-align: top;\n",
       "    }\n",
       "\n",
       "    .dataframe thead th {\n",
       "        text-align: right;\n",
       "    }\n",
       "</style>\n",
       "<table border=\"1\" class=\"dataframe\">\n",
       "  <thead>\n",
       "    <tr style=\"text-align: right;\">\n",
       "      <th></th>\n",
       "      <th>text</th>\n",
       "      <th>toxic</th>\n",
       "    </tr>\n",
       "  </thead>\n",
       "  <tbody>\n",
       "    <tr>\n",
       "      <th>0</th>\n",
       "      <td>Explanation\\nWhy the edits made under my usern...</td>\n",
       "      <td>0</td>\n",
       "    </tr>\n",
       "    <tr>\n",
       "      <th>1</th>\n",
       "      <td>D'aww! He matches this background colour I'm s...</td>\n",
       "      <td>0</td>\n",
       "    </tr>\n",
       "    <tr>\n",
       "      <th>2</th>\n",
       "      <td>Hey man, I'm really not trying to edit war. It...</td>\n",
       "      <td>0</td>\n",
       "    </tr>\n",
       "    <tr>\n",
       "      <th>3</th>\n",
       "      <td>\"\\nMore\\nI can't make any real suggestions on ...</td>\n",
       "      <td>0</td>\n",
       "    </tr>\n",
       "    <tr>\n",
       "      <th>4</th>\n",
       "      <td>You, sir, are my hero. Any chance you remember...</td>\n",
       "      <td>0</td>\n",
       "    </tr>\n",
       "  </tbody>\n",
       "</table>\n",
       "</div>"
      ],
      "text/plain": [
       "                                                text  toxic\n",
       "0  Explanation\\nWhy the edits made under my usern...      0\n",
       "1  D'aww! He matches this background colour I'm s...      0\n",
       "2  Hey man, I'm really not trying to edit war. It...      0\n",
       "3  \"\\nMore\\nI can't make any real suggestions on ...      0\n",
       "4  You, sir, are my hero. Any chance you remember...      0"
      ]
     },
     "metadata": {},
     "output_type": "display_data"
    },
    {
     "name": "stdout",
     "output_type": "stream",
     "text": [
      "<class 'pandas.core.frame.DataFrame'>\n",
      "RangeIndex: 159571 entries, 0 to 159570\n",
      "Data columns (total 2 columns):\n",
      " #   Column  Non-Null Count   Dtype \n",
      "---  ------  --------------   ----- \n",
      " 0   text    159571 non-null  object\n",
      " 1   toxic   159571 non-null  int64 \n",
      "dtypes: int64(1), object(1)\n",
      "memory usage: 80.1 MB\n"
     ]
    }
   ],
   "source": [
    "df = pd.read_csv('toxic_comments.csv')\n",
    "display(df.head())\n",
    "df.info(memory_usage='deep')"
   ]
  },
  {
   "cell_type": "code",
   "execution_count": 3,
   "metadata": {},
   "outputs": [
    {
     "data": {
      "text/plain": [
       "0    143346\n",
       "1     16225\n",
       "Name: toxic, dtype: int64"
      ]
     },
     "execution_count": 3,
     "metadata": {},
     "output_type": "execute_result"
    }
   ],
   "source": [
    "df['toxic'].value_counts()"
   ]
  },
  {
   "cell_type": "code",
   "execution_count": 4,
   "metadata": {},
   "outputs": [
    {
     "name": "stdout",
     "output_type": "stream",
     "text": [
      "Процент объектов класса 1 к общему объёму датасета: 10.17%\n"
     ]
    }
   ],
   "source": [
    "print(f\"Процент объектов класса 1 к общему объёму датасета: {(sum(df['toxic']) / len(df) * 100):.2f}%\")"
   ]
  },
  {
   "cell_type": "markdown",
   "metadata": {},
   "source": [
    "Проведем лемматизацию текстов"
   ]
  },
  {
   "cell_type": "code",
   "execution_count": 5,
   "metadata": {},
   "outputs": [],
   "source": [
    "def lemmatize(text):\n",
    "    wt = nltk.word_tokenize(text)\n",
    "    lem_join = \" \".join([WordNetLemmatizer().lemmatize(w) for w in wt])\n",
    "    return lem_join\n",
    "    \n",
    "df['lemm_text'] = df['text'].apply(lemmatize)\n",
    "df = df.drop(['text'], axis=1)"
   ]
  },
  {
   "cell_type": "code",
   "execution_count": 6,
   "metadata": {},
   "outputs": [
    {
     "data": {
      "text/plain": [
       "0         Explanation Why the edits made under my userna...\n",
       "1         D'aww ! He match this background colour I 'm s...\n",
       "2         Hey man , I 'm really not trying to edit war ....\n",
       "3         `` More I ca n't make any real suggestion on i...\n",
       "4         You , sir , are my hero . Any chance you remem...\n",
       "                                ...                        \n",
       "159566    `` : : : : : And for the second time of asking...\n",
       "159567    You should be ashamed of yourself That is a ho...\n",
       "159568    Spitzer Umm , there no actual article for pros...\n",
       "159569    And it look like it wa actually you who put on...\n",
       "159570    `` And ... I really do n't think you understan...\n",
       "Name: lemm_text, Length: 159571, dtype: object"
      ]
     },
     "execution_count": 6,
     "metadata": {},
     "output_type": "execute_result"
    }
   ],
   "source": [
    "df['lemm_text']"
   ]
  },
  {
   "cell_type": "markdown",
   "metadata": {},
   "source": [
    "Выделим обучающую и тестовую выборки"
   ]
  },
  {
   "cell_type": "code",
   "execution_count": 7,
   "metadata": {},
   "outputs": [],
   "source": [
    "features = df.drop(['toxic'], axis=1)\n",
    "target = df['toxic']\n",
    "\n",
    "features_train, features_test, target_train, target_test = train_test_split(features, target,\n",
    "                                                                              test_size=0.2, random_state=42)"
   ]
  },
  {
   "cell_type": "markdown",
   "metadata": {},
   "source": [
    "Создадим мешок слов с учётом стоп-слов"
   ]
  },
  {
   "cell_type": "code",
   "execution_count": 8,
   "metadata": {},
   "outputs": [
    {
     "name": "stderr",
     "output_type": "stream",
     "text": [
      "[nltk_data] Downloading package stopwords to\n",
      "[nltk_data]     C:\\Users\\arnam\\AppData\\Roaming\\nltk_data...\n",
      "[nltk_data]   Unzipping corpora\\stopwords.zip.\n"
     ]
    },
    {
     "data": {
      "text/plain": [
       "((127656, 161957), (31915, 161957))"
      ]
     },
     "execution_count": 8,
     "metadata": {},
     "output_type": "execute_result"
    }
   ],
   "source": [
    "nltk.download('stopwords')\n",
    "stopwords = set(nltk_stopwords.words('english'))\n",
    "count_tf_idf = TfidfVectorizer(stop_words=stopwords) \n",
    "\n",
    "features_train = count_tf_idf.fit_transform(features_train['lemm_text'].values.astype('U'))\n",
    "features_test = count_tf_idf.transform(features_test['lemm_text'].values.astype('U'))\n",
    "\n",
    "features_train.shape, features_test.shape"
   ]
  },
  {
   "cell_type": "markdown",
   "metadata": {},
   "source": [
    "**Вывод:**\n",
    "\n",
    "В данном пункте для подготовки данных данные обучению были произведены лемматизация текстов, разделение данных на обучающую и тестовую выборки, а также создан мешок слов с учетом стоп-слов."
   ]
  },
  {
   "cell_type": "markdown",
   "metadata": {},
   "source": [
    "## Обучение"
   ]
  },
  {
   "cell_type": "markdown",
   "metadata": {},
   "source": [
    "Для обучения используем модели LogisticRegression, CatBoost, DecisionTreeClassifier."
   ]
  },
  {
   "cell_type": "markdown",
   "metadata": {},
   "source": [
    "**Модель LogisticRegression**"
   ]
  },
  {
   "cell_type": "code",
   "execution_count": 9,
   "metadata": {},
   "outputs": [
    {
     "name": "stdout",
     "output_type": "stream",
     "text": [
      "Наилучший показатель f1 на кросс-валидации : 0.76\n",
      "Параметр регуляризации для лучшей модели: {'C': 12}\n"
     ]
    }
   ],
   "source": [
    "param_lr = [{'C':[12,13,14]}]\n",
    "model_regression = LogisticRegression(random_state=42)\n",
    "clf = GridSearchCV(model_regression, param_lr, scoring = 'f1', cv=5)\n",
    "clf.fit(features_train, target_train)\n",
    "f1_lr_cv = clf.best_score_\n",
    "print(f\"Наилучший показатель f1 на кросс-валидации : {f1_lr_cv:.2f}\")\n",
    "print(f\"Параметр регуляризации для лучшей модели: {clf.best_params_}\")"
   ]
  },
  {
   "cell_type": "code",
   "execution_count": 10,
   "metadata": {},
   "outputs": [
    {
     "name": "stdout",
     "output_type": "stream",
     "text": [
      "Показатель f1 на тестовой выборке: 0.78\n",
      "Wall time: 6.35 s\n"
     ]
    }
   ],
   "source": [
    "%%time\n",
    "model_regression = LogisticRegression(C = 14, random_state=42)\n",
    "model_regression.fit(features_train, target_train)\n",
    "predict = model_regression.predict(features_test)\n",
    "f1_lr = f1_score(target_test, predict)\n",
    "\n",
    "print(f\"Показатель f1 на тестовой выборке: {f1_lr:.2f}\")"
   ]
  },
  {
   "cell_type": "markdown",
   "metadata": {},
   "source": [
    "**Модель CatBoost**"
   ]
  },
  {
   "cell_type": "code",
   "execution_count": 11,
   "metadata": {
    "scrolled": true
   },
   "outputs": [
    {
     "name": "stdout",
     "output_type": "stream",
     "text": [
      "Показатель f1 на тестовой выборке: 0.74\n",
      "Wall time: 2min 39s\n"
     ]
    }
   ],
   "source": [
    "%%time\n",
    "model_CBC = CatBoostClassifier(verbose=False, iterations=100)\n",
    "model_CBC.fit(features_train, target_train)\n",
    "target_predict = model_CBC.predict(features_test)\n",
    "f1_CBC = f1_score(target_test, target_predict)\n",
    "\n",
    "print(f\"Показатель f1 на тестовой выборке: {f1_CBC:.2f}\")"
   ]
  },
  {
   "cell_type": "markdown",
   "metadata": {},
   "source": [
    "**Модель DecisionTreeClassifier**"
   ]
  },
  {
   "cell_type": "code",
   "execution_count": 12,
   "metadata": {},
   "outputs": [
    {
     "name": "stdout",
     "output_type": "stream",
     "text": [
      "Наилучший показатель f1 на кросс-валидации : 0.58\n",
      "Параметр регуляризации для лучшей модели: {'max_depth': 10}\n"
     ]
    }
   ],
   "source": [
    "param_dtc = {'max_depth': range(4,11,3)}\n",
    "\n",
    "model_DTC = DecisionTreeClassifier(random_state=42)\n",
    "clf = GridSearchCV(model_DTC, param_dtc, scoring = 'f1', cv=5)\n",
    "clf.fit(features_train, target_train)\n",
    "f1_dtc_cv = clf.best_score_\n",
    "print(f\"Наилучший показатель f1 на кросс-валидации : {f1_dtc_cv:.2f}\")\n",
    "print(f\"Параметр регуляризации для лучшей модели: {clf.best_params_}\")"
   ]
  },
  {
   "cell_type": "code",
   "execution_count": 13,
   "metadata": {},
   "outputs": [
    {
     "name": "stdout",
     "output_type": "stream",
     "text": [
      "Показатель f1 на тестовой выборке: 0.55\n",
      "Wall time: 4.08 s\n"
     ]
    }
   ],
   "source": [
    "%%time\n",
    "model_DTC = DecisionTreeClassifier(max_depth = 7, random_state=42)\n",
    "model_DTC.fit(features_train, target_train)\n",
    "predict = model_DTC.predict(features_test)\n",
    "f1_DTC = f1_score(target_test, predict)\n",
    "print(f\"Показатель f1 на тестовой выборке: {f1_DTC:.2f}\")"
   ]
  },
  {
   "cell_type": "markdown",
   "metadata": {},
   "source": [
    "**Вывод** \n",
    "\n",
    "В данном пункте были обучены модели LogisticRegression, CatBoost, DecisionTreeClassifier. Результаты F1 данных моделей приведены в таблице ниже:"
   ]
  },
  {
   "cell_type": "code",
   "execution_count": 14,
   "metadata": {},
   "outputs": [
    {
     "data": {
      "text/html": [
       "<div>\n",
       "<style scoped>\n",
       "    .dataframe tbody tr th:only-of-type {\n",
       "        vertical-align: middle;\n",
       "    }\n",
       "\n",
       "    .dataframe tbody tr th {\n",
       "        vertical-align: top;\n",
       "    }\n",
       "\n",
       "    .dataframe thead th {\n",
       "        text-align: right;\n",
       "    }\n",
       "</style>\n",
       "<table border=\"1\" class=\"dataframe\">\n",
       "  <thead>\n",
       "    <tr style=\"text-align: right;\">\n",
       "      <th></th>\n",
       "      <th>Показатель f1 на тестовой выборке</th>\n",
       "    </tr>\n",
       "  </thead>\n",
       "  <tbody>\n",
       "    <tr>\n",
       "      <th>LogisticRegression</th>\n",
       "      <td>0.778044</td>\n",
       "    </tr>\n",
       "    <tr>\n",
       "      <th>CatBoost</th>\n",
       "      <td>0.741918</td>\n",
       "    </tr>\n",
       "    <tr>\n",
       "      <th>DecisionTreeClassifier</th>\n",
       "      <td>0.553826</td>\n",
       "    </tr>\n",
       "  </tbody>\n",
       "</table>\n",
       "</div>"
      ],
      "text/plain": [
       "                        Показатель f1 на тестовой выборке\n",
       "LogisticRegression                               0.778044\n",
       "CatBoost                                         0.741918\n",
       "DecisionTreeClassifier                           0.553826"
      ]
     },
     "execution_count": 14,
     "metadata": {},
     "output_type": "execute_result"
    }
   ],
   "source": [
    "d = ({ 'Показатель f1 на тестовой выборке':[f1_lr, f1_CBC, f1_DTC]\n",
    "      })\n",
    "data = pd.DataFrame(data=d, index=['LogisticRegression','CatBoost','DecisionTreeClassifier'])\n",
    "data"
   ]
  },
  {
   "cell_type": "markdown",
   "metadata": {},
   "source": [
    "По качеству метрики f1 по времени наилучшей моделью оказалась LogisticRegression (f1 = 0.78)."
   ]
  },
  {
   "cell_type": "markdown",
   "metadata": {},
   "source": [
    "## Выводы"
   ]
  },
  {
   "cell_type": "markdown",
   "metadata": {},
   "source": [
    "В ходе выполнения проекта о построении модели для выявления токсичных комментариев сделано следующее:\n",
    "\n",
    "1) подготовлены данные к обучению. Проезведена лемматизация текстов, разделение данных на обучающую и тестовую выборки, а также создан мешок слов с учетом стоп-слов.\n",
    "\n",
    "2) обучены модели LogisticRegression, CatBoost, DecisionTreeClassifier. По качеству метрики f1 и по времени наилучшей моделью оказалась LogisticRegression (f1 = 0.78)."
   ]
  }
 ],
 "metadata": {
  "ExecuteTimeLog": [
   {
    "duration": 1776,
    "start_time": "2021-10-01T09:01:44.554Z"
   },
   {
    "duration": -503,
    "start_time": "2021-10-01T09:01:46.835Z"
   },
   {
    "duration": 4,
    "start_time": "2021-10-01T09:02:03.038Z"
   },
   {
    "duration": 5,
    "start_time": "2021-10-01T09:02:04.663Z"
   },
   {
    "duration": 1924,
    "start_time": "2021-10-01T09:03:00.994Z"
   },
   {
    "duration": 251,
    "start_time": "2021-10-01T09:03:19.075Z"
   },
   {
    "duration": 1955,
    "start_time": "2021-10-01T09:03:50.423Z"
   },
   {
    "duration": 641,
    "start_time": "2021-10-01T09:04:32.989Z"
   },
   {
    "duration": 28,
    "start_time": "2021-10-01T09:04:34.747Z"
   },
   {
    "duration": 17,
    "start_time": "2021-10-01T09:05:51.628Z"
   },
   {
    "duration": 628,
    "start_time": "2021-10-01T09:07:17.981Z"
   },
   {
    "duration": 644,
    "start_time": "2021-10-01T09:10:53.702Z"
   },
   {
    "duration": 651,
    "start_time": "2021-10-01T09:11:06.591Z"
   },
   {
    "duration": 663,
    "start_time": "2021-10-01T09:11:16.655Z"
   },
   {
    "duration": 663,
    "start_time": "2021-10-01T09:11:33.491Z"
   },
   {
    "duration": 753,
    "start_time": "2021-10-01T09:12:09.058Z"
   },
   {
    "duration": 1233,
    "start_time": "2021-10-04T07:12:25.985Z"
   },
   {
    "duration": 1931,
    "start_time": "2021-10-04T07:12:27.220Z"
   },
   {
    "duration": 723,
    "start_time": "2021-10-04T07:12:28.430Z"
   },
   {
    "duration": 722,
    "start_time": "2021-10-04T07:12:28.432Z"
   },
   {
    "duration": 722,
    "start_time": "2021-10-04T07:12:28.433Z"
   },
   {
    "duration": 722,
    "start_time": "2021-10-04T07:12:28.434Z"
   },
   {
    "duration": 722,
    "start_time": "2021-10-04T07:12:28.435Z"
   },
   {
    "duration": 721,
    "start_time": "2021-10-04T07:12:28.437Z"
   },
   {
    "duration": 720,
    "start_time": "2021-10-04T07:12:28.439Z"
   },
   {
    "duration": 721,
    "start_time": "2021-10-04T07:12:28.440Z"
   },
   {
    "duration": 721,
    "start_time": "2021-10-04T07:12:28.441Z"
   },
   {
    "duration": 721,
    "start_time": "2021-10-04T07:12:28.442Z"
   },
   {
    "duration": 721,
    "start_time": "2021-10-04T07:12:28.443Z"
   },
   {
    "duration": 721,
    "start_time": "2021-10-04T07:12:28.444Z"
   },
   {
    "duration": 1340,
    "start_time": "2021-10-04T07:13:12.610Z"
   },
   {
    "duration": 773,
    "start_time": "2021-10-04T07:13:13.952Z"
   },
   {
    "duration": 7,
    "start_time": "2021-10-04T07:13:14.727Z"
   },
   {
    "duration": 22,
    "start_time": "2021-10-04T07:13:14.736Z"
   },
   {
    "duration": 95796,
    "start_time": "2021-10-04T07:13:14.760Z"
   },
   {
    "duration": 381,
    "start_time": "2021-10-04T07:14:50.558Z"
   },
   {
    "duration": 726,
    "start_time": "2021-10-04T07:14:50.215Z"
   },
   {
    "duration": 721,
    "start_time": "2021-10-04T07:14:50.221Z"
   },
   {
    "duration": 721,
    "start_time": "2021-10-04T07:14:50.222Z"
   },
   {
    "duration": 721,
    "start_time": "2021-10-04T07:14:50.223Z"
   },
   {
    "duration": 721,
    "start_time": "2021-10-04T07:14:50.224Z"
   },
   {
    "duration": 720,
    "start_time": "2021-10-04T07:14:50.226Z"
   },
   {
    "duration": 720,
    "start_time": "2021-10-04T07:14:50.227Z"
   },
   {
    "duration": 720,
    "start_time": "2021-10-04T07:14:50.228Z"
   },
   {
    "duration": 44,
    "start_time": "2021-10-04T07:18:33.711Z"
   },
   {
    "duration": 242,
    "start_time": "2021-10-04T07:18:41.294Z"
   },
   {
    "duration": 4,
    "start_time": "2021-10-04T07:19:26.696Z"
   },
   {
    "duration": 12406,
    "start_time": "2021-10-04T07:19:30.816Z"
   },
   {
    "duration": 337841,
    "start_time": "2021-10-04T07:20:06.268Z"
   },
   {
    "duration": 26864,
    "start_time": "2021-10-04T07:25:44.111Z"
   },
   {
    "duration": 77329,
    "start_time": "2021-10-04T07:26:10.977Z"
   },
   {
    "duration": 630,
    "start_time": "2021-10-04T07:27:28.309Z"
   },
   {
    "duration": 206810,
    "start_time": "2021-10-04T07:27:28.941Z"
   },
   {
    "duration": 4104,
    "start_time": "2021-10-04T07:30:55.754Z"
   },
   {
    "duration": 9,
    "start_time": "2021-10-04T07:30:59.860Z"
   },
   {
    "duration": 1300,
    "start_time": "2021-10-04T07:34:30.858Z"
   },
   {
    "duration": 758,
    "start_time": "2021-10-04T07:34:32.160Z"
   },
   {
    "duration": 7,
    "start_time": "2021-10-04T07:34:32.920Z"
   },
   {
    "duration": 22,
    "start_time": "2021-10-04T07:34:32.928Z"
   },
   {
    "duration": 94639,
    "start_time": "2021-10-04T07:34:32.952Z"
   },
   {
    "duration": 41,
    "start_time": "2021-10-04T07:36:07.593Z"
   },
   {
    "duration": 12063,
    "start_time": "2021-10-04T07:36:07.636Z"
   },
   {
    "duration": 156211,
    "start_time": "2021-10-04T07:36:19.701Z"
   },
   {
    "duration": 19020,
    "start_time": "2021-10-04T07:38:55.915Z"
   },
   {
    "duration": 21430,
    "start_time": "2021-10-04T07:39:14.949Z"
   },
   {
    "duration": 654,
    "start_time": "2021-10-04T07:39:36.381Z"
   },
   {
    "duration": 48952,
    "start_time": "2021-10-04T07:39:37.037Z"
   },
   {
    "duration": 2311,
    "start_time": "2021-10-04T07:40:25.991Z"
   },
   {
    "duration": 8,
    "start_time": "2021-10-04T07:40:28.304Z"
   },
   {
    "duration": 265994,
    "start_time": "2021-10-04T07:41:11.097Z"
   },
   {
    "duration": 1332,
    "start_time": "2021-10-04T07:57:05.841Z"
   },
   {
    "duration": 819,
    "start_time": "2021-10-04T07:57:07.175Z"
   },
   {
    "duration": 7,
    "start_time": "2021-10-04T07:57:07.997Z"
   },
   {
    "duration": 31,
    "start_time": "2021-10-04T07:57:08.006Z"
   },
   {
    "duration": 98454,
    "start_time": "2021-10-04T07:57:08.039Z"
   },
   {
    "duration": 73,
    "start_time": "2021-10-04T07:58:46.496Z"
   },
   {
    "duration": 12989,
    "start_time": "2021-10-04T07:58:46.571Z"
   },
   {
    "duration": 292231,
    "start_time": "2021-10-04T07:58:59.562Z"
   },
   {
    "duration": 22559,
    "start_time": "2021-10-04T08:03:51.796Z"
   },
   {
    "duration": 28266,
    "start_time": "2021-10-04T08:04:14.357Z"
   },
   {
    "duration": 561,
    "start_time": "2021-10-04T08:04:42.625Z"
   },
   {
    "duration": 66225,
    "start_time": "2021-10-04T08:04:43.188Z"
   },
   {
    "duration": 3096,
    "start_time": "2021-10-04T08:05:49.415Z"
   },
   {
    "duration": 10,
    "start_time": "2021-10-04T08:05:52.512Z"
   },
   {
    "duration": 8009,
    "start_time": "2021-10-04T08:06:11.601Z"
   },
   {
    "duration": 9,
    "start_time": "2021-10-04T08:06:19.612Z"
   },
   {
    "duration": 1267,
    "start_time": "2021-10-04T08:15:29.109Z"
   },
   {
    "duration": 819,
    "start_time": "2021-10-04T08:15:30.378Z"
   },
   {
    "duration": 9,
    "start_time": "2021-10-04T08:15:31.200Z"
   },
   {
    "duration": 22,
    "start_time": "2021-10-04T08:15:31.211Z"
   },
   {
    "duration": 54045,
    "start_time": "2021-10-04T08:15:31.235Z"
   },
   {
    "duration": 707,
    "start_time": "2021-10-04T08:16:24.575Z"
   },
   {
    "duration": 706,
    "start_time": "2021-10-04T08:16:24.577Z"
   },
   {
    "duration": 705,
    "start_time": "2021-10-04T08:16:24.580Z"
   },
   {
    "duration": 705,
    "start_time": "2021-10-04T08:16:24.581Z"
   },
   {
    "duration": 706,
    "start_time": "2021-10-04T08:16:24.582Z"
   },
   {
    "duration": 706,
    "start_time": "2021-10-04T08:16:24.583Z"
   },
   {
    "duration": 706,
    "start_time": "2021-10-04T08:16:24.584Z"
   },
   {
    "duration": 707,
    "start_time": "2021-10-04T08:16:24.585Z"
   },
   {
    "duration": 707,
    "start_time": "2021-10-04T08:16:24.586Z"
   },
   {
    "duration": 1228,
    "start_time": "2021-10-04T08:18:56.446Z"
   },
   {
    "duration": 800,
    "start_time": "2021-10-04T08:18:57.676Z"
   },
   {
    "duration": 7,
    "start_time": "2021-10-04T08:18:58.478Z"
   },
   {
    "duration": 15,
    "start_time": "2021-10-04T08:18:58.487Z"
   },
   {
    "duration": 22577,
    "start_time": "2021-10-04T08:18:58.503Z"
   },
   {
    "duration": 716,
    "start_time": "2021-10-04T08:19:20.366Z"
   },
   {
    "duration": 716,
    "start_time": "2021-10-04T08:19:20.367Z"
   },
   {
    "duration": 715,
    "start_time": "2021-10-04T08:19:20.369Z"
   },
   {
    "duration": 716,
    "start_time": "2021-10-04T08:19:20.370Z"
   },
   {
    "duration": 716,
    "start_time": "2021-10-04T08:19:20.371Z"
   },
   {
    "duration": 716,
    "start_time": "2021-10-04T08:19:20.372Z"
   },
   {
    "duration": 716,
    "start_time": "2021-10-04T08:19:20.373Z"
   },
   {
    "duration": 716,
    "start_time": "2021-10-04T08:19:20.374Z"
   },
   {
    "duration": 715,
    "start_time": "2021-10-04T08:19:20.376Z"
   },
   {
    "duration": 1252,
    "start_time": "2021-10-04T08:19:35.614Z"
   },
   {
    "duration": 792,
    "start_time": "2021-10-04T08:19:36.868Z"
   },
   {
    "duration": 7,
    "start_time": "2021-10-04T08:19:37.663Z"
   },
   {
    "duration": 22,
    "start_time": "2021-10-04T08:19:37.672Z"
   },
   {
    "duration": 98459,
    "start_time": "2021-10-04T08:19:37.695Z"
   },
   {
    "duration": 42,
    "start_time": "2021-10-04T08:21:16.156Z"
   },
   {
    "duration": 10599,
    "start_time": "2021-10-04T08:21:16.200Z"
   },
   {
    "duration": 712,
    "start_time": "2021-10-04T08:21:26.089Z"
   },
   {
    "duration": 713,
    "start_time": "2021-10-04T08:21:26.090Z"
   },
   {
    "duration": 713,
    "start_time": "2021-10-04T08:21:26.091Z"
   },
   {
    "duration": 713,
    "start_time": "2021-10-04T08:21:26.092Z"
   },
   {
    "duration": 713,
    "start_time": "2021-10-04T08:21:26.093Z"
   },
   {
    "duration": 714,
    "start_time": "2021-10-04T08:21:26.093Z"
   },
   {
    "duration": 714,
    "start_time": "2021-10-04T08:21:26.094Z"
   },
   {
    "duration": 1226,
    "start_time": "2021-10-04T08:22:32.341Z"
   },
   {
    "duration": 818,
    "start_time": "2021-10-04T08:22:33.569Z"
   },
   {
    "duration": 9,
    "start_time": "2021-10-04T08:22:34.393Z"
   },
   {
    "duration": 19,
    "start_time": "2021-10-04T08:22:34.403Z"
   },
   {
    "duration": 1302,
    "start_time": "2021-10-04T08:22:34.448Z"
   },
   {
    "duration": 712,
    "start_time": "2021-10-04T08:22:35.040Z"
   },
   {
    "duration": 708,
    "start_time": "2021-10-04T08:22:35.045Z"
   },
   {
    "duration": 708,
    "start_time": "2021-10-04T08:22:35.046Z"
   },
   {
    "duration": 707,
    "start_time": "2021-10-04T08:22:35.048Z"
   },
   {
    "duration": 707,
    "start_time": "2021-10-04T08:22:35.049Z"
   },
   {
    "duration": 707,
    "start_time": "2021-10-04T08:22:35.050Z"
   },
   {
    "duration": 707,
    "start_time": "2021-10-04T08:22:35.051Z"
   },
   {
    "duration": 708,
    "start_time": "2021-10-04T08:22:35.052Z"
   },
   {
    "duration": 708,
    "start_time": "2021-10-04T08:22:35.053Z"
   },
   {
    "duration": 1233,
    "start_time": "2021-10-04T08:22:48.538Z"
   },
   {
    "duration": 797,
    "start_time": "2021-10-04T08:22:49.774Z"
   },
   {
    "duration": 8,
    "start_time": "2021-10-04T08:22:50.573Z"
   },
   {
    "duration": 18,
    "start_time": "2021-10-04T08:22:50.584Z"
   },
   {
    "duration": 99262,
    "start_time": "2021-10-04T08:22:50.605Z"
   },
   {
    "duration": 45,
    "start_time": "2021-10-04T08:24:29.869Z"
   },
   {
    "duration": 12880,
    "start_time": "2021-10-04T08:24:29.916Z"
   },
   {
    "duration": 750,
    "start_time": "2021-10-04T08:24:42.048Z"
   },
   {
    "duration": 749,
    "start_time": "2021-10-04T08:24:42.050Z"
   },
   {
    "duration": 697,
    "start_time": "2021-10-04T08:24:42.103Z"
   },
   {
    "duration": 698,
    "start_time": "2021-10-04T08:24:42.104Z"
   },
   {
    "duration": 698,
    "start_time": "2021-10-04T08:24:42.105Z"
   },
   {
    "duration": 698,
    "start_time": "2021-10-04T08:24:42.106Z"
   },
   {
    "duration": 696,
    "start_time": "2021-10-04T08:24:42.109Z"
   },
   {
    "duration": 270,
    "start_time": "2021-10-04T08:27:49.635Z"
   },
   {
    "duration": 266,
    "start_time": "2021-10-04T08:28:30.794Z"
   },
   {
    "duration": 1268,
    "start_time": "2021-10-04T08:28:40.406Z"
   },
   {
    "duration": 823,
    "start_time": "2021-10-04T08:28:41.676Z"
   },
   {
    "duration": 9,
    "start_time": "2021-10-04T08:28:42.502Z"
   },
   {
    "duration": 15,
    "start_time": "2021-10-04T08:28:42.513Z"
   },
   {
    "duration": 98401,
    "start_time": "2021-10-04T08:28:42.529Z"
   },
   {
    "duration": 49,
    "start_time": "2021-10-04T08:30:20.932Z"
   },
   {
    "duration": 12953,
    "start_time": "2021-10-04T08:30:20.983Z"
   },
   {
    "duration": 352772,
    "start_time": "2021-10-04T08:30:33.938Z"
   },
   {
    "duration": 10004,
    "start_time": "2021-10-04T08:36:26.713Z"
   },
   {
    "duration": 353,
    "start_time": "2021-10-04T08:36:36.720Z"
   },
   {
    "duration": 759,
    "start_time": "2021-10-04T08:36:36.316Z"
   },
   {
    "duration": 707,
    "start_time": "2021-10-04T08:36:36.369Z"
   },
   {
    "duration": 707,
    "start_time": "2021-10-04T08:36:36.370Z"
   },
   {
    "duration": 707,
    "start_time": "2021-10-04T08:36:36.371Z"
   },
   {
    "duration": 49,
    "start_time": "2021-10-04T08:37:03.607Z"
   },
   {
    "duration": 1402,
    "start_time": "2021-10-04T08:57:47.416Z"
   },
   {
    "duration": 829,
    "start_time": "2021-10-04T08:57:48.820Z"
   },
   {
    "duration": 7,
    "start_time": "2021-10-04T08:57:49.651Z"
   },
   {
    "duration": 13,
    "start_time": "2021-10-04T08:57:49.660Z"
   },
   {
    "duration": 100010,
    "start_time": "2021-10-04T08:57:49.675Z"
   },
   {
    "duration": 48,
    "start_time": "2021-10-04T08:59:29.687Z"
   },
   {
    "duration": 13148,
    "start_time": "2021-10-04T08:59:29.737Z"
   },
   {
    "duration": 331324,
    "start_time": "2021-10-04T08:59:42.887Z"
   },
   {
    "duration": 10010,
    "start_time": "2021-10-04T09:05:14.214Z"
   },
   {
    "duration": 87,
    "start_time": "2021-10-04T09:05:24.227Z"
   },
   {
    "duration": 749,
    "start_time": "2021-10-04T09:05:23.567Z"
   },
   {
    "duration": 748,
    "start_time": "2021-10-04T09:05:23.569Z"
   },
   {
    "duration": 749,
    "start_time": "2021-10-04T09:05:23.570Z"
   },
   {
    "duration": 749,
    "start_time": "2021-10-04T09:05:23.571Z"
   },
   {
    "duration": 760141,
    "start_time": "2021-10-04T09:08:31.016Z"
   },
   {
    "duration": 99554,
    "start_time": "2021-10-04T09:21:11.159Z"
   },
   {
    "duration": 4141,
    "start_time": "2021-10-04T09:22:50.715Z"
   },
   {
    "duration": 407,
    "start_time": "2021-10-04T09:22:54.857Z"
   },
   {
    "duration": 10,
    "start_time": "2021-10-04T09:28:30.566Z"
   },
   {
    "duration": 311712,
    "start_time": "2021-10-04T09:31:42.064Z"
   },
   {
    "duration": 1390,
    "start_time": "2021-10-04T09:43:46.334Z"
   },
   {
    "duration": 830,
    "start_time": "2021-10-04T09:43:47.726Z"
   },
   {
    "duration": 7,
    "start_time": "2021-10-04T09:43:48.558Z"
   },
   {
    "duration": 29,
    "start_time": "2021-10-04T09:43:48.567Z"
   },
   {
    "duration": 96853,
    "start_time": "2021-10-04T09:43:48.598Z"
   },
   {
    "duration": 46,
    "start_time": "2021-10-04T09:45:25.453Z"
   },
   {
    "duration": 13708,
    "start_time": "2021-10-04T09:45:25.501Z"
   },
   {
    "duration": 254101,
    "start_time": "2021-10-04T09:45:39.211Z"
   },
   {
    "duration": 10110,
    "start_time": "2021-10-04T09:49:53.314Z"
   },
   {
    "duration": 1131443,
    "start_time": "2021-10-04T09:50:03.426Z"
   },
   {
    "duration": 99766,
    "start_time": "2021-10-04T10:08:54.872Z"
   },
   {
    "duration": 4281,
    "start_time": "2021-10-04T10:10:34.640Z"
   },
   {
    "duration": 7,
    "start_time": "2021-10-04T10:10:38.923Z"
   },
   {
    "duration": 16738,
    "start_time": "2021-10-04T10:13:05.984Z"
   },
   {
    "duration": 8,
    "start_time": "2021-10-04T10:14:32.476Z"
   },
   {
    "duration": 1884,
    "start_time": "2021-10-05T08:07:56.886Z"
   },
   {
    "duration": 1002,
    "start_time": "2021-10-05T08:08:01.842Z"
   },
   {
    "duration": 10,
    "start_time": "2021-10-05T08:08:03.702Z"
   },
   {
    "duration": 22,
    "start_time": "2021-10-05T08:08:04.386Z"
   },
   {
    "duration": 5071,
    "start_time": "2021-10-05T08:09:00.255Z"
   },
   {
    "duration": 9,
    "start_time": "2021-10-05T08:09:23.111Z"
   },
   {
    "duration": 11,
    "start_time": "2021-10-05T08:10:15.860Z"
   },
   {
    "duration": 8458,
    "start_time": "2021-10-05T08:10:26.687Z"
   },
   {
    "duration": 572,
    "start_time": "2021-10-05T08:10:34.576Z"
   },
   {
    "duration": 5,
    "start_time": "2021-10-05T08:10:42.468Z"
   },
   {
    "duration": 925,
    "start_time": "2021-10-05T08:10:43.875Z"
   },
   {
    "duration": 10,
    "start_time": "2021-10-05T08:10:44.802Z"
   },
   {
    "duration": 20,
    "start_time": "2021-10-05T08:10:44.815Z"
   },
   {
    "duration": 143102,
    "start_time": "2021-10-05T08:10:46.431Z"
   },
   {
    "duration": 7,
    "start_time": "2021-10-05T08:13:09.536Z"
   },
   {
    "duration": 15,
    "start_time": "2021-10-05T08:13:09.546Z"
   },
   {
    "duration": 10205,
    "start_time": "2021-10-05T08:13:58.777Z"
   },
   {
    "duration": 588,
    "start_time": "2021-10-05T08:14:08.398Z"
   },
   {
    "duration": 921,
    "start_time": "2021-10-05T08:14:25.693Z"
   },
   {
    "duration": 8,
    "start_time": "2021-10-05T08:14:26.617Z"
   },
   {
    "duration": 40,
    "start_time": "2021-10-05T08:14:26.628Z"
   },
   {
    "duration": 2993,
    "start_time": "2021-10-05T08:14:28.153Z"
   },
   {
    "duration": 11,
    "start_time": "2021-10-05T08:14:31.149Z"
   },
   {
    "duration": 324,
    "start_time": "2021-10-05T08:15:15.641Z"
   },
   {
    "duration": 42,
    "start_time": "2021-10-05T08:15:24.673Z"
   },
   {
    "duration": 17649,
    "start_time": "2021-10-05T08:15:25.714Z"
   },
   {
    "duration": 328,
    "start_time": "2021-10-05T08:15:43.365Z"
   },
   {
    "duration": 5,
    "start_time": "2021-10-05T08:15:58.830Z"
   },
   {
    "duration": 6,
    "start_time": "2021-10-05T08:16:41.351Z"
   },
   {
    "duration": 962,
    "start_time": "2021-10-05T08:16:41.923Z"
   },
   {
    "duration": 9,
    "start_time": "2021-10-05T08:16:42.887Z"
   },
   {
    "duration": 21,
    "start_time": "2021-10-05T08:16:42.898Z"
   },
   {
    "duration": 5,
    "start_time": "2021-10-05T08:16:44.468Z"
   },
   {
    "duration": 14,
    "start_time": "2021-10-05T08:17:38.651Z"
   },
   {
    "duration": 14,
    "start_time": "2021-10-05T08:22:28.905Z"
   },
   {
    "duration": 6,
    "start_time": "2021-10-05T08:22:41.421Z"
   },
   {
    "duration": 990,
    "start_time": "2021-10-05T08:22:41.909Z"
   },
   {
    "duration": 8,
    "start_time": "2021-10-05T08:22:42.902Z"
   },
   {
    "duration": 20,
    "start_time": "2021-10-05T08:22:42.914Z"
   },
   {
    "duration": 17,
    "start_time": "2021-10-05T08:22:44.341Z"
   },
   {
    "duration": 357,
    "start_time": "2021-10-05T08:23:59.522Z"
   },
   {
    "duration": 7,
    "start_time": "2021-10-05T08:24:39.646Z"
   },
   {
    "duration": 919,
    "start_time": "2021-10-05T08:24:40.210Z"
   },
   {
    "duration": 9,
    "start_time": "2021-10-05T08:24:41.131Z"
   },
   {
    "duration": 21,
    "start_time": "2021-10-05T08:24:41.158Z"
   },
   {
    "duration": 35565,
    "start_time": "2021-10-05T08:29:15.853Z"
   },
   {
    "duration": 606,
    "start_time": "2021-10-05T08:29:50.814Z"
   },
   {
    "duration": 208713,
    "start_time": "2021-10-05T08:29:56.299Z"
   },
   {
    "duration": 6,
    "start_time": "2021-10-05T08:33:25.015Z"
   },
   {
    "duration": 6,
    "start_time": "2021-10-05T08:33:57.819Z"
   },
   {
    "duration": 920,
    "start_time": "2021-10-05T08:33:58.395Z"
   },
   {
    "duration": 10,
    "start_time": "2021-10-05T08:33:59.318Z"
   },
   {
    "duration": 40,
    "start_time": "2021-10-05T08:33:59.331Z"
   },
   {
    "duration": 206832,
    "start_time": "2021-10-05T08:34:00.644Z"
   },
   {
    "duration": 7,
    "start_time": "2021-10-05T08:37:27.479Z"
   },
   {
    "duration": 229,
    "start_time": "2021-10-05T11:47:22.287Z"
   },
   {
    "duration": 30,
    "start_time": "2021-10-05T11:47:44.092Z"
   },
   {
    "duration": 17196,
    "start_time": "2021-10-05T11:47:51.076Z"
   },
   {
    "duration": 1155,
    "start_time": "2022-01-30T11:35:07.973Z"
   },
   {
    "duration": 777,
    "start_time": "2022-01-30T11:35:09.130Z"
   },
   {
    "duration": 9,
    "start_time": "2022-01-30T11:35:09.912Z"
   },
   {
    "duration": 14,
    "start_time": "2022-01-30T11:35:09.924Z"
   },
   {
    "duration": 135146,
    "start_time": "2022-01-30T11:35:09.939Z"
   },
   {
    "duration": 5,
    "start_time": "2022-01-30T11:37:25.087Z"
   },
   {
    "duration": 52,
    "start_time": "2022-01-30T11:37:25.093Z"
   },
   {
    "duration": 2250073,
    "start_time": "2022-01-30T11:37:25.147Z"
   },
   {
    "duration": 820,
    "start_time": "2022-01-30T12:14:54.402Z"
   },
   {
    "duration": 813,
    "start_time": "2022-01-30T12:14:54.410Z"
   },
   {
    "duration": 810,
    "start_time": "2022-01-30T12:14:54.414Z"
   },
   {
    "duration": 806,
    "start_time": "2022-01-30T12:14:54.418Z"
   },
   {
    "duration": 802,
    "start_time": "2022-01-30T12:14:54.423Z"
   },
   {
    "duration": 799,
    "start_time": "2022-01-30T12:14:54.427Z"
   },
   {
    "duration": 1248,
    "start_time": "2022-01-30T12:24:50.103Z"
   },
   {
    "duration": 731,
    "start_time": "2022-01-30T12:24:51.352Z"
   },
   {
    "duration": 6,
    "start_time": "2022-01-30T12:24:52.085Z"
   },
   {
    "duration": 30,
    "start_time": "2022-01-30T12:24:52.093Z"
   },
   {
    "duration": 123481,
    "start_time": "2022-01-30T12:24:52.125Z"
   },
   {
    "duration": 7,
    "start_time": "2022-01-30T12:26:55.608Z"
   },
   {
    "duration": 30,
    "start_time": "2022-01-30T12:26:55.617Z"
   },
   {
    "duration": 1412867,
    "start_time": "2022-01-30T12:26:55.649Z"
   },
   {
    "duration": 742,
    "start_time": "2022-01-30T12:50:27.776Z"
   },
   {
    "duration": 737,
    "start_time": "2022-01-30T12:50:27.782Z"
   },
   {
    "duration": 735,
    "start_time": "2022-01-30T12:50:27.786Z"
   },
   {
    "duration": 729,
    "start_time": "2022-01-30T12:50:27.792Z"
   },
   {
    "duration": 726,
    "start_time": "2022-01-30T12:50:27.796Z"
   },
   {
    "duration": 724,
    "start_time": "2022-01-30T12:50:27.799Z"
   }
  ],
  "kernelspec": {
   "display_name": "Python 3 (ipykernel)",
   "language": "python",
   "name": "python3"
  },
  "language_info": {
   "codemirror_mode": {
    "name": "ipython",
    "version": 3
   },
   "file_extension": ".py",
   "mimetype": "text/x-python",
   "name": "python",
   "nbconvert_exporter": "python",
   "pygments_lexer": "ipython3",
   "version": "3.11.5"
  },
  "toc": {
   "base_numbering": 1,
   "nav_menu": {},
   "number_sections": true,
   "sideBar": true,
   "skip_h1_title": true,
   "title_cell": "Содержание",
   "title_sidebar": "Contents",
   "toc_cell": true,
   "toc_position": {
    "height": "calc(100% - 180px)",
    "left": "10px",
    "top": "150px",
    "width": "302.391px"
   },
   "toc_section_display": true,
   "toc_window_display": false
  }
 },
 "nbformat": 4,
 "nbformat_minor": 2
}
