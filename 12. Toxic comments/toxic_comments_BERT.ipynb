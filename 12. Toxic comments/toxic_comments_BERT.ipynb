{
 "cells": [
  {
   "cell_type": "markdown",
   "metadata": {},
   "source": [
    "# Выявление негативных комментарий с BERT\n",
    "\n",
    "Интернет-магазин запускает новый сервис. Теперь пользователи могут редактировать и дополнять описания товаров, как в вики-сообществах. То есть клиенты предлагают свои правки и комментируют изменения других.\n",
    "\n",
    "\n",
    "**Цель проекта:**\n",
    "\n",
    "Обучить модель классифицировать комментарии на позитивные и негативные на основе набора данных с разметкой о токсичности правок. Метрика качества *F1* должна быть не меньше 0.75. \n",
    "\n",
    "**Задачи:**\n",
    "\n",
    "1. Загрузите и подготовьте данные.\n",
    "2. Обучите разные модели. \n",
    "3. Сделайте выводы.\n",
    "\n",
    "**Описание данных**\n",
    "\n",
    "Данные находятся в файле `toxic_comments.csv`. Столбец *text* содержит текст комментария, а *toxic* — целевой признак."
   ]
  },
  {
   "cell_type": "markdown",
   "metadata": {},
   "source": [
    "<h1>Содержание<span class=\"tocSkip\"></span></h1>\n",
    "<div class=\"toc\"><li><span><a href=\"#Подготовка\" data-toc-modified-id=\"Подготовка-1\"><span class=\"toc-item-num\">1&nbsp;&nbsp;</span>Подготовка</a></span></li><li><span><a href=\"#Обучение\" data-toc-modified-id=\"Обучение-2\"><span class=\"toc-item-num\">2&nbsp;&nbsp;</span>Обучение</a></span></li><li><span><a href=\"#Выводы\" data-toc-modified-id=\"Выводы-3\"><span class=\"toc-item-num\">3&nbsp;&nbsp;</span>Выводы</a></span></ul></div>"
   ]
  },
  {
   "cell_type": "markdown",
   "metadata": {},
   "source": [
    "## Подготовка"
   ]
  },
  {
   "cell_type": "code",
   "execution_count": 3,
   "metadata": {
    "execution": {
     "iopub.execute_input": "2024-09-07T03:43:19.240396Z",
     "iopub.status.busy": "2024-09-07T03:43:19.240080Z",
     "iopub.status.idle": "2024-09-07T03:43:24.628869Z",
     "shell.execute_reply": "2024-09-07T03:43:24.628077Z",
     "shell.execute_reply.started": "2024-09-07T03:43:19.240363Z"
    }
   },
   "outputs": [],
   "source": [
    "import warnings\n",
    "warnings.filterwarnings('ignore')\n",
    "import pandas as pd\n",
    "import numpy as np\n",
    "import torch\n",
    "import transformers\n",
    "from tqdm import notebook\n",
    "from sklearn.linear_model import LogisticRegression\n",
    "from sklearn.model_selection import train_test_split, cross_val_score, GridSearchCV\n",
    "from sklearn.metrics import f1_score\n",
    "from sklearn.ensemble import RandomForestClassifier\n",
    "from sklearn.tree import DecisionTreeClassifier\n",
    "from catboost import CatBoostClassifier"
   ]
  },
  {
   "cell_type": "code",
   "execution_count": 4,
   "metadata": {
    "execution": {
     "iopub.execute_input": "2024-09-07T03:43:24.632288Z",
     "iopub.status.busy": "2024-09-07T03:43:24.631389Z",
     "iopub.status.idle": "2024-09-07T03:43:24.697515Z",
     "shell.execute_reply": "2024-09-07T03:43:24.696513Z",
     "shell.execute_reply.started": "2024-09-07T03:43:24.632240Z"
    }
   },
   "outputs": [
    {
     "data": {
      "text/plain": [
       "True"
      ]
     },
     "execution_count": 4,
     "metadata": {},
     "output_type": "execute_result"
    }
   ],
   "source": [
    "torch.cuda.is_available()"
   ]
  },
  {
   "cell_type": "code",
   "execution_count": 5,
   "metadata": {
    "execution": {
     "iopub.execute_input": "2024-09-07T03:43:24.699222Z",
     "iopub.status.busy": "2024-09-07T03:43:24.698848Z",
     "iopub.status.idle": "2024-09-07T03:43:26.492097Z",
     "shell.execute_reply": "2024-09-07T03:43:26.491123Z",
     "shell.execute_reply.started": "2024-09-07T03:43:24.699187Z"
    }
   },
   "outputs": [
    {
     "data": {
      "text/html": [
       "<div>\n",
       "<style scoped>\n",
       "    .dataframe tbody tr th:only-of-type {\n",
       "        vertical-align: middle;\n",
       "    }\n",
       "\n",
       "    .dataframe tbody tr th {\n",
       "        vertical-align: top;\n",
       "    }\n",
       "\n",
       "    .dataframe thead th {\n",
       "        text-align: right;\n",
       "    }\n",
       "</style>\n",
       "<table border=\"1\" class=\"dataframe\">\n",
       "  <thead>\n",
       "    <tr style=\"text-align: right;\">\n",
       "      <th></th>\n",
       "      <th>text</th>\n",
       "      <th>toxic</th>\n",
       "    </tr>\n",
       "  </thead>\n",
       "  <tbody>\n",
       "    <tr>\n",
       "      <th>0</th>\n",
       "      <td>Explanation\\nWhy the edits made under my usern...</td>\n",
       "      <td>0</td>\n",
       "    </tr>\n",
       "    <tr>\n",
       "      <th>1</th>\n",
       "      <td>D'aww! He matches this background colour I'm s...</td>\n",
       "      <td>0</td>\n",
       "    </tr>\n",
       "    <tr>\n",
       "      <th>2</th>\n",
       "      <td>Hey man, I'm really not trying to edit war. It...</td>\n",
       "      <td>0</td>\n",
       "    </tr>\n",
       "    <tr>\n",
       "      <th>3</th>\n",
       "      <td>\"\\nMore\\nI can't make any real suggestions on ...</td>\n",
       "      <td>0</td>\n",
       "    </tr>\n",
       "    <tr>\n",
       "      <th>4</th>\n",
       "      <td>You, sir, are my hero. Any chance you remember...</td>\n",
       "      <td>0</td>\n",
       "    </tr>\n",
       "    <tr>\n",
       "      <th>5</th>\n",
       "      <td>\"\\n\\nCongratulations from me as well, use the ...</td>\n",
       "      <td>0</td>\n",
       "    </tr>\n",
       "    <tr>\n",
       "      <th>6</th>\n",
       "      <td>COCKSUCKER BEFORE YOU PISS AROUND ON MY WORK</td>\n",
       "      <td>1</td>\n",
       "    </tr>\n",
       "    <tr>\n",
       "      <th>7</th>\n",
       "      <td>Your vandalism to the Matt Shirvington article...</td>\n",
       "      <td>0</td>\n",
       "    </tr>\n",
       "    <tr>\n",
       "      <th>8</th>\n",
       "      <td>Sorry if the word 'nonsense' was offensive to ...</td>\n",
       "      <td>0</td>\n",
       "    </tr>\n",
       "    <tr>\n",
       "      <th>9</th>\n",
       "      <td>alignment on this subject and which are contra...</td>\n",
       "      <td>0</td>\n",
       "    </tr>\n",
       "  </tbody>\n",
       "</table>\n",
       "</div>"
      ],
      "text/plain": [
       "                                                text  toxic\n",
       "0  Explanation\\nWhy the edits made under my usern...      0\n",
       "1  D'aww! He matches this background colour I'm s...      0\n",
       "2  Hey man, I'm really not trying to edit war. It...      0\n",
       "3  \"\\nMore\\nI can't make any real suggestions on ...      0\n",
       "4  You, sir, are my hero. Any chance you remember...      0\n",
       "5  \"\\n\\nCongratulations from me as well, use the ...      0\n",
       "6       COCKSUCKER BEFORE YOU PISS AROUND ON MY WORK      1\n",
       "7  Your vandalism to the Matt Shirvington article...      0\n",
       "8  Sorry if the word 'nonsense' was offensive to ...      0\n",
       "9  alignment on this subject and which are contra...      0"
      ]
     },
     "metadata": {},
     "output_type": "display_data"
    },
    {
     "name": "stdout",
     "output_type": "stream",
     "text": [
      "<class 'pandas.core.frame.DataFrame'>\n",
      "RangeIndex: 159571 entries, 0 to 159570\n",
      "Data columns (total 2 columns):\n",
      " #   Column  Non-Null Count   Dtype \n",
      "---  ------  --------------   ----- \n",
      " 0   text    159571 non-null  object\n",
      " 1   toxic   159571 non-null  int64 \n",
      "dtypes: int64(1), object(1)\n",
      "memory usage: 80.1 MB\n"
     ]
    }
   ],
   "source": [
    "df = pd.read_csv('/kaggle/input/toxic-coments/toxic_comments.csv')\n",
    "display(df.head(10))\n",
    "df.info(memory_usage='deep')"
   ]
  },
  {
   "cell_type": "markdown",
   "metadata": {},
   "source": [
    "Загрузим предварительно обученную модель и токенизатор BERT. В данном случае используется модель, которая была обучена на выявление токсичных комментариев (toxic-bert)."
   ]
  },
  {
   "cell_type": "code",
   "execution_count": 6,
   "metadata": {
    "execution": {
     "iopub.execute_input": "2024-09-07T03:43:26.493565Z",
     "iopub.status.busy": "2024-09-07T03:43:26.493256Z",
     "iopub.status.idle": "2024-09-07T03:43:31.147585Z",
     "shell.execute_reply": "2024-09-07T03:43:31.146809Z",
     "shell.execute_reply.started": "2024-09-07T03:43:26.493525Z"
    }
   },
   "outputs": [
    {
     "data": {
      "application/vnd.jupyter.widget-view+json": {
       "model_id": "757aebc1f2fc4ddbb532c0054f84ba67",
       "version_major": 2,
       "version_minor": 0
      },
      "text/plain": [
       "tokenizer_config.json:   0%|          | 0.00/174 [00:00<?, ?B/s]"
      ]
     },
     "metadata": {},
     "output_type": "display_data"
    },
    {
     "data": {
      "application/vnd.jupyter.widget-view+json": {
       "model_id": "a0de9d47bb094fd0bddf96ee9d96afd0",
       "version_major": 2,
       "version_minor": 0
      },
      "text/plain": [
       "vocab.txt:   0%|          | 0.00/232k [00:00<?, ?B/s]"
      ]
     },
     "metadata": {},
     "output_type": "display_data"
    },
    {
     "data": {
      "application/vnd.jupyter.widget-view+json": {
       "model_id": "8ee88e87877441e9a8878283b4b48a16",
       "version_major": 2,
       "version_minor": 0
      },
      "text/plain": [
       "special_tokens_map.json:   0%|          | 0.00/112 [00:00<?, ?B/s]"
      ]
     },
     "metadata": {},
     "output_type": "display_data"
    },
    {
     "data": {
      "application/vnd.jupyter.widget-view+json": {
       "model_id": "c2c33462b82d43f19073a08248c5faa1",
       "version_major": 2,
       "version_minor": 0
      },
      "text/plain": [
       "config.json:   0%|          | 0.00/811 [00:00<?, ?B/s]"
      ]
     },
     "metadata": {},
     "output_type": "display_data"
    },
    {
     "data": {
      "application/vnd.jupyter.widget-view+json": {
       "model_id": "d5daf94e52e74da38963f13a63417945",
       "version_major": 2,
       "version_minor": 0
      },
      "text/plain": [
       "model.safetensors:   0%|          | 0.00/438M [00:00<?, ?B/s]"
      ]
     },
     "metadata": {},
     "output_type": "display_data"
    }
   ],
   "source": [
    "model_class, tokenizer_class, pretrained_weights = (transformers.BertModel,\n",
    "                                                    transformers.BertTokenizer,\n",
    "                                                    'unitary/toxic-bert')\n",
    "\n",
    "\n",
    "tokenizer = tokenizer_class.from_pretrained(pretrained_weights)\n",
    "\n",
    "model = model_class.from_pretrained(pretrained_weights)"
   ]
  },
  {
   "cell_type": "markdown",
   "metadata": {},
   "source": [
    "Произведем токенизацию текстов и создадим маску"
   ]
  },
  {
   "cell_type": "code",
   "execution_count": 7,
   "metadata": {
    "execution": {
     "iopub.execute_input": "2024-09-07T03:43:31.149425Z",
     "iopub.status.busy": "2024-09-07T03:43:31.148858Z",
     "iopub.status.idle": "2024-09-07T03:50:50.117590Z",
     "shell.execute_reply": "2024-09-07T03:50:50.116776Z",
     "shell.execute_reply.started": "2024-09-07T03:43:31.149380Z"
    }
   },
   "outputs": [],
   "source": [
    "tokenized = df['text'].apply(\n",
    "    lambda x: tokenizer.encode(x, add_special_tokens=True, truncation=True, max_length=512))\n",
    "max_len = 0\n",
    "for i in tokenized.values:\n",
    "    if len(i) > max_len:\n",
    "        max_len = len(i)\n",
    "\n",
    "padded = np.array([i + [0]*(max_len - len(i)) for i in tokenized.values])\n",
    "\n",
    "attention_mask = np.where(padded != 0, 1, 0)"
   ]
  },
  {
   "cell_type": "markdown",
   "metadata": {},
   "source": [
    "Извелечем эмбеддинги используя GPU"
   ]
  },
  {
   "cell_type": "code",
   "execution_count": 8,
   "metadata": {
    "execution": {
     "iopub.execute_input": "2024-09-07T03:50:50.119058Z",
     "iopub.status.busy": "2024-09-07T03:50:50.118732Z",
     "iopub.status.idle": "2024-09-07T05:02:28.675449Z",
     "shell.execute_reply": "2024-09-07T05:02:28.674499Z",
     "shell.execute_reply.started": "2024-09-07T03:50:50.119025Z"
    }
   },
   "outputs": [
    {
     "data": {
      "application/vnd.jupyter.widget-view+json": {
       "model_id": "572de05e5f044a97beb0fe0e5dae0382",
       "version_major": 2,
       "version_minor": 0
      },
      "text/plain": [
       "  0%|          | 0/1595 [00:00<?, ?it/s]"
      ]
     },
     "metadata": {},
     "output_type": "display_data"
    },
    {
     "name": "stdout",
     "output_type": "stream",
     "text": [
      "CPU times: user 1h 11min 38s, sys: 2.18 s, total: 1h 11min 40s\n",
      "Wall time: 1h 11min 38s\n"
     ]
    }
   ],
   "source": [
    "%%time\n",
    "batch_size = 100\n",
    "embeddings = []\n",
    "for i in notebook.tqdm(range(padded.shape[0] // batch_size)):\n",
    "        batch = torch.LongTensor(padded[batch_size*i:batch_size*(i+1)]).cuda()\n",
    "        attention_mask_batch = torch.LongTensor(attention_mask[batch_size*i:batch_size*(i+1)]).cuda()\n",
    "\n",
    "        with torch.no_grad():\n",
    "            model.cuda()\n",
    "            batch_embeddings = model(batch, attention_mask=attention_mask_batch)\n",
    "\n",
    "        embeddings.append(batch_embeddings[0][:,0,:].cpu().numpy())\n",
    "        del batch\n",
    "        del attention_mask_batch\n",
    "        del batch_embeddings"
   ]
  },
  {
   "cell_type": "code",
   "execution_count": 9,
   "metadata": {
    "execution": {
     "iopub.execute_input": "2024-09-07T05:02:28.678094Z",
     "iopub.status.busy": "2024-09-07T05:02:28.677048Z",
     "iopub.status.idle": "2024-09-07T05:02:28.834327Z",
     "shell.execute_reply": "2024-09-07T05:02:28.833535Z",
     "shell.execute_reply.started": "2024-09-07T05:02:28.678047Z"
    }
   },
   "outputs": [],
   "source": [
    "features = np.concatenate(embeddings)"
   ]
  },
  {
   "cell_type": "markdown",
   "metadata": {},
   "source": [
    "Выделим обучающую и тестовую выборки"
   ]
  },
  {
   "cell_type": "code",
   "execution_count": 10,
   "metadata": {
    "execution": {
     "iopub.execute_input": "2024-09-07T05:02:28.837590Z",
     "iopub.status.busy": "2024-09-07T05:02:28.837271Z",
     "iopub.status.idle": "2024-09-07T05:02:28.842669Z",
     "shell.execute_reply": "2024-09-07T05:02:28.841744Z",
     "shell.execute_reply.started": "2024-09-07T05:02:28.837550Z"
    }
   },
   "outputs": [],
   "source": [
    "target = df['toxic']\n",
    "target = target.iloc[:len(features)]"
   ]
  },
  {
   "cell_type": "code",
   "execution_count": 11,
   "metadata": {
    "execution": {
     "iopub.execute_input": "2024-09-07T05:02:28.844211Z",
     "iopub.status.busy": "2024-09-07T05:02:28.843849Z",
     "iopub.status.idle": "2024-09-07T05:02:29.023001Z",
     "shell.execute_reply": "2024-09-07T05:02:29.022128Z",
     "shell.execute_reply.started": "2024-09-07T05:02:28.844164Z"
    }
   },
   "outputs": [],
   "source": [
    "features_train, features_test, target_train, target_test = (\n",
    "    train_test_split(features, target, test_size=0.2, random_state=42))"
   ]
  },
  {
   "cell_type": "markdown",
   "metadata": {},
   "source": [
    "## Обучение"
   ]
  },
  {
   "cell_type": "markdown",
   "metadata": {},
   "source": [
    "Для обучения используем модели LogisticRegression, DecisionTreeClassifier, CatBoost."
   ]
  },
  {
   "cell_type": "markdown",
   "metadata": {},
   "source": [
    "**Модель LogisticRegression**"
   ]
  },
  {
   "cell_type": "code",
   "execution_count": 12,
   "metadata": {
    "execution": {
     "iopub.execute_input": "2024-09-07T05:02:29.024589Z",
     "iopub.status.busy": "2024-09-07T05:02:29.024252Z",
     "iopub.status.idle": "2024-09-07T05:02:37.672017Z",
     "shell.execute_reply": "2024-09-07T05:02:37.670646Z",
     "shell.execute_reply.started": "2024-09-07T05:02:29.024548Z"
    }
   },
   "outputs": [
    {
     "name": "stdout",
     "output_type": "stream",
     "text": [
      "Показатель f1 на тестовой выборке: 0.95\n",
      "CPU times: user 30.6 s, sys: 2.7 s, total: 33.3 s\n",
      "Wall time: 8.64 s\n"
     ]
    }
   ],
   "source": [
    "%%time\n",
    "model_regression = LogisticRegression(C = 12, random_state=42)\n",
    "model_regression.fit(features_train, target_train)\n",
    "predict = model_regression.predict(features_test)\n",
    "f1_lr = f1_score(target_test, predict)\n",
    "\n",
    "print(f\"Показатель f1 на тестовой выборке: {f1_lr:.2f}\")"
   ]
  },
  {
   "cell_type": "markdown",
   "metadata": {},
   "source": [
    "**Модель DecisionTreeClassifier**"
   ]
  },
  {
   "cell_type": "code",
   "execution_count": 13,
   "metadata": {
    "execution": {
     "iopub.execute_input": "2024-09-07T05:02:37.675047Z",
     "iopub.status.busy": "2024-09-07T05:02:37.674209Z",
     "iopub.status.idle": "2024-09-07T05:03:39.279200Z",
     "shell.execute_reply": "2024-09-07T05:03:39.278216Z",
     "shell.execute_reply.started": "2024-09-07T05:02:37.674976Z"
    }
   },
   "outputs": [
    {
     "name": "stdout",
     "output_type": "stream",
     "text": [
      "Показатель f1 на тестовой выборке: 0.94\n",
      "CPU times: user 1min 1s, sys: 148 ms, total: 1min 1s\n",
      "Wall time: 1min 1s\n"
     ]
    }
   ],
   "source": [
    "%%time\n",
    "model_DTC = DecisionTreeClassifier(max_depth = 4, random_state=42)\n",
    "model_DTC.fit(features_train, target_train)\n",
    "predict = model_DTC.predict(features_test)\n",
    "f1_DTC = f1_score(target_test, predict)\n",
    "print(f\"Показатель f1 на тестовой выборке: {f1_DTC:.2f}\")"
   ]
  },
  {
   "cell_type": "markdown",
   "metadata": {},
   "source": [
    "**Модель CatBoost**"
   ]
  },
  {
   "cell_type": "code",
   "execution_count": 14,
   "metadata": {
    "execution": {
     "iopub.execute_input": "2024-09-07T05:03:39.280624Z",
     "iopub.status.busy": "2024-09-07T05:03:39.280308Z",
     "iopub.status.idle": "2024-09-07T05:04:11.993573Z",
     "shell.execute_reply": "2024-09-07T05:04:11.992643Z",
     "shell.execute_reply.started": "2024-09-07T05:03:39.280590Z"
    }
   },
   "outputs": [
    {
     "name": "stdout",
     "output_type": "stream",
     "text": [
      "Показатель f1 на тестовой выборке: 0.94\n",
      "CPU times: user 2min 5s, sys: 1.21 s, total: 2min 6s\n",
      "Wall time: 32.7 s\n"
     ]
    }
   ],
   "source": [
    "%%time\n",
    "model_CBC = CatBoostClassifier(verbose=False, iterations=100)\n",
    "model_CBC.fit(features_train, target_train)\n",
    "target_predict = model_CBC.predict(features_test)\n",
    "f1_CBC = f1_score(target_test, target_predict)\n",
    "\n",
    "print(f\"Показатель f1 на тестовой выборке: {f1_CBC:.2f}\")"
   ]
  },
  {
   "cell_type": "markdown",
   "metadata": {},
   "source": [
    "**Вывод** \n",
    "\n",
    "В данном пункте были обучены модели LogisticRegression, DecisionTreeClassifier, CatBoost. Результаты F1 данных моделей приведены в таблице ниже:"
   ]
  },
  {
   "cell_type": "code",
   "execution_count": 16,
   "metadata": {
    "execution": {
     "iopub.execute_input": "2024-09-07T05:08:03.509977Z",
     "iopub.status.busy": "2024-09-07T05:08:03.509510Z",
     "iopub.status.idle": "2024-09-07T05:08:03.521082Z",
     "shell.execute_reply": "2024-09-07T05:08:03.520106Z",
     "shell.execute_reply.started": "2024-09-07T05:08:03.509936Z"
    }
   },
   "outputs": [
    {
     "data": {
      "text/html": [
       "<div>\n",
       "<style scoped>\n",
       "    .dataframe tbody tr th:only-of-type {\n",
       "        vertical-align: middle;\n",
       "    }\n",
       "\n",
       "    .dataframe tbody tr th {\n",
       "        vertical-align: top;\n",
       "    }\n",
       "\n",
       "    .dataframe thead th {\n",
       "        text-align: right;\n",
       "    }\n",
       "</style>\n",
       "<table border=\"1\" class=\"dataframe\">\n",
       "  <thead>\n",
       "    <tr style=\"text-align: right;\">\n",
       "      <th></th>\n",
       "      <th>Показатель f1 на тестовой выборке</th>\n",
       "    </tr>\n",
       "  </thead>\n",
       "  <tbody>\n",
       "    <tr>\n",
       "      <th>LogisticRegression</th>\n",
       "      <td>0.948016</td>\n",
       "    </tr>\n",
       "    <tr>\n",
       "      <th>DecisionTreeClassifier</th>\n",
       "      <td>0.938547</td>\n",
       "    </tr>\n",
       "    <tr>\n",
       "      <th>CatBoost</th>\n",
       "      <td>0.943617</td>\n",
       "    </tr>\n",
       "  </tbody>\n",
       "</table>\n",
       "</div>"
      ],
      "text/plain": [
       "                        Показатель f1 на тестовой выборке\n",
       "LogisticRegression                               0.948016\n",
       "DecisionTreeClassifier                           0.938547\n",
       "CatBoost                                         0.943617"
      ]
     },
     "execution_count": 16,
     "metadata": {},
     "output_type": "execute_result"
    }
   ],
   "source": [
    "d = ({ 'Показатель f1 на тестовой выборке':[f1_lr, f1_DTC, f1_CBC]\n",
    "      })\n",
    "data = pd.DataFrame(data=d, index=['LogisticRegression','DecisionTreeClassifier','CatBoost'])\n",
    "data"
   ]
  },
  {
   "cell_type": "markdown",
   "metadata": {},
   "source": [
    "По качеству метрики f1 по времени наилучшей моделью оказалась LogisticRegression (f1 = 0.95)."
   ]
  },
  {
   "cell_type": "markdown",
   "metadata": {},
   "source": [
    "## Выводы"
   ]
  },
  {
   "cell_type": "markdown",
   "metadata": {},
   "source": [
    "В ходе выполнения проекта о построении модели для выявления токсичных комментариев сделано следующее:\n",
    "\n",
    "1) подготовлены данные к обучению. С помошью модели BERT произведена токенизация, созданая маска внивания и извлечены эмбеддинги.\n",
    "\n",
    "2) обучены модели LogisticRegression, DecisionTreeClassifier, CatBoost. По качеству метрики f1 и по времени наилучшей моделью оказалась LogisticRegression (f1 = 0.95)."
   ]
  },
  {
   "cell_type": "code",
   "execution_count": null,
   "metadata": {},
   "outputs": [],
   "source": []
  }
 ],
 "metadata": {
  "kaggle": {
   "accelerator": "nvidiaTeslaT4",
   "dataSources": [
    {
     "datasetId": 5642117,
     "sourceId": 9315481,
     "sourceType": "datasetVersion"
    }
   ],
   "dockerImageVersionId": 30762,
   "isGpuEnabled": true,
   "isInternetEnabled": true,
   "language": "python",
   "sourceType": "notebook"
  },
  "kernelspec": {
   "display_name": "Python 3 (ipykernel)",
   "language": "python",
   "name": "python3"
  },
  "language_info": {
   "codemirror_mode": {
    "name": "ipython",
    "version": 3
   },
   "file_extension": ".py",
   "mimetype": "text/x-python",
   "name": "python",
   "nbconvert_exporter": "python",
   "pygments_lexer": "ipython3",
   "version": "3.11.5"
  }
 },
 "nbformat": 4,
 "nbformat_minor": 4
}
