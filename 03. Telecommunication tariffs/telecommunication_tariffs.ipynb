{
 "cells": [
  {
   "cell_type": "markdown",
   "metadata": {},
   "source": [
    "# Перспективный тариф для телеком компании\n",
    "\n",
    "Оператор сотовой связи, предлагают два тарифных плана: «Смарт» и «Ультра». В данном проекте определим, для коммерческого департамента, какой тариф приносит больше денег.\n",
    "\n",
    "В нашем распоряжении данные 500 пользователей «Мегалайна» представленные в 6 файлах, в которых указаны информация об используемых тарифах, звонках, сообщениях, интернет трафике за 2018 год. Цель проекта — проанализировать поведение клиентов и сделать вывод — какой тариф лучше. Задачи, которые предстоит при этом сделать:\n",
    "- Предобработка данных (замена типов данных, исправление и удаление ошибочных данных);\n",
    "- Расчет характеристик пользователей;\n",
    "- Анализ поведения клиентов (расчет среднего, дисперсии и стандартного отклонения, построение гистограмм);\n",
    "- Проверка гипотез (средняя выручка пользователей тарифов различается и средняя выручка пользователей из Москвы отличается от выручки пользователей из других регионов);\n",
    "- Сформулировать общий вывод по проекту."
   ]
  },
  {
   "cell_type": "markdown",
   "metadata": {},
   "source": [
    "## Оглавление\n",
    "\n",
    "1. [Открытие файлов](#start)\n",
    "    \n",
    "    1.1. [Просомотр таблицы df_calls](#df_calls)\n",
    "    \n",
    "    1.2. [Просомотр таблицы df_internet](#df_internet)    \n",
    "    \n",
    "    1.3. [Просомотр таблицы df_messages](#df_messages)\n",
    "    \n",
    "    1.4. [Просомотр таблицы df_tariffs](#df_tariffs)\n",
    "    \n",
    "    1.5. [Просомотр таблицы df_users](#df_users)\n",
    "\n",
    "\n",
    "2. [Предобработка данных](#preprocessing_data)\n",
    "    \n",
    "    2.1. [Замена типов данных](#change_data)\n",
    "    \n",
    "    2.2. [Расчет характеричтик пользователей](#calculations)\n",
    "    \n",
    "\n",
    "3. [Анализ данные](#analyse)\n",
    "    \n",
    "    3.1. [Анализ длительности звонков](#analyse_calls)\n",
    "    \n",
    "    3.2. [Анализ отправленных сообщений](#analyse_messages)\n",
    "    \n",
    "    3.3. [Анализ интернет-трафика](#analyse_internet)\n",
    "   \n",
    "   \n",
    "4. [Проверка гипотез](#hypotheses)\n",
    "\n",
    "\n",
    "5. [Общий выводы](#conclusions)\n"
   ]
  },
  {
   "cell_type": "markdown",
   "metadata": {},
   "source": [
    "## 1. Открытие файлов <a id=\"start\"></a> "
   ]
  },
  {
   "cell_type": "code",
   "execution_count": 1,
   "metadata": {},
   "outputs": [],
   "source": [
    "#Открытие библиотек\n",
    "import pandas as pd\n",
    "import numpy as np \n",
    "import matplotlib.pyplot as plt\n",
    "from scipy import stats as st"
   ]
  },
  {
   "cell_type": "code",
   "execution_count": 2,
   "metadata": {},
   "outputs": [],
   "source": [
    "#Открытие файлов\n",
    "df_calls = pd.read_csv('/datasets/calls.csv')\n",
    "df_internet = pd.read_csv('/datasets/internet.csv', index_col=0)\n",
    "df_messages = pd.read_csv('/datasets/messages.csv')\n",
    "df_tariffs = pd.read_csv('/datasets/tariffs.csv')\n",
    "df_users = pd.read_csv('/datasets/users.csv')"
   ]
  },
  {
   "cell_type": "markdown",
   "metadata": {},
   "source": [
    "### 1.1. Просомотр таблицы df_calls <a id=\"df_calls\"></a> "
   ]
  },
  {
   "cell_type": "code",
   "execution_count": 3,
   "metadata": {},
   "outputs": [
    {
     "data": {
      "text/html": [
       "<div>\n",
       "<style scoped>\n",
       "    .dataframe tbody tr th:only-of-type {\n",
       "        vertical-align: middle;\n",
       "    }\n",
       "\n",
       "    .dataframe tbody tr th {\n",
       "        vertical-align: top;\n",
       "    }\n",
       "\n",
       "    .dataframe thead th {\n",
       "        text-align: right;\n",
       "    }\n",
       "</style>\n",
       "<table border=\"1\" class=\"dataframe\">\n",
       "  <thead>\n",
       "    <tr style=\"text-align: right;\">\n",
       "      <th></th>\n",
       "      <th>id</th>\n",
       "      <th>call_date</th>\n",
       "      <th>duration</th>\n",
       "      <th>user_id</th>\n",
       "    </tr>\n",
       "  </thead>\n",
       "  <tbody>\n",
       "    <tr>\n",
       "      <td>0</td>\n",
       "      <td>1000_0</td>\n",
       "      <td>2018-07-25</td>\n",
       "      <td>0.00</td>\n",
       "      <td>1000</td>\n",
       "    </tr>\n",
       "    <tr>\n",
       "      <td>1</td>\n",
       "      <td>1000_1</td>\n",
       "      <td>2018-08-17</td>\n",
       "      <td>0.00</td>\n",
       "      <td>1000</td>\n",
       "    </tr>\n",
       "    <tr>\n",
       "      <td>2</td>\n",
       "      <td>1000_2</td>\n",
       "      <td>2018-06-11</td>\n",
       "      <td>2.85</td>\n",
       "      <td>1000</td>\n",
       "    </tr>\n",
       "    <tr>\n",
       "      <td>3</td>\n",
       "      <td>1000_3</td>\n",
       "      <td>2018-09-21</td>\n",
       "      <td>13.80</td>\n",
       "      <td>1000</td>\n",
       "    </tr>\n",
       "    <tr>\n",
       "      <td>4</td>\n",
       "      <td>1000_4</td>\n",
       "      <td>2018-12-15</td>\n",
       "      <td>5.18</td>\n",
       "      <td>1000</td>\n",
       "    </tr>\n",
       "  </tbody>\n",
       "</table>\n",
       "</div>"
      ],
      "text/plain": [
       "       id   call_date  duration  user_id\n",
       "0  1000_0  2018-07-25      0.00     1000\n",
       "1  1000_1  2018-08-17      0.00     1000\n",
       "2  1000_2  2018-06-11      2.85     1000\n",
       "3  1000_3  2018-09-21     13.80     1000\n",
       "4  1000_4  2018-12-15      5.18     1000"
      ]
     },
     "execution_count": 3,
     "metadata": {},
     "output_type": "execute_result"
    }
   ],
   "source": [
    "#Просмотр таблицы звонков\n",
    "df_calls.head()"
   ]
  },
  {
   "cell_type": "code",
   "execution_count": 4,
   "metadata": {},
   "outputs": [
    {
     "name": "stdout",
     "output_type": "stream",
     "text": [
      "<class 'pandas.core.frame.DataFrame'>\n",
      "RangeIndex: 202607 entries, 0 to 202606\n",
      "Data columns (total 4 columns):\n",
      "id           202607 non-null object\n",
      "call_date    202607 non-null object\n",
      "duration     202607 non-null float64\n",
      "user_id      202607 non-null int64\n",
      "dtypes: float64(1), int64(1), object(2)\n",
      "memory usage: 28.6 MB\n"
     ]
    }
   ],
   "source": [
    "df_calls.info(memory_usage='deep')"
   ]
  },
  {
   "cell_type": "code",
   "execution_count": 5,
   "metadata": {},
   "outputs": [
    {
     "data": {
      "text/html": [
       "<div>\n",
       "<style scoped>\n",
       "    .dataframe tbody tr th:only-of-type {\n",
       "        vertical-align: middle;\n",
       "    }\n",
       "\n",
       "    .dataframe tbody tr th {\n",
       "        vertical-align: top;\n",
       "    }\n",
       "\n",
       "    .dataframe thead th {\n",
       "        text-align: right;\n",
       "    }\n",
       "</style>\n",
       "<table border=\"1\" class=\"dataframe\">\n",
       "  <thead>\n",
       "    <tr style=\"text-align: right;\">\n",
       "      <th></th>\n",
       "      <th>duration</th>\n",
       "      <th>user_id</th>\n",
       "    </tr>\n",
       "  </thead>\n",
       "  <tbody>\n",
       "    <tr>\n",
       "      <td>count</td>\n",
       "      <td>202607.000000</td>\n",
       "      <td>202607.000000</td>\n",
       "    </tr>\n",
       "    <tr>\n",
       "      <td>mean</td>\n",
       "      <td>6.755887</td>\n",
       "      <td>1253.940619</td>\n",
       "    </tr>\n",
       "    <tr>\n",
       "      <td>std</td>\n",
       "      <td>5.843365</td>\n",
       "      <td>144.722751</td>\n",
       "    </tr>\n",
       "    <tr>\n",
       "      <td>min</td>\n",
       "      <td>0.000000</td>\n",
       "      <td>1000.000000</td>\n",
       "    </tr>\n",
       "    <tr>\n",
       "      <td>25%</td>\n",
       "      <td>1.300000</td>\n",
       "      <td>1126.000000</td>\n",
       "    </tr>\n",
       "    <tr>\n",
       "      <td>50%</td>\n",
       "      <td>6.000000</td>\n",
       "      <td>1260.000000</td>\n",
       "    </tr>\n",
       "    <tr>\n",
       "      <td>75%</td>\n",
       "      <td>10.700000</td>\n",
       "      <td>1379.000000</td>\n",
       "    </tr>\n",
       "    <tr>\n",
       "      <td>max</td>\n",
       "      <td>38.000000</td>\n",
       "      <td>1499.000000</td>\n",
       "    </tr>\n",
       "  </tbody>\n",
       "</table>\n",
       "</div>"
      ],
      "text/plain": [
       "            duration        user_id\n",
       "count  202607.000000  202607.000000\n",
       "mean        6.755887    1253.940619\n",
       "std         5.843365     144.722751\n",
       "min         0.000000    1000.000000\n",
       "25%         1.300000    1126.000000\n",
       "50%         6.000000    1260.000000\n",
       "75%        10.700000    1379.000000\n",
       "max        38.000000    1499.000000"
      ]
     },
     "execution_count": 5,
     "metadata": {},
     "output_type": "execute_result"
    }
   ],
   "source": [
    "df_calls.describe()"
   ]
  },
  {
   "cell_type": "markdown",
   "metadata": {},
   "source": [
    "Проблемы, выявленные в файле df_calls:\n",
    "\n",
    "* Столбец call_date не в формате даты;\n",
    "* Для уменьшения общей размерности файла можно перевести столбец id с типа object к типу int, также оптимизировать типы столбцов duration и user_id;\n",
    "* В столбце duration (длительность звонка) обнаружены нулевые значения, которые являются пропущенными вызовами, следовательно, обрабатывать их не нужно."
   ]
  },
  {
   "cell_type": "markdown",
   "metadata": {},
   "source": [
    "### 1.2. Просомотр таблицы df_internet <a id=\"df_internet\"></a> "
   ]
  },
  {
   "cell_type": "code",
   "execution_count": 6,
   "metadata": {},
   "outputs": [
    {
     "data": {
      "text/html": [
       "<div>\n",
       "<style scoped>\n",
       "    .dataframe tbody tr th:only-of-type {\n",
       "        vertical-align: middle;\n",
       "    }\n",
       "\n",
       "    .dataframe tbody tr th {\n",
       "        vertical-align: top;\n",
       "    }\n",
       "\n",
       "    .dataframe thead th {\n",
       "        text-align: right;\n",
       "    }\n",
       "</style>\n",
       "<table border=\"1\" class=\"dataframe\">\n",
       "  <thead>\n",
       "    <tr style=\"text-align: right;\">\n",
       "      <th></th>\n",
       "      <th>id</th>\n",
       "      <th>mb_used</th>\n",
       "      <th>session_date</th>\n",
       "      <th>user_id</th>\n",
       "    </tr>\n",
       "  </thead>\n",
       "  <tbody>\n",
       "    <tr>\n",
       "      <td>0</td>\n",
       "      <td>1000_0</td>\n",
       "      <td>112.95</td>\n",
       "      <td>2018-11-25</td>\n",
       "      <td>1000</td>\n",
       "    </tr>\n",
       "    <tr>\n",
       "      <td>1</td>\n",
       "      <td>1000_1</td>\n",
       "      <td>1052.81</td>\n",
       "      <td>2018-09-07</td>\n",
       "      <td>1000</td>\n",
       "    </tr>\n",
       "    <tr>\n",
       "      <td>2</td>\n",
       "      <td>1000_2</td>\n",
       "      <td>1197.26</td>\n",
       "      <td>2018-06-25</td>\n",
       "      <td>1000</td>\n",
       "    </tr>\n",
       "    <tr>\n",
       "      <td>3</td>\n",
       "      <td>1000_3</td>\n",
       "      <td>550.27</td>\n",
       "      <td>2018-08-22</td>\n",
       "      <td>1000</td>\n",
       "    </tr>\n",
       "    <tr>\n",
       "      <td>4</td>\n",
       "      <td>1000_4</td>\n",
       "      <td>302.56</td>\n",
       "      <td>2018-09-24</td>\n",
       "      <td>1000</td>\n",
       "    </tr>\n",
       "  </tbody>\n",
       "</table>\n",
       "</div>"
      ],
      "text/plain": [
       "       id  mb_used session_date  user_id\n",
       "0  1000_0   112.95   2018-11-25     1000\n",
       "1  1000_1  1052.81   2018-09-07     1000\n",
       "2  1000_2  1197.26   2018-06-25     1000\n",
       "3  1000_3   550.27   2018-08-22     1000\n",
       "4  1000_4   302.56   2018-09-24     1000"
      ]
     },
     "execution_count": 6,
     "metadata": {},
     "output_type": "execute_result"
    }
   ],
   "source": [
    "df_internet.head()"
   ]
  },
  {
   "cell_type": "code",
   "execution_count": 7,
   "metadata": {},
   "outputs": [
    {
     "name": "stdout",
     "output_type": "stream",
     "text": [
      "<class 'pandas.core.frame.DataFrame'>\n",
      "Int64Index: 149396 entries, 0 to 149395\n",
      "Data columns (total 4 columns):\n",
      "id              149396 non-null object\n",
      "mb_used         149396 non-null float64\n",
      "session_date    149396 non-null object\n",
      "user_id         149396 non-null int64\n",
      "dtypes: float64(1), int64(1), object(2)\n",
      "memory usage: 22.2 MB\n"
     ]
    }
   ],
   "source": [
    "df_internet.info(memory_usage='deep')"
   ]
  },
  {
   "cell_type": "code",
   "execution_count": 8,
   "metadata": {},
   "outputs": [
    {
     "data": {
      "text/html": [
       "<div>\n",
       "<style scoped>\n",
       "    .dataframe tbody tr th:only-of-type {\n",
       "        vertical-align: middle;\n",
       "    }\n",
       "\n",
       "    .dataframe tbody tr th {\n",
       "        vertical-align: top;\n",
       "    }\n",
       "\n",
       "    .dataframe thead th {\n",
       "        text-align: right;\n",
       "    }\n",
       "</style>\n",
       "<table border=\"1\" class=\"dataframe\">\n",
       "  <thead>\n",
       "    <tr style=\"text-align: right;\">\n",
       "      <th></th>\n",
       "      <th>mb_used</th>\n",
       "      <th>user_id</th>\n",
       "    </tr>\n",
       "  </thead>\n",
       "  <tbody>\n",
       "    <tr>\n",
       "      <td>count</td>\n",
       "      <td>149396.000000</td>\n",
       "      <td>149396.000000</td>\n",
       "    </tr>\n",
       "    <tr>\n",
       "      <td>mean</td>\n",
       "      <td>370.192426</td>\n",
       "      <td>1252.099842</td>\n",
       "    </tr>\n",
       "    <tr>\n",
       "      <td>std</td>\n",
       "      <td>278.300951</td>\n",
       "      <td>144.050823</td>\n",
       "    </tr>\n",
       "    <tr>\n",
       "      <td>min</td>\n",
       "      <td>0.000000</td>\n",
       "      <td>1000.000000</td>\n",
       "    </tr>\n",
       "    <tr>\n",
       "      <td>25%</td>\n",
       "      <td>138.187500</td>\n",
       "      <td>1130.000000</td>\n",
       "    </tr>\n",
       "    <tr>\n",
       "      <td>50%</td>\n",
       "      <td>348.015000</td>\n",
       "      <td>1251.000000</td>\n",
       "    </tr>\n",
       "    <tr>\n",
       "      <td>75%</td>\n",
       "      <td>559.552500</td>\n",
       "      <td>1380.000000</td>\n",
       "    </tr>\n",
       "    <tr>\n",
       "      <td>max</td>\n",
       "      <td>1724.830000</td>\n",
       "      <td>1499.000000</td>\n",
       "    </tr>\n",
       "  </tbody>\n",
       "</table>\n",
       "</div>"
      ],
      "text/plain": [
       "             mb_used        user_id\n",
       "count  149396.000000  149396.000000\n",
       "mean      370.192426    1252.099842\n",
       "std       278.300951     144.050823\n",
       "min         0.000000    1000.000000\n",
       "25%       138.187500    1130.000000\n",
       "50%       348.015000    1251.000000\n",
       "75%       559.552500    1380.000000\n",
       "max      1724.830000    1499.000000"
      ]
     },
     "execution_count": 8,
     "metadata": {},
     "output_type": "execute_result"
    }
   ],
   "source": [
    "df_internet.describe()"
   ]
  },
  {
   "cell_type": "markdown",
   "metadata": {},
   "source": [
    "Проблемы, выявленные в файле df_internet:\n",
    "\n",
    "* В столбце mb_used есть нулевые значения, т.е. за одну сесию не потрачено интернет-трафика;\n",
    "* Столбец session_date не в формате даты;\n",
    "* для уменьшения общей размерности файла можно перевести cтолбец id с типа object к типу int, также оптимизировать типы столбцов mb_used и user_id ."
   ]
  },
  {
   "cell_type": "markdown",
   "metadata": {},
   "source": [
    "### 1.3. Просомотр таблицы df_messages <a id=\"df_messages\"></a> "
   ]
  },
  {
   "cell_type": "code",
   "execution_count": 9,
   "metadata": {},
   "outputs": [
    {
     "data": {
      "text/html": [
       "<div>\n",
       "<style scoped>\n",
       "    .dataframe tbody tr th:only-of-type {\n",
       "        vertical-align: middle;\n",
       "    }\n",
       "\n",
       "    .dataframe tbody tr th {\n",
       "        vertical-align: top;\n",
       "    }\n",
       "\n",
       "    .dataframe thead th {\n",
       "        text-align: right;\n",
       "    }\n",
       "</style>\n",
       "<table border=\"1\" class=\"dataframe\">\n",
       "  <thead>\n",
       "    <tr style=\"text-align: right;\">\n",
       "      <th></th>\n",
       "      <th>id</th>\n",
       "      <th>message_date</th>\n",
       "      <th>user_id</th>\n",
       "    </tr>\n",
       "  </thead>\n",
       "  <tbody>\n",
       "    <tr>\n",
       "      <td>0</td>\n",
       "      <td>1000_0</td>\n",
       "      <td>2018-06-27</td>\n",
       "      <td>1000</td>\n",
       "    </tr>\n",
       "    <tr>\n",
       "      <td>1</td>\n",
       "      <td>1000_1</td>\n",
       "      <td>2018-10-08</td>\n",
       "      <td>1000</td>\n",
       "    </tr>\n",
       "    <tr>\n",
       "      <td>2</td>\n",
       "      <td>1000_2</td>\n",
       "      <td>2018-08-04</td>\n",
       "      <td>1000</td>\n",
       "    </tr>\n",
       "    <tr>\n",
       "      <td>3</td>\n",
       "      <td>1000_3</td>\n",
       "      <td>2018-06-16</td>\n",
       "      <td>1000</td>\n",
       "    </tr>\n",
       "    <tr>\n",
       "      <td>4</td>\n",
       "      <td>1000_4</td>\n",
       "      <td>2018-12-05</td>\n",
       "      <td>1000</td>\n",
       "    </tr>\n",
       "  </tbody>\n",
       "</table>\n",
       "</div>"
      ],
      "text/plain": [
       "       id message_date  user_id\n",
       "0  1000_0   2018-06-27     1000\n",
       "1  1000_1   2018-10-08     1000\n",
       "2  1000_2   2018-08-04     1000\n",
       "3  1000_3   2018-06-16     1000\n",
       "4  1000_4   2018-12-05     1000"
      ]
     },
     "execution_count": 9,
     "metadata": {},
     "output_type": "execute_result"
    }
   ],
   "source": [
    "df_messages.head()"
   ]
  },
  {
   "cell_type": "code",
   "execution_count": 10,
   "metadata": {},
   "outputs": [
    {
     "name": "stdout",
     "output_type": "stream",
     "text": [
      "<class 'pandas.core.frame.DataFrame'>\n",
      "RangeIndex: 123036 entries, 0 to 123035\n",
      "Data columns (total 3 columns):\n",
      "id              123036 non-null object\n",
      "message_date    123036 non-null object\n",
      "user_id         123036 non-null int64\n",
      "dtypes: int64(1), object(2)\n",
      "memory usage: 16.4 MB\n"
     ]
    }
   ],
   "source": [
    "df_messages.info(memory_usage='deep')"
   ]
  },
  {
   "cell_type": "markdown",
   "metadata": {},
   "source": [
    "Проблемы, выявленные в файле df_messages:\n",
    "\n",
    "* Столбец message_date не в формате даты;\n",
    "* Для уменьшения общей размерности файла можно перевести столбец id с типа object к типу int, также оптимизировать тип user_id ."
   ]
  },
  {
   "cell_type": "markdown",
   "metadata": {},
   "source": [
    "### 1.4. Просомотр таблицы df_tariffs <a id=\"df_tariffs\"></a> "
   ]
  },
  {
   "cell_type": "code",
   "execution_count": 11,
   "metadata": {},
   "outputs": [
    {
     "data": {
      "text/html": [
       "<div>\n",
       "<style scoped>\n",
       "    .dataframe tbody tr th:only-of-type {\n",
       "        vertical-align: middle;\n",
       "    }\n",
       "\n",
       "    .dataframe tbody tr th {\n",
       "        vertical-align: top;\n",
       "    }\n",
       "\n",
       "    .dataframe thead th {\n",
       "        text-align: right;\n",
       "    }\n",
       "</style>\n",
       "<table border=\"1\" class=\"dataframe\">\n",
       "  <thead>\n",
       "    <tr style=\"text-align: right;\">\n",
       "      <th></th>\n",
       "      <th>messages_included</th>\n",
       "      <th>mb_per_month_included</th>\n",
       "      <th>minutes_included</th>\n",
       "      <th>rub_monthly_fee</th>\n",
       "      <th>rub_per_gb</th>\n",
       "      <th>rub_per_message</th>\n",
       "      <th>rub_per_minute</th>\n",
       "      <th>tariff_name</th>\n",
       "    </tr>\n",
       "  </thead>\n",
       "  <tbody>\n",
       "    <tr>\n",
       "      <td>0</td>\n",
       "      <td>50</td>\n",
       "      <td>15360</td>\n",
       "      <td>500</td>\n",
       "      <td>550</td>\n",
       "      <td>200</td>\n",
       "      <td>3</td>\n",
       "      <td>3</td>\n",
       "      <td>smart</td>\n",
       "    </tr>\n",
       "    <tr>\n",
       "      <td>1</td>\n",
       "      <td>1000</td>\n",
       "      <td>30720</td>\n",
       "      <td>3000</td>\n",
       "      <td>1950</td>\n",
       "      <td>150</td>\n",
       "      <td>1</td>\n",
       "      <td>1</td>\n",
       "      <td>ultra</td>\n",
       "    </tr>\n",
       "  </tbody>\n",
       "</table>\n",
       "</div>"
      ],
      "text/plain": [
       "   messages_included  mb_per_month_included  minutes_included  \\\n",
       "0                 50                  15360               500   \n",
       "1               1000                  30720              3000   \n",
       "\n",
       "   rub_monthly_fee  rub_per_gb  rub_per_message  rub_per_minute tariff_name  \n",
       "0              550         200                3               3       smart  \n",
       "1             1950         150                1               1       ultra  "
      ]
     },
     "execution_count": 11,
     "metadata": {},
     "output_type": "execute_result"
    }
   ],
   "source": [
    "df_tariffs"
   ]
  },
  {
   "cell_type": "code",
   "execution_count": 12,
   "metadata": {},
   "outputs": [
    {
     "name": "stdout",
     "output_type": "stream",
     "text": [
      "<class 'pandas.core.frame.DataFrame'>\n",
      "RangeIndex: 2 entries, 0 to 1\n",
      "Data columns (total 8 columns):\n",
      "messages_included        2 non-null int64\n",
      "mb_per_month_included    2 non-null int64\n",
      "minutes_included         2 non-null int64\n",
      "rub_monthly_fee          2 non-null int64\n",
      "rub_per_gb               2 non-null int64\n",
      "rub_per_message          2 non-null int64\n",
      "rub_per_minute           2 non-null int64\n",
      "tariff_name              2 non-null object\n",
      "dtypes: int64(7), object(1)\n",
      "memory usage: 364.0 bytes\n"
     ]
    }
   ],
   "source": [
    "df_tariffs.info(memory_usage='deep')"
   ]
  },
  {
   "cell_type": "markdown",
   "metadata": {},
   "source": [
    "В файле df_tariffs критические проблемы не обнаружены."
   ]
  },
  {
   "cell_type": "markdown",
   "metadata": {},
   "source": [
    "### 1.5. Просомотр таблицы df_users <a id=\"df_users\"></a> "
   ]
  },
  {
   "cell_type": "code",
   "execution_count": 13,
   "metadata": {},
   "outputs": [
    {
     "data": {
      "text/html": [
       "<div>\n",
       "<style scoped>\n",
       "    .dataframe tbody tr th:only-of-type {\n",
       "        vertical-align: middle;\n",
       "    }\n",
       "\n",
       "    .dataframe tbody tr th {\n",
       "        vertical-align: top;\n",
       "    }\n",
       "\n",
       "    .dataframe thead th {\n",
       "        text-align: right;\n",
       "    }\n",
       "</style>\n",
       "<table border=\"1\" class=\"dataframe\">\n",
       "  <thead>\n",
       "    <tr style=\"text-align: right;\">\n",
       "      <th></th>\n",
       "      <th>user_id</th>\n",
       "      <th>age</th>\n",
       "      <th>churn_date</th>\n",
       "      <th>city</th>\n",
       "      <th>first_name</th>\n",
       "      <th>last_name</th>\n",
       "      <th>reg_date</th>\n",
       "      <th>tariff</th>\n",
       "    </tr>\n",
       "  </thead>\n",
       "  <tbody>\n",
       "    <tr>\n",
       "      <td>0</td>\n",
       "      <td>1000</td>\n",
       "      <td>52</td>\n",
       "      <td>NaN</td>\n",
       "      <td>Краснодар</td>\n",
       "      <td>Рафаил</td>\n",
       "      <td>Верещагин</td>\n",
       "      <td>2018-05-25</td>\n",
       "      <td>ultra</td>\n",
       "    </tr>\n",
       "    <tr>\n",
       "      <td>1</td>\n",
       "      <td>1001</td>\n",
       "      <td>41</td>\n",
       "      <td>NaN</td>\n",
       "      <td>Москва</td>\n",
       "      <td>Иван</td>\n",
       "      <td>Ежов</td>\n",
       "      <td>2018-11-01</td>\n",
       "      <td>smart</td>\n",
       "    </tr>\n",
       "    <tr>\n",
       "      <td>2</td>\n",
       "      <td>1002</td>\n",
       "      <td>59</td>\n",
       "      <td>NaN</td>\n",
       "      <td>Стерлитамак</td>\n",
       "      <td>Евгений</td>\n",
       "      <td>Абрамович</td>\n",
       "      <td>2018-06-17</td>\n",
       "      <td>smart</td>\n",
       "    </tr>\n",
       "    <tr>\n",
       "      <td>3</td>\n",
       "      <td>1003</td>\n",
       "      <td>23</td>\n",
       "      <td>NaN</td>\n",
       "      <td>Москва</td>\n",
       "      <td>Белла</td>\n",
       "      <td>Белякова</td>\n",
       "      <td>2018-08-17</td>\n",
       "      <td>ultra</td>\n",
       "    </tr>\n",
       "    <tr>\n",
       "      <td>4</td>\n",
       "      <td>1004</td>\n",
       "      <td>68</td>\n",
       "      <td>NaN</td>\n",
       "      <td>Новокузнецк</td>\n",
       "      <td>Татьяна</td>\n",
       "      <td>Авдеенко</td>\n",
       "      <td>2018-05-14</td>\n",
       "      <td>ultra</td>\n",
       "    </tr>\n",
       "  </tbody>\n",
       "</table>\n",
       "</div>"
      ],
      "text/plain": [
       "   user_id  age churn_date         city first_name  last_name    reg_date  \\\n",
       "0     1000   52        NaN    Краснодар     Рафаил  Верещагин  2018-05-25   \n",
       "1     1001   41        NaN       Москва       Иван       Ежов  2018-11-01   \n",
       "2     1002   59        NaN  Стерлитамак    Евгений  Абрамович  2018-06-17   \n",
       "3     1003   23        NaN       Москва      Белла   Белякова  2018-08-17   \n",
       "4     1004   68        NaN  Новокузнецк    Татьяна   Авдеенко  2018-05-14   \n",
       "\n",
       "  tariff  \n",
       "0  ultra  \n",
       "1  smart  \n",
       "2  smart  \n",
       "3  ultra  \n",
       "4  ultra  "
      ]
     },
     "execution_count": 13,
     "metadata": {},
     "output_type": "execute_result"
    }
   ],
   "source": [
    "df_users.head()"
   ]
  },
  {
   "cell_type": "code",
   "execution_count": 14,
   "metadata": {},
   "outputs": [
    {
     "name": "stdout",
     "output_type": "stream",
     "text": [
      "<class 'pandas.core.frame.DataFrame'>\n",
      "RangeIndex: 500 entries, 0 to 499\n",
      "Data columns (total 8 columns):\n",
      "user_id       500 non-null int64\n",
      "age           500 non-null int64\n",
      "churn_date    38 non-null object\n",
      "city          500 non-null object\n",
      "first_name    500 non-null object\n",
      "last_name     500 non-null object\n",
      "reg_date      500 non-null object\n",
      "tariff        500 non-null object\n",
      "dtypes: int64(2), object(6)\n",
      "memory usage: 229.6 KB\n"
     ]
    }
   ],
   "source": [
    "df_users.info(memory_usage='deep')"
   ]
  },
  {
   "cell_type": "markdown",
   "metadata": {},
   "source": [
    "В файле df_users критические проблемы не выявлены."
   ]
  },
  {
   "cell_type": "markdown",
   "metadata": {},
   "source": [
    "## 2. Предобработка данных <a id=\"#preprocessing_data\"></a> "
   ]
  },
  {
   "cell_type": "markdown",
   "metadata": {},
   "source": [
    "### 2.1. Замена типов данных <a id=\"change_data\"></a> "
   ]
  },
  {
   "cell_type": "code",
   "execution_count": 15,
   "metadata": {},
   "outputs": [
    {
     "name": "stdout",
     "output_type": "stream",
     "text": [
      "<class 'pandas.core.frame.DataFrame'>\n",
      "RangeIndex: 202607 entries, 0 to 202606\n",
      "Columns: 4 entries, id to user_id\n",
      "dtypes: datetime64[ns](1), float32(1), int64(1), uint16(1)\n",
      "memory usage: 4.3 MB\n"
     ]
    }
   ],
   "source": [
    "#Оптимизация таблицы df_calls\n",
    "#Приведение столбца call_date к типу даты\n",
    "df_calls['call_date'] = pd.to_datetime(df_calls['call_date'], format = '%Y-%m-%d')\n",
    "\n",
    "#Оптимизация размерности типа float во всех столбцах таблицы df_calls\n",
    "converted_float = df_calls.select_dtypes(include=['float']).apply(pd.to_numeric,downcast='float')\n",
    "df_calls[converted_float.columns] = converted_float\n",
    "\n",
    "#Оптимизация размерности типа int во всех столбцах таблицы df_calls\n",
    "converted_int = df_calls.select_dtypes(include=['int']).apply(pd.to_numeric,downcast='unsigned')\n",
    "df_calls[converted_int.columns] = converted_int\n",
    "\n",
    "#Приведение столбца id к типу int\n",
    "df_calls['id'] = df_calls['id'].astype('int')\n",
    "df_calls.info(verbose=False, memory_usage='deep')"
   ]
  },
  {
   "cell_type": "code",
   "execution_count": 16,
   "metadata": {},
   "outputs": [
    {
     "name": "stdout",
     "output_type": "stream",
     "text": [
      "<class 'pandas.core.frame.DataFrame'>\n",
      "Int64Index: 149396 entries, 0 to 149395\n",
      "Columns: 4 entries, id to user_id\n",
      "dtypes: datetime64[ns](1), float32(1), int64(1), uint16(1)\n",
      "memory usage: 4.3 MB\n"
     ]
    }
   ],
   "source": [
    "#Оптимизация таблицы df_internet\n",
    "#Приведение столбца session_date к типу даты\n",
    "df_internet['session_date'] = pd.to_datetime(df_internet['session_date'], format = '%Y-%m-%d')\n",
    "\n",
    "#Оптимизация размерности типа float во всех столбцах таблицы df_internet\n",
    "converted_float = df_internet.select_dtypes(include=['float']).apply(pd.to_numeric,downcast='float')\n",
    "df_internet[converted_float.columns] = converted_float\n",
    "\n",
    "#Оптимизация размерности типа int во всех столбцах таблицы df_internet\n",
    "converted_int = df_internet.select_dtypes(include=['int']).apply(pd.to_numeric,downcast='unsigned')\n",
    "df_internet[converted_int.columns] = converted_int\n",
    "\n",
    "#Приведение столбца id к типу int\n",
    "df_internet['id'] = df_internet['id'].astype('int')\n",
    "df_internet.info(verbose=False, memory_usage='deep')"
   ]
  },
  {
   "cell_type": "code",
   "execution_count": 17,
   "metadata": {},
   "outputs": [
    {
     "name": "stdout",
     "output_type": "stream",
     "text": [
      "<class 'pandas.core.frame.DataFrame'>\n",
      "RangeIndex: 123036 entries, 0 to 123035\n",
      "Columns: 3 entries, id to user_id\n",
      "dtypes: datetime64[ns](1), int64(1), uint16(1)\n",
      "memory usage: 2.1 MB\n"
     ]
    }
   ],
   "source": [
    "#Оптимизация таблицы df_messages\n",
    "#Приведение столбца message_date к типу даты\n",
    "df_messages['message_date'] = pd.to_datetime(df_messages['message_date'], format = '%Y-%m-%d')\n",
    "\n",
    "#Оптимизация размерности типа float во всех столбцах таблицы df_messages\n",
    "converted_float = df_messages.select_dtypes(include=['float']).apply(pd.to_numeric,downcast='float')\n",
    "df_messages[converted_float.columns] = converted_float\n",
    "\n",
    "#Оптимизация размерности типа int во всех столбцах таблицы df_messages\n",
    "converted_int = df_messages.select_dtypes(include=['int']).apply(pd.to_numeric,downcast='unsigned')\n",
    "df_messages[converted_int.columns] = converted_int\n",
    "\n",
    "#Приведение столбца id к типу int\n",
    "df_messages['id'] = df_messages['id'].astype('int')\n",
    "df_messages.info(verbose=False, memory_usage='deep')"
   ]
  },
  {
   "cell_type": "markdown",
   "metadata": {},
   "source": [
    "### 2.2. Расчет характеристик пользователей <a id=\"calculations\"></a> "
   ]
  },
  {
   "cell_type": "markdown",
   "metadata": {},
   "source": [
    "Количество сделанных звонков и израсходованных минут разговора по месяцам;"
   ]
  },
  {
   "cell_type": "code",
   "execution_count": 18,
   "metadata": {},
   "outputs": [
    {
     "data": {
      "text/html": [
       "<div>\n",
       "<style scoped>\n",
       "    .dataframe tbody tr th:only-of-type {\n",
       "        vertical-align: middle;\n",
       "    }\n",
       "\n",
       "    .dataframe tbody tr th {\n",
       "        vertical-align: top;\n",
       "    }\n",
       "\n",
       "    .dataframe thead th {\n",
       "        text-align: right;\n",
       "    }\n",
       "</style>\n",
       "<table border=\"1\" class=\"dataframe\">\n",
       "  <thead>\n",
       "    <tr style=\"text-align: right;\">\n",
       "      <th></th>\n",
       "      <th>user_id</th>\n",
       "      <th>month</th>\n",
       "      <th>calls_count</th>\n",
       "      <th>calls_sum</th>\n",
       "    </tr>\n",
       "  </thead>\n",
       "  <tbody>\n",
       "    <tr>\n",
       "      <td>0</td>\n",
       "      <td>1000</td>\n",
       "      <td>August</td>\n",
       "      <td>52</td>\n",
       "      <td>408</td>\n",
       "    </tr>\n",
       "    <tr>\n",
       "      <td>1</td>\n",
       "      <td>1000</td>\n",
       "      <td>December</td>\n",
       "      <td>46</td>\n",
       "      <td>333</td>\n",
       "    </tr>\n",
       "    <tr>\n",
       "      <td>2</td>\n",
       "      <td>1000</td>\n",
       "      <td>July</td>\n",
       "      <td>47</td>\n",
       "      <td>340</td>\n",
       "    </tr>\n",
       "    <tr>\n",
       "      <td>3</td>\n",
       "      <td>1000</td>\n",
       "      <td>June</td>\n",
       "      <td>43</td>\n",
       "      <td>172</td>\n",
       "    </tr>\n",
       "    <tr>\n",
       "      <td>4</td>\n",
       "      <td>1000</td>\n",
       "      <td>May</td>\n",
       "      <td>22</td>\n",
       "      <td>159</td>\n",
       "    </tr>\n",
       "  </tbody>\n",
       "</table>\n",
       "</div>"
      ],
      "text/plain": [
       "   user_id     month  calls_count  calls_sum\n",
       "0     1000    August           52        408\n",
       "1     1000  December           46        333\n",
       "2     1000      July           47        340\n",
       "3     1000      June           43        172\n",
       "4     1000       May           22        159"
      ]
     },
     "execution_count": 18,
     "metadata": {},
     "output_type": "execute_result"
    }
   ],
   "source": [
    "df_calls['month'] = df_calls['call_date'].dt.month_name()\n",
    "df_calls['duration'] = np.ceil(df_calls['duration']).astype('int')\n",
    "calls = df_calls.pivot_table(index=['user_id', 'month'], values='duration', aggfunc=['count', 'sum']).reset_index()\n",
    "calls.columns = ['user_id', 'month', 'calls_count', 'calls_sum']\n",
    "calls.head()"
   ]
  },
  {
   "cell_type": "markdown",
   "metadata": {},
   "source": [
    "Количество отправленных сообщений по месяцам"
   ]
  },
  {
   "cell_type": "code",
   "execution_count": 19,
   "metadata": {},
   "outputs": [
    {
     "data": {
      "text/html": [
       "<div>\n",
       "<style scoped>\n",
       "    .dataframe tbody tr th:only-of-type {\n",
       "        vertical-align: middle;\n",
       "    }\n",
       "\n",
       "    .dataframe tbody tr th {\n",
       "        vertical-align: top;\n",
       "    }\n",
       "\n",
       "    .dataframe thead th {\n",
       "        text-align: right;\n",
       "    }\n",
       "</style>\n",
       "<table border=\"1\" class=\"dataframe\">\n",
       "  <thead>\n",
       "    <tr style=\"text-align: right;\">\n",
       "      <th></th>\n",
       "      <th>user_id</th>\n",
       "      <th>month</th>\n",
       "      <th>messages_count</th>\n",
       "    </tr>\n",
       "  </thead>\n",
       "  <tbody>\n",
       "    <tr>\n",
       "      <td>0</td>\n",
       "      <td>1000</td>\n",
       "      <td>August</td>\n",
       "      <td>81</td>\n",
       "    </tr>\n",
       "    <tr>\n",
       "      <td>1</td>\n",
       "      <td>1000</td>\n",
       "      <td>December</td>\n",
       "      <td>70</td>\n",
       "    </tr>\n",
       "    <tr>\n",
       "      <td>2</td>\n",
       "      <td>1000</td>\n",
       "      <td>July</td>\n",
       "      <td>75</td>\n",
       "    </tr>\n",
       "    <tr>\n",
       "      <td>3</td>\n",
       "      <td>1000</td>\n",
       "      <td>June</td>\n",
       "      <td>60</td>\n",
       "    </tr>\n",
       "    <tr>\n",
       "      <td>4</td>\n",
       "      <td>1000</td>\n",
       "      <td>May</td>\n",
       "      <td>22</td>\n",
       "    </tr>\n",
       "  </tbody>\n",
       "</table>\n",
       "</div>"
      ],
      "text/plain": [
       "   user_id     month  messages_count\n",
       "0     1000    August              81\n",
       "1     1000  December              70\n",
       "2     1000      July              75\n",
       "3     1000      June              60\n",
       "4     1000       May              22"
      ]
     },
     "execution_count": 19,
     "metadata": {},
     "output_type": "execute_result"
    }
   ],
   "source": [
    "df_messages['month'] = df_messages['message_date'].dt.month_name()\n",
    "messages = df_messages.pivot_table(index=['user_id','month'], values='message_date', aggfunc=['count']).reset_index()\n",
    "messages.columns = ['user_id', 'month', 'messages_count']\n",
    "messages.head()"
   ]
  },
  {
   "cell_type": "markdown",
   "metadata": {},
   "source": [
    "Объем израсходованного интернет-трафика по месяцам"
   ]
  },
  {
   "cell_type": "code",
   "execution_count": 20,
   "metadata": {},
   "outputs": [
    {
     "data": {
      "text/html": [
       "<div>\n",
       "<style scoped>\n",
       "    .dataframe tbody tr th:only-of-type {\n",
       "        vertical-align: middle;\n",
       "    }\n",
       "\n",
       "    .dataframe tbody tr th {\n",
       "        vertical-align: top;\n",
       "    }\n",
       "\n",
       "    .dataframe thead th {\n",
       "        text-align: right;\n",
       "    }\n",
       "</style>\n",
       "<table border=\"1\" class=\"dataframe\">\n",
       "  <thead>\n",
       "    <tr style=\"text-align: right;\">\n",
       "      <th></th>\n",
       "      <th>user_id</th>\n",
       "      <th>month</th>\n",
       "      <th>internet_sum</th>\n",
       "    </tr>\n",
       "  </thead>\n",
       "  <tbody>\n",
       "    <tr>\n",
       "      <td>0</td>\n",
       "      <td>1000</td>\n",
       "      <td>August</td>\n",
       "      <td>14070</td>\n",
       "    </tr>\n",
       "    <tr>\n",
       "      <td>1</td>\n",
       "      <td>1000</td>\n",
       "      <td>December</td>\n",
       "      <td>9827</td>\n",
       "    </tr>\n",
       "    <tr>\n",
       "      <td>2</td>\n",
       "      <td>1000</td>\n",
       "      <td>July</td>\n",
       "      <td>14016</td>\n",
       "    </tr>\n",
       "    <tr>\n",
       "      <td>3</td>\n",
       "      <td>1000</td>\n",
       "      <td>June</td>\n",
       "      <td>23257</td>\n",
       "    </tr>\n",
       "    <tr>\n",
       "      <td>4</td>\n",
       "      <td>1000</td>\n",
       "      <td>May</td>\n",
       "      <td>2256</td>\n",
       "    </tr>\n",
       "  </tbody>\n",
       "</table>\n",
       "</div>"
      ],
      "text/plain": [
       "   user_id     month  internet_sum\n",
       "0     1000    August         14070\n",
       "1     1000  December          9827\n",
       "2     1000      July         14016\n",
       "3     1000      June         23257\n",
       "4     1000       May          2256"
      ]
     },
     "execution_count": 20,
     "metadata": {},
     "output_type": "execute_result"
    }
   ],
   "source": [
    "df_internet['mb_used'] = np.ceil(df_internet['mb_used']).astype('int')\n",
    "df_internet['month'] = df_internet['session_date'].dt.month_name()\n",
    "internet = df_internet.pivot_table(index=['user_id','month'], values='mb_used', aggfunc=['sum']).reset_index()\n",
    "internet.columns = ['user_id', 'month', 'internet_sum']\n",
    "internet.head()"
   ]
  },
  {
   "cell_type": "markdown",
   "metadata": {},
   "source": [
    "Помесячная выручка с каждого пользователя"
   ]
  },
  {
   "cell_type": "code",
   "execution_count": 21,
   "metadata": {},
   "outputs": [],
   "source": [
    "proceeds = calls.merge(messages, on=['month','user_id'], how='outer')"
   ]
  },
  {
   "cell_type": "code",
   "execution_count": 22,
   "metadata": {},
   "outputs": [
    {
     "data": {
      "text/html": [
       "<div>\n",
       "<style scoped>\n",
       "    .dataframe tbody tr th:only-of-type {\n",
       "        vertical-align: middle;\n",
       "    }\n",
       "\n",
       "    .dataframe tbody tr th {\n",
       "        vertical-align: top;\n",
       "    }\n",
       "\n",
       "    .dataframe thead th {\n",
       "        text-align: right;\n",
       "    }\n",
       "</style>\n",
       "<table border=\"1\" class=\"dataframe\">\n",
       "  <thead>\n",
       "    <tr style=\"text-align: right;\">\n",
       "      <th></th>\n",
       "      <th>user_id</th>\n",
       "      <th>tariff</th>\n",
       "      <th>month</th>\n",
       "      <th>calls_count</th>\n",
       "      <th>calls_sum</th>\n",
       "      <th>messages_count</th>\n",
       "      <th>internet_sum</th>\n",
       "    </tr>\n",
       "  </thead>\n",
       "  <tbody>\n",
       "    <tr>\n",
       "      <td>0</td>\n",
       "      <td>1000</td>\n",
       "      <td>ultra</td>\n",
       "      <td>August</td>\n",
       "      <td>52.0</td>\n",
       "      <td>408.0</td>\n",
       "      <td>81.0</td>\n",
       "      <td>14070.0</td>\n",
       "    </tr>\n",
       "    <tr>\n",
       "      <td>1</td>\n",
       "      <td>1000</td>\n",
       "      <td>ultra</td>\n",
       "      <td>December</td>\n",
       "      <td>46.0</td>\n",
       "      <td>333.0</td>\n",
       "      <td>70.0</td>\n",
       "      <td>9827.0</td>\n",
       "    </tr>\n",
       "    <tr>\n",
       "      <td>2</td>\n",
       "      <td>1000</td>\n",
       "      <td>ultra</td>\n",
       "      <td>July</td>\n",
       "      <td>47.0</td>\n",
       "      <td>340.0</td>\n",
       "      <td>75.0</td>\n",
       "      <td>14016.0</td>\n",
       "    </tr>\n",
       "    <tr>\n",
       "      <td>3</td>\n",
       "      <td>1000</td>\n",
       "      <td>ultra</td>\n",
       "      <td>June</td>\n",
       "      <td>43.0</td>\n",
       "      <td>172.0</td>\n",
       "      <td>60.0</td>\n",
       "      <td>23257.0</td>\n",
       "    </tr>\n",
       "    <tr>\n",
       "      <td>4</td>\n",
       "      <td>1000</td>\n",
       "      <td>ultra</td>\n",
       "      <td>May</td>\n",
       "      <td>22.0</td>\n",
       "      <td>159.0</td>\n",
       "      <td>22.0</td>\n",
       "      <td>2256.0</td>\n",
       "    </tr>\n",
       "  </tbody>\n",
       "</table>\n",
       "</div>"
      ],
      "text/plain": [
       "   user_id tariff     month  calls_count  calls_sum  messages_count  \\\n",
       "0     1000  ultra    August         52.0      408.0            81.0   \n",
       "1     1000  ultra  December         46.0      333.0            70.0   \n",
       "2     1000  ultra      July         47.0      340.0            75.0   \n",
       "3     1000  ultra      June         43.0      172.0            60.0   \n",
       "4     1000  ultra       May         22.0      159.0            22.0   \n",
       "\n",
       "   internet_sum  \n",
       "0       14070.0  \n",
       "1        9827.0  \n",
       "2       14016.0  \n",
       "3       23257.0  \n",
       "4        2256.0  "
      ]
     },
     "execution_count": 22,
     "metadata": {},
     "output_type": "execute_result"
    }
   ],
   "source": [
    "proceeds = proceeds.merge(internet, on=['month','user_id'], how='outer')\n",
    "tariff = df_users.loc[:,['user_id','tariff']]\n",
    "proceeds =tariff.merge(proceeds, on=['user_id'],how = 'outer')\n",
    "proceeds.head()"
   ]
  },
  {
   "cell_type": "markdown",
   "metadata": {},
   "source": [
    "Расчет выручки каждого пользователя от длительности телефонных звонков"
   ]
  },
  {
   "cell_type": "code",
   "execution_count": 23,
   "metadata": {},
   "outputs": [],
   "source": [
    "def calls_proceeds(proceeds):\n",
    "    if proceeds.tariff == 'smart':\n",
    "        if proceeds.calls_sum > df_tariffs.loc[0, 'minutes_included']:\n",
    "            revenue = (\n",
    "                (proceeds.calls_sum - df_tariffs.loc[0, 'minutes_included']) * df_tariffs.loc[0, 'rub_per_minute'])\n",
    "        else:\n",
    "            revenue = 0\n",
    "            \n",
    "    if proceeds.tariff == 'ultra':\n",
    "        if proceeds.calls_sum > df_tariffs.loc[1, 'minutes_included']:\n",
    "            revenue = (\n",
    "                (proceeds.calls_sum - df_tariffs.loc[1, 'minutes_included']) * df_tariffs.loc[1, 'rub_per_minute'])\n",
    "        else:\n",
    "            revenue = 0\n",
    "            \n",
    "    return revenue\n",
    " \n",
    "proceeds['calls_proceeds'] = proceeds.apply(calls_proceeds, axis=1)\n"
   ]
  },
  {
   "cell_type": "markdown",
   "metadata": {},
   "source": [
    "Расчет выручки каждого пользователя от числа сообщений"
   ]
  },
  {
   "cell_type": "code",
   "execution_count": 24,
   "metadata": {},
   "outputs": [],
   "source": [
    "def messages_proceeds(proceeds):\n",
    "    if proceeds.tariff == 'smart':\n",
    "        if proceeds.messages_count > df_tariffs.loc[0, 'messages_included']:\n",
    "            revenue = (\n",
    "                (proceeds.messages_count - df_tariffs.loc[0, 'messages_included']) * df_tariffs.loc[0, 'rub_per_message'])\n",
    "        else:\n",
    "            revenue = 0\n",
    "            \n",
    "    if proceeds.tariff == 'ultra':\n",
    "        if proceeds.messages_count > df_tariffs.loc[1, 'messages_included']:\n",
    "            revenue = (\n",
    "                ((proceeds.messages_count - df_tariffs.loc[1, 'messages_included']) * df_tariffs.loc[1, 'rub_per_message'])\n",
    "                + df_tariffs.loc[1, 'rub_monthly_fee']\n",
    "            )\n",
    "        else:\n",
    "            revenue = 0\n",
    "            \n",
    "    return revenue\n",
    " \n",
    "proceeds['messages_proceeds'] = proceeds.apply(messages_proceeds, axis=1)"
   ]
  },
  {
   "cell_type": "markdown",
   "metadata": {},
   "source": [
    "Расчет выручки каждого пользователя от интернет-трафика"
   ]
  },
  {
   "cell_type": "code",
   "execution_count": 25,
   "metadata": {},
   "outputs": [],
   "source": [
    "def internet_proceeds(proceeds):\n",
    "    if proceeds.tariff == 'smart':\n",
    "        if proceeds.internet_sum > df_tariffs.loc[0, 'mb_per_month_included']:\n",
    "            revenue = (\n",
    "                (proceeds.internet_sum - df_tariffs.loc[0, 'mb_per_month_included']) * (df_tariffs.loc[0, 'rub_per_gb']/1024))\n",
    "        else:\n",
    "            revenue = 0\n",
    "            \n",
    "    if proceeds.tariff == 'ultra':\n",
    "        if proceeds.internet_sum > df_tariffs.loc[1, 'mb_per_month_included']:\n",
    "            revenue = (((proceeds.internet_sum - df_tariffs.loc[1, 'mb_per_month_included']) \n",
    "                       * (df_tariffs.loc[1, 'rub_per_gb']/1024)))\n",
    "        else:\n",
    "            revenue = 0\n",
    "            \n",
    "    return revenue\n",
    " \n",
    "proceeds['internet_proceeds'] = proceeds.apply(internet_proceeds, axis=1)"
   ]
  },
  {
   "cell_type": "markdown",
   "metadata": {},
   "source": [
    "Расчет полной выручки"
   ]
  },
  {
   "cell_type": "code",
   "execution_count": 26,
   "metadata": {
    "scrolled": false
   },
   "outputs": [
    {
     "data": {
      "text/html": [
       "<div>\n",
       "<style scoped>\n",
       "    .dataframe tbody tr th:only-of-type {\n",
       "        vertical-align: middle;\n",
       "    }\n",
       "\n",
       "    .dataframe tbody tr th {\n",
       "        vertical-align: top;\n",
       "    }\n",
       "\n",
       "    .dataframe thead th {\n",
       "        text-align: right;\n",
       "    }\n",
       "</style>\n",
       "<table border=\"1\" class=\"dataframe\">\n",
       "  <thead>\n",
       "    <tr style=\"text-align: right;\">\n",
       "      <th></th>\n",
       "      <th>user_id</th>\n",
       "      <th>tariff</th>\n",
       "      <th>month</th>\n",
       "      <th>calls_count</th>\n",
       "      <th>calls_sum</th>\n",
       "      <th>messages_count</th>\n",
       "      <th>internet_sum</th>\n",
       "      <th>calls_proceeds</th>\n",
       "      <th>messages_proceeds</th>\n",
       "      <th>internet_proceeds</th>\n",
       "      <th>total_proceeds</th>\n",
       "    </tr>\n",
       "  </thead>\n",
       "  <tbody>\n",
       "    <tr>\n",
       "      <td>0</td>\n",
       "      <td>1000</td>\n",
       "      <td>ultra</td>\n",
       "      <td>August</td>\n",
       "      <td>52.0</td>\n",
       "      <td>408.0</td>\n",
       "      <td>81.0</td>\n",
       "      <td>14070.0</td>\n",
       "      <td>0.0</td>\n",
       "      <td>0.0</td>\n",
       "      <td>0.000000</td>\n",
       "      <td>1950.000000</td>\n",
       "    </tr>\n",
       "    <tr>\n",
       "      <td>1</td>\n",
       "      <td>1000</td>\n",
       "      <td>ultra</td>\n",
       "      <td>December</td>\n",
       "      <td>46.0</td>\n",
       "      <td>333.0</td>\n",
       "      <td>70.0</td>\n",
       "      <td>9827.0</td>\n",
       "      <td>0.0</td>\n",
       "      <td>0.0</td>\n",
       "      <td>0.000000</td>\n",
       "      <td>1950.000000</td>\n",
       "    </tr>\n",
       "    <tr>\n",
       "      <td>2</td>\n",
       "      <td>1000</td>\n",
       "      <td>ultra</td>\n",
       "      <td>July</td>\n",
       "      <td>47.0</td>\n",
       "      <td>340.0</td>\n",
       "      <td>75.0</td>\n",
       "      <td>14016.0</td>\n",
       "      <td>0.0</td>\n",
       "      <td>0.0</td>\n",
       "      <td>0.000000</td>\n",
       "      <td>1950.000000</td>\n",
       "    </tr>\n",
       "    <tr>\n",
       "      <td>3</td>\n",
       "      <td>1000</td>\n",
       "      <td>ultra</td>\n",
       "      <td>June</td>\n",
       "      <td>43.0</td>\n",
       "      <td>172.0</td>\n",
       "      <td>60.0</td>\n",
       "      <td>23257.0</td>\n",
       "      <td>0.0</td>\n",
       "      <td>0.0</td>\n",
       "      <td>0.000000</td>\n",
       "      <td>1950.000000</td>\n",
       "    </tr>\n",
       "    <tr>\n",
       "      <td>4</td>\n",
       "      <td>1000</td>\n",
       "      <td>ultra</td>\n",
       "      <td>May</td>\n",
       "      <td>22.0</td>\n",
       "      <td>159.0</td>\n",
       "      <td>22.0</td>\n",
       "      <td>2256.0</td>\n",
       "      <td>0.0</td>\n",
       "      <td>0.0</td>\n",
       "      <td>0.000000</td>\n",
       "      <td>1950.000000</td>\n",
       "    </tr>\n",
       "    <tr>\n",
       "      <td>...</td>\n",
       "      <td>...</td>\n",
       "      <td>...</td>\n",
       "      <td>...</td>\n",
       "      <td>...</td>\n",
       "      <td>...</td>\n",
       "      <td>...</td>\n",
       "      <td>...</td>\n",
       "      <td>...</td>\n",
       "      <td>...</td>\n",
       "      <td>...</td>\n",
       "      <td>...</td>\n",
       "    </tr>\n",
       "    <tr>\n",
       "      <td>3211</td>\n",
       "      <td>1498</td>\n",
       "      <td>smart</td>\n",
       "      <td>September</td>\n",
       "      <td>59.0</td>\n",
       "      <td>471.0</td>\n",
       "      <td>44.0</td>\n",
       "      <td>22166.0</td>\n",
       "      <td>0.0</td>\n",
       "      <td>0.0</td>\n",
       "      <td>1329.296875</td>\n",
       "      <td>1879.296875</td>\n",
       "    </tr>\n",
       "    <tr>\n",
       "      <td>3212</td>\n",
       "      <td>1499</td>\n",
       "      <td>smart</td>\n",
       "      <td>December</td>\n",
       "      <td>69.0</td>\n",
       "      <td>492.0</td>\n",
       "      <td>66.0</td>\n",
       "      <td>13077.0</td>\n",
       "      <td>0.0</td>\n",
       "      <td>48.0</td>\n",
       "      <td>0.000000</td>\n",
       "      <td>598.000000</td>\n",
       "    </tr>\n",
       "    <tr>\n",
       "      <td>3213</td>\n",
       "      <td>1499</td>\n",
       "      <td>smart</td>\n",
       "      <td>November</td>\n",
       "      <td>74.0</td>\n",
       "      <td>612.0</td>\n",
       "      <td>59.0</td>\n",
       "      <td>17984.0</td>\n",
       "      <td>336.0</td>\n",
       "      <td>27.0</td>\n",
       "      <td>512.500000</td>\n",
       "      <td>1425.500000</td>\n",
       "    </tr>\n",
       "    <tr>\n",
       "      <td>3214</td>\n",
       "      <td>1499</td>\n",
       "      <td>smart</td>\n",
       "      <td>October</td>\n",
       "      <td>68.0</td>\n",
       "      <td>449.0</td>\n",
       "      <td>48.0</td>\n",
       "      <td>17809.0</td>\n",
       "      <td>0.0</td>\n",
       "      <td>0.0</td>\n",
       "      <td>478.320312</td>\n",
       "      <td>1028.320312</td>\n",
       "    </tr>\n",
       "    <tr>\n",
       "      <td>3215</td>\n",
       "      <td>1499</td>\n",
       "      <td>smart</td>\n",
       "      <td>September</td>\n",
       "      <td>9.0</td>\n",
       "      <td>70.0</td>\n",
       "      <td>11.0</td>\n",
       "      <td>1848.0</td>\n",
       "      <td>0.0</td>\n",
       "      <td>0.0</td>\n",
       "      <td>0.000000</td>\n",
       "      <td>550.000000</td>\n",
       "    </tr>\n",
       "  </tbody>\n",
       "</table>\n",
       "<p>3216 rows × 11 columns</p>\n",
       "</div>"
      ],
      "text/plain": [
       "      user_id tariff      month  calls_count  calls_sum  messages_count  \\\n",
       "0        1000  ultra     August         52.0      408.0            81.0   \n",
       "1        1000  ultra   December         46.0      333.0            70.0   \n",
       "2        1000  ultra       July         47.0      340.0            75.0   \n",
       "3        1000  ultra       June         43.0      172.0            60.0   \n",
       "4        1000  ultra        May         22.0      159.0            22.0   \n",
       "...       ...    ...        ...          ...        ...             ...   \n",
       "3211     1498  smart  September         59.0      471.0            44.0   \n",
       "3212     1499  smart   December         69.0      492.0            66.0   \n",
       "3213     1499  smart   November         74.0      612.0            59.0   \n",
       "3214     1499  smart    October         68.0      449.0            48.0   \n",
       "3215     1499  smart  September          9.0       70.0            11.0   \n",
       "\n",
       "      internet_sum  calls_proceeds  messages_proceeds  internet_proceeds  \\\n",
       "0          14070.0             0.0                0.0           0.000000   \n",
       "1           9827.0             0.0                0.0           0.000000   \n",
       "2          14016.0             0.0                0.0           0.000000   \n",
       "3          23257.0             0.0                0.0           0.000000   \n",
       "4           2256.0             0.0                0.0           0.000000   \n",
       "...            ...             ...                ...                ...   \n",
       "3211       22166.0             0.0                0.0        1329.296875   \n",
       "3212       13077.0             0.0               48.0           0.000000   \n",
       "3213       17984.0           336.0               27.0         512.500000   \n",
       "3214       17809.0             0.0                0.0         478.320312   \n",
       "3215        1848.0             0.0                0.0           0.000000   \n",
       "\n",
       "      total_proceeds  \n",
       "0        1950.000000  \n",
       "1        1950.000000  \n",
       "2        1950.000000  \n",
       "3        1950.000000  \n",
       "4        1950.000000  \n",
       "...              ...  \n",
       "3211     1879.296875  \n",
       "3212      598.000000  \n",
       "3213     1425.500000  \n",
       "3214     1028.320312  \n",
       "3215      550.000000  \n",
       "\n",
       "[3216 rows x 11 columns]"
      ]
     },
     "execution_count": 26,
     "metadata": {},
     "output_type": "execute_result"
    }
   ],
   "source": [
    "def total_proceeds(proceeds):\n",
    "    if proceeds.tariff == 'smart':\n",
    "        revenue = (proceeds.calls_proceeds + proceeds.messages_proceeds + proceeds.internet_proceeds \n",
    "                   + df_tariffs.loc[0, 'rub_monthly_fee'])\n",
    "    if proceeds.tariff == 'ultra':\n",
    "        revenue = (proceeds.calls_proceeds + proceeds.messages_proceeds + proceeds.internet_proceeds \n",
    "                   + df_tariffs.loc[1, 'rub_monthly_fee'])\n",
    "    return revenue\n",
    "proceeds['total_proceeds'] = proceeds.apply(total_proceeds, axis=1)\n",
    "proceeds"
   ]
  },
  {
   "cell_type": "markdown",
   "metadata": {},
   "source": [
    "### Вывод\n",
    "\n"
   ]
  },
  {
   "cell_type": "markdown",
   "metadata": {},
   "source": [
    "## 3. Анализ данных <a id=\"analyse\"></a> "
   ]
  },
  {
   "cell_type": "markdown",
   "metadata": {},
   "source": [
    "Сколько минут разговора, сколько сообщений и какой объём интернет-трафика требуется пользователям каждого тарифа в месяц?\n",
    "\n",
    "Для каждого параметра пользователя (длительности звонков, числа сообщений и инетрнет-трафика) в месяц по 2-м тарифам найдем дисперсию и построим следующие графики:\n",
    "1. Гистограмма распределения параметров в месяц по 2-м тарифам;\n",
    "2. Распределение среднего значения параметров в месяц по 2-м тарифам;\n",
    "3. Диаграмма размаха среднего значения параметров в месяц по 2-м тарифам;\n",
    "4. Гистограмма распределения стандартного отклонения параметров в месяц по 2-м тарифам."
   ]
  },
  {
   "cell_type": "markdown",
   "metadata": {},
   "source": [
    "### 3.1. Анализ длительности звонков  <a id=\"analyse_calls\"></a> \n",
    "\n",
    "Гистограмма распределения длительности звонков в месяц по 2-м тарифам"
   ]
  },
  {
   "cell_type": "code",
   "execution_count": 27,
   "metadata": {},
   "outputs": [
    {
     "data": {
      "image/png": "[encoded data removed]",
      "text/plain": [
       "<Figure size 864x360 with 1 Axes>"
      ]
     },
     "metadata": {
      "needs_background": "light"
     },
     "output_type": "display_data"
    }
   ],
   "source": [
    "calls_smart = proceeds.query('tariff==\"smart\"')\n",
    "calls_ultra = proceeds.query('tariff==\"ultra\"')\n",
    "plt.figure(figsize=(12,5))\n",
    "fig1 = plt.hist(calls_smart['calls_sum'], bins = 10, alpha=0.7, label='smart')\n",
    "fig2 = plt.hist(calls_ultra['calls_sum'], bins = 10, alpha=0.7, label='ultra')\n",
    "plt.xlabel('Длительность звонка, мин')\n",
    "plt.ylabel('Частота')\n",
    "plt.title('Гистограмма распределения длительности звонков в месяц по 2-м тарифам'+\"\\n\")\n",
    "plt.grid()\n",
    "plt.legend()\n",
    "plt.show()"
   ]
  },
  {
   "cell_type": "markdown",
   "metadata": {},
   "source": [
    "По гистограмме распределения длительности звонков в месяц по 2-м тарифам видно, что пользователи с тарифом ultra тратят на разговоры больше времени, чем люди с тарифом smart. Также на гистограммах видны небольшое число звонков с нулевой длительностью. Большое число людей с тарифом smart выбивается из лимита в 500 минут."
   ]
  },
  {
   "cell_type": "markdown",
   "metadata": {},
   "source": [
    "Распределение среднего значения длительности звонков в месяц по 2-м тарифам"
   ]
  },
  {
   "cell_type": "code",
   "execution_count": 28,
   "metadata": {},
   "outputs": [
    {
     "data": {
      "text/plain": [
       "Text(0.5, 0, 'месяц')"
      ]
     },
     "execution_count": 28,
     "metadata": {},
     "output_type": "execute_result"
    },
    {
     "data": {
      "image/png": "[encoded data removed]",
      "text/plain": [
       "<Figure size 864x360 with 1 Axes>"
      ]
     },
     "metadata": {
      "needs_background": "light"
     },
     "output_type": "display_data"
    }
   ],
   "source": [
    "pr = proceeds.pivot_table(index='tariff', columns='month', values='calls_sum', aggfunc='mean').T\n",
    "pr.plot(kind='bar', alpha=0.7, figsize=(12,5), grid=True)\n",
    "plt.suptitle('Распределение среднего значения длительности звонков в месяц по 2-м тарифам'+ \"\\n\")\n",
    "plt.ylabel('Длительность звонков, мин.')\n",
    "plt.xlabel('месяц')"
   ]
  },
  {
   "cell_type": "markdown",
   "metadata": {},
   "source": [
    "По графику распределения среднего длительности звонков в месяц по 2-м тарифам, видно, что пользователи тарифа ultra тратят гораздо больше времени на разговоры чем пользователь тарифа smart. Также меньше всего пользователи тарифа smart общались в феврале - 210 минут, а пользователи тарифа ultra меньше всего общались в январе - 400 минут. Самая большая длительность звонков фиксируется в декабре и составляет 639 минут для тарифа ultra и 474 для тарифа smart."
   ]
  },
  {
   "cell_type": "markdown",
   "metadata": {},
   "source": [
    "Диаграмма размаха среднего значения длительности звонков в месяц по 2-м тарифам"
   ]
  },
  {
   "cell_type": "code",
   "execution_count": 29,
   "metadata": {},
   "outputs": [
    {
     "data": {
      "image/png": "[encoded data removed]",
      "text/plain": [
       "<Figure size 864x720 with 1 Axes>"
      ]
     },
     "metadata": {
      "needs_background": "light"
     },
     "output_type": "display_data"
    }
   ],
   "source": [
    "pr.plot(kind='box', figsize = (12,10), grid=True)\n",
    "plt.title('Диаграмма размаха длительности звонков в месяц по 2-м тарифам'+ \"\\n\")\n",
    "plt.xlabel('Тариф')\n",
    "plt.ylabel('Минуты')\n",
    "plt.show()"
   ]
  },
  {
   "cell_type": "code",
   "execution_count": 30,
   "metadata": {},
   "outputs": [
    {
     "data": {
      "text/html": [
       "<div>\n",
       "<style scoped>\n",
       "    .dataframe tbody tr th:only-of-type {\n",
       "        vertical-align: middle;\n",
       "    }\n",
       "\n",
       "    .dataframe tbody tr th {\n",
       "        vertical-align: top;\n",
       "    }\n",
       "\n",
       "    .dataframe thead th {\n",
       "        text-align: right;\n",
       "    }\n",
       "</style>\n",
       "<table border=\"1\" class=\"dataframe\">\n",
       "  <thead>\n",
       "    <tr style=\"text-align: right;\">\n",
       "      <th>tariff</th>\n",
       "      <th>smart</th>\n",
       "      <th>ultra</th>\n",
       "    </tr>\n",
       "  </thead>\n",
       "  <tbody>\n",
       "    <tr>\n",
       "      <td>count</td>\n",
       "      <td>12.000000</td>\n",
       "      <td>12.000000</td>\n",
       "    </tr>\n",
       "    <tr>\n",
       "      <td>mean</td>\n",
       "      <td>387.605810</td>\n",
       "      <td>511.234714</td>\n",
       "    </tr>\n",
       "    <tr>\n",
       "      <td>std</td>\n",
       "      <td>72.779777</td>\n",
       "      <td>84.765105</td>\n",
       "    </tr>\n",
       "    <tr>\n",
       "      <td>min</td>\n",
       "      <td>203.852941</td>\n",
       "      <td>297.125000</td>\n",
       "    </tr>\n",
       "    <tr>\n",
       "      <td>25%</td>\n",
       "      <td>382.304759</td>\n",
       "      <td>486.061958</td>\n",
       "    </tr>\n",
       "    <tr>\n",
       "      <td>50%</td>\n",
       "      <td>403.210359</td>\n",
       "      <td>532.430825</td>\n",
       "    </tr>\n",
       "    <tr>\n",
       "      <td>75%</td>\n",
       "      <td>428.259435</td>\n",
       "      <td>562.872688</td>\n",
       "    </tr>\n",
       "    <tr>\n",
       "      <td>max</td>\n",
       "      <td>479.985119</td>\n",
       "      <td>614.925373</td>\n",
       "    </tr>\n",
       "  </tbody>\n",
       "</table>\n",
       "</div>"
      ],
      "text/plain": [
       "tariff       smart       ultra\n",
       "count    12.000000   12.000000\n",
       "mean    387.605810  511.234714\n",
       "std      72.779777   84.765105\n",
       "min     203.852941  297.125000\n",
       "25%     382.304759  486.061958\n",
       "50%     403.210359  532.430825\n",
       "75%     428.259435  562.872688\n",
       "max     479.985119  614.925373"
      ]
     },
     "execution_count": 30,
     "metadata": {},
     "output_type": "execute_result"
    }
   ],
   "source": [
    "pr.describe()"
   ]
  },
  {
   "cell_type": "markdown",
   "metadata": {},
   "source": [
    "По диаграмме размаха видно, что медианное значение длительности звонков для тарифа smart составляет 403 минуты, а для тарифа ultra - 532 минуты. Медианное значение длительности звонков тарифа ultra хоть и больше медианы тарифа smart, но диаграмма размаха тарифа ultra немного скошена влево, следовательно, большинство пользователей данного тарифа в месяц общаются меньше медианного значения. Также видно, что практически нет выбросов и выбивающихся значений."
   ]
  },
  {
   "cell_type": "markdown",
   "metadata": {},
   "source": [
    "Дисперсия длительности звонков"
   ]
  },
  {
   "cell_type": "code",
   "execution_count": 31,
   "metadata": {},
   "outputs": [
    {
     "data": {
      "text/plain": [
       "35844.1895513438"
      ]
     },
     "execution_count": 31,
     "metadata": {},
     "output_type": "execute_result"
    }
   ],
   "source": [
    "np.var(proceeds.query('tariff == \"smart\"').calls_sum, ddof=1)"
   ]
  },
  {
   "cell_type": "code",
   "execution_count": 32,
   "metadata": {},
   "outputs": [
    {
     "data": {
      "text/plain": [
       "94203.41839614809"
      ]
     },
     "execution_count": 32,
     "metadata": {},
     "output_type": "execute_result"
    }
   ],
   "source": [
    "np.var(proceeds.query('tariff == \"ultra\"').calls_sum, ddof=1)"
   ]
  },
  {
   "cell_type": "markdown",
   "metadata": {},
   "source": [
    "Стандартное откланение длительности звонков"
   ]
  },
  {
   "cell_type": "code",
   "execution_count": 33,
   "metadata": {},
   "outputs": [
    {
     "data": {
      "text/plain": [
       "189.3256177894154"
      ]
     },
     "execution_count": 33,
     "metadata": {},
     "output_type": "execute_result"
    }
   ],
   "source": [
    "np.std(proceeds.query('tariff == \"smart\"').calls_sum, ddof=1)"
   ]
  },
  {
   "cell_type": "code",
   "execution_count": 34,
   "metadata": {},
   "outputs": [
    {
     "data": {
      "text/plain": [
       "306.9257538821858"
      ]
     },
     "execution_count": 34,
     "metadata": {},
     "output_type": "execute_result"
    }
   ],
   "source": [
    "np.std(proceeds.query('tariff == \"ultra\"').calls_sum, ddof=1)"
   ]
  },
  {
   "cell_type": "markdown",
   "metadata": {},
   "source": [
    "Гистограмма распределения стандартного отклонения длительности звонков в месяц по 2-м тарифам"
   ]
  },
  {
   "cell_type": "code",
   "execution_count": 35,
   "metadata": {},
   "outputs": [
    {
     "data": {
      "image/png": "[encoded data removed]",
      "text/plain": [
       "<Figure size 864x360 with 1 Axes>"
      ]
     },
     "metadata": {
      "needs_background": "light"
     },
     "output_type": "display_data"
    }
   ],
   "source": [
    "(proceeds\n",
    " .pivot_table(index='tariff', columns='month', values='calls_sum', aggfunc='std').T\n",
    " .plot(kind='hist', alpha=0.7, bins=10, grid=True, figsize=(12,5))\n",
    ")\n",
    "plt.title('Гистограмма распределения стандартного отклонения длительности звонков в месяц по 2-м тарифам'+ \"\\n\")\n",
    "plt.xlabel('Минуты')\n",
    "plt.ylabel('Частота')\n",
    "plt.show()"
   ]
  },
  {
   "cell_type": "markdown",
   "metadata": {},
   "source": [
    "По графику выше видно, что гистограмме распределения стандартного откланения тарифа ultra скошено влево, следовательно, большенство пользователей данного тарифа тратят на разговоры меньше медианного времени. "
   ]
  },
  {
   "cell_type": "markdown",
   "metadata": {},
   "source": [
    "### 3.2. Анализ отправленных сообщений  <a id=\"analyse_messages\"></a> \n",
    "\n",
    "Гистограмма распределения отправленных сообщений в месяц по 2-м тарифам"
   ]
  },
  {
   "cell_type": "code",
   "execution_count": 36,
   "metadata": {},
   "outputs": [
    {
     "data": {
      "image/png": "[encoded data removed]",
      "text/plain": [
       "<Figure size 864x360 with 1 Axes>"
      ]
     },
     "metadata": {
      "needs_background": "light"
     },
     "output_type": "display_data"
    }
   ],
   "source": [
    "plt.figure(figsize=(12,5))\n",
    "plt.hist(calls_smart['messages_count'], bins = 10, alpha=0.7, label='smart')\n",
    "plt.hist(calls_ultra['messages_count'], bins = 10, alpha=0.7, label='ultra')\n",
    "plt.xlabel('Число сообщений')\n",
    "plt.ylabel('Частота')\n",
    "plt.title('Гистограмма распределения отправленных сообщений в месяц по 2-м тарифам'+\"\\n\")\n",
    "plt.grid()\n",
    "plt.legend()\n",
    "plt.show()"
   ]
  },
  {
   "cell_type": "markdown",
   "metadata": {},
   "source": [
    "По гистограмме распределения отправленных сообщений видно большое количество нулевых значений. Также на гистограмме у пользователей тарифа ultra наблюдается хвост из больших значений. Довольно большое число людей с тарифом smart выбивается из лимита в 50 сообщений."
   ]
  },
  {
   "cell_type": "markdown",
   "metadata": {},
   "source": [
    "Распределение среднего значения отправленных сообщений в месяц по 2-м тарифам"
   ]
  },
  {
   "cell_type": "code",
   "execution_count": 37,
   "metadata": {},
   "outputs": [
    {
     "data": {
      "text/plain": [
       "Text(0.5, 0, 'месяц')"
      ]
     },
     "execution_count": 37,
     "metadata": {},
     "output_type": "execute_result"
    },
    {
     "data": {
      "image/png": "[encoded data removed]",
      "text/plain": [
       "<Figure size 864x360 with 1 Axes>"
      ]
     },
     "metadata": {
      "needs_background": "light"
     },
     "output_type": "display_data"
    }
   ],
   "source": [
    "messages_pr = proceeds.pivot_table(index='tariff', columns='month', values='messages_count', aggfunc='mean').T\n",
    "messages_pr.plot(kind='bar', alpha=0.7, figsize=(12,5), grid=True)\n",
    "plt.suptitle('Распределение среднего значения отправленных сообщений в месяц по 2-м тарифам'+ \"\\n\")\n",
    "plt.ylabel('Число сообщений')\n",
    "plt.xlabel('месяц')"
   ]
  },
  {
   "cell_type": "markdown",
   "metadata": {},
   "source": [
    "По графику распределения среднего отправленных сообщений в месяц по 2-м тарифам видно, что меньше всего отправлено сообщений в феврале и марте, а больше всего в декабре и октябре."
   ]
  },
  {
   "cell_type": "markdown",
   "metadata": {},
   "source": [
    "Диаграмма размаха среднего значения длительности звонков в месяц по 2-м тарифам"
   ]
  },
  {
   "cell_type": "code",
   "execution_count": 38,
   "metadata": {},
   "outputs": [
    {
     "data": {
      "image/png": "[encoded data removed]",
      "text/plain": [
       "<Figure size 864x720 with 1 Axes>"
      ]
     },
     "metadata": {
      "needs_background": "light"
     },
     "output_type": "display_data"
    }
   ],
   "source": [
    "messages_pr.plot(kind='box', figsize = (12,10), grid=True)\n",
    "plt.title('Диаграмма размаха отправленных сообщений в месяц по 2-м тарифам'+ \"\\n\")\n",
    "plt.xlabel('Тариф')\n",
    "plt.ylabel('Минуты')\n",
    "plt.show()"
   ]
  },
  {
   "cell_type": "code",
   "execution_count": 39,
   "metadata": {},
   "outputs": [
    {
     "data": {
      "text/html": [
       "<div>\n",
       "<style scoped>\n",
       "    .dataframe tbody tr th:only-of-type {\n",
       "        vertical-align: middle;\n",
       "    }\n",
       "\n",
       "    .dataframe tbody tr th {\n",
       "        vertical-align: top;\n",
       "    }\n",
       "\n",
       "    .dataframe thead th {\n",
       "        text-align: right;\n",
       "    }\n",
       "</style>\n",
       "<table border=\"1\" class=\"dataframe\">\n",
       "  <thead>\n",
       "    <tr style=\"text-align: right;\">\n",
       "      <th>tariff</th>\n",
       "      <th>smart</th>\n",
       "      <th>ultra</th>\n",
       "    </tr>\n",
       "  </thead>\n",
       "  <tbody>\n",
       "    <tr>\n",
       "      <td>count</td>\n",
       "      <td>12.000000</td>\n",
       "      <td>12.000000</td>\n",
       "    </tr>\n",
       "    <tr>\n",
       "      <td>mean</td>\n",
       "      <td>36.262730</td>\n",
       "      <td>55.169629</td>\n",
       "    </tr>\n",
       "    <tr>\n",
       "      <td>std</td>\n",
       "      <td>6.229501</td>\n",
       "      <td>12.042615</td>\n",
       "    </tr>\n",
       "    <tr>\n",
       "      <td>min</td>\n",
       "      <td>20.000000</td>\n",
       "      <td>32.937500</td>\n",
       "    </tr>\n",
       "    <tr>\n",
       "      <td>25%</td>\n",
       "      <td>35.786119</td>\n",
       "      <td>46.978205</td>\n",
       "    </tr>\n",
       "    <tr>\n",
       "      <td>50%</td>\n",
       "      <td>38.869253</td>\n",
       "      <td>55.605580</td>\n",
       "    </tr>\n",
       "    <tr>\n",
       "      <td>75%</td>\n",
       "      <td>39.116941</td>\n",
       "      <td>64.010876</td>\n",
       "    </tr>\n",
       "    <tr>\n",
       "      <td>max</td>\n",
       "      <td>42.264808</td>\n",
       "      <td>72.008547</td>\n",
       "    </tr>\n",
       "  </tbody>\n",
       "</table>\n",
       "</div>"
      ],
      "text/plain": [
       "tariff      smart      ultra\n",
       "count   12.000000  12.000000\n",
       "mean    36.262730  55.169629\n",
       "std      6.229501  12.042615\n",
       "min     20.000000  32.937500\n",
       "25%     35.786119  46.978205\n",
       "50%     38.869253  55.605580\n",
       "75%     39.116941  64.010876\n",
       "max     42.264808  72.008547"
      ]
     },
     "execution_count": 39,
     "metadata": {},
     "output_type": "execute_result"
    }
   ],
   "source": [
    "messages_pr.describe()"
   ]
  },
  {
   "cell_type": "markdown",
   "metadata": {},
   "source": [
    "По диаграмме размаха видно, что медианное значение отправленных сообщений для тарифа smart составляет 38 сообщений, а для тарифа ultra - 55. Диаграммы размаха тарифов ultra и smart скошены влево, следовательно, большинство пользователей обоих тарифов в месяц отправляют сообщения меньше медианного значения."
   ]
  },
  {
   "cell_type": "markdown",
   "metadata": {},
   "source": [
    "Дисперсия отправленных сообщений"
   ]
  },
  {
   "cell_type": "code",
   "execution_count": 40,
   "metadata": {},
   "outputs": [
    {
     "data": {
      "text/plain": [
       "717.5942011753547"
      ]
     },
     "execution_count": 40,
     "metadata": {},
     "output_type": "execute_result"
    }
   ],
   "source": [
    "np.var(proceeds.query('tariff == \"smart\"').messages_count, ddof=1)"
   ]
  },
  {
   "cell_type": "code",
   "execution_count": 41,
   "metadata": {},
   "outputs": [
    {
     "data": {
      "text/plain": [
       "2109.6591828651995"
      ]
     },
     "execution_count": 41,
     "metadata": {},
     "output_type": "execute_result"
    }
   ],
   "source": [
    "np.var(proceeds.query('tariff == \"ultra\"').messages_count, ddof=1)"
   ]
  },
  {
   "cell_type": "markdown",
   "metadata": {},
   "source": [
    "Стандартное откланение отправленных сообщений"
   ]
  },
  {
   "cell_type": "code",
   "execution_count": 42,
   "metadata": {},
   "outputs": [
    {
     "data": {
      "text/plain": [
       "26.787948804926344"
      ]
     },
     "execution_count": 42,
     "metadata": {},
     "output_type": "execute_result"
    }
   ],
   "source": [
    "np.std(proceeds.query('tariff == \"smart\"').messages_count, ddof=1)"
   ]
  },
  {
   "cell_type": "code",
   "execution_count": 43,
   "metadata": {},
   "outputs": [
    {
     "data": {
      "text/plain": [
       "45.93102636416042"
      ]
     },
     "execution_count": 43,
     "metadata": {},
     "output_type": "execute_result"
    }
   ],
   "source": [
    "np.std(proceeds.query('tariff == \"ultra\"').messages_count, ddof=1)"
   ]
  },
  {
   "cell_type": "markdown",
   "metadata": {},
   "source": [
    "Гистограмма распределения стандартного отклонения отправленных сообщений в месяц по 2-м тарифам"
   ]
  },
  {
   "cell_type": "code",
   "execution_count": 44,
   "metadata": {},
   "outputs": [
    {
     "data": {
      "image/png": "[encoded data removed]",
      "text/plain": [
       "<Figure size 864x360 with 1 Axes>"
      ]
     },
     "metadata": {
      "needs_background": "light"
     },
     "output_type": "display_data"
    }
   ],
   "source": [
    "(proceeds\n",
    " .pivot_table(index='tariff', columns='month', values='messages_count', aggfunc='std')\n",
    " .T\n",
    " .plot(kind='hist', alpha=0.7, bins=10, grid=True, figsize=(12,5))\n",
    ")\n",
    "plt.title('Гистограмма распределения стандартного отклонения отправленных сообщений в месяц по 2-м тарифам'+ \"\\n\")\n",
    "plt.xlabel('Число сообщений')\n",
    "plt.ylabel('Частота')\n",
    "plt.show()"
   ]
  },
  {
   "cell_type": "markdown",
   "metadata": {},
   "source": [
    "По гистограммам распределения стандартного отклонения отправленных сообщений видно, что обе гистограммы скошены влево."
   ]
  },
  {
   "cell_type": "markdown",
   "metadata": {},
   "source": [
    "### 3.3. Анализ интернет-трафика  <a id=\"analyse_internet\"></a> \n",
    "\n",
    "Гистограмма распределения интернет-трафика в месяц по 2-м тарифам"
   ]
  },
  {
   "cell_type": "code",
   "execution_count": 45,
   "metadata": {},
   "outputs": [
    {
     "data": {
      "image/png": "[encoded data removed]",
      "text/plain": [
       "<Figure size 864x360 with 1 Axes>"
      ]
     },
     "metadata": {
      "needs_background": "light"
     },
     "output_type": "display_data"
    }
   ],
   "source": [
    "plt.figure(figsize=(12,5))\n",
    "plt.hist(calls_smart['internet_sum'], bins = 10, alpha=0.7, label='smart')\n",
    "plt.hist(calls_ultra['internet_sum'], bins = 10, alpha=0.7, label='ultra')\n",
    "plt.xlabel('Интернет-трафик, Мб')\n",
    "plt.ylabel('Частота')\n",
    "plt.title('Гистограмма распределения интернет-трафика в месяц по 2-м тарифам'+\"\\n\")\n",
    "plt.grid()\n",
    "plt.legend()\n",
    "plt.show()"
   ]
  },
  {
   "cell_type": "markdown",
   "metadata": {},
   "source": [
    "По графику выше видно, что пользователи тарифа ultra используют интернет-трафик больше чем пользователи тарифа smart. Пользователи тарифа smart часто выбиваются из лимита в 15 Гб, а также есть небольшое число людей с тарифом ultra выбивающихся из лимита в 30 Гб. На гистограммах видны небольшое число значений с нулевым интернет-трафиком."
   ]
  },
  {
   "cell_type": "markdown",
   "metadata": {},
   "source": [
    "Распределение среднего значения потраченного интернет-трафика в месяц по 2-м тарифам"
   ]
  },
  {
   "cell_type": "code",
   "execution_count": 46,
   "metadata": {},
   "outputs": [
    {
     "data": {
      "text/plain": [
       "Text(0.5, 0, 'месяц')"
      ]
     },
     "execution_count": 46,
     "metadata": {},
     "output_type": "execute_result"
    },
    {
     "data": {
      "image/png": "[encoded data removed]",
      "text/plain": [
       "<Figure size 864x360 with 1 Axes>"
      ]
     },
     "metadata": {
      "needs_background": "light"
     },
     "output_type": "display_data"
    }
   ],
   "source": [
    "internet_pr = proceeds.pivot_table(index='tariff', columns='month', values='internet_sum', aggfunc='mean').T\n",
    "internet_pr.plot(kind='bar', alpha=0.7, figsize=(12,5), grid=True)\n",
    "plt.suptitle('Распределение среднего значения потраченного интернет-трафика в месяц по 2-м тарифам'+ \"\\n\")\n",
    "plt.ylabel('Интернет-трафик, Мб')\n",
    "plt.xlabel('месяц')"
   ]
  },
  {
   "cell_type": "markdown",
   "metadata": {},
   "source": [
    "По графику распределения среднего потраченного интернет-трафика в месяц по 2-м тарифам, видно, что пользователи обоих тарифов примерно одинаково используют интернет-трафик."
   ]
  },
  {
   "cell_type": "markdown",
   "metadata": {},
   "source": [
    "Диаграмма размаха среднего значения потраченного интернет-трафика в месяц по 2-м тарифам"
   ]
  },
  {
   "cell_type": "code",
   "execution_count": 47,
   "metadata": {},
   "outputs": [
    {
     "data": {
      "image/png": "[encoded data removed]",
      "text/plain": [
       "<Figure size 864x720 with 1 Axes>"
      ]
     },
     "metadata": {
      "needs_background": "light"
     },
     "output_type": "display_data"
    }
   ],
   "source": [
    "internet_pr.plot(kind='box', figsize = (12,10), grid=True)\n",
    "plt.title('Диаграмма размаха интернет-трафика в месяц по 2-м тарифам'+ \"\\n\")\n",
    "plt.xlabel('Тариф')\n",
    "plt.ylabel('Интернет-трафик, Мб')\n",
    "plt.show()"
   ]
  },
  {
   "cell_type": "code",
   "execution_count": 48,
   "metadata": {},
   "outputs": [
    {
     "data": {
      "text/html": [
       "<div>\n",
       "<style scoped>\n",
       "    .dataframe tbody tr th:only-of-type {\n",
       "        vertical-align: middle;\n",
       "    }\n",
       "\n",
       "    .dataframe tbody tr th {\n",
       "        vertical-align: top;\n",
       "    }\n",
       "\n",
       "    .dataframe thead th {\n",
       "        text-align: right;\n",
       "    }\n",
       "</style>\n",
       "<table border=\"1\" class=\"dataframe\">\n",
       "  <thead>\n",
       "    <tr style=\"text-align: right;\">\n",
       "      <th>tariff</th>\n",
       "      <th>smart</th>\n",
       "      <th>ultra</th>\n",
       "    </tr>\n",
       "  </thead>\n",
       "  <tbody>\n",
       "    <tr>\n",
       "      <td>count</td>\n",
       "      <td>12.000000</td>\n",
       "      <td>12.000000</td>\n",
       "    </tr>\n",
       "    <tr>\n",
       "      <td>mean</td>\n",
       "      <td>15083.613790</td>\n",
       "      <td>18443.306354</td>\n",
       "    </tr>\n",
       "    <tr>\n",
       "      <td>std</td>\n",
       "      <td>2678.569026</td>\n",
       "      <td>2867.635425</td>\n",
       "    </tr>\n",
       "    <tr>\n",
       "      <td>min</td>\n",
       "      <td>8524.441176</td>\n",
       "      <td>12858.500000</td>\n",
       "    </tr>\n",
       "    <tr>\n",
       "      <td>25%</td>\n",
       "      <td>14712.763393</td>\n",
       "      <td>17374.929730</td>\n",
       "    </tr>\n",
       "    <tr>\n",
       "      <td>50%</td>\n",
       "      <td>15819.983437</td>\n",
       "      <td>19532.836523</td>\n",
       "    </tr>\n",
       "    <tr>\n",
       "      <td>75%</td>\n",
       "      <td>16722.080259</td>\n",
       "      <td>20022.751140</td>\n",
       "    </tr>\n",
       "    <tr>\n",
       "      <td>max</td>\n",
       "      <td>18136.833828</td>\n",
       "      <td>21971.659420</td>\n",
       "    </tr>\n",
       "  </tbody>\n",
       "</table>\n",
       "</div>"
      ],
      "text/plain": [
       "tariff         smart         ultra\n",
       "count      12.000000     12.000000\n",
       "mean    15083.613790  18443.306354\n",
       "std      2678.569026   2867.635425\n",
       "min      8524.441176  12858.500000\n",
       "25%     14712.763393  17374.929730\n",
       "50%     15819.983437  19532.836523\n",
       "75%     16722.080259  20022.751140\n",
       "max     18136.833828  21971.659420"
      ]
     },
     "execution_count": 48,
     "metadata": {},
     "output_type": "execute_result"
    }
   ],
   "source": [
    "internet_pr.describe()"
   ]
  },
  {
   "cell_type": "markdown",
   "metadata": {},
   "source": [
    "По диаграмме размаха видно, что медианное значение потраченного интернет-трафика для тарифа smart составляет 15.8 Гб, а для тарифа ultra - 19.5 Гб. Диаграмма размаха тарифа ultra скошена вправо, следовательно, большинство пользователей данного тарифа в месяц используют интернет-трафик больше медианного значения."
   ]
  },
  {
   "cell_type": "markdown",
   "metadata": {},
   "source": [
    "Дисперсия интернет-трафика"
   ]
  },
  {
   "cell_type": "code",
   "execution_count": 49,
   "metadata": {},
   "outputs": [
    {
     "data": {
      "text/plain": [
       "34443100.68133359"
      ]
     },
     "execution_count": 49,
     "metadata": {},
     "output_type": "execute_result"
    }
   ],
   "source": [
    "np.var(proceeds.query('tariff == \"smart\"').internet_sum, ddof=1)"
   ]
  },
  {
   "cell_type": "code",
   "execution_count": 50,
   "metadata": {},
   "outputs": [
    {
     "data": {
      "text/plain": [
       "99043439.6079566"
      ]
     },
     "execution_count": 50,
     "metadata": {},
     "output_type": "execute_result"
    }
   ],
   "source": [
    "np.var(proceeds.query('tariff == \"ultra\"').internet_sum, ddof=1)"
   ]
  },
  {
   "cell_type": "markdown",
   "metadata": {},
   "source": [
    "Стандартное откланение интернет-трафика"
   ]
  },
  {
   "cell_type": "code",
   "execution_count": 51,
   "metadata": {},
   "outputs": [
    {
     "data": {
      "text/plain": [
       "5868.824471845583"
      ]
     },
     "execution_count": 51,
     "metadata": {},
     "output_type": "execute_result"
    }
   ],
   "source": [
    "np.std(proceeds.query('tariff == \"smart\"').internet_sum, ddof=1)"
   ]
  },
  {
   "cell_type": "code",
   "execution_count": 52,
   "metadata": {},
   "outputs": [
    {
     "data": {
      "text/plain": [
       "9952.057054094726"
      ]
     },
     "execution_count": 52,
     "metadata": {},
     "output_type": "execute_result"
    }
   ],
   "source": [
    "np.std(proceeds.query('tariff == \"ultra\"').internet_sum, ddof=1)"
   ]
  },
  {
   "cell_type": "markdown",
   "metadata": {},
   "source": [
    "Гистограмма распределения стандартного отклонения интернет-трафика в месяц по 2-м тарифам"
   ]
  },
  {
   "cell_type": "code",
   "execution_count": 53,
   "metadata": {},
   "outputs": [
    {
     "data": {
      "image/png": "[encoded data removed]",
      "text/plain": [
       "<Figure size 864x360 with 1 Axes>"
      ]
     },
     "metadata": {
      "needs_background": "light"
     },
     "output_type": "display_data"
    }
   ],
   "source": [
    "(proceeds\n",
    " .pivot_table(index='tariff', columns='month', values='internet_sum', aggfunc='std')\n",
    " .T\n",
    " .plot(kind='hist', alpha=0.7, bins=10, grid=True, figsize=(12,5))\n",
    ")\n",
    "plt.title('Гистограмма распределения стандартного отклонения интернет-трафика в месяц по 2-м тарифам'+ \"\\n\")\n",
    "plt.xlabel('Интернет-трафик, Мб')\n",
    "plt.ylabel('Частота')\n",
    "plt.show()"
   ]
  },
  {
   "cell_type": "markdown",
   "metadata": {},
   "source": [
    "По гистограммам распределениям стандартного отклонения интернет-трафика заметно, что гистограмма тарифа smart скошена влево, а гистограмма интернет-трафика тарифа ultra скошена вправо."
   ]
  },
  {
   "cell_type": "markdown",
   "metadata": {},
   "source": [
    "### Вывод:\n",
    "\n",
    "В данном пункте были построены гистограммы распределения, распределения, диаграммы размаха и гистограммы стандартного отклонения для всех параметров по месяцам двух тариф, также посчитаны дисперсии. Исходя из проанализированных данных выяснилось следующее:\n",
    "* В среднем пользователи тарифа smart и ultra тратят на разговоры 400 и 532 минуты соответственно, также пользователи тарифа smart чаще выбиваются из лимита в 500 минут;\n",
    "* Среднее число отправленных сообщений пользователей тарифа smart и ultra 38 и 55 соответственно;\n",
    "* Среднее число потраченного интернет-трафика для тарифа smart составляет 15.8 Гб, а для тарифа ultra - 19.5 Гб, также пользователи тарифа smart часто исчерпывают месячный лимит в 15 Гб.\n"
   ]
  },
  {
   "cell_type": "markdown",
   "metadata": {},
   "source": [
    "## 4. Проверка гипотез <a id=\"hypotheses\"></a>"
   ]
  },
  {
   "cell_type": "markdown",
   "metadata": {},
   "source": [
    "Средняя выручка пользователей тарифов «Ультра» и «Смарт» различается\n",
    "\n",
    "Сформулируем нулевую гипотезу H₀: средняя выручка пользователей тарифов ultra и smart равна. Тогда альтернативная гипотеза H₁ будет звучать так: средняя выручка пользователей тарифов ultra и smart различается."
   ]
  },
  {
   "cell_type": "code",
   "execution_count": 54,
   "metadata": {},
   "outputs": [
    {
     "name": "stdout",
     "output_type": "stream",
     "text": [
      "Cредняя выручка тарифа smart: 1233.0430318105382\n",
      "Cредняя выручка тарифа ultra: 2060.417871688007\n"
     ]
    }
   ],
   "source": [
    "proceeds_smart_mean = calls_smart['total_proceeds'].mean()\n",
    "proceeds_ultra_mean = calls_ultra['total_proceeds'].mean()\n",
    "print('Cредняя выручка тарифа smart:',proceeds_smart_mean)\n",
    "print('Cредняя выручка тарифа ultra:',proceeds_ultra_mean)"
   ]
  },
  {
   "cell_type": "code",
   "execution_count": 55,
   "metadata": {},
   "outputs": [
    {
     "name": "stdout",
     "output_type": "stream",
     "text": [
      "pvalue = 6.129437607155033e-191\n",
      "Отвергаем нулевую гипотезу\n"
     ]
    }
   ],
   "source": [
    "alpha = 0.05\n",
    "results1 = st.ttest_ind(calls_smart['total_proceeds'], calls_ultra['total_proceeds'])\n",
    "print('pvalue =',results1.pvalue)\n",
    "if results1.pvalue < alpha:\n",
    "    print(\"Отвергаем нулевую гипотезу\")\n",
    "else:\n",
    "    print(\"Не получилось отвергнуть нулевую гипотезу\")"
   ]
  },
  {
   "cell_type": "markdown",
   "metadata": {},
   "source": [
    "Методом t-теста для сравнения двух генеральных совокупностей определено, что средняя выручка пользователей тарифов ultra и smart различается."
   ]
  },
  {
   "cell_type": "markdown",
   "metadata": {},
   "source": [
    "Средняя выручка пользователей из Москвы отличается от выручки пользователей из других регионов\n",
    "\n",
    "Гипотеза H₀: средняя выручка пользователей из Москвы равна выручке от пользователей из других регионов;\n",
    "\n",
    "Гипотеза H₁: средняя выручка пользователей из Москвы отличается от выручки пользователей из других регионов."
   ]
  },
  {
   "cell_type": "code",
   "execution_count": 56,
   "metadata": {},
   "outputs": [
    {
     "name": "stdout",
     "output_type": "stream",
     "text": [
      "Cредняя выручка пользователей из Москвы: 1507.276761968085\n",
      "Cредняя выручка пользователей из других регионов: 1481.8855588711613\n"
     ]
    }
   ],
   "source": [
    "city = df_users.loc[:,['user_id','city']]\n",
    "proceeds = city.merge(proceeds, on=['user_id'])\n",
    "proceeds_moscow = proceeds.query('city==\"Москва\"')\n",
    "proceeds_other = proceeds.query('city not in \"Москва\"')\n",
    "proceeds_moscow_mean = proceeds_moscow['total_proceeds'].mean()\n",
    "proceeds_other_mean = proceeds_other['total_proceeds'].mean()\n",
    "print('Cредняя выручка пользователей из Москвы:',proceeds_moscow_mean)\n",
    "print('Cредняя выручка пользователей из других регионов:',proceeds_other_mean)"
   ]
  },
  {
   "cell_type": "code",
   "execution_count": 57,
   "metadata": {},
   "outputs": [
    {
     "name": "stdout",
     "output_type": "stream",
     "text": [
      "pvalue = 0.4712668200760739\n",
      "Не получилось отвергнуть нулевую гипотезу\n"
     ]
    }
   ],
   "source": [
    "alpha = 0.05\n",
    "results2 = st.ttest_ind(proceeds_other['total_proceeds'],proceeds_moscow['total_proceeds'])\n",
    "print('pvalue =', results2.pvalue)\n",
    "if results2.pvalue < alpha:\n",
    "    print(\"Отвергаем нулевую гипотезу\")\n",
    "else:\n",
    "    print(\"Не получилось отвергнуть нулевую гипотезу\")"
   ]
  },
  {
   "cell_type": "markdown",
   "metadata": {},
   "source": [
    "Методом t-теста для сравнения двух генеральных совокупностей определено, что средняя выручки пользователей из Москвы имеет вероятность различия примерно равной 50% от выручки из других регионов. Такая большая вероятность говрит о том, что различия между выборками незначительны."
   ]
  },
  {
   "cell_type": "markdown",
   "metadata": {},
   "source": [
    "## 5. Общие выводы <a id=\"conclusions\"></a>"
   ]
  },
  {
   "cell_type": "markdown",
   "metadata": {},
   "source": [
    "В ходе выполнения проекта проведено исследование тарифов телеком-компании.\n",
    "\n",
    "Перед проведением исследования данных было произведено первичное изучение файлов, в ходе которого выявлены нулевые значения и различия типов данных.\n",
    "\n",
    "При подготовке данных были оптимизированы и переведены типы данных. Нулевые значения оставлены без изменений. Также для каждого пользователя посчитаны:\n",
    "* Количество сделанных звонков и израсходованных минут разговора по месяцам;\n",
    "* Количество отправленных сообщений по месяцам;\n",
    "* Объем израсходованного интернет-трафика по месяцам;\n",
    "* Помесячную выручку с каждого пользователя.\n",
    "\n",
    "При проведении анализа данных были построены гистограммы распределения, распределения, диаграммы размаха и гистограммы стандартного отклонения для всех параметров по месяцам двух тариф, также посчитаны дисперсии. В ходе исследования вышеперечисленных графиков сделаны следующие заключениям:\n",
    "* Пользователи с тарифом ultra тратят на разговоры больше времени, чем люди с тарифом smart. Медианное значение длительности звонков для тарифа smart составляет 403 минуты, а для тарифа ultra - 532 минуты;\n",
    "* Большинство пользователей тарифа ultra тратят на разговоры меньше медианного времени;\n",
    "* Пользователи с тарифом ultra отправляют сообщения больше, чем пользователи с тарифом smart. Медианное значение отправленных сообщений для тарифа smart составляет 38 сообщений, а для тарифа ultra - 55;\n",
    "* Большинство пользователей тарифа ultra и smart отправляют сообщений меньше медианного времени;\n",
    "* Для двух тарифов наблюдаются большое количество нулевых отправленных сообщений;\n",
    "* Пользователи обоих тарифов в месяц примерно одинаково используют интернет-трафик. Медианное значение потраченного интернет-трафика для тарифа smart составляет 15.8 Гб, а для тарифа ultra - 19.5 Гб;\n",
    "* Большинство пользователей тарифа ultra в месяц используют интернет-трафик больше медианного значения, а большинство пользователей тарифа smart, наоборот, используют интернет-трафик меньше медианного значения;\n",
    "* Довольно большое число людей с тарифом smart выбивается из лимита по минутам, сообщениям и интернет-трафика.\n",
    "\n",
    "Проверка гипотез сравнением двух генеральных совокупностей показала, что в первом случае средняя выручка пользователей тарифов ultra и smart различается, при чем различие довольно сильное. Во втором случае средняя выручка пользователей из Москвы примерно равна выручке полученной от пользователей из других регионов."
   ]
  }
 ],
 "metadata": {
  "ExecuteTimeLog": [
   {
    "duration": 1059,
    "start_time": "2022-01-30T07:57:47.702Z"
   },
   {
    "duration": 386,
    "start_time": "2022-01-30T07:57:48.764Z"
   },
   {
    "duration": 10,
    "start_time": "2022-01-30T07:57:49.152Z"
   },
   {
    "duration": 167,
    "start_time": "2022-01-30T07:57:49.164Z"
   },
   {
    "duration": 28,
    "start_time": "2022-01-30T07:57:49.332Z"
   },
   {
    "duration": 7,
    "start_time": "2022-01-30T07:57:49.362Z"
   },
   {
    "duration": 149,
    "start_time": "2022-01-30T07:57:49.370Z"
   },
   {
    "duration": 26,
    "start_time": "2022-01-30T07:57:49.522Z"
   },
   {
    "duration": 7,
    "start_time": "2022-01-30T07:57:49.551Z"
   },
   {
    "duration": 131,
    "start_time": "2022-01-30T07:57:49.559Z"
   },
   {
    "duration": 7,
    "start_time": "2022-01-30T07:57:49.691Z"
   },
   {
    "duration": 18,
    "start_time": "2022-01-30T07:57:49.699Z"
   },
   {
    "duration": 12,
    "start_time": "2022-01-30T07:57:49.719Z"
   },
   {
    "duration": 8,
    "start_time": "2022-01-30T07:57:49.732Z"
   },
   {
    "duration": 85,
    "start_time": "2022-01-30T07:57:49.741Z"
   },
   {
    "duration": 50,
    "start_time": "2022-01-30T07:57:49.827Z"
   },
   {
    "duration": 54,
    "start_time": "2022-01-30T07:57:49.879Z"
   },
   {
    "duration": 156,
    "start_time": "2022-01-30T07:57:49.934Z"
   },
   {
    "duration": 65,
    "start_time": "2022-01-30T07:57:50.092Z"
   },
   {
    "duration": 95,
    "start_time": "2022-01-30T07:57:50.158Z"
   },
   {
    "duration": 8,
    "start_time": "2022-01-30T07:57:50.254Z"
   },
   {
    "duration": 20,
    "start_time": "2022-01-30T07:57:50.263Z"
   },
   {
    "duration": 178,
    "start_time": "2022-01-30T07:57:50.287Z"
   },
   {
    "duration": 162,
    "start_time": "2022-01-30T07:57:50.467Z"
   },
   {
    "duration": 183,
    "start_time": "2022-01-30T07:57:50.631Z"
   },
   {
    "duration": 211,
    "start_time": "2022-01-30T07:57:50.815Z"
   },
   {
    "duration": 282,
    "start_time": "2022-01-30T07:57:51.028Z"
   },
   {
    "duration": 296,
    "start_time": "2022-01-30T07:57:51.312Z"
   },
   {
    "duration": 263,
    "start_time": "2022-01-30T07:57:51.609Z"
   },
   {
    "duration": 14,
    "start_time": "2022-01-30T07:57:51.873Z"
   },
   {
    "duration": 8,
    "start_time": "2022-01-30T07:57:51.889Z"
   },
   {
    "duration": 5,
    "start_time": "2022-01-30T07:57:51.912Z"
   },
   {
    "duration": 5,
    "start_time": "2022-01-30T07:57:51.919Z"
   },
   {
    "duration": 5,
    "start_time": "2022-01-30T07:57:51.925Z"
   },
   {
    "duration": 308,
    "start_time": "2022-01-30T07:57:51.932Z"
   },
   {
    "duration": 265,
    "start_time": "2022-01-30T07:57:52.242Z"
   },
   {
    "duration": 303,
    "start_time": "2022-01-30T07:57:52.512Z"
   },
   {
    "duration": 252,
    "start_time": "2022-01-30T07:57:52.817Z"
   },
   {
    "duration": 13,
    "start_time": "2022-01-30T07:57:53.071Z"
   },
   {
    "duration": 6,
    "start_time": "2022-01-30T07:57:53.085Z"
   },
   {
    "duration": 24,
    "start_time": "2022-01-30T07:57:53.092Z"
   },
   {
    "duration": 6,
    "start_time": "2022-01-30T07:57:53.117Z"
   },
   {
    "duration": 6,
    "start_time": "2022-01-30T07:57:53.124Z"
   },
   {
    "duration": 299,
    "start_time": "2022-01-30T07:57:53.131Z"
   },
   {
    "duration": 313,
    "start_time": "2022-01-30T07:57:53.432Z"
   },
   {
    "duration": 292,
    "start_time": "2022-01-30T07:57:53.747Z"
   },
   {
    "duration": 260,
    "start_time": "2022-01-30T07:57:54.041Z"
   },
   {
    "duration": 16,
    "start_time": "2022-01-30T07:57:54.302Z"
   },
   {
    "duration": 8,
    "start_time": "2022-01-30T07:57:54.319Z"
   },
   {
    "duration": 20,
    "start_time": "2022-01-30T07:57:54.329Z"
   },
   {
    "duration": 22,
    "start_time": "2022-01-30T07:57:54.351Z"
   },
   {
    "duration": 8,
    "start_time": "2022-01-30T07:57:54.374Z"
   },
   {
    "duration": 275,
    "start_time": "2022-01-30T07:57:54.384Z"
   },
   {
    "duration": 4,
    "start_time": "2022-01-30T07:57:54.661Z"
   },
   {
    "duration": 6,
    "start_time": "2022-01-30T07:57:54.666Z"
   },
   {
    "duration": 17,
    "start_time": "2022-01-30T07:57:54.673Z"
   },
   {
    "duration": 20,
    "start_time": "2022-01-30T07:57:54.691Z"
   }
  ],
  "kernelspec": {
   "display_name": "Python 3",
   "language": "python",
   "name": "python3"
  },
  "language_info": {
   "codemirror_mode": {
    "name": "ipython",
    "version": 3
   },
   "file_extension": ".py",
   "mimetype": "text/x-python",
   "name": "python",
   "nbconvert_exporter": "python",
   "pygments_lexer": "ipython3",
   "version": "3.8.8"
  },
  "toc": {
   "base_numbering": 1,
   "nav_menu": {
    "height": "334px",
    "width": "508px"
   },
   "number_sections": false,
   "sideBar": true,
   "skip_h1_title": true,
   "title_cell": "Table of Contents",
   "title_sidebar": "Contents",
   "toc_cell": false,
   "toc_position": {
    "height": "calc(100% - 180px)",
    "left": "10px",
    "top": "150px",
    "width": "263.6px"
   },
   "toc_section_display": true,
   "toc_window_display": false
  }
 },
 "nbformat": 4,
 "nbformat_minor": 2
}
