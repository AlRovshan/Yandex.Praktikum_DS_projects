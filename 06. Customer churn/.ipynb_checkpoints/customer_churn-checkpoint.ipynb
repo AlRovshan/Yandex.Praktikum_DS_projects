{
 "cells": [
  {
   "cell_type": "markdown",
   "metadata": {},
   "source": [
    "# Отток клиентов"
   ]
  },
  {
   "cell_type": "markdown",
   "metadata": {},
   "source": [
    "Из банка стали уходить клиенты. Каждый месяц. Немного, но заметно. Банковские маркетологи посчитали: сохранять текущих клиентов дешевле, чем привлекать новых.\n",
    "\n",
    "Нужно спрогнозировать, уйдёт клиент из банка в ближайшее время или нет. В проекте предоставлены исторические данные о поведении клиентов и расторжении договоров с банком.\n",
    "\n",
    "Необходимо построить модель с предельно большим значением *F1*-меры (до 0.59). Также необходимо проверить *F1*-меру на тестовой выборке.\n",
    "\n",
    "Дополнительно измерим *AUC-ROC*, сравнивайте её значение с *F1*-мерой."
   ]
  },
  {
   "cell_type": "markdown",
   "metadata": {
    "toc": true
   },
   "source": [
    "<h1>Содержание<span class=\"tocSkip\"></span></h1>\n",
    "<div class=\"toc\"><ul class=\"toc-item\"><li><span><a href=\"#Подготовка-данных\" data-toc-modified-id=\"Подготовка-данных-1\"><span class=\"toc-item-num\">1&nbsp;&nbsp;</span>Подготовка данных</a></span><ul class=\"toc-item\"><li><span><a href=\"#Вывод\" data-toc-modified-id=\"Вывод-1.1\"><span class=\"toc-item-num\">1.1&nbsp;&nbsp;</span>Вывод</a></span></li></ul></li><li><span><a href=\"#Исследование-задачи\" data-toc-modified-id=\"Исследование-задачи-2\"><span class=\"toc-item-num\">2&nbsp;&nbsp;</span>Исследование задачи</a></span><ul class=\"toc-item\"><li><span><a href=\"#Разделение-выборки\" data-toc-modified-id=\"Разделение-выборки-2.1\"><span class=\"toc-item-num\">2.1&nbsp;&nbsp;</span>Разделение выборки</a></span></li><li><span><a href=\"#Стандартизация\" data-toc-modified-id=\"Стандартизация-2.2\"><span class=\"toc-item-num\">2.2&nbsp;&nbsp;</span>Стандартизация</a></span></li><li><span><a href=\"#Дерево-решений\" data-toc-modified-id=\"Дерево-решений-2.3\"><span class=\"toc-item-num\">2.3&nbsp;&nbsp;</span>Дерево решений</a></span></li><li><span><a href=\"#Случайный-лес\" data-toc-modified-id=\"Случайный-лес-2.4\"><span class=\"toc-item-num\">2.4&nbsp;&nbsp;</span>Случайный лес</a></span></li><li><span><a href=\"#Логистическая-регрессия\" data-toc-modified-id=\"Логистическая-регрессия-2.5\"><span class=\"toc-item-num\">2.5&nbsp;&nbsp;</span>Логистическая регрессия</a></span></li><li><span><a href=\"#Вывод\" data-toc-modified-id=\"Вывод-2.6\"><span class=\"toc-item-num\">2.6&nbsp;&nbsp;</span>Вывод</a></span></li></ul></li><li><span><a href=\"#Борьба-с-дисбалансом\" data-toc-modified-id=\"Борьба-с-дисбалансом-3\"><span class=\"toc-item-num\">3&nbsp;&nbsp;</span>Борьба с дисбалансом</a></span><ul class=\"toc-item\"><li><span><a href=\"#Взвешивание-классов\" data-toc-modified-id=\"Взвешивание-классов-3.1\"><span class=\"toc-item-num\">3.1&nbsp;&nbsp;</span>Взвешивание классов</a></span></li><li><span><a href=\"#Увеличение-выборки\" data-toc-modified-id=\"Увеличение-выборки-3.2\"><span class=\"toc-item-num\">3.2&nbsp;&nbsp;</span>Увеличение выборки</a></span></li><li><span><a href=\"#Уменьшение-выборки\" data-toc-modified-id=\"Уменьшение-выборки-3.3\"><span class=\"toc-item-num\">3.3&nbsp;&nbsp;</span>Уменьшение выборки</a></span></li><li><span><a href=\"#Порог-классификации\" data-toc-modified-id=\"Порог-классификации-3.4\"><span class=\"toc-item-num\">3.4&nbsp;&nbsp;</span>Порог классификации</a></span></li><li><span><a href=\"#AUC-ROC\" data-toc-modified-id=\"AUC-ROC-3.5\"><span class=\"toc-item-num\">3.5&nbsp;&nbsp;</span>AUC-ROC</a></span></li><li><span><a href=\"#Вывод\" data-toc-modified-id=\"Вывод-3.6\"><span class=\"toc-item-num\">3.6&nbsp;&nbsp;</span>Вывод</a></span></li></ul></li><li><span><a href=\"#Тестирование-модели\" data-toc-modified-id=\"Тестирование-модели-4\"><span class=\"toc-item-num\">4&nbsp;&nbsp;</span>Тестирование модели</a></span><ul class=\"toc-item\"><li><span><a href=\"#Вывод\" data-toc-modified-id=\"Вывод-4.1\"><span class=\"toc-item-num\">4.1&nbsp;&nbsp;</span>Вывод</a></span></li></ul></li><li><span><a href=\"#Общий-вывод\" data-toc-modified-id=\"Общий-вывод-5\"><span class=\"toc-item-num\">5&nbsp;&nbsp;</span>Общий вывод</a></span></li><li><span><a href=\"#Чек-лист-готовности-проекта\" data-toc-modified-id=\"Чек-лист-готовности-проекта-6\"><span class=\"toc-item-num\">6&nbsp;&nbsp;</span>Чек-лист готовности проекта</a></span></li></ul></div>"
   ]
  },
  {
   "cell_type": "markdown",
   "metadata": {},
   "source": [
    "## Подготовка данных"
   ]
  },
  {
   "cell_type": "code",
   "execution_count": 1,
   "metadata": {},
   "outputs": [],
   "source": [
    "import pandas as pd\n",
    "import warnings\n",
    "warnings.filterwarnings('ignore')\n",
    "import numpy as np\n",
    "%matplotlib inline\n",
    "import matplotlib.pyplot as plt\n",
    "import seaborn as sns\n",
    "sns.set_style(\"darkgrid\")\n",
    "from sklearn.linear_model import LogisticRegression\n",
    "from sklearn.ensemble import RandomForestClassifier\n",
    "from sklearn.tree import DecisionTreeClassifier\n",
    "from sklearn.metrics import f1_score, roc_auc_score, roc_curve, precision_score, recall_score\n",
    "from sklearn.metrics import precision_recall_curve, accuracy_score\n",
    "from catboost import CatBoostClassifier\n",
    "from sklearn.preprocessing import StandardScaler\n",
    "from sklearn.model_selection import train_test_split, GridSearchCV\n",
    "from catboost import Pool, cv\n",
    "from sklearn.utils import shuffle"
   ]
  },
  {
   "cell_type": "code",
   "execution_count": 2,
   "metadata": {
    "scrolled": false
   },
   "outputs": [
    {
     "data": {
      "text/html": [
       "<div>\n",
       "<style scoped>\n",
       "    .dataframe tbody tr th:only-of-type {\n",
       "        vertical-align: middle;\n",
       "    }\n",
       "\n",
       "    .dataframe tbody tr th {\n",
       "        vertical-align: top;\n",
       "    }\n",
       "\n",
       "    .dataframe thead th {\n",
       "        text-align: right;\n",
       "    }\n",
       "</style>\n",
       "<table border=\"1\" class=\"dataframe\">\n",
       "  <thead>\n",
       "    <tr style=\"text-align: right;\">\n",
       "      <th></th>\n",
       "      <th>RowNumber</th>\n",
       "      <th>CustomerId</th>\n",
       "      <th>Surname</th>\n",
       "      <th>CreditScore</th>\n",
       "      <th>Geography</th>\n",
       "      <th>Gender</th>\n",
       "      <th>Age</th>\n",
       "      <th>Tenure</th>\n",
       "      <th>Balance</th>\n",
       "      <th>NumOfProducts</th>\n",
       "      <th>HasCrCard</th>\n",
       "      <th>IsActiveMember</th>\n",
       "      <th>EstimatedSalary</th>\n",
       "      <th>Exited</th>\n",
       "    </tr>\n",
       "  </thead>\n",
       "  <tbody>\n",
       "    <tr>\n",
       "      <td>0</td>\n",
       "      <td>1</td>\n",
       "      <td>15634602</td>\n",
       "      <td>Hargrave</td>\n",
       "      <td>619</td>\n",
       "      <td>France</td>\n",
       "      <td>Female</td>\n",
       "      <td>42</td>\n",
       "      <td>2.0</td>\n",
       "      <td>0.00</td>\n",
       "      <td>1</td>\n",
       "      <td>1</td>\n",
       "      <td>1</td>\n",
       "      <td>101348.88</td>\n",
       "      <td>1</td>\n",
       "    </tr>\n",
       "    <tr>\n",
       "      <td>1</td>\n",
       "      <td>2</td>\n",
       "      <td>15647311</td>\n",
       "      <td>Hill</td>\n",
       "      <td>608</td>\n",
       "      <td>Spain</td>\n",
       "      <td>Female</td>\n",
       "      <td>41</td>\n",
       "      <td>1.0</td>\n",
       "      <td>83807.86</td>\n",
       "      <td>1</td>\n",
       "      <td>0</td>\n",
       "      <td>1</td>\n",
       "      <td>112542.58</td>\n",
       "      <td>0</td>\n",
       "    </tr>\n",
       "    <tr>\n",
       "      <td>2</td>\n",
       "      <td>3</td>\n",
       "      <td>15619304</td>\n",
       "      <td>Onio</td>\n",
       "      <td>502</td>\n",
       "      <td>France</td>\n",
       "      <td>Female</td>\n",
       "      <td>42</td>\n",
       "      <td>8.0</td>\n",
       "      <td>159660.80</td>\n",
       "      <td>3</td>\n",
       "      <td>1</td>\n",
       "      <td>0</td>\n",
       "      <td>113931.57</td>\n",
       "      <td>1</td>\n",
       "    </tr>\n",
       "    <tr>\n",
       "      <td>3</td>\n",
       "      <td>4</td>\n",
       "      <td>15701354</td>\n",
       "      <td>Boni</td>\n",
       "      <td>699</td>\n",
       "      <td>France</td>\n",
       "      <td>Female</td>\n",
       "      <td>39</td>\n",
       "      <td>1.0</td>\n",
       "      <td>0.00</td>\n",
       "      <td>2</td>\n",
       "      <td>0</td>\n",
       "      <td>0</td>\n",
       "      <td>93826.63</td>\n",
       "      <td>0</td>\n",
       "    </tr>\n",
       "    <tr>\n",
       "      <td>4</td>\n",
       "      <td>5</td>\n",
       "      <td>15737888</td>\n",
       "      <td>Mitchell</td>\n",
       "      <td>850</td>\n",
       "      <td>Spain</td>\n",
       "      <td>Female</td>\n",
       "      <td>43</td>\n",
       "      <td>2.0</td>\n",
       "      <td>125510.82</td>\n",
       "      <td>1</td>\n",
       "      <td>1</td>\n",
       "      <td>1</td>\n",
       "      <td>79084.10</td>\n",
       "      <td>0</td>\n",
       "    </tr>\n",
       "    <tr>\n",
       "      <td>5</td>\n",
       "      <td>6</td>\n",
       "      <td>15574012</td>\n",
       "      <td>Chu</td>\n",
       "      <td>645</td>\n",
       "      <td>Spain</td>\n",
       "      <td>Male</td>\n",
       "      <td>44</td>\n",
       "      <td>8.0</td>\n",
       "      <td>113755.78</td>\n",
       "      <td>2</td>\n",
       "      <td>1</td>\n",
       "      <td>0</td>\n",
       "      <td>149756.71</td>\n",
       "      <td>1</td>\n",
       "    </tr>\n",
       "    <tr>\n",
       "      <td>6</td>\n",
       "      <td>7</td>\n",
       "      <td>15592531</td>\n",
       "      <td>Bartlett</td>\n",
       "      <td>822</td>\n",
       "      <td>France</td>\n",
       "      <td>Male</td>\n",
       "      <td>50</td>\n",
       "      <td>7.0</td>\n",
       "      <td>0.00</td>\n",
       "      <td>2</td>\n",
       "      <td>1</td>\n",
       "      <td>1</td>\n",
       "      <td>10062.80</td>\n",
       "      <td>0</td>\n",
       "    </tr>\n",
       "    <tr>\n",
       "      <td>7</td>\n",
       "      <td>8</td>\n",
       "      <td>15656148</td>\n",
       "      <td>Obinna</td>\n",
       "      <td>376</td>\n",
       "      <td>Germany</td>\n",
       "      <td>Female</td>\n",
       "      <td>29</td>\n",
       "      <td>4.0</td>\n",
       "      <td>115046.74</td>\n",
       "      <td>4</td>\n",
       "      <td>1</td>\n",
       "      <td>0</td>\n",
       "      <td>119346.88</td>\n",
       "      <td>1</td>\n",
       "    </tr>\n",
       "    <tr>\n",
       "      <td>8</td>\n",
       "      <td>9</td>\n",
       "      <td>15792365</td>\n",
       "      <td>He</td>\n",
       "      <td>501</td>\n",
       "      <td>France</td>\n",
       "      <td>Male</td>\n",
       "      <td>44</td>\n",
       "      <td>4.0</td>\n",
       "      <td>142051.07</td>\n",
       "      <td>2</td>\n",
       "      <td>0</td>\n",
       "      <td>1</td>\n",
       "      <td>74940.50</td>\n",
       "      <td>0</td>\n",
       "    </tr>\n",
       "    <tr>\n",
       "      <td>9</td>\n",
       "      <td>10</td>\n",
       "      <td>15592389</td>\n",
       "      <td>H?</td>\n",
       "      <td>684</td>\n",
       "      <td>France</td>\n",
       "      <td>Male</td>\n",
       "      <td>27</td>\n",
       "      <td>2.0</td>\n",
       "      <td>134603.88</td>\n",
       "      <td>1</td>\n",
       "      <td>1</td>\n",
       "      <td>1</td>\n",
       "      <td>71725.73</td>\n",
       "      <td>0</td>\n",
       "    </tr>\n",
       "  </tbody>\n",
       "</table>\n",
       "</div>"
      ],
      "text/plain": [
       "   RowNumber  CustomerId   Surname  CreditScore Geography  Gender  Age  \\\n",
       "0          1    15634602  Hargrave          619    France  Female   42   \n",
       "1          2    15647311      Hill          608     Spain  Female   41   \n",
       "2          3    15619304      Onio          502    France  Female   42   \n",
       "3          4    15701354      Boni          699    France  Female   39   \n",
       "4          5    15737888  Mitchell          850     Spain  Female   43   \n",
       "5          6    15574012       Chu          645     Spain    Male   44   \n",
       "6          7    15592531  Bartlett          822    France    Male   50   \n",
       "7          8    15656148    Obinna          376   Germany  Female   29   \n",
       "8          9    15792365        He          501    France    Male   44   \n",
       "9         10    15592389        H?          684    France    Male   27   \n",
       "\n",
       "   Tenure    Balance  NumOfProducts  HasCrCard  IsActiveMember  \\\n",
       "0     2.0       0.00              1          1               1   \n",
       "1     1.0   83807.86              1          0               1   \n",
       "2     8.0  159660.80              3          1               0   \n",
       "3     1.0       0.00              2          0               0   \n",
       "4     2.0  125510.82              1          1               1   \n",
       "5     8.0  113755.78              2          1               0   \n",
       "6     7.0       0.00              2          1               1   \n",
       "7     4.0  115046.74              4          1               0   \n",
       "8     4.0  142051.07              2          0               1   \n",
       "9     2.0  134603.88              1          1               1   \n",
       "\n",
       "   EstimatedSalary  Exited  \n",
       "0        101348.88       1  \n",
       "1        112542.58       0  \n",
       "2        113931.57       1  \n",
       "3         93826.63       0  \n",
       "4         79084.10       0  \n",
       "5        149756.71       1  \n",
       "6         10062.80       0  \n",
       "7        119346.88       1  \n",
       "8         74940.50       0  \n",
       "9         71725.73       0  "
      ]
     },
     "execution_count": 2,
     "metadata": {},
     "output_type": "execute_result"
    }
   ],
   "source": [
    "df = pd.read_csv('/datasets/Churn.csv')\n",
    "df.head(10)"
   ]
  },
  {
   "cell_type": "markdown",
   "metadata": {},
   "source": [
    "Переведем названия всех столбцов к нижнему регистру"
   ]
  },
  {
   "cell_type": "code",
   "execution_count": 3,
   "metadata": {},
   "outputs": [
    {
     "data": {
      "text/plain": [
       "Index(['rownumber', 'customerid', 'surname', 'creditscore', 'geography',\n",
       "       'gender', 'age', 'tenure', 'balance', 'numofproducts', 'hascrcard',\n",
       "       'isactivemember', 'estimatedsalary', 'exited'],\n",
       "      dtype='object')"
      ]
     },
     "execution_count": 3,
     "metadata": {},
     "output_type": "execute_result"
    }
   ],
   "source": [
    "df.columns = df.columns.str.lower()\n",
    "df.columns"
   ]
  },
  {
   "cell_type": "markdown",
   "metadata": {},
   "source": [
    "Удалим столбцы surname, customerid, rownumber, так как они не будут использоваться в дальнейшей работе."
   ]
  },
  {
   "cell_type": "code",
   "execution_count": 4,
   "metadata": {},
   "outputs": [],
   "source": [
    "df.drop(['rownumber', 'surname', 'customerid'], axis=1, inplace=True)"
   ]
  },
  {
   "cell_type": "code",
   "execution_count": 5,
   "metadata": {},
   "outputs": [
    {
     "name": "stdout",
     "output_type": "stream",
     "text": [
      "<class 'pandas.core.frame.DataFrame'>\n",
      "RangeIndex: 10000 entries, 0 to 9999\n",
      "Data columns (total 11 columns):\n",
      "creditscore        10000 non-null int64\n",
      "geography          10000 non-null object\n",
      "gender             10000 non-null object\n",
      "age                10000 non-null int64\n",
      "tenure             9091 non-null float64\n",
      "balance            10000 non-null float64\n",
      "numofproducts      10000 non-null int64\n",
      "hascrcard          10000 non-null int64\n",
      "isactivemember     10000 non-null int64\n",
      "estimatedsalary    10000 non-null float64\n",
      "exited             10000 non-null int64\n",
      "dtypes: float64(3), int64(6), object(2)\n",
      "memory usage: 1.9 MB\n"
     ]
    }
   ],
   "source": [
    "df.info(memory_usage='deep')"
   ]
  },
  {
   "cell_type": "markdown",
   "metadata": {},
   "source": [
    "В таблице также наблюдаются пустые значения и признаки с типом object"
   ]
  },
  {
   "cell_type": "code",
   "execution_count": 6,
   "metadata": {
    "scrolled": true
   },
   "outputs": [
    {
     "data": {
      "text/html": [
       "<div>\n",
       "<style scoped>\n",
       "    .dataframe tbody tr th:only-of-type {\n",
       "        vertical-align: middle;\n",
       "    }\n",
       "\n",
       "    .dataframe tbody tr th {\n",
       "        vertical-align: top;\n",
       "    }\n",
       "\n",
       "    .dataframe thead th {\n",
       "        text-align: right;\n",
       "    }\n",
       "</style>\n",
       "<table border=\"1\" class=\"dataframe\">\n",
       "  <thead>\n",
       "    <tr style=\"text-align: right;\">\n",
       "      <th></th>\n",
       "      <th>count</th>\n",
       "      <th>mean</th>\n",
       "      <th>std</th>\n",
       "      <th>min</th>\n",
       "      <th>25%</th>\n",
       "      <th>50%</th>\n",
       "      <th>75%</th>\n",
       "      <th>max</th>\n",
       "    </tr>\n",
       "  </thead>\n",
       "  <tbody>\n",
       "    <tr>\n",
       "      <td>creditscore</td>\n",
       "      <td>10000.0</td>\n",
       "      <td>650.528800</td>\n",
       "      <td>96.653299</td>\n",
       "      <td>350.00</td>\n",
       "      <td>584.00</td>\n",
       "      <td>652.000</td>\n",
       "      <td>718.0000</td>\n",
       "      <td>850.00</td>\n",
       "    </tr>\n",
       "    <tr>\n",
       "      <td>age</td>\n",
       "      <td>10000.0</td>\n",
       "      <td>38.921800</td>\n",
       "      <td>10.487806</td>\n",
       "      <td>18.00</td>\n",
       "      <td>32.00</td>\n",
       "      <td>37.000</td>\n",
       "      <td>44.0000</td>\n",
       "      <td>92.00</td>\n",
       "    </tr>\n",
       "    <tr>\n",
       "      <td>tenure</td>\n",
       "      <td>9091.0</td>\n",
       "      <td>4.997690</td>\n",
       "      <td>2.894723</td>\n",
       "      <td>0.00</td>\n",
       "      <td>2.00</td>\n",
       "      <td>5.000</td>\n",
       "      <td>7.0000</td>\n",
       "      <td>10.00</td>\n",
       "    </tr>\n",
       "    <tr>\n",
       "      <td>balance</td>\n",
       "      <td>10000.0</td>\n",
       "      <td>76485.889288</td>\n",
       "      <td>62397.405202</td>\n",
       "      <td>0.00</td>\n",
       "      <td>0.00</td>\n",
       "      <td>97198.540</td>\n",
       "      <td>127644.2400</td>\n",
       "      <td>250898.09</td>\n",
       "    </tr>\n",
       "    <tr>\n",
       "      <td>numofproducts</td>\n",
       "      <td>10000.0</td>\n",
       "      <td>1.530200</td>\n",
       "      <td>0.581654</td>\n",
       "      <td>1.00</td>\n",
       "      <td>1.00</td>\n",
       "      <td>1.000</td>\n",
       "      <td>2.0000</td>\n",
       "      <td>4.00</td>\n",
       "    </tr>\n",
       "    <tr>\n",
       "      <td>hascrcard</td>\n",
       "      <td>10000.0</td>\n",
       "      <td>0.705500</td>\n",
       "      <td>0.455840</td>\n",
       "      <td>0.00</td>\n",
       "      <td>0.00</td>\n",
       "      <td>1.000</td>\n",
       "      <td>1.0000</td>\n",
       "      <td>1.00</td>\n",
       "    </tr>\n",
       "    <tr>\n",
       "      <td>isactivemember</td>\n",
       "      <td>10000.0</td>\n",
       "      <td>0.515100</td>\n",
       "      <td>0.499797</td>\n",
       "      <td>0.00</td>\n",
       "      <td>0.00</td>\n",
       "      <td>1.000</td>\n",
       "      <td>1.0000</td>\n",
       "      <td>1.00</td>\n",
       "    </tr>\n",
       "    <tr>\n",
       "      <td>estimatedsalary</td>\n",
       "      <td>10000.0</td>\n",
       "      <td>100090.239881</td>\n",
       "      <td>57510.492818</td>\n",
       "      <td>11.58</td>\n",
       "      <td>51002.11</td>\n",
       "      <td>100193.915</td>\n",
       "      <td>149388.2475</td>\n",
       "      <td>199992.48</td>\n",
       "    </tr>\n",
       "    <tr>\n",
       "      <td>exited</td>\n",
       "      <td>10000.0</td>\n",
       "      <td>0.203700</td>\n",
       "      <td>0.402769</td>\n",
       "      <td>0.00</td>\n",
       "      <td>0.00</td>\n",
       "      <td>0.000</td>\n",
       "      <td>0.0000</td>\n",
       "      <td>1.00</td>\n",
       "    </tr>\n",
       "  </tbody>\n",
       "</table>\n",
       "</div>"
      ],
      "text/plain": [
       "                   count           mean           std     min       25%  \\\n",
       "creditscore      10000.0     650.528800     96.653299  350.00    584.00   \n",
       "age              10000.0      38.921800     10.487806   18.00     32.00   \n",
       "tenure            9091.0       4.997690      2.894723    0.00      2.00   \n",
       "balance          10000.0   76485.889288  62397.405202    0.00      0.00   \n",
       "numofproducts    10000.0       1.530200      0.581654    1.00      1.00   \n",
       "hascrcard        10000.0       0.705500      0.455840    0.00      0.00   \n",
       "isactivemember   10000.0       0.515100      0.499797    0.00      0.00   \n",
       "estimatedsalary  10000.0  100090.239881  57510.492818   11.58  51002.11   \n",
       "exited           10000.0       0.203700      0.402769    0.00      0.00   \n",
       "\n",
       "                        50%          75%        max  \n",
       "creditscore         652.000     718.0000     850.00  \n",
       "age                  37.000      44.0000      92.00  \n",
       "tenure                5.000       7.0000      10.00  \n",
       "balance           97198.540  127644.2400  250898.09  \n",
       "numofproducts         1.000       2.0000       4.00  \n",
       "hascrcard             1.000       1.0000       1.00  \n",
       "isactivemember        1.000       1.0000       1.00  \n",
       "estimatedsalary  100193.915  149388.2475  199992.48  \n",
       "exited                0.000       0.0000       1.00  "
      ]
     },
     "execution_count": 6,
     "metadata": {},
     "output_type": "execute_result"
    }
   ],
   "source": [
    "df.describe().T"
   ]
  },
  {
   "cell_type": "code",
   "execution_count": 7,
   "metadata": {},
   "outputs": [
    {
     "data": {
      "text/plain": [
       "0"
      ]
     },
     "execution_count": 7,
     "metadata": {},
     "output_type": "execute_result"
    }
   ],
   "source": [
    "df.duplicated().sum()"
   ]
  },
  {
   "cell_type": "code",
   "execution_count": 8,
   "metadata": {},
   "outputs": [
    {
     "data": {
      "text/plain": [
       "0    7963\n",
       "1    2037\n",
       "Name: exited, dtype: int64"
      ]
     },
     "execution_count": 8,
     "metadata": {},
     "output_type": "execute_result"
    }
   ],
   "source": [
    "df.exited.value_counts()"
   ]
  },
  {
   "cell_type": "markdown",
   "metadata": {},
   "source": [
    "Распределение значений в столбце exited говорит о дисбалансе"
   ]
  },
  {
   "cell_type": "markdown",
   "metadata": {},
   "source": [
    "Заполним пустые ячейки в столбце tenure средним значением."
   ]
  },
  {
   "cell_type": "code",
   "execution_count": 9,
   "metadata": {},
   "outputs": [],
   "source": [
    "tenure_mean = df['tenure'].mean()\n",
    "df['tenure'] = df['tenure'].fillna(value=tenure_mean)"
   ]
  },
  {
   "cell_type": "markdown",
   "metadata": {},
   "source": [
    "Переведем столбцы geography и gender к численному типу с помощью One-hot-encoding"
   ]
  },
  {
   "cell_type": "code",
   "execution_count": 10,
   "metadata": {},
   "outputs": [
    {
     "data": {
      "text/plain": [
       "France     5014\n",
       "Germany    2509\n",
       "Spain      2477\n",
       "Name: geography, dtype: int64"
      ]
     },
     "execution_count": 10,
     "metadata": {},
     "output_type": "execute_result"
    }
   ],
   "source": [
    "df['geography'].value_counts()"
   ]
  },
  {
   "cell_type": "code",
   "execution_count": 11,
   "metadata": {},
   "outputs": [
    {
     "data": {
      "text/plain": [
       "Male      5457\n",
       "Female    4543\n",
       "Name: gender, dtype: int64"
      ]
     },
     "execution_count": 11,
     "metadata": {},
     "output_type": "execute_result"
    }
   ],
   "source": [
    "df['gender'].value_counts()"
   ]
  },
  {
   "cell_type": "code",
   "execution_count": 12,
   "metadata": {},
   "outputs": [
    {
     "data": {
      "text/html": [
       "<div>\n",
       "<style scoped>\n",
       "    .dataframe tbody tr th:only-of-type {\n",
       "        vertical-align: middle;\n",
       "    }\n",
       "\n",
       "    .dataframe tbody tr th {\n",
       "        vertical-align: top;\n",
       "    }\n",
       "\n",
       "    .dataframe thead th {\n",
       "        text-align: right;\n",
       "    }\n",
       "</style>\n",
       "<table border=\"1\" class=\"dataframe\">\n",
       "  <thead>\n",
       "    <tr style=\"text-align: right;\">\n",
       "      <th></th>\n",
       "      <th>creditscore</th>\n",
       "      <th>age</th>\n",
       "      <th>tenure</th>\n",
       "      <th>balance</th>\n",
       "      <th>numofproducts</th>\n",
       "      <th>hascrcard</th>\n",
       "      <th>isactivemember</th>\n",
       "      <th>estimatedsalary</th>\n",
       "      <th>exited</th>\n",
       "      <th>germany</th>\n",
       "      <th>spain</th>\n",
       "      <th>male</th>\n",
       "    </tr>\n",
       "  </thead>\n",
       "  <tbody>\n",
       "    <tr>\n",
       "      <td>0</td>\n",
       "      <td>619</td>\n",
       "      <td>42</td>\n",
       "      <td>2.0</td>\n",
       "      <td>0.00</td>\n",
       "      <td>1</td>\n",
       "      <td>1</td>\n",
       "      <td>1</td>\n",
       "      <td>101348.88</td>\n",
       "      <td>1</td>\n",
       "      <td>0</td>\n",
       "      <td>0</td>\n",
       "      <td>0</td>\n",
       "    </tr>\n",
       "    <tr>\n",
       "      <td>1</td>\n",
       "      <td>608</td>\n",
       "      <td>41</td>\n",
       "      <td>1.0</td>\n",
       "      <td>83807.86</td>\n",
       "      <td>1</td>\n",
       "      <td>0</td>\n",
       "      <td>1</td>\n",
       "      <td>112542.58</td>\n",
       "      <td>0</td>\n",
       "      <td>0</td>\n",
       "      <td>1</td>\n",
       "      <td>0</td>\n",
       "    </tr>\n",
       "    <tr>\n",
       "      <td>2</td>\n",
       "      <td>502</td>\n",
       "      <td>42</td>\n",
       "      <td>8.0</td>\n",
       "      <td>159660.80</td>\n",
       "      <td>3</td>\n",
       "      <td>1</td>\n",
       "      <td>0</td>\n",
       "      <td>113931.57</td>\n",
       "      <td>1</td>\n",
       "      <td>0</td>\n",
       "      <td>0</td>\n",
       "      <td>0</td>\n",
       "    </tr>\n",
       "    <tr>\n",
       "      <td>3</td>\n",
       "      <td>699</td>\n",
       "      <td>39</td>\n",
       "      <td>1.0</td>\n",
       "      <td>0.00</td>\n",
       "      <td>2</td>\n",
       "      <td>0</td>\n",
       "      <td>0</td>\n",
       "      <td>93826.63</td>\n",
       "      <td>0</td>\n",
       "      <td>0</td>\n",
       "      <td>0</td>\n",
       "      <td>0</td>\n",
       "    </tr>\n",
       "    <tr>\n",
       "      <td>4</td>\n",
       "      <td>850</td>\n",
       "      <td>43</td>\n",
       "      <td>2.0</td>\n",
       "      <td>125510.82</td>\n",
       "      <td>1</td>\n",
       "      <td>1</td>\n",
       "      <td>1</td>\n",
       "      <td>79084.10</td>\n",
       "      <td>0</td>\n",
       "      <td>0</td>\n",
       "      <td>1</td>\n",
       "      <td>0</td>\n",
       "    </tr>\n",
       "  </tbody>\n",
       "</table>\n",
       "</div>"
      ],
      "text/plain": [
       "   creditscore  age  tenure    balance  numofproducts  hascrcard  \\\n",
       "0          619   42     2.0       0.00              1          1   \n",
       "1          608   41     1.0   83807.86              1          0   \n",
       "2          502   42     8.0  159660.80              3          1   \n",
       "3          699   39     1.0       0.00              2          0   \n",
       "4          850   43     2.0  125510.82              1          1   \n",
       "\n",
       "   isactivemember  estimatedsalary  exited  germany  spain  male  \n",
       "0               1        101348.88       1        0      0     0  \n",
       "1               1        112542.58       0        0      1     0  \n",
       "2               0        113931.57       1        0      0     0  \n",
       "3               0         93826.63       0        0      0     0  \n",
       "4               1         79084.10       0        0      1     0  "
      ]
     },
     "execution_count": 12,
     "metadata": {},
     "output_type": "execute_result"
    }
   ],
   "source": [
    "geo = pd.get_dummies(df['geography'], drop_first=True)\n",
    "gender = pd.get_dummies(df['gender'], drop_first=True)\n",
    "df = pd.concat([df, geo, gender], axis=1)\n",
    "df.drop([\"gender\", \"geography\"], axis=1, inplace=True)\n",
    "df.columns = df.columns.str.lower()\n",
    "df.head()"
   ]
  },
  {
   "cell_type": "markdown",
   "metadata": {},
   "source": [
    "### Вывод"
   ]
  },
  {
   "cell_type": "markdown",
   "metadata": {},
   "source": [
    "При подготовке данных выявлены и заполнены пустые значения, выявлен дисбаланс в целевом признаке, столбцы объектового типа преобразованы к числовому типу."
   ]
  },
  {
   "cell_type": "markdown",
   "metadata": {},
   "source": [
    "## Исследование задачи"
   ]
  },
  {
   "cell_type": "markdown",
   "metadata": {},
   "source": [
    "### Разделение выборки"
   ]
  },
  {
   "cell_type": "code",
   "execution_count": 13,
   "metadata": {},
   "outputs": [],
   "source": [
    "features = df.drop(['exited'], axis=1)\n",
    "target = df['exited']\n",
    "\n",
    "features_train, features_valid, target_train, target_valid = train_test_split(features, target,\n",
    "                                                                              test_size=0.20, random_state=12345)\n",
    "\n",
    "features_train, features_test, target_train, target_test = train_test_split(features_train, \n",
    "                                                                            target_train, test_size=0.25, random_state=12345)\n"
   ]
  },
  {
   "cell_type": "markdown",
   "metadata": {},
   "source": [
    "### Стандартизация"
   ]
  },
  {
   "cell_type": "code",
   "execution_count": 14,
   "metadata": {},
   "outputs": [],
   "source": [
    "numeric = ['creditscore', 'age', 'balance', 'estimatedsalary']\n",
    "scaler = StandardScaler()\n",
    "scaler.fit(features_train[numeric])\n",
    "pd.options.mode.chained_assignment = None\n",
    "features_train[numeric] = scaler.transform(features_train[numeric])\n",
    "\n",
    "features_valid[numeric] = scaler.transform(features_valid[numeric])\n",
    "\n",
    "features_test[numeric] = scaler.transform(features_test[numeric])"
   ]
  },
  {
   "cell_type": "markdown",
   "metadata": {},
   "source": [
    "### Дерево решений"
   ]
  },
  {
   "cell_type": "markdown",
   "metadata": {},
   "source": [
    "Обучим модель с несбалансированными данными"
   ]
  },
  {
   "cell_type": "code",
   "execution_count": 15,
   "metadata": {
    "scrolled": false
   },
   "outputs": [
    {
     "name": "stdout",
     "output_type": "stream",
     "text": [
      "F1: 0.57\n",
      "глубина дерева: 5\n",
      "min_samples_leaf: 12\n",
      "min_samples_split: 2\n",
      "CPU times: user 22.3 s, sys: 15.3 ms, total: 22.3 s\n",
      "Wall time: 22.4 s\n"
     ]
    }
   ],
   "source": [
    "%%time\n",
    "best_result_depth = 0\n",
    "for depth in range(1,21):\n",
    "    for leaf in range(1,15):\n",
    "        for split in range(2, 5):\n",
    "            model_depth = DecisionTreeClassifier(random_state=12345, max_depth=depth, \n",
    "                                                 min_samples_leaf = leaf, min_samples_split = split)\n",
    "            model_depth.fit(features_train, target_train)\n",
    "            predicted_valid_depth = model_depth.predict(features_valid)\n",
    "            result_depth = f1_score(target_valid, predicted_valid_depth)\n",
    "            if result_depth > best_result_depth:\n",
    "                best_result_depth = result_depth\n",
    "                best_depth = depth\n",
    "                best_leaf = leaf\n",
    "                best_split = split\n",
    "                best_model_depth = model_depth\n",
    "                \n",
    "print('F1: {:.2f}'.format(best_result_depth))\n",
    "print('глубина дерева: {}'.format(best_depth))\n",
    "print('min_samples_leaf: {}'.format(best_leaf))\n",
    "print('min_samples_split: {}'.format(best_split))"
   ]
  },
  {
   "cell_type": "markdown",
   "metadata": {},
   "source": [
    "### Случайный лес"
   ]
  },
  {
   "cell_type": "markdown",
   "metadata": {},
   "source": [
    "Несбалансированный"
   ]
  },
  {
   "cell_type": "code",
   "execution_count": 16,
   "metadata": {},
   "outputs": [
    {
     "name": "stdout",
     "output_type": "stream",
     "text": [
      "F1: 0.5744360902255639\n",
      "число деревьев: 10\n",
      "глубина дерева: 9\n",
      "min_samples_leaf: 3\n",
      "CPU times: user 1min 16s, sys: 216 ms, total: 1min 17s\n",
      "Wall time: 1min 17s\n"
     ]
    }
   ],
   "source": [
    "%%time\n",
    "best_result_est = 0\n",
    "for est in range(10,41,10):\n",
    "    for depth in range(1,11):\n",
    "        for leaf in range(1,15):\n",
    "            model_est = RandomForestClassifier(random_state=12345, n_estimators=est, max_depth=depth, \n",
    "                                               min_samples_leaf = leaf)\n",
    "            model_est.fit(features_train, target_train)\n",
    "            predicted_valid_est = model_est.predict(features_valid)\n",
    "            result_est = f1_score(target_valid, predicted_valid_est)\n",
    "            if result_est > best_result_est:\n",
    "                best_result_est = result_est\n",
    "                best_est = est\n",
    "                best_depth = depth\n",
    "                best_leaf = leaf\n",
    "                best_model_est = model_est\n",
    "print(\"F1:\", best_result_est)\n",
    "print('число деревьев: {}'.format(best_est))\n",
    "print('глубина дерева: {}'.format(best_depth))\n",
    "print('min_samples_leaf: {}'.format(best_leaf))"
   ]
  },
  {
   "cell_type": "markdown",
   "metadata": {},
   "source": [
    "### Логистическая регрессия"
   ]
  },
  {
   "cell_type": "markdown",
   "metadata": {},
   "source": [
    "Несбалансированный"
   ]
  },
  {
   "cell_type": "code",
   "execution_count": 17,
   "metadata": {},
   "outputs": [
    {
     "name": "stdout",
     "output_type": "stream",
     "text": [
      "F1: 0.30\n",
      "solver: liblinear\n",
      "best_warm_start: True\n",
      "CPU times: user 2 s, sys: 1.57 s, total: 3.56 s\n",
      "Wall time: 3.53 s\n"
     ]
    }
   ],
   "source": [
    "%%time\n",
    "best_result_reg = 0\n",
    "for solver in {'newton-cg', 'lbfgs', 'liblinear', 'sag', 'saga'}:\n",
    "    for warm_start in {'True', 'False'}:\n",
    "        model_regression = LogisticRegression(random_state=12345, solver=solver, warm_start = warm_start)\n",
    "        model_regression.fit(features_train,target_train)\n",
    "        predicted_valid_reg = model_regression.predict(features_valid)\n",
    "        result_reg = f1_score(target_valid, predicted_valid_reg)\n",
    "        if result_reg > best_result_reg:\n",
    "            best_result_reg = result_reg\n",
    "            best_solver = solver\n",
    "            best_warm_start = warm_start\n",
    "            best_model_regression = model_regression\n",
    "                \n",
    "print('F1: {:.2f}'.format(best_result_reg))\n",
    "print('solver: {}'.format(best_solver))\n",
    "print('best_warm_start: {}'.format(best_warm_start))"
   ]
  },
  {
   "cell_type": "markdown",
   "metadata": {},
   "source": [
    "### Вывод"
   ]
  },
  {
   "cell_type": "markdown",
   "metadata": {},
   "source": [
    "В данном пункте исследовались модели дерева решений, случайного леса и логистической регрессии на несбалансированных данных, а также изменялись параметры моделей для выявления наилучших. Наибольшего качество f1 удалось достичь для модели дерева решений и случайного леса, для которых f1 = 0.57, что немного меньше установленого порога f1 равному 0.59."
   ]
  },
  {
   "cell_type": "markdown",
   "metadata": {},
   "source": [
    "## Борьба с дисбалансом"
   ]
  },
  {
   "cell_type": "code",
   "execution_count": 18,
   "metadata": {},
   "outputs": [
    {
     "data": {
      "text/plain": [
       "0    7963\n",
       "1    2037\n",
       "Name: exited, dtype: int64"
      ]
     },
     "execution_count": 18,
     "metadata": {},
     "output_type": "execute_result"
    }
   ],
   "source": [
    "df['exited'].value_counts()"
   ]
  },
  {
   "cell_type": "markdown",
   "metadata": {},
   "source": [
    "### Взвешивание классов"
   ]
  },
  {
   "cell_type": "markdown",
   "metadata": {},
   "source": [
    "Сбалансируем данные, указав аргумент class_weight='balanced'.\n",
    "\n",
    "Дерево решений"
   ]
  },
  {
   "cell_type": "code",
   "execution_count": 19,
   "metadata": {},
   "outputs": [
    {
     "name": "stdout",
     "output_type": "stream",
     "text": [
      "F1: 0.59\n",
      "CPU times: user 25.4 ms, sys: 8.07 ms, total: 33.5 ms\n",
      "Wall time: 95.2 ms\n"
     ]
    }
   ],
   "source": [
    "%%time\n",
    "model_depth = DecisionTreeClassifier(random_state=12345, max_depth=5, \n",
    "                                                 min_samples_leaf = 12, min_samples_split = 2, class_weight='balanced')\n",
    "model_depth.fit(features_train, target_train)\n",
    "predicted_valid_depth = model_depth.predict(features_valid)\n",
    "result_depth = f1_score(target_valid, predicted_valid_depth)\n",
    "           \n",
    "print('F1: {:.2f}'.format(result_depth))"
   ]
  },
  {
   "cell_type": "markdown",
   "metadata": {},
   "source": [
    "Случайный лес"
   ]
  },
  {
   "cell_type": "code",
   "execution_count": 20,
   "metadata": {},
   "outputs": [
    {
     "name": "stdout",
     "output_type": "stream",
     "text": [
      "F1: 0.6280623608017817\n",
      "CPU times: user 83.7 ms, sys: 0 ns, total: 83.7 ms\n",
      "Wall time: 98.3 ms\n"
     ]
    }
   ],
   "source": [
    "%%time\n",
    "model_est = RandomForestClassifier(random_state=12345, n_estimators=10, max_depth=9, \n",
    "                                               min_samples_leaf = 3, class_weight='balanced')\n",
    "model_est.fit(features_train, target_train)\n",
    "predicted_valid_est = model_est.predict(features_valid)\n",
    "result_est = f1_score(target_valid, predicted_valid_est)\n",
    "            \n",
    "print(\"F1:\", result_est)"
   ]
  },
  {
   "cell_type": "markdown",
   "metadata": {},
   "source": [
    "Логистическая регрессия"
   ]
  },
  {
   "cell_type": "code",
   "execution_count": 21,
   "metadata": {},
   "outputs": [
    {
     "name": "stdout",
     "output_type": "stream",
     "text": [
      "F1: 0.50\n",
      "CPU times: user 54.4 ms, sys: 60.3 ms, total: 115 ms\n",
      "Wall time: 76 ms\n"
     ]
    }
   ],
   "source": [
    "%%time\n",
    "model_regression = LogisticRegression(random_state=12345, solver='liblinear',  warm_start = 'False', class_weight='balanced')\n",
    "model_regression.fit(features_train,target_train)\n",
    "predicted_valid_reg = model_regression.predict(features_valid)\n",
    "result_reg = f1_score(target_valid, predicted_valid_reg)\n",
    "                \n",
    "print('F1: {:.2f}'.format(result_reg))"
   ]
  },
  {
   "cell_type": "markdown",
   "metadata": {},
   "source": [
    "Балансировка веса классов для всех моделей увеличило качество метрики f1, при чем для модели дерева решений и случайного леса пройден порог f1 в 0.59, а для логистической регрессии этого порога не удалось достичь. Наибольшее качество f1 показала модель случайного леса, для которой f1 = 0.63."
   ]
  },
  {
   "cell_type": "markdown",
   "metadata": {},
   "source": [
    "### Увеличение выборки"
   ]
  },
  {
   "cell_type": "code",
   "execution_count": 22,
   "metadata": {},
   "outputs": [
    {
     "name": "stdout",
     "output_type": "stream",
     "text": [
      "(10876, 11)\n",
      "(10876,)\n"
     ]
    }
   ],
   "source": [
    "def upsample(features, target, repeat):\n",
    "    \n",
    "    features_zeros = features[target == 0]\n",
    "    features_ones = features[target == 1]\n",
    "    target_zeros = target[target == 0]\n",
    "    target_ones = target[target == 1]\n",
    "    \n",
    "    features_upsampled = pd.concat([features_zeros] + [features_ones] * repeat)\n",
    "    target_upsampled = pd.concat([target_zeros] + [target_ones] * repeat)\n",
    "    \n",
    "    features_upsampled = shuffle(features_upsampled, random_state=12345)\n",
    "    target_upsampled = shuffle(target_upsampled, random_state=12345)\n",
    "    \n",
    "    return features_upsampled, target_upsampled\n",
    "\n",
    "    \n",
    "    \n",
    "features_upsampled, target_upsampled = upsample(features_train, target_train, 5)\n",
    "\n",
    "print(features_upsampled.shape)\n",
    "print(target_upsampled.shape)"
   ]
  },
  {
   "cell_type": "markdown",
   "metadata": {},
   "source": [
    "Дерево решений"
   ]
  },
  {
   "cell_type": "code",
   "execution_count": 23,
   "metadata": {},
   "outputs": [
    {
     "name": "stdout",
     "output_type": "stream",
     "text": [
      "F1: 0.58\n",
      "CPU times: user 29.9 ms, sys: 16.1 ms, total: 46 ms\n",
      "Wall time: 92 ms\n"
     ]
    }
   ],
   "source": [
    "%%time\n",
    "model_depth = DecisionTreeClassifier(random_state=12345, max_depth=5, \n",
    "                                                 min_samples_leaf = 12, min_samples_split = 2)\n",
    "model_depth.fit(features_upsampled, target_upsampled)\n",
    "predicted_valid_depth = model_depth.predict(features_valid)\n",
    "result_depth = f1_score(target_valid, predicted_valid_depth)\n",
    "                \n",
    "print('F1: {:.2f}'.format(result_depth))"
   ]
  },
  {
   "cell_type": "markdown",
   "metadata": {},
   "source": [
    "Случайный лес"
   ]
  },
  {
   "cell_type": "code",
   "execution_count": 24,
   "metadata": {},
   "outputs": [
    {
     "name": "stdout",
     "output_type": "stream",
     "text": [
      "F1: 0.6186915887850467\n",
      "CPU times: user 124 ms, sys: 84 µs, total: 125 ms\n",
      "Wall time: 130 ms\n"
     ]
    }
   ],
   "source": [
    "%%time\n",
    "model_est = RandomForestClassifier(random_state=12345, n_estimators=10, max_depth=9, \n",
    "                                               min_samples_leaf = 3)\n",
    "model_est.fit(features_upsampled, target_upsampled)\n",
    "predicted_valid_est = model_est.predict(features_valid)\n",
    "result_est = f1_score(target_valid, predicted_valid_est)\n",
    "print(\"F1:\", result_est)"
   ]
  },
  {
   "cell_type": "markdown",
   "metadata": {},
   "source": [
    "Логистическая регрессия"
   ]
  },
  {
   "cell_type": "code",
   "execution_count": 25,
   "metadata": {},
   "outputs": [
    {
     "name": "stdout",
     "output_type": "stream",
     "text": [
      "F1: 0.49\n",
      "CPU times: user 76.1 ms, sys: 52 ms, total: 128 ms\n",
      "Wall time: 71.9 ms\n"
     ]
    }
   ],
   "source": [
    "%%time\n",
    "model_regression = LogisticRegression(random_state=12345, solver='liblinear', warm_start = 'False')\n",
    "model_regression.fit(features_upsampled,target_upsampled)\n",
    "predicted_valid_reg = model_regression.predict(features_valid)\n",
    "result_reg = f1_score(target_valid, predicted_valid_reg)\n",
    "print('F1: {:.2f}'.format(result_reg))"
   ]
  },
  {
   "cell_type": "markdown",
   "metadata": {},
   "source": [
    "Увеличение выборки незначительное улучшило значение метрики f1 моделей дерева решений и случайного леса, но для модели логитсической регрессии улучшения на много больше. Лучший результат показала модель случайного леса, где f1 = 0.62."
   ]
  },
  {
   "cell_type": "markdown",
   "metadata": {},
   "source": [
    "### Уменьшение выборки"
   ]
  },
  {
   "cell_type": "code",
   "execution_count": 26,
   "metadata": {},
   "outputs": [
    {
     "name": "stdout",
     "output_type": "stream",
     "text": [
      "(1697, 11)\n",
      "(1697,)\n"
     ]
    }
   ],
   "source": [
    "def downsample(features, target, fraction):\n",
    "    features_zeros = features[target == 0]\n",
    "    features_ones = features[target == 1]\n",
    "    target_zeros = target[target == 0]\n",
    "    target_ones = target[target == 1]\n",
    "\n",
    "    features_sample = features_zeros.sample(frac=0.1, random_state=12345)\n",
    "    target_sample = target_zeros.sample(frac=0.1, random_state=12345)\n",
    "    \n",
    "    features_downsampled = pd.concat([features_sample] + [features_ones])\n",
    "    target_downsampled = pd.concat([target_sample] + [target_ones])\n",
    "    \n",
    "    features_downsampled = shuffle(features_downsampled, random_state=12345)\n",
    "    target_downsampled = shuffle(target_downsampled, random_state=12345)\n",
    "    \n",
    "    return features_downsampled, target_downsampled\n",
    "\n",
    "features_downsampled, target_downsampled = downsample(features_train, target_train, 0.1)\n",
    "\n",
    "print(features_downsampled.shape)\n",
    "print(target_downsampled.shape)"
   ]
  },
  {
   "cell_type": "markdown",
   "metadata": {},
   "source": [
    "Дерево решений"
   ]
  },
  {
   "cell_type": "code",
   "execution_count": 27,
   "metadata": {},
   "outputs": [
    {
     "name": "stdout",
     "output_type": "stream",
     "text": [
      "F1: 0.55\n",
      "глубина дерева: 5\n",
      "min_samples_leaf: 1\n",
      "min_samples_split: 3\n",
      "CPU times: user 7.88 s, sys: 7.1 ms, total: 7.89 s\n",
      "Wall time: 7.91 s\n"
     ]
    }
   ],
   "source": [
    "%%time\n",
    "best_result_depth = 0\n",
    "for depth in range(1,21):\n",
    "    for leaf in range(1,15):\n",
    "        for split in range(2, 5):\n",
    "            model_depth = DecisionTreeClassifier(random_state=12345, max_depth=depth, \n",
    "                                                 min_samples_leaf = leaf, min_samples_split = split)\n",
    "            model_depth.fit(features_downsampled, target_downsampled)\n",
    "            predicted_valid_depth = model_depth.predict(features_valid)\n",
    "            result_depth = f1_score(target_valid, predicted_valid_depth)\n",
    "            if result_depth > best_result_depth:\n",
    "                best_result_depth = result_depth\n",
    "                best_depth = depth\n",
    "                best_leaf = leaf\n",
    "                best_split = split\n",
    "                best_model_depth = model_depth\n",
    "                \n",
    "print('F1: {:.2f}'.format(best_result_depth))\n",
    "print('глубина дерева: {}'.format(best_depth))\n",
    "print('min_samples_leaf: {}'.format(best_leaf))\n",
    "print('min_samples_split: {}'.format(best_split))"
   ]
  },
  {
   "cell_type": "markdown",
   "metadata": {},
   "source": [
    "Случайный лес"
   ]
  },
  {
   "cell_type": "code",
   "execution_count": 28,
   "metadata": {},
   "outputs": [
    {
     "name": "stdout",
     "output_type": "stream",
     "text": [
      "F1: 0.5042016806722689\n",
      "число деревьев: 20\n",
      "глубина дерева: 10\n",
      "min_samples_leaf: 4\n",
      "CPU times: user 40.6 s, sys: 189 ms, total: 40.8 s\n",
      "Wall time: 40.9 s\n"
     ]
    }
   ],
   "source": [
    "%%time\n",
    "best_result_est = 0\n",
    "for est in range(10,41,10):\n",
    "    for depth in range(1,11):\n",
    "        for leaf in range(1,15):\n",
    "            model_est = RandomForestClassifier(random_state=12345, n_estimators=est, max_depth=depth, \n",
    "                                               min_samples_leaf = leaf)\n",
    "            model_est.fit(features_downsampled, target_downsampled)\n",
    "            predicted_valid_est = model_est.predict(features_valid)\n",
    "            result_est = f1_score(target_valid, predicted_valid_est)\n",
    "            if result_est > best_result_est:\n",
    "                best_result_est = result_est\n",
    "                best_est = est\n",
    "                best_depth = depth\n",
    "                best_leaf = leaf\n",
    "                best_model_est = model_est\n",
    "print(\"F1:\", best_result_est)\n",
    "print('число деревьев: {}'.format(best_est))\n",
    "print('глубина дерева: {}'.format(best_depth))\n",
    "print('min_samples_leaf: {}'.format(best_leaf))"
   ]
  },
  {
   "cell_type": "markdown",
   "metadata": {},
   "source": [
    "Логистическая регрессия"
   ]
  },
  {
   "cell_type": "code",
   "execution_count": 29,
   "metadata": {},
   "outputs": [
    {
     "name": "stdout",
     "output_type": "stream",
     "text": [
      "F1: 0.42\n",
      "solver: liblinear\n",
      "best_warm_start: True\n",
      "CPU times: user 1.28 s, sys: 1.05 s, total: 2.33 s\n",
      "Wall time: 2.31 s\n"
     ]
    }
   ],
   "source": [
    "%%time\n",
    "best_result_reg = 0\n",
    "for solver in {'newton-cg', 'lbfgs', 'liblinear', 'sag', 'saga'}:\n",
    "        for warm_start in {'True', 'False'}:\n",
    "            model_regression = LogisticRegression(random_state=12345, solver= solver, warm_start = warm_start)\n",
    "            model_regression.fit(features_downsampled,target_downsampled)\n",
    "            predicted_valid_reg = model_regression.predict(features_valid)\n",
    "            result_reg = f1_score(target_valid, predicted_valid_reg)\n",
    "            if result_reg > best_result_reg:\n",
    "                best_result_reg = result_reg\n",
    "                best_solver = solver\n",
    "                best_warm_start = warm_start\n",
    "                best_model_regression = model_regression\n",
    "                \n",
    "print('F1: {:.2f}'.format(best_result_reg))\n",
    "print('solver: {}'.format(best_solver))\n",
    "print('best_warm_start: {}'.format(best_warm_start))"
   ]
  },
  {
   "cell_type": "markdown",
   "metadata": {},
   "source": [
    "Уменьшение выборки улучшило значение метрики f1 только модели логитсической регрессии, а для остальных моделей результат оказался хуже первоначальных значений качества f1. Лучший результат показала модель дерева решений f1 = 0.55."
   ]
  },
  {
   "cell_type": "markdown",
   "metadata": {},
   "source": [
    "### Порог классификации"
   ]
  },
  {
   "cell_type": "markdown",
   "metadata": {},
   "source": [
    "Дерево решений"
   ]
  },
  {
   "cell_type": "code",
   "execution_count": 30,
   "metadata": {},
   "outputs": [
    {
     "name": "stdout",
     "output_type": "stream",
     "text": [
      "Порог = 0.00 | Точность = 0.213, Полнота = 1.000 | F1 = 0.352\n",
      "Порог = 0.05 | Точность = 0.270, Полнота = 0.977 | F1 = 0.423\n",
      "Порог = 0.10 | Точность = 0.401, Полнота = 0.843 | F1 = 0.543\n",
      "Порог = 0.15 | Точность = 0.438, Полнота = 0.817 | F1 = 0.571\n",
      "Порог = 0.20 | Точность = 0.485, Полнота = 0.745 | F1 = 0.588\n",
      "Порог = 0.25 | Точность = 0.644, Полнота = 0.571 | F1 = 0.605\n",
      "Порог = 0.30 | Точность = 0.644, Полнота = 0.571 | F1 = 0.605\n",
      "Порог = 0.35 | Точность = 0.644, Полнота = 0.571 | F1 = 0.605\n",
      "Порог = 0.40 | Точность = 0.713, Полнота = 0.501 | F1 = 0.589\n",
      "Порог = 0.45 | Точность = 0.713, Полнота = 0.501 | F1 = 0.589\n",
      "Порог = 0.50 | Точность = 0.717, Полнота = 0.468 | F1 = 0.567\n",
      "Порог = 0.55 | Точность = 0.744, Полнота = 0.407 | F1 = 0.526\n",
      "Порог = 0.60 | Точность = 0.868, Полнота = 0.262 | F1 = 0.403\n",
      "Порог = 0.65 | Точность = 0.868, Полнота = 0.262 | F1 = 0.403\n",
      "Порог = 0.70 | Точность = 0.868, Полнота = 0.262 | F1 = 0.403\n",
      "Порог = 0.75 | Точность = 0.924, Полнота = 0.227 | F1 = 0.365\n",
      "Порог = 0.80 | Точность = 0.924, Полнота = 0.227 | F1 = 0.365\n",
      "Порог = 0.85 | Точность = 0.892, Полнота = 0.136 | F1 = 0.236\n",
      "Порог = 0.90 | Точность = 0.892, Полнота = 0.136 | F1 = 0.236\n",
      "\n",
      "Лучшее значение F1:\n",
      "Порог = 0.25 | Точность = 0.644, Полнота = 0.571 | F1 = 0.605\n"
     ]
    },
    {
     "data": {
      "image/png": "[encoded data removed]",
      "text/plain": [
       "<Figure size 720x720 with 1 Axes>"
      ]
     },
     "metadata": {},
     "output_type": "display_data"
    },
    {
     "name": "stdout",
     "output_type": "stream",
     "text": [
      "CPU times: user 614 ms, sys: 24.3 ms, total: 638 ms\n",
      "Wall time: 654 ms\n"
     ]
    }
   ],
   "source": [
    "%%time\n",
    "best_f1 = 0\n",
    "\n",
    "model_depth = DecisionTreeClassifier(random_state=12345, max_depth=5, \n",
    "                                                 min_samples_leaf = 12, min_samples_split = 2)\n",
    "model_depth.fit(features_train, target_train)\n",
    "probabilities_valid = model_depth.predict_proba(features_valid)\n",
    "probabilities_one_valid = probabilities_valid[:, 1]\n",
    "\n",
    "for threshold in np.arange(0, 0.95, 0.05):\n",
    "    predicted_valid = probabilities_one_valid > threshold\n",
    "    precision = precision_score(target_valid, predicted_valid)\n",
    "    recall = recall_score(target_valid, predicted_valid)\n",
    "    f1 = f1_score(target_valid, predicted_valid)\n",
    "    print(\"Порог = {:.2f} | Точность = {:.3f}, Полнота = {:.3f} | F1 = {:.3f}\".format(\n",
    "        threshold, precision, recall, f1))\n",
    "    if f1 > best_f1:\n",
    "        best_f1 = f1\n",
    "        best_threshold = threshold\n",
    "        best_precision = precision\n",
    "        best_recall = recall\n",
    "print('\\nЛучшее значение F1:')\n",
    "print(\"Порог = {:.2f} | Точность = {:.3f}, Полнота = {:.3f} | F1 = {:.3f}\".format(\n",
    "        best_threshold, best_precision, best_recall, best_f1))\n",
    "\n",
    "precision, recall, thresholds = precision_recall_curve(target_valid, probabilities_valid[:, 1])    \n",
    "plt.figure(figsize=(10, 10))\n",
    "plt.step(recall, precision, where='post')\n",
    "plt.xlabel('Полнота')\n",
    "plt.ylabel('Точность')\n",
    "plt.ylim([0.0, 1.05])\n",
    "plt.xlim([0.0, 1.0])\n",
    "plt.title('PR кривая')\n",
    "plt.show()"
   ]
  },
  {
   "cell_type": "markdown",
   "metadata": {},
   "source": [
    "Случайный лес"
   ]
  },
  {
   "cell_type": "code",
   "execution_count": 31,
   "metadata": {},
   "outputs": [
    {
     "name": "stdout",
     "output_type": "stream",
     "text": [
      "Порог = 0.00 | Точность = 0.294, Полнота = 0.892 | F1 = 0.443\n",
      "Порог = 0.05 | Точность = 0.294, Полнота = 0.892 | F1 = 0.443\n",
      "Порог = 0.10 | Точность = 0.384, Полнота = 0.806 | F1 = 0.520\n",
      "Порог = 0.15 | Точность = 0.384, Полнота = 0.806 | F1 = 0.520\n",
      "Порог = 0.20 | Точность = 0.475, Полнота = 0.705 | F1 = 0.567\n",
      "Порог = 0.25 | Точность = 0.475, Полнота = 0.705 | F1 = 0.567\n",
      "Порог = 0.30 | Точность = 0.582, Полнота = 0.616 | F1 = 0.598\n",
      "Порог = 0.35 | Точность = 0.582, Полнота = 0.616 | F1 = 0.598\n",
      "Порог = 0.40 | Точность = 0.651, Полнота = 0.494 | F1 = 0.562\n",
      "Порог = 0.45 | Точность = 0.651, Полнота = 0.494 | F1 = 0.562\n",
      "Порог = 0.50 | Точность = 0.723, Полнота = 0.398 | F1 = 0.514\n",
      "Порог = 0.55 | Точность = 0.723, Полнота = 0.398 | F1 = 0.514\n",
      "Порог = 0.60 | Точность = 0.809, Полнота = 0.328 | F1 = 0.467\n",
      "Порог = 0.65 | Точность = 0.809, Полнота = 0.328 | F1 = 0.467\n",
      "Порог = 0.70 | Точность = 0.858, Полнота = 0.255 | F1 = 0.394\n",
      "Порог = 0.75 | Точность = 0.858, Полнота = 0.255 | F1 = 0.394\n",
      "Порог = 0.80 | Точность = 0.875, Полнота = 0.164 | F1 = 0.276\n",
      "Порог = 0.85 | Точность = 0.875, Полнота = 0.164 | F1 = 0.276\n",
      "Порог = 0.90 | Точность = 0.938, Полнота = 0.070 | F1 = 0.131\n",
      "\n",
      "Лучшее значение F1:\n",
      "Порог = 0.30 | Точность = 0.582, Полнота = 0.616 | F1 = 0.598\n"
     ]
    },
    {
     "data": {
      "image/png": "[encoded data removed]",
      "text/plain": [
       "<Figure size 720x720 with 1 Axes>"
      ]
     },
     "metadata": {},
     "output_type": "display_data"
    },
    {
     "name": "stdout",
     "output_type": "stream",
     "text": [
      "CPU times: user 690 ms, sys: 27.5 ms, total: 717 ms\n",
      "Wall time: 735 ms\n"
     ]
    }
   ],
   "source": [
    "%%time\n",
    "best_f1 = 0\n",
    "model_est = RandomForestClassifier(random_state=12345, n_estimators=10)\n",
    "model_est.fit(features_train, target_train)\n",
    "probabilities_valid = model_est.predict_proba(features_valid)\n",
    "probabilities_one_valid = probabilities_valid[:, 1]\n",
    "\n",
    "for threshold in np.arange(0, 0.95, 0.05):\n",
    "    predicted_valid = probabilities_one_valid > threshold\n",
    "    precision = precision_score(target_valid, predicted_valid)\n",
    "    recall = recall_score(target_valid, predicted_valid)\n",
    "    f1 = f1_score(target_valid, predicted_valid)\n",
    "    print(\"Порог = {:.2f} | Точность = {:.3f}, Полнота = {:.3f} | F1 = {:.3f}\".format(\n",
    "        threshold, precision, recall, f1))\n",
    "    if f1 > best_f1:\n",
    "        best_f1 = f1\n",
    "        best_threshold = threshold\n",
    "        best_precision = precision\n",
    "        best_recall = recall\n",
    "print('\\nЛучшее значение F1:')\n",
    "print(\"Порог = {:.2f} | Точность = {:.3f}, Полнота = {:.3f} | F1 = {:.3f}\".format(\n",
    "        best_threshold, best_precision, best_recall, best_f1))\n",
    "\n",
    "precision, recall, thresholds = precision_recall_curve(target_valid, probabilities_valid[:, 1])    \n",
    "plt.figure(figsize=(10, 10))\n",
    "plt.step(recall, precision, where='post')\n",
    "plt.xlabel('Полнота')\n",
    "plt.ylabel('Точность')\n",
    "plt.ylim([0.0, 1.05])\n",
    "plt.xlim([0.0, 1.0])\n",
    "plt.title('PR кривая')\n",
    "plt.show()"
   ]
  },
  {
   "cell_type": "markdown",
   "metadata": {},
   "source": [
    "Логистическая регрессия"
   ]
  },
  {
   "cell_type": "code",
   "execution_count": 32,
   "metadata": {},
   "outputs": [
    {
     "name": "stdout",
     "output_type": "stream",
     "text": [
      "Порог = 0.00 | Точность = 0.213, Полнота = 1.000 | F1 = 0.352\n",
      "Порог = 0.05 | Точность = 0.232, Полнота = 0.972 | F1 = 0.374\n",
      "Порог = 0.10 | Точность = 0.279, Полнота = 0.906 | F1 = 0.427\n",
      "Порог = 0.15 | Точность = 0.332, Полнота = 0.801 | F1 = 0.469\n",
      "Порог = 0.20 | Точность = 0.383, Полнота = 0.714 | F1 = 0.499\n",
      "Порог = 0.25 | Точность = 0.430, Полнота = 0.623 | F1 = 0.509\n",
      "Порог = 0.30 | Точность = 0.458, Полнота = 0.508 | F1 = 0.482\n",
      "Порог = 0.35 | Точность = 0.482, Полнота = 0.412 | F1 = 0.444\n",
      "Порог = 0.40 | Точность = 0.523, Полнота = 0.321 | F1 = 0.398\n",
      "Порог = 0.45 | Точность = 0.556, Полнота = 0.267 | F1 = 0.361\n",
      "Порог = 0.50 | Точность = 0.597, Полнота = 0.201 | F1 = 0.301\n",
      "Порог = 0.55 | Точность = 0.596, Полнота = 0.145 | F1 = 0.234\n",
      "Порог = 0.60 | Точность = 0.560, Полнота = 0.098 | F1 = 0.167\n",
      "Порог = 0.65 | Точность = 0.566, Полнота = 0.070 | F1 = 0.125\n",
      "Порог = 0.70 | Точность = 0.520, Полнота = 0.030 | F1 = 0.058\n",
      "Порог = 0.75 | Точность = 0.400, Полнота = 0.014 | F1 = 0.027\n",
      "Порог = 0.80 | Точность = 0.250, Полнота = 0.005 | F1 = 0.009\n",
      "Порог = 0.85 | Точность = 0.500, Полнота = 0.005 | F1 = 0.009\n",
      "Порог = 0.90 | Точность = 0.500, Полнота = 0.002 | F1 = 0.005\n",
      "\n",
      "Лучшее значение F1:\n",
      "Порог = 0.25 | Точность = 0.430, Полнота = 0.623 | F1 = 0.509\n"
     ]
    },
    {
     "data": {
      "image/png": "[encoded data removed]",
      "text/plain": [
       "<Figure size 720x720 with 1 Axes>"
      ]
     },
     "metadata": {},
     "output_type": "display_data"
    }
   ],
   "source": [
    "best_f1 = 0\n",
    "model_regression = LogisticRegression(random_state=42, solver='liblinear')\n",
    "model_regression.fit(features_train, target_train)\n",
    "probabilities_valid = model_regression.predict_proba(features_valid)\n",
    "probabilities_one_valid = probabilities_valid[:, 1]\n",
    "\n",
    "for threshold in np.arange(0, 0.95, 0.05):\n",
    "    predicted_valid = probabilities_one_valid > threshold\n",
    "    precision = precision_score(target_valid, predicted_valid)\n",
    "    recall = recall_score(target_valid, predicted_valid)\n",
    "    f1 = f1_score(target_valid, predicted_valid)\n",
    "    print(\"Порог = {:.2f} | Точность = {:.3f}, Полнота = {:.3f} | F1 = {:.3f}\".format(\n",
    "        threshold, precision, recall, f1))\n",
    "    if f1 > best_f1:\n",
    "        best_f1 = f1\n",
    "        best_threshold = threshold\n",
    "        best_precision = precision\n",
    "        best_recall = recall\n",
    "print('\\nЛучшее значение F1:')\n",
    "print(\"Порог = {:.2f} | Точность = {:.3f}, Полнота = {:.3f} | F1 = {:.3f}\".format(\n",
    "        best_threshold, best_precision, best_recall, best_f1))\n",
    "\n",
    "precision, recall, thresholds = precision_recall_curve(target_valid, probabilities_valid[:, 1])    \n",
    "plt.figure(figsize=(10, 10))\n",
    "plt.step(recall, precision, where='post')\n",
    "plt.xlabel('Полнота')\n",
    "plt.ylabel('Точность')\n",
    "plt.ylim([0.0, 1.05])\n",
    "plt.xlim([0.0, 1.0])\n",
    "plt.title('PR кривая')\n",
    "plt.show() "
   ]
  },
  {
   "cell_type": "markdown",
   "metadata": {},
   "source": [
    "Изменение порога классификации улучшило метрику качества f1 моделей дерева решений и случайного леса, также улучшилось качество логестической регрессии, но для данной модели не удалось довести метрику f1 до 0.59. Лучший результат показала модель дерева решений f1 = 0.60, при этом порог равен 0.25.\n",
    "\n",
    "Сравнив значения f1-меры при использовании всех техник борьбы с дисбалансом можно утверждать, что лучшей техникой является техника увеличения выборки.\n"
   ]
  },
  {
   "cell_type": "markdown",
   "metadata": {},
   "source": [
    "### AUC-ROC"
   ]
  },
  {
   "cell_type": "markdown",
   "metadata": {},
   "source": [
    "Дерево решений"
   ]
  },
  {
   "cell_type": "code",
   "execution_count": 33,
   "metadata": {},
   "outputs": [
    {
     "data": {
      "image/png": "[encoded data removed]",
      "text/plain": [
       "<Figure size 720x720 with 1 Axes>"
      ]
     },
     "metadata": {},
     "output_type": "display_data"
    },
    {
     "name": "stdout",
     "output_type": "stream",
     "text": [
      "AUC: 0.8517354478606343\n"
     ]
    }
   ],
   "source": [
    "model_depth = DecisionTreeClassifier(random_state=12345, max_depth=5, \n",
    "                                                 min_samples_leaf = 12, min_samples_split = 2)\n",
    "model_depth.fit(features_upsampled, target_upsampled)\n",
    "\n",
    "probabilities_valid = model_depth.predict_proba(features_valid)\n",
    "probabilities_one_valid = probabilities_valid[:, 1]\n",
    "\n",
    "fpr, tpr, thresholds = roc_curve(target_valid, probabilities_one_valid) \n",
    "\n",
    "plt.figure(figsize=(10, 10))\n",
    "plt.plot(fpr, tpr, linestyle='-')\n",
    "plt.plot([0, 1], [0, 1], linestyle='--')\n",
    "plt.xlim([0.0, 1.0])\n",
    "plt.ylim([0.0, 1.0])\n",
    "plt.xlabel('False Positive Rate')\n",
    "plt.ylabel('True Positive Rate')\n",
    "plt.title('ROC кривая')\n",
    "plt.show()\n",
    "\n",
    "auc_roc = roc_auc_score (target_valid, probabilities_one_valid)\n",
    "\n",
    "print(\"AUC:\", auc_roc)"
   ]
  },
  {
   "cell_type": "markdown",
   "metadata": {},
   "source": [
    "Случайный лес"
   ]
  },
  {
   "cell_type": "code",
   "execution_count": 34,
   "metadata": {},
   "outputs": [
    {
     "data": {
      "image/png": "[encoded data removed]",
      "text/plain": [
       "<Figure size 720x720 with 1 Axes>"
      ]
     },
     "metadata": {},
     "output_type": "display_data"
    },
    {
     "name": "stdout",
     "output_type": "stream",
     "text": [
      "AUC: 0.8604301808474686\n"
     ]
    }
   ],
   "source": [
    "model_est = RandomForestClassifier(random_state=12345, n_estimators=20, max_depth=10, \n",
    "                                               min_samples_leaf = 4)\n",
    "model_est.fit(features_upsampled, target_upsampled)\n",
    "\n",
    "probabilities_valid = model_est.predict_proba(features_valid)\n",
    "probabilities_one_valid = probabilities_valid[:, 1]\n",
    "\n",
    "fpr, tpr, thresholds = roc_curve(target_valid, probabilities_one_valid) \n",
    "\n",
    "plt.figure(figsize=(10, 10))\n",
    "plt.plot(fpr, tpr, linestyle='-')\n",
    "plt.plot([0, 1], [0, 1], linestyle='--')\n",
    "plt.xlim([0.0, 1.0])\n",
    "plt.ylim([0.0, 1.0])\n",
    "plt.xlabel('False Positive Rate')\n",
    "plt.ylabel('True Positive Rate')\n",
    "plt.title('ROC кривая')\n",
    "plt.show()\n",
    "\n",
    "auc_roc = roc_auc_score (target_valid, probabilities_one_valid)\n",
    "\n",
    "print(\"AUC:\", auc_roc)"
   ]
  },
  {
   "cell_type": "markdown",
   "metadata": {},
   "source": [
    "Логистическая регрессия"
   ]
  },
  {
   "cell_type": "code",
   "execution_count": 35,
   "metadata": {},
   "outputs": [
    {
     "data": {
      "image/png": "[encoded data removed]",
      "text/plain": [
       "<Figure size 720x720 with 1 Axes>"
      ]
     },
     "metadata": {},
     "output_type": "display_data"
    },
    {
     "name": "stdout",
     "output_type": "stream",
     "text": [
      "AUC: 0.7646779450058139\n"
     ]
    }
   ],
   "source": [
    "model_regression = LogisticRegression(random_state=12345, solver='liblinear', warm_start = 'False')\n",
    "model_regression.fit(features_upsampled,target_upsampled)\n",
    "\n",
    "probabilities_valid = model_regression.predict_proba(features_valid)\n",
    "probabilities_one_valid = probabilities_valid[:, 1]\n",
    "\n",
    "fpr, tpr, thresholds = roc_curve(target_valid, probabilities_one_valid) \n",
    "\n",
    "plt.figure(figsize=(10, 10))\n",
    "plt.plot(fpr, tpr, linestyle='-')\n",
    "plt.plot([0, 1], [0, 1], linestyle='--')\n",
    "plt.xlim([0.0, 1.0])\n",
    "plt.ylim([0.0, 1.0])\n",
    "plt.xlabel('False Positive Rate')\n",
    "plt.ylabel('True Positive Rate')\n",
    "plt.title('ROC кривая')\n",
    "\n",
    "plt.show()\n",
    "\n",
    "auc_roc = roc_auc_score (target_valid, probabilities_one_valid)\n",
    "\n",
    "print(\"AUC:\", auc_roc)"
   ]
  },
  {
   "cell_type": "markdown",
   "metadata": {},
   "source": [
    "Посчитав площади под ROC-кривой (AUC) выяснено, что значение AUC всех моделей достаточно высокие, следовательно, они является неслучайными. Лучшее значение AUC равное 0.86 достигнуто для модели случайного леса с увеличенной выборкой."
   ]
  },
  {
   "cell_type": "markdown",
   "metadata": {},
   "source": [
    "### Вывод"
   ]
  },
  {
   "cell_type": "markdown",
   "metadata": {},
   "source": [
    "В данном пункте на выборке данных использовались техники борьбы с дисбалансом. Максимальное значение f1 и модель, при котором удалось достичь высокого значения f1, для каждой техники следующие:\n",
    "* балансировка веса классов - f1 = 0.63 (модель случайного леса);\n",
    "* увеличение выборки - f1 = 0.62 (модель случайного леса);\n",
    "* уменьшение выборки - f1 = 0.55 (модель дерева решений);\n",
    "* изменение порога классификации - f1 = 0.60, порог = 0.25 (модель дерева решений).\n",
    "\n",
    "Сравнив значения f1-меры при использовании всех техник борьбы с дисбалансом можно утверждать, что лучшей техникой является техника увеличения выборки.\n",
    "\n",
    "Лучшее значение площади под ROC-кривой (AUC) равно 0.86 и достигнуто для модели случайного леса с увеличенной выборкой."
   ]
  },
  {
   "cell_type": "markdown",
   "metadata": {},
   "source": [
    "## Тестирование модели"
   ]
  },
  {
   "cell_type": "markdown",
   "metadata": {},
   "source": [
    "Проведем тестирование на модели случайного леса"
   ]
  },
  {
   "cell_type": "code",
   "execution_count": 36,
   "metadata": {},
   "outputs": [
    {
     "name": "stdout",
     "output_type": "stream",
     "text": [
      "F1-мера тестовой выборки: 0.59\n"
     ]
    }
   ],
   "source": [
    "predictions_test = model_est.predict(features_test)\n",
    "test_f1 = f1_score(target_test, predictions_test)\n",
    "\n",
    "print('F1-мера тестовой выборки: {:.2f}'.format(test_f1))"
   ]
  },
  {
   "cell_type": "markdown",
   "metadata": {},
   "source": [
    "### Вывод"
   ]
  },
  {
   "cell_type": "markdown",
   "metadata": {},
   "source": [
    "Применив лушие параметры модели случайного леса с увелиенной выоркой удолось достичь значения f1 = 0.59."
   ]
  },
  {
   "cell_type": "markdown",
   "metadata": {},
   "source": [
    "## Общий вывод"
   ]
  },
  {
   "cell_type": "markdown",
   "metadata": {},
   "source": [
    "В ходе выполнения проекта по данным о поведении клиентов и расторжении договоров с банком проведена подготовка данных, выявлены и заполнены пустые значения, выявлен дисбаланс в целевом признаке, столбцы объектового типа преобразованы к числовому типу. Исследовались модели дерева решений, случайного леса и логистической регрессии на сбалансированных и несбалансированных данных, а также изменялись параметры моделей для выявления наилучших. Использовались такие техники борьбы с дисбалансом, как увеличение выборки, уменьшение выборки, порог классификации.\n",
    "\n",
    "Для каждой модели удалось достичь следующих значений меры f1:\n",
    "* Для модели дерева решений максимум f1 = 0.60, при этом использовалось изменение порога классификации (порог = 0.25);\n",
    "* Для модели случайного леса максимум f1 = 0.62, при этом использовалось увеличение выборки;\n",
    "* Для модели логистической регрессии максимум f1 = 0.51, при этом использовалось изменение порога классификации (порог = 0.25), что ниже порога f1 равный 0.59.\n",
    "\n",
    "Сравнив значения f1-меры при использовании всех техник борьбы с дисбалансом можно утверждать, что лучшеми техниками является техники балансировки веса и увеличения выборки.\n",
    "\n",
    "Лучшее значение площади под ROC-кривой (AUC) равно 0.86 и достигнуто для модели случайного леса с увеличенной выборкой.\n",
    "\n",
    "Проверка качества модели случайного леса с увеличенной выоркой на тестовой выборке показала результат качества f1 равный 0.59, следовательно, пороговый уровень пройден.\n",
    "\n",
    "Из выше указанных результатов можно сделать вывод, что лучшей моделью прогнозирования оттока клиентов является модель случайного леса с использованием техники увеличения выборки."
   ]
  }
 ],
 "metadata": {
  "ExecuteTimeLog": [
   {
    "duration": 1622,
    "start_time": "2021-06-08T17:31:08.392Z"
   },
   {
    "duration": 57,
    "start_time": "2021-06-08T17:31:10.017Z"
   },
   {
    "duration": 7,
    "start_time": "2021-06-08T17:31:10.077Z"
   },
   {
    "duration": 29,
    "start_time": "2021-06-08T17:31:10.086Z"
   },
   {
    "duration": 31,
    "start_time": "2021-06-08T17:31:10.118Z"
   },
   {
    "duration": 74,
    "start_time": "2021-06-08T17:31:10.152Z"
   },
   {
    "duration": 12,
    "start_time": "2021-06-08T17:31:10.229Z"
   },
   {
    "duration": 7,
    "start_time": "2021-06-08T17:31:10.246Z"
   },
   {
    "duration": 7,
    "start_time": "2021-06-08T17:31:10.256Z"
   },
   {
    "duration": 49,
    "start_time": "2021-06-08T17:31:10.265Z"
   },
   {
    "duration": 12,
    "start_time": "2021-06-08T17:31:10.317Z"
   },
   {
    "duration": 30,
    "start_time": "2021-06-08T17:31:10.331Z"
   },
   {
    "duration": 14,
    "start_time": "2021-06-08T17:31:10.364Z"
   },
   {
    "duration": 62,
    "start_time": "2021-06-08T17:31:10.381Z"
   },
   {
    "duration": 23186,
    "start_time": "2021-06-08T17:31:10.445Z"
   },
   {
    "duration": 31,
    "start_time": "2021-06-08T17:31:33.633Z"
   },
   {
    "duration": 84258,
    "start_time": "2021-06-08T17:31:33.667Z"
   },
   {
    "duration": 106,
    "start_time": "2021-06-08T17:32:57.927Z"
   },
   {
    "duration": 2892,
    "start_time": "2021-06-08T17:32:58.035Z"
   },
   {
    "duration": 193,
    "start_time": "2021-06-08T17:33:00.933Z"
   },
   {
    "duration": 88,
    "start_time": "2021-06-08T17:33:01.131Z"
   },
   {
    "duration": 107,
    "start_time": "2021-06-08T17:33:01.224Z"
   },
   {
    "duration": 79,
    "start_time": "2021-06-08T17:33:01.336Z"
   },
   {
    "duration": 147,
    "start_time": "2021-06-08T17:33:01.419Z"
   },
   {
    "duration": 3748,
    "start_time": "2021-06-08T17:33:01.568Z"
   },
   {
    "duration": 104,
    "start_time": "2021-06-08T17:33:05.318Z"
   },
   {
    "duration": 8711,
    "start_time": "2021-06-08T17:33:05.424Z"
   },
   {
    "duration": 45408,
    "start_time": "2021-06-08T17:33:14.137Z"
   },
   {
    "duration": 2283,
    "start_time": "2021-06-08T17:33:59.548Z"
   },
   {
    "duration": 8980,
    "start_time": "2021-06-08T17:34:01.911Z"
   },
   {
    "duration": 847,
    "start_time": "2021-06-08T17:34:10.893Z"
   },
   {
    "duration": 944,
    "start_time": "2021-06-08T17:34:11.743Z"
   },
   {
    "duration": 492,
    "start_time": "2021-06-08T17:34:12.689Z"
   },
   {
    "duration": 516,
    "start_time": "2021-06-08T17:34:12.669Z"
   },
   {
    "duration": 512,
    "start_time": "2021-06-08T17:34:12.676Z"
   },
   {
    "duration": 505,
    "start_time": "2021-06-08T17:34:12.685Z"
   },
   {
    "duration": 1523,
    "start_time": "2021-06-09T16:28:26.604Z"
   },
   {
    "duration": 63,
    "start_time": "2021-06-09T16:28:28.129Z"
   },
   {
    "duration": 6,
    "start_time": "2021-06-09T16:28:28.196Z"
   },
   {
    "duration": 8,
    "start_time": "2021-06-09T16:28:28.204Z"
   },
   {
    "duration": 67,
    "start_time": "2021-06-09T16:28:28.215Z"
   },
   {
    "duration": 70,
    "start_time": "2021-06-09T16:28:28.285Z"
   },
   {
    "duration": 14,
    "start_time": "2021-06-09T16:28:28.357Z"
   },
   {
    "duration": 7,
    "start_time": "2021-06-09T16:28:28.375Z"
   },
   {
    "duration": 5,
    "start_time": "2021-06-09T16:28:28.385Z"
   },
   {
    "duration": 9,
    "start_time": "2021-06-09T16:28:28.393Z"
   },
   {
    "duration": 52,
    "start_time": "2021-06-09T16:28:28.405Z"
   },
   {
    "duration": 27,
    "start_time": "2021-06-09T16:28:28.460Z"
   },
   {
    "duration": 14,
    "start_time": "2021-06-09T16:28:28.490Z"
   },
   {
    "duration": 57,
    "start_time": "2021-06-09T16:28:28.506Z"
   },
   {
    "duration": 23477,
    "start_time": "2021-06-09T16:28:28.565Z"
   },
   {
    "duration": 42,
    "start_time": "2021-06-09T16:28:52.045Z"
   },
   {
    "duration": 101529,
    "start_time": "2021-06-09T16:28:52.089Z"
   },
   {
    "duration": 105,
    "start_time": "2021-06-09T16:30:33.620Z"
   },
   {
    "duration": 3848,
    "start_time": "2021-06-09T16:30:33.727Z"
   },
   {
    "duration": 213,
    "start_time": "2021-06-09T16:30:37.578Z"
   },
   {
    "duration": 99,
    "start_time": "2021-06-09T16:30:37.859Z"
   },
   {
    "duration": 25,
    "start_time": "2021-06-09T16:30:37.961Z"
   },
   {
    "duration": 88,
    "start_time": "2021-06-09T16:30:37.993Z"
   },
   {
    "duration": 146,
    "start_time": "2021-06-09T16:30:38.084Z"
   },
   {
    "duration": 3871,
    "start_time": "2021-06-09T16:30:38.233Z"
   },
   {
    "duration": 114,
    "start_time": "2021-06-09T16:30:42.158Z"
   },
   {
    "duration": 8448,
    "start_time": "2021-06-09T16:30:42.274Z"
   },
   {
    "duration": 56774,
    "start_time": "2021-06-09T16:30:50.724Z"
   },
   {
    "duration": 3057,
    "start_time": "2021-06-09T16:31:47.501Z"
   },
   {
    "duration": 12980,
    "start_time": "2021-06-09T16:31:50.562Z"
   },
   {
    "duration": 1230,
    "start_time": "2021-06-09T16:32:03.545Z"
   },
   {
    "duration": 1233,
    "start_time": "2021-06-09T16:32:04.778Z"
   },
   {
    "duration": 584,
    "start_time": "2021-06-09T16:32:06.014Z"
   },
   {
    "duration": -371,
    "start_time": "2021-06-09T16:32:06.973Z"
   },
   {
    "duration": -371,
    "start_time": "2021-06-09T16:32:06.975Z"
   },
   {
    "duration": -372,
    "start_time": "2021-06-09T16:32:06.978Z"
   },
   {
    "duration": 1985,
    "start_time": "2021-07-05T14:04:47.629Z"
   },
   {
    "duration": 54,
    "start_time": "2021-07-05T14:04:49.617Z"
   },
   {
    "duration": 7,
    "start_time": "2021-07-05T14:04:49.674Z"
   },
   {
    "duration": 25,
    "start_time": "2021-07-05T14:04:49.684Z"
   },
   {
    "duration": 29,
    "start_time": "2021-07-05T14:04:49.711Z"
   },
   {
    "duration": 77,
    "start_time": "2021-07-05T14:04:49.742Z"
   },
   {
    "duration": 14,
    "start_time": "2021-07-05T14:04:49.821Z"
   },
   {
    "duration": 8,
    "start_time": "2021-07-05T14:04:49.837Z"
   },
   {
    "duration": 6,
    "start_time": "2021-07-05T14:04:49.849Z"
   },
   {
    "duration": 51,
    "start_time": "2021-07-05T14:04:49.858Z"
   },
   {
    "duration": 9,
    "start_time": "2021-07-05T14:04:49.911Z"
   },
   {
    "duration": 37,
    "start_time": "2021-07-05T14:04:49.922Z"
   },
   {
    "duration": 16,
    "start_time": "2021-07-05T14:04:49.961Z"
   },
   {
    "duration": 54,
    "start_time": "2021-07-05T14:04:49.979Z"
   },
   {
    "duration": 24627,
    "start_time": "2021-07-05T14:04:50.035Z"
   },
   {
    "duration": 47,
    "start_time": "2021-07-05T14:05:14.664Z"
   },
   {
    "duration": 83455,
    "start_time": "2021-07-05T14:05:14.714Z"
   },
   {
    "duration": 102,
    "start_time": "2021-07-05T14:06:38.171Z"
   },
   {
    "duration": 3849,
    "start_time": "2021-07-05T14:06:38.276Z"
   },
   {
    "duration": 126,
    "start_time": "2021-07-05T14:06:42.211Z"
   },
   {
    "duration": 74,
    "start_time": "2021-07-05T14:06:42.340Z"
   },
   {
    "duration": 112,
    "start_time": "2021-07-05T14:06:42.417Z"
   },
   {
    "duration": 81,
    "start_time": "2021-07-05T14:06:42.531Z"
   },
   {
    "duration": 156,
    "start_time": "2021-07-05T14:06:42.614Z"
   },
   {
    "duration": 3973,
    "start_time": "2021-07-05T14:06:42.773Z"
   },
   {
    "duration": 164,
    "start_time": "2021-07-05T14:06:46.748Z"
   },
   {
    "duration": 8582,
    "start_time": "2021-07-05T14:06:46.919Z"
   },
   {
    "duration": 44328,
    "start_time": "2021-07-05T14:06:55.509Z"
   },
   {
    "duration": 2376,
    "start_time": "2021-07-05T14:07:39.840Z"
   },
   {
    "duration": 8797,
    "start_time": "2021-07-05T14:07:42.221Z"
   },
   {
    "duration": 167,
    "start_time": "2021-07-05T14:07:51.021Z"
   },
   {
    "duration": -240,
    "start_time": "2021-07-05T14:07:51.431Z"
   },
   {
    "duration": -243,
    "start_time": "2021-07-05T14:07:51.436Z"
   },
   {
    "duration": -243,
    "start_time": "2021-07-05T14:07:51.439Z"
   },
   {
    "duration": -245,
    "start_time": "2021-07-05T14:07:51.443Z"
   },
   {
    "duration": -245,
    "start_time": "2021-07-05T14:07:51.445Z"
   },
   {
    "duration": 33,
    "start_time": "2021-07-05T14:16:47.325Z"
   },
   {
    "duration": 33,
    "start_time": "2021-07-05T14:16:53.015Z"
   },
   {
    "duration": 1644,
    "start_time": "2021-07-05T14:17:04.136Z"
   },
   {
    "duration": 55,
    "start_time": "2021-07-05T14:17:05.783Z"
   },
   {
    "duration": 6,
    "start_time": "2021-07-05T14:17:05.841Z"
   },
   {
    "duration": 12,
    "start_time": "2021-07-05T14:17:05.849Z"
   },
   {
    "duration": 50,
    "start_time": "2021-07-05T14:17:05.864Z"
   },
   {
    "duration": 59,
    "start_time": "2021-07-05T14:17:05.916Z"
   },
   {
    "duration": 37,
    "start_time": "2021-07-05T14:17:05.977Z"
   },
   {
    "duration": 8,
    "start_time": "2021-07-05T14:17:06.018Z"
   },
   {
    "duration": 8,
    "start_time": "2021-07-05T14:17:06.030Z"
   },
   {
    "duration": 27,
    "start_time": "2021-07-05T14:17:06.041Z"
   },
   {
    "duration": 21,
    "start_time": "2021-07-05T14:17:06.071Z"
   },
   {
    "duration": 43,
    "start_time": "2021-07-05T14:17:06.094Z"
   },
   {
    "duration": 14,
    "start_time": "2021-07-05T14:17:06.140Z"
   },
   {
    "duration": 68,
    "start_time": "2021-07-05T14:17:06.157Z"
   },
   {
    "duration": 30467,
    "start_time": "2021-07-05T14:17:06.228Z"
   },
   {
    "duration": 38,
    "start_time": "2021-07-05T14:17:36.698Z"
   },
   {
    "duration": 86228,
    "start_time": "2021-07-05T14:17:36.739Z"
   },
   {
    "duration": 104,
    "start_time": "2021-07-05T14:19:02.970Z"
   },
   {
    "duration": 3849,
    "start_time": "2021-07-05T14:19:03.076Z"
   },
   {
    "duration": 207,
    "start_time": "2021-07-05T14:19:06.929Z"
   },
   {
    "duration": 73,
    "start_time": "2021-07-05T14:19:07.139Z"
   },
   {
    "duration": 109,
    "start_time": "2021-07-05T14:19:07.216Z"
   },
   {
    "duration": 84,
    "start_time": "2021-07-05T14:19:07.330Z"
   },
   {
    "duration": 153,
    "start_time": "2021-07-05T14:19:07.417Z"
   },
   {
    "duration": 3943,
    "start_time": "2021-07-05T14:19:07.572Z"
   },
   {
    "duration": 106,
    "start_time": "2021-07-05T14:19:11.518Z"
   },
   {
    "duration": 8988,
    "start_time": "2021-07-05T14:19:11.627Z"
   },
   {
    "duration": 45682,
    "start_time": "2021-07-05T14:19:20.618Z"
   },
   {
    "duration": 2419,
    "start_time": "2021-07-05T14:20:06.302Z"
   },
   {
    "duration": 8857,
    "start_time": "2021-07-05T14:20:08.810Z"
   },
   {
    "duration": 131,
    "start_time": "2021-07-05T14:20:17.669Z"
   },
   {
    "duration": -332,
    "start_time": "2021-07-05T14:20:18.134Z"
   },
   {
    "duration": -346,
    "start_time": "2021-07-05T14:20:18.150Z"
   },
   {
    "duration": -471,
    "start_time": "2021-07-05T14:20:18.276Z"
   },
   {
    "duration": -475,
    "start_time": "2021-07-05T14:20:18.282Z"
   },
   {
    "duration": -477,
    "start_time": "2021-07-05T14:20:18.286Z"
   },
   {
    "duration": 4800,
    "start_time": "2021-07-05T14:37:11.779Z"
   },
   {
    "duration": 6713,
    "start_time": "2021-07-05T18:02:42.122Z"
   },
   {
    "duration": 9351,
    "start_time": "2021-07-05T18:04:10.479Z"
   },
   {
    "duration": 139,
    "start_time": "2021-07-05T18:05:27.722Z"
   },
   {
    "duration": 124,
    "start_time": "2021-07-05T18:05:46.079Z"
   },
   {
    "duration": 4362,
    "start_time": "2021-07-05T18:06:28.870Z"
   },
   {
    "duration": 1693,
    "start_time": "2021-07-06T14:36:51.652Z"
   },
   {
    "duration": 59,
    "start_time": "2021-07-06T14:36:53.347Z"
   },
   {
    "duration": 5,
    "start_time": "2021-07-06T14:36:53.409Z"
   },
   {
    "duration": 8,
    "start_time": "2021-07-06T14:36:53.417Z"
   },
   {
    "duration": 57,
    "start_time": "2021-07-06T14:36:53.427Z"
   },
   {
    "duration": 76,
    "start_time": "2021-07-06T14:36:53.487Z"
   },
   {
    "duration": 14,
    "start_time": "2021-07-06T14:36:53.566Z"
   },
   {
    "duration": 10,
    "start_time": "2021-07-06T14:36:53.587Z"
   },
   {
    "duration": 24,
    "start_time": "2021-07-06T14:36:53.600Z"
   },
   {
    "duration": 11,
    "start_time": "2021-07-06T14:36:53.626Z"
   },
   {
    "duration": 28,
    "start_time": "2021-07-06T14:36:53.640Z"
   },
   {
    "duration": 43,
    "start_time": "2021-07-06T14:36:53.671Z"
   },
   {
    "duration": 17,
    "start_time": "2021-07-06T14:36:53.716Z"
   },
   {
    "duration": 60,
    "start_time": "2021-07-06T14:36:53.736Z"
   },
   {
    "duration": 24988,
    "start_time": "2021-07-06T14:36:53.799Z"
   },
   {
    "duration": 29,
    "start_time": "2021-07-06T14:37:18.789Z"
   },
   {
    "duration": 82478,
    "start_time": "2021-07-06T14:37:18.821Z"
   },
   {
    "duration": 108,
    "start_time": "2021-07-06T14:38:41.301Z"
   },
   {
    "duration": 3052,
    "start_time": "2021-07-06T14:38:41.411Z"
   },
   {
    "duration": 195,
    "start_time": "2021-07-06T14:38:44.469Z"
   },
   {
    "duration": 90,
    "start_time": "2021-07-06T14:38:44.674Z"
   },
   {
    "duration": 23,
    "start_time": "2021-07-06T14:38:44.767Z"
   },
   {
    "duration": 67,
    "start_time": "2021-07-06T14:38:44.795Z"
   },
   {
    "duration": 150,
    "start_time": "2021-07-06T14:38:44.865Z"
   },
   {
    "duration": 82,
    "start_time": "2021-07-06T14:38:45.019Z"
   },
   {
    "duration": 166,
    "start_time": "2021-07-06T14:38:45.103Z"
   },
   {
    "duration": 8984,
    "start_time": "2021-07-06T14:38:45.272Z"
   },
   {
    "duration": 44808,
    "start_time": "2021-07-06T14:38:54.262Z"
   },
   {
    "duration": 2407,
    "start_time": "2021-07-06T14:39:39.073Z"
   },
   {
    "duration": 9422,
    "start_time": "2021-07-06T14:39:41.564Z"
   },
   {
    "duration": 107,
    "start_time": "2021-07-06T14:39:50.988Z"
   },
   {
    "duration": 1099,
    "start_time": "2021-07-06T14:39:49.999Z"
   },
   {
    "duration": 1098,
    "start_time": "2021-07-06T14:39:50.002Z"
   },
   {
    "duration": 1068,
    "start_time": "2021-07-06T14:39:50.034Z"
   },
   {
    "duration": 1064,
    "start_time": "2021-07-06T14:39:50.039Z"
   },
   {
    "duration": 1064,
    "start_time": "2021-07-06T14:39:50.040Z"
   },
   {
    "duration": 51,
    "start_time": "2021-07-06T15:28:15.826Z"
   },
   {
    "duration": 816,
    "start_time": "2021-07-06T16:45:51.389Z"
   },
   {
    "duration": 804,
    "start_time": "2021-07-06T16:52:04.790Z"
   },
   {
    "duration": 1562,
    "start_time": "2021-07-06T16:52:54.031Z"
   },
   {
    "duration": 54,
    "start_time": "2021-07-06T16:52:55.596Z"
   },
   {
    "duration": 12,
    "start_time": "2021-07-06T16:52:55.654Z"
   },
   {
    "duration": 10,
    "start_time": "2021-07-06T16:52:55.669Z"
   },
   {
    "duration": 52,
    "start_time": "2021-07-06T16:52:55.684Z"
   },
   {
    "duration": 111,
    "start_time": "2021-07-06T16:52:55.739Z"
   },
   {
    "duration": 19,
    "start_time": "2021-07-06T16:52:55.852Z"
   },
   {
    "duration": 10,
    "start_time": "2021-07-06T16:52:55.873Z"
   },
   {
    "duration": 7,
    "start_time": "2021-07-06T16:52:55.890Z"
   },
   {
    "duration": 9,
    "start_time": "2021-07-06T16:52:55.901Z"
   },
   {
    "duration": 60,
    "start_time": "2021-07-06T16:52:55.913Z"
   },
   {
    "duration": 40,
    "start_time": "2021-07-06T16:52:55.976Z"
   },
   {
    "duration": 20,
    "start_time": "2021-07-06T16:52:56.019Z"
   },
   {
    "duration": 42,
    "start_time": "2021-07-06T16:52:56.068Z"
   },
   {
    "duration": 24870,
    "start_time": "2021-07-06T16:52:56.113Z"
   },
   {
    "duration": 29,
    "start_time": "2021-07-06T16:53:20.986Z"
   },
   {
    "duration": 86463,
    "start_time": "2021-07-06T16:53:21.017Z"
   },
   {
    "duration": 98,
    "start_time": "2021-07-06T16:54:47.483Z"
   },
   {
    "duration": 4592,
    "start_time": "2021-07-06T16:54:47.583Z"
   },
   {
    "duration": 186,
    "start_time": "2021-07-06T16:54:52.180Z"
   },
   {
    "duration": 11,
    "start_time": "2021-07-06T16:54:52.369Z"
   },
   {
    "duration": 24,
    "start_time": "2021-07-06T16:54:52.463Z"
   },
   {
    "duration": 41,
    "start_time": "2021-07-06T16:54:52.490Z"
   },
   {
    "duration": 176,
    "start_time": "2021-07-06T16:54:52.533Z"
   },
   {
    "duration": 61,
    "start_time": "2021-07-06T16:54:52.711Z"
   },
   {
    "duration": 195,
    "start_time": "2021-07-06T16:54:52.778Z"
   },
   {
    "duration": 9093,
    "start_time": "2021-07-06T16:54:52.978Z"
   },
   {
    "duration": 50844,
    "start_time": "2021-07-06T16:55:02.074Z"
   },
   {
    "duration": 2546,
    "start_time": "2021-07-06T16:55:52.920Z"
   },
   {
    "duration": 8979,
    "start_time": "2021-07-06T16:55:55.473Z"
   },
   {
    "duration": 817,
    "start_time": "2021-07-06T16:56:04.454Z"
   },
   {
    "duration": 836,
    "start_time": "2021-07-06T16:56:05.275Z"
   },
   {
    "duration": 452,
    "start_time": "2021-07-06T16:56:06.114Z"
   },
   {
    "duration": -313,
    "start_time": "2021-07-06T16:56:06.881Z"
   },
   {
    "duration": -313,
    "start_time": "2021-07-06T16:56:06.883Z"
   },
   {
    "duration": -360,
    "start_time": "2021-07-06T16:56:06.933Z"
   },
   {
    "duration": 227,
    "start_time": "2021-07-06T17:13:03.585Z"
   },
   {
    "duration": 674,
    "start_time": "2021-07-06T17:15:45.799Z"
   },
   {
    "duration": 557,
    "start_time": "2021-07-06T17:18:30.142Z"
   },
   {
    "duration": 2442,
    "start_time": "2021-07-06T17:22:32.714Z"
   },
   {
    "duration": 363,
    "start_time": "2021-07-06T17:22:35.158Z"
   },
   {
    "duration": 6,
    "start_time": "2021-07-06T17:22:35.524Z"
   },
   {
    "duration": 10,
    "start_time": "2021-07-06T17:22:35.533Z"
   },
   {
    "duration": 43,
    "start_time": "2021-07-06T17:22:35.545Z"
   },
   {
    "duration": 78,
    "start_time": "2021-07-06T17:22:35.591Z"
   },
   {
    "duration": 15,
    "start_time": "2021-07-06T17:22:35.671Z"
   },
   {
    "duration": 7,
    "start_time": "2021-07-06T17:22:35.690Z"
   },
   {
    "duration": 8,
    "start_time": "2021-07-06T17:22:35.700Z"
   },
   {
    "duration": 15,
    "start_time": "2021-07-06T17:22:35.710Z"
   },
   {
    "duration": 43,
    "start_time": "2021-07-06T17:22:35.727Z"
   },
   {
    "duration": 41,
    "start_time": "2021-07-06T17:22:35.774Z"
   },
   {
    "duration": 20,
    "start_time": "2021-07-06T17:22:35.818Z"
   },
   {
    "duration": 41,
    "start_time": "2021-07-06T17:22:35.862Z"
   },
   {
    "duration": 25296,
    "start_time": "2021-07-06T17:22:35.907Z"
   },
   {
    "duration": 31,
    "start_time": "2021-07-06T17:23:01.205Z"
   },
   {
    "duration": 87461,
    "start_time": "2021-07-06T17:23:01.238Z"
   },
   {
    "duration": 140,
    "start_time": "2021-07-06T17:24:28.703Z"
   },
   {
    "duration": 4726,
    "start_time": "2021-07-06T17:24:28.846Z"
   },
   {
    "duration": 110,
    "start_time": "2021-07-06T17:24:33.661Z"
   },
   {
    "duration": 96,
    "start_time": "2021-07-06T17:24:33.774Z"
   },
   {
    "duration": 31,
    "start_time": "2021-07-06T17:24:33.873Z"
   },
   {
    "duration": 55,
    "start_time": "2021-07-06T17:24:33.909Z"
   },
   {
    "duration": 167,
    "start_time": "2021-07-06T17:24:33.968Z"
   },
   {
    "duration": 68,
    "start_time": "2021-07-06T17:24:34.137Z"
   },
   {
    "duration": 163,
    "start_time": "2021-07-06T17:24:34.207Z"
   },
   {
    "duration": 10996,
    "start_time": "2021-07-06T17:24:34.373Z"
   },
   {
    "duration": 47176,
    "start_time": "2021-07-06T17:24:45.372Z"
   },
   {
    "duration": 2116,
    "start_time": "2021-07-06T17:25:32.550Z"
   },
   {
    "duration": 804,
    "start_time": "2021-07-06T17:25:34.672Z"
   },
   {
    "duration": 1087,
    "start_time": "2021-07-06T17:25:35.479Z"
   },
   {
    "duration": 1014,
    "start_time": "2021-07-06T17:25:36.568Z"
   },
   {
    "duration": 532,
    "start_time": "2021-07-06T17:25:37.585Z"
   },
   {
    "duration": 651,
    "start_time": "2021-07-06T17:25:38.119Z"
   },
   {
    "duration": 761,
    "start_time": "2021-07-06T17:25:38.775Z"
   },
   {
    "duration": 479,
    "start_time": "2021-07-06T17:25:39.538Z"
   },
   {
    "duration": 359,
    "start_time": "2021-07-06T17:28:31.346Z"
   },
   {
    "duration": 19,
    "start_time": "2021-07-06T17:29:21.642Z"
   },
   {
    "duration": 12,
    "start_time": "2021-07-06T17:29:55.278Z"
   },
   {
    "duration": 110,
    "start_time": "2021-07-06T17:30:09.757Z"
   },
   {
    "duration": 18,
    "start_time": "2021-07-06T17:30:26.781Z"
   },
   {
    "duration": 12,
    "start_time": "2021-07-06T17:30:37.558Z"
   },
   {
    "duration": 1132,
    "start_time": "2021-07-11T13:45:52.550Z"
   },
   {
    "duration": 40,
    "start_time": "2021-07-11T13:45:53.684Z"
   },
   {
    "duration": 4,
    "start_time": "2021-07-11T13:45:53.726Z"
   },
   {
    "duration": 6,
    "start_time": "2021-07-11T13:45:53.732Z"
   },
   {
    "duration": 23,
    "start_time": "2021-07-11T13:45:53.739Z"
   },
   {
    "duration": 35,
    "start_time": "2021-07-11T13:45:53.764Z"
   },
   {
    "duration": 8,
    "start_time": "2021-07-11T13:45:53.801Z"
   },
   {
    "duration": 5,
    "start_time": "2021-07-11T13:45:53.812Z"
   },
   {
    "duration": 12,
    "start_time": "2021-07-11T13:45:53.818Z"
   },
   {
    "duration": 7,
    "start_time": "2021-07-11T13:45:53.832Z"
   },
   {
    "duration": 15,
    "start_time": "2021-07-11T13:45:53.841Z"
   },
   {
    "duration": 30,
    "start_time": "2021-07-11T13:45:53.857Z"
   },
   {
    "duration": 9,
    "start_time": "2021-07-11T13:45:53.889Z"
   },
   {
    "duration": 17,
    "start_time": "2021-07-11T13:45:53.899Z"
   },
   {
    "duration": 15751,
    "start_time": "2021-07-11T13:45:53.918Z"
   },
   {
    "duration": 27,
    "start_time": "2021-07-11T13:46:09.671Z"
   },
   {
    "duration": 50961,
    "start_time": "2021-07-11T13:46:09.699Z"
   },
   {
    "duration": 67,
    "start_time": "2021-07-11T13:47:00.662Z"
   },
   {
    "duration": 2756,
    "start_time": "2021-07-11T13:47:00.730Z"
   },
   {
    "duration": 114,
    "start_time": "2021-07-11T13:47:03.488Z"
   },
   {
    "duration": 181,
    "start_time": "2021-07-11T13:47:03.604Z"
   },
   {
    "duration": 13,
    "start_time": "2021-07-11T13:47:03.787Z"
   },
   {
    "duration": 24,
    "start_time": "2021-07-11T13:47:03.803Z"
   },
   {
    "duration": 98,
    "start_time": "2021-07-11T13:47:03.829Z"
   },
   {
    "duration": 58,
    "start_time": "2021-07-11T13:47:03.929Z"
   },
   {
    "duration": 101,
    "start_time": "2021-07-11T13:47:03.989Z"
   },
   {
    "duration": 12,
    "start_time": "2021-07-11T13:47:04.092Z"
   },
   {
    "duration": 31,
    "start_time": "2021-07-11T13:47:04.106Z"
   },
   {
    "duration": 48,
    "start_time": "2021-07-11T13:47:04.139Z"
   },
   {
    "duration": 544,
    "start_time": "2021-07-11T13:47:04.190Z"
   },
   {
    "duration": 535,
    "start_time": "2021-07-11T13:47:04.736Z"
   },
   {
    "duration": 615,
    "start_time": "2021-07-11T13:47:05.273Z"
   },
   {
    "duration": 334,
    "start_time": "2021-07-11T13:47:05.890Z"
   },
   {
    "duration": 359,
    "start_time": "2021-07-11T13:47:06.226Z"
   },
   {
    "duration": 509,
    "start_time": "2021-07-11T13:47:06.587Z"
   },
   {
    "duration": 7,
    "start_time": "2021-07-11T13:47:07.098Z"
   },
   {
    "duration": 5666,
    "start_time": "2021-07-11T14:05:37.260Z"
   },
   {
    "duration": 26392,
    "start_time": "2021-07-11T14:51:37.816Z"
   },
   {
    "duration": 1981,
    "start_time": "2021-07-11T14:52:44.163Z"
   },
   {
    "duration": 3558,
    "start_time": "2021-07-11T14:52:52.929Z"
   },
   {
    "duration": 2261,
    "start_time": "2021-07-11T14:53:08.626Z"
   },
   {
    "duration": 17,
    "start_time": "2021-07-11T16:34:40.595Z"
   },
   {
    "duration": 8,
    "start_time": "2021-07-11T16:34:54.534Z"
   },
   {
    "duration": 423,
    "start_time": "2021-07-11T17:29:14.107Z"
   },
   {
    "duration": 12,
    "start_time": "2021-07-11T17:29:31.517Z"
   },
   {
    "duration": 593,
    "start_time": "2021-07-11T17:31:42.842Z"
   },
   {
    "duration": 528,
    "start_time": "2021-07-11T17:31:52.979Z"
   },
   {
    "duration": 20,
    "start_time": "2021-07-11T17:32:04.546Z"
   },
   {
    "duration": 196,
    "start_time": "2021-07-11T17:32:40.167Z"
   },
   {
    "duration": 611,
    "start_time": "2021-07-11T17:32:52.962Z"
   },
   {
    "duration": 370,
    "start_time": "2021-07-11T17:33:01.426Z"
   },
   {
    "duration": 1596,
    "start_time": "2021-07-15T06:22:38.009Z"
   },
   {
    "duration": 54,
    "start_time": "2021-07-15T06:22:39.607Z"
   },
   {
    "duration": 6,
    "start_time": "2021-07-15T06:22:39.665Z"
   },
   {
    "duration": 6,
    "start_time": "2021-07-15T06:22:39.674Z"
   },
   {
    "duration": 29,
    "start_time": "2021-07-15T06:22:39.682Z"
   },
   {
    "duration": 83,
    "start_time": "2021-07-15T06:22:39.714Z"
   },
   {
    "duration": 12,
    "start_time": "2021-07-15T06:22:39.799Z"
   },
   {
    "duration": 7,
    "start_time": "2021-07-15T06:22:39.814Z"
   },
   {
    "duration": 5,
    "start_time": "2021-07-15T06:22:39.824Z"
   },
   {
    "duration": 9,
    "start_time": "2021-07-15T06:22:39.856Z"
   },
   {
    "duration": 8,
    "start_time": "2021-07-15T06:22:39.867Z"
   },
   {
    "duration": 28,
    "start_time": "2021-07-15T06:22:39.877Z"
   },
   {
    "duration": 48,
    "start_time": "2021-07-15T06:22:39.907Z"
   },
   {
    "duration": 26,
    "start_time": "2021-07-15T06:22:39.958Z"
   },
   {
    "duration": 22331,
    "start_time": "2021-07-15T06:22:39.987Z"
   },
   {
    "duration": 40,
    "start_time": "2021-07-15T06:23:02.320Z"
   },
   {
    "duration": 77208,
    "start_time": "2021-07-15T06:23:02.362Z"
   },
   {
    "duration": 101,
    "start_time": "2021-07-15T06:24:19.573Z"
   },
   {
    "duration": 3082,
    "start_time": "2021-07-15T06:24:19.676Z"
   },
   {
    "duration": 194,
    "start_time": "2021-07-15T06:24:22.762Z"
   },
   {
    "duration": 99,
    "start_time": "2021-07-15T06:24:22.960Z"
   },
   {
    "duration": 23,
    "start_time": "2021-07-15T06:24:23.062Z"
   },
   {
    "duration": 69,
    "start_time": "2021-07-15T06:24:23.091Z"
   },
   {
    "duration": 140,
    "start_time": "2021-07-15T06:24:23.164Z"
   },
   {
    "duration": 68,
    "start_time": "2021-07-15T06:24:23.307Z"
   },
   {
    "duration": 110,
    "start_time": "2021-07-15T06:24:23.458Z"
   },
   {
    "duration": 7972,
    "start_time": "2021-07-15T06:24:23.570Z"
   },
   {
    "duration": 41375,
    "start_time": "2021-07-15T06:24:31.545Z"
   },
   {
    "duration": 705,
    "start_time": "2021-07-15T06:25:12.922Z"
   },
   {
    "duration": 658,
    "start_time": "2021-07-15T06:25:13.630Z"
   },
   {
    "duration": 848,
    "start_time": "2021-07-15T06:25:14.290Z"
   },
   {
    "duration": 832,
    "start_time": "2021-07-15T06:25:15.140Z"
   },
   {
    "duration": 611,
    "start_time": "2021-07-15T06:25:15.975Z"
   },
   {
    "duration": 1210,
    "start_time": "2021-07-15T06:25:16.588Z"
   },
   {
    "duration": 658,
    "start_time": "2021-07-15T06:25:17.800Z"
   },
   {
    "duration": 29,
    "start_time": "2021-07-15T06:25:18.460Z"
   },
   {
    "duration": 2361,
    "start_time": "2021-07-15T07:15:03.999Z"
   },
   {
    "duration": 1647,
    "start_time": "2021-07-16T13:44:02.922Z"
   },
   {
    "duration": 69,
    "start_time": "2021-07-16T13:44:04.572Z"
   },
   {
    "duration": 6,
    "start_time": "2021-07-16T13:44:04.644Z"
   },
   {
    "duration": 7,
    "start_time": "2021-07-16T13:44:04.653Z"
   },
   {
    "duration": 61,
    "start_time": "2021-07-16T13:44:04.663Z"
   },
   {
    "duration": 57,
    "start_time": "2021-07-16T13:44:04.728Z"
   },
   {
    "duration": 21,
    "start_time": "2021-07-16T13:44:04.800Z"
   },
   {
    "duration": 16,
    "start_time": "2021-07-16T13:44:04.827Z"
   },
   {
    "duration": 6,
    "start_time": "2021-07-16T13:44:04.847Z"
   },
   {
    "duration": 57,
    "start_time": "2021-07-16T13:44:04.856Z"
   },
   {
    "duration": 14,
    "start_time": "2021-07-16T13:44:04.917Z"
   },
   {
    "duration": 32,
    "start_time": "2021-07-16T13:44:04.933Z"
   },
   {
    "duration": 53,
    "start_time": "2021-07-16T13:44:04.968Z"
   },
   {
    "duration": 33,
    "start_time": "2021-07-16T13:44:05.024Z"
   },
   {
    "duration": 25300,
    "start_time": "2021-07-16T13:44:05.059Z"
   },
   {
    "duration": 50,
    "start_time": "2021-07-16T13:44:30.362Z"
   },
   {
    "duration": 92342,
    "start_time": "2021-07-16T13:44:30.419Z"
   },
   {
    "duration": 150,
    "start_time": "2021-07-16T13:46:02.764Z"
   },
   {
    "duration": 5289,
    "start_time": "2021-07-16T13:46:02.917Z"
   },
   {
    "duration": 202,
    "start_time": "2021-07-16T13:46:08.213Z"
   },
   {
    "duration": 20,
    "start_time": "2021-07-16T13:46:08.418Z"
   },
   {
    "duration": 33,
    "start_time": "2021-07-16T13:46:08.503Z"
   },
   {
    "duration": 65,
    "start_time": "2021-07-16T13:46:08.540Z"
   },
   {
    "duration": 161,
    "start_time": "2021-07-16T13:46:08.609Z"
   },
   {
    "duration": 130,
    "start_time": "2021-07-16T13:46:08.772Z"
   },
   {
    "duration": 118,
    "start_time": "2021-07-16T13:46:08.907Z"
   },
   {
    "duration": 9590,
    "start_time": "2021-07-16T13:46:09.029Z"
   },
   {
    "duration": 50632,
    "start_time": "2021-07-16T13:46:18.624Z"
   },
   {
    "duration": 3966,
    "start_time": "2021-07-16T13:47:09.258Z"
   },
   {
    "duration": 763,
    "start_time": "2021-07-16T13:47:13.229Z"
   },
   {
    "duration": 749,
    "start_time": "2021-07-16T13:47:13.995Z"
   },
   {
    "duration": 788,
    "start_time": "2021-07-16T13:47:14.747Z"
   },
   {
    "duration": 528,
    "start_time": "2021-07-16T13:47:15.537Z"
   },
   {
    "duration": 1052,
    "start_time": "2021-07-16T13:47:16.067Z"
   },
   {
    "duration": 640,
    "start_time": "2021-07-16T13:47:17.122Z"
   },
   {
    "duration": 42,
    "start_time": "2021-07-16T13:47:17.764Z"
   },
   {
    "duration": 1553,
    "start_time": "2021-07-18T03:17:45.231Z"
   },
   {
    "duration": 58,
    "start_time": "2021-07-18T03:17:46.787Z"
   },
   {
    "duration": 6,
    "start_time": "2021-07-18T03:17:46.848Z"
   },
   {
    "duration": 21,
    "start_time": "2021-07-18T03:17:46.857Z"
   },
   {
    "duration": 40,
    "start_time": "2021-07-18T03:17:46.880Z"
   },
   {
    "duration": 53,
    "start_time": "2021-07-18T03:17:46.922Z"
   },
   {
    "duration": 34,
    "start_time": "2021-07-18T03:17:46.978Z"
   },
   {
    "duration": 8,
    "start_time": "2021-07-18T03:17:47.015Z"
   },
   {
    "duration": 6,
    "start_time": "2021-07-18T03:17:47.026Z"
   },
   {
    "duration": 11,
    "start_time": "2021-07-18T03:17:47.035Z"
   },
   {
    "duration": 9,
    "start_time": "2021-07-18T03:17:47.048Z"
   },
   {
    "duration": 30,
    "start_time": "2021-07-18T03:17:47.100Z"
   },
   {
    "duration": 15,
    "start_time": "2021-07-18T03:17:47.132Z"
   },
   {
    "duration": 61,
    "start_time": "2021-07-18T03:17:47.150Z"
   },
   {
    "duration": 21995,
    "start_time": "2021-07-18T03:17:47.214Z"
   },
   {
    "duration": 29,
    "start_time": "2021-07-18T03:18:09.211Z"
   },
   {
    "duration": 77159,
    "start_time": "2021-07-18T03:18:09.242Z"
   },
   {
    "duration": 97,
    "start_time": "2021-07-18T03:19:26.404Z"
   },
   {
    "duration": 3297,
    "start_time": "2021-07-18T03:19:26.504Z"
   },
   {
    "duration": 199,
    "start_time": "2021-07-18T03:19:29.805Z"
   },
   {
    "duration": 97,
    "start_time": "2021-07-18T03:19:30.008Z"
   },
   {
    "duration": 21,
    "start_time": "2021-07-18T03:19:30.108Z"
   },
   {
    "duration": 66,
    "start_time": "2021-07-18T03:19:30.133Z"
   },
   {
    "duration": 149,
    "start_time": "2021-07-18T03:19:30.203Z"
   },
   {
    "duration": 73,
    "start_time": "2021-07-18T03:19:30.355Z"
   },
   {
    "duration": 182,
    "start_time": "2021-07-18T03:19:30.432Z"
   },
   {
    "duration": 8284,
    "start_time": "2021-07-18T03:19:30.617Z"
   },
   {
    "duration": 41059,
    "start_time": "2021-07-18T03:19:38.903Z"
   },
   {
    "duration": 2438,
    "start_time": "2021-07-18T03:20:19.964Z"
   },
   {
    "duration": 751,
    "start_time": "2021-07-18T03:20:22.407Z"
   },
   {
    "duration": 743,
    "start_time": "2021-07-18T03:20:23.160Z"
   },
   {
    "duration": 820,
    "start_time": "2021-07-18T03:20:23.906Z"
   },
   {
    "duration": 579,
    "start_time": "2021-07-18T03:20:24.728Z"
   },
   {
    "duration": 948,
    "start_time": "2021-07-18T03:20:25.309Z"
   },
   {
    "duration": 695,
    "start_time": "2021-07-18T03:20:26.259Z"
   },
   {
    "duration": 27,
    "start_time": "2021-07-18T03:20:26.956Z"
   },
   {
    "duration": 11,
    "start_time": "2021-07-18T03:22:17.193Z"
   },
   {
    "duration": 640,
    "start_time": "2021-07-18T03:34:32.135Z"
   },
   {
    "duration": 92,
    "start_time": "2021-07-18T03:37:58.218Z"
   },
   {
    "duration": 670,
    "start_time": "2021-07-18T03:38:28.974Z"
   },
   {
    "duration": 647,
    "start_time": "2021-07-18T03:38:46.204Z"
   },
   {
    "duration": 643,
    "start_time": "2021-07-18T03:41:53.241Z"
   },
   {
    "duration": 90,
    "start_time": "2021-07-18T03:42:34.172Z"
   },
   {
    "duration": 87,
    "start_time": "2021-07-18T03:43:11.760Z"
   },
   {
    "duration": 710,
    "start_time": "2021-07-18T03:43:28.050Z"
   },
   {
    "duration": 101,
    "start_time": "2021-07-18T03:44:11.537Z"
   },
   {
    "duration": 819,
    "start_time": "2021-07-18T03:44:32.238Z"
   },
   {
    "duration": 18,
    "start_time": "2021-07-18T04:10:34.020Z"
   },
   {
    "duration": 1436,
    "start_time": "2021-07-18T04:10:59.726Z"
   },
   {
    "duration": 55,
    "start_time": "2021-07-18T04:11:01.165Z"
   },
   {
    "duration": 7,
    "start_time": "2021-07-18T04:11:01.227Z"
   },
   {
    "duration": 8,
    "start_time": "2021-07-18T04:11:01.236Z"
   },
   {
    "duration": 57,
    "start_time": "2021-07-18T04:11:01.247Z"
   },
   {
    "duration": 54,
    "start_time": "2021-07-18T04:11:01.306Z"
   },
   {
    "duration": 38,
    "start_time": "2021-07-18T04:11:01.363Z"
   },
   {
    "duration": 8,
    "start_time": "2021-07-18T04:11:01.405Z"
   },
   {
    "duration": 8,
    "start_time": "2021-07-18T04:11:01.417Z"
   },
   {
    "duration": 13,
    "start_time": "2021-07-18T04:11:01.428Z"
   },
   {
    "duration": 20,
    "start_time": "2021-07-18T04:11:01.443Z"
   },
   {
    "duration": 54,
    "start_time": "2021-07-18T04:11:01.465Z"
   },
   {
    "duration": 14,
    "start_time": "2021-07-18T04:11:01.521Z"
   },
   {
    "duration": 28,
    "start_time": "2021-07-18T04:11:01.537Z"
   },
   {
    "duration": 22285,
    "start_time": "2021-07-18T04:11:01.568Z"
   },
   {
    "duration": 27,
    "start_time": "2021-07-18T04:11:23.855Z"
   },
   {
    "duration": 77021,
    "start_time": "2021-07-18T04:11:23.901Z"
   },
   {
    "duration": 97,
    "start_time": "2021-07-18T04:12:40.924Z"
   },
   {
    "duration": 4178,
    "start_time": "2021-07-18T04:12:41.025Z"
   },
   {
    "duration": 196,
    "start_time": "2021-07-18T04:12:45.206Z"
   },
   {
    "duration": 99,
    "start_time": "2021-07-18T04:12:45.405Z"
   },
   {
    "duration": 21,
    "start_time": "2021-07-18T04:12:45.506Z"
   },
   {
    "duration": 35,
    "start_time": "2021-07-18T04:12:45.530Z"
   },
   {
    "duration": 165,
    "start_time": "2021-07-18T04:12:45.567Z"
   },
   {
    "duration": 71,
    "start_time": "2021-07-18T04:12:45.735Z"
   },
   {
    "duration": 113,
    "start_time": "2021-07-18T04:12:45.902Z"
   },
   {
    "duration": 8346,
    "start_time": "2021-07-18T04:12:46.018Z"
   },
   {
    "duration": 41847,
    "start_time": "2021-07-18T04:12:54.367Z"
   },
   {
    "duration": 2691,
    "start_time": "2021-07-18T04:13:36.217Z"
   },
   {
    "duration": 733,
    "start_time": "2021-07-18T04:13:39.002Z"
   },
   {
    "duration": 755,
    "start_time": "2021-07-18T04:13:39.738Z"
   },
   {
    "duration": 852,
    "start_time": "2021-07-18T04:13:40.496Z"
   },
   {
    "duration": 591,
    "start_time": "2021-07-18T04:13:41.351Z"
   },
   {
    "duration": 1079,
    "start_time": "2021-07-18T04:13:41.945Z"
   },
   {
    "duration": 670,
    "start_time": "2021-07-18T04:13:43.027Z"
   },
   {
    "duration": 28,
    "start_time": "2021-07-18T04:13:43.701Z"
   },
   {
    "duration": 530,
    "start_time": "2021-07-18T05:28:29.626Z"
   },
   {
    "duration": 628,
    "start_time": "2021-07-18T05:29:33.534Z"
   },
   {
    "duration": 726,
    "start_time": "2021-07-18T05:31:27.155Z"
   },
   {
    "duration": 12,
    "start_time": "2021-07-18T05:32:03.481Z"
   },
   {
    "duration": 16,
    "start_time": "2021-07-18T05:32:11.152Z"
   },
   {
    "duration": 11,
    "start_time": "2021-07-18T05:32:23.055Z"
   },
   {
    "duration": 1573,
    "start_time": "2021-07-18T05:34:07.940Z"
   },
   {
    "duration": 56,
    "start_time": "2021-07-18T05:34:09.515Z"
   },
   {
    "duration": 6,
    "start_time": "2021-07-18T05:34:09.574Z"
   },
   {
    "duration": 19,
    "start_time": "2021-07-18T05:34:09.584Z"
   },
   {
    "duration": 31,
    "start_time": "2021-07-18T05:34:09.606Z"
   },
   {
    "duration": 78,
    "start_time": "2021-07-18T05:34:09.639Z"
   },
   {
    "duration": 14,
    "start_time": "2021-07-18T05:34:09.719Z"
   },
   {
    "duration": 8,
    "start_time": "2021-07-18T05:34:09.736Z"
   },
   {
    "duration": 5,
    "start_time": "2021-07-18T05:34:09.747Z"
   },
   {
    "duration": 49,
    "start_time": "2021-07-18T05:34:09.755Z"
   },
   {
    "duration": 9,
    "start_time": "2021-07-18T05:34:09.806Z"
   },
   {
    "duration": 28,
    "start_time": "2021-07-18T05:34:09.817Z"
   },
   {
    "duration": 14,
    "start_time": "2021-07-18T05:34:09.847Z"
   },
   {
    "duration": 61,
    "start_time": "2021-07-18T05:34:09.863Z"
   },
   {
    "duration": 22347,
    "start_time": "2021-07-18T05:34:09.927Z"
   },
   {
    "duration": 36,
    "start_time": "2021-07-18T05:34:32.277Z"
   },
   {
    "duration": 77998,
    "start_time": "2021-07-18T05:34:32.316Z"
   },
   {
    "duration": 95,
    "start_time": "2021-07-18T05:35:50.316Z"
   },
   {
    "duration": 3390,
    "start_time": "2021-07-18T05:35:50.414Z"
   },
   {
    "duration": 196,
    "start_time": "2021-07-18T05:35:53.808Z"
   },
   {
    "duration": 97,
    "start_time": "2021-07-18T05:35:54.008Z"
   },
   {
    "duration": 20,
    "start_time": "2021-07-18T05:35:54.107Z"
   },
   {
    "duration": 35,
    "start_time": "2021-07-18T05:35:54.132Z"
   },
   {
    "duration": 166,
    "start_time": "2021-07-18T05:35:54.169Z"
   },
   {
    "duration": 69,
    "start_time": "2021-07-18T05:35:54.337Z"
   },
   {
    "duration": 203,
    "start_time": "2021-07-18T05:35:54.410Z"
   },
   {
    "duration": 8469,
    "start_time": "2021-07-18T05:35:54.615Z"
   },
   {
    "duration": 41597,
    "start_time": "2021-07-18T05:36:03.087Z"
   },
   {
    "duration": 2621,
    "start_time": "2021-07-18T05:36:44.687Z"
   },
   {
    "duration": 726,
    "start_time": "2021-07-18T05:36:47.401Z"
   },
   {
    "duration": 730,
    "start_time": "2021-07-18T05:36:48.130Z"
   },
   {
    "duration": 864,
    "start_time": "2021-07-18T05:36:48.863Z"
   },
   {
    "duration": 537,
    "start_time": "2021-07-18T05:36:49.730Z"
   },
   {
    "duration": 635,
    "start_time": "2021-07-18T05:36:50.269Z"
   },
   {
    "duration": 695,
    "start_time": "2021-07-18T05:36:50.906Z"
   },
   {
    "duration": 10,
    "start_time": "2021-07-18T05:36:51.604Z"
   },
   {
    "duration": 412,
    "start_time": "2021-07-18T07:30:21.011Z"
   },
   {
    "duration": 15,
    "start_time": "2021-07-18T07:30:34.211Z"
   },
   {
    "duration": 871,
    "start_time": "2021-07-18T10:10:12.430Z"
   },
   {
    "duration": 21,
    "start_time": "2021-07-18T10:10:31.200Z"
   },
   {
    "duration": 826,
    "start_time": "2021-07-18T10:11:56.799Z"
   },
   {
    "duration": 19,
    "start_time": "2021-07-18T10:12:07.531Z"
   },
   {
    "duration": 21,
    "start_time": "2021-07-18T10:13:10.032Z"
   },
   {
    "duration": 22,
    "start_time": "2021-07-18T10:13:49.140Z"
   },
   {
    "duration": 20,
    "start_time": "2021-07-18T10:14:06.174Z"
   },
   {
    "duration": 20,
    "start_time": "2021-07-18T10:14:41.077Z"
   },
   {
    "duration": 273,
    "start_time": "2021-07-18T10:33:25.158Z"
   },
   {
    "duration": 22,
    "start_time": "2021-07-18T11:49:41.704Z"
   },
   {
    "duration": 1606,
    "start_time": "2021-07-18T11:49:55.632Z"
   },
   {
    "duration": 170,
    "start_time": "2021-07-18T11:49:57.242Z"
   },
   {
    "duration": 7,
    "start_time": "2021-07-18T11:49:57.416Z"
   },
   {
    "duration": 6,
    "start_time": "2021-07-18T11:49:57.426Z"
   },
   {
    "duration": 27,
    "start_time": "2021-07-18T11:49:57.435Z"
   },
   {
    "duration": 83,
    "start_time": "2021-07-18T11:49:57.464Z"
   },
   {
    "duration": 13,
    "start_time": "2021-07-18T11:49:57.549Z"
   },
   {
    "duration": 36,
    "start_time": "2021-07-18T11:49:57.565Z"
   },
   {
    "duration": 15,
    "start_time": "2021-07-18T11:49:57.605Z"
   },
   {
    "duration": 9,
    "start_time": "2021-07-18T11:49:57.623Z"
   },
   {
    "duration": 8,
    "start_time": "2021-07-18T11:49:57.635Z"
   },
   {
    "duration": 68,
    "start_time": "2021-07-18T11:49:57.646Z"
   },
   {
    "duration": 15,
    "start_time": "2021-07-18T11:49:57.716Z"
   },
   {
    "duration": 29,
    "start_time": "2021-07-18T11:49:57.733Z"
   },
   {
    "duration": 24187,
    "start_time": "2021-07-18T11:49:57.764Z"
   },
   {
    "duration": 29,
    "start_time": "2021-07-18T11:50:21.953Z"
   },
   {
    "duration": 83707,
    "start_time": "2021-07-18T11:50:22.001Z"
   },
   {
    "duration": 103,
    "start_time": "2021-07-18T11:51:45.712Z"
   },
   {
    "duration": 3782,
    "start_time": "2021-07-18T11:51:45.819Z"
   },
   {
    "duration": 197,
    "start_time": "2021-07-18T11:51:49.605Z"
   },
   {
    "duration": 12,
    "start_time": "2021-07-18T11:51:49.805Z"
   },
   {
    "duration": 94,
    "start_time": "2021-07-18T11:51:49.821Z"
   },
   {
    "duration": 36,
    "start_time": "2021-07-18T11:51:49.920Z"
   },
   {
    "duration": 174,
    "start_time": "2021-07-18T11:51:49.959Z"
   },
   {
    "duration": 166,
    "start_time": "2021-07-18T11:51:50.135Z"
   },
   {
    "duration": 117,
    "start_time": "2021-07-18T11:51:50.305Z"
   },
   {
    "duration": 8725,
    "start_time": "2021-07-18T11:51:50.425Z"
   },
   {
    "duration": 45101,
    "start_time": "2021-07-18T11:51:59.153Z"
   },
   {
    "duration": 1859,
    "start_time": "2021-07-18T11:52:44.257Z"
   },
   {
    "duration": 807,
    "start_time": "2021-07-18T11:52:46.203Z"
   },
   {
    "duration": 804,
    "start_time": "2021-07-18T11:52:47.013Z"
   },
   {
    "duration": 863,
    "start_time": "2021-07-18T11:52:47.819Z"
   },
   {
    "duration": 588,
    "start_time": "2021-07-18T11:52:48.684Z"
   },
   {
    "duration": 836,
    "start_time": "2021-07-18T11:52:49.275Z"
   },
   {
    "duration": 706,
    "start_time": "2021-07-18T11:52:50.115Z"
   },
   {
    "duration": 19,
    "start_time": "2021-07-18T11:52:50.823Z"
   },
   {
    "duration": 1702,
    "start_time": "2021-07-18T12:12:18.142Z"
   },
   {
    "duration": 73,
    "start_time": "2021-07-18T12:12:19.847Z"
   },
   {
    "duration": 7,
    "start_time": "2021-07-18T12:12:19.924Z"
   },
   {
    "duration": 7,
    "start_time": "2021-07-18T12:12:19.935Z"
   },
   {
    "duration": 55,
    "start_time": "2021-07-18T12:12:19.945Z"
   },
   {
    "duration": 55,
    "start_time": "2021-07-18T12:12:20.003Z"
   },
   {
    "duration": 42,
    "start_time": "2021-07-18T12:12:20.060Z"
   },
   {
    "duration": 9,
    "start_time": "2021-07-18T12:12:20.106Z"
   },
   {
    "duration": 7,
    "start_time": "2021-07-18T12:12:20.118Z"
   },
   {
    "duration": 11,
    "start_time": "2021-07-18T12:12:20.128Z"
   },
   {
    "duration": 14,
    "start_time": "2021-07-18T12:12:20.142Z"
   },
   {
    "duration": 77,
    "start_time": "2021-07-18T12:12:20.159Z"
   },
   {
    "duration": 18,
    "start_time": "2021-07-18T12:12:20.239Z"
   },
   {
    "duration": 58,
    "start_time": "2021-07-18T12:12:20.260Z"
   },
   {
    "duration": 23043,
    "start_time": "2021-07-18T12:12:20.321Z"
   },
   {
    "duration": 40,
    "start_time": "2021-07-18T12:12:43.366Z"
   },
   {
    "duration": 78437,
    "start_time": "2021-07-18T12:12:43.409Z"
   },
   {
    "duration": 99,
    "start_time": "2021-07-18T12:14:01.849Z"
   },
   {
    "duration": 3558,
    "start_time": "2021-07-18T12:14:01.950Z"
   },
   {
    "duration": 200,
    "start_time": "2021-07-18T12:14:05.511Z"
   },
   {
    "duration": 91,
    "start_time": "2021-07-18T12:14:05.714Z"
   },
   {
    "duration": 22,
    "start_time": "2021-07-18T12:14:05.900Z"
   },
   {
    "duration": 37,
    "start_time": "2021-07-18T12:14:05.927Z"
   },
   {
    "duration": 156,
    "start_time": "2021-07-18T12:14:05.967Z"
   },
   {
    "duration": 77,
    "start_time": "2021-07-18T12:14:06.126Z"
   },
   {
    "duration": 116,
    "start_time": "2021-07-18T12:14:06.206Z"
   },
   {
    "duration": 8235,
    "start_time": "2021-07-18T12:14:06.325Z"
   },
   {
    "duration": 41357,
    "start_time": "2021-07-18T12:14:14.563Z"
   },
   {
    "duration": 2487,
    "start_time": "2021-07-18T12:14:55.922Z"
   },
   {
    "duration": 743,
    "start_time": "2021-07-18T12:14:58.503Z"
   },
   {
    "duration": 735,
    "start_time": "2021-07-18T12:14:59.249Z"
   },
   {
    "duration": 850,
    "start_time": "2021-07-18T12:14:59.986Z"
   },
   {
    "duration": 588,
    "start_time": "2021-07-18T12:15:00.840Z"
   },
   {
    "duration": 786,
    "start_time": "2021-07-18T12:15:01.430Z"
   },
   {
    "duration": 686,
    "start_time": "2021-07-18T12:15:02.218Z"
   },
   {
    "duration": 19,
    "start_time": "2021-07-18T12:15:02.907Z"
   },
   {
    "duration": 1532,
    "start_time": "2021-07-21T14:59:38.552Z"
   },
   {
    "duration": 55,
    "start_time": "2021-07-21T14:59:40.086Z"
   },
   {
    "duration": 6,
    "start_time": "2021-07-21T14:59:40.144Z"
   },
   {
    "duration": 8,
    "start_time": "2021-07-21T14:59:40.152Z"
   },
   {
    "duration": 28,
    "start_time": "2021-07-21T14:59:40.162Z"
   },
   {
    "duration": 74,
    "start_time": "2021-07-21T14:59:40.192Z"
   },
   {
    "duration": 13,
    "start_time": "2021-07-21T14:59:40.268Z"
   },
   {
    "duration": 7,
    "start_time": "2021-07-21T14:59:40.285Z"
   },
   {
    "duration": 9,
    "start_time": "2021-07-21T14:59:40.295Z"
   },
   {
    "duration": 11,
    "start_time": "2021-07-21T14:59:40.307Z"
   },
   {
    "duration": 9,
    "start_time": "2021-07-21T14:59:40.356Z"
   },
   {
    "duration": 38,
    "start_time": "2021-07-21T14:59:40.367Z"
   },
   {
    "duration": 14,
    "start_time": "2021-07-21T14:59:40.407Z"
   },
   {
    "duration": 43,
    "start_time": "2021-07-21T14:59:40.423Z"
   },
   {
    "duration": 23401,
    "start_time": "2021-07-21T14:59:40.469Z"
   },
   {
    "duration": 96515,
    "start_time": "2021-07-21T15:00:03.872Z"
   },
   {
    "duration": 4569,
    "start_time": "2021-07-21T15:01:40.390Z"
   },
   {
    "duration": 96,
    "start_time": "2021-07-21T15:01:44.963Z"
   },
   {
    "duration": 29,
    "start_time": "2021-07-21T15:01:45.062Z"
   },
   {
    "duration": 121,
    "start_time": "2021-07-21T15:01:45.093Z"
   },
   {
    "duration": 54,
    "start_time": "2021-07-21T15:01:45.216Z"
   },
   {
    "duration": 22,
    "start_time": "2021-07-21T15:01:45.455Z"
   },
   {
    "duration": 40,
    "start_time": "2021-07-21T15:01:45.481Z"
   },
   {
    "duration": 156,
    "start_time": "2021-07-21T15:01:45.524Z"
   },
   {
    "duration": 76,
    "start_time": "2021-07-21T15:01:45.682Z"
   },
   {
    "duration": 108,
    "start_time": "2021-07-21T15:01:45.761Z"
   },
   {
    "duration": 8450,
    "start_time": "2021-07-21T15:01:45.871Z"
   },
   {
    "duration": 42978,
    "start_time": "2021-07-21T15:01:54.324Z"
   },
   {
    "duration": 2953,
    "start_time": "2021-07-21T15:02:37.305Z"
   },
   {
    "duration": 880,
    "start_time": "2021-07-21T15:02:40.263Z"
   },
   {
    "duration": 778,
    "start_time": "2021-07-21T15:02:41.145Z"
   },
   {
    "duration": 920,
    "start_time": "2021-07-21T15:02:41.926Z"
   },
   {
    "duration": 584,
    "start_time": "2021-07-21T15:02:42.856Z"
   },
   {
    "duration": 836,
    "start_time": "2021-07-21T15:02:43.443Z"
   },
   {
    "duration": 775,
    "start_time": "2021-07-21T15:02:44.281Z"
   },
   {
    "duration": 19,
    "start_time": "2021-07-21T15:02:45.058Z"
   },
   {
    "duration": 415,
    "start_time": "2021-07-21T15:22:45.946Z"
   },
   {
    "duration": 170,
    "start_time": "2021-07-21T15:24:09.711Z"
   },
   {
    "duration": 6,
    "start_time": "2021-07-21T15:53:00.336Z"
   },
   {
    "duration": 1619,
    "start_time": "2021-07-21T15:53:07.799Z"
   },
   {
    "duration": 56,
    "start_time": "2021-07-21T15:53:09.421Z"
   },
   {
    "duration": 6,
    "start_time": "2021-07-21T15:53:09.481Z"
   },
   {
    "duration": 8,
    "start_time": "2021-07-21T15:53:09.490Z"
   },
   {
    "duration": 57,
    "start_time": "2021-07-21T15:53:09.501Z"
   },
   {
    "duration": 55,
    "start_time": "2021-07-21T15:53:09.561Z"
   },
   {
    "duration": 43,
    "start_time": "2021-07-21T15:53:09.618Z"
   },
   {
    "duration": 9,
    "start_time": "2021-07-21T15:53:09.666Z"
   },
   {
    "duration": 7,
    "start_time": "2021-07-21T15:53:09.678Z"
   },
   {
    "duration": 10,
    "start_time": "2021-07-21T15:53:09.687Z"
   },
   {
    "duration": 13,
    "start_time": "2021-07-21T15:53:09.699Z"
   },
   {
    "duration": 27,
    "start_time": "2021-07-21T15:53:09.757Z"
   },
   {
    "duration": 13,
    "start_time": "2021-07-21T15:53:09.786Z"
   },
   {
    "duration": 66,
    "start_time": "2021-07-21T15:53:09.801Z"
   },
   {
    "duration": 23081,
    "start_time": "2021-07-21T15:53:09.869Z"
   },
   {
    "duration": 79342,
    "start_time": "2021-07-21T15:53:32.955Z"
   },
   {
    "duration": 2974,
    "start_time": "2021-07-21T15:54:52.299Z"
   },
   {
    "duration": 89,
    "start_time": "2021-07-21T15:54:55.277Z"
   },
   {
    "duration": 114,
    "start_time": "2021-07-21T15:54:55.369Z"
   },
   {
    "duration": 111,
    "start_time": "2021-07-21T15:54:55.486Z"
   },
   {
    "duration": 59,
    "start_time": "2021-07-21T15:54:55.599Z"
   },
   {
    "duration": 116,
    "start_time": "2021-07-21T15:54:55.661Z"
   },
   {
    "duration": 95,
    "start_time": "2021-07-21T15:54:55.784Z"
   },
   {
    "duration": 150,
    "start_time": "2021-07-21T15:54:55.881Z"
   },
   {
    "duration": 125,
    "start_time": "2021-07-21T15:54:56.034Z"
   },
   {
    "duration": 121,
    "start_time": "2021-07-21T15:54:56.162Z"
   },
   {
    "duration": 13105,
    "start_time": "2021-07-21T15:54:56.286Z"
   },
   {
    "duration": 42808,
    "start_time": "2021-07-21T15:55:09.394Z"
   },
   {
    "duration": 2061,
    "start_time": "2021-07-21T15:55:52.205Z"
   },
   {
    "duration": 858,
    "start_time": "2021-07-21T15:55:54.270Z"
   },
   {
    "duration": 883,
    "start_time": "2021-07-21T15:55:55.130Z"
   },
   {
    "duration": 867,
    "start_time": "2021-07-21T15:55:56.016Z"
   },
   {
    "duration": 638,
    "start_time": "2021-07-21T15:55:56.886Z"
   },
   {
    "duration": 793,
    "start_time": "2021-07-21T15:55:57.526Z"
   },
   {
    "duration": 728,
    "start_time": "2021-07-21T15:55:58.321Z"
   },
   {
    "duration": 18,
    "start_time": "2021-07-21T15:55:59.055Z"
   },
   {
    "duration": 184,
    "start_time": "2021-07-21T15:55:59.076Z"
   },
   {
    "duration": 6,
    "start_time": "2021-07-21T16:30:19.421Z"
   },
   {
    "duration": 1550,
    "start_time": "2021-07-21T18:04:57.348Z"
   },
   {
    "duration": 58,
    "start_time": "2021-07-21T18:04:58.901Z"
   },
   {
    "duration": 6,
    "start_time": "2021-07-21T18:04:58.961Z"
   },
   {
    "duration": 6,
    "start_time": "2021-07-21T18:04:58.970Z"
   },
   {
    "duration": 30,
    "start_time": "2021-07-21T18:04:58.979Z"
   },
   {
    "duration": 70,
    "start_time": "2021-07-21T18:04:59.011Z"
   },
   {
    "duration": 12,
    "start_time": "2021-07-21T18:04:59.083Z"
   },
   {
    "duration": 8,
    "start_time": "2021-07-21T18:04:59.098Z"
   },
   {
    "duration": 5,
    "start_time": "2021-07-21T18:04:59.109Z"
   },
   {
    "duration": 40,
    "start_time": "2021-07-21T18:04:59.117Z"
   },
   {
    "duration": 8,
    "start_time": "2021-07-21T18:04:59.159Z"
   },
   {
    "duration": 31,
    "start_time": "2021-07-21T18:04:59.169Z"
   },
   {
    "duration": 14,
    "start_time": "2021-07-21T18:04:59.202Z"
   },
   {
    "duration": 60,
    "start_time": "2021-07-21T18:04:59.219Z"
   },
   {
    "duration": 23014,
    "start_time": "2021-07-21T18:04:59.281Z"
   },
   {
    "duration": 78479,
    "start_time": "2021-07-21T18:05:22.297Z"
   },
   {
    "duration": 3385,
    "start_time": "2021-07-21T18:06:40.778Z"
   },
   {
    "duration": 92,
    "start_time": "2021-07-21T18:06:44.166Z"
   },
   {
    "duration": 110,
    "start_time": "2021-07-21T18:06:44.261Z"
   },
   {
    "duration": 102,
    "start_time": "2021-07-21T18:06:44.373Z"
   },
   {
    "duration": 79,
    "start_time": "2021-07-21T18:06:44.478Z"
   },
   {
    "duration": 109,
    "start_time": "2021-07-21T18:06:44.563Z"
   },
   {
    "duration": 35,
    "start_time": "2021-07-21T18:06:44.676Z"
   },
   {
    "duration": 157,
    "start_time": "2021-07-21T18:06:44.715Z"
   },
   {
    "duration": 84,
    "start_time": "2021-07-21T18:06:44.875Z"
   },
   {
    "duration": 112,
    "start_time": "2021-07-21T18:06:44.962Z"
   },
   {
    "duration": 8223,
    "start_time": "2021-07-21T18:06:45.076Z"
   },
   {
    "duration": 41972,
    "start_time": "2021-07-21T18:06:53.302Z"
   },
   {
    "duration": 2088,
    "start_time": "2021-07-21T18:07:35.276Z"
   },
   {
    "duration": 655,
    "start_time": "2021-07-21T18:07:37.456Z"
   },
   {
    "duration": 734,
    "start_time": "2021-07-21T18:07:38.113Z"
   },
   {
    "duration": 815,
    "start_time": "2021-07-21T18:07:38.856Z"
   },
   {
    "duration": 544,
    "start_time": "2021-07-21T18:07:39.673Z"
   },
   {
    "duration": 790,
    "start_time": "2021-07-21T18:07:40.219Z"
   },
   {
    "duration": 736,
    "start_time": "2021-07-21T18:07:41.011Z"
   },
   {
    "duration": 21,
    "start_time": "2021-07-21T18:07:41.749Z"
   },
   {
    "duration": 1453,
    "start_time": "2021-07-21T18:21:56.647Z"
   },
   {
    "duration": 57,
    "start_time": "2021-07-21T18:21:58.103Z"
   },
   {
    "duration": 6,
    "start_time": "2021-07-21T18:21:58.163Z"
   },
   {
    "duration": 14,
    "start_time": "2021-07-21T18:21:58.171Z"
   },
   {
    "duration": 29,
    "start_time": "2021-07-21T18:21:58.187Z"
   },
   {
    "duration": 76,
    "start_time": "2021-07-21T18:21:58.218Z"
   },
   {
    "duration": 12,
    "start_time": "2021-07-21T18:21:58.296Z"
   },
   {
    "duration": 8,
    "start_time": "2021-07-21T18:21:58.310Z"
   },
   {
    "duration": 34,
    "start_time": "2021-07-21T18:21:58.322Z"
   },
   {
    "duration": 8,
    "start_time": "2021-07-21T18:21:58.359Z"
   },
   {
    "duration": 14,
    "start_time": "2021-07-21T18:21:58.370Z"
   },
   {
    "duration": 27,
    "start_time": "2021-07-21T18:21:58.387Z"
   },
   {
    "duration": 42,
    "start_time": "2021-07-21T18:21:58.417Z"
   },
   {
    "duration": 27,
    "start_time": "2021-07-21T18:21:58.462Z"
   },
   {
    "duration": 22454,
    "start_time": "2021-07-21T18:21:58.492Z"
   },
   {
    "duration": 77275,
    "start_time": "2021-07-21T18:22:20.948Z"
   },
   {
    "duration": 3539,
    "start_time": "2021-07-21T18:23:38.225Z"
   },
   {
    "duration": 8,
    "start_time": "2021-07-21T18:23:41.857Z"
   },
   {
    "duration": 107,
    "start_time": "2021-07-21T18:23:41.867Z"
   },
   {
    "duration": 105,
    "start_time": "2021-07-21T18:23:41.977Z"
   },
   {
    "duration": 82,
    "start_time": "2021-07-21T18:23:42.084Z"
   },
   {
    "duration": 107,
    "start_time": "2021-07-21T18:23:42.168Z"
   },
   {
    "duration": 98,
    "start_time": "2021-07-21T18:23:42.277Z"
   },
   {
    "duration": 135,
    "start_time": "2021-07-21T18:23:42.377Z"
   },
   {
    "duration": 142,
    "start_time": "2021-07-21T18:23:42.515Z"
   },
   {
    "duration": 112,
    "start_time": "2021-07-21T18:23:42.660Z"
   },
   {
    "duration": 7923,
    "start_time": "2021-07-21T18:23:42.779Z"
   },
   {
    "duration": 40934,
    "start_time": "2021-07-21T18:23:50.704Z"
   },
   {
    "duration": 2321,
    "start_time": "2021-07-21T18:24:31.640Z"
   },
   {
    "duration": 747,
    "start_time": "2021-07-21T18:24:33.965Z"
   },
   {
    "duration": 742,
    "start_time": "2021-07-21T18:24:34.715Z"
   },
   {
    "duration": 815,
    "start_time": "2021-07-21T18:24:35.460Z"
   },
   {
    "duration": 529,
    "start_time": "2021-07-21T18:24:36.278Z"
   },
   {
    "duration": 772,
    "start_time": "2021-07-21T18:24:36.810Z"
   },
   {
    "duration": 725,
    "start_time": "2021-07-21T18:24:37.584Z"
   },
   {
    "duration": 19,
    "start_time": "2021-07-21T18:24:38.311Z"
   }
  ],
  "kernelspec": {
   "display_name": "Python 3 (ipykernel)",
   "language": "python",
   "name": "python3"
  },
  "language_info": {
   "codemirror_mode": {
    "name": "ipython",
    "version": 3
   },
   "file_extension": ".py",
   "mimetype": "text/x-python",
   "name": "python",
   "nbconvert_exporter": "python",
   "pygments_lexer": "ipython3",
   "version": "3.11.5"
  },
  "toc": {
   "base_numbering": 1,
   "nav_menu": {
    "height": "292px",
    "width": "509px"
   },
   "number_sections": true,
   "sideBar": true,
   "skip_h1_title": true,
   "title_cell": "Содержание",
   "title_sidebar": "Contents",
   "toc_cell": true,
   "toc_position": {
    "height": "calc(100% - 180px)",
    "left": "10px",
    "top": "150px",
    "width": "165px"
   },
   "toc_section_display": true,
   "toc_window_display": false
  }
 },
 "nbformat": 4,
 "nbformat_minor": 2
}
