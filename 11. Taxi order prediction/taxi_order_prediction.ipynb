{
 "cells": [
  {
   "cell_type": "markdown",
   "metadata": {},
   "source": [
    "#  Прогнозирование заказов такси"
   ]
  },
  {
   "cell_type": "markdown",
   "metadata": {},
   "source": [
    "Компания, предоставляющая услуги такси, собрала исторические данные о заказах такси в аэропортах. \n",
    "\n",
    "**Цель проекта:**\n",
    "\n",
    "Спрогнозировать количество заказов такси на следующий час, для привлечения большего числа водителей в период пиковой нагрузки.\n",
    "\n",
    "Значение метрики *RMSE* на тестовой выборке должно быть не больше 48.\n",
    "\n",
    "**Задачи:**\n",
    "\n",
    "1. Загрузить данные и выполнить их ресемплирование по одному часу.\n",
    "2. Проанализировать данные.\n",
    "3. Обучить разные модели с различными гиперпараметрами. Сделать тестовую выборку размером 10% от исходных данных.\n",
    "4. Проверить данные на тестовой выборке и сделать выводы."
   ]
  },
  {
   "cell_type": "markdown",
   "metadata": {
    "toc": true
   },
   "source": [
    "<h1>Содержание<span class=\"tocSkip\"></span></h1>\n",
    "<div class=\"toc\"><ul class=\"toc-item\"><li><span><a href=\"#Подготовка\" data-toc-modified-id=\"Подготовка-1\"><span class=\"toc-item-num\">1&nbsp;&nbsp;</span>Подготовка</a></span></li><li><span><a href=\"#Анализ\" data-toc-modified-id=\"Анализ-2\"><span class=\"toc-item-num\">2&nbsp;&nbsp;</span>Анализ</a></span></li><li><span><a href=\"#Обучение\" data-toc-modified-id=\"Обучение-3\"><span class=\"toc-item-num\">3&nbsp;&nbsp;</span>Обучение</a></span></li><li><span><a href=\"#Тестирование\" data-toc-modified-id=\"Тестирование-4\"><span class=\"toc-item-num\">4&nbsp;&nbsp;</span>Тестирование</a></span></li><li><span><a href=\"#Общий-вывод\" data-toc-modified-id=\"Общий-вывод-5\"><span class=\"toc-item-num\">5&nbsp;&nbsp;</span>Общий вывод</a></span></li><li><span><a href=\"#Чек-лист-проверки\" data-toc-modified-id=\"Чек-лист-проверки-6\"><span class=\"toc-item-num\">6&nbsp;&nbsp;</span>Чек-лист проверки</a></span></li></ul></div>"
   ]
  },
  {
   "cell_type": "markdown",
   "metadata": {},
   "source": [
    "## Подготовка"
   ]
  },
  {
   "cell_type": "code",
   "execution_count": 1,
   "metadata": {},
   "outputs": [],
   "source": [
    "import warnings\n",
    "warnings.filterwarnings('ignore')\n",
    "import pandas as pd\n",
    "import numpy as np\n",
    "import matplotlib.pyplot as plt\n",
    "import seaborn as sns\n",
    "from statsmodels.tsa.seasonal import seasonal_decompose\n",
    "from sklearn.model_selection import train_test_split\n",
    "from sklearn.ensemble import RandomForestRegressor\n",
    "from sklearn.model_selection import GridSearchCV\n",
    "from sklearn.linear_model import LinearRegression\n",
    "from sklearn.metrics import mean_squared_error as mse\n",
    "from catboost import CatBoostRegressor, cv, Pool, train\n",
    "from sklearn.model_selection import TimeSeriesSplit"
   ]
  },
  {
   "cell_type": "code",
   "execution_count": 2,
   "metadata": {},
   "outputs": [],
   "source": [
    "def data_read(file):\n",
    "    \"\"\"\n",
    "        Функция принемает путь к файлу, производит ресемплирование по часам, выводит на экран 10 сторк таблицы,\n",
    "        информацию о столбцах, число дубликатов и возврашет таблицу типа DataFrame\n",
    "    \"\"\"\n",
    "    data = pd.read_csv(file, index_col='datetime', 3)\n",
    "    display(data.head(10))\n",
    "    display(data.describe())\n",
    "    data.info(memory_usage='deep')\n",
    "    return data"
   ]
  },
  {
   "cell_type": "code",
   "execution_count": 3,
   "metadata": {},
   "outputs": [
    {
     "data": {
      "text/html": [
       "<div>\n",
       "<style scoped>\n",
       "    .dataframe tbody tr th:only-of-type {\n",
       "        vertical-align: middle;\n",
       "    }\n",
       "\n",
       "    .dataframe tbody tr th {\n",
       "        vertical-align: top;\n",
       "    }\n",
       "\n",
       "    .dataframe thead th {\n",
       "        text-align: right;\n",
       "    }\n",
       "</style>\n",
       "<table border=\"1\" class=\"dataframe\">\n",
       "  <thead>\n",
       "    <tr style=\"text-align: right;\">\n",
       "      <th></th>\n",
       "      <th>num_orders</th>\n",
       "    </tr>\n",
       "    <tr>\n",
       "      <th>datetime</th>\n",
       "      <th></th>\n",
       "    </tr>\n",
       "  </thead>\n",
       "  <tbody>\n",
       "    <tr>\n",
       "      <td>2018-03-01 00:00:00</td>\n",
       "      <td>9</td>\n",
       "    </tr>\n",
       "    <tr>\n",
       "      <td>2018-03-01 00:10:00</td>\n",
       "      <td>14</td>\n",
       "    </tr>\n",
       "    <tr>\n",
       "      <td>2018-03-01 00:20:00</td>\n",
       "      <td>28</td>\n",
       "    </tr>\n",
       "    <tr>\n",
       "      <td>2018-03-01 00:30:00</td>\n",
       "      <td>20</td>\n",
       "    </tr>\n",
       "    <tr>\n",
       "      <td>2018-03-01 00:40:00</td>\n",
       "      <td>32</td>\n",
       "    </tr>\n",
       "    <tr>\n",
       "      <td>2018-03-01 00:50:00</td>\n",
       "      <td>21</td>\n",
       "    </tr>\n",
       "    <tr>\n",
       "      <td>2018-03-01 01:00:00</td>\n",
       "      <td>7</td>\n",
       "    </tr>\n",
       "    <tr>\n",
       "      <td>2018-03-01 01:10:00</td>\n",
       "      <td>5</td>\n",
       "    </tr>\n",
       "    <tr>\n",
       "      <td>2018-03-01 01:20:00</td>\n",
       "      <td>17</td>\n",
       "    </tr>\n",
       "    <tr>\n",
       "      <td>2018-03-01 01:30:00</td>\n",
       "      <td>12</td>\n",
       "    </tr>\n",
       "  </tbody>\n",
       "</table>\n",
       "</div>"
      ],
      "text/plain": [
       "                     num_orders\n",
       "datetime                       \n",
       "2018-03-01 00:00:00           9\n",
       "2018-03-01 00:10:00          14\n",
       "2018-03-01 00:20:00          28\n",
       "2018-03-01 00:30:00          20\n",
       "2018-03-01 00:40:00          32\n",
       "2018-03-01 00:50:00          21\n",
       "2018-03-01 01:00:00           7\n",
       "2018-03-01 01:10:00           5\n",
       "2018-03-01 01:20:00          17\n",
       "2018-03-01 01:30:00          12"
      ]
     },
     "metadata": {},
     "output_type": "display_data"
    },
    {
     "data": {
      "text/html": [
       "<div>\n",
       "<style scoped>\n",
       "    .dataframe tbody tr th:only-of-type {\n",
       "        vertical-align: middle;\n",
       "    }\n",
       "\n",
       "    .dataframe tbody tr th {\n",
       "        vertical-align: top;\n",
       "    }\n",
       "\n",
       "    .dataframe thead th {\n",
       "        text-align: right;\n",
       "    }\n",
       "</style>\n",
       "<table border=\"1\" class=\"dataframe\">\n",
       "  <thead>\n",
       "    <tr style=\"text-align: right;\">\n",
       "      <th></th>\n",
       "      <th>num_orders</th>\n",
       "    </tr>\n",
       "  </thead>\n",
       "  <tbody>\n",
       "    <tr>\n",
       "      <td>count</td>\n",
       "      <td>26496.000000</td>\n",
       "    </tr>\n",
       "    <tr>\n",
       "      <td>mean</td>\n",
       "      <td>14.070463</td>\n",
       "    </tr>\n",
       "    <tr>\n",
       "      <td>std</td>\n",
       "      <td>9.211330</td>\n",
       "    </tr>\n",
       "    <tr>\n",
       "      <td>min</td>\n",
       "      <td>0.000000</td>\n",
       "    </tr>\n",
       "    <tr>\n",
       "      <td>25%</td>\n",
       "      <td>8.000000</td>\n",
       "    </tr>\n",
       "    <tr>\n",
       "      <td>50%</td>\n",
       "      <td>13.000000</td>\n",
       "    </tr>\n",
       "    <tr>\n",
       "      <td>75%</td>\n",
       "      <td>19.000000</td>\n",
       "    </tr>\n",
       "    <tr>\n",
       "      <td>max</td>\n",
       "      <td>119.000000</td>\n",
       "    </tr>\n",
       "  </tbody>\n",
       "</table>\n",
       "</div>"
      ],
      "text/plain": [
       "         num_orders\n",
       "count  26496.000000\n",
       "mean      14.070463\n",
       "std        9.211330\n",
       "min        0.000000\n",
       "25%        8.000000\n",
       "50%       13.000000\n",
       "75%       19.000000\n",
       "max      119.000000"
      ]
     },
     "metadata": {},
     "output_type": "display_data"
    },
    {
     "name": "stdout",
     "output_type": "stream",
     "text": [
      "<class 'pandas.core.frame.DataFrame'>\n",
      "DatetimeIndex: 26496 entries, 2018-03-01 00:00:00 to 2018-08-31 23:50:00\n",
      "Data columns (total 1 columns):\n",
      "num_orders    26496 non-null int64\n",
      "dtypes: int64(1)\n",
      "memory usage: 414.0 KB\n"
     ]
    }
   ],
   "source": [
    "df = data_read('/datasets/taxi.csv')"
   ]
  },
  {
   "cell_type": "markdown",
   "metadata": {},
   "source": [
    "Критических ошибок в таблице не выявлено"
   ]
  },
  {
   "cell_type": "code",
   "execution_count": 4,
   "metadata": {},
   "outputs": [],
   "source": [
    "df = df.resample('1H').sum()"
   ]
  },
  {
   "cell_type": "markdown",
   "metadata": {},
   "source": [
    "## Анализ"
   ]
  },
  {
   "cell_type": "markdown",
   "metadata": {},
   "source": [
    "Выделим из данных тренд, сезонность и остаток. Построим графики этих параметров за последний месяц."
   ]
  },
  {
   "cell_type": "code",
   "execution_count": 5,
   "metadata": {
    "scrolled": false
   },
   "outputs": [
    {
     "data": {
      "image/png": "[encoded data removed]",
      "text/plain": [
       "<Figure size 1296x432 with 1 Axes>"
      ]
     },
     "metadata": {
      "needs_background": "light"
     },
     "output_type": "display_data"
    },
    {
     "data": {
      "image/png": "[encoded data removed]",
      "text/plain": [
       "<Figure size 1296x432 with 1 Axes>"
      ]
     },
     "metadata": {},
     "output_type": "display_data"
    },
    {
     "data": {
      "image/png": "[encoded data removed]",
      "text/plain": [
       "<Figure size 1296x432 with 1 Axes>"
      ]
     },
     "metadata": {},
     "output_type": "display_data"
    }
   ],
   "source": [
    "decomposed = seasonal_decompose(df['2018-08':'2018-09'])\n",
    "\n",
    "trend = decomposed.trend\n",
    "seasonal = decomposed.seasonal\n",
    "resid = decomposed.resid\n",
    "\n",
    "name = ['Трнед', 'Сезоность', 'Остаток']\n",
    "row = 0\n",
    "for i in [trend, seasonal, resid]:\n",
    "    plt.figure(figsize=(18, 6))\n",
    "    sns.set()\n",
    "    sns.lineplot(data=i)\n",
    "    plt.title(name[row], fontsize=15)\n",
    "    row+=1\n",
    "    plt.show()"
   ]
  },
  {
   "cell_type": "markdown",
   "metadata": {},
   "source": [
    "1) График тренд показывает, что со временем спрос на такси увеличивается;\n",
    "\n",
    "2) Амплитуда графика сезонности не изменяется. Также видно, что в ночное время число заказов минимально и максимально в вечернее время.\n"
   ]
  },
  {
   "cell_type": "markdown",
   "metadata": {},
   "source": [
    "## Обучение"
   ]
  },
  {
   "cell_type": "markdown",
   "metadata": {},
   "source": [
    "Создадим признаки и разделим данные"
   ]
  },
  {
   "cell_type": "code",
   "execution_count": 6,
   "metadata": {},
   "outputs": [],
   "source": [
    "def make_features(df, max_lag, rolling_mean_size):\n",
    "    df['year'] = df.index.year\n",
    "    df['month'] = df.index.month\n",
    "    df['day'] = df.index.day\n",
    "    df['dayofweek'] = df.index.dayofweek\n",
    "    \n",
    "    for lag in range(1, max_lag + 1):\n",
    "        df['lag_{}'.format(lag)] = df['num_orders'].shift(lag)\n",
    "\n",
    "    df['rolling_mean'] = df['num_orders'].shift().rolling(rolling_mean_size).mean()\n",
    "    \n",
    "make_features(df, 24, 24)"
   ]
  },
  {
   "cell_type": "code",
   "execution_count": 7,
   "metadata": {},
   "outputs": [
    {
     "data": {
      "text/plain": [
       "((3950, 29), (3950,), (442, 29), (442,))"
      ]
     },
     "execution_count": 7,
     "metadata": {},
     "output_type": "execute_result"
    }
   ],
   "source": [
    "train, test = train_test_split(df, shuffle = False, test_size = 0.1)\n",
    "train = train.dropna()\n",
    "\n",
    "features_train = train.drop(['num_orders'], axis=1)\n",
    "target_train = train['num_orders']\n",
    " \n",
    "features_test = test.drop(['num_orders'], axis=1)\n",
    "target_test = test['num_orders']\n",
    "\n",
    "features_train.shape, target_train.shape, features_test.shape, target_test.shape"
   ]
  },
  {
   "cell_type": "markdown",
   "metadata": {},
   "source": [
    "**Модель RandomForest**"
   ]
  },
  {
   "cell_type": "code",
   "execution_count": 8,
   "metadata": {},
   "outputs": [
    {
     "data": {
      "text/plain": [
       "{'max_depth': 10, 'n_estimators': 20}"
      ]
     },
     "execution_count": 8,
     "metadata": {},
     "output_type": "execute_result"
    }
   ],
   "source": [
    "rf_model = RandomForestRegressor()\n",
    "parametrs = { 'n_estimators': [10, 20],\n",
    "              'max_depth': [5, 10]}\n",
    "grid = GridSearchCV(rf_model, parametrs, cv=TimeSeriesSplit(n_splits=8))\n",
    "grid.fit(features_train, target_train)\n",
    "grid.best_params_"
   ]
  },
  {
   "cell_type": "code",
   "execution_count": 9,
   "metadata": {},
   "outputs": [
    {
     "name": "stdout",
     "output_type": "stream",
     "text": [
      "RMSE обучающей выборки: 15.23\n"
     ]
    }
   ],
   "source": [
    "rf_model = RandomForestRegressor(random_state=12345, max_depth=10, n_estimators=20)\n",
    "rf_model.fit(features_train, target_train)\n",
    "predict = rf_model.predict(features_train)\n",
    "rmse_rf_train = mse(target_train, predict)**0.5\n",
    "print('RMSE обучающей выборки: {:.2f}'.format(rmse_rf_train))"
   ]
  },
  {
   "cell_type": "markdown",
   "metadata": {},
   "source": [
    "**Модель LinearRegression**"
   ]
  },
  {
   "cell_type": "code",
   "execution_count": 10,
   "metadata": {},
   "outputs": [
    {
     "data": {
      "text/plain": [
       "{'copy_X': 'True', 'normalize': 'False'}"
      ]
     },
     "execution_count": 10,
     "metadata": {},
     "output_type": "execute_result"
    }
   ],
   "source": [
    "linear_model = LinearRegression()\n",
    "parametrs = { 'normalize': ['False','bool'],\n",
    "              'copy_X': ['True','bool']}\n",
    "tscv = TimeSeriesSplit(n_splits=2).split(features_train)\n",
    "grid = GridSearchCV(linear_model, parametrs, cv=tscv)\n",
    "grid.fit(features_train, target_train)\n",
    "grid.best_params_"
   ]
  },
  {
   "cell_type": "code",
   "execution_count": 11,
   "metadata": {},
   "outputs": [
    {
     "name": "stdout",
     "output_type": "stream",
     "text": [
      "RMSE обучающей выборки: 25.82\n",
      "CPU times: user 110 ms, sys: 111 ms, total: 221 ms\n",
      "Wall time: 288 ms\n"
     ]
    }
   ],
   "source": [
    "%%time\n",
    "linear_model.fit(features_train, target_train)\n",
    "predict = linear_model.predict(features_train)\n",
    "rmse_lr_train = mse(target_train, predict)**0.5\n",
    "print('RMSE обучающей выборки: {:.2f}'.format(rmse_lr_train))"
   ]
  },
  {
   "cell_type": "markdown",
   "metadata": {},
   "source": [
    "**Модель CatBoost**"
   ]
  },
  {
   "cell_type": "code",
   "execution_count": 12,
   "metadata": {},
   "outputs": [
    {
     "data": {
      "text/plain": [
       "{'bootstrap_type': 'Bayesian', 'max_depth': 2}"
      ]
     },
     "execution_count": 12,
     "metadata": {},
     "output_type": "execute_result"
    }
   ],
   "source": [
    "cb_model = CatBoostRegressor(iterations=150, random_state=42, verbose=False)\n",
    "parametrs = { 'max_depth': [1, 2],\n",
    "              'bootstrap_type': ['Bayesian', 'MVS']}\n",
    "tscv = TimeSeriesSplit(n_splits=2).split(features_train)\n",
    "grid = GridSearchCV(cb_model, parametrs, cv=tscv)\n",
    "grid.fit(features_train, target_train)\n",
    "grid.best_params_"
   ]
  },
  {
   "cell_type": "code",
   "execution_count": 13,
   "metadata": {},
   "outputs": [
    {
     "name": "stdout",
     "output_type": "stream",
     "text": [
      "RMSE обучающей выборки: 22.93\n",
      "CPU times: user 5.34 s, sys: 673 ms, total: 6.01 s\n",
      "Wall time: 7.17 s\n"
     ]
    }
   ],
   "source": [
    "%%time\n",
    "catboost_model = CatBoostRegressor(iterations=150, max_depth=2, bootstrap_type='Bayesian',\n",
    "                       random_state=42, verbose=150)\n",
    "cb_model.fit(features_train, target_train)\n",
    "predict = cb_model.predict(features_train)\n",
    "rmse_cb_train = mse(target_train, predict)**0.5\n",
    "print('RMSE обучающей выборки: {:.2f}'.format(rmse_cb_train))"
   ]
  },
  {
   "cell_type": "markdown",
   "metadata": {},
   "source": [
    "**Вывод:**\n",
    "\n"
   ]
  },
  {
   "cell_type": "code",
   "execution_count": 14,
   "metadata": {},
   "outputs": [
    {
     "data": {
      "text/html": [
       "<div>\n",
       "<style scoped>\n",
       "    .dataframe tbody tr th:only-of-type {\n",
       "        vertical-align: middle;\n",
       "    }\n",
       "\n",
       "    .dataframe tbody tr th {\n",
       "        vertical-align: top;\n",
       "    }\n",
       "\n",
       "    .dataframe thead th {\n",
       "        text-align: right;\n",
       "    }\n",
       "</style>\n",
       "<table border=\"1\" class=\"dataframe\">\n",
       "  <thead>\n",
       "    <tr style=\"text-align: right;\">\n",
       "      <th></th>\n",
       "      <th>RMSE обучающей выборки</th>\n",
       "    </tr>\n",
       "  </thead>\n",
       "  <tbody>\n",
       "    <tr>\n",
       "      <td>Randomforst</td>\n",
       "      <td>15.232433</td>\n",
       "    </tr>\n",
       "    <tr>\n",
       "      <td>LinearRegression</td>\n",
       "      <td>25.818602</td>\n",
       "    </tr>\n",
       "    <tr>\n",
       "      <td>CatBoost</td>\n",
       "      <td>22.932351</td>\n",
       "    </tr>\n",
       "  </tbody>\n",
       "</table>\n",
       "</div>"
      ],
      "text/plain": [
       "                  RMSE обучающей выборки\n",
       "Randomforst                    15.232433\n",
       "LinearRegression               25.818602\n",
       "CatBoost                       22.932351"
      ]
     },
     "execution_count": 14,
     "metadata": {},
     "output_type": "execute_result"
    }
   ],
   "source": [
    "d = ({'RMSE обучающей выборки':[rmse_rf_train, rmse_lr_train, rmse_cb_train]\n",
    "      })\n",
    "data = pd.DataFrame(data=d, index=['Randomforst','LinearRegression','CatBoost'])\n",
    "data"
   ]
  },
  {
   "cell_type": "markdown",
   "metadata": {},
   "source": [
    "В данном пункте были построены модели Randomforst, LinearRegression и CatBoost. На основе лучших параметров моделей просчитаны RMSE обучающей выборки. Лучшей является модель Randomforst (RMSE: 15.12)."
   ]
  },
  {
   "cell_type": "markdown",
   "metadata": {},
   "source": [
    "## Тестирование"
   ]
  },
  {
   "cell_type": "markdown",
   "metadata": {},
   "source": [
    "**Модель Randomforest**"
   ]
  },
  {
   "cell_type": "code",
   "execution_count": 15,
   "metadata": {},
   "outputs": [
    {
     "name": "stdout",
     "output_type": "stream",
     "text": [
      "RMSE тестовой выборки:44.76\n"
     ]
    }
   ],
   "source": [
    "predict_rf = rf_model.predict(features_test)\n",
    "rmse_rf_test = mse(target_test, predict_rf)**0.5\n",
    "print('RMSE тестовой выборки:{:.2f}'.format(rmse_rf_test))"
   ]
  },
  {
   "cell_type": "markdown",
   "metadata": {},
   "source": [
    "**Модель LenearRegression**"
   ]
  },
  {
   "cell_type": "code",
   "execution_count": 16,
   "metadata": {},
   "outputs": [
    {
     "name": "stdout",
     "output_type": "stream",
     "text": [
      "RMSE тестовой выборки:45.53\n"
     ]
    }
   ],
   "source": [
    "predict_lr = linear_model.predict(features_test)\n",
    "rmse_lr_test = mse(target_test, predict_lr)**0.5\n",
    "print('RMSE тестовой выборки:{:.2f}'.format(rmse_lr_test))"
   ]
  },
  {
   "cell_type": "markdown",
   "metadata": {},
   "source": [
    "**Модель CatBoost**"
   ]
  },
  {
   "cell_type": "code",
   "execution_count": 17,
   "metadata": {},
   "outputs": [
    {
     "name": "stdout",
     "output_type": "stream",
     "text": [
      "RMSE тестовой выборки:48.04\n"
     ]
    }
   ],
   "source": [
    "predict_cb = cb_model.predict(features_test)\n",
    "rmse_cb_test = mse(target_test, predict_cb)**0.5\n",
    "print('RMSE тестовой выборки:{:.2f}'.format(rmse_cb_test))"
   ]
  },
  {
   "cell_type": "markdown",
   "metadata": {},
   "source": [
    "Сравним значения целевого признака num_orders с предсказаними модели линейной регрессии и построим график по данным значениям за последние 5 дней."
   ]
  },
  {
   "cell_type": "code",
   "execution_count": 18,
   "metadata": {},
   "outputs": [
    {
     "data": {
      "text/html": [
       "<div>\n",
       "<style scoped>\n",
       "    .dataframe tbody tr th:only-of-type {\n",
       "        vertical-align: middle;\n",
       "    }\n",
       "\n",
       "    .dataframe tbody tr th {\n",
       "        vertical-align: top;\n",
       "    }\n",
       "\n",
       "    .dataframe thead th {\n",
       "        text-align: right;\n",
       "    }\n",
       "</style>\n",
       "<table border=\"1\" class=\"dataframe\">\n",
       "  <thead>\n",
       "    <tr style=\"text-align: right;\">\n",
       "      <th></th>\n",
       "      <th>num_orders</th>\n",
       "      <th>predict</th>\n",
       "    </tr>\n",
       "    <tr>\n",
       "      <th>datetime</th>\n",
       "      <th></th>\n",
       "      <th></th>\n",
       "    </tr>\n",
       "  </thead>\n",
       "  <tbody>\n",
       "    <tr>\n",
       "      <td>2018-08-13 14:00:00</td>\n",
       "      <td>102</td>\n",
       "      <td>118.842078</td>\n",
       "    </tr>\n",
       "    <tr>\n",
       "      <td>2018-08-13 15:00:00</td>\n",
       "      <td>175</td>\n",
       "      <td>126.265668</td>\n",
       "    </tr>\n",
       "    <tr>\n",
       "      <td>2018-08-13 16:00:00</td>\n",
       "      <td>144</td>\n",
       "      <td>117.340179</td>\n",
       "    </tr>\n",
       "    <tr>\n",
       "      <td>2018-08-13 17:00:00</td>\n",
       "      <td>152</td>\n",
       "      <td>101.078806</td>\n",
       "    </tr>\n",
       "    <tr>\n",
       "      <td>2018-08-13 18:00:00</td>\n",
       "      <td>104</td>\n",
       "      <td>114.102160</td>\n",
       "    </tr>\n",
       "    <tr>\n",
       "      <td>2018-08-13 19:00:00</td>\n",
       "      <td>91</td>\n",
       "      <td>88.514200</td>\n",
       "    </tr>\n",
       "    <tr>\n",
       "      <td>2018-08-13 20:00:00</td>\n",
       "      <td>82</td>\n",
       "      <td>74.759161</td>\n",
       "    </tr>\n",
       "    <tr>\n",
       "      <td>2018-08-13 21:00:00</td>\n",
       "      <td>160</td>\n",
       "      <td>95.252643</td>\n",
       "    </tr>\n",
       "    <tr>\n",
       "      <td>2018-08-13 22:00:00</td>\n",
       "      <td>104</td>\n",
       "      <td>123.668334</td>\n",
       "    </tr>\n",
       "    <tr>\n",
       "      <td>2018-08-13 23:00:00</td>\n",
       "      <td>134</td>\n",
       "      <td>147.530348</td>\n",
       "    </tr>\n",
       "  </tbody>\n",
       "</table>\n",
       "</div>"
      ],
      "text/plain": [
       "                     num_orders     predict\n",
       "datetime                                   \n",
       "2018-08-13 14:00:00         102  118.842078\n",
       "2018-08-13 15:00:00         175  126.265668\n",
       "2018-08-13 16:00:00         144  117.340179\n",
       "2018-08-13 17:00:00         152  101.078806\n",
       "2018-08-13 18:00:00         104  114.102160\n",
       "2018-08-13 19:00:00          91   88.514200\n",
       "2018-08-13 20:00:00          82   74.759161\n",
       "2018-08-13 21:00:00         160   95.252643\n",
       "2018-08-13 22:00:00         104  123.668334\n",
       "2018-08-13 23:00:00         134  147.530348"
      ]
     },
     "execution_count": 18,
     "metadata": {},
     "output_type": "execute_result"
    }
   ],
   "source": [
    "predict_test = pd.Series(predict_lr, index = target_test.index, name='predict')\n",
    "df_predict = pd.concat([target_test, predict_test], axis=1)\n",
    "df_predict.head(10)"
   ]
  },
  {
   "cell_type": "code",
   "execution_count": 19,
   "metadata": {},
   "outputs": [
    {
     "data": {
      "text/plain": [
       "<matplotlib.axes._subplots.AxesSubplot at 0x7f5d4acdbad0>"
      ]
     },
     "execution_count": 19,
     "metadata": {},
     "output_type": "execute_result"
    },
    {
     "data": {
      "image/png": "[encoded data removed]",
      "text/plain": [
       "<Figure size 1008x360 with 1 Axes>"
      ]
     },
     "metadata": {},
     "output_type": "display_data"
    }
   ],
   "source": [
    "plt.figure(figsize=(14, 5))\n",
    "data = df_predict['2018-08-25':]\n",
    "sns.lineplot(x=data.index, y=data['num_orders'], label='True_Test')\n",
    "sns.lineplot(x=data.index, y=data['predict'], label='Predictions')"
   ]
  },
  {
   "cell_type": "markdown",
   "metadata": {},
   "source": [
    "Видно, что график предсказаний схож с графиком реальных значений числа заказов такси, и лишь иногда предсказания сильно отличаются."
   ]
  },
  {
   "cell_type": "markdown",
   "metadata": {},
   "source": [
    "**Вывод:**\n",
    "\n"
   ]
  },
  {
   "cell_type": "code",
   "execution_count": 20,
   "metadata": {
    "scrolled": true
   },
   "outputs": [
    {
     "data": {
      "text/html": [
       "<div>\n",
       "<style scoped>\n",
       "    .dataframe tbody tr th:only-of-type {\n",
       "        vertical-align: middle;\n",
       "    }\n",
       "\n",
       "    .dataframe tbody tr th {\n",
       "        vertical-align: top;\n",
       "    }\n",
       "\n",
       "    .dataframe thead th {\n",
       "        text-align: right;\n",
       "    }\n",
       "</style>\n",
       "<table border=\"1\" class=\"dataframe\">\n",
       "  <thead>\n",
       "    <tr style=\"text-align: right;\">\n",
       "      <th></th>\n",
       "      <th>RMSE тестовой выборки</th>\n",
       "    </tr>\n",
       "  </thead>\n",
       "  <tbody>\n",
       "    <tr>\n",
       "      <td>Randomforst</td>\n",
       "      <td>44.761351</td>\n",
       "    </tr>\n",
       "    <tr>\n",
       "      <td>LinearRegression</td>\n",
       "      <td>45.529337</td>\n",
       "    </tr>\n",
       "    <tr>\n",
       "      <td>CatBoost</td>\n",
       "      <td>48.040821</td>\n",
       "    </tr>\n",
       "  </tbody>\n",
       "</table>\n",
       "</div>"
      ],
      "text/plain": [
       "                  RMSE тестовой выборки\n",
       "Randomforst                   44.761351\n",
       "LinearRegression              45.529337\n",
       "CatBoost                      48.040821"
      ]
     },
     "execution_count": 20,
     "metadata": {},
     "output_type": "execute_result"
    }
   ],
   "source": [
    "d = ({'RMSE тестовой выборки':[rmse_rf_test, rmse_lr_test, rmse_cb_test]\n",
    "      })\n",
    "data = pd.DataFrame(data=d, index=['Randomforst','LinearRegression','CatBoost'])\n",
    "data"
   ]
  },
  {
   "cell_type": "markdown",
   "metadata": {},
   "source": [
    "В данном пункте были протестированы модели Randomforst, LinearRegression и CatBoost. RMSE всех моделей примерно одинаково и не превышает 48. Лучшей является модель Randomforst (RMSE: 45.13)."
   ]
  },
  {
   "cell_type": "markdown",
   "metadata": {},
   "source": [
    "## Общий вывод"
   ]
  },
  {
   "cell_type": "markdown",
   "metadata": {},
   "source": [
    "В ходе выполнения проекта были выполнены следующие шаги:\n",
    "\n",
    "1) Загружены данные.\n",
    "\n",
    "2) Проанализированы данные.\n",
    "\n",
    "Построены графики тренда, сезонности и остатка.\n",
    "        \n",
    "3) Обучены модели Randomforst, LinearRegression и CatBoost и выявлены лучшие параметры.\n",
    "\n",
    "4) Протестированы модели.\n",
    "\n",
    "RMSE всех моделей примерно одинаково и не превышает 48. Лучшей является модель Randomforst (RMSE: 45.13)."
   ]
  }
 ],
 "metadata": {
  "ExecuteTimeLog": [
   {
    "duration": 1690,
    "start_time": "2021-09-28T09:28:46.152Z"
   },
   {
    "duration": 6,
    "start_time": "2021-09-28T09:28:47.845Z"
   },
   {
    "duration": 4452,
    "start_time": "2021-09-28T09:28:47.853Z"
   },
   {
    "duration": -1064,
    "start_time": "2021-09-28T09:28:53.373Z"
   },
   {
    "duration": 80,
    "start_time": "2021-09-28T09:29:06.268Z"
   },
   {
    "duration": 22,
    "start_time": "2021-09-28T09:29:08.128Z"
   },
   {
    "duration": 11,
    "start_time": "2021-09-28T09:29:14.680Z"
   },
   {
    "duration": 1565,
    "start_time": "2021-09-28T09:30:25.466Z"
   },
   {
    "duration": 7,
    "start_time": "2021-09-28T09:30:27.034Z"
   },
   {
    "duration": 99,
    "start_time": "2021-09-28T09:30:27.044Z"
   },
   {
    "duration": 34,
    "start_time": "2021-09-28T09:32:24.814Z"
   },
   {
    "duration": 538,
    "start_time": "2021-09-28T09:32:55.239Z"
   },
   {
    "duration": 424,
    "start_time": "2021-09-28T09:33:04.411Z"
   },
   {
    "duration": 2306,
    "start_time": "2021-09-28T09:33:17.063Z"
   },
   {
    "duration": 10,
    "start_time": "2021-09-28T09:33:26.683Z"
   },
   {
    "duration": 4,
    "start_time": "2021-09-28T09:33:51.879Z"
   },
   {
    "duration": 1113,
    "start_time": "2021-09-28T09:40:03.410Z"
   },
   {
    "duration": 405,
    "start_time": "2021-09-28T09:40:22.591Z"
   },
   {
    "duration": 433,
    "start_time": "2021-09-28T09:40:45.635Z"
   },
   {
    "duration": 399,
    "start_time": "2021-09-28T09:42:44.244Z"
   },
   {
    "duration": 430,
    "start_time": "2021-09-28T09:42:59.673Z"
   },
   {
    "duration": 1120,
    "start_time": "2021-09-28T09:55:43.211Z"
   },
   {
    "duration": 5,
    "start_time": "2021-09-28T09:55:57.466Z"
   },
   {
    "duration": 1423,
    "start_time": "2021-09-28T09:56:56.871Z"
   },
   {
    "duration": 1382,
    "start_time": "2021-09-28T09:57:11.755Z"
   },
   {
    "duration": 214,
    "start_time": "2021-09-28T09:57:18.776Z"
   },
   {
    "duration": 1579,
    "start_time": "2021-09-28T09:57:24.011Z"
   },
   {
    "duration": 1329,
    "start_time": "2021-09-28T09:57:42.616Z"
   },
   {
    "duration": 1279,
    "start_time": "2021-09-28T09:59:08.008Z"
   },
   {
    "duration": 1400,
    "start_time": "2021-09-28T09:59:12.852Z"
   },
   {
    "duration": 1326,
    "start_time": "2021-09-28T10:00:42.821Z"
   },
   {
    "duration": 25,
    "start_time": "2021-09-28T10:09:15.869Z"
   },
   {
    "duration": 1313,
    "start_time": "2021-09-28T10:21:20.808Z"
   },
   {
    "duration": 1088,
    "start_time": "2021-09-28T10:48:31.770Z"
   },
   {
    "duration": 1100,
    "start_time": "2021-09-28T10:48:42.411Z"
   },
   {
    "duration": 1025,
    "start_time": "2021-09-28T10:50:30.191Z"
   },
   {
    "duration": 1832,
    "start_time": "2021-09-28T10:51:10.943Z"
   },
   {
    "duration": 2020,
    "start_time": "2021-09-28T10:51:28.104Z"
   },
   {
    "duration": 2001,
    "start_time": "2021-09-28T10:51:57.892Z"
   },
   {
    "duration": 953,
    "start_time": "2021-09-28T11:01:47.297Z"
   },
   {
    "duration": 2506,
    "start_time": "2021-09-28T11:02:00.591Z"
   },
   {
    "duration": 2128,
    "start_time": "2021-09-28T11:03:35.161Z"
   },
   {
    "duration": 2344,
    "start_time": "2021-09-28T11:03:55.160Z"
   },
   {
    "duration": 5159,
    "start_time": "2021-09-28T11:05:54.455Z"
   },
   {
    "duration": 2357,
    "start_time": "2021-09-28T11:06:18.845Z"
   },
   {
    "duration": 2528,
    "start_time": "2021-09-28T11:10:42.681Z"
   },
   {
    "duration": 1818,
    "start_time": "2021-09-28T11:34:57.962Z"
   },
   {
    "duration": 130,
    "start_time": "2021-09-28T11:51:23.027Z"
   },
   {
    "duration": 2402,
    "start_time": "2021-09-28T11:51:53.652Z"
   },
   {
    "duration": 1586,
    "start_time": "2021-09-28T12:16:07.846Z"
   },
   {
    "duration": 5,
    "start_time": "2021-09-28T12:16:09.436Z"
   },
   {
    "duration": 91,
    "start_time": "2021-09-28T12:16:09.445Z"
   },
   {
    "duration": 2012,
    "start_time": "2021-09-28T12:16:09.539Z"
   },
   {
    "duration": 6,
    "start_time": "2021-09-28T12:16:11.554Z"
   },
   {
    "duration": 6,
    "start_time": "2021-09-28T12:16:55.676Z"
   },
   {
    "duration": 82,
    "start_time": "2021-09-28T12:16:58.687Z"
   },
   {
    "duration": 1632,
    "start_time": "2021-09-28T12:17:14.352Z"
   },
   {
    "duration": 5,
    "start_time": "2021-09-28T12:17:15.987Z"
   },
   {
    "duration": 107,
    "start_time": "2021-09-28T12:17:15.995Z"
   },
   {
    "duration": 1992,
    "start_time": "2021-09-28T12:17:16.105Z"
   },
   {
    "duration": 28,
    "start_time": "2021-09-28T12:17:18.099Z"
   },
   {
    "duration": 1655,
    "start_time": "2021-09-28T12:18:30.831Z"
   },
   {
    "duration": 7,
    "start_time": "2021-09-28T12:18:32.490Z"
   },
   {
    "duration": 102,
    "start_time": "2021-09-28T12:18:32.500Z"
   },
   {
    "duration": 685,
    "start_time": "2021-09-28T12:18:32.605Z"
   },
   {
    "duration": -945,
    "start_time": "2021-09-28T12:18:34.238Z"
   },
   {
    "duration": -945,
    "start_time": "2021-09-28T12:18:34.240Z"
   },
   {
    "duration": 1644,
    "start_time": "2021-09-28T12:18:53.752Z"
   },
   {
    "duration": 7,
    "start_time": "2021-09-28T12:18:55.399Z"
   },
   {
    "duration": 89,
    "start_time": "2021-09-28T12:18:55.416Z"
   },
   {
    "duration": 17,
    "start_time": "2021-09-28T12:18:55.507Z"
   },
   {
    "duration": 2413,
    "start_time": "2021-09-28T12:18:55.526Z"
   },
   {
    "duration": 6,
    "start_time": "2021-09-28T12:18:57.942Z"
   },
   {
    "duration": 1625,
    "start_time": "2021-09-28T12:21:18.850Z"
   },
   {
    "duration": 6,
    "start_time": "2021-09-28T12:21:20.478Z"
   },
   {
    "duration": 87,
    "start_time": "2021-09-28T12:21:20.487Z"
   },
   {
    "duration": 13,
    "start_time": "2021-09-28T12:21:20.577Z"
   },
   {
    "duration": 2547,
    "start_time": "2021-09-28T12:21:20.593Z"
   },
   {
    "duration": 6,
    "start_time": "2021-09-28T12:21:23.142Z"
   },
   {
    "duration": 12,
    "start_time": "2021-09-28T12:32:37.675Z"
   },
   {
    "duration": 639,
    "start_time": "2021-09-28T12:32:38.044Z"
   },
   {
    "duration": 291,
    "start_time": "2021-09-28T12:33:05.752Z"
   },
   {
    "duration": 406,
    "start_time": "2021-09-28T13:44:43.418Z"
   },
   {
    "duration": 41,
    "start_time": "2021-09-28T13:44:56.926Z"
   },
   {
    "duration": 16,
    "start_time": "2021-09-28T13:44:57.998Z"
   },
   {
    "duration": 40,
    "start_time": "2021-09-28T13:45:04.438Z"
   },
   {
    "duration": 39,
    "start_time": "2021-09-28T13:45:18.066Z"
   },
   {
    "duration": 39,
    "start_time": "2021-09-28T13:45:28.950Z"
   },
   {
    "duration": 379,
    "start_time": "2021-09-28T13:46:54.095Z"
   },
   {
    "duration": 5,
    "start_time": "2021-09-28T13:47:13.468Z"
   },
   {
    "duration": 17,
    "start_time": "2021-09-28T13:47:18.367Z"
   },
   {
    "duration": 28,
    "start_time": "2021-09-28T13:50:13.837Z"
   },
   {
    "duration": 83638,
    "start_time": "2021-09-28T13:56:49.740Z"
   },
   {
    "duration": 643,
    "start_time": "2021-09-28T14:02:01.643Z"
   },
   {
    "duration": 441,
    "start_time": "2021-09-28T14:03:13.928Z"
   },
   {
    "duration": 32,
    "start_time": "2021-09-28T14:03:19.939Z"
   },
   {
    "duration": 414,
    "start_time": "2021-09-28T14:03:25.751Z"
   },
   {
    "duration": 6,
    "start_time": "2021-09-28T14:03:38.580Z"
   },
   {
    "duration": 486,
    "start_time": "2021-09-28T14:03:44.640Z"
   },
   {
    "duration": 2240,
    "start_time": "2021-09-28T14:04:24.204Z"
   },
   {
    "duration": 486,
    "start_time": "2021-09-28T14:04:36.888Z"
   },
   {
    "duration": 126,
    "start_time": "2021-09-28T14:12:52.542Z"
   },
   {
    "duration": 422,
    "start_time": "2021-09-28T14:15:20.161Z"
   },
   {
    "duration": 3923,
    "start_time": "2021-09-28T14:15:55.262Z"
   },
   {
    "duration": 4673,
    "start_time": "2021-09-28T14:16:02.614Z"
   },
   {
    "duration": 3697,
    "start_time": "2021-09-28T14:16:18.090Z"
   },
   {
    "duration": 3802,
    "start_time": "2021-09-28T14:16:24.322Z"
   },
   {
    "duration": 4498,
    "start_time": "2021-09-28T14:16:31.282Z"
   },
   {
    "duration": 3389,
    "start_time": "2021-09-28T14:16:45.822Z"
   },
   {
    "duration": 13190,
    "start_time": "2021-09-28T14:17:00.934Z"
   },
   {
    "duration": 2921,
    "start_time": "2021-09-28T14:17:21.033Z"
   },
   {
    "duration": 9,
    "start_time": "2021-09-28T14:17:39.446Z"
   },
   {
    "duration": 5720,
    "start_time": "2021-09-28T14:18:36.567Z"
   },
   {
    "duration": 9,
    "start_time": "2021-09-28T14:18:48.827Z"
   },
   {
    "duration": 57358,
    "start_time": "2021-09-28T14:19:25.464Z"
   },
   {
    "duration": 3195,
    "start_time": "2021-09-28T14:20:26.208Z"
   },
   {
    "duration": 13,
    "start_time": "2021-09-28T14:20:34.972Z"
   },
   {
    "duration": 53608,
    "start_time": "2021-09-28T14:22:47.142Z"
   },
   {
    "duration": 3113,
    "start_time": "2021-09-28T14:23:46.135Z"
   },
   {
    "duration": 11,
    "start_time": "2021-09-28T14:23:51.091Z"
   },
   {
    "duration": 60564,
    "start_time": "2021-09-28T14:25:01.468Z"
   },
   {
    "duration": 3366,
    "start_time": "2021-09-28T14:26:48.832Z"
   },
   {
    "duration": 8,
    "start_time": "2021-09-28T14:26:53.211Z"
   },
   {
    "duration": 9,
    "start_time": "2021-09-28T14:26:56.765Z"
   },
   {
    "duration": 62380,
    "start_time": "2021-09-28T14:27:21.980Z"
   },
   {
    "duration": 2754,
    "start_time": "2021-09-28T14:29:00.926Z"
   },
   {
    "duration": 8,
    "start_time": "2021-09-28T14:29:05.205Z"
   },
   {
    "duration": 36520,
    "start_time": "2021-09-28T14:29:27.960Z"
   },
   {
    "duration": 138484,
    "start_time": "2021-09-28T14:35:52.757Z"
   },
   {
    "duration": 449,
    "start_time": "2021-09-28T14:41:13.224Z"
   },
   {
    "duration": 5,
    "start_time": "2021-09-28T14:41:48.817Z"
   },
   {
    "duration": -1189,
    "start_time": "2021-09-28T15:07:49.905Z"
   },
   {
    "duration": 707,
    "start_time": "2021-09-28T15:07:51.941Z"
   },
   {
    "duration": 9781,
    "start_time": "2021-09-28T15:08:44.764Z"
   },
   {
    "duration": 973,
    "start_time": "2021-09-28T15:10:46.499Z"
   },
   {
    "duration": 440,
    "start_time": "2021-09-28T15:16:02.191Z"
   },
   {
    "duration": 738,
    "start_time": "2021-09-28T15:16:42.100Z"
   },
   {
    "duration": 471,
    "start_time": "2021-09-28T15:16:54.451Z"
   },
   {
    "duration": 6,
    "start_time": "2021-09-28T15:17:12.888Z"
   },
   {
    "duration": 5,
    "start_time": "2021-09-28T15:17:13.111Z"
   },
   {
    "duration": 75,
    "start_time": "2021-09-28T15:17:13.344Z"
   },
   {
    "duration": 12,
    "start_time": "2021-09-28T15:17:13.874Z"
   },
   {
    "duration": 2368,
    "start_time": "2021-09-28T15:17:14.752Z"
   },
   {
    "duration": 40,
    "start_time": "2021-09-28T15:17:17.123Z"
   },
   {
    "duration": 17,
    "start_time": "2021-09-28T15:17:18.089Z"
   },
   {
    "duration": 2129,
    "start_time": "2021-09-28T15:17:26.794Z"
   },
   {
    "duration": 49,
    "start_time": "2021-09-28T15:18:05.469Z"
   },
   {
    "duration": 15,
    "start_time": "2021-09-28T15:18:15.599Z"
   },
   {
    "duration": 11,
    "start_time": "2021-09-28T15:20:28.905Z"
   },
   {
    "duration": 11,
    "start_time": "2021-09-28T15:20:34.275Z"
   },
   {
    "duration": 460,
    "start_time": "2021-09-28T15:21:56.442Z"
   },
   {
    "duration": 486,
    "start_time": "2021-09-28T15:22:47.430Z"
   },
   {
    "duration": 102,
    "start_time": "2021-09-28T15:23:11.613Z"
   },
   {
    "duration": 1942,
    "start_time": "2021-09-28T15:26:26.617Z"
   },
   {
    "duration": 12,
    "start_time": "2021-09-28T15:26:28.562Z"
   },
   {
    "duration": 89,
    "start_time": "2021-09-28T15:26:28.577Z"
   },
   {
    "duration": 20,
    "start_time": "2021-09-28T15:26:28.670Z"
   },
   {
    "duration": 2654,
    "start_time": "2021-09-28T15:26:28.693Z"
   },
   {
    "duration": 44,
    "start_time": "2021-09-28T15:26:31.349Z"
   },
   {
    "duration": 34,
    "start_time": "2021-09-28T15:26:31.395Z"
   },
   {
    "duration": 10301,
    "start_time": "2021-09-28T15:26:31.433Z"
   },
   {
    "duration": 1165,
    "start_time": "2021-09-28T15:26:41.737Z"
   },
   {
    "duration": 3417,
    "start_time": "2021-09-28T15:26:42.905Z"
   },
   {
    "duration": 290,
    "start_time": "2021-09-28T15:26:46.326Z"
   },
   {
    "duration": 170093,
    "start_time": "2021-09-28T15:26:46.619Z"
   },
   {
    "duration": 2615,
    "start_time": "2021-09-28T15:29:36.714Z"
   },
   {
    "duration": 12,
    "start_time": "2021-09-28T15:29:39.332Z"
   },
   {
    "duration": 21,
    "start_time": "2021-09-28T15:29:39.346Z"
   },
   {
    "duration": 110,
    "start_time": "2021-09-28T15:29:39.418Z"
   },
   {
    "duration": 1710,
    "start_time": "2021-09-28T15:31:45.829Z"
   },
   {
    "duration": 6,
    "start_time": "2021-09-28T15:31:47.543Z"
   },
   {
    "duration": 98,
    "start_time": "2021-09-28T15:31:47.553Z"
   },
   {
    "duration": 15,
    "start_time": "2021-09-28T15:31:47.654Z"
   },
   {
    "duration": 2504,
    "start_time": "2021-09-28T15:31:47.671Z"
   },
   {
    "duration": 76,
    "start_time": "2021-09-28T15:31:50.178Z"
   },
   {
    "duration": 18,
    "start_time": "2021-09-28T15:31:50.257Z"
   },
   {
    "duration": 12525,
    "start_time": "2021-09-28T15:31:50.280Z"
   },
   {
    "duration": 1239,
    "start_time": "2021-09-28T15:32:02.808Z"
   },
   {
    "duration": 4969,
    "start_time": "2021-09-28T15:32:04.049Z"
   },
   {
    "duration": 192,
    "start_time": "2021-09-28T15:32:09.026Z"
   },
   {
    "duration": 139413,
    "start_time": "2021-09-28T15:32:09.224Z"
   },
   {
    "duration": 3960,
    "start_time": "2021-09-28T15:34:28.641Z"
   },
   {
    "duration": 12,
    "start_time": "2021-09-28T15:34:32.603Z"
   },
   {
    "duration": 28,
    "start_time": "2021-09-28T15:34:32.619Z"
   },
   {
    "duration": 169,
    "start_time": "2021-09-28T15:34:32.651Z"
   },
   {
    "duration": 1761,
    "start_time": "2021-09-28T16:05:06.771Z"
   },
   {
    "duration": 6,
    "start_time": "2021-09-28T16:05:08.536Z"
   },
   {
    "duration": 91,
    "start_time": "2021-09-28T16:05:08.547Z"
   },
   {
    "duration": 13,
    "start_time": "2021-09-28T16:05:08.641Z"
   },
   {
    "duration": 2403,
    "start_time": "2021-09-28T16:05:08.657Z"
   },
   {
    "duration": 36,
    "start_time": "2021-09-28T16:05:11.062Z"
   },
   {
    "duration": 16,
    "start_time": "2021-09-28T16:05:11.117Z"
   },
   {
    "duration": 9261,
    "start_time": "2021-09-28T16:05:11.137Z"
   },
   {
    "duration": 835,
    "start_time": "2021-09-28T16:05:20.401Z"
   },
   {
    "duration": 2387,
    "start_time": "2021-09-28T16:05:21.239Z"
   },
   {
    "duration": 205,
    "start_time": "2021-09-28T16:05:23.718Z"
   },
   {
    "duration": 162707,
    "start_time": "2021-09-28T16:05:23.926Z"
   },
   {
    "duration": 4672,
    "start_time": "2021-09-28T16:08:06.636Z"
   },
   {
    "duration": 11,
    "start_time": "2021-09-28T16:08:11.310Z"
   },
   {
    "duration": 8,
    "start_time": "2021-09-28T16:08:11.324Z"
   },
   {
    "duration": 185,
    "start_time": "2021-09-28T16:08:11.336Z"
   },
   {
    "duration": 32,
    "start_time": "2021-09-28T16:11:20.244Z"
   },
   {
    "duration": 16,
    "start_time": "2021-09-28T16:11:21.047Z"
   },
   {
    "duration": 152981,
    "start_time": "2021-09-28T16:11:31.284Z"
   },
   {
    "duration": 3889,
    "start_time": "2021-09-28T16:14:04.267Z"
   },
   {
    "duration": 15,
    "start_time": "2021-09-28T16:14:08.160Z"
   },
   {
    "duration": 35,
    "start_time": "2021-09-28T16:16:22.898Z"
   },
   {
    "duration": 156633,
    "start_time": "2021-09-28T16:16:28.238Z"
   },
   {
    "duration": 3980,
    "start_time": "2021-09-28T16:19:04.876Z"
   },
   {
    "duration": 12,
    "start_time": "2021-09-28T16:19:08.859Z"
   },
   {
    "duration": 139,
    "start_time": "2021-09-28T16:19:31.307Z"
   },
   {
    "duration": 138,
    "start_time": "2021-09-28T16:19:37.546Z"
   },
   {
    "duration": 631,
    "start_time": "2021-09-28T16:19:46.294Z"
   },
   {
    "duration": 1742,
    "start_time": "2021-09-28T16:20:24.688Z"
   },
   {
    "duration": 5,
    "start_time": "2021-09-28T16:20:26.432Z"
   },
   {
    "duration": 103,
    "start_time": "2021-09-28T16:20:26.441Z"
   },
   {
    "duration": 14,
    "start_time": "2021-09-28T16:20:26.547Z"
   },
   {
    "duration": 7857,
    "start_time": "2021-09-28T16:20:26.564Z"
   },
   {
    "duration": 44,
    "start_time": "2021-09-28T16:20:34.425Z"
   },
   {
    "duration": 50,
    "start_time": "2021-09-28T16:20:34.471Z"
   },
   {
    "duration": 11025,
    "start_time": "2021-09-28T16:20:34.526Z"
   },
   {
    "duration": 1081,
    "start_time": "2021-09-28T16:20:45.554Z"
   },
   {
    "duration": 3380,
    "start_time": "2021-09-28T16:20:46.637Z"
   },
   {
    "duration": 294,
    "start_time": "2021-09-28T16:20:50.022Z"
   },
   {
    "duration": 163961,
    "start_time": "2021-09-28T16:20:50.321Z"
   },
   {
    "duration": 3509,
    "start_time": "2021-09-28T16:23:34.285Z"
   },
   {
    "duration": 17,
    "start_time": "2021-09-28T16:23:37.797Z"
   },
   {
    "duration": 25,
    "start_time": "2021-09-28T16:23:37.819Z"
   },
   {
    "duration": 176,
    "start_time": "2021-09-28T16:23:37.847Z"
   },
   {
    "duration": 770,
    "start_time": "2021-09-28T16:23:38.031Z"
   },
   {
    "duration": 6,
    "start_time": "2021-09-28T16:25:03.798Z"
   },
   {
    "duration": 7,
    "start_time": "2021-09-28T16:25:04.316Z"
   },
   {
    "duration": 84,
    "start_time": "2021-09-28T16:25:04.979Z"
   },
   {
    "duration": 14,
    "start_time": "2021-09-28T16:25:06.666Z"
   },
   {
    "duration": 8315,
    "start_time": "2021-09-28T16:25:08.868Z"
   },
   {
    "duration": 471,
    "start_time": "2021-09-28T16:26:21.278Z"
   },
   {
    "duration": 415,
    "start_time": "2021-09-28T16:26:33.660Z"
   },
   {
    "duration": 1244,
    "start_time": "2021-09-28T16:26:42.165Z"
   },
   {
    "duration": 2626,
    "start_time": "2021-09-28T16:26:58.999Z"
   },
   {
    "duration": 2645,
    "start_time": "2021-09-28T16:27:27.806Z"
   },
   {
    "duration": 2856,
    "start_time": "2021-09-28T16:27:42.566Z"
   },
   {
    "duration": 2152,
    "start_time": "2021-09-28T16:32:10.685Z"
   },
   {
    "duration": 2101,
    "start_time": "2021-09-28T16:33:26.137Z"
   },
   {
    "duration": 2548,
    "start_time": "2021-09-28T16:36:07.069Z"
   },
   {
    "duration": 3488,
    "start_time": "2021-09-28T16:39:06.542Z"
   },
   {
    "duration": 6290,
    "start_time": "2021-09-28T16:42:46.759Z"
   },
   {
    "duration": 82713,
    "start_time": "2021-09-28T16:43:03.494Z"
   },
   {
    "duration": 7823,
    "start_time": "2021-09-28T16:49:18.899Z"
   },
   {
    "duration": 407,
    "start_time": "2021-09-28T16:49:45.564Z"
   },
   {
    "duration": 438,
    "start_time": "2021-09-28T16:50:04.481Z"
   },
   {
    "duration": 10,
    "start_time": "2021-09-28T16:50:27.790Z"
   },
   {
    "duration": 21936,
    "start_time": "2021-09-28T16:51:16.910Z"
   },
   {
    "duration": 423,
    "start_time": "2021-09-28T16:53:27.063Z"
   },
   {
    "duration": 8,
    "start_time": "2021-09-28T16:53:51.883Z"
   },
   {
    "duration": 11,
    "start_time": "2021-09-28T16:54:16.517Z"
   },
   {
    "duration": 12,
    "start_time": "2021-09-28T16:58:33.826Z"
   },
   {
    "duration": 10,
    "start_time": "2021-09-28T16:59:02.298Z"
   },
   {
    "duration": 16,
    "start_time": "2021-09-28T16:59:13.927Z"
   },
   {
    "duration": 16,
    "start_time": "2021-09-28T17:07:31.113Z"
   },
   {
    "duration": 461,
    "start_time": "2021-09-28T17:07:50.761Z"
   },
   {
    "duration": 405,
    "start_time": "2021-09-28T17:08:32.985Z"
   },
   {
    "duration": 1735,
    "start_time": "2021-09-28T17:10:53.890Z"
   },
   {
    "duration": 7,
    "start_time": "2021-09-28T17:10:55.628Z"
   },
   {
    "duration": 109,
    "start_time": "2021-09-28T17:10:55.638Z"
   },
   {
    "duration": 14,
    "start_time": "2021-09-28T17:10:55.750Z"
   },
   {
    "duration": 2430,
    "start_time": "2021-09-28T17:10:55.767Z"
   },
   {
    "duration": 59,
    "start_time": "2021-09-28T17:10:58.200Z"
   },
   {
    "duration": 20,
    "start_time": "2021-09-28T17:10:58.262Z"
   },
   {
    "duration": 10569,
    "start_time": "2021-09-28T17:10:58.285Z"
   },
   {
    "duration": 1033,
    "start_time": "2021-09-28T17:11:08.858Z"
   },
   {
    "duration": 4140,
    "start_time": "2021-09-28T17:11:09.894Z"
   },
   {
    "duration": 297,
    "start_time": "2021-09-28T17:11:14.037Z"
   },
   {
    "duration": 67499,
    "start_time": "2021-09-28T17:11:14.336Z"
   },
   {
    "duration": 7100,
    "start_time": "2021-09-28T17:12:21.838Z"
   },
   {
    "duration": 10,
    "start_time": "2021-09-28T17:12:28.940Z"
   },
   {
    "duration": 24,
    "start_time": "2021-09-28T17:12:28.952Z"
   },
   {
    "duration": 61,
    "start_time": "2021-09-28T17:12:28.978Z"
   },
   {
    "duration": 19,
    "start_time": "2021-09-28T17:12:29.119Z"
   },
   {
    "duration": 28,
    "start_time": "2021-09-28T17:12:29.140Z"
   },
   {
    "duration": 12181,
    "start_time": "2021-09-28T17:12:29.170Z"
   },
   {
    "duration": -1715,
    "start_time": "2021-09-28T17:12:43.068Z"
   },
   {
    "duration": 13,
    "start_time": "2021-09-28T17:14:27.847Z"
   },
   {
    "duration": 18,
    "start_time": "2021-09-28T17:14:29.412Z"
   },
   {
    "duration": 13,
    "start_time": "2021-09-28T17:14:58.274Z"
   },
   {
    "duration": 1077,
    "start_time": "2021-09-28T17:15:26.111Z"
   },
   {
    "duration": 898,
    "start_time": "2021-09-28T17:15:48.467Z"
   },
   {
    "duration": 818,
    "start_time": "2021-09-28T17:16:13.065Z"
   },
   {
    "duration": 13,
    "start_time": "2021-09-28T17:17:32.062Z"
   },
   {
    "duration": 795,
    "start_time": "2021-09-28T17:17:35.506Z"
   },
   {
    "duration": 14,
    "start_time": "2021-09-28T17:17:57.182Z"
   },
   {
    "duration": 794,
    "start_time": "2021-09-28T17:17:58.287Z"
   },
   {
    "duration": 14,
    "start_time": "2021-09-28T17:18:22.828Z"
   },
   {
    "duration": 791,
    "start_time": "2021-09-28T17:18:23.664Z"
   },
   {
    "duration": 13,
    "start_time": "2021-09-28T17:19:03.879Z"
   },
   {
    "duration": 813,
    "start_time": "2021-09-28T17:19:11.286Z"
   },
   {
    "duration": 791,
    "start_time": "2021-09-28T17:20:00.889Z"
   },
   {
    "duration": 12,
    "start_time": "2021-09-28T17:20:10.352Z"
   },
   {
    "duration": 6,
    "start_time": "2021-09-28T17:36:15.637Z"
   },
   {
    "duration": 5,
    "start_time": "2021-09-28T17:36:24.483Z"
   },
   {
    "duration": 97,
    "start_time": "2021-09-28T17:36:25.119Z"
   },
   {
    "duration": 136,
    "start_time": "2021-09-28T17:36:45.473Z"
   },
   {
    "duration": 5,
    "start_time": "2021-09-28T17:36:55.604Z"
   },
   {
    "duration": 77,
    "start_time": "2021-09-28T17:36:57.018Z"
   },
   {
    "duration": 5,
    "start_time": "2021-09-28T17:37:18.768Z"
   },
   {
    "duration": 77,
    "start_time": "2021-09-28T17:37:19.292Z"
   },
   {
    "duration": 5,
    "start_time": "2021-09-28T17:37:39.382Z"
   },
   {
    "duration": 75,
    "start_time": "2021-09-28T17:37:40.159Z"
   },
   {
    "duration": 12,
    "start_time": "2021-09-28T17:37:44.694Z"
   },
   {
    "duration": 14,
    "start_time": "2021-09-28T17:52:35.255Z"
   },
   {
    "duration": 1630,
    "start_time": "2021-09-29T18:41:29.132Z"
   },
   {
    "duration": 5,
    "start_time": "2021-09-29T18:41:30.764Z"
   },
   {
    "duration": 79,
    "start_time": "2021-09-29T18:41:30.772Z"
   },
   {
    "duration": 13,
    "start_time": "2021-09-29T18:41:30.867Z"
   },
   {
    "duration": 2784,
    "start_time": "2021-09-29T18:41:30.883Z"
   },
   {
    "duration": 39,
    "start_time": "2021-09-29T18:41:33.669Z"
   },
   {
    "duration": 20,
    "start_time": "2021-09-29T18:41:33.711Z"
   },
   {
    "duration": 10401,
    "start_time": "2021-09-29T18:41:33.735Z"
   },
   {
    "duration": 1014,
    "start_time": "2021-09-29T18:41:44.139Z"
   },
   {
    "duration": 3420,
    "start_time": "2021-09-29T18:41:45.156Z"
   },
   {
    "duration": 394,
    "start_time": "2021-09-29T18:41:48.580Z"
   },
   {
    "duration": 70861,
    "start_time": "2021-09-29T18:41:48.977Z"
   },
   {
    "duration": 7583,
    "start_time": "2021-09-29T18:42:59.840Z"
   },
   {
    "duration": 11,
    "start_time": "2021-09-29T18:43:07.425Z"
   },
   {
    "duration": 20,
    "start_time": "2021-09-29T18:43:07.439Z"
   },
   {
    "duration": 9,
    "start_time": "2021-09-29T18:43:07.462Z"
   },
   {
    "duration": 198,
    "start_time": "2021-09-29T18:43:07.473Z"
   },
   {
    "duration": 18,
    "start_time": "2021-09-29T18:43:07.675Z"
   },
   {
    "duration": 899,
    "start_time": "2021-09-29T18:43:07.696Z"
   },
   {
    "duration": 12,
    "start_time": "2021-09-29T18:43:08.598Z"
   },
   {
    "duration": 612,
    "start_time": "2021-09-29T18:48:35.516Z"
   },
   {
    "duration": 5,
    "start_time": "2021-09-29T18:49:12.541Z"
   },
   {
    "duration": 1292,
    "start_time": "2021-09-30T02:21:02.723Z"
   },
   {
    "duration": 4,
    "start_time": "2021-09-30T02:21:05.900Z"
   },
   {
    "duration": 60,
    "start_time": "2021-09-30T02:21:07.179Z"
   },
   {
    "duration": 11,
    "start_time": "2021-09-30T02:21:10.065Z"
   },
   {
    "duration": 1403,
    "start_time": "2021-09-30T02:21:13.664Z"
   },
   {
    "duration": 26,
    "start_time": "2021-09-30T02:21:18.842Z"
   },
   {
    "duration": 15,
    "start_time": "2021-09-30T02:21:19.759Z"
   },
   {
    "duration": 16999,
    "start_time": "2021-09-30T02:23:53.985Z"
   },
   {
    "duration": 4757,
    "start_time": "2021-09-30T02:24:14.876Z"
   },
   {
    "duration": 2423,
    "start_time": "2021-09-30T02:24:51.786Z"
   },
   {
    "duration": 726,
    "start_time": "2021-09-30T02:24:55.881Z"
   },
   {
    "duration": 2803,
    "start_time": "2021-09-30T02:24:58.151Z"
   },
   {
    "duration": 26,
    "start_time": "2021-09-30T02:25:03.826Z"
   },
   {
    "duration": 17637,
    "start_time": "2021-09-30T02:25:07.446Z"
   },
   {
    "duration": 10,
    "start_time": "2021-09-30T02:27:11.467Z"
   },
   {
    "duration": 8,
    "start_time": "2021-09-30T02:27:16.391Z"
   },
   {
    "duration": 12,
    "start_time": "2021-09-30T02:27:17.023Z"
   },
   {
    "duration": 349,
    "start_time": "2021-09-30T02:27:18.027Z"
   },
   {
    "duration": 4620,
    "start_time": "2021-09-30T02:27:37.322Z"
   },
   {
    "duration": 9,
    "start_time": "2021-09-30T02:27:43.647Z"
   },
   {
    "duration": 9,
    "start_time": "2021-09-30T02:27:46.629Z"
   },
   {
    "duration": 9,
    "start_time": "2021-09-30T02:27:47.923Z"
   },
   {
    "duration": 7,
    "start_time": "2021-09-30T02:27:48.953Z"
   },
   {
    "duration": 10,
    "start_time": "2021-09-30T02:27:52.027Z"
   },
   {
    "duration": 457,
    "start_time": "2021-09-30T02:27:52.823Z"
   },
   {
    "duration": 8,
    "start_time": "2021-09-30T02:27:56.788Z"
   },
   {
    "duration": 2617,
    "start_time": "2021-09-30T02:33:10.324Z"
   },
   {
    "duration": 757,
    "start_time": "2021-09-30T02:33:16.064Z"
   },
   {
    "duration": 281,
    "start_time": "2021-09-30T02:33:20.740Z"
   },
   {
    "duration": 264,
    "start_time": "2021-09-30T02:33:48.588Z"
   },
   {
    "duration": 1234,
    "start_time": "2021-09-30T02:34:23.268Z"
   },
   {
    "duration": 5,
    "start_time": "2021-09-30T02:34:24.504Z"
   },
   {
    "duration": 65,
    "start_time": "2021-09-30T02:34:24.511Z"
   },
   {
    "duration": 10,
    "start_time": "2021-09-30T02:34:24.578Z"
   },
   {
    "duration": 1407,
    "start_time": "2021-09-30T02:34:24.590Z"
   },
   {
    "duration": 25,
    "start_time": "2021-09-30T02:34:25.999Z"
   },
   {
    "duration": 28,
    "start_time": "2021-09-30T02:34:26.026Z"
   },
   {
    "duration": 2503,
    "start_time": "2021-09-30T02:34:26.055Z"
   },
   {
    "duration": 1148,
    "start_time": "2021-09-30T02:34:28.562Z"
   },
   {
    "duration": 333,
    "start_time": "2021-09-30T02:34:29.712Z"
   },
   {
    "duration": -894,
    "start_time": "2021-09-30T02:34:30.942Z"
   },
   {
    "duration": -894,
    "start_time": "2021-09-30T02:34:30.944Z"
   },
   {
    "duration": -895,
    "start_time": "2021-09-30T02:34:30.946Z"
   },
   {
    "duration": -896,
    "start_time": "2021-09-30T02:34:30.949Z"
   },
   {
    "duration": -896,
    "start_time": "2021-09-30T02:34:30.950Z"
   },
   {
    "duration": -896,
    "start_time": "2021-09-30T02:34:30.952Z"
   },
   {
    "duration": -895,
    "start_time": "2021-09-30T02:34:30.953Z"
   },
   {
    "duration": -895,
    "start_time": "2021-09-30T02:34:30.954Z"
   },
   {
    "duration": -894,
    "start_time": "2021-09-30T02:34:30.955Z"
   },
   {
    "duration": -895,
    "start_time": "2021-09-30T02:34:30.957Z"
   },
   {
    "duration": 1970,
    "start_time": "2021-09-30T02:35:51.585Z"
   },
   {
    "duration": 36,
    "start_time": "2021-09-30T02:35:56.018Z"
   },
   {
    "duration": 385,
    "start_time": "2021-09-30T02:36:07.752Z"
   },
   {
    "duration": 3,
    "start_time": "2021-09-30T02:36:30.910Z"
   },
   {
    "duration": 2579,
    "start_time": "2021-09-30T02:36:38.934Z"
   },
   {
    "duration": 740,
    "start_time": "2021-09-30T02:36:43.776Z"
   },
   {
    "duration": 262,
    "start_time": "2021-09-30T02:37:00.746Z"
   },
   {
    "duration": 762,
    "start_time": "2021-09-30T02:37:08.296Z"
   },
   {
    "duration": 12,
    "start_time": "2021-09-30T02:37:09.721Z"
   },
   {
    "duration": 16968,
    "start_time": "2021-09-30T02:37:20.546Z"
   },
   {
    "duration": 5043,
    "start_time": "2021-09-30T02:37:37.515Z"
   },
   {
    "duration": 7,
    "start_time": "2021-09-30T02:37:42.560Z"
   },
   {
    "duration": 5,
    "start_time": "2021-09-30T02:46:10.364Z"
   },
   {
    "duration": 269,
    "start_time": "2021-09-30T03:30:53.669Z"
   },
   {
    "duration": 92,
    "start_time": "2021-09-30T03:31:03.069Z"
   },
   {
    "duration": 5,
    "start_time": "2021-09-30T03:31:12.217Z"
   },
   {
    "duration": 2516,
    "start_time": "2021-09-30T03:51:58.204Z"
   },
   {
    "duration": 758,
    "start_time": "2021-09-30T03:52:00.722Z"
   },
   {
    "duration": 269,
    "start_time": "2021-09-30T03:52:06.740Z"
   },
   {
    "duration": 5291,
    "start_time": "2021-09-30T03:53:27.176Z"
   },
   {
    "duration": 760,
    "start_time": "2021-09-30T03:53:36.817Z"
   },
   {
    "duration": 1272,
    "start_time": "2021-09-30T03:54:10.483Z"
   },
   {
    "duration": 4,
    "start_time": "2021-09-30T03:54:11.757Z"
   },
   {
    "duration": 73,
    "start_time": "2021-09-30T03:54:11.763Z"
   },
   {
    "duration": 10,
    "start_time": "2021-09-30T03:54:11.838Z"
   },
   {
    "duration": 1554,
    "start_time": "2021-09-30T03:54:11.850Z"
   },
   {
    "duration": 26,
    "start_time": "2021-09-30T03:54:13.406Z"
   },
   {
    "duration": 32,
    "start_time": "2021-09-30T03:54:13.434Z"
   },
   {
    "duration": 2638,
    "start_time": "2021-09-30T03:54:13.469Z"
   },
   {
    "duration": 776,
    "start_time": "2021-09-30T03:54:16.110Z"
   },
   {
    "duration": 1164,
    "start_time": "2021-09-30T03:54:16.888Z"
   },
   {
    "duration": 187,
    "start_time": "2021-09-30T03:54:18.064Z"
   },
   {
    "duration": 95,
    "start_time": "2021-09-30T03:54:18.256Z"
   },
   {
    "duration": 21512,
    "start_time": "2021-09-30T03:54:18.354Z"
   },
   {
    "duration": 6124,
    "start_time": "2021-09-30T03:54:39.868Z"
   },
   {
    "duration": 8,
    "start_time": "2021-09-30T03:54:45.994Z"
   },
   {
    "duration": 13,
    "start_time": "2021-09-30T03:54:46.003Z"
   },
   {
    "duration": 34,
    "start_time": "2021-09-30T03:54:46.018Z"
   },
   {
    "duration": 114,
    "start_time": "2021-09-30T03:54:46.057Z"
   },
   {
    "duration": 84,
    "start_time": "2021-09-30T03:54:46.174Z"
   },
   {
    "duration": 504,
    "start_time": "2021-09-30T03:54:46.260Z"
   },
   {
    "duration": 9,
    "start_time": "2021-09-30T03:54:46.766Z"
   },
   {
    "duration": 1234,
    "start_time": "2021-09-30T03:57:56.406Z"
   },
   {
    "duration": 4,
    "start_time": "2021-09-30T03:57:57.642Z"
   },
   {
    "duration": 65,
    "start_time": "2021-09-30T03:57:57.648Z"
   },
   {
    "duration": 9,
    "start_time": "2021-09-30T03:57:57.715Z"
   },
   {
    "duration": 1501,
    "start_time": "2021-09-30T03:57:57.726Z"
   },
   {
    "duration": 39,
    "start_time": "2021-09-30T03:57:59.229Z"
   },
   {
    "duration": 16,
    "start_time": "2021-09-30T03:57:59.270Z"
   },
   {
    "duration": 2569,
    "start_time": "2021-09-30T03:57:59.288Z"
   },
   {
    "duration": 790,
    "start_time": "2021-09-30T03:58:01.859Z"
   },
   {
    "duration": 1105,
    "start_time": "2021-09-30T03:58:02.651Z"
   },
   {
    "duration": 300,
    "start_time": "2021-09-30T03:58:03.758Z"
   },
   {
    "duration": 21660,
    "start_time": "2021-09-30T03:58:04.065Z"
   },
   {
    "duration": 7027,
    "start_time": "2021-09-30T03:58:25.726Z"
   },
   {
    "duration": 9,
    "start_time": "2021-09-30T03:58:32.756Z"
   },
   {
    "duration": 17,
    "start_time": "2021-09-30T03:58:32.767Z"
   },
   {
    "duration": 10,
    "start_time": "2021-09-30T03:58:32.786Z"
   },
   {
    "duration": 101,
    "start_time": "2021-09-30T03:58:32.852Z"
   },
   {
    "duration": 12,
    "start_time": "2021-09-30T03:58:32.956Z"
   },
   {
    "duration": 501,
    "start_time": "2021-09-30T03:58:32.971Z"
   },
   {
    "duration": 9,
    "start_time": "2021-09-30T03:58:33.474Z"
   },
   {
    "duration": 1566,
    "start_time": "2021-09-30T09:02:34.431Z"
   },
   {
    "duration": 5,
    "start_time": "2021-09-30T09:02:35.999Z"
   },
   {
    "duration": 92,
    "start_time": "2021-09-30T09:02:36.007Z"
   },
   {
    "duration": 20,
    "start_time": "2021-09-30T09:02:36.102Z"
   },
   {
    "duration": 2324,
    "start_time": "2021-09-30T09:02:36.402Z"
   },
   {
    "duration": 39,
    "start_time": "2021-09-30T09:02:38.729Z"
   },
   {
    "duration": 28,
    "start_time": "2021-09-30T09:02:40.191Z"
   },
   {
    "duration": 9649,
    "start_time": "2021-09-30T09:02:42.255Z"
   },
   {
    "duration": 932,
    "start_time": "2021-09-30T09:02:51.906Z"
   },
   {
    "duration": 12,
    "start_time": "2021-09-30T09:03:28.007Z"
   },
   {
    "duration": 494,
    "start_time": "2021-09-30T09:03:37.770Z"
   },
   {
    "duration": -1,
    "start_time": "2021-09-30T09:03:38.267Z"
   },
   {
    "duration": 1557,
    "start_time": "2021-09-30T09:03:55.285Z"
   },
   {
    "duration": 5,
    "start_time": "2021-09-30T09:03:56.844Z"
   },
   {
    "duration": 97,
    "start_time": "2021-09-30T09:03:56.852Z"
   },
   {
    "duration": 13,
    "start_time": "2021-09-30T09:03:56.952Z"
   },
   {
    "duration": 2530,
    "start_time": "2021-09-30T09:03:56.967Z"
   },
   {
    "duration": 72,
    "start_time": "2021-09-30T09:03:59.500Z"
   },
   {
    "duration": 19,
    "start_time": "2021-09-30T09:03:59.575Z"
   },
   {
    "duration": 9553,
    "start_time": "2021-09-30T09:03:59.598Z"
   },
   {
    "duration": 934,
    "start_time": "2021-09-30T09:04:09.153Z"
   },
   {
    "duration": 933,
    "start_time": "2021-09-30T09:04:10.090Z"
   },
   {
    "duration": 296,
    "start_time": "2021-09-30T09:04:11.031Z"
   },
   {
    "duration": 24714,
    "start_time": "2021-09-30T09:04:11.331Z"
   },
   {
    "duration": 7176,
    "start_time": "2021-09-30T09:04:36.048Z"
   },
   {
    "duration": 10,
    "start_time": "2021-09-30T09:04:43.226Z"
   },
   {
    "duration": 32,
    "start_time": "2021-09-30T09:04:43.239Z"
   },
   {
    "duration": 57,
    "start_time": "2021-09-30T09:04:43.273Z"
   },
   {
    "duration": 192,
    "start_time": "2021-09-30T09:04:43.335Z"
   },
   {
    "duration": 18,
    "start_time": "2021-09-30T09:04:43.530Z"
   },
   {
    "duration": 840,
    "start_time": "2021-09-30T09:04:43.550Z"
   },
   {
    "duration": 11,
    "start_time": "2021-09-30T09:04:44.393Z"
   }
  ],
  "kernelspec": {
   "display_name": "Python 3",
   "language": "python",
   "name": "python3"
  },
  "language_info": {
   "codemirror_mode": {
    "name": "ipython",
    "version": 3
   },
   "file_extension": ".py",
   "mimetype": "text/x-python",
   "name": "python",
   "nbconvert_exporter": "python",
   "pygments_lexer": "ipython3",
   "version": "3.8.8"
  },
  "toc": {
   "base_numbering": 1,
   "nav_menu": {},
   "number_sections": true,
   "sideBar": true,
   "skip_h1_title": true,
   "title_cell": "Содержание",
   "title_sidebar": "Contents",
   "toc_cell": true,
   "toc_position": {},
   "toc_section_display": true,
   "toc_window_display": true
  }
 },
 "nbformat": 4,
 "nbformat_minor": 2
}
