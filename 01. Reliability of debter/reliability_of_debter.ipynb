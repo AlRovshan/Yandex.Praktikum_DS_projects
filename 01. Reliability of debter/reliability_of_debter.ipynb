{
 "cells": [
  {
   "cell_type": "markdown",
   "metadata": {},
   "source": [
    "# Исследование надёжности заёмщиков\n",
    "\n",
    "Заказчик — кредитный отдел банка. Нужно разобраться, влияет ли семейное положение и количество детей клиента на факт погашения кредита в срок. Входные данные от банка — статистика о платёжеспособности клиентов.\n",
    "\n",
    "Результаты исследования будут учтены при построении модели **кредитного скоринга** — специальной системы, которая оценивает способность потенциального заёмщика вернуть кредит банку."
   ]
  },
  {
   "cell_type": "markdown",
   "metadata": {},
   "source": [
    "## Оглавление\n",
    "1. [Открытие данных](#start)\n",
    "2. [Предобработка данных](#preprocessing)\n",
    "    * [Обработка пропусков](#null)\n",
    "    * [Замена типа данных](#type)\n",
    "    * [Обработка дубликатов](#duplicates)\n",
    "    * [Лемматизация](#lemma)\n",
    "    * [Категоризация данных](#cotegory)\n",
    "3. [Ответьте на вопросы](#qustion)\n",
    "4. [Общий вывод](#conclusion)"
   ]
  },
  {
   "cell_type": "markdown",
   "metadata": {},
   "source": [
    "## Шаг 1. Откройте файл с данными и изучите общую информацию<a id=\"start\"></a> "
   ]
  },
  {
   "cell_type": "code",
   "execution_count": 1,
   "metadata": {
    "scrolled": false
   },
   "outputs": [],
   "source": [
    "import pandas as pd\n",
    "credit_scoring = pd.read_csv('/datasets/data.csv')"
   ]
  },
  {
   "cell_type": "code",
   "execution_count": 2,
   "metadata": {
    "scrolled": true
   },
   "outputs": [
    {
     "data": {
      "text/html": [
       "<div>\n",
       "<style scoped>\n",
       "    .dataframe tbody tr th:only-of-type {\n",
       "        vertical-align: middle;\n",
       "    }\n",
       "\n",
       "    .dataframe tbody tr th {\n",
       "        vertical-align: top;\n",
       "    }\n",
       "\n",
       "    .dataframe thead th {\n",
       "        text-align: right;\n",
       "    }\n",
       "</style>\n",
       "<table border=\"1\" class=\"dataframe\">\n",
       "  <thead>\n",
       "    <tr style=\"text-align: right;\">\n",
       "      <th></th>\n",
       "      <th>children</th>\n",
       "      <th>days_employed</th>\n",
       "      <th>dob_years</th>\n",
       "      <th>education</th>\n",
       "      <th>education_id</th>\n",
       "      <th>family_status</th>\n",
       "      <th>family_status_id</th>\n",
       "      <th>gender</th>\n",
       "      <th>income_type</th>\n",
       "      <th>debt</th>\n",
       "      <th>total_income</th>\n",
       "      <th>purpose</th>\n",
       "    </tr>\n",
       "  </thead>\n",
       "  <tbody>\n",
       "    <tr>\n",
       "      <td>0</td>\n",
       "      <td>1</td>\n",
       "      <td>-8437.673028</td>\n",
       "      <td>42</td>\n",
       "      <td>высшее</td>\n",
       "      <td>0</td>\n",
       "      <td>женат / замужем</td>\n",
       "      <td>0</td>\n",
       "      <td>F</td>\n",
       "      <td>сотрудник</td>\n",
       "      <td>0</td>\n",
       "      <td>253875.639453</td>\n",
       "      <td>покупка жилья</td>\n",
       "    </tr>\n",
       "    <tr>\n",
       "      <td>1</td>\n",
       "      <td>1</td>\n",
       "      <td>-4024.803754</td>\n",
       "      <td>36</td>\n",
       "      <td>среднее</td>\n",
       "      <td>1</td>\n",
       "      <td>женат / замужем</td>\n",
       "      <td>0</td>\n",
       "      <td>F</td>\n",
       "      <td>сотрудник</td>\n",
       "      <td>0</td>\n",
       "      <td>112080.014102</td>\n",
       "      <td>приобретение автомобиля</td>\n",
       "    </tr>\n",
       "    <tr>\n",
       "      <td>2</td>\n",
       "      <td>0</td>\n",
       "      <td>-5623.422610</td>\n",
       "      <td>33</td>\n",
       "      <td>Среднее</td>\n",
       "      <td>1</td>\n",
       "      <td>женат / замужем</td>\n",
       "      <td>0</td>\n",
       "      <td>M</td>\n",
       "      <td>сотрудник</td>\n",
       "      <td>0</td>\n",
       "      <td>145885.952297</td>\n",
       "      <td>покупка жилья</td>\n",
       "    </tr>\n",
       "    <tr>\n",
       "      <td>3</td>\n",
       "      <td>3</td>\n",
       "      <td>-4124.747207</td>\n",
       "      <td>32</td>\n",
       "      <td>среднее</td>\n",
       "      <td>1</td>\n",
       "      <td>женат / замужем</td>\n",
       "      <td>0</td>\n",
       "      <td>M</td>\n",
       "      <td>сотрудник</td>\n",
       "      <td>0</td>\n",
       "      <td>267628.550329</td>\n",
       "      <td>дополнительное образование</td>\n",
       "    </tr>\n",
       "    <tr>\n",
       "      <td>4</td>\n",
       "      <td>0</td>\n",
       "      <td>340266.072047</td>\n",
       "      <td>53</td>\n",
       "      <td>среднее</td>\n",
       "      <td>1</td>\n",
       "      <td>гражданский брак</td>\n",
       "      <td>1</td>\n",
       "      <td>F</td>\n",
       "      <td>пенсионер</td>\n",
       "      <td>0</td>\n",
       "      <td>158616.077870</td>\n",
       "      <td>сыграть свадьбу</td>\n",
       "    </tr>\n",
       "  </tbody>\n",
       "</table>\n",
       "</div>"
      ],
      "text/plain": [
       "   children  days_employed  dob_years education  education_id  \\\n",
       "0         1   -8437.673028         42    высшее             0   \n",
       "1         1   -4024.803754         36   среднее             1   \n",
       "2         0   -5623.422610         33   Среднее             1   \n",
       "3         3   -4124.747207         32   среднее             1   \n",
       "4         0  340266.072047         53   среднее             1   \n",
       "\n",
       "      family_status  family_status_id gender income_type  debt   total_income  \\\n",
       "0   женат / замужем                 0      F   сотрудник     0  253875.639453   \n",
       "1   женат / замужем                 0      F   сотрудник     0  112080.014102   \n",
       "2   женат / замужем                 0      M   сотрудник     0  145885.952297   \n",
       "3   женат / замужем                 0      M   сотрудник     0  267628.550329   \n",
       "4  гражданский брак                 1      F   пенсионер     0  158616.077870   \n",
       "\n",
       "                      purpose  \n",
       "0               покупка жилья  \n",
       "1     приобретение автомобиля  \n",
       "2               покупка жилья  \n",
       "3  дополнительное образование  \n",
       "4             сыграть свадьбу  "
      ]
     },
     "execution_count": 2,
     "metadata": {},
     "output_type": "execute_result"
    }
   ],
   "source": [
    "# вывод первых 5 строк таблицы data\n",
    "credit_scoring.head()"
   ]
  },
  {
   "cell_type": "code",
   "execution_count": 3,
   "metadata": {},
   "outputs": [
    {
     "name": "stdout",
     "output_type": "stream",
     "text": [
      "<class 'pandas.core.frame.DataFrame'>\n",
      "RangeIndex: 21525 entries, 0 to 21524\n",
      "Data columns (total 12 columns):\n",
      "children            21525 non-null int64\n",
      "days_employed       19351 non-null float64\n",
      "dob_years           21525 non-null int64\n",
      "education           21525 non-null object\n",
      "education_id        21525 non-null int64\n",
      "family_status       21525 non-null object\n",
      "family_status_id    21525 non-null int64\n",
      "gender              21525 non-null object\n",
      "income_type         21525 non-null object\n",
      "debt                21525 non-null int64\n",
      "total_income        19351 non-null float64\n",
      "purpose             21525 non-null object\n",
      "dtypes: float64(2), int64(5), object(5)\n",
      "memory usage: 2.0+ MB\n"
     ]
    }
   ],
   "source": [
    "# получение общей информации о данных в таблице data\n",
    "credit_scoring.info()"
   ]
  },
  {
   "cell_type": "markdown",
   "metadata": {},
   "source": [
    "В таблице 12 сталбцов с различными типами данных:\n",
    "* children - количество детей;\n",
    "* days_employed - общий трудовой стаж в днях;\n",
    "* dob_years - возраст;\n",
    "* education - уровень образование (высшее, среднее, неоконченное высшее, начальное, ученая степень);\n",
    "* education_id - идентификатор образования (0 - высшее, 1 - среднее, 2 - неоконченное высшее, 3 - начальное, 4 - ученая степень);\n",
    "* family_status - семейное положение;\n",
    "* family_status_id - идентификатор семейного положения ( 0 - женат / замужем, 1 - гражданский брак, 2 - вдовец / вдова, 3 - в разводе, 4 - не женат / не замужем);\n",
    "* gender - пол;\n",
    "* income_type - вид занятости (сотрудник, пенсионер, компаньон, госслужащий, безработный, предприниматель, студент, в декрете);\n",
    "* debt - задолжность (0 - нет задолженности, 1 - есть задолженность);\n",
    "* total_income - общий заработок;\n",
    "* purpose - цель кредита.\n",
    "\n",
    "Таблица приводит значения характеристик , описанных выше, платёжеспособности каждого клиента."
   ]
  },
  {
   "cell_type": "markdown",
   "metadata": {},
   "source": [
    "### Вывод"
   ]
  },
  {
   "cell_type": "markdown",
   "metadata": {},
   "source": [
    "Проблемы обнаруженные при первом визуальном осмотре таблицы:\n",
    "1. в столбце children и education есть отрицательные значения, что является ошибкой;\n",
    "2. в столбце eduation значения приведены в разном регистре;\n",
    "3. количество значений в столбцах различается. Это говорит о том, что в данных есть пропущенные значения;\n",
    "4. некоторые столбцы имеют вещественный тип данных (float). \n",
    "\n",
    "Важными столбцами для установления влияния семейное положение, количество детей и уровень дохода клиента на факт погашения кредита в срок являются: children, family_status, total_income, purpose и debt."
   ]
  },
  {
   "cell_type": "markdown",
   "metadata": {},
   "source": [
    "## Шаг 2. Предобработка данных<a id=\"preprocessing\"></a>"
   ]
  },
  {
   "cell_type": "markdown",
   "metadata": {},
   "source": [
    "### Обработка пропусков<a id=\"null\"></a> "
   ]
  },
  {
   "cell_type": "code",
   "execution_count": 4,
   "metadata": {
    "scrolled": true
   },
   "outputs": [
    {
     "data": {
      "text/plain": [
       "children               0\n",
       "days_employed       2174\n",
       "dob_years              0\n",
       "education              0\n",
       "education_id           0\n",
       "family_status          0\n",
       "family_status_id       0\n",
       "gender                 0\n",
       "income_type            0\n",
       "debt                   0\n",
       "total_income        2174\n",
       "purpose                0\n",
       "dtype: int64"
      ]
     },
     "execution_count": 4,
     "metadata": {},
     "output_type": "execute_result"
    }
   ],
   "source": [
    "#выявление пропусков методом isnull и sum\n",
    "credit_scoring.isnull().sum()"
   ]
  },
  {
   "cell_type": "markdown",
   "metadata": {},
   "source": [
    "Пропущенные значения замечены в столбцах days_employed и total_income. Для заполнения пропусков необходимо найти медианное значение для days_employed и total_income."
   ]
  },
  {
   "cell_type": "code",
   "execution_count": 5,
   "metadata": {
    "scrolled": true
   },
   "outputs": [
    {
     "data": {
      "text/plain": [
       "145017.93753253992"
      ]
     },
     "execution_count": 5,
     "metadata": {},
     "output_type": "execute_result"
    }
   ],
   "source": [
    "# Медиана общего дохода\n",
    "total_income_median = credit_scoring['total_income'].median()\n",
    "total_income_median"
   ]
  },
  {
   "cell_type": "markdown",
   "metadata": {},
   "source": [
    "Так как в столбце days_employed есть отрицательные значение, то для точного определения медианы возьмем её значения по модулю. Возьмем по модулю столбец children, где также были замечены отрицательные значения."
   ]
  },
  {
   "cell_type": "code",
   "execution_count": 6,
   "metadata": {},
   "outputs": [],
   "source": [
    "#Модуль столбца days_employed\n",
    "credit_scoring['days_employed'] = list(map(abs, credit_scoring['days_employed']))\n",
    "#Модуль столбца children\n",
    "credit_scoring['children'] = list(map(abs, credit_scoring['children']))"
   ]
  },
  {
   "cell_type": "code",
   "execution_count": 7,
   "metadata": {
    "scrolled": true
   },
   "outputs": [
    {
     "data": {
      "text/plain": [
       "2194.220566878695"
      ]
     },
     "execution_count": 7,
     "metadata": {},
     "output_type": "execute_result"
    }
   ],
   "source": [
    "# Медиана стажа работы\n",
    "days_employed_median = credit_scoring['days_employed'].median()\n",
    "days_employed_median"
   ]
  },
  {
   "cell_type": "markdown",
   "metadata": {},
   "source": [
    "Заменим пропущенные значения в столбцах медианами"
   ]
  },
  {
   "cell_type": "code",
   "execution_count": 8,
   "metadata": {},
   "outputs": [],
   "source": [
    "#Заменим пропущенные значений столбца days_employed медианой\n",
    "credit_scoring['days_employed'] = credit_scoring['days_employed'].fillna(value=days_employed_median)\n",
    "#Заменим пропущенные значений столбца total_income медианой\n",
    "credit_scoring['total_income'] = credit_scoring['total_income'].fillna(value=total_income_median)"
   ]
  },
  {
   "cell_type": "markdown",
   "metadata": {},
   "source": [
    "### Вывод"
   ]
  },
  {
   "cell_type": "markdown",
   "metadata": {},
   "source": [
    "Пропущенные значения были обнаружены только в столбцах days_employed и total_income. Данные сталбцы имееют тип float, следовательно, пропушенные значения относятся к типу NaN. Причинами появления пропусков в данных могут быть отсутствие данных о клиенте, ошибкой при заполнении данных, повреждение данных и т.д. В нашем случае пропуски заполнялись медианными значениями стажа работы в днях и общего дохода. "
   ]
  },
  {
   "cell_type": "markdown",
   "metadata": {},
   "source": [
    "### Замена типа данных<a id=\"type\"></a> "
   ]
  },
  {
   "cell_type": "markdown",
   "metadata": {},
   "source": [
    "Заменим типы данных столбцов days_employed и total_income с float на int"
   ]
  },
  {
   "cell_type": "code",
   "execution_count": 9,
   "metadata": {},
   "outputs": [],
   "source": [
    "#Замена типа данных на int столбца days_employed\n",
    "credit_scoring['days_employed'] = credit_scoring['days_employed'].astype('int')\n",
    "#Замена типа данных на int столбца total_income\n",
    "credit_scoring['total_income'] = credit_scoring['total_income'].astype('int')"
   ]
  },
  {
   "cell_type": "markdown",
   "metadata": {},
   "source": [
    "### Вывод"
   ]
  },
  {
   "cell_type": "markdown",
   "metadata": {},
   "source": [
    "Для изменения типа данных используется метод astype(), аргументом которого является требуемый тип данных ('int')."
   ]
  },
  {
   "cell_type": "markdown",
   "metadata": {},
   "source": [
    "### Обработка дубликатов<a id=\"duplicates\"></a> "
   ]
  },
  {
   "cell_type": "markdown",
   "metadata": {},
   "source": [
    "Для выявления всех дубликатов в таблице приведем все значения столбца education в нижний регистр."
   ]
  },
  {
   "cell_type": "code",
   "execution_count": 10,
   "metadata": {},
   "outputs": [],
   "source": [
    "#Перевод столбца education в нижний регистр\n",
    "credit_scoring['education'] = credit_scoring['education'].str.lower()"
   ]
  },
  {
   "cell_type": "code",
   "execution_count": 11,
   "metadata": {},
   "outputs": [
    {
     "data": {
      "text/plain": [
       "71"
      ]
     },
     "execution_count": 11,
     "metadata": {},
     "output_type": "execute_result"
    }
   ],
   "source": [
    "#Сумма всех дубликатов в таблице\n",
    "credit_scoring.duplicated().sum()"
   ]
  },
  {
   "cell_type": "code",
   "execution_count": 12,
   "metadata": {},
   "outputs": [],
   "source": [
    "#Удаление всех дубликатов\n",
    "credit_scoring = credit_scoring.drop_duplicates().reset_index(drop=True)"
   ]
  },
  {
   "cell_type": "code",
   "execution_count": 13,
   "metadata": {},
   "outputs": [
    {
     "data": {
      "text/plain": [
       "0"
      ]
     },
     "execution_count": 13,
     "metadata": {},
     "output_type": "execute_result"
    }
   ],
   "source": [
    "#Провека наличия дубликатов\n",
    "credit_scoring.duplicated().sum()"
   ]
  },
  {
   "cell_type": "markdown",
   "metadata": {},
   "source": [
    "### Вывод"
   ]
  },
  {
   "cell_type": "markdown",
   "metadata": {},
   "source": [
    "Поиск дубликатов осуществляется методом duplicated(), а для подсчета их количества используется метод sum(). Перевод значений столбца education в нижний регистр увеличило количество дубликатов. При удалении дубликатов использовался метод drop_duplicates() в связке с методом reset_index() и аргументом drop=True для переиндексации значений таблицы. Причинами появления дубликатов в данных могут быть неправильное соединение данных из разных источников, ошибки или повторения при занесении информации."
   ]
  },
  {
   "cell_type": "markdown",
   "metadata": {},
   "source": [
    "### Лемматизация<a id=\"lemma\"></a> "
   ]
  },
  {
   "cell_type": "markdown",
   "metadata": {},
   "source": [
    "Для проведения лемматизации целей необходимо сначала сохранить в отдельной переменной уникальные значения столбца целей."
   ]
  },
  {
   "cell_type": "code",
   "execution_count": 14,
   "metadata": {},
   "outputs": [],
   "source": [
    "#Уникальные значения столбца purpose\n",
    "prupose_unique = credit_scoring['purpose'].unique()"
   ]
  },
  {
   "cell_type": "code",
   "execution_count": 15,
   "metadata": {
    "scrolled": false
   },
   "outputs": [
    {
     "data": {
      "text/plain": [
       "                  59\n",
       "\\n                38\n",
       "покупка           10\n",
       "недвижимость      10\n",
       "образование        9\n",
       "автомобиль         9\n",
       "жилье              7\n",
       "с                  5\n",
       "на                 4\n",
       "операция           4\n",
       "свой               4\n",
       "строительство      3\n",
       "свадьба            3\n",
       "получение          3\n",
       "высокий            3\n",
       "сделка             2\n",
       "дополнительный     2\n",
       "жилой              2\n",
       "коммерческий       2\n",
       "заниматься         2\n",
       "для                2\n",
       "подержать          1\n",
       "собственный        1\n",
       "сыграть            1\n",
       "подержанный        1\n",
       "приобретение       1\n",
       "семья              1\n",
       "ремонт             1\n",
       "проведение         1\n",
       "профильный         1\n",
       "сдача              1\n",
       "со                 1\n",
       "dtype: int64"
      ]
     },
     "execution_count": 15,
     "metadata": {},
     "output_type": "execute_result"
    }
   ],
   "source": [
    "#Лемматизация столбца purpose\n",
    "m = Mystem()\n",
    "lemmas = []\n",
    "for row in prupose_unique:\n",
    "    lemmas.extend(m.lemmatize(row))\n",
    "\n",
    "pd.Series(lemmas).value_counts()"
   ]
  },
  {
   "cell_type": "markdown",
   "metadata": {},
   "source": [
    "### Вывод"
   ]
  },
  {
   "cell_type": "markdown",
   "metadata": {},
   "source": [
    "Лемматизация целей кредита проводилась с помошью библиотеки pymystem3. В качестве данных использовались уникальные значения столбца целей. Для проведения лемматизации каждой строки столбца целей кредита использовался цикл for. Также приведено число упаменаний лемматизированных слов."
   ]
  },
  {
   "cell_type": "markdown",
   "metadata": {},
   "source": [
    "### Категоризация данных<a id=\"cotegory\"></a> "
   ]
  },
  {
   "cell_type": "markdown",
   "metadata": {},
   "source": [
    "Выполним категоризацию важных для нас столбцов, а иммено children, family_status_id, total_income и purpose"
   ]
  },
  {
   "cell_type": "markdown",
   "metadata": {},
   "source": [
    "* **Категоризация по наличию детей**\n",
    "\n",
    "Используем всего две категории характеризующие наличее и отсутсвие у заемщиков детей."
   ]
  },
  {
   "cell_type": "code",
   "execution_count": 16,
   "metadata": {},
   "outputs": [
    {
     "data": {
      "text/plain": [
       "без детей    14091\n",
       "с детьми      7363\n",
       "Name: children_group, dtype: int64"
      ]
     },
     "execution_count": 16,
     "metadata": {},
     "output_type": "execute_result"
    }
   ],
   "source": [
    "#Категоризация столбца children\n",
    "def children_group(children):\n",
    "    if children < 1:\n",
    "        return 'без детей'\n",
    "    return 'с детьми'\n",
    "credit_scoring['children_group'] = credit_scoring['children'].apply(children_group)\n",
    "\n",
    "#Подсчет числа клиентов для котегорий \"с детьми\" и \"без детей\"\n",
    "credit_scoring['children_group'].value_counts()"
   ]
  },
  {
   "cell_type": "markdown",
   "metadata": {},
   "source": [
    "* **Категоризация по семейному положению**\n",
    "\n",
    "Семейное положение можно упростить до двух категорий: женат / замужем и не женат / не замужем."
   ]
  },
  {
   "cell_type": "code",
   "execution_count": 17,
   "metadata": {},
   "outputs": [
    {
     "data": {
      "text/plain": [
       "женат / замужем          16490\n",
       "не женат / не замужем     4964\n",
       "Name: family_status_group, dtype: int64"
      ]
     },
     "execution_count": 17,
     "metadata": {},
     "output_type": "execute_result"
    }
   ],
   "source": [
    "#Категоризация столбца family_status\n",
    "def family_status_group(family_status_id):\n",
    "    if family_status_id <= 1:\n",
    "        return 'женат / замужем'\n",
    "    return 'не женат / не замужем'\n",
    "credit_scoring['family_status_group'] = credit_scoring['family_status_id'].apply(family_status_group)\n",
    "\n",
    "#Подсчет числа клиентов для котегорий семейного положения\n",
    "credit_scoring['family_status_group'].value_counts()"
   ]
  },
  {
   "cell_type": "markdown",
   "metadata": {},
   "source": [
    "* **Категоризация по общему доходу**\n",
    "\n",
    "Распределим значения общего дохода клиентов по трем категориям: \n",
    "1. низкий достаток (до 125 000)\n",
    "2. средний достаток (от 125 000 до 190 000)\n",
    "3. высокий достаток (более 190 000)"
   ]
  },
  {
   "cell_type": "code",
   "execution_count": 18,
   "metadata": {},
   "outputs": [
    {
     "data": {
      "text/plain": [
       "средний достаток    8335\n",
       "низкий достаток     7369\n",
       "высокий достаток    5750\n",
       "Name: total_income_group, dtype: int64"
      ]
     },
     "execution_count": 18,
     "metadata": {},
     "output_type": "execute_result"
    }
   ],
   "source": [
    "#Категоризация столбца total_income\n",
    "def total_income_group(total_income):\n",
    "    if total_income < 125000:\n",
    "        return 'низкий достаток'\n",
    "    if total_income < 190000:\n",
    "        return 'средний достаток'\n",
    "    return 'высокий достаток'\n",
    "credit_scoring['total_income_group'] = credit_scoring['total_income'].apply(total_income_group)\n",
    "\n",
    "#Подсчет числа клиентов для котегорий семейного положения\n",
    "credit_scoring['total_income_group'].value_counts()"
   ]
  },
  {
   "cell_type": "markdown",
   "metadata": {},
   "source": [
    "* **Категоризация по цели**\n",
    "\n",
    "Категории целей выбраны с учетом лемматизации прозведенной выше. Всего 4 категории: недвижимость, образование, свадьба и автомобиль."
   ]
  },
  {
   "cell_type": "code",
   "execution_count": 19,
   "metadata": {
    "scrolled": true
   },
   "outputs": [],
   "source": [
    "#Категоризация столбца purpose\n",
    "def purpose_group(purpose):\n",
    "    if 'недвижимост' in purpose:\n",
    "        return 'недвижимость'\n",
    "    if 'жил' in purpose:\n",
    "        return 'недвижимость'\n",
    "    if 'образован' in purpose:\n",
    "        return 'образование'\n",
    "    if 'свадьб' in purpose:\n",
    "        return 'свадьба'\n",
    "    if 'автомоб' in purpose:\n",
    "        return 'автомобиль'\n",
    "credit_scoring['purpose_group'] = credit_scoring['purpose'].apply(purpose_group)\n"
   ]
  },
  {
   "cell_type": "markdown",
   "metadata": {},
   "source": [
    "### Вывод"
   ]
  },
  {
   "cell_type": "markdown",
   "metadata": {},
   "source": [
    "Проведена категоризация важных для дальнейшего шага столбцов данных. Категоризация осуществлялось при помощи функции одной строки, где устанавливались условия для распределения определенных значений в нужную категорию. Для подачи на вход функции строк определенного столбца использовался метод apply()."
   ]
  },
  {
   "cell_type": "markdown",
   "metadata": {},
   "source": [
    "## Шаг 3. Ответьте на вопросы<a id=\"qustion\"></a> "
   ]
  },
  {
   "cell_type": "markdown",
   "metadata": {},
   "source": [
    "- Есть ли зависимость между наличием детей и возвратом кредита в срок?"
   ]
  },
  {
   "cell_type": "markdown",
   "metadata": {},
   "source": [
    "Методом pivot_table() произведём подсчет числа людей с долгом и без для каждой категории."
   ]
  },
  {
   "cell_type": "code",
   "execution_count": 20,
   "metadata": {
    "scrolled": false
   },
   "outputs": [
    {
     "data": {
      "text/html": [
       "<div>\n",
       "<style scoped>\n",
       "    .dataframe tbody tr th:only-of-type {\n",
       "        vertical-align: middle;\n",
       "    }\n",
       "\n",
       "    .dataframe tbody tr th {\n",
       "        vertical-align: top;\n",
       "    }\n",
       "\n",
       "    .dataframe thead th {\n",
       "        text-align: right;\n",
       "    }\n",
       "</style>\n",
       "<table border=\"1\" class=\"dataframe\">\n",
       "  <thead>\n",
       "    <tr style=\"text-align: right;\">\n",
       "      <th>debt</th>\n",
       "      <th>0</th>\n",
       "      <th>1</th>\n",
       "    </tr>\n",
       "    <tr>\n",
       "      <th>children_group</th>\n",
       "      <th></th>\n",
       "      <th></th>\n",
       "    </tr>\n",
       "  </thead>\n",
       "  <tbody>\n",
       "    <tr>\n",
       "      <td>без детей</td>\n",
       "      <td>13028</td>\n",
       "      <td>1063</td>\n",
       "    </tr>\n",
       "    <tr>\n",
       "      <td>с детьми</td>\n",
       "      <td>6685</td>\n",
       "      <td>678</td>\n",
       "    </tr>\n",
       "  </tbody>\n",
       "</table>\n",
       "</div>"
      ],
      "text/plain": [
       "debt                0     1\n",
       "children_group             \n",
       "без детей       13028  1063\n",
       "с детьми         6685   678"
      ]
     },
     "execution_count": 20,
     "metadata": {},
     "output_type": "execute_result"
    }
   ],
   "source": [
    "#Подсчет числа людей с долгом и без для каждой котегории\n",
    "children_vs_debt = credit_scoring.pivot_table(index=['children_group'], \n",
    "    columns= 'debt', values='children', aggfunc= 'count')\n",
    "children_vs_debt"
   ]
  },
  {
   "cell_type": "markdown",
   "metadata": {},
   "source": [
    "Для определения зависимости наличия детей на возврат кредита просчитаем долю задолжников каждой категории от общего числа заёмщиков в процентах."
   ]
  },
  {
   "cell_type": "code",
   "execution_count": 21,
   "metadata": {},
   "outputs": [
    {
     "data": {
      "text/plain": [
       "children_group\n",
       "без детей    14091\n",
       "с детьми      7363\n",
       "Name: debt, dtype: int64"
      ]
     },
     "execution_count": 21,
     "metadata": {},
     "output_type": "execute_result"
    }
   ],
   "source": [
    "#Посчитаем общее число заемщиков с детьми и без детей\n",
    "total_children = credit_scoring.groupby('children_group')['debt'].count()\n",
    "total_children"
   ]
  },
  {
   "cell_type": "code",
   "execution_count": 22,
   "metadata": {},
   "outputs": [
    {
     "data": {
      "text/plain": [
       "children_group\n",
       "без детей    7.543822\n",
       "с детьми     9.208203\n",
       "dtype: float64"
      ]
     },
     "execution_count": 22,
     "metadata": {},
     "output_type": "execute_result"
    }
   ],
   "source": [
    "#Доля задолжников от общего числа заёмщиков с детьми и без детей в процентах \n",
    "part_children = children_vs_debt[1]/total_children*100\n",
    "part_children"
   ]
  },
  {
   "cell_type": "markdown",
   "metadata": {},
   "source": [
    "### Вывод"
   ]
  },
  {
   "cell_type": "markdown",
   "metadata": {},
   "source": [
    "Из результатов исследования зависимости между наличием детей и возвратом кредита в срок следует, что доля должников с детьми примерно на 2% больше числа задолжников без детей, т.е. задолженность заёмщиков зависит от наличия детей."
   ]
  },
  {
   "cell_type": "code",
   "execution_count": 36,
   "metadata": {},
   "outputs": [
    {
     "data": {
      "text/html": [
       "<div>\n",
       "<style scoped>\n",
       "    .dataframe tbody tr th:only-of-type {\n",
       "        vertical-align: middle;\n",
       "    }\n",
       "\n",
       "    .dataframe tbody tr th {\n",
       "        vertical-align: top;\n",
       "    }\n",
       "\n",
       "    .dataframe thead tr th {\n",
       "        text-align: left;\n",
       "    }\n",
       "\n",
       "    .dataframe thead tr:last-of-type th {\n",
       "        text-align: right;\n",
       "    }\n",
       "</style>\n",
       "<table border=\"1\" class=\"dataframe\">\n",
       "  <thead>\n",
       "    <tr>\n",
       "      <th></th>\n",
       "      <th>count</th>\n",
       "      <th>sum</th>\n",
       "      <th>mean</th>\n",
       "    </tr>\n",
       "    <tr>\n",
       "      <th></th>\n",
       "      <th>debt</th>\n",
       "      <th>debt</th>\n",
       "      <th>debt</th>\n",
       "    </tr>\n",
       "    <tr>\n",
       "      <th>children_group</th>\n",
       "      <th></th>\n",
       "      <th></th>\n",
       "      <th></th>\n",
       "    </tr>\n",
       "  </thead>\n",
       "  <tbody>\n",
       "    <tr>\n",
       "      <td>без детей</td>\n",
       "      <td>14091</td>\n",
       "      <td>1063</td>\n",
       "      <td>0.075438</td>\n",
       "    </tr>\n",
       "    <tr>\n",
       "      <td>с детьми</td>\n",
       "      <td>7363</td>\n",
       "      <td>678</td>\n",
       "      <td>0.092082</td>\n",
       "    </tr>\n",
       "  </tbody>\n",
       "</table>\n",
       "</div>"
      ],
      "text/plain": [
       "                count   sum      mean\n",
       "                 debt  debt      debt\n",
       "children_group                       \n",
       "без детей       14091  1063  0.075438\n",
       "с детьми         7363   678  0.092082"
      ]
     },
     "execution_count": 36,
     "metadata": {},
     "output_type": "execute_result"
    }
   ],
   "source": [
    "# Код ревьюера\n",
    "\n",
    "credit_scoring.pivot_table(index=['children_group'], \n",
    "    values='debt', aggfunc=['count', 'sum', 'mean'])"
   ]
  },
  {
   "cell_type": "markdown",
   "metadata": {},
   "source": [
    "- Есть ли зависимость между семейным положением и возвратом кредита в срок?"
   ]
  },
  {
   "cell_type": "code",
   "execution_count": 23,
   "metadata": {},
   "outputs": [
    {
     "data": {
      "text/html": [
       "<div>\n",
       "<style scoped>\n",
       "    .dataframe tbody tr th:only-of-type {\n",
       "        vertical-align: middle;\n",
       "    }\n",
       "\n",
       "    .dataframe tbody tr th {\n",
       "        vertical-align: top;\n",
       "    }\n",
       "\n",
       "    .dataframe thead th {\n",
       "        text-align: right;\n",
       "    }\n",
       "</style>\n",
       "<table border=\"1\" class=\"dataframe\">\n",
       "  <thead>\n",
       "    <tr style=\"text-align: right;\">\n",
       "      <th>debt</th>\n",
       "      <th>0</th>\n",
       "      <th>1</th>\n",
       "    </tr>\n",
       "    <tr>\n",
       "      <th>family_status_group</th>\n",
       "      <th></th>\n",
       "      <th></th>\n",
       "    </tr>\n",
       "  </thead>\n",
       "  <tbody>\n",
       "    <tr>\n",
       "      <td>женат / замужем</td>\n",
       "      <td>15171</td>\n",
       "      <td>1319</td>\n",
       "    </tr>\n",
       "    <tr>\n",
       "      <td>не женат / не замужем</td>\n",
       "      <td>4542</td>\n",
       "      <td>422</td>\n",
       "    </tr>\n",
       "  </tbody>\n",
       "</table>\n",
       "</div>"
      ],
      "text/plain": [
       "debt                       0     1\n",
       "family_status_group               \n",
       "женат / замужем        15171  1319\n",
       "не женат / не замужем   4542   422"
      ]
     },
     "execution_count": 23,
     "metadata": {},
     "output_type": "execute_result"
    }
   ],
   "source": [
    "#Подсчет числа людей с долгом и без для каждой котегории\n",
    "family_status_vs_debt = credit_scoring.pivot_table(index=['family_status_group'], \n",
    "    columns= 'debt', values='family_status', aggfunc= 'count')\n",
    "family_status_vs_debt"
   ]
  },
  {
   "cell_type": "code",
   "execution_count": 24,
   "metadata": {},
   "outputs": [
    {
     "data": {
      "text/plain": [
       "family_status_group\n",
       "женат / замужем          16490\n",
       "не женат / не замужем     4964\n",
       "Name: debt, dtype: int64"
      ]
     },
     "execution_count": 24,
     "metadata": {},
     "output_type": "execute_result"
    }
   ],
   "source": [
    "#Посчитаем общее число заемщиков по категориям семейного положения\n",
    "total_family_status = credit_scoring.groupby('family_status_group')['debt'].count()\n",
    "total_family_status"
   ]
  },
  {
   "cell_type": "code",
   "execution_count": 25,
   "metadata": {},
   "outputs": [
    {
     "data": {
      "text/plain": [
       "family_status_group\n",
       "женат / замужем          7.998787\n",
       "не женат / не замужем    8.501209\n",
       "dtype: float64"
      ]
     },
     "execution_count": 25,
     "metadata": {},
     "output_type": "execute_result"
    }
   ],
   "source": [
    "#Доля задолжников от общего числа заёмщиков по категориям семейного положения в процентах \n",
    "part_family_status = family_status_vs_debt[1]/total_family_status*100\n",
    "part_family_status"
   ]
  },
  {
   "cell_type": "markdown",
   "metadata": {},
   "source": [
    "### Вывод"
   ]
  },
  {
   "cell_type": "markdown",
   "metadata": {},
   "source": [
    "По выведенным данным видно, что процент не женатых / не замужних немногим превышает процент женатых / замужних должников, следовательно, не возвратом кредита в срок чуть больше подвержены не женатые / не замужние люди."
   ]
  },
  {
   "cell_type": "markdown",
   "metadata": {},
   "source": [
    "- Есть ли зависимость между уровнем дохода и возвратом кредита в срок?"
   ]
  },
  {
   "cell_type": "code",
   "execution_count": 26,
   "metadata": {},
   "outputs": [
    {
     "data": {
      "text/html": [
       "<div>\n",
       "<style scoped>\n",
       "    .dataframe tbody tr th:only-of-type {\n",
       "        vertical-align: middle;\n",
       "    }\n",
       "\n",
       "    .dataframe tbody tr th {\n",
       "        vertical-align: top;\n",
       "    }\n",
       "\n",
       "    .dataframe thead th {\n",
       "        text-align: right;\n",
       "    }\n",
       "</style>\n",
       "<table border=\"1\" class=\"dataframe\">\n",
       "  <thead>\n",
       "    <tr style=\"text-align: right;\">\n",
       "      <th>debt</th>\n",
       "      <th>0</th>\n",
       "      <th>1</th>\n",
       "    </tr>\n",
       "    <tr>\n",
       "      <th>total_income_group</th>\n",
       "      <th></th>\n",
       "      <th></th>\n",
       "    </tr>\n",
       "  </thead>\n",
       "  <tbody>\n",
       "    <tr>\n",
       "      <td>высокий достаток</td>\n",
       "      <td>5332</td>\n",
       "      <td>418</td>\n",
       "    </tr>\n",
       "    <tr>\n",
       "      <td>низкий достаток</td>\n",
       "      <td>6761</td>\n",
       "      <td>608</td>\n",
       "    </tr>\n",
       "    <tr>\n",
       "      <td>средний достаток</td>\n",
       "      <td>7620</td>\n",
       "      <td>715</td>\n",
       "    </tr>\n",
       "  </tbody>\n",
       "</table>\n",
       "</div>"
      ],
      "text/plain": [
       "debt                   0    1\n",
       "total_income_group           \n",
       "высокий достаток    5332  418\n",
       "низкий достаток     6761  608\n",
       "средний достаток    7620  715"
      ]
     },
     "execution_count": 26,
     "metadata": {},
     "output_type": "execute_result"
    }
   ],
   "source": [
    "#Подсчет числа людей с долгом и без для каждой котегории\n",
    "total_income_vs_debt = credit_scoring.pivot_table(index=['total_income_group'], \n",
    "    columns= 'debt', values='total_income', aggfunc= 'count')\n",
    "total_income_vs_debt"
   ]
  },
  {
   "cell_type": "code",
   "execution_count": 27,
   "metadata": {},
   "outputs": [
    {
     "data": {
      "text/plain": [
       "total_income_group\n",
       "высокий достаток    5750\n",
       "низкий достаток     7369\n",
       "средний достаток    8335\n",
       "Name: debt, dtype: int64"
      ]
     },
     "execution_count": 27,
     "metadata": {},
     "output_type": "execute_result"
    }
   ],
   "source": [
    "#Посчитаем общее число заемщиков по категориям семейного положения\n",
    "total_total_income = credit_scoring.groupby('total_income_group')['debt'].count()\n",
    "total_total_income"
   ]
  },
  {
   "cell_type": "code",
   "execution_count": 28,
   "metadata": {},
   "outputs": [
    {
     "data": {
      "text/plain": [
       "total_income_group\n",
       "высокий достаток    7.269565\n",
       "низкий достаток     8.250780\n",
       "средний достаток    8.578284\n",
       "dtype: float64"
      ]
     },
     "execution_count": 28,
     "metadata": {},
     "output_type": "execute_result"
    }
   ],
   "source": [
    "#Доля задолжников от общего числа заёмщиков по категориям семейного положения в процентах \n",
    "part_total_income = total_income_vs_debt[1]/total_total_income*100\n",
    "part_total_income"
   ]
  },
  {
   "cell_type": "markdown",
   "metadata": {},
   "source": [
    "### Вывод"
   ]
  },
  {
   "cell_type": "markdown",
   "metadata": {},
   "source": [
    "По результатам видно, что лиди с высоким достатком гасят кредит чаще, чем люди со средним и низким достатком. Также процент людей с низким и средним достатком примерно равен."
   ]
  },
  {
   "cell_type": "markdown",
   "metadata": {},
   "source": [
    "- Как разные цели кредита влияют на его возврат в срок?"
   ]
  },
  {
   "cell_type": "code",
   "execution_count": 29,
   "metadata": {},
   "outputs": [
    {
     "data": {
      "text/html": [
       "<div>\n",
       "<style scoped>\n",
       "    .dataframe tbody tr th:only-of-type {\n",
       "        vertical-align: middle;\n",
       "    }\n",
       "\n",
       "    .dataframe tbody tr th {\n",
       "        vertical-align: top;\n",
       "    }\n",
       "\n",
       "    .dataframe thead th {\n",
       "        text-align: right;\n",
       "    }\n",
       "</style>\n",
       "<table border=\"1\" class=\"dataframe\">\n",
       "  <thead>\n",
       "    <tr style=\"text-align: right;\">\n",
       "      <th>debt</th>\n",
       "      <th>0</th>\n",
       "      <th>1</th>\n",
       "    </tr>\n",
       "    <tr>\n",
       "      <th>purpose_group</th>\n",
       "      <th></th>\n",
       "      <th></th>\n",
       "    </tr>\n",
       "  </thead>\n",
       "  <tbody>\n",
       "    <tr>\n",
       "      <td>автомобиль</td>\n",
       "      <td>3903</td>\n",
       "      <td>403</td>\n",
       "    </tr>\n",
       "    <tr>\n",
       "      <td>недвижимость</td>\n",
       "      <td>10029</td>\n",
       "      <td>782</td>\n",
       "    </tr>\n",
       "    <tr>\n",
       "      <td>образование</td>\n",
       "      <td>3643</td>\n",
       "      <td>370</td>\n",
       "    </tr>\n",
       "    <tr>\n",
       "      <td>свадьба</td>\n",
       "      <td>2138</td>\n",
       "      <td>186</td>\n",
       "    </tr>\n",
       "  </tbody>\n",
       "</table>\n",
       "</div>"
      ],
      "text/plain": [
       "debt               0    1\n",
       "purpose_group            \n",
       "автомобиль      3903  403\n",
       "недвижимость   10029  782\n",
       "образование     3643  370\n",
       "свадьба         2138  186"
      ]
     },
     "execution_count": 29,
     "metadata": {},
     "output_type": "execute_result"
    }
   ],
   "source": [
    "#Подсчет числа людей с долгом и без для каждой котегории\n",
    "purpose_vs_debt = credit_scoring.pivot_table(index=['purpose_group'], \n",
    "    columns= 'debt', values='purpose', aggfunc= 'count')\n",
    "purpose_vs_debt"
   ]
  },
  {
   "cell_type": "code",
   "execution_count": 30,
   "metadata": {},
   "outputs": [
    {
     "data": {
      "text/plain": [
       "purpose_group\n",
       "автомобиль       4306\n",
       "недвижимость    10811\n",
       "образование      4013\n",
       "свадьба          2324\n",
       "Name: debt, dtype: int64"
      ]
     },
     "execution_count": 30,
     "metadata": {},
     "output_type": "execute_result"
    }
   ],
   "source": [
    "#Посчитаем общее число заемщиков по категориям семейного положения\n",
    "total_purpose = credit_scoring.groupby('purpose_group')['debt'].count()\n",
    "total_purpose"
   ]
  },
  {
   "cell_type": "code",
   "execution_count": 31,
   "metadata": {},
   "outputs": [
    {
     "data": {
      "text/plain": [
       "purpose_group\n",
       "автомобиль      9.359034\n",
       "недвижимость    7.233373\n",
       "образование     9.220035\n",
       "свадьба         8.003442\n",
       "dtype: float64"
      ]
     },
     "execution_count": 31,
     "metadata": {},
     "output_type": "execute_result"
    }
   ],
   "source": [
    "#Доля задолжников от общего числа заёмщиков по категориям семейного положения в процентах \n",
    "part_purpose = purpose_vs_debt[1]/total_purpose*100\n",
    "part_purpose"
   ]
  },
  {
   "cell_type": "markdown",
   "metadata": {},
   "source": [
    "### Вывод"
   ]
  },
  {
   "cell_type": "markdown",
   "metadata": {},
   "source": [
    "По результатам исследования влияния разных целей на задолженность можно утверждать, что наибольшая доля должников среди людей выбравших в качестве цели кредита автомобиль и образование (9.4% и 9.2% соответственно), что на 1% больше доли должников потративших кредит на свадебные нужды (8.0%) и на 2% больше людей выбравших целью кредита недвижимость (7.2%)."
   ]
  },
  {
   "cell_type": "markdown",
   "metadata": {},
   "source": [
    "## Шаг 4. Общий вывод<a id=\"conclusion\"></a> "
   ]
  },
  {
   "cell_type": "markdown",
   "metadata": {},
   "source": [
    "В ходе выполнения проекта было произведено исследование надёжности заёмщиков и выявлено влияние наличия детей, семейного положения, уровня дохода и различных целей клиента на погашение кредита в срок.\n",
    "\n",
    "Перед проведением исследования данных, также было произведено первичное изучение файла, в ходе которого выявлены пропуски, отрицательные значения, различия типов данных и различия регистра в написании слов. При дальнейшей предобработки данных осуществлены следующие действия:\n",
    "* выявлены пропуски данных в столбцах days_employed и total_income и заменены их медианами;\n",
    "* значения типов данных столбцов days_employed и total_income переведены из float в int;\n",
    "* обнаружены и удалены все дубликаты;\n",
    "* произведена лемматизация целей кредита;\n",
    "* выполнена категоризация данных по установленным условиям распределения важных для исследования столбцов (children, family_status_id, total_income и purpose).\n",
    "\n",
    "При проведении исследований сделаны следующие выводы:\n",
    "1. Наличие детей у заёмщика влияет на погашения кредита в срок. Доля должников с детьми - 7.5%, без детей - 9.2%;\n",
    "2. Статус семейного положения незначительно влияет на факт задолженности. Доля должников женатых / замужних - 8.0%, не женатых / не замужемних - 8.5%;\n",
    "3. Существует зависимость низкого и среднего уровня дохода по отношению к высокому уровню дохода и возврата кредита в срок. Между низким и средним уровнем дохода зависимости нет. Доля должников с высоким достатком - 7.3%, со средним достатком - 8.6%, с низким достатком - 8.3%;\n",
    "4. Различные цели получения кредита также влияют на его погашение. Доля должников с целью автомобиль - 9.4%, образование - 9.2%, свадьба - свадьба 8.0% и недвижимость - 7.2%."
   ]
  }
 ],
 "metadata": {
  "kernelspec": {
   "display_name": "Python 3 (ipykernel)",
   "language": "python",
   "name": "python3"
  },
  "language_info": {
   "codemirror_mode": {
    "name": "ipython",
    "version": 3
   },
   "file_extension": ".py",
   "mimetype": "text/x-python",
   "name": "python",
   "nbconvert_exporter": "python",
   "pygments_lexer": "ipython3",
   "version": "3.11.5"
  },
  "toc": {
   "base_numbering": "1",
   "nav_menu": {
    "height": "434px",
    "width": "506px"
   },
   "number_sections": false,
   "sideBar": true,
   "skip_h1_title": false,
   "title_cell": "Table of Contents",
   "title_sidebar": "Contents",
   "toc_cell": false,
   "toc_position": {},
   "toc_section_display": true,
   "toc_window_display": false
  }
 },
 "nbformat": 4,
 "nbformat_minor": 2
}
