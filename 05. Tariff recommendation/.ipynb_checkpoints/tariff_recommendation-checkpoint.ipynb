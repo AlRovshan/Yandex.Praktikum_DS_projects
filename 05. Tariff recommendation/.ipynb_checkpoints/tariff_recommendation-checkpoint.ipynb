{
 "cells": [
  {
   "cell_type": "markdown",
   "metadata": {},
   "source": [
    "# Рекомендация тарифов"
   ]
  },
  {
   "cell_type": "markdown",
   "metadata": {},
   "source": [
    "В нашем распоряжении данные о поведении клиентов, которые уже перешли на эти тарифы (из проекта курса «Статистический анализ данных»). Изучаемый фаил состоит из данных о числа совершенных звонков, длительности разговоров, числа отправленных сообщений, потраченном интернет-трафике и пользуется ли клиент тарифом ultra.  Предобработка данных уже сделана ранее. \n",
    "\n",
    "Целью проекта явлется построить модель для задачи классификации, которая выберет подходящий тариф. Для выполнения данной цели необходимо сделать следующие задачи:\n",
    "\n",
    "* Открыть файл с данными и изучите его.\n",
    "* Разделение исходных данных на обучающую, валидационную и тестовую выборки;\n",
    "* Исследованние качества разных моделей, меняя гиперпараметры. Необхадимо довести долю правильных ответов accuracy по крайней мере до 0.75;\n",
    "* Проверка качества модели на тестовой выборке.\n"
   ]
  },
  {
   "cell_type": "markdown",
   "metadata": {},
   "source": [
    "## Открытие файлов"
   ]
  },
  {
   "cell_type": "code",
   "execution_count": 1,
   "metadata": {},
   "outputs": [],
   "source": [
    "#Открытие библиотек\n",
    "import warnings\n",
    "warnings.filterwarnings('ignore')\n",
    "import pandas as pd\n",
    "import numpy as np\n",
    "import seaborn as sns\n",
    "import matplotlib.pyplot as plt\n",
    "from sklearn.tree import DecisionTreeClassifier\n",
    "from sklearn.ensemble import RandomForestClassifier\n",
    "from sklearn.linear_model import LogisticRegression\n",
    "from sklearn.model_selection import train_test_split\n",
    "from sklearn.metrics import mean_squared_error\n",
    "import itertools\n",
    "from itertools import product\n",
    "from sklearn.metrics import confusion_matrix\n",
    "from sklearn.metrics import roc_curve, roc_auc_score\n",
    "from sklearn.metrics import classification_report"
   ]
  },
  {
   "cell_type": "code",
   "execution_count": 2,
   "metadata": {},
   "outputs": [],
   "source": [
    "#Открытие файла\n",
    "df_users_behavior = pd.read_csv('/datasets/users_behavior.csv')"
   ]
  },
  {
   "cell_type": "code",
   "execution_count": 3,
   "metadata": {},
   "outputs": [
    {
     "data": {
      "text/html": [
       "<div>\n",
       "<style scoped>\n",
       "    .dataframe tbody tr th:only-of-type {\n",
       "        vertical-align: middle;\n",
       "    }\n",
       "\n",
       "    .dataframe tbody tr th {\n",
       "        vertical-align: top;\n",
       "    }\n",
       "\n",
       "    .dataframe thead th {\n",
       "        text-align: right;\n",
       "    }\n",
       "</style>\n",
       "<table border=\"1\" class=\"dataframe\">\n",
       "  <thead>\n",
       "    <tr style=\"text-align: right;\">\n",
       "      <th></th>\n",
       "      <th>calls</th>\n",
       "      <th>minutes</th>\n",
       "      <th>messages</th>\n",
       "      <th>mb_used</th>\n",
       "      <th>is_ultra</th>\n",
       "    </tr>\n",
       "  </thead>\n",
       "  <tbody>\n",
       "    <tr>\n",
       "      <td>0</td>\n",
       "      <td>40.0</td>\n",
       "      <td>311.90</td>\n",
       "      <td>83.0</td>\n",
       "      <td>19915.42</td>\n",
       "      <td>0</td>\n",
       "    </tr>\n",
       "    <tr>\n",
       "      <td>1</td>\n",
       "      <td>85.0</td>\n",
       "      <td>516.75</td>\n",
       "      <td>56.0</td>\n",
       "      <td>22696.96</td>\n",
       "      <td>0</td>\n",
       "    </tr>\n",
       "    <tr>\n",
       "      <td>2</td>\n",
       "      <td>77.0</td>\n",
       "      <td>467.66</td>\n",
       "      <td>86.0</td>\n",
       "      <td>21060.45</td>\n",
       "      <td>0</td>\n",
       "    </tr>\n",
       "    <tr>\n",
       "      <td>3</td>\n",
       "      <td>106.0</td>\n",
       "      <td>745.53</td>\n",
       "      <td>81.0</td>\n",
       "      <td>8437.39</td>\n",
       "      <td>1</td>\n",
       "    </tr>\n",
       "    <tr>\n",
       "      <td>4</td>\n",
       "      <td>66.0</td>\n",
       "      <td>418.74</td>\n",
       "      <td>1.0</td>\n",
       "      <td>14502.75</td>\n",
       "      <td>0</td>\n",
       "    </tr>\n",
       "  </tbody>\n",
       "</table>\n",
       "</div>"
      ],
      "text/plain": [
       "   calls  minutes  messages   mb_used  is_ultra\n",
       "0   40.0   311.90      83.0  19915.42         0\n",
       "1   85.0   516.75      56.0  22696.96         0\n",
       "2   77.0   467.66      86.0  21060.45         0\n",
       "3  106.0   745.53      81.0   8437.39         1\n",
       "4   66.0   418.74       1.0  14502.75         0"
      ]
     },
     "execution_count": 3,
     "metadata": {},
     "output_type": "execute_result"
    }
   ],
   "source": [
    "df_users_behavior.head()"
   ]
  },
  {
   "cell_type": "code",
   "execution_count": 4,
   "metadata": {},
   "outputs": [
    {
     "name": "stdout",
     "output_type": "stream",
     "text": [
      "<class 'pandas.core.frame.DataFrame'>\n",
      "RangeIndex: 3214 entries, 0 to 3213\n",
      "Data columns (total 5 columns):\n",
      "calls       3214 non-null float64\n",
      "minutes     3214 non-null float64\n",
      "messages    3214 non-null float64\n",
      "mb_used     3214 non-null float64\n",
      "is_ultra    3214 non-null int64\n",
      "dtypes: float64(4), int64(1)\n",
      "memory usage: 125.7 KB\n"
     ]
    }
   ],
   "source": [
    "df_users_behavior.info()"
   ]
  },
  {
   "cell_type": "markdown",
   "metadata": {},
   "source": [
    "В файле df_users_behavior критические проблемы не выявлены."
   ]
  },
  {
   "cell_type": "markdown",
   "metadata": {},
   "source": [
    "## Разделение данных на выборки"
   ]
  },
  {
   "cell_type": "code",
   "execution_count": 5,
   "metadata": {},
   "outputs": [],
   "source": [
    "features = df_users_behavior.drop(['is_ultra'], axis=1)\n",
    "target = df_users_behavior['is_ultra']\n",
    "\n",
    "#Выделение валидационной выборки\n",
    "features_train, features_valid, target_train, target_valid = (\n",
    "    train_test_split(features, target, test_size = 0.2, random_state=12345))\n",
    "\n",
    "#Выделение тестовой выборки\n",
    "features_train, features_test, target_train, target_test = (\n",
    "    train_test_split(features_train, target_train, test_size = 0.2, random_state=12345))"
   ]
  },
  {
   "cell_type": "markdown",
   "metadata": {},
   "source": [
    "В данном пункте произведено разделение данных на обучающую, валидационную и тестовую выборки в размере 60%, 20% и 20% соответсвенно."
   ]
  },
  {
   "cell_type": "markdown",
   "metadata": {},
   "source": [
    "## Исследование модели"
   ]
  },
  {
   "cell_type": "markdown",
   "metadata": {},
   "source": [
    "### Дерево решений\n"
   ]
  },
  {
   "cell_type": "code",
   "execution_count": 6,
   "metadata": {
    "scrolled": true
   },
   "outputs": [
    {
     "name": "stdout",
     "output_type": "stream",
     "text": [
      "accuracy наилучшей модели на валидационной выборке: 0.80\n",
      "глубина дерева: 7\n",
      "min_samples_leaf: 11\n",
      "min_samples_split: 2\n"
     ]
    }
   ],
   "source": [
    "best_result_depth = 0\n",
    "for depth in range(1,21):\n",
    "    for leaf in range(1,15):\n",
    "        for split in range(2, 5):\n",
    "            model_depth = DecisionTreeClassifier(random_state=12345, max_depth=depth, \n",
    "                                                 min_samples_leaf = leaf, min_samples_split = split)\n",
    "            model_depth.fit(features_train, target_train)\n",
    "            predictions_valid_depth = model_depth.predict(features_valid)\n",
    "            result_depth = model_depth.score(features_valid, target_valid)\n",
    "            if result_depth > best_result_depth:\n",
    "                best_result_depth = result_depth\n",
    "                best_depth = depth\n",
    "                best_leaf = leaf\n",
    "                best_split = split\n",
    "                best_model_depth = model_depth\n",
    "                \n",
    "print('accuracy наилучшей модели на валидационной выборке: {:.2f}'.format(best_result_depth))\n",
    "print('глубина дерева: {}'.format(best_depth))\n",
    "print('min_samples_leaf: {}'.format(best_leaf))\n",
    "print('min_samples_split: {}'.format(best_split))"
   ]
  },
  {
   "cell_type": "markdown",
   "metadata": {},
   "source": [
    "### Случайный лес"
   ]
  },
  {
   "cell_type": "code",
   "execution_count": 7,
   "metadata": {},
   "outputs": [
    {
     "name": "stdout",
     "output_type": "stream",
     "text": [
      "аccuracy наилучшей модели на валидационной выборке: 0.81\n",
      "число деревьев: 20\n",
      "Глубина дерева: 9\n",
      "min_samples_leaf: 12\n"
     ]
    }
   ],
   "source": [
    "best_result_est = 0\n",
    "for est in range(10,41,10):\n",
    "    for depth in range(1,11):\n",
    "        for leaf in range(1,15):\n",
    "            model_est = RandomForestClassifier(random_state=12345, n_estimators=est, max_depth=depth, min_samples_leaf = leaf)\n",
    "            model_est.fit(features_train, target_train)\n",
    "            predictions_valid_est = model_est.predict(features_valid)\n",
    "            result_est = model_est.score(features_valid, target_valid)\n",
    "            if result_est > best_result_est:\n",
    "                best_result_est = result_est\n",
    "                best_est = est\n",
    "                best_depth = depth\n",
    "                best_leaf = leaf\n",
    "                best_model_est = model_est\n",
    "                \n",
    "print('аccuracy наилучшей модели на валидационной выборке: {:.2f}'.format(best_result_est))\n",
    "print('число деревьев: {}'.format(best_est))\n",
    "print('Глубина дерева: {}'.format(best_depth))\n",
    "print('min_samples_leaf: {}'.format(best_leaf))"
   ]
  },
  {
   "cell_type": "markdown",
   "metadata": {},
   "source": [
    "### Логистическая регрессия"
   ]
  },
  {
   "cell_type": "code",
   "execution_count": 8,
   "metadata": {},
   "outputs": [
    {
     "name": "stdout",
     "output_type": "stream",
     "text": [
      "Accuracy модели логистической регрессии на валидационной выборке: 0.75\n",
      "penalty: l2\n",
      "solver: liblinear\n",
      "best_warm_start: True\n"
     ]
    }
   ],
   "source": [
    "best_result_reg = 0\n",
    "for penalty in {'l1', 'l2'}:\n",
    "    for solver in {'newton-cg', 'lbfgs', 'liblinear', 'sag', 'saga'}:\n",
    "        for warm_start in {'True', 'False'}:\n",
    "            model_regression = LogisticRegression(random_state=12345)\n",
    "            model_regression.fit(features_train,target_train)\n",
    "            result_reg = model_regression.score(features_valid,target_valid)\n",
    "            if result_reg > best_result_reg:\n",
    "                best_result_reg = result_reg\n",
    "                best_penalty = penalty\n",
    "                best_solver = solver\n",
    "                best_warm_start = warm_start\n",
    "                best_model_regression = model_regression\n",
    "                \n",
    "print('Accuracy модели логистической регрессии на валидационной выборке: {:.2f}'.format(best_result_reg))\n",
    "print('penalty: {}'.format(best_penalty))\n",
    "print('solver: {}'.format(best_solver))\n",
    "print('best_warm_start: {}'.format(best_warm_start))"
   ]
  },
  {
   "cell_type": "markdown",
   "metadata": {},
   "source": [
    "### Вывод"
   ]
  },
  {
   "cell_type": "markdown",
   "metadata": {},
   "source": [
    "В данном пукте для исследования моделей изменялись гиперпараметры, при этом для каждой модели были выбраны следующие гиперпараметры:\n",
    "\n",
    "* для модели дерева решения изменялись параметры max_depth от 1-го до 20-ти, min_samples_leaf от 1 до 14-ти и min_samples_split от 2-х до 4-х. Наилучшее значение accuracy данной модели равно 0.80\n",
    "* для модели Случайного леса изменялись параметры n_estimators от 1-ти до 40, max_depth от 1-го до 20-ти, min_samples_leaf от 1 до 14-ти. Наилучшее значение accuracy данной модели равно 0.81\n",
    "* для модели логистической регрессии я изменялись параметры penalty, solver и best_warm_start. Наилучшее значение accuracy данной модели равно 0.75\n"
   ]
  },
  {
   "cell_type": "markdown",
   "metadata": {},
   "source": [
    "## Проверка модели на тестовой выборке"
   ]
  },
  {
   "cell_type": "markdown",
   "metadata": {},
   "source": [
    "### Проверка модели дерева решений на тестовой выборке"
   ]
  },
  {
   "cell_type": "code",
   "execution_count": 9,
   "metadata": {},
   "outputs": [
    {
     "name": "stdout",
     "output_type": "stream",
     "text": [
      "Accuracy наилучшей модели на тетсовой выборке: 0.77\n"
     ]
    }
   ],
   "source": [
    "predictions_depth_test = best_model_depth.predict(features_test)\n",
    "result_depth_test = best_model_depth.score(features_test, target_test)\n",
    "print('Accuracy наилучшей модели на тетсовой выборке: {:.2f}'.format(result_depth_test))"
   ]
  },
  {
   "cell_type": "markdown",
   "metadata": {},
   "source": [
    "### Проверка модели случайного леса на тестовой выборке"
   ]
  },
  {
   "cell_type": "code",
   "execution_count": 10,
   "metadata": {},
   "outputs": [
    {
     "name": "stdout",
     "output_type": "stream",
     "text": [
      "Accuracy наилучшей модели на тетсовой выборке: 0.78\n"
     ]
    }
   ],
   "source": [
    "predictions_est_test = best_model_est.predict(features_test)\n",
    "result_est_test = best_model_est.score(features_test, target_test)\n",
    "print('Accuracy наилучшей модели на тетсовой выборке: {:.2f}'.format(result_est_test))"
   ]
  },
  {
   "cell_type": "markdown",
   "metadata": {},
   "source": [
    "### Проверка модели лигистической регрессии на тестовой выборке"
   ]
  },
  {
   "cell_type": "code",
   "execution_count": 11,
   "metadata": {},
   "outputs": [
    {
     "name": "stdout",
     "output_type": "stream",
     "text": [
      "Accuracy модели логистической регрессии на тетсовой выборке: 0.72\n"
     ]
    }
   ],
   "source": [
    "predictions_regression_test = best_model_regression.predict(features_test) \n",
    "result_regression_test = best_model_regression.score(features_test, target_test)\n",
    "print(\"Accuracy модели логистической регрессии на тетсовой выборке: {:.2f}\".format(result_regression_test))"
   ]
  },
  {
   "cell_type": "markdown",
   "metadata": {},
   "source": [
    "### Вывод"
   ]
  },
  {
   "cell_type": "markdown",
   "metadata": {},
   "source": [
    "При проверке моделей на тестовой выборке видно, что значение accuracy моделей валидационной и тестовой выборки немного отличаются, также можно утверждать, что модели не являются переобученными или недобученными."
   ]
  },
  {
   "cell_type": "markdown",
   "metadata": {},
   "source": [
    "## Проверка модели на адекватность"
   ]
  },
  {
   "cell_type": "code",
   "execution_count": 12,
   "metadata": {},
   "outputs": [
    {
     "name": "stdout",
     "output_type": "stream",
     "text": [
      "Confusion matrix, without normalization\n",
      "[[345   3]\n",
      " [141  26]]\n"
     ]
    },
    {
     "data": {
      "image/png": "[encoded data removed]",
      "text/plain": [
       "<Figure size 720x576 with 2 Axes>"
      ]
     },
     "metadata": {
      "needs_background": "light"
     },
     "output_type": "display_data"
    }
   ],
   "source": [
    "def plot_confusion_matrix(cm, classes,\n",
    "                          normalize=False,\n",
    "                          title='Confusion matrix',\n",
    "                          cmap=plt.cm.Blues):\n",
    "\n",
    "    plt.imshow(cm, interpolation='nearest', cmap=cmap)\n",
    "    plt.title(title)\n",
    "    plt.colorbar()\n",
    "    tick_marks = np.arange(len(classes))\n",
    "    plt.xticks(tick_marks, classes, rotation=45)\n",
    "    plt.yticks(tick_marks, classes)\n",
    "\n",
    "    if normalize:\n",
    "        cm = cm.astype('float') / cm.sum(axis=1)[:, np.newaxis]\n",
    "        print(\"Normalized confusion matrix\")\n",
    "    else:\n",
    "        print('Confusion matrix, without normalization')\n",
    "\n",
    "    print(cm)\n",
    "\n",
    "    thresh = cm.max() / 2.\n",
    "    for i, j in itertools.product(range(cm.shape[0]), range(cm.shape[1])):\n",
    "        plt.text(j, i, cm[i, j],\n",
    "                 horizontalalignment=\"center\",\n",
    "                 color=\"white\" if cm[i, j] > thresh else \"black\")\n",
    "\n",
    "    plt.tight_layout()\n",
    "    plt.ylabel('True label')\n",
    "    plt.xlabel('Predicted label')\n",
    "\n",
    "font = {'size' : 15}\n",
    "\n",
    "plt.rc('font', **font)\n",
    "\n",
    "cnf_matrix = confusion_matrix(target_test, best_model_regression.predict(features_test))\n",
    "plt.figure(figsize=(10, 8))\n",
    "plot_confusion_matrix(cnf_matrix, classes=['Non-churned', 'Churned'],\n",
    "                      title='Confusion matrix' + '\\n')\n",
    "plt.savefig(\"conf_matrix.png\")\n",
    "plt.show()"
   ]
  },
  {
   "cell_type": "markdown",
   "metadata": {},
   "source": [
    "По матрице ошибок (сonfusion matrix) видно распределение ошибочных и правильных ответов по модели логистической регрессии. Число ошибок 1-го рода TP = 3, т.е. относительно всей выборки число ошибок 1-го рода небольшое, что является хорошим показателем. При этом число FN = 141, следовательно, модель довольно часто определяет абонента с тарифом не Ultra, как тариф Ultra."
   ]
  },
  {
   "cell_type": "markdown",
   "metadata": {},
   "source": [
    "## Общие выводы\n",
    "\n"
   ]
  },
  {
   "cell_type": "markdown",
   "metadata": {},
   "source": [
    "В ходе выполнения проекта проведено исследование моделей.\n",
    "\n",
    "Для исследования моделей изменялись гиперпараметры, при этом для каждой модели посчитана метрика качества accuracy:\n",
    "\n",
    "* для модели дерева решения наилучшее значение accuracy равно 0.80\n",
    "* для модели случайного леса наилучшее значение accuracy равно 0.81\n",
    "* для модели логистической регрессии наилучшее значение accuracy равно 0.75\n",
    "\n",
    "При проверке моделей на тестовой выборке видно, что значение accuracy моделей валидационной и тестовой выборки немного отличаются, также можно утверждать, что модели не являются переобученными или недобученными.\n",
    "\n",
    "При проверке модели на адекватность выяснилось, что число ошибок 1-го рода TP = 3, т.е. относительно всей выборки число ошибок 1-го рода небольшое, что является хорошим показателем. При этом число FN = 141, следовательно, модель довольно часто определяет абонента с тарифом не Ultra, как тариф Ultra."
   ]
  }
 ],
 "metadata": {
  "kernelspec": {
   "display_name": "Python 3 (ipykernel)",
   "language": "python",
   "name": "python3"
  },
  "language_info": {
   "codemirror_mode": {
    "name": "ipython",
    "version": 3
   },
   "file_extension": ".py",
   "mimetype": "text/x-python",
   "name": "python",
   "nbconvert_exporter": "python",
   "pygments_lexer": "ipython3",
   "version": "3.11.5"
  },
  "toc": {
   "base_numbering": 1,
   "nav_menu": {},
   "number_sections": true,
   "sideBar": true,
   "skip_h1_title": true,
   "title_cell": "Table of Contents",
   "title_sidebar": "Contents",
   "toc_cell": false,
   "toc_position": {},
   "toc_section_display": true,
   "toc_window_display": false
  }
 },
 "nbformat": 4,
 "nbformat_minor": 2
}
