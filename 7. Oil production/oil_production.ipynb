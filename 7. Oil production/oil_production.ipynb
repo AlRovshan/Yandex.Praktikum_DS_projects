{
 "cells": [
  {
   "cell_type": "markdown",
   "metadata": {},
   "source": [
    "# Выбор локации для скважины"
   ]
  },
  {
   "cell_type": "markdown",
   "metadata": {},
   "source": [
    "Для нефтянной компании нужно решить, где бурить новую скважину.\n",
    "\n",
    "Вам предоставлены пробы нефти в трёх регионах: в каждом 10 000 месторождений, где измерили качество нефти и объём её запасов. Постройте модель машинного обучения, которая поможет определить регион, где добыча принесёт наибольшую прибыль. Проанализируйте возможную прибыль и риски техникой *Bootstrap.*\n",
    "\n",
    "Шаги для выбора локации:\n",
    "\n",
    "- В избранном регионе ищут месторождения, для каждого определяют значения признаков;\n",
    "- Строят модель и оценивают объём запасов;\n",
    "- Выбирают месторождения с самым высокими оценками значений. Количество месторождений зависит от бюджета компании и стоимости разработки одной скважины;\n",
    "- Прибыль равна суммарной прибыли отобранных месторождений."
   ]
  },
  {
   "cell_type": "markdown",
   "metadata": {},
   "source": [
    "## Загрузка и подготовка данных"
   ]
  },
  {
   "cell_type": "code",
   "execution_count": 1,
   "metadata": {},
   "outputs": [],
   "source": [
    "import pandas as pd\n",
    "import numpy as np\n",
    "import seaborn as sns\n",
    "import matplotlib.pyplot as plt \n",
    "from sklearn.model_selection import train_test_split\n",
    "from sklearn.linear_model import LinearRegression\n",
    "from sklearn.metrics import mean_squared_error"
   ]
  },
  {
   "cell_type": "markdown",
   "metadata": {},
   "source": [
    "### Открытие данных"
   ]
  },
  {
   "cell_type": "markdown",
   "metadata": {},
   "source": [
    "Данные геологоразведки 1-го региона"
   ]
  },
  {
   "cell_type": "code",
   "execution_count": 2,
   "metadata": {},
   "outputs": [
    {
     "data": {
      "text/html": [
       "<div>\n",
       "<style scoped>\n",
       "    .dataframe tbody tr th:only-of-type {\n",
       "        vertical-align: middle;\n",
       "    }\n",
       "\n",
       "    .dataframe tbody tr th {\n",
       "        vertical-align: top;\n",
       "    }\n",
       "\n",
       "    .dataframe thead th {\n",
       "        text-align: right;\n",
       "    }\n",
       "</style>\n",
       "<table border=\"1\" class=\"dataframe\">\n",
       "  <thead>\n",
       "    <tr style=\"text-align: right;\">\n",
       "      <th></th>\n",
       "      <th>id</th>\n",
       "      <th>f0</th>\n",
       "      <th>f1</th>\n",
       "      <th>f2</th>\n",
       "      <th>product</th>\n",
       "    </tr>\n",
       "  </thead>\n",
       "  <tbody>\n",
       "    <tr>\n",
       "      <td>0</td>\n",
       "      <td>txEyH</td>\n",
       "      <td>0.705745</td>\n",
       "      <td>-0.497823</td>\n",
       "      <td>1.221170</td>\n",
       "      <td>105.280062</td>\n",
       "    </tr>\n",
       "    <tr>\n",
       "      <td>1</td>\n",
       "      <td>2acmU</td>\n",
       "      <td>1.334711</td>\n",
       "      <td>-0.340164</td>\n",
       "      <td>4.365080</td>\n",
       "      <td>73.037750</td>\n",
       "    </tr>\n",
       "    <tr>\n",
       "      <td>2</td>\n",
       "      <td>409Wp</td>\n",
       "      <td>1.022732</td>\n",
       "      <td>0.151990</td>\n",
       "      <td>1.419926</td>\n",
       "      <td>85.265647</td>\n",
       "    </tr>\n",
       "    <tr>\n",
       "      <td>3</td>\n",
       "      <td>iJLyR</td>\n",
       "      <td>-0.032172</td>\n",
       "      <td>0.139033</td>\n",
       "      <td>2.978566</td>\n",
       "      <td>168.620776</td>\n",
       "    </tr>\n",
       "    <tr>\n",
       "      <td>4</td>\n",
       "      <td>Xdl7t</td>\n",
       "      <td>1.988431</td>\n",
       "      <td>0.155413</td>\n",
       "      <td>4.751769</td>\n",
       "      <td>154.036647</td>\n",
       "    </tr>\n",
       "  </tbody>\n",
       "</table>\n",
       "</div>"
      ],
      "text/plain": [
       "      id        f0        f1        f2     product\n",
       "0  txEyH  0.705745 -0.497823  1.221170  105.280062\n",
       "1  2acmU  1.334711 -0.340164  4.365080   73.037750\n",
       "2  409Wp  1.022732  0.151990  1.419926   85.265647\n",
       "3  iJLyR -0.032172  0.139033  2.978566  168.620776\n",
       "4  Xdl7t  1.988431  0.155413  4.751769  154.036647"
      ]
     },
     "execution_count": 2,
     "metadata": {},
     "output_type": "execute_result"
    }
   ],
   "source": [
    "df_0 = pd.read_csv('/datasets/geo_data_0.csv')\n",
    "df_0.head()"
   ]
  },
  {
   "cell_type": "code",
   "execution_count": 3,
   "metadata": {},
   "outputs": [
    {
     "name": "stdout",
     "output_type": "stream",
     "text": [
      "<class 'pandas.core.frame.DataFrame'>\n",
      "RangeIndex: 100000 entries, 0 to 99999\n",
      "Data columns (total 5 columns):\n",
      "id         100000 non-null object\n",
      "f0         100000 non-null float64\n",
      "f1         100000 non-null float64\n",
      "f2         100000 non-null float64\n",
      "product    100000 non-null float64\n",
      "dtypes: float64(4), object(1)\n",
      "memory usage: 9.0 MB\n"
     ]
    }
   ],
   "source": [
    "df_0.info(memory_usage='deep')"
   ]
  },
  {
   "cell_type": "code",
   "execution_count": 4,
   "metadata": {},
   "outputs": [
    {
     "data": {
      "text/html": [
       "<div>\n",
       "<style scoped>\n",
       "    .dataframe tbody tr th:only-of-type {\n",
       "        vertical-align: middle;\n",
       "    }\n",
       "\n",
       "    .dataframe tbody tr th {\n",
       "        vertical-align: top;\n",
       "    }\n",
       "\n",
       "    .dataframe thead th {\n",
       "        text-align: right;\n",
       "    }\n",
       "</style>\n",
       "<table border=\"1\" class=\"dataframe\">\n",
       "  <thead>\n",
       "    <tr style=\"text-align: right;\">\n",
       "      <th></th>\n",
       "      <th>f0</th>\n",
       "      <th>f1</th>\n",
       "      <th>f2</th>\n",
       "      <th>product</th>\n",
       "    </tr>\n",
       "  </thead>\n",
       "  <tbody>\n",
       "    <tr>\n",
       "      <td>count</td>\n",
       "      <td>100000.000000</td>\n",
       "      <td>100000.000000</td>\n",
       "      <td>100000.000000</td>\n",
       "      <td>100000.000000</td>\n",
       "    </tr>\n",
       "    <tr>\n",
       "      <td>mean</td>\n",
       "      <td>0.500419</td>\n",
       "      <td>0.250143</td>\n",
       "      <td>2.502647</td>\n",
       "      <td>92.500000</td>\n",
       "    </tr>\n",
       "    <tr>\n",
       "      <td>std</td>\n",
       "      <td>0.871832</td>\n",
       "      <td>0.504433</td>\n",
       "      <td>3.248248</td>\n",
       "      <td>44.288691</td>\n",
       "    </tr>\n",
       "    <tr>\n",
       "      <td>min</td>\n",
       "      <td>-1.408605</td>\n",
       "      <td>-0.848218</td>\n",
       "      <td>-12.088328</td>\n",
       "      <td>0.000000</td>\n",
       "    </tr>\n",
       "    <tr>\n",
       "      <td>25%</td>\n",
       "      <td>-0.072580</td>\n",
       "      <td>-0.200881</td>\n",
       "      <td>0.287748</td>\n",
       "      <td>56.497507</td>\n",
       "    </tr>\n",
       "    <tr>\n",
       "      <td>50%</td>\n",
       "      <td>0.502360</td>\n",
       "      <td>0.250252</td>\n",
       "      <td>2.515969</td>\n",
       "      <td>91.849972</td>\n",
       "    </tr>\n",
       "    <tr>\n",
       "      <td>75%</td>\n",
       "      <td>1.073581</td>\n",
       "      <td>0.700646</td>\n",
       "      <td>4.715088</td>\n",
       "      <td>128.564089</td>\n",
       "    </tr>\n",
       "    <tr>\n",
       "      <td>max</td>\n",
       "      <td>2.362331</td>\n",
       "      <td>1.343769</td>\n",
       "      <td>16.003790</td>\n",
       "      <td>185.364347</td>\n",
       "    </tr>\n",
       "  </tbody>\n",
       "</table>\n",
       "</div>"
      ],
      "text/plain": [
       "                  f0             f1             f2        product\n",
       "count  100000.000000  100000.000000  100000.000000  100000.000000\n",
       "mean        0.500419       0.250143       2.502647      92.500000\n",
       "std         0.871832       0.504433       3.248248      44.288691\n",
       "min        -1.408605      -0.848218     -12.088328       0.000000\n",
       "25%        -0.072580      -0.200881       0.287748      56.497507\n",
       "50%         0.502360       0.250252       2.515969      91.849972\n",
       "75%         1.073581       0.700646       4.715088     128.564089\n",
       "max         2.362331       1.343769      16.003790     185.364347"
      ]
     },
     "execution_count": 4,
     "metadata": {},
     "output_type": "execute_result"
    }
   ],
   "source": [
    "df_0.describe()"
   ]
  },
  {
   "cell_type": "code",
   "execution_count": 5,
   "metadata": {},
   "outputs": [
    {
     "data": {
      "image/png": "[encoded data removed]",
      "text/plain": [
       "<Figure size 864x504 with 1 Axes>"
      ]
     },
     "metadata": {
      "needs_background": "light"
     },
     "output_type": "display_data"
    }
   ],
   "source": [
    "plt.figure(figsize=(12,7))\n",
    "sns.distplot(df_0['product'], bins = 10)\n",
    "plt.grid()\n",
    "plt.suptitle('Объём запасов в скважинах 1-го региона'+ \"\\n\")\n",
    "plt.ylabel('Частота'+\"\\n\")\n",
    "plt.xlabel(\"\\n\"+'Объём (тыс. баррелей)')\n",
    "plt.show()"
   ]
  },
  {
   "cell_type": "markdown",
   "metadata": {},
   "source": [
    "Данные геологоразведки 2-го региона"
   ]
  },
  {
   "cell_type": "code",
   "execution_count": 6,
   "metadata": {},
   "outputs": [
    {
     "data": {
      "text/html": [
       "<div>\n",
       "<style scoped>\n",
       "    .dataframe tbody tr th:only-of-type {\n",
       "        vertical-align: middle;\n",
       "    }\n",
       "\n",
       "    .dataframe tbody tr th {\n",
       "        vertical-align: top;\n",
       "    }\n",
       "\n",
       "    .dataframe thead th {\n",
       "        text-align: right;\n",
       "    }\n",
       "</style>\n",
       "<table border=\"1\" class=\"dataframe\">\n",
       "  <thead>\n",
       "    <tr style=\"text-align: right;\">\n",
       "      <th></th>\n",
       "      <th>id</th>\n",
       "      <th>f0</th>\n",
       "      <th>f1</th>\n",
       "      <th>f2</th>\n",
       "      <th>product</th>\n",
       "    </tr>\n",
       "  </thead>\n",
       "  <tbody>\n",
       "    <tr>\n",
       "      <td>0</td>\n",
       "      <td>kBEdx</td>\n",
       "      <td>-15.001348</td>\n",
       "      <td>-8.276000</td>\n",
       "      <td>-0.005876</td>\n",
       "      <td>3.179103</td>\n",
       "    </tr>\n",
       "    <tr>\n",
       "      <td>1</td>\n",
       "      <td>62mP7</td>\n",
       "      <td>14.272088</td>\n",
       "      <td>-3.475083</td>\n",
       "      <td>0.999183</td>\n",
       "      <td>26.953261</td>\n",
       "    </tr>\n",
       "    <tr>\n",
       "      <td>2</td>\n",
       "      <td>vyE1P</td>\n",
       "      <td>6.263187</td>\n",
       "      <td>-5.948386</td>\n",
       "      <td>5.001160</td>\n",
       "      <td>134.766305</td>\n",
       "    </tr>\n",
       "    <tr>\n",
       "      <td>3</td>\n",
       "      <td>KcrkZ</td>\n",
       "      <td>-13.081196</td>\n",
       "      <td>-11.506057</td>\n",
       "      <td>4.999415</td>\n",
       "      <td>137.945408</td>\n",
       "    </tr>\n",
       "    <tr>\n",
       "      <td>4</td>\n",
       "      <td>AHL4O</td>\n",
       "      <td>12.702195</td>\n",
       "      <td>-8.147433</td>\n",
       "      <td>5.004363</td>\n",
       "      <td>134.766305</td>\n",
       "    </tr>\n",
       "  </tbody>\n",
       "</table>\n",
       "</div>"
      ],
      "text/plain": [
       "      id         f0         f1        f2     product\n",
       "0  kBEdx -15.001348  -8.276000 -0.005876    3.179103\n",
       "1  62mP7  14.272088  -3.475083  0.999183   26.953261\n",
       "2  vyE1P   6.263187  -5.948386  5.001160  134.766305\n",
       "3  KcrkZ -13.081196 -11.506057  4.999415  137.945408\n",
       "4  AHL4O  12.702195  -8.147433  5.004363  134.766305"
      ]
     },
     "execution_count": 6,
     "metadata": {},
     "output_type": "execute_result"
    }
   ],
   "source": [
    "df_1 = pd.read_csv('/datasets/geo_data_1.csv')\n",
    "df_1.head()"
   ]
  },
  {
   "cell_type": "code",
   "execution_count": 7,
   "metadata": {},
   "outputs": [
    {
     "name": "stdout",
     "output_type": "stream",
     "text": [
      "<class 'pandas.core.frame.DataFrame'>\n",
      "RangeIndex: 100000 entries, 0 to 99999\n",
      "Data columns (total 5 columns):\n",
      "id         100000 non-null object\n",
      "f0         100000 non-null float64\n",
      "f1         100000 non-null float64\n",
      "f2         100000 non-null float64\n",
      "product    100000 non-null float64\n",
      "dtypes: float64(4), object(1)\n",
      "memory usage: 9.0 MB\n"
     ]
    }
   ],
   "source": [
    "df_1.info(memory_usage='deep')"
   ]
  },
  {
   "cell_type": "code",
   "execution_count": 8,
   "metadata": {},
   "outputs": [
    {
     "data": {
      "text/html": [
       "<div>\n",
       "<style scoped>\n",
       "    .dataframe tbody tr th:only-of-type {\n",
       "        vertical-align: middle;\n",
       "    }\n",
       "\n",
       "    .dataframe tbody tr th {\n",
       "        vertical-align: top;\n",
       "    }\n",
       "\n",
       "    .dataframe thead th {\n",
       "        text-align: right;\n",
       "    }\n",
       "</style>\n",
       "<table border=\"1\" class=\"dataframe\">\n",
       "  <thead>\n",
       "    <tr style=\"text-align: right;\">\n",
       "      <th></th>\n",
       "      <th>f0</th>\n",
       "      <th>f1</th>\n",
       "      <th>f2</th>\n",
       "      <th>product</th>\n",
       "    </tr>\n",
       "  </thead>\n",
       "  <tbody>\n",
       "    <tr>\n",
       "      <td>count</td>\n",
       "      <td>100000.000000</td>\n",
       "      <td>100000.000000</td>\n",
       "      <td>100000.000000</td>\n",
       "      <td>100000.000000</td>\n",
       "    </tr>\n",
       "    <tr>\n",
       "      <td>mean</td>\n",
       "      <td>1.141296</td>\n",
       "      <td>-4.796579</td>\n",
       "      <td>2.494541</td>\n",
       "      <td>68.825000</td>\n",
       "    </tr>\n",
       "    <tr>\n",
       "      <td>std</td>\n",
       "      <td>8.965932</td>\n",
       "      <td>5.119872</td>\n",
       "      <td>1.703572</td>\n",
       "      <td>45.944423</td>\n",
       "    </tr>\n",
       "    <tr>\n",
       "      <td>min</td>\n",
       "      <td>-31.609576</td>\n",
       "      <td>-26.358598</td>\n",
       "      <td>-0.018144</td>\n",
       "      <td>0.000000</td>\n",
       "    </tr>\n",
       "    <tr>\n",
       "      <td>25%</td>\n",
       "      <td>-6.298551</td>\n",
       "      <td>-8.267985</td>\n",
       "      <td>1.000021</td>\n",
       "      <td>26.953261</td>\n",
       "    </tr>\n",
       "    <tr>\n",
       "      <td>50%</td>\n",
       "      <td>1.153055</td>\n",
       "      <td>-4.813172</td>\n",
       "      <td>2.011479</td>\n",
       "      <td>57.085625</td>\n",
       "    </tr>\n",
       "    <tr>\n",
       "      <td>75%</td>\n",
       "      <td>8.621015</td>\n",
       "      <td>-1.332816</td>\n",
       "      <td>3.999904</td>\n",
       "      <td>107.813044</td>\n",
       "    </tr>\n",
       "    <tr>\n",
       "      <td>max</td>\n",
       "      <td>29.421755</td>\n",
       "      <td>18.734063</td>\n",
       "      <td>5.019721</td>\n",
       "      <td>137.945408</td>\n",
       "    </tr>\n",
       "  </tbody>\n",
       "</table>\n",
       "</div>"
      ],
      "text/plain": [
       "                  f0             f1             f2        product\n",
       "count  100000.000000  100000.000000  100000.000000  100000.000000\n",
       "mean        1.141296      -4.796579       2.494541      68.825000\n",
       "std         8.965932       5.119872       1.703572      45.944423\n",
       "min       -31.609576     -26.358598      -0.018144       0.000000\n",
       "25%        -6.298551      -8.267985       1.000021      26.953261\n",
       "50%         1.153055      -4.813172       2.011479      57.085625\n",
       "75%         8.621015      -1.332816       3.999904     107.813044\n",
       "max        29.421755      18.734063       5.019721     137.945408"
      ]
     },
     "execution_count": 8,
     "metadata": {},
     "output_type": "execute_result"
    }
   ],
   "source": [
    "df_1.describe()"
   ]
  },
  {
   "cell_type": "code",
   "execution_count": 9,
   "metadata": {},
   "outputs": [
    {
     "data": {
      "image/png": "[encoded data removed]",
      "text/plain": [
       "<Figure size 864x504 with 1 Axes>"
      ]
     },
     "metadata": {
      "needs_background": "light"
     },
     "output_type": "display_data"
    }
   ],
   "source": [
    "plt.figure(figsize=(12,7))\n",
    "sns.distplot(df_1['product'], bins = 10)\n",
    "plt.grid()\n",
    "plt.suptitle('Объём запасов в скважинах 2-го региона'+ \"\\n\")\n",
    "plt.ylabel('Частота'+\"\\n\")\n",
    "plt.xlabel(\"\\n\"+'Объём (тыс. баррелей)')\n",
    "plt.show()"
   ]
  },
  {
   "cell_type": "markdown",
   "metadata": {},
   "source": [
    "В значениях объема запасов сырья второго региона обнаржены всплески нулевых значений (8235 нулей, что составляет 8% от общего числа скважен) и вспелск значений объема 137.95, общее число которых равно 8233. Удаление этих всплесков не влияет на разельтаты модели. Можно утверждать, что распределение второй таблицы равномерное или прямоугольное."
   ]
  },
  {
   "cell_type": "markdown",
   "metadata": {},
   "source": [
    "Данные геологоразведки 3-го региона"
   ]
  },
  {
   "cell_type": "code",
   "execution_count": 10,
   "metadata": {},
   "outputs": [
    {
     "data": {
      "text/html": [
       "<div>\n",
       "<style scoped>\n",
       "    .dataframe tbody tr th:only-of-type {\n",
       "        vertical-align: middle;\n",
       "    }\n",
       "\n",
       "    .dataframe tbody tr th {\n",
       "        vertical-align: top;\n",
       "    }\n",
       "\n",
       "    .dataframe thead th {\n",
       "        text-align: right;\n",
       "    }\n",
       "</style>\n",
       "<table border=\"1\" class=\"dataframe\">\n",
       "  <thead>\n",
       "    <tr style=\"text-align: right;\">\n",
       "      <th></th>\n",
       "      <th>id</th>\n",
       "      <th>f0</th>\n",
       "      <th>f1</th>\n",
       "      <th>f2</th>\n",
       "      <th>product</th>\n",
       "    </tr>\n",
       "  </thead>\n",
       "  <tbody>\n",
       "    <tr>\n",
       "      <td>0</td>\n",
       "      <td>fwXo0</td>\n",
       "      <td>-1.146987</td>\n",
       "      <td>0.963328</td>\n",
       "      <td>-0.828965</td>\n",
       "      <td>27.758673</td>\n",
       "    </tr>\n",
       "    <tr>\n",
       "      <td>1</td>\n",
       "      <td>WJtFt</td>\n",
       "      <td>0.262778</td>\n",
       "      <td>0.269839</td>\n",
       "      <td>-2.530187</td>\n",
       "      <td>56.069697</td>\n",
       "    </tr>\n",
       "    <tr>\n",
       "      <td>2</td>\n",
       "      <td>ovLUW</td>\n",
       "      <td>0.194587</td>\n",
       "      <td>0.289035</td>\n",
       "      <td>-5.586433</td>\n",
       "      <td>62.871910</td>\n",
       "    </tr>\n",
       "    <tr>\n",
       "      <td>3</td>\n",
       "      <td>q6cA6</td>\n",
       "      <td>2.236060</td>\n",
       "      <td>-0.553760</td>\n",
       "      <td>0.930038</td>\n",
       "      <td>114.572842</td>\n",
       "    </tr>\n",
       "    <tr>\n",
       "      <td>4</td>\n",
       "      <td>WPMUX</td>\n",
       "      <td>-0.515993</td>\n",
       "      <td>1.716266</td>\n",
       "      <td>5.899011</td>\n",
       "      <td>149.600746</td>\n",
       "    </tr>\n",
       "  </tbody>\n",
       "</table>\n",
       "</div>"
      ],
      "text/plain": [
       "      id        f0        f1        f2     product\n",
       "0  fwXo0 -1.146987  0.963328 -0.828965   27.758673\n",
       "1  WJtFt  0.262778  0.269839 -2.530187   56.069697\n",
       "2  ovLUW  0.194587  0.289035 -5.586433   62.871910\n",
       "3  q6cA6  2.236060 -0.553760  0.930038  114.572842\n",
       "4  WPMUX -0.515993  1.716266  5.899011  149.600746"
      ]
     },
     "execution_count": 10,
     "metadata": {},
     "output_type": "execute_result"
    }
   ],
   "source": [
    "df_2 = pd.read_csv('/datasets/geo_data_2.csv')\n",
    "df_2.head()"
   ]
  },
  {
   "cell_type": "code",
   "execution_count": 11,
   "metadata": {},
   "outputs": [
    {
     "name": "stdout",
     "output_type": "stream",
     "text": [
      "<class 'pandas.core.frame.DataFrame'>\n",
      "RangeIndex: 100000 entries, 0 to 99999\n",
      "Data columns (total 5 columns):\n",
      "id         100000 non-null object\n",
      "f0         100000 non-null float64\n",
      "f1         100000 non-null float64\n",
      "f2         100000 non-null float64\n",
      "product    100000 non-null float64\n",
      "dtypes: float64(4), object(1)\n",
      "memory usage: 9.0 MB\n"
     ]
    }
   ],
   "source": [
    "df_2.info(memory_usage='deep')"
   ]
  },
  {
   "cell_type": "code",
   "execution_count": 12,
   "metadata": {},
   "outputs": [
    {
     "data": {
      "text/html": [
       "<div>\n",
       "<style scoped>\n",
       "    .dataframe tbody tr th:only-of-type {\n",
       "        vertical-align: middle;\n",
       "    }\n",
       "\n",
       "    .dataframe tbody tr th {\n",
       "        vertical-align: top;\n",
       "    }\n",
       "\n",
       "    .dataframe thead th {\n",
       "        text-align: right;\n",
       "    }\n",
       "</style>\n",
       "<table border=\"1\" class=\"dataframe\">\n",
       "  <thead>\n",
       "    <tr style=\"text-align: right;\">\n",
       "      <th></th>\n",
       "      <th>f0</th>\n",
       "      <th>f1</th>\n",
       "      <th>f2</th>\n",
       "      <th>product</th>\n",
       "    </tr>\n",
       "  </thead>\n",
       "  <tbody>\n",
       "    <tr>\n",
       "      <td>count</td>\n",
       "      <td>100000.000000</td>\n",
       "      <td>100000.000000</td>\n",
       "      <td>100000.000000</td>\n",
       "      <td>100000.000000</td>\n",
       "    </tr>\n",
       "    <tr>\n",
       "      <td>mean</td>\n",
       "      <td>0.002023</td>\n",
       "      <td>-0.002081</td>\n",
       "      <td>2.495128</td>\n",
       "      <td>95.000000</td>\n",
       "    </tr>\n",
       "    <tr>\n",
       "      <td>std</td>\n",
       "      <td>1.732045</td>\n",
       "      <td>1.730417</td>\n",
       "      <td>3.473445</td>\n",
       "      <td>44.749921</td>\n",
       "    </tr>\n",
       "    <tr>\n",
       "      <td>min</td>\n",
       "      <td>-8.760004</td>\n",
       "      <td>-7.084020</td>\n",
       "      <td>-11.970335</td>\n",
       "      <td>0.000000</td>\n",
       "    </tr>\n",
       "    <tr>\n",
       "      <td>25%</td>\n",
       "      <td>-1.162288</td>\n",
       "      <td>-1.174820</td>\n",
       "      <td>0.130359</td>\n",
       "      <td>59.450441</td>\n",
       "    </tr>\n",
       "    <tr>\n",
       "      <td>50%</td>\n",
       "      <td>0.009424</td>\n",
       "      <td>-0.009482</td>\n",
       "      <td>2.484236</td>\n",
       "      <td>94.925613</td>\n",
       "    </tr>\n",
       "    <tr>\n",
       "      <td>75%</td>\n",
       "      <td>1.158535</td>\n",
       "      <td>1.163678</td>\n",
       "      <td>4.858794</td>\n",
       "      <td>130.595027</td>\n",
       "    </tr>\n",
       "    <tr>\n",
       "      <td>max</td>\n",
       "      <td>7.238262</td>\n",
       "      <td>7.844801</td>\n",
       "      <td>16.739402</td>\n",
       "      <td>190.029838</td>\n",
       "    </tr>\n",
       "  </tbody>\n",
       "</table>\n",
       "</div>"
      ],
      "text/plain": [
       "                  f0             f1             f2        product\n",
       "count  100000.000000  100000.000000  100000.000000  100000.000000\n",
       "mean        0.002023      -0.002081       2.495128      95.000000\n",
       "std         1.732045       1.730417       3.473445      44.749921\n",
       "min        -8.760004      -7.084020     -11.970335       0.000000\n",
       "25%        -1.162288      -1.174820       0.130359      59.450441\n",
       "50%         0.009424      -0.009482       2.484236      94.925613\n",
       "75%         1.158535       1.163678       4.858794     130.595027\n",
       "max         7.238262       7.844801      16.739402     190.029838"
      ]
     },
     "execution_count": 12,
     "metadata": {},
     "output_type": "execute_result"
    }
   ],
   "source": [
    "df_2.describe()"
   ]
  },
  {
   "cell_type": "code",
   "execution_count": 13,
   "metadata": {},
   "outputs": [
    {
     "data": {
      "image/png": "[encoded data removed]",
      "text/plain": [
       "<Figure size 864x504 with 1 Axes>"
      ]
     },
     "metadata": {
      "needs_background": "light"
     },
     "output_type": "display_data"
    }
   ],
   "source": [
    "plt.figure(figsize=(12,7))\n",
    "sns.distplot(df_2['product'], bins = 10)\n",
    "plt.grid()\n",
    "plt.suptitle('Объём запасов в скважинах 3-го региона'+ \"\\n\")\n",
    "plt.ylabel('Частота'+\"\\n\")\n",
    "plt.xlabel(\"\\n\"+'Объём (тыс. баррелей)')\n",
    "plt.show()"
   ]
  },
  {
   "cell_type": "markdown",
   "metadata": {},
   "source": [
    "Во всех трех таблицах удалим столбец id, т.к. не будет использоваться в дальнейших моделях "
   ]
  },
  {
   "cell_type": "code",
   "execution_count": 14,
   "metadata": {},
   "outputs": [],
   "source": [
    "#Удаления столбца id во всех таблицах\n",
    "df_0.drop('id', axis=1, inplace=True)\n",
    "df_1.drop('id', axis=1, inplace=True)\n",
    "df_2.drop('id', axis=1, inplace=True)"
   ]
  },
  {
   "cell_type": "markdown",
   "metadata": {},
   "source": [
    "Оптимизируем размеры данных типа float во всех таблицах"
   ]
  },
  {
   "cell_type": "code",
   "execution_count": 15,
   "metadata": {},
   "outputs": [
    {
     "name": "stdout",
     "output_type": "stream",
     "text": [
      "<class 'pandas.core.frame.DataFrame'>\n",
      "RangeIndex: 100000 entries, 0 to 99999\n",
      "Columns: 4 entries, f0 to product\n",
      "dtypes: float32(4)\n",
      "memory usage: 1.5 MB\n"
     ]
    }
   ],
   "source": [
    "converted_float = df_0.select_dtypes(include=['float']).apply(pd.to_numeric,downcast='float')\n",
    "df_0[converted_float.columns] = converted_float\n",
    "df_0.info(verbose=False, memory_usage='deep')"
   ]
  },
  {
   "cell_type": "code",
   "execution_count": 25,
   "metadata": {},
   "outputs": [
    {
     "name": "stdout",
     "output_type": "stream",
     "text": [
      "<class 'pandas.core.frame.DataFrame'>\n",
      "RangeIndex: 100000 entries, 0 to 99999\n",
      "Columns: 4 entries, f0 to product\n",
      "dtypes: float32(4)\n",
      "memory usage: 1.5 MB\n"
     ]
    }
   ],
   "source": [
    "df_0.info(verbose=False, memory_usage='deep')"
   ]
  },
  {
   "cell_type": "code",
   "execution_count": 16,
   "metadata": {},
   "outputs": [
    {
     "name": "stdout",
     "output_type": "stream",
     "text": [
      "<class 'pandas.core.frame.DataFrame'>\n",
      "RangeIndex: 100000 entries, 0 to 99999\n",
      "Columns: 4 entries, f0 to product\n",
      "dtypes: float32(4)\n",
      "memory usage: 1.5 MB\n"
     ]
    }
   ],
   "source": [
    "converted_float = df_1.select_dtypes(include=['float']).apply(pd.to_numeric,downcast='float')\n",
    "df_1[converted_float.columns] = converted_float\n",
    "df_1.info(verbose=False, memory_usage='deep')"
   ]
  },
  {
   "cell_type": "code",
   "execution_count": 17,
   "metadata": {},
   "outputs": [
    {
     "name": "stdout",
     "output_type": "stream",
     "text": [
      "<class 'pandas.core.frame.DataFrame'>\n",
      "RangeIndex: 100000 entries, 0 to 99999\n",
      "Columns: 4 entries, f0 to product\n",
      "dtypes: float32(4)\n",
      "memory usage: 1.5 MB\n"
     ]
    }
   ],
   "source": [
    "converted_float = df_2.select_dtypes(include=['float']).apply(pd.to_numeric,downcast='float')\n",
    "df_2[converted_float.columns] = converted_float\n",
    "df_2.info(verbose=False, memory_usage='deep')"
   ]
  },
  {
   "cell_type": "markdown",
   "metadata": {},
   "source": [
    "### Вывод"
   ]
  },
  {
   "cell_type": "markdown",
   "metadata": {},
   "source": [
    "В ходе выполнения первого пункта были загружены и подготовлен данные, в частности, удалены во всех таблицах столбец id, оптимизированы типы данных. Критических ошибок в таблицах не выявлено, и лишь во второй таблице наблюдаются выбросы значений на нуле и на максимуме, а также распределение второй таблицы является равномерным, в отличие от 1-ой и 3-ей таблицы, где распределение нормальное."
   ]
  },
  {
   "cell_type": "markdown",
   "metadata": {},
   "source": [
    "## Обучение и проверка модели"
   ]
  },
  {
   "cell_type": "markdown",
   "metadata": {},
   "source": [
    "### Разделение выборки"
   ]
  },
  {
   "cell_type": "code",
   "execution_count": 18,
   "metadata": {},
   "outputs": [
    {
     "name": "stdout",
     "output_type": "stream",
     "text": [
      "Размеры валидационной и тренеровачной выборок 1-ой таблицы:\n",
      "Размеры признаковых выборок (75000, 3) (25000, 3)\n",
      "Размеры выборок целефого признака (75000,) (25000,)\n",
      "\n",
      "Размеры валидационной и тренеровачной выборок 2-ой таблицы:\n",
      "Размеры признаковых выборок (75000, 3) (25000, 3)\n",
      "Размеры выборок целефого признака (75000,) (25000,)\n",
      "\n",
      "Размеры валидационной и тренеровачной выборок 3-ей таблицы:\n",
      "Размеры признаковых выборок (75000, 3) (25000, 3)\n",
      "Размеры выборок целефого признака (75000,) (25000,)\n"
     ]
    }
   ],
   "source": [
    "features_df_0 = df_0.drop(['product'], axis=1)\n",
    "target_df_0 = df_0['product']\n",
    "features_train_df_0, features_valid_df_0, target_train_df_0, target_valid_df_0 = train_test_split(features_df_0, target_df_0,\n",
    "                                                                              test_size=0.25, random_state=12345)\n",
    "features_df_1 = df_1.drop(['product'], axis=1)\n",
    "target_df_1 = df_1['product']\n",
    "features_train_df_1, features_valid_df_1, target_train_df_1, target_valid_df_1 = train_test_split(features_df_1, target_df_1,\n",
    "                                                                              test_size=0.25, random_state=12345)\n",
    "\n",
    "features_df_2 = df_2.drop(['product'], axis=1)\n",
    "target_df_2 = df_2['product']\n",
    "features_train_df_2, features_valid_df_2, target_train_df_2, target_valid_df_2 = train_test_split(features_df_2, target_df_2,\n",
    "                                                                              test_size=0.25, random_state=12345)\n",
    "\n",
    "print('Размеры валидационной и тренеровачной выборок 1-ой таблицы:')\n",
    "print('Размеры признаковых выборок', features_train_df_0.shape, features_valid_df_0.shape)\n",
    "print('Размеры выборок целефого признака', target_train_df_0.shape, target_valid_df_0.shape)\n",
    "print(\"\\n\"+'Размеры валидационной и тренеровачной выборок 2-ой таблицы:')\n",
    "print('Размеры признаковых выборок', features_train_df_1.shape, features_valid_df_1.shape)\n",
    "print('Размеры выборок целефого признака', target_train_df_1.shape, target_valid_df_1.shape)\n",
    "print(\"\\n\"+'Размеры валидационной и тренеровачной выборок 3-ей таблицы:')\n",
    "print('Размеры признаковых выборок', features_train_df_2.shape, features_valid_df_2.shape)\n",
    "print('Размеры выборок целефого признака', target_train_df_2.shape, target_valid_df_2.shape)"
   ]
  },
  {
   "cell_type": "markdown",
   "metadata": {},
   "source": [
    "### Обучение модели"
   ]
  },
  {
   "cell_type": "code",
   "execution_count": 19,
   "metadata": {},
   "outputs": [
    {
     "name": "stdout",
     "output_type": "stream",
     "text": [
      "1-й регион\n",
      "Cредний запас предсказанного сырья:  92.59258\n",
      "RMSE: 37.57941948134228\n",
      "\n",
      "2-й регион\n",
      "Cредний запас предсказанного сырья:  68.728546\n",
      "RMSE: 0.8930994427109546\n",
      "\n",
      "3-й регион\n",
      "Cредний запас предсказанного сырья:  94.96505\n",
      "RMSE: 40.0297085110117\n"
     ]
    }
   ],
   "source": [
    "def regress(features_train, target_train, features_valid, target_valid):\n",
    "    model = LinearRegression().fit(features_train, target_train)\n",
    "    predicted_valid_linar = model.predict(features_valid)\n",
    "    predicted_mean = predicted_valid_linar.mean()\n",
    "    result = mean_squared_error(target_valid, predicted_valid_linar)**0.5\n",
    "    return predicted_mean, result, predicted_valid_linar\n",
    "r0 = regress(features_train_df_0, target_train_df_0, features_valid_df_0, target_valid_df_0)\n",
    "r1 = regress(features_train_df_1, target_train_df_1, features_valid_df_1, target_valid_df_1)\n",
    "r2 = regress(features_train_df_2, target_train_df_2, features_valid_df_2, target_valid_df_2)\n",
    "print('1-й регион')\n",
    "print('Cредний запас предсказанного сырья: ', r0[0])\n",
    "print('RMSE:', r0[1])\n",
    "print(\"\\n\"+'2-й регион')\n",
    "print('Cредний запас предсказанного сырья: ', r1[0])\n",
    "print('RMSE:', r1[1])\n",
    "print(\"\\n\"+'3-й регион')\n",
    "print('Cредний запас предсказанного сырья: ', r2[0])\n",
    "print('RMSE:', r2[1])"
   ]
  },
  {
   "cell_type": "markdown",
   "metadata": {},
   "source": [
    "По результатам модели 1-го региона видно, что средний запас предсказанного сырья примерно равен среднему запаса сырья по фактическим данным. Значение корня среднеквадратичного ошибки высокое, что говорит о разбросе между фактическими и предсказанными значениями, причем в предсказанных данных встречаются и отрицательные значения. Причиной такого разброса могут быть точки с ошибочными и маловероятными значениями объема нефти, например со значениями близкими к нулю."
   ]
  },
  {
   "cell_type": "markdown",
   "metadata": {},
   "source": [
    "По результатам модели 2-го региона видно, что средний запас предсказанного сырья примерно равен среднему запасу сырья по фактическим данным. Значение корня среднеквадратичного ошибки довольно низкое, следовательно, разброс между фактическими и предсказанными значениями минимальный."
   ]
  },
  {
   "cell_type": "markdown",
   "metadata": {},
   "source": [
    "По результатам модели 3-го региона видно, что средний запас предсказанного сырья примерно равен среднему запаса сырья по фактическим данным. Значение корня среднеквадратичного ошибки высокое, что говорит о разбросе между фактическими и предсказанными значениями."
   ]
  },
  {
   "cell_type": "markdown",
   "metadata": {},
   "source": [
    "### Вывод"
   ]
  },
  {
   "cell_type": "markdown",
   "metadata": {},
   "source": [
    "Построив модели предсказания объемов скважин в трех регионах, сделаны следующие заключения:\n",
    "* Во всех регионах средний запас предсказанного сырья примерно равен среднему запасу сырья фактических данных;\n",
    "* В 1-ом и 3-ем регионах значение RMSE высокое, что говорит о разбросе между фактическими и предсказанными значениями;\n",
    "* Во 2-ом регионе значение RMSE низкое, следовательно, разброс между фактическими и предсказанными значениями минимальный."
   ]
  },
  {
   "cell_type": "markdown",
   "metadata": {},
   "source": [
    "## Подготовка к расчёту прибыли"
   ]
  },
  {
   "cell_type": "markdown",
   "metadata": {},
   "source": [
    "Условия задачи:\n",
    "* При разведке региона исследуют 500 точек, из которых с помощью машинного обучения выбирают 200 лучших для разработки.\n",
    "* бюджет на разработку скважин в регионе — 10 млрд рублей.\n",
    "* один баррель сырья приносит 450 рублей дохода\n",
    "* доход с каждой единицы продукта составляет 450 тыс. рублей, поскольку объём указан в тысячах баррелей.\n",
    "* После оценки рисков нужно оставить лишь те регионы, в которых вероятность убытков меньше 2.5%. Среди них выбирают регион с наибольшей средней прибылью."
   ]
  },
  {
   "cell_type": "code",
   "execution_count": 20,
   "metadata": {},
   "outputs": [
    {
     "name": "stdout",
     "output_type": "stream",
     "text": [
      "Минимальное среднее значение добычи сырья для одной скважины:  111.33333333333333\n",
      "Cреднее значение добычи сырья для одной скважины 1-го региона:  184.10594\n",
      "Cреднее значение добычи сырья для одной скважины 2-го региона:  137.94542\n",
      "Cреднее значение добычи сырья для одной скважины 3-го региона:  188.8553\n"
     ]
    }
   ],
   "source": [
    "#количество исследуемых скважин в регионе\n",
    "RESEARCH_POINTS = 500\n",
    " \n",
    "#количество точек скважин для разработки\n",
    "DEVELOPMENT_POINTS = 200\n",
    " \n",
    "#бюджет на разработку точек скважин в тыс. руб.\n",
    "BUDGET = 10**10\n",
    " \n",
    "#доход с одной тысячи барелей нефти в тыс. руб.\n",
    "REVENUE = 450*10**3\n",
    "\n",
    "#бююджет на одну скважину в тыс. руб.\n",
    "BUDGET_POINT = BUDGET / RESEARCH_POINTS\n",
    " \n",
    "#найдем минимальное среднее значение добычи сырья для одной скважины\n",
    "#c целью безубыточной разработки новой скважины и учетом бюджета, выделенного на регион\n",
    " \n",
    "PRODUCT_MIN_MEAN = (BUDGET + BUDGET_POINT) / (DEVELOPMENT_POINTS * REVENUE)\n",
    "\n",
    "#Cреднее значение добычи сырья для одной скважины во всех регионах\n",
    "product_df_0 = df_0['product'].sort_values(ascending=False).iloc[:500]\n",
    "product_df_1 = df_1['product'].sort_values(ascending=False).iloc[:500]\n",
    "product_df_2 = df_2['product'].sort_values(ascending=False).iloc[:500]\n",
    "\n",
    "print('Минимальное среднее значение добычи сырья для одной скважины: ', PRODUCT_MIN_MEAN)\n",
    "print('Cреднее значение добычи сырья для одной скважины 1-го региона: ', product_df_0.mean())\n",
    "print('Cреднее значение добычи сырья для одной скважины 2-го региона: ', product_df_1.mean())\n",
    "print('Cреднее значение добычи сырья для одной скважины 3-го региона: ', product_df_2.mean())\n"
   ]
  },
  {
   "cell_type": "markdown",
   "metadata": {},
   "source": [
    "Выбрав 500 лучших по объёму скважин, выяснилось, что среднее значение добычи сырья одной скважины в трех регионах выше, чем минимальное среднее значение добычи сырья для одной скважины, следовательно, все регионы являются безубыточными."
   ]
  },
  {
   "cell_type": "markdown",
   "metadata": {},
   "source": [
    "## Расчёт прибыли и рисков "
   ]
  },
  {
   "cell_type": "markdown",
   "metadata": {},
   "source": [
    "### Функция для расчёта прибыли"
   ]
  },
  {
   "cell_type": "code",
   "execution_count": 21,
   "metadata": {},
   "outputs": [
    {
     "name": "stdout",
     "output_type": "stream",
     "text": [
      "Фактисеская прибыль 1-го региона 3320826171.875\n",
      "Фактисеская прибыль 2-го региона 2415088671.875\n",
      "Фактисеская прибыль 3-го региона 2710349316.40625\n"
     ]
    }
   ],
   "source": [
    "df_0_valid = pd.Series(target_valid_df_0).reset_index(drop=True)\n",
    "df_1_valid = pd.Series(target_valid_df_1).reset_index(drop=True)\n",
    "df_2_valid = pd.Series(target_valid_df_2).reset_index(drop=True)\n",
    "\n",
    "predicted_df_0 = pd.Series(*r0[2].reshape(1,-1))\n",
    "predicted_df_1 = pd.Series(*r1[2].reshape(1,-1))\n",
    "predicted_df_2 = pd.Series(*r2[2].reshape(1,-1))\n",
    "\n",
    "def profit(predict, df, count):\n",
    "    predict_sorted = predict.sort_values(ascending=False)[:count]\n",
    "    selected = df[predict_sorted.index]\n",
    "    profit = REVENUE * selected.sum() - BUDGET\n",
    "    return profit\n",
    "\n",
    "p0 = profit(predicted_df_0, df_0_valid, DEVELOPMENT_POINTS)\n",
    "p1 = profit(predicted_df_1, df_1_valid, DEVELOPMENT_POINTS)\n",
    "p2 = profit(predicted_df_2, df_2_valid, DEVELOPMENT_POINTS)\n",
    "print('Фактисеская прибыль 1-го региона', p0)\n",
    "print('Фактисеская прибыль 2-го региона', p1) \n",
    "print('Фактисеская прибыль 3-го региона', p2)"
   ]
  },
  {
   "cell_type": "markdown",
   "metadata": {},
   "source": [
    "Наибольшая прибыль в расчитывается 1-ем регионе."
   ]
  },
  {
   "cell_type": "markdown",
   "metadata": {},
   "source": [
    "### Расчёт рисков"
   ]
  },
  {
   "cell_type": "code",
   "execution_count": 22,
   "metadata": {},
   "outputs": [
    {
     "name": "stdout",
     "output_type": "stream",
     "text": [
      "1-й регион\n",
      "Средняя прибыль: 396164978.81\n",
      "2.5%-квантиль: -111215019.53\n",
      "97.5%-квантиль: 909767150.88\n",
      "\n",
      "2-й регион\n",
      "Средняя прибыль: 456046302.15\n",
      "2.5%-квантиль: 33820837.40\n",
      "97.5%-квантиль: 852290263.67\n",
      "\n",
      "3-й регион\n",
      "Средняя прибыль: 404403840.72\n",
      "2.5%-квантиль: -163351166.99\n",
      "97.5%-квантиль: 950359677.73\n"
     ]
    }
   ],
   "source": [
    "def bootstrap(predict, df, count):\n",
    "    state = np.random.RandomState(12345)\n",
    "    values = []\n",
    "    for i in range(1000):\n",
    "        pred_subsample = predict.sample(n = RESEARCH_POINTS, replace=True, random_state = state)\n",
    "        values.append(profit(pred_subsample, df, count))\n",
    "    values = pd.Series(values)\n",
    "    lower = values.quantile(0.025)\n",
    "    upper = values.quantile(0.975)\n",
    "    mean = values.mean()\n",
    "    return mean, lower, upper, values\n",
    "\n",
    "b0 = bootstrap(predicted_df_0, df_0_valid, DEVELOPMENT_POINTS)\n",
    "b1 = bootstrap(predicted_df_1, df_1_valid, DEVELOPMENT_POINTS)\n",
    "b2 = bootstrap(predicted_df_2, df_2_valid, DEVELOPMENT_POINTS)\n",
    "print(\"1-й регион\")\n",
    "print(\"Средняя прибыль: {:.2f}\".format(b0[0]))\n",
    "print(\"2.5%-квантиль: {:.2f}\".format(b0[1]))\n",
    "print(\"97.5%-квантиль: {:.2f}\".format(b0[2]))\n",
    "print(\"\\n\"+\"2-й регион\")\n",
    "print(\"Средняя прибыль: {:.2f}\".format(b1[0]))\n",
    "print(\"2.5%-квантиль: {:.2f}\".format(b1[1]))\n",
    "print(\"97.5%-квантиль: {:.2f}\".format(b1[2]))\n",
    "print(\"\\n\"+\"3-й регион\")\n",
    "print(\"Средняя прибыль: {:.2f}\".format(b2[0]))\n",
    "print(\"2.5%-квантиль: {:.2f}\".format(b2[1]))\n",
    "print(\"97.5%-квантиль: {:.2f}\".format(b2[2]))"
   ]
  },
  {
   "cell_type": "markdown",
   "metadata": {},
   "source": [
    "Риск убытков"
   ]
  },
  {
   "cell_type": "code",
   "execution_count": 23,
   "metadata": {},
   "outputs": [
    {
     "name": "stdout",
     "output_type": "stream",
     "text": [
      "Доля убыточных точек в процентах\n",
      "1-й регион: 6.9\n",
      "2-й регион: 1.5\n",
      "3-й регион: 7.6\n"
     ]
    }
   ],
   "source": [
    "def losses(predict, df, count):\n",
    "    bootstrap_profit = pd.DataFrame(bootstrap(predict, df, count)[3], columns = ['profit'])\n",
    "    bootstrap_profit = bootstrap_profit.query('profit < 0')\n",
    "    losses = bootstrap_profit.shape\n",
    "    return losses\n",
    "l0 = losses(predicted_df_0, df_0_valid, DEVELOPMENT_POINTS)[0]/10\n",
    "l1 = losses(predicted_df_1, df_1_valid, DEVELOPMENT_POINTS)[0]/10\n",
    "l2 = losses(predicted_df_2, df_2_valid, DEVELOPMENT_POINTS)[0]/10\n",
    "print('Доля убыточных точек в процентах')\n",
    "print('1-й регион:',l0)\n",
    "print('2-й регион:',l1)\n",
    "print('3-й регион:',l2)"
   ]
  },
  {
   "cell_type": "markdown",
   "metadata": {},
   "source": [
    "Просчитав техникой Bootstrap среднюю прибыль и интервал возможной прибыли для трёх регионов видно, что наибольшая средняя прибыль во втором регионе. Чуть меньше прибыль в 1-ом и 3-ем регионе, но доверительный интервал намного больше относительно второго региона и включает отрицательные значения, следовательно, лучшим регионом для разработки является 2-ой регион.\n",
    "\n",
    "Расчет доли убыточных скважин показал, больше всего убыточных точек во третьем и первом регионе, а также данные регионы не проходят порог риска убытков в 2.5%. Лычший результат представлен во втором регионе (1.5%). "
   ]
  },
  {
   "cell_type": "markdown",
   "metadata": {},
   "source": [
    "### Вывод"
   ]
  },
  {
   "cell_type": "markdown",
   "metadata": {},
   "source": [
    "В данном пункте были подсчитаны риски и прибыли всех трех регионов."
   ]
  },
  {
   "cell_type": "code",
   "execution_count": 24,
   "metadata": {},
   "outputs": [
    {
     "data": {
      "text/html": [
       "<div>\n",
       "<style scoped>\n",
       "    .dataframe tbody tr th:only-of-type {\n",
       "        vertical-align: middle;\n",
       "    }\n",
       "\n",
       "    .dataframe tbody tr th {\n",
       "        vertical-align: top;\n",
       "    }\n",
       "\n",
       "    .dataframe thead th {\n",
       "        text-align: right;\n",
       "    }\n",
       "</style>\n",
       "<table border=\"1\" class=\"dataframe\">\n",
       "  <thead>\n",
       "    <tr style=\"text-align: right;\">\n",
       "      <th></th>\n",
       "      <th>регион</th>\n",
       "      <th>фактическая прибыль</th>\n",
       "      <th>средняя прибыль</th>\n",
       "      <th>нижний доверительный интервал</th>\n",
       "      <th>верхний доверительный интервал</th>\n",
       "      <th>Доля убыточных точек в процентах</th>\n",
       "    </tr>\n",
       "  </thead>\n",
       "  <tbody>\n",
       "    <tr>\n",
       "      <td>0</td>\n",
       "      <td>1</td>\n",
       "      <td>3.320826e+09</td>\n",
       "      <td>3.961650e+08</td>\n",
       "      <td>-1.112150e+08</td>\n",
       "      <td>9.097672e+08</td>\n",
       "      <td>6.9</td>\n",
       "    </tr>\n",
       "    <tr>\n",
       "      <td>1</td>\n",
       "      <td>2</td>\n",
       "      <td>2.415089e+09</td>\n",
       "      <td>4.560463e+08</td>\n",
       "      <td>3.382084e+07</td>\n",
       "      <td>8.522903e+08</td>\n",
       "      <td>1.5</td>\n",
       "    </tr>\n",
       "    <tr>\n",
       "      <td>2</td>\n",
       "      <td>3</td>\n",
       "      <td>2.710349e+09</td>\n",
       "      <td>4.044038e+08</td>\n",
       "      <td>-1.633512e+08</td>\n",
       "      <td>9.503597e+08</td>\n",
       "      <td>7.6</td>\n",
       "    </tr>\n",
       "  </tbody>\n",
       "</table>\n",
       "</div>"
      ],
      "text/plain": [
       "   регион  фактическая прибыль  средняя прибыль  \\\n",
       "0       1         3.320826e+09     3.961650e+08   \n",
       "1       2         2.415089e+09     4.560463e+08   \n",
       "2       3         2.710349e+09     4.044038e+08   \n",
       "\n",
       "   нижний доверительный интервал  верхний доверительный интервал  \\\n",
       "0                  -1.112150e+08                    9.097672e+08   \n",
       "1                   3.382084e+07                    8.522903e+08   \n",
       "2                  -1.633512e+08                    9.503597e+08   \n",
       "\n",
       "   Доля убыточных точек в процентах  \n",
       "0                               6.9  \n",
       "1                               1.5  \n",
       "2                               7.6  "
      ]
     },
     "execution_count": 24,
     "metadata": {},
     "output_type": "execute_result"
    }
   ],
   "source": [
    "d = ({'регион':[1,2,3],'фактическая прибыль':[p0, p1, p2],'средняя прибыль':[b0[0],b1[0],b2[0]]\n",
    ",'нижний доверительный интервал':[b0[1],b1[1], b2[1]], 'верхний доверительный интервал': [b0[2], b1[2], b2[2]]\n",
    "     ,'Доля убыточных точек в процентах':[l0,l1,l2]})\n",
    "df = pd.DataFrame(data=d)\n",
    "df"
   ]
  },
  {
   "cell_type": "markdown",
   "metadata": {},
   "source": [
    "Лучшим для разработки оказался 2-й регион, т.к. в данном регионе высокая фактическая прибыль (~ 2 млрд.руб.), высокая средняя прибыль (456 млн.руб.) при небольшой разности доверительного интервала (от 338 млн.руб. до 852 млн.руб.), а также низкий риск убытков (1.5%)."
   ]
  },
  {
   "cell_type": "markdown",
   "metadata": {},
   "source": [
    "## Общий вывод"
   ]
  },
  {
   "cell_type": "markdown",
   "metadata": {},
   "source": [
    "В ходе выполнения проекта о выборе локации для скважины были загружены и подготовлены данные, в частности, выявлены всплески  значений во второй таблице.\n",
    "\n",
    "Построив модели предсказания объемов скважин в трех регионах, сделаны следующие заключения:\n",
    "* Во всех регионах средний запас предсказанного сырья примерно равен среднему запасу сырья фактических данных;\n",
    "* В 1-ом и 3-ем регионах значение RMSE высокое, что говорит о разбросе между фактическими и предсказанными значениями;\n",
    "* Во 2-ом регионе значение RMSE низкое, следовательно, разброс между фактическими и предсказанными значениями минимальный.\n",
    "\n",
    "Выбрав 500 лучших по объёму скважин, выяснилось, что среднее значение добычи сырья одной скважины в трех регионах выше, чем минимальное среднее значение добычи сырья для одной скважины, следовательно, все регионы являются безубыточными.\n",
    "\n",
    "Лучшим для разработки оказался 2-й регион, т.к. в данном регионе высокая фактическая прибыль (~ 2 млрд.руб.), высокая средняя прибыль (456 млн.руб.) при небольшой разности доверительного интервала (от 338 млн.руб. до 852 млн.руб.), а также низкий риск убытков (1.5%)."
   ]
  }
 ],
 "metadata": {
  "ExecuteTimeLog": [
   {
    "duration": 398,
    "start_time": "2021-07-22T16:16:13.123Z"
   },
   {
    "duration": 767,
    "start_time": "2021-07-22T16:16:16.091Z"
   },
   {
    "duration": 177,
    "start_time": "2021-07-22T16:16:17.792Z"
   },
   {
    "duration": 164,
    "start_time": "2021-07-22T16:16:55.478Z"
   },
   {
    "duration": 169,
    "start_time": "2021-07-22T16:16:56.476Z"
   },
   {
    "duration": 449,
    "start_time": "2021-07-23T12:41:41.117Z"
   },
   {
    "duration": 723,
    "start_time": "2021-07-23T12:41:48.634Z"
   },
   {
    "duration": 171,
    "start_time": "2021-07-23T12:41:49.359Z"
   },
   {
    "duration": 15,
    "start_time": "2021-07-23T12:41:49.535Z"
   },
   {
    "duration": 165,
    "start_time": "2021-07-23T12:41:49.552Z"
   },
   {
    "duration": 159,
    "start_time": "2021-07-23T12:41:49.719Z"
   },
   {
    "duration": 718,
    "start_time": "2021-07-23T12:42:35.854Z"
   },
   {
    "duration": 172,
    "start_time": "2021-07-23T12:42:36.575Z"
   },
   {
    "duration": 95,
    "start_time": "2021-07-23T12:42:36.750Z"
   },
   {
    "duration": 153,
    "start_time": "2021-07-23T12:42:36.848Z"
   },
   {
    "duration": 83,
    "start_time": "2021-07-23T12:42:37.004Z"
   },
   {
    "duration": 164,
    "start_time": "2021-07-23T12:42:37.089Z"
   },
   {
    "duration": 103,
    "start_time": "2021-07-23T12:42:37.255Z"
   },
   {
    "duration": 99,
    "start_time": "2021-07-23T12:43:55.914Z"
   },
   {
    "duration": 446,
    "start_time": "2021-07-23T12:45:57.630Z"
   },
   {
    "duration": 47,
    "start_time": "2021-07-23T12:46:05.654Z"
   },
   {
    "duration": 65,
    "start_time": "2021-07-23T12:46:36.474Z"
   },
   {
    "duration": 375,
    "start_time": "2021-07-23T12:47:37.064Z"
   },
   {
    "duration": 348,
    "start_time": "2021-07-23T12:47:49.492Z"
   },
   {
    "duration": 264,
    "start_time": "2021-07-24T17:33:50.417Z"
   },
   {
    "duration": 534,
    "start_time": "2021-07-24T17:34:34.604Z"
   },
   {
    "duration": 123,
    "start_time": "2021-07-24T17:34:35.140Z"
   },
   {
    "duration": 51,
    "start_time": "2021-07-24T17:34:35.264Z"
   },
   {
    "duration": 31,
    "start_time": "2021-07-24T17:34:35.317Z"
   },
   {
    "duration": 114,
    "start_time": "2021-07-24T17:34:35.350Z"
   },
   {
    "duration": 53,
    "start_time": "2021-07-24T17:34:35.466Z"
   },
   {
    "duration": 114,
    "start_time": "2021-07-24T17:34:35.521Z"
   },
   {
    "duration": 49,
    "start_time": "2021-07-24T17:34:35.637Z"
   },
   {
    "duration": 5,
    "start_time": "2021-07-24T17:34:35.691Z"
   },
   {
    "duration": 5,
    "start_time": "2021-07-24T17:37:49.048Z"
   },
   {
    "duration": 9,
    "start_time": "2021-07-24T17:38:01.128Z"
   },
   {
    "duration": 287,
    "start_time": "2021-07-24T17:38:17.766Z"
   },
   {
    "duration": 540,
    "start_time": "2021-07-24T17:38:33.410Z"
   },
   {
    "duration": 122,
    "start_time": "2021-07-24T17:38:33.952Z"
   },
   {
    "duration": 51,
    "start_time": "2021-07-24T17:38:34.076Z"
   },
   {
    "duration": 31,
    "start_time": "2021-07-24T17:38:34.129Z"
   },
   {
    "duration": 116,
    "start_time": "2021-07-24T17:38:34.162Z"
   },
   {
    "duration": 51,
    "start_time": "2021-07-24T17:38:34.280Z"
   },
   {
    "duration": 114,
    "start_time": "2021-07-24T17:38:34.333Z"
   },
   {
    "duration": 50,
    "start_time": "2021-07-24T17:38:34.449Z"
   },
   {
    "duration": 12,
    "start_time": "2021-07-24T17:38:34.501Z"
   },
   {
    "duration": 16,
    "start_time": "2021-07-24T17:41:20.282Z"
   },
   {
    "duration": 9,
    "start_time": "2021-07-24T17:41:36.367Z"
   },
   {
    "duration": 8,
    "start_time": "2021-07-24T17:41:41.306Z"
   },
   {
    "duration": 16,
    "start_time": "2021-07-24T17:42:44.398Z"
   },
   {
    "duration": 14,
    "start_time": "2021-07-24T17:42:45.446Z"
   },
   {
    "duration": 568,
    "start_time": "2021-07-24T17:43:11.862Z"
   },
   {
    "duration": 123,
    "start_time": "2021-07-24T17:43:12.431Z"
   },
   {
    "duration": 50,
    "start_time": "2021-07-24T17:43:12.556Z"
   },
   {
    "duration": 31,
    "start_time": "2021-07-24T17:43:12.607Z"
   },
   {
    "duration": 116,
    "start_time": "2021-07-24T17:43:12.640Z"
   },
   {
    "duration": 52,
    "start_time": "2021-07-24T17:43:12.758Z"
   },
   {
    "duration": 113,
    "start_time": "2021-07-24T17:43:12.812Z"
   },
   {
    "duration": 44,
    "start_time": "2021-07-24T17:43:12.927Z"
   },
   {
    "duration": 18,
    "start_time": "2021-07-24T17:43:12.973Z"
   },
   {
    "duration": 50,
    "start_time": "2021-07-24T17:43:12.993Z"
   },
   {
    "duration": 13,
    "start_time": "2021-07-24T17:43:13.045Z"
   },
   {
    "duration": 38,
    "start_time": "2021-07-24T17:43:13.060Z"
   },
   {
    "duration": 555,
    "start_time": "2021-07-24T17:43:25.082Z"
   },
   {
    "duration": 124,
    "start_time": "2021-07-24T17:43:25.639Z"
   },
   {
    "duration": 48,
    "start_time": "2021-07-24T17:43:25.765Z"
   },
   {
    "duration": 31,
    "start_time": "2021-07-24T17:43:25.814Z"
   },
   {
    "duration": 117,
    "start_time": "2021-07-24T17:43:25.847Z"
   },
   {
    "duration": 49,
    "start_time": "2021-07-24T17:43:25.965Z"
   },
   {
    "duration": 114,
    "start_time": "2021-07-24T17:43:26.015Z"
   },
   {
    "duration": 45,
    "start_time": "2021-07-24T17:43:26.131Z"
   },
   {
    "duration": 15,
    "start_time": "2021-07-24T17:43:26.177Z"
   },
   {
    "duration": 15,
    "start_time": "2021-07-24T17:43:26.194Z"
   },
   {
    "duration": 11,
    "start_time": "2021-07-24T17:43:26.211Z"
   },
   {
    "duration": 13,
    "start_time": "2021-07-24T17:43:26.223Z"
   },
   {
    "duration": 286,
    "start_time": "2021-07-24T17:48:17.191Z"
   },
   {
    "duration": 447,
    "start_time": "2021-07-24T17:48:57.639Z"
   },
   {
    "duration": 15,
    "start_time": "2021-07-24T17:49:07.742Z"
   },
   {
    "duration": 14,
    "start_time": "2021-07-24T17:49:40.994Z"
   },
   {
    "duration": 14,
    "start_time": "2021-07-24T17:49:41.888Z"
   },
   {
    "duration": 14,
    "start_time": "2021-07-24T17:55:28.340Z"
   },
   {
    "duration": 14,
    "start_time": "2021-07-24T17:55:29.261Z"
   },
   {
    "duration": 15,
    "start_time": "2021-07-24T17:55:30.020Z"
   },
   {
    "duration": 264,
    "start_time": "2021-07-24T17:55:54.096Z"
   },
   {
    "duration": 29,
    "start_time": "2021-07-24T17:56:34.456Z"
   },
   {
    "duration": 232,
    "start_time": "2021-07-24T17:56:43.006Z"
   },
   {
    "duration": 234,
    "start_time": "2021-07-24T18:08:36.896Z"
   },
   {
    "duration": 223,
    "start_time": "2021-07-24T18:09:15.645Z"
   },
   {
    "duration": 965,
    "start_time": "2021-07-24T18:11:24.033Z"
   },
   {
    "duration": 124,
    "start_time": "2021-07-24T18:11:25.000Z"
   },
   {
    "duration": 44,
    "start_time": "2021-07-24T18:11:25.127Z"
   },
   {
    "duration": 41,
    "start_time": "2021-07-24T18:11:25.173Z"
   },
   {
    "duration": 117,
    "start_time": "2021-07-24T18:11:25.216Z"
   },
   {
    "duration": 45,
    "start_time": "2021-07-24T18:11:25.335Z"
   },
   {
    "duration": 130,
    "start_time": "2021-07-24T18:11:25.382Z"
   },
   {
    "duration": 46,
    "start_time": "2021-07-24T18:11:25.515Z"
   },
   {
    "duration": 28,
    "start_time": "2021-07-24T18:11:25.563Z"
   },
   {
    "duration": 14,
    "start_time": "2021-07-24T18:11:25.593Z"
   },
   {
    "duration": 12,
    "start_time": "2021-07-24T18:11:25.608Z"
   },
   {
    "duration": 12,
    "start_time": "2021-07-24T18:11:25.621Z"
   },
   {
    "duration": 11,
    "start_time": "2021-07-24T18:11:25.634Z"
   },
   {
    "duration": 11,
    "start_time": "2021-07-24T18:11:25.646Z"
   },
   {
    "duration": 41,
    "start_time": "2021-07-24T18:11:25.658Z"
   },
   {
    "duration": 301,
    "start_time": "2021-07-24T18:11:25.700Z"
   },
   {
    "duration": -1578,
    "start_time": "2021-07-24T18:11:27.580Z"
   },
   {
    "duration": -1582,
    "start_time": "2021-07-24T18:11:27.585Z"
   },
   {
    "duration": 216,
    "start_time": "2021-07-24T18:11:34.196Z"
   },
   {
    "duration": 3,
    "start_time": "2021-07-24T18:12:06.112Z"
   },
   {
    "duration": 241,
    "start_time": "2021-07-24T18:12:12.273Z"
   },
   {
    "duration": 236,
    "start_time": "2021-07-24T18:15:06.821Z"
   },
   {
    "duration": 1020,
    "start_time": "2021-07-24T18:15:22.283Z"
   },
   {
    "duration": 128,
    "start_time": "2021-07-24T18:15:23.305Z"
   },
   {
    "duration": 47,
    "start_time": "2021-07-24T18:15:23.435Z"
   },
   {
    "duration": 39,
    "start_time": "2021-07-24T18:15:23.484Z"
   },
   {
    "duration": 129,
    "start_time": "2021-07-24T18:15:23.525Z"
   },
   {
    "duration": 50,
    "start_time": "2021-07-24T18:15:23.655Z"
   },
   {
    "duration": 121,
    "start_time": "2021-07-24T18:15:23.707Z"
   },
   {
    "duration": 47,
    "start_time": "2021-07-24T18:15:23.830Z"
   },
   {
    "duration": 23,
    "start_time": "2021-07-24T18:15:23.879Z"
   },
   {
    "duration": 18,
    "start_time": "2021-07-24T18:15:23.904Z"
   },
   {
    "duration": 14,
    "start_time": "2021-07-24T18:15:23.923Z"
   },
   {
    "duration": 15,
    "start_time": "2021-07-24T18:15:23.939Z"
   },
   {
    "duration": 10,
    "start_time": "2021-07-24T18:15:23.955Z"
   },
   {
    "duration": 39,
    "start_time": "2021-07-24T18:15:23.966Z"
   },
   {
    "duration": 13,
    "start_time": "2021-07-24T18:15:24.007Z"
   },
   {
    "duration": 308,
    "start_time": "2021-07-24T18:15:24.021Z"
   },
   {
    "duration": -930,
    "start_time": "2021-07-24T18:15:25.260Z"
   },
   {
    "duration": -937,
    "start_time": "2021-07-24T18:15:25.268Z"
   },
   {
    "duration": 19,
    "start_time": "2021-07-24T18:22:54.460Z"
   },
   {
    "duration": 1301,
    "start_time": "2021-07-24T18:24:37.159Z"
   },
   {
    "duration": 1241,
    "start_time": "2021-07-24T18:25:53.082Z"
   },
   {
    "duration": 1254,
    "start_time": "2021-07-24T18:25:55.706Z"
   },
   {
    "duration": 1403,
    "start_time": "2021-07-24T18:29:27.477Z"
   },
   {
    "duration": 3,
    "start_time": "2021-07-24T18:29:50.546Z"
   },
   {
    "duration": 13,
    "start_time": "2021-07-24T18:29:59.754Z"
   },
   {
    "duration": 1264,
    "start_time": "2021-07-24T18:30:04.372Z"
   },
   {
    "duration": 1094,
    "start_time": "2021-07-24T18:31:12.620Z"
   },
   {
    "duration": 133,
    "start_time": "2021-07-24T18:31:13.716Z"
   },
   {
    "duration": 50,
    "start_time": "2021-07-24T18:31:13.851Z"
   },
   {
    "duration": 34,
    "start_time": "2021-07-24T18:31:13.903Z"
   },
   {
    "duration": 123,
    "start_time": "2021-07-24T18:31:13.938Z"
   },
   {
    "duration": 51,
    "start_time": "2021-07-24T18:31:14.062Z"
   },
   {
    "duration": 119,
    "start_time": "2021-07-24T18:31:14.115Z"
   },
   {
    "duration": 47,
    "start_time": "2021-07-24T18:31:14.236Z"
   },
   {
    "duration": 17,
    "start_time": "2021-07-24T18:31:14.285Z"
   },
   {
    "duration": 18,
    "start_time": "2021-07-24T18:31:14.304Z"
   },
   {
    "duration": 17,
    "start_time": "2021-07-24T18:31:14.324Z"
   },
   {
    "duration": 24,
    "start_time": "2021-07-24T18:31:14.343Z"
   },
   {
    "duration": 10,
    "start_time": "2021-07-24T18:31:14.368Z"
   },
   {
    "duration": 18,
    "start_time": "2021-07-24T18:31:14.380Z"
   },
   {
    "duration": 13,
    "start_time": "2021-07-24T18:31:14.399Z"
   },
   {
    "duration": 1258,
    "start_time": "2021-07-24T18:31:14.414Z"
   },
   {
    "duration": 1237,
    "start_time": "2021-07-24T18:31:15.673Z"
   },
   {
    "duration": 1300,
    "start_time": "2021-07-24T18:31:16.912Z"
   },
   {
    "duration": 479,
    "start_time": "2021-07-25T05:26:23.324Z"
   },
   {
    "duration": 1304,
    "start_time": "2021-07-25T05:26:32.723Z"
   },
   {
    "duration": 183,
    "start_time": "2021-07-25T05:26:34.030Z"
   },
   {
    "duration": 95,
    "start_time": "2021-07-25T05:26:34.217Z"
   },
   {
    "duration": 52,
    "start_time": "2021-07-25T05:26:34.316Z"
   },
   {
    "duration": 190,
    "start_time": "2021-07-25T05:26:34.371Z"
   },
   {
    "duration": 96,
    "start_time": "2021-07-25T05:26:34.564Z"
   },
   {
    "duration": 164,
    "start_time": "2021-07-25T05:26:34.663Z"
   },
   {
    "duration": 90,
    "start_time": "2021-07-25T05:26:34.833Z"
   },
   {
    "duration": 18,
    "start_time": "2021-07-25T05:26:34.926Z"
   },
   {
    "duration": 23,
    "start_time": "2021-07-25T05:26:34.947Z"
   },
   {
    "duration": 39,
    "start_time": "2021-07-25T05:26:34.973Z"
   },
   {
    "duration": 21,
    "start_time": "2021-07-25T05:26:35.015Z"
   },
   {
    "duration": 16,
    "start_time": "2021-07-25T05:26:35.038Z"
   },
   {
    "duration": 56,
    "start_time": "2021-07-25T05:26:35.056Z"
   },
   {
    "duration": 19,
    "start_time": "2021-07-25T05:26:35.114Z"
   },
   {
    "duration": 1807,
    "start_time": "2021-07-25T05:26:35.136Z"
   },
   {
    "duration": 6,
    "start_time": "2021-07-25T05:26:36.945Z"
   },
   {
    "duration": 1759,
    "start_time": "2021-07-25T05:26:36.954Z"
   },
   {
    "duration": 1757,
    "start_time": "2021-07-25T05:26:38.715Z"
   },
   {
    "duration": 5,
    "start_time": "2021-07-25T05:27:05.976Z"
   },
   {
    "duration": 6,
    "start_time": "2021-07-25T05:27:19.963Z"
   },
   {
    "duration": 1785,
    "start_time": "2021-07-25T05:29:03.741Z"
   },
   {
    "duration": 1805,
    "start_time": "2021-07-25T05:29:54.669Z"
   },
   {
    "duration": 1696,
    "start_time": "2021-07-25T05:29:59.377Z"
   },
   {
    "duration": 477,
    "start_time": "2021-07-25T05:31:53.790Z"
   },
   {
    "duration": 5,
    "start_time": "2021-07-25T05:31:59.487Z"
   },
   {
    "duration": 336,
    "start_time": "2021-07-25T05:32:14.088Z"
   },
   {
    "duration": 5,
    "start_time": "2021-07-25T05:32:18.340Z"
   },
   {
    "duration": 352,
    "start_time": "2021-07-25T05:32:26.099Z"
   },
   {
    "duration": 5,
    "start_time": "2021-07-25T05:32:33.941Z"
   },
   {
    "duration": 6,
    "start_time": "2021-07-25T05:33:58.539Z"
   },
   {
    "duration": 345,
    "start_time": "2021-07-25T05:34:16.079Z"
   },
   {
    "duration": 5,
    "start_time": "2021-07-25T05:34:22.388Z"
   },
   {
    "duration": 248,
    "start_time": "2021-07-25T05:45:02.138Z"
   },
   {
    "duration": 4,
    "start_time": "2021-07-25T05:45:10.362Z"
   },
   {
    "duration": 77,
    "start_time": "2021-07-25T05:45:18.722Z"
   },
   {
    "duration": 16,
    "start_time": "2021-07-25T05:45:49.903Z"
   },
   {
    "duration": 20,
    "start_time": "2021-07-25T05:46:00.055Z"
   },
   {
    "duration": 16,
    "start_time": "2021-07-25T05:46:10.879Z"
   },
   {
    "duration": 17,
    "start_time": "2021-07-25T05:46:17.459Z"
   },
   {
    "duration": 16,
    "start_time": "2021-07-25T05:46:27.279Z"
   },
   {
    "duration": 16,
    "start_time": "2021-07-25T05:47:28.944Z"
   },
   {
    "duration": 61,
    "start_time": "2021-07-25T05:48:26.340Z"
   },
   {
    "duration": 7,
    "start_time": "2021-07-25T05:51:13.850Z"
   },
   {
    "duration": 5,
    "start_time": "2021-07-25T05:51:39.902Z"
   },
   {
    "duration": 394,
    "start_time": "2021-07-25T07:59:16.622Z"
   },
   {
    "duration": 1282,
    "start_time": "2021-07-25T07:59:26.885Z"
   },
   {
    "duration": 165,
    "start_time": "2021-07-25T07:59:28.173Z"
   },
   {
    "duration": 91,
    "start_time": "2021-07-25T07:59:28.340Z"
   },
   {
    "duration": 61,
    "start_time": "2021-07-25T07:59:28.433Z"
   },
   {
    "duration": 455,
    "start_time": "2021-07-25T07:59:28.496Z"
   },
   {
    "duration": -418,
    "start_time": "2021-07-25T07:59:29.372Z"
   },
   {
    "duration": -422,
    "start_time": "2021-07-25T07:59:29.378Z"
   },
   {
    "duration": -454,
    "start_time": "2021-07-25T07:59:29.411Z"
   },
   {
    "duration": -458,
    "start_time": "2021-07-25T07:59:29.417Z"
   },
   {
    "duration": -465,
    "start_time": "2021-07-25T07:59:29.425Z"
   },
   {
    "duration": -470,
    "start_time": "2021-07-25T07:59:29.431Z"
   },
   {
    "duration": -475,
    "start_time": "2021-07-25T07:59:29.437Z"
   },
   {
    "duration": -484,
    "start_time": "2021-07-25T07:59:29.447Z"
   },
   {
    "duration": -492,
    "start_time": "2021-07-25T07:59:29.457Z"
   },
   {
    "duration": -498,
    "start_time": "2021-07-25T07:59:29.464Z"
   },
   {
    "duration": -502,
    "start_time": "2021-07-25T07:59:29.470Z"
   },
   {
    "duration": -511,
    "start_time": "2021-07-25T07:59:29.480Z"
   },
   {
    "duration": -516,
    "start_time": "2021-07-25T07:59:29.487Z"
   },
   {
    "duration": -525,
    "start_time": "2021-07-25T07:59:29.497Z"
   },
   {
    "duration": -537,
    "start_time": "2021-07-25T07:59:29.510Z"
   },
   {
    "duration": 719,
    "start_time": "2021-07-25T08:01:07.247Z"
   },
   {
    "duration": 341,
    "start_time": "2021-07-25T08:01:29.695Z"
   },
   {
    "duration": 356,
    "start_time": "2021-07-25T08:01:42.791Z"
   },
   {
    "duration": 21,
    "start_time": "2021-07-25T08:01:53.559Z"
   },
   {
    "duration": 21,
    "start_time": "2021-07-25T08:02:07.717Z"
   },
   {
    "duration": 7,
    "start_time": "2021-07-25T08:05:11.389Z"
   },
   {
    "duration": 15,
    "start_time": "2021-07-25T08:05:31.241Z"
   },
   {
    "duration": 7,
    "start_time": "2021-07-25T08:05:45.881Z"
   },
   {
    "duration": 1285,
    "start_time": "2021-07-25T08:06:03.067Z"
   },
   {
    "duration": 174,
    "start_time": "2021-07-25T08:06:04.355Z"
   },
   {
    "duration": 87,
    "start_time": "2021-07-25T08:06:04.532Z"
   },
   {
    "duration": 62,
    "start_time": "2021-07-25T08:06:04.622Z"
   },
   {
    "duration": 6,
    "start_time": "2021-07-25T08:06:04.687Z"
   },
   {
    "duration": 168,
    "start_time": "2021-07-25T08:06:04.695Z"
   },
   {
    "duration": 93,
    "start_time": "2021-07-25T08:06:04.865Z"
   },
   {
    "duration": 164,
    "start_time": "2021-07-25T08:06:04.961Z"
   },
   {
    "duration": 98,
    "start_time": "2021-07-25T08:06:05.127Z"
   },
   {
    "duration": 16,
    "start_time": "2021-07-25T08:06:05.228Z"
   },
   {
    "duration": 38,
    "start_time": "2021-07-25T08:06:05.247Z"
   },
   {
    "duration": 30,
    "start_time": "2021-07-25T08:06:05.288Z"
   },
   {
    "duration": 27,
    "start_time": "2021-07-25T08:06:05.321Z"
   },
   {
    "duration": 36,
    "start_time": "2021-07-25T08:06:05.350Z"
   },
   {
    "duration": 43,
    "start_time": "2021-07-25T08:06:05.389Z"
   },
   {
    "duration": 18,
    "start_time": "2021-07-25T08:06:05.435Z"
   },
   {
    "duration": 101,
    "start_time": "2021-07-25T08:06:05.455Z"
   },
   {
    "duration": 106,
    "start_time": "2021-07-25T08:06:05.561Z"
   },
   {
    "duration": 193,
    "start_time": "2021-07-25T08:06:05.671Z"
   },
   {
    "duration": 190,
    "start_time": "2021-07-25T08:06:05.867Z"
   },
   {
    "duration": 6,
    "start_time": "2021-07-25T08:06:16.675Z"
   },
   {
    "duration": 43,
    "start_time": "2021-07-25T08:06:42.903Z"
   },
   {
    "duration": 521,
    "start_time": "2021-07-25T08:07:22.984Z"
   },
   {
    "duration": 161,
    "start_time": "2021-07-25T08:07:44.840Z"
   },
   {
    "duration": 81,
    "start_time": "2021-07-25T08:07:45.884Z"
   },
   {
    "duration": 50,
    "start_time": "2021-07-25T08:07:47.048Z"
   },
   {
    "duration": 7,
    "start_time": "2021-07-25T08:07:58.320Z"
   },
   {
    "duration": 44,
    "start_time": "2021-07-25T08:08:35.220Z"
   },
   {
    "duration": 14,
    "start_time": "2021-07-25T08:09:00.027Z"
   },
   {
    "duration": 7,
    "start_time": "2021-07-25T08:09:19.657Z"
   },
   {
    "duration": 7,
    "start_time": "2021-07-25T08:09:48.017Z"
   },
   {
    "duration": 22,
    "start_time": "2021-07-25T08:10:03.290Z"
   },
   {
    "duration": 10,
    "start_time": "2021-07-25T08:10:32.449Z"
   },
   {
    "duration": 20,
    "start_time": "2021-07-25T08:11:10.538Z"
   },
   {
    "duration": 9,
    "start_time": "2021-07-25T08:11:39.042Z"
   },
   {
    "duration": 20,
    "start_time": "2021-07-25T08:11:44.066Z"
   },
   {
    "duration": 10,
    "start_time": "2021-07-25T08:12:11.651Z"
   },
   {
    "duration": 11,
    "start_time": "2021-07-25T08:12:26.879Z"
   },
   {
    "duration": 11,
    "start_time": "2021-07-25T08:12:35.330Z"
   },
   {
    "duration": 12,
    "start_time": "2021-07-25T08:12:44.575Z"
   },
   {
    "duration": 1618,
    "start_time": "2021-07-25T08:14:33.727Z"
   },
   {
    "duration": 169,
    "start_time": "2021-07-25T08:14:35.347Z"
   },
   {
    "duration": 89,
    "start_time": "2021-07-25T08:14:35.519Z"
   },
   {
    "duration": 56,
    "start_time": "2021-07-25T08:14:35.611Z"
   },
   {
    "duration": 20,
    "start_time": "2021-07-25T08:14:35.670Z"
   },
   {
    "duration": 172,
    "start_time": "2021-07-25T08:14:35.693Z"
   },
   {
    "duration": 94,
    "start_time": "2021-07-25T08:14:35.868Z"
   },
   {
    "duration": 48,
    "start_time": "2021-07-25T08:14:35.967Z"
   },
   {
    "duration": 37,
    "start_time": "2021-07-25T08:14:36.019Z"
   },
   {
    "duration": 154,
    "start_time": "2021-07-25T08:14:36.059Z"
   },
   {
    "duration": 95,
    "start_time": "2021-07-25T08:14:36.216Z"
   },
   {
    "duration": 65,
    "start_time": "2021-07-25T08:14:36.314Z"
   },
   {
    "duration": 21,
    "start_time": "2021-07-25T08:14:36.382Z"
   },
   {
    "duration": 13,
    "start_time": "2021-07-25T08:14:36.406Z"
   },
   {
    "duration": 52,
    "start_time": "2021-07-25T08:14:36.422Z"
   },
   {
    "duration": 18,
    "start_time": "2021-07-25T08:14:36.477Z"
   },
   {
    "duration": 18,
    "start_time": "2021-07-25T08:14:36.497Z"
   },
   {
    "duration": 48,
    "start_time": "2021-07-25T08:14:36.518Z"
   },
   {
    "duration": 16,
    "start_time": "2021-07-25T08:14:36.569Z"
   },
   {
    "duration": 17,
    "start_time": "2021-07-25T08:14:36.587Z"
   },
   {
    "duration": 59,
    "start_time": "2021-07-25T08:14:36.606Z"
   },
   {
    "duration": 106,
    "start_time": "2021-07-25T08:14:36.668Z"
   },
   {
    "duration": 181,
    "start_time": "2021-07-25T08:14:36.780Z"
   },
   {
    "duration": 107,
    "start_time": "2021-07-25T08:14:36.965Z"
   },
   {
    "duration": 190,
    "start_time": "2021-07-25T08:17:51.485Z"
   },
   {
    "duration": 428,
    "start_time": "2021-07-25T08:18:46.620Z"
   },
   {
    "duration": 416,
    "start_time": "2021-07-25T08:20:48.523Z"
   },
   {
    "duration": 443,
    "start_time": "2021-07-25T08:20:59.854Z"
   },
   {
    "duration": 683,
    "start_time": "2021-07-25T08:21:25.183Z"
   },
   {
    "duration": 511,
    "start_time": "2021-07-25T08:26:53.141Z"
   },
   {
    "duration": 11,
    "start_time": "2021-07-25T08:27:14.129Z"
   },
   {
    "duration": 436,
    "start_time": "2021-07-25T08:27:42.746Z"
   },
   {
    "duration": 1636,
    "start_time": "2021-07-25T08:28:29.629Z"
   },
   {
    "duration": 213,
    "start_time": "2021-07-25T08:28:31.267Z"
   },
   {
    "duration": 97,
    "start_time": "2021-07-25T08:28:31.483Z"
   },
   {
    "duration": 86,
    "start_time": "2021-07-25T08:28:31.583Z"
   },
   {
    "duration": 20,
    "start_time": "2021-07-25T08:28:31.672Z"
   },
   {
    "duration": 462,
    "start_time": "2021-07-25T08:28:31.694Z"
   },
   {
    "duration": 164,
    "start_time": "2021-07-25T08:28:32.158Z"
   },
   {
    "duration": 103,
    "start_time": "2021-07-25T08:28:32.325Z"
   },
   {
    "duration": 53,
    "start_time": "2021-07-25T08:28:32.431Z"
   },
   {
    "duration": 9,
    "start_time": "2021-07-25T08:28:32.486Z"
   },
   {
    "duration": 441,
    "start_time": "2021-07-25T08:28:32.498Z"
   },
   {
    "duration": 23,
    "start_time": "2021-07-25T08:28:32.941Z"
   },
   {
    "duration": 453,
    "start_time": "2021-07-25T08:28:32.966Z"
   },
   {
    "duration": 161,
    "start_time": "2021-07-25T08:28:33.422Z"
   },
   {
    "duration": 86,
    "start_time": "2021-07-25T08:28:33.586Z"
   },
   {
    "duration": 45,
    "start_time": "2021-07-25T08:28:33.674Z"
   },
   {
    "duration": 41,
    "start_time": "2021-07-25T08:28:33.722Z"
   },
   {
    "duration": 453,
    "start_time": "2021-07-25T08:28:33.765Z"
   },
   {
    "duration": 15,
    "start_time": "2021-07-25T08:28:34.220Z"
   },
   {
    "duration": 36,
    "start_time": "2021-07-25T08:28:34.238Z"
   },
   {
    "duration": 21,
    "start_time": "2021-07-25T08:28:34.278Z"
   },
   {
    "duration": 21,
    "start_time": "2021-07-25T08:28:34.301Z"
   },
   {
    "duration": 17,
    "start_time": "2021-07-25T08:28:34.358Z"
   },
   {
    "duration": 20,
    "start_time": "2021-07-25T08:28:34.378Z"
   },
   {
    "duration": 18,
    "start_time": "2021-07-25T08:28:34.400Z"
   },
   {
    "duration": 50,
    "start_time": "2021-07-25T08:28:34.421Z"
   },
   {
    "duration": 108,
    "start_time": "2021-07-25T08:28:34.557Z"
   },
   {
    "duration": 196,
    "start_time": "2021-07-25T08:28:34.669Z"
   },
   {
    "duration": 109,
    "start_time": "2021-07-25T08:28:34.956Z"
   },
   {
    "duration": 19,
    "start_time": "2021-07-25T08:31:07.520Z"
   },
   {
    "duration": 1489,
    "start_time": "2021-07-25T08:32:11.969Z"
   },
   {
    "duration": 162,
    "start_time": "2021-07-25T08:32:13.461Z"
   },
   {
    "duration": 96,
    "start_time": "2021-07-25T08:32:13.626Z"
   },
   {
    "duration": 56,
    "start_time": "2021-07-25T08:32:13.725Z"
   },
   {
    "duration": 453,
    "start_time": "2021-07-25T08:32:13.784Z"
   },
   {
    "duration": 163,
    "start_time": "2021-07-25T08:32:14.239Z"
   },
   {
    "duration": 89,
    "start_time": "2021-07-25T08:32:14.405Z"
   },
   {
    "duration": 59,
    "start_time": "2021-07-25T08:32:14.498Z"
   },
   {
    "duration": 455,
    "start_time": "2021-07-25T08:32:14.560Z"
   },
   {
    "duration": 161,
    "start_time": "2021-07-25T08:32:15.017Z"
   },
   {
    "duration": 94,
    "start_time": "2021-07-25T08:32:15.180Z"
   },
   {
    "duration": 46,
    "start_time": "2021-07-25T08:32:15.277Z"
   },
   {
    "duration": 458,
    "start_time": "2021-07-25T08:32:15.326Z"
   },
   {
    "duration": 14,
    "start_time": "2021-07-25T08:32:15.786Z"
   },
   {
    "duration": 32,
    "start_time": "2021-07-25T08:32:15.802Z"
   },
   {
    "duration": 32,
    "start_time": "2021-07-25T08:32:15.836Z"
   },
   {
    "duration": 18,
    "start_time": "2021-07-25T08:32:15.870Z"
   },
   {
    "duration": 20,
    "start_time": "2021-07-25T08:32:15.891Z"
   },
   {
    "duration": 58,
    "start_time": "2021-07-25T08:32:15.914Z"
   },
   {
    "duration": 16,
    "start_time": "2021-07-25T08:32:15.974Z"
   },
   {
    "duration": 16,
    "start_time": "2021-07-25T08:32:15.993Z"
   },
   {
    "duration": 54,
    "start_time": "2021-07-25T08:32:16.011Z"
   },
   {
    "duration": 96,
    "start_time": "2021-07-25T08:32:16.160Z"
   },
   {
    "duration": 101,
    "start_time": "2021-07-25T08:32:16.356Z"
   },
   {
    "duration": 103,
    "start_time": "2021-07-25T08:32:16.461Z"
   },
   {
    "duration": 15,
    "start_time": "2021-07-25T08:34:01.070Z"
   },
   {
    "duration": 8,
    "start_time": "2021-07-25T08:34:19.910Z"
   },
   {
    "duration": 9,
    "start_time": "2021-07-25T09:02:21.072Z"
   },
   {
    "duration": 8,
    "start_time": "2021-07-25T09:03:06.929Z"
   },
   {
    "duration": 8,
    "start_time": "2021-07-25T11:26:31.979Z"
   },
   {
    "duration": 4,
    "start_time": "2021-07-25T11:29:49.069Z"
   },
   {
    "duration": 7,
    "start_time": "2021-07-25T11:30:16.105Z"
   },
   {
    "duration": 24,
    "start_time": "2021-07-25T11:36:29.672Z"
   },
   {
    "duration": 22,
    "start_time": "2021-07-25T11:36:50.821Z"
   },
   {
    "duration": 123,
    "start_time": "2021-07-25T11:43:19.320Z"
   },
   {
    "duration": 501,
    "start_time": "2021-07-25T11:43:38.620Z"
   },
   {
    "duration": 137,
    "start_time": "2021-07-25T11:44:37.908Z"
   },
   {
    "duration": 1481,
    "start_time": "2021-07-25T11:45:07.992Z"
   },
   {
    "duration": 163,
    "start_time": "2021-07-25T11:45:09.476Z"
   },
   {
    "duration": 88,
    "start_time": "2021-07-25T11:45:09.643Z"
   },
   {
    "duration": 64,
    "start_time": "2021-07-25T11:45:09.735Z"
   },
   {
    "duration": 477,
    "start_time": "2021-07-25T11:45:09.802Z"
   },
   {
    "duration": 173,
    "start_time": "2021-07-25T11:45:10.282Z"
   },
   {
    "duration": 98,
    "start_time": "2021-07-25T11:45:10.458Z"
   },
   {
    "duration": 48,
    "start_time": "2021-07-25T11:45:10.561Z"
   },
   {
    "duration": 466,
    "start_time": "2021-07-25T11:45:10.612Z"
   },
   {
    "duration": 156,
    "start_time": "2021-07-25T11:45:11.080Z"
   },
   {
    "duration": 91,
    "start_time": "2021-07-25T11:45:11.238Z"
   },
   {
    "duration": 54,
    "start_time": "2021-07-25T11:45:11.331Z"
   },
   {
    "duration": 446,
    "start_time": "2021-07-25T11:45:11.387Z"
   },
   {
    "duration": 22,
    "start_time": "2021-07-25T11:45:11.835Z"
   },
   {
    "duration": 30,
    "start_time": "2021-07-25T11:45:11.860Z"
   },
   {
    "duration": 19,
    "start_time": "2021-07-25T11:45:11.892Z"
   },
   {
    "duration": 43,
    "start_time": "2021-07-25T11:45:11.914Z"
   },
   {
    "duration": 20,
    "start_time": "2021-07-25T11:45:11.960Z"
   },
   {
    "duration": 17,
    "start_time": "2021-07-25T11:45:11.983Z"
   },
   {
    "duration": 20,
    "start_time": "2021-07-25T11:45:12.002Z"
   },
   {
    "duration": 46,
    "start_time": "2021-07-25T11:45:12.025Z"
   },
   {
    "duration": 83,
    "start_time": "2021-07-25T11:45:12.074Z"
   },
   {
    "duration": 102,
    "start_time": "2021-07-25T11:45:12.167Z"
   },
   {
    "duration": 191,
    "start_time": "2021-07-25T11:45:12.273Z"
   },
   {
    "duration": 214,
    "start_time": "2021-07-25T11:45:12.467Z"
   },
   {
    "duration": 497,
    "start_time": "2021-07-25T11:45:42.268Z"
   },
   {
    "duration": 22,
    "start_time": "2021-07-25T11:45:50.432Z"
   },
   {
    "duration": 120,
    "start_time": "2021-07-25T11:46:43.180Z"
   },
   {
    "duration": 132,
    "start_time": "2021-07-25T11:57:04.445Z"
   },
   {
    "duration": 127,
    "start_time": "2021-07-25T11:57:18.254Z"
   },
   {
    "duration": 1515,
    "start_time": "2021-07-25T11:58:26.425Z"
   },
   {
    "duration": 162,
    "start_time": "2021-07-25T11:58:27.943Z"
   },
   {
    "duration": 96,
    "start_time": "2021-07-25T11:58:28.108Z"
   },
   {
    "duration": 62,
    "start_time": "2021-07-25T11:58:28.207Z"
   },
   {
    "duration": 455,
    "start_time": "2021-07-25T11:58:28.272Z"
   },
   {
    "duration": 157,
    "start_time": "2021-07-25T11:58:28.730Z"
   },
   {
    "duration": 96,
    "start_time": "2021-07-25T11:58:28.890Z"
   },
   {
    "duration": 65,
    "start_time": "2021-07-25T11:58:28.992Z"
   },
   {
    "duration": 463,
    "start_time": "2021-07-25T11:58:29.061Z"
   },
   {
    "duration": 185,
    "start_time": "2021-07-25T11:58:29.527Z"
   },
   {
    "duration": 81,
    "start_time": "2021-07-25T11:58:29.715Z"
   },
   {
    "duration": 49,
    "start_time": "2021-07-25T11:58:29.798Z"
   },
   {
    "duration": 457,
    "start_time": "2021-07-25T11:58:29.855Z"
   },
   {
    "duration": 14,
    "start_time": "2021-07-25T11:58:30.315Z"
   },
   {
    "duration": 54,
    "start_time": "2021-07-25T11:58:30.331Z"
   },
   {
    "duration": 21,
    "start_time": "2021-07-25T11:58:30.387Z"
   },
   {
    "duration": 21,
    "start_time": "2021-07-25T11:58:30.410Z"
   },
   {
    "duration": 25,
    "start_time": "2021-07-25T11:58:30.433Z"
   },
   {
    "duration": 20,
    "start_time": "2021-07-25T11:58:30.461Z"
   },
   {
    "duration": 26,
    "start_time": "2021-07-25T11:58:30.483Z"
   },
   {
    "duration": 43,
    "start_time": "2021-07-25T11:58:30.511Z"
   },
   {
    "duration": 98,
    "start_time": "2021-07-25T11:58:30.557Z"
   },
   {
    "duration": 105,
    "start_time": "2021-07-25T11:58:30.663Z"
   },
   {
    "duration": 284,
    "start_time": "2021-07-25T11:58:30.771Z"
   },
   {
    "duration": 119,
    "start_time": "2021-07-25T11:58:31.059Z"
   },
   {
    "duration": 22,
    "start_time": "2021-07-25T11:58:48.801Z"
   },
   {
    "duration": 24,
    "start_time": "2021-07-25T11:58:59.585Z"
   },
   {
    "duration": 24,
    "start_time": "2021-07-25T11:59:20.466Z"
   },
   {
    "duration": 23,
    "start_time": "2021-07-25T11:59:37.654Z"
   },
   {
    "duration": 487,
    "start_time": "2021-07-25T12:01:17.690Z"
   },
   {
    "duration": 356,
    "start_time": "2021-07-25T12:03:03.163Z"
   },
   {
    "duration": 340,
    "start_time": "2021-07-25T12:03:10.063Z"
   },
   {
    "duration": 31,
    "start_time": "2021-07-25T12:04:16.555Z"
   },
   {
    "duration": 23,
    "start_time": "2021-07-25T12:04:34.283Z"
   },
   {
    "duration": 24,
    "start_time": "2021-07-25T12:04:56.592Z"
   },
   {
    "duration": 26,
    "start_time": "2021-07-25T12:05:18.084Z"
   },
   {
    "duration": 25,
    "start_time": "2021-07-25T12:05:25.640Z"
   },
   {
    "duration": 117,
    "start_time": "2021-07-25T12:05:57.141Z"
   },
   {
    "duration": 21,
    "start_time": "2021-07-25T12:06:24.033Z"
   },
   {
    "duration": 23,
    "start_time": "2021-07-25T12:06:32.259Z"
   },
   {
    "duration": 23,
    "start_time": "2021-07-25T12:07:52.658Z"
   },
   {
    "duration": 24,
    "start_time": "2021-07-25T12:13:51.857Z"
   },
   {
    "duration": 24,
    "start_time": "2021-07-25T12:14:27.430Z"
   },
   {
    "duration": 23,
    "start_time": "2021-07-25T12:14:59.501Z"
   },
   {
    "duration": 24,
    "start_time": "2021-07-25T12:15:37.738Z"
   },
   {
    "duration": 22,
    "start_time": "2021-07-25T12:15:45.655Z"
   },
   {
    "duration": 24,
    "start_time": "2021-07-25T12:16:18.278Z"
   },
   {
    "duration": 22,
    "start_time": "2021-07-25T12:17:06.635Z"
   },
   {
    "duration": 23,
    "start_time": "2021-07-25T12:17:50.919Z"
   },
   {
    "duration": 23,
    "start_time": "2021-07-25T12:18:01.655Z"
   },
   {
    "duration": 24,
    "start_time": "2021-07-25T12:18:49.184Z"
   },
   {
    "duration": 23,
    "start_time": "2021-07-25T12:19:10.648Z"
   },
   {
    "duration": 22,
    "start_time": "2021-07-25T12:31:57.755Z"
   },
   {
    "duration": 23,
    "start_time": "2021-07-25T12:32:04.070Z"
   },
   {
    "duration": 22,
    "start_time": "2021-07-25T12:34:34.264Z"
   },
   {
    "duration": 23,
    "start_time": "2021-07-25T12:34:49.004Z"
   },
   {
    "duration": 23,
    "start_time": "2021-07-25T12:35:08.340Z"
   },
   {
    "duration": 22,
    "start_time": "2021-07-25T12:35:15.748Z"
   },
   {
    "duration": 26,
    "start_time": "2021-07-25T12:44:03.781Z"
   },
   {
    "duration": 24,
    "start_time": "2021-07-25T12:46:00.854Z"
   },
   {
    "duration": 28,
    "start_time": "2021-07-25T12:48:43.719Z"
   },
   {
    "duration": 24,
    "start_time": "2021-07-25T12:57:59.116Z"
   },
   {
    "duration": 1441,
    "start_time": "2021-07-25T12:58:22.037Z"
   },
   {
    "duration": 167,
    "start_time": "2021-07-25T12:58:23.481Z"
   },
   {
    "duration": 84,
    "start_time": "2021-07-25T12:58:23.654Z"
   },
   {
    "duration": 60,
    "start_time": "2021-07-25T12:58:23.741Z"
   },
   {
    "duration": 455,
    "start_time": "2021-07-25T12:58:23.804Z"
   },
   {
    "duration": 166,
    "start_time": "2021-07-25T12:58:24.262Z"
   },
   {
    "duration": 90,
    "start_time": "2021-07-25T12:58:24.431Z"
   },
   {
    "duration": 58,
    "start_time": "2021-07-25T12:58:24.523Z"
   },
   {
    "duration": 445,
    "start_time": "2021-07-25T12:58:24.585Z"
   },
   {
    "duration": 161,
    "start_time": "2021-07-25T12:58:25.033Z"
   },
   {
    "duration": 96,
    "start_time": "2021-07-25T12:58:25.197Z"
   },
   {
    "duration": 62,
    "start_time": "2021-07-25T12:58:25.296Z"
   },
   {
    "duration": 489,
    "start_time": "2021-07-25T12:58:25.361Z"
   },
   {
    "duration": 14,
    "start_time": "2021-07-25T12:58:25.852Z"
   },
   {
    "duration": 32,
    "start_time": "2021-07-25T12:58:25.868Z"
   },
   {
    "duration": 21,
    "start_time": "2021-07-25T12:58:25.902Z"
   },
   {
    "duration": 47,
    "start_time": "2021-07-25T12:58:25.925Z"
   },
   {
    "duration": 18,
    "start_time": "2021-07-25T12:58:25.975Z"
   },
   {
    "duration": 16,
    "start_time": "2021-07-25T12:58:25.995Z"
   },
   {
    "duration": 50,
    "start_time": "2021-07-25T12:58:26.014Z"
   },
   {
    "duration": 20,
    "start_time": "2021-07-25T12:58:26.067Z"
   },
   {
    "duration": 15,
    "start_time": "2021-07-25T12:58:26.089Z"
   },
   {
    "duration": 108,
    "start_time": "2021-07-25T12:58:26.157Z"
   },
   {
    "duration": 109,
    "start_time": "2021-07-25T12:58:26.356Z"
   },
   {
    "duration": 733,
    "start_time": "2021-07-25T12:58:26.467Z"
   },
   {
    "duration": 23,
    "start_time": "2021-07-25T12:58:47.732Z"
   },
   {
    "duration": 16,
    "start_time": "2021-07-25T13:01:00.694Z"
   },
   {
    "duration": 24,
    "start_time": "2021-07-25T13:01:02.452Z"
   },
   {
    "duration": 1494,
    "start_time": "2021-07-25T13:01:53.052Z"
   },
   {
    "duration": 169,
    "start_time": "2021-07-25T13:01:54.549Z"
   },
   {
    "duration": 91,
    "start_time": "2021-07-25T13:01:54.721Z"
   },
   {
    "duration": 63,
    "start_time": "2021-07-25T13:01:54.815Z"
   },
   {
    "duration": 460,
    "start_time": "2021-07-25T13:01:54.880Z"
   },
   {
    "duration": 164,
    "start_time": "2021-07-25T13:01:55.342Z"
   },
   {
    "duration": 96,
    "start_time": "2021-07-25T13:01:55.508Z"
   },
   {
    "duration": 65,
    "start_time": "2021-07-25T13:01:55.606Z"
   },
   {
    "duration": 454,
    "start_time": "2021-07-25T13:01:55.675Z"
   },
   {
    "duration": 170,
    "start_time": "2021-07-25T13:01:56.132Z"
   },
   {
    "duration": 95,
    "start_time": "2021-07-25T13:01:56.305Z"
   },
   {
    "duration": 61,
    "start_time": "2021-07-25T13:01:56.403Z"
   },
   {
    "duration": 452,
    "start_time": "2021-07-25T13:01:56.467Z"
   },
   {
    "duration": 15,
    "start_time": "2021-07-25T13:01:56.922Z"
   },
   {
    "duration": 37,
    "start_time": "2021-07-25T13:01:56.939Z"
   },
   {
    "duration": 20,
    "start_time": "2021-07-25T13:01:56.978Z"
   },
   {
    "duration": 20,
    "start_time": "2021-07-25T13:01:57.000Z"
   },
   {
    "duration": 51,
    "start_time": "2021-07-25T13:01:57.022Z"
   },
   {
    "duration": 17,
    "start_time": "2021-07-25T13:01:57.076Z"
   },
   {
    "duration": 25,
    "start_time": "2021-07-25T13:01:57.096Z"
   },
   {
    "duration": 49,
    "start_time": "2021-07-25T13:01:57.123Z"
   },
   {
    "duration": 105,
    "start_time": "2021-07-25T13:01:57.258Z"
   },
   {
    "duration": 196,
    "start_time": "2021-07-25T13:01:57.366Z"
   },
   {
    "duration": 116,
    "start_time": "2021-07-25T13:01:57.566Z"
   },
   {
    "duration": 84,
    "start_time": "2021-07-25T13:01:57.685Z"
   },
   {
    "duration": 22,
    "start_time": "2021-07-25T13:01:57.772Z"
   },
   {
    "duration": 25,
    "start_time": "2021-07-25T13:05:21.316Z"
   },
   {
    "duration": 27,
    "start_time": "2021-07-25T13:06:25.961Z"
   },
   {
    "duration": 26,
    "start_time": "2021-07-25T13:23:27.342Z"
   },
   {
    "duration": 28,
    "start_time": "2021-07-25T13:23:46.890Z"
   },
   {
    "duration": 21,
    "start_time": "2021-07-25T13:26:55.874Z"
   },
   {
    "duration": 29,
    "start_time": "2021-07-25T13:26:57.431Z"
   },
   {
    "duration": 442,
    "start_time": "2021-07-25T13:31:16.590Z"
   },
   {
    "duration": 6,
    "start_time": "2021-07-25T14:56:06.289Z"
   },
   {
    "duration": 462,
    "start_time": "2021-07-25T14:56:20.705Z"
   },
   {
    "duration": 340,
    "start_time": "2021-07-25T14:58:26.972Z"
   },
   {
    "duration": 6,
    "start_time": "2021-07-25T14:59:09.483Z"
   },
   {
    "duration": 5,
    "start_time": "2021-07-25T15:01:03.232Z"
   },
   {
    "duration": 8,
    "start_time": "2021-07-25T15:01:25.484Z"
   },
   {
    "duration": 5,
    "start_time": "2021-07-25T15:04:42.026Z"
   },
   {
    "duration": 8,
    "start_time": "2021-07-25T15:04:44.682Z"
   },
   {
    "duration": 8,
    "start_time": "2021-07-25T15:05:00.238Z"
   },
   {
    "duration": 9,
    "start_time": "2021-07-25T15:05:08.646Z"
   },
   {
    "duration": 352,
    "start_time": "2021-07-25T15:05:28.358Z"
   },
   {
    "duration": 8,
    "start_time": "2021-07-25T15:05:56.809Z"
   },
   {
    "duration": 8,
    "start_time": "2021-07-25T15:06:03.718Z"
   },
   {
    "duration": 7,
    "start_time": "2021-07-25T15:06:13.427Z"
   },
   {
    "duration": 11,
    "start_time": "2021-07-25T15:09:14.369Z"
   },
   {
    "duration": 6,
    "start_time": "2021-07-25T15:12:38.126Z"
   },
   {
    "duration": 6,
    "start_time": "2021-07-25T15:12:47.026Z"
   },
   {
    "duration": 7,
    "start_time": "2021-07-25T15:12:59.726Z"
   },
   {
    "duration": 10,
    "start_time": "2021-07-25T15:13:09.370Z"
   },
   {
    "duration": 6,
    "start_time": "2021-07-25T15:13:37.303Z"
   },
   {
    "duration": 353,
    "start_time": "2021-07-25T15:14:08.263Z"
   },
   {
    "duration": 8,
    "start_time": "2021-07-25T15:16:31.148Z"
   },
   {
    "duration": 4,
    "start_time": "2021-07-25T15:17:01.434Z"
   },
   {
    "duration": 6,
    "start_time": "2021-07-25T15:31:48.572Z"
   },
   {
    "duration": 5,
    "start_time": "2021-07-25T15:32:03.296Z"
   },
   {
    "duration": 1604,
    "start_time": "2021-07-26T13:22:18.701Z"
   },
   {
    "duration": 196,
    "start_time": "2021-07-26T13:22:20.308Z"
   },
   {
    "duration": 102,
    "start_time": "2021-07-26T13:22:20.507Z"
   },
   {
    "duration": 52,
    "start_time": "2021-07-26T13:22:20.613Z"
   },
   {
    "duration": 487,
    "start_time": "2021-07-26T13:22:20.667Z"
   },
   {
    "duration": 165,
    "start_time": "2021-07-26T13:22:21.157Z"
   },
   {
    "duration": 97,
    "start_time": "2021-07-26T13:22:21.324Z"
   },
   {
    "duration": 60,
    "start_time": "2021-07-26T13:22:21.424Z"
   },
   {
    "duration": 461,
    "start_time": "2021-07-26T13:22:21.486Z"
   },
   {
    "duration": 166,
    "start_time": "2021-07-26T13:22:21.949Z"
   },
   {
    "duration": 97,
    "start_time": "2021-07-26T13:22:22.117Z"
   },
   {
    "duration": 46,
    "start_time": "2021-07-26T13:22:22.217Z"
   },
   {
    "duration": 482,
    "start_time": "2021-07-26T13:22:22.265Z"
   },
   {
    "duration": 18,
    "start_time": "2021-07-26T13:22:22.750Z"
   },
   {
    "duration": 27,
    "start_time": "2021-07-26T13:22:22.782Z"
   },
   {
    "duration": 18,
    "start_time": "2021-07-26T13:22:22.812Z"
   },
   {
    "duration": 55,
    "start_time": "2021-07-26T13:22:22.832Z"
   },
   {
    "duration": 44,
    "start_time": "2021-07-26T13:22:22.890Z"
   },
   {
    "duration": 56,
    "start_time": "2021-07-26T13:22:22.936Z"
   },
   {
    "duration": 17,
    "start_time": "2021-07-26T13:22:23.082Z"
   },
   {
    "duration": 111,
    "start_time": "2021-07-26T13:22:23.183Z"
   },
   {
    "duration": 87,
    "start_time": "2021-07-26T13:22:23.297Z"
   },
   {
    "duration": 500,
    "start_time": "2021-07-26T13:22:23.391Z"
   },
   {
    "duration": -170,
    "start_time": "2021-07-26T13:22:24.064Z"
   },
   {
    "duration": -218,
    "start_time": "2021-07-26T13:22:24.114Z"
   },
   {
    "duration": -221,
    "start_time": "2021-07-26T13:22:24.119Z"
   },
   {
    "duration": -220,
    "start_time": "2021-07-26T13:22:24.120Z"
   },
   {
    "duration": 298,
    "start_time": "2021-07-26T13:23:45.097Z"
   },
   {
    "duration": 25,
    "start_time": "2021-07-26T13:25:17.498Z"
   },
   {
    "duration": 1115,
    "start_time": "2021-07-29T18:26:09.960Z"
   },
   {
    "duration": 133,
    "start_time": "2021-07-29T18:26:11.077Z"
   },
   {
    "duration": 50,
    "start_time": "2021-07-29T18:26:11.211Z"
   },
   {
    "duration": 34,
    "start_time": "2021-07-29T18:26:11.263Z"
   },
   {
    "duration": 278,
    "start_time": "2021-07-29T18:26:11.299Z"
   },
   {
    "duration": 124,
    "start_time": "2021-07-29T18:26:11.578Z"
   },
   {
    "duration": 57,
    "start_time": "2021-07-29T18:26:11.703Z"
   },
   {
    "duration": 36,
    "start_time": "2021-07-29T18:26:11.762Z"
   },
   {
    "duration": 273,
    "start_time": "2021-07-29T18:26:11.800Z"
   },
   {
    "duration": 125,
    "start_time": "2021-07-29T18:26:12.075Z"
   },
   {
    "duration": 54,
    "start_time": "2021-07-29T18:26:12.202Z"
   },
   {
    "duration": 34,
    "start_time": "2021-07-29T18:26:12.258Z"
   },
   {
    "duration": 277,
    "start_time": "2021-07-29T18:26:12.293Z"
   },
   {
    "duration": 11,
    "start_time": "2021-07-29T18:26:12.573Z"
   },
   {
    "duration": 19,
    "start_time": "2021-07-29T18:26:12.585Z"
   },
   {
    "duration": 14,
    "start_time": "2021-07-29T18:26:12.605Z"
   },
   {
    "duration": 14,
    "start_time": "2021-07-29T18:26:12.640Z"
   },
   {
    "duration": 31,
    "start_time": "2021-07-29T18:26:12.655Z"
   },
   {
    "duration": 55,
    "start_time": "2021-07-29T18:26:12.687Z"
   },
   {
    "duration": 103,
    "start_time": "2021-07-29T18:26:12.744Z"
   },
   {
    "duration": 194,
    "start_time": "2021-07-29T18:26:12.850Z"
   },
   {
    "duration": 94,
    "start_time": "2021-07-29T18:26:13.046Z"
   },
   {
    "duration": 103,
    "start_time": "2021-07-29T18:26:13.146Z"
   },
   {
    "duration": 338,
    "start_time": "2021-07-29T18:26:13.251Z"
   },
   {
    "duration": -1285,
    "start_time": "2021-07-29T18:26:14.876Z"
   },
   {
    "duration": -1295,
    "start_time": "2021-07-29T18:26:14.887Z"
   },
   {
    "duration": -1296,
    "start_time": "2021-07-29T18:26:14.889Z"
   },
   {
    "duration": 312,
    "start_time": "2021-07-30T02:52:53.445Z"
   },
   {
    "duration": 1546,
    "start_time": "2021-07-30T02:53:28.528Z"
   },
   {
    "duration": 172,
    "start_time": "2021-07-30T02:53:30.076Z"
   },
   {
    "duration": 81,
    "start_time": "2021-07-30T02:53:30.251Z"
   },
   {
    "duration": 66,
    "start_time": "2021-07-30T02:53:30.334Z"
   },
   {
    "duration": 486,
    "start_time": "2021-07-30T02:53:30.402Z"
   },
   {
    "duration": 170,
    "start_time": "2021-07-30T02:53:30.890Z"
   },
   {
    "duration": 94,
    "start_time": "2021-07-30T02:53:31.062Z"
   },
   {
    "duration": 48,
    "start_time": "2021-07-30T02:53:31.158Z"
   },
   {
    "duration": 476,
    "start_time": "2021-07-30T02:53:31.210Z"
   },
   {
    "duration": 167,
    "start_time": "2021-07-30T02:53:31.688Z"
   },
   {
    "duration": 85,
    "start_time": "2021-07-30T02:53:31.857Z"
   },
   {
    "duration": 49,
    "start_time": "2021-07-30T02:53:31.955Z"
   },
   {
    "duration": 479,
    "start_time": "2021-07-30T02:53:32.006Z"
   },
   {
    "duration": 15,
    "start_time": "2021-07-30T02:53:32.487Z"
   },
   {
    "duration": 30,
    "start_time": "2021-07-30T02:53:32.504Z"
   },
   {
    "duration": 21,
    "start_time": "2021-07-30T02:53:32.553Z"
   },
   {
    "duration": 37,
    "start_time": "2021-07-30T02:53:32.576Z"
   },
   {
    "duration": 67,
    "start_time": "2021-07-30T02:53:32.615Z"
   },
   {
    "duration": 70,
    "start_time": "2021-07-30T02:53:32.685Z"
   },
   {
    "duration": 108,
    "start_time": "2021-07-30T02:53:32.758Z"
   },
   {
    "duration": 204,
    "start_time": "2021-07-30T02:53:32.868Z"
   },
   {
    "duration": 5,
    "start_time": "2021-07-30T02:53:33.157Z"
   },
   {
    "duration": 123,
    "start_time": "2021-07-30T02:53:33.164Z"
   },
   {
    "duration": 401,
    "start_time": "2021-07-30T02:53:33.290Z"
   },
   {
    "duration": -906,
    "start_time": "2021-07-30T02:53:34.599Z"
   },
   {
    "duration": -908,
    "start_time": "2021-07-30T02:53:34.603Z"
   },
   {
    "duration": -908,
    "start_time": "2021-07-30T02:53:34.604Z"
   },
   {
    "duration": 1402,
    "start_time": "2021-07-30T06:57:10.775Z"
   },
   {
    "duration": 169,
    "start_time": "2021-07-30T06:57:12.180Z"
   },
   {
    "duration": 85,
    "start_time": "2021-07-30T06:57:12.354Z"
   },
   {
    "duration": 61,
    "start_time": "2021-07-30T06:57:12.442Z"
   },
   {
    "duration": 493,
    "start_time": "2021-07-30T06:57:12.505Z"
   },
   {
    "duration": 171,
    "start_time": "2021-07-30T06:57:13.001Z"
   },
   {
    "duration": 94,
    "start_time": "2021-07-30T06:57:13.175Z"
   },
   {
    "duration": 50,
    "start_time": "2021-07-30T06:57:13.273Z"
   },
   {
    "duration": 588,
    "start_time": "2021-07-30T06:57:13.326Z"
   },
   {
    "duration": 175,
    "start_time": "2021-07-30T06:57:13.917Z"
   },
   {
    "duration": 100,
    "start_time": "2021-07-30T06:57:14.095Z"
   },
   {
    "duration": 64,
    "start_time": "2021-07-30T06:57:14.198Z"
   },
   {
    "duration": 496,
    "start_time": "2021-07-30T06:57:14.265Z"
   },
   {
    "duration": 15,
    "start_time": "2021-07-30T06:57:14.764Z"
   },
   {
    "duration": 30,
    "start_time": "2021-07-30T06:57:14.781Z"
   },
   {
    "duration": 49,
    "start_time": "2021-07-30T06:57:14.814Z"
   },
   {
    "duration": 19,
    "start_time": "2021-07-30T06:57:14.866Z"
   },
   {
    "duration": 67,
    "start_time": "2021-07-30T06:57:14.888Z"
   },
   {
    "duration": 18,
    "start_time": "2021-07-30T06:57:14.957Z"
   },
   {
    "duration": 181,
    "start_time": "2021-07-30T06:57:14.978Z"
   },
   {
    "duration": 105,
    "start_time": "2021-07-30T06:57:15.162Z"
   },
   {
    "duration": 5,
    "start_time": "2021-07-30T06:57:15.357Z"
   },
   {
    "duration": 115,
    "start_time": "2021-07-30T06:57:15.369Z"
   },
   {
    "duration": 393,
    "start_time": "2021-07-30T06:57:15.486Z"
   },
   {
    "duration": -1028,
    "start_time": "2021-07-30T06:57:16.909Z"
   },
   {
    "duration": -1044,
    "start_time": "2021-07-30T06:57:16.926Z"
   },
   {
    "duration": -1049,
    "start_time": "2021-07-30T06:57:16.933Z"
   },
   {
    "duration": 23,
    "start_time": "2021-07-30T06:59:16.548Z"
   },
   {
    "duration": 279,
    "start_time": "2021-07-30T06:59:43.584Z"
   },
   {
    "duration": 17,
    "start_time": "2021-07-30T06:59:56.697Z"
   },
   {
    "duration": 13,
    "start_time": "2021-07-30T07:00:12.809Z"
   },
   {
    "duration": 17,
    "start_time": "2021-07-30T07:00:22.565Z"
   },
   {
    "duration": 15,
    "start_time": "2021-07-30T07:01:48.966Z"
   },
   {
    "duration": 19,
    "start_time": "2021-07-30T07:02:15.342Z"
   },
   {
    "duration": 15,
    "start_time": "2021-07-30T07:02:25.966Z"
   },
   {
    "duration": 19,
    "start_time": "2021-07-30T07:03:08.723Z"
   },
   {
    "duration": 20,
    "start_time": "2021-07-30T07:03:22.010Z"
   },
   {
    "duration": 322,
    "start_time": "2021-07-30T07:04:56.651Z"
   },
   {
    "duration": 18,
    "start_time": "2021-07-30T07:05:04.480Z"
   },
   {
    "duration": 11,
    "start_time": "2021-07-30T07:06:48.696Z"
   },
   {
    "duration": 11,
    "start_time": "2021-07-30T07:07:05.534Z"
   },
   {
    "duration": 18,
    "start_time": "2021-07-30T07:07:13.996Z"
   },
   {
    "duration": 6,
    "start_time": "2021-07-30T07:11:03.198Z"
   },
   {
    "duration": 5,
    "start_time": "2021-07-30T07:11:17.074Z"
   },
   {
    "duration": 5,
    "start_time": "2021-07-30T07:12:20.783Z"
   },
   {
    "duration": 87,
    "start_time": "2021-07-30T07:14:32.488Z"
   },
   {
    "duration": 91,
    "start_time": "2021-07-30T07:14:38.868Z"
   },
   {
    "duration": 20,
    "start_time": "2021-07-30T07:14:55.192Z"
   },
   {
    "duration": 252,
    "start_time": "2021-07-30T07:29:14.156Z"
   },
   {
    "duration": 13,
    "start_time": "2021-07-30T07:29:21.656Z"
   },
   {
    "duration": 22,
    "start_time": "2021-07-30T07:29:42.552Z"
   },
   {
    "duration": 23,
    "start_time": "2021-07-30T07:30:07.141Z"
   },
   {
    "duration": 11,
    "start_time": "2021-07-30T07:30:18.740Z"
   },
   {
    "duration": 48,
    "start_time": "2021-07-30T07:30:44.253Z"
   },
   {
    "duration": 23,
    "start_time": "2021-07-30T07:30:46.045Z"
   },
   {
    "duration": 15,
    "start_time": "2021-07-30T07:30:46.980Z"
   },
   {
    "duration": 17,
    "start_time": "2021-07-30T07:30:48.129Z"
   },
   {
    "duration": 1465,
    "start_time": "2021-07-30T07:33:06.814Z"
   },
   {
    "duration": 183,
    "start_time": "2021-07-30T07:33:08.282Z"
   },
   {
    "duration": 95,
    "start_time": "2021-07-30T07:33:08.468Z"
   },
   {
    "duration": 55,
    "start_time": "2021-07-30T07:33:08.566Z"
   },
   {
    "duration": 493,
    "start_time": "2021-07-30T07:33:08.624Z"
   },
   {
    "duration": 184,
    "start_time": "2021-07-30T07:33:09.120Z"
   },
   {
    "duration": 98,
    "start_time": "2021-07-30T07:33:09.306Z"
   },
   {
    "duration": 64,
    "start_time": "2021-07-30T07:33:09.408Z"
   },
   {
    "duration": 483,
    "start_time": "2021-07-30T07:33:09.475Z"
   },
   {
    "duration": 181,
    "start_time": "2021-07-30T07:33:09.960Z"
   },
   {
    "duration": 93,
    "start_time": "2021-07-30T07:33:10.144Z"
   },
   {
    "duration": 59,
    "start_time": "2021-07-30T07:33:10.239Z"
   },
   {
    "duration": 496,
    "start_time": "2021-07-30T07:33:10.300Z"
   },
   {
    "duration": 3,
    "start_time": "2021-07-30T07:33:10.799Z"
   },
   {
    "duration": 113,
    "start_time": "2021-07-30T07:33:10.805Z"
   },
   {
    "duration": 105,
    "start_time": "2021-07-30T07:33:10.920Z"
   },
   {
    "duration": 105,
    "start_time": "2021-07-30T07:33:11.027Z"
   },
   {
    "duration": 87,
    "start_time": "2021-07-30T07:33:11.135Z"
   },
   {
    "duration": 340,
    "start_time": "2021-07-30T07:33:11.225Z"
   },
   {
    "duration": 208,
    "start_time": "2021-07-30T07:33:11.568Z"
   },
   {
    "duration": 197,
    "start_time": "2021-07-30T07:33:11.779Z"
   },
   {
    "duration": 4,
    "start_time": "2021-07-30T07:33:11.979Z"
   },
   {
    "duration": 27,
    "start_time": "2021-07-30T07:33:11.987Z"
   },
   {
    "duration": 306,
    "start_time": "2021-07-30T07:33:12.017Z"
   },
   {
    "duration": -1076,
    "start_time": "2021-07-30T07:33:13.401Z"
   },
   {
    "duration": -1082,
    "start_time": "2021-07-30T07:33:13.409Z"
   },
   {
    "duration": -1088,
    "start_time": "2021-07-30T07:33:13.416Z"
   },
   {
    "duration": 11,
    "start_time": "2021-07-30T07:34:20.559Z"
   },
   {
    "duration": 1611,
    "start_time": "2021-07-30T08:05:59.303Z"
   },
   {
    "duration": 289,
    "start_time": "2021-07-30T08:06:00.918Z"
   },
   {
    "duration": 101,
    "start_time": "2021-07-30T08:06:01.211Z"
   },
   {
    "duration": 74,
    "start_time": "2021-07-30T08:06:01.316Z"
   },
   {
    "duration": 484,
    "start_time": "2021-07-30T08:06:01.392Z"
   },
   {
    "duration": 178,
    "start_time": "2021-07-30T08:06:01.879Z"
   },
   {
    "duration": 100,
    "start_time": "2021-07-30T08:06:02.059Z"
   },
   {
    "duration": 49,
    "start_time": "2021-07-30T08:06:02.163Z"
   },
   {
    "duration": 481,
    "start_time": "2021-07-30T08:06:02.215Z"
   },
   {
    "duration": 171,
    "start_time": "2021-07-30T08:06:02.698Z"
   },
   {
    "duration": 98,
    "start_time": "2021-07-30T08:06:02.872Z"
   },
   {
    "duration": 50,
    "start_time": "2021-07-30T08:06:02.972Z"
   },
   {
    "duration": 494,
    "start_time": "2021-07-30T08:06:03.024Z"
   },
   {
    "duration": 15,
    "start_time": "2021-07-30T08:06:03.521Z"
   },
   {
    "duration": 41,
    "start_time": "2021-07-30T08:06:03.539Z"
   },
   {
    "duration": 19,
    "start_time": "2021-07-30T08:06:03.584Z"
   },
   {
    "duration": 50,
    "start_time": "2021-07-30T08:06:03.606Z"
   },
   {
    "duration": 47,
    "start_time": "2021-07-30T08:06:03.658Z"
   },
   {
    "duration": 57,
    "start_time": "2021-07-30T08:06:03.708Z"
   },
   {
    "duration": 98,
    "start_time": "2021-07-30T08:06:03.856Z"
   },
   {
    "duration": 109,
    "start_time": "2021-07-30T08:06:03.959Z"
   },
   {
    "duration": 85,
    "start_time": "2021-07-30T08:06:04.071Z"
   },
   {
    "duration": 119,
    "start_time": "2021-07-30T08:06:04.163Z"
   },
   {
    "duration": 408,
    "start_time": "2021-07-30T08:06:04.285Z"
   },
   {
    "duration": -1061,
    "start_time": "2021-07-30T08:06:05.756Z"
   },
   {
    "duration": -1066,
    "start_time": "2021-07-30T08:06:05.763Z"
   },
   {
    "duration": -1078,
    "start_time": "2021-07-30T08:06:05.776Z"
   },
   {
    "duration": 268,
    "start_time": "2021-07-30T08:06:39.424Z"
   },
   {
    "duration": 376,
    "start_time": "2021-07-30T08:06:56.000Z"
   },
   {
    "duration": 20,
    "start_time": "2021-07-30T08:07:26.124Z"
   },
   {
    "duration": 4,
    "start_time": "2021-07-30T12:03:32.715Z"
   },
   {
    "duration": 6,
    "start_time": "2021-07-30T13:02:08.801Z"
   },
   {
    "duration": 2161,
    "start_time": "2021-07-30T16:09:16.016Z"
   },
   {
    "duration": 278,
    "start_time": "2021-07-30T16:09:18.181Z"
   },
   {
    "duration": 160,
    "start_time": "2021-07-30T16:09:18.463Z"
   },
   {
    "duration": 85,
    "start_time": "2021-07-30T16:09:18.626Z"
   },
   {
    "duration": 714,
    "start_time": "2021-07-30T16:09:18.714Z"
   },
   {
    "duration": 271,
    "start_time": "2021-07-30T16:09:19.431Z"
   },
   {
    "duration": 97,
    "start_time": "2021-07-30T16:09:19.705Z"
   },
   {
    "duration": 57,
    "start_time": "2021-07-30T16:09:19.806Z"
   },
   {
    "duration": 466,
    "start_time": "2021-07-30T16:09:19.866Z"
   },
   {
    "duration": 170,
    "start_time": "2021-07-30T16:09:20.335Z"
   },
   {
    "duration": 99,
    "start_time": "2021-07-30T16:09:20.507Z"
   },
   {
    "duration": 63,
    "start_time": "2021-07-30T16:09:20.608Z"
   },
   {
    "duration": 472,
    "start_time": "2021-07-30T16:09:20.673Z"
   },
   {
    "duration": 20,
    "start_time": "2021-07-30T16:09:21.154Z"
   },
   {
    "duration": 16,
    "start_time": "2021-07-30T16:09:21.177Z"
   },
   {
    "duration": 17,
    "start_time": "2021-07-30T16:09:21.196Z"
   },
   {
    "duration": 10,
    "start_time": "2021-07-30T16:09:21.216Z"
   },
   {
    "duration": 95,
    "start_time": "2021-07-30T16:09:21.229Z"
   },
   {
    "duration": 136,
    "start_time": "2021-07-30T16:09:21.327Z"
   },
   {
    "duration": 109,
    "start_time": "2021-07-30T16:09:21.465Z"
   },
   {
    "duration": 193,
    "start_time": "2021-07-30T16:09:21.578Z"
   },
   {
    "duration": 85,
    "start_time": "2021-07-30T16:09:21.774Z"
   },
   {
    "duration": 599,
    "start_time": "2021-07-30T16:09:21.865Z"
   },
   {
    "duration": -1239,
    "start_time": "2021-07-30T16:09:23.706Z"
   },
   {
    "duration": -1241,
    "start_time": "2021-07-30T16:09:23.709Z"
   },
   {
    "duration": -1277,
    "start_time": "2021-07-30T16:09:23.747Z"
   },
   {
    "duration": -1284,
    "start_time": "2021-07-30T16:09:23.755Z"
   },
   {
    "duration": -1286,
    "start_time": "2021-07-30T16:09:23.759Z"
   },
   {
    "duration": 1922,
    "start_time": "2021-07-30T16:10:08.633Z"
   },
   {
    "duration": 259,
    "start_time": "2021-07-30T16:10:10.558Z"
   },
   {
    "duration": 156,
    "start_time": "2021-07-30T16:10:10.820Z"
   },
   {
    "duration": 81,
    "start_time": "2021-07-30T16:10:10.979Z"
   },
   {
    "duration": 654,
    "start_time": "2021-07-30T16:10:11.063Z"
   },
   {
    "duration": 248,
    "start_time": "2021-07-30T16:10:11.720Z"
   },
   {
    "duration": 99,
    "start_time": "2021-07-30T16:10:11.970Z"
   },
   {
    "duration": 49,
    "start_time": "2021-07-30T16:10:12.073Z"
   },
   {
    "duration": 483,
    "start_time": "2021-07-30T16:10:12.126Z"
   },
   {
    "duration": 172,
    "start_time": "2021-07-30T16:10:12.611Z"
   },
   {
    "duration": 100,
    "start_time": "2021-07-30T16:10:12.786Z"
   },
   {
    "duration": 49,
    "start_time": "2021-07-30T16:10:12.889Z"
   },
   {
    "duration": 476,
    "start_time": "2021-07-30T16:10:12.955Z"
   },
   {
    "duration": 22,
    "start_time": "2021-07-30T16:10:13.434Z"
   },
   {
    "duration": 38,
    "start_time": "2021-07-30T16:10:13.459Z"
   },
   {
    "duration": 30,
    "start_time": "2021-07-30T16:10:13.499Z"
   },
   {
    "duration": 37,
    "start_time": "2021-07-30T16:10:13.532Z"
   },
   {
    "duration": 48,
    "start_time": "2021-07-30T16:10:13.572Z"
   },
   {
    "duration": 231,
    "start_time": "2021-07-30T16:10:13.622Z"
   },
   {
    "duration": 197,
    "start_time": "2021-07-30T16:10:13.857Z"
   },
   {
    "duration": 21,
    "start_time": "2021-07-30T16:10:14.057Z"
   },
   {
    "duration": 8,
    "start_time": "2021-07-30T16:10:14.158Z"
   },
   {
    "duration": 501,
    "start_time": "2021-07-30T16:10:14.254Z"
   },
   {
    "duration": -1237,
    "start_time": "2021-07-30T16:10:15.995Z"
   },
   {
    "duration": -1267,
    "start_time": "2021-07-30T16:10:16.027Z"
   },
   {
    "duration": -1278,
    "start_time": "2021-07-30T16:10:16.040Z"
   },
   {
    "duration": -1281,
    "start_time": "2021-07-30T16:10:16.045Z"
   },
   {
    "duration": -1286,
    "start_time": "2021-07-30T16:10:16.052Z"
   },
   {
    "duration": 27,
    "start_time": "2021-07-30T17:24:23.008Z"
   },
   {
    "duration": 1512,
    "start_time": "2021-08-01T06:42:44.011Z"
   },
   {
    "duration": 281,
    "start_time": "2021-08-01T06:42:45.526Z"
   },
   {
    "duration": 99,
    "start_time": "2021-08-01T06:42:45.811Z"
   },
   {
    "duration": 65,
    "start_time": "2021-08-01T06:42:45.913Z"
   },
   {
    "duration": 504,
    "start_time": "2021-08-01T06:42:45.980Z"
   },
   {
    "duration": 180,
    "start_time": "2021-08-01T06:42:46.486Z"
   },
   {
    "duration": 107,
    "start_time": "2021-08-01T06:42:46.668Z"
   },
   {
    "duration": 51,
    "start_time": "2021-08-01T06:42:46.780Z"
   },
   {
    "duration": 496,
    "start_time": "2021-08-01T06:42:46.833Z"
   },
   {
    "duration": 188,
    "start_time": "2021-08-01T06:42:47.331Z"
   },
   {
    "duration": 109,
    "start_time": "2021-08-01T06:42:47.521Z"
   },
   {
    "duration": 60,
    "start_time": "2021-08-01T06:42:47.633Z"
   },
   {
    "duration": 502,
    "start_time": "2021-08-01T06:42:47.695Z"
   },
   {
    "duration": 15,
    "start_time": "2021-08-01T06:42:48.199Z"
   },
   {
    "duration": 50,
    "start_time": "2021-08-01T06:42:48.216Z"
   },
   {
    "duration": 21,
    "start_time": "2021-08-01T06:42:48.268Z"
   },
   {
    "duration": 20,
    "start_time": "2021-08-01T06:42:48.291Z"
   },
   {
    "duration": 88,
    "start_time": "2021-08-01T06:42:48.313Z"
   },
   {
    "duration": 63,
    "start_time": "2021-08-01T06:42:48.403Z"
   },
   {
    "duration": 103,
    "start_time": "2021-08-01T06:42:48.470Z"
   },
   {
    "duration": 187,
    "start_time": "2021-08-01T06:42:48.575Z"
   },
   {
    "duration": 6,
    "start_time": "2021-08-01T06:42:48.765Z"
   },
   {
    "duration": 673,
    "start_time": "2021-08-01T06:42:48.863Z"
   },
   {
    "duration": -1649,
    "start_time": "2021-08-01T06:42:51.189Z"
   },
   {
    "duration": -1654,
    "start_time": "2021-08-01T06:42:51.196Z"
   },
   {
    "duration": -1675,
    "start_time": "2021-08-01T06:42:51.218Z"
   },
   {
    "duration": -1680,
    "start_time": "2021-08-01T06:42:51.225Z"
   },
   {
    "duration": -1686,
    "start_time": "2021-08-01T06:42:51.233Z"
   },
   {
    "duration": 7,
    "start_time": "2021-08-01T06:44:00.424Z"
   },
   {
    "duration": 269,
    "start_time": "2021-08-01T06:44:09.021Z"
   },
   {
    "duration": 3,
    "start_time": "2021-08-01T06:45:55.946Z"
   },
   {
    "duration": 13,
    "start_time": "2021-08-01T06:46:06.288Z"
   },
   {
    "duration": 6,
    "start_time": "2021-08-01T06:47:42.394Z"
   },
   {
    "duration": 11,
    "start_time": "2021-08-01T06:47:44.146Z"
   },
   {
    "duration": 1561,
    "start_time": "2021-08-01T06:48:07.546Z"
   },
   {
    "duration": 175,
    "start_time": "2021-08-01T06:48:09.110Z"
   },
   {
    "duration": 99,
    "start_time": "2021-08-01T06:48:09.288Z"
   },
   {
    "duration": 55,
    "start_time": "2021-08-01T06:48:09.391Z"
   },
   {
    "duration": 506,
    "start_time": "2021-08-01T06:48:09.461Z"
   },
   {
    "duration": 173,
    "start_time": "2021-08-01T06:48:09.970Z"
   },
   {
    "duration": 99,
    "start_time": "2021-08-01T06:48:10.146Z"
   },
   {
    "duration": 50,
    "start_time": "2021-08-01T06:48:10.261Z"
   },
   {
    "duration": 474,
    "start_time": "2021-08-01T06:48:10.314Z"
   },
   {
    "duration": 174,
    "start_time": "2021-08-01T06:48:10.790Z"
   },
   {
    "duration": 101,
    "start_time": "2021-08-01T06:48:10.967Z"
   },
   {
    "duration": 52,
    "start_time": "2021-08-01T06:48:11.071Z"
   },
   {
    "duration": 491,
    "start_time": "2021-08-01T06:48:11.126Z"
   },
   {
    "duration": 15,
    "start_time": "2021-08-01T06:48:11.620Z"
   },
   {
    "duration": 46,
    "start_time": "2021-08-01T06:48:11.639Z"
   },
   {
    "duration": 19,
    "start_time": "2021-08-01T06:48:11.687Z"
   },
   {
    "duration": 20,
    "start_time": "2021-08-01T06:48:11.708Z"
   },
   {
    "duration": 50,
    "start_time": "2021-08-01T06:48:11.763Z"
   },
   {
    "duration": 56,
    "start_time": "2021-08-01T06:48:11.815Z"
   },
   {
    "duration": 99,
    "start_time": "2021-08-01T06:48:11.964Z"
   },
   {
    "duration": 196,
    "start_time": "2021-08-01T06:48:12.066Z"
   },
   {
    "duration": 96,
    "start_time": "2021-08-01T06:48:12.265Z"
   },
   {
    "duration": 4,
    "start_time": "2021-08-01T06:48:12.366Z"
   },
   {
    "duration": 19,
    "start_time": "2021-08-01T06:48:12.373Z"
   },
   {
    "duration": 604,
    "start_time": "2021-08-01T06:48:12.395Z"
   },
   {
    "duration": -1627,
    "start_time": "2021-08-01T06:48:14.628Z"
   },
   {
    "duration": -1631,
    "start_time": "2021-08-01T06:48:14.634Z"
   },
   {
    "duration": -1647,
    "start_time": "2021-08-01T06:48:14.651Z"
   },
   {
    "duration": -1654,
    "start_time": "2021-08-01T06:48:14.659Z"
   },
   {
    "duration": -1658,
    "start_time": "2021-08-01T06:48:14.665Z"
   },
   {
    "duration": 401,
    "start_time": "2021-08-01T06:49:09.366Z"
   },
   {
    "duration": 17,
    "start_time": "2021-08-01T06:49:52.155Z"
   },
   {
    "duration": 228,
    "start_time": "2021-08-01T06:50:11.559Z"
   },
   {
    "duration": 16,
    "start_time": "2021-08-01T06:50:25.411Z"
   },
   {
    "duration": 287,
    "start_time": "2021-08-01T06:50:26.718Z"
   },
   {
    "duration": 17,
    "start_time": "2021-08-01T06:50:43.651Z"
   },
   {
    "duration": 13,
    "start_time": "2021-08-01T06:51:35.780Z"
   },
   {
    "duration": 14,
    "start_time": "2021-08-01T06:51:50.000Z"
   },
   {
    "duration": 514,
    "start_time": "2021-08-01T06:53:00.813Z"
   },
   {
    "duration": 16,
    "start_time": "2021-08-01T06:53:11.624Z"
   },
   {
    "duration": 30,
    "start_time": "2021-08-01T06:55:13.981Z"
   },
   {
    "duration": 27,
    "start_time": "2021-08-01T06:55:23.073Z"
   },
   {
    "duration": 12,
    "start_time": "2021-08-01T06:57:54.303Z"
   },
   {
    "duration": 6090,
    "start_time": "2021-08-01T07:00:27.764Z"
   },
   {
    "duration": 12,
    "start_time": "2021-08-01T07:00:50.682Z"
   },
   {
    "duration": 1601,
    "start_time": "2021-08-01T07:02:43.313Z"
   },
   {
    "duration": 254,
    "start_time": "2021-08-01T07:02:44.917Z"
   },
   {
    "duration": 90,
    "start_time": "2021-08-01T07:02:45.174Z"
   },
   {
    "duration": 54,
    "start_time": "2021-08-01T07:02:45.267Z"
   },
   {
    "duration": 512,
    "start_time": "2021-08-01T07:02:45.323Z"
   },
   {
    "duration": 696,
    "start_time": "2021-08-01T07:02:45.838Z"
   },
   {
    "duration": 144,
    "start_time": "2021-08-01T07:02:46.538Z"
   },
   {
    "duration": 82,
    "start_time": "2021-08-01T07:02:46.687Z"
   },
   {
    "duration": 673,
    "start_time": "2021-08-01T07:02:46.774Z"
   },
   {
    "duration": 1582,
    "start_time": "2021-08-01T07:02:47.450Z"
   },
   {
    "duration": 146,
    "start_time": "2021-08-01T07:02:49.035Z"
   },
   {
    "duration": 79,
    "start_time": "2021-08-01T07:02:49.184Z"
   },
   {
    "duration": 660,
    "start_time": "2021-08-01T07:02:49.266Z"
   },
   {
    "duration": 18,
    "start_time": "2021-08-01T07:02:49.930Z"
   },
   {
    "duration": 31,
    "start_time": "2021-08-01T07:02:49.963Z"
   },
   {
    "duration": 27,
    "start_time": "2021-08-01T07:02:49.997Z"
   },
   {
    "duration": 55,
    "start_time": "2021-08-01T07:02:50.027Z"
   },
   {
    "duration": 88,
    "start_time": "2021-08-01T07:02:50.085Z"
   },
   {
    "duration": 25,
    "start_time": "2021-08-01T07:02:50.176Z"
   },
   {
    "duration": 104,
    "start_time": "2021-08-01T07:02:50.264Z"
   },
   {
    "duration": 197,
    "start_time": "2021-08-01T07:02:50.371Z"
   },
   {
    "duration": 91,
    "start_time": "2021-08-01T07:02:50.572Z"
   },
   {
    "duration": 489,
    "start_time": "2021-08-01T07:02:50.670Z"
   },
   {
    "duration": -1620,
    "start_time": "2021-08-01T07:02:52.781Z"
   },
   {
    "duration": -1623,
    "start_time": "2021-08-01T07:02:52.786Z"
   },
   {
    "duration": -1634,
    "start_time": "2021-08-01T07:02:52.798Z"
   },
   {
    "duration": -1638,
    "start_time": "2021-08-01T07:02:52.804Z"
   },
   {
    "duration": -1651,
    "start_time": "2021-08-01T07:02:52.818Z"
   },
   {
    "duration": -1665,
    "start_time": "2021-08-01T07:02:52.833Z"
   },
   {
    "duration": 4,
    "start_time": "2021-08-01T07:03:16.022Z"
   },
   {
    "duration": 319,
    "start_time": "2021-08-01T07:03:22.890Z"
   },
   {
    "duration": 6,
    "start_time": "2021-08-01T07:03:39.774Z"
   },
   {
    "duration": 7,
    "start_time": "2021-08-01T07:06:35.804Z"
   },
   {
    "duration": 261,
    "start_time": "2021-08-01T07:07:39.440Z"
   },
   {
    "duration": 16,
    "start_time": "2021-08-01T07:07:45.672Z"
   },
   {
    "duration": 17,
    "start_time": "2021-08-01T07:08:22.645Z"
   },
   {
    "duration": 19,
    "start_time": "2021-08-01T07:08:34.740Z"
   },
   {
    "duration": 1526,
    "start_time": "2021-08-01T07:09:24.094Z"
   },
   {
    "duration": 185,
    "start_time": "2021-08-01T07:09:25.623Z"
   },
   {
    "duration": 100,
    "start_time": "2021-08-01T07:09:25.811Z"
   },
   {
    "duration": 67,
    "start_time": "2021-08-01T07:09:25.914Z"
   },
   {
    "duration": 525,
    "start_time": "2021-08-01T07:09:25.983Z"
   },
   {
    "duration": 187,
    "start_time": "2021-08-01T07:09:26.510Z"
   },
   {
    "duration": 129,
    "start_time": "2021-08-01T07:09:26.700Z"
   },
   {
    "duration": 83,
    "start_time": "2021-08-01T07:09:26.835Z"
   },
   {
    "duration": 532,
    "start_time": "2021-08-01T07:09:26.921Z"
   },
   {
    "duration": 189,
    "start_time": "2021-08-01T07:09:27.461Z"
   },
   {
    "duration": 93,
    "start_time": "2021-08-01T07:09:27.652Z"
   },
   {
    "duration": 71,
    "start_time": "2021-08-01T07:09:27.747Z"
   },
   {
    "duration": 550,
    "start_time": "2021-08-01T07:09:27.821Z"
   },
   {
    "duration": 15,
    "start_time": "2021-08-01T07:09:28.373Z"
   },
   {
    "duration": 32,
    "start_time": "2021-08-01T07:09:28.392Z"
   },
   {
    "duration": 55,
    "start_time": "2021-08-01T07:09:28.427Z"
   },
   {
    "duration": 22,
    "start_time": "2021-08-01T07:09:28.485Z"
   },
   {
    "duration": 79,
    "start_time": "2021-08-01T07:09:28.509Z"
   },
   {
    "duration": 17,
    "start_time": "2021-08-01T07:09:28.591Z"
   },
   {
    "duration": 102,
    "start_time": "2021-08-01T07:09:28.663Z"
   },
   {
    "duration": 103,
    "start_time": "2021-08-01T07:09:28.768Z"
   },
   {
    "duration": 96,
    "start_time": "2021-08-01T07:09:28.879Z"
   },
   {
    "duration": 6,
    "start_time": "2021-08-01T07:09:29.068Z"
   },
   {
    "duration": 23,
    "start_time": "2021-08-01T07:09:29.077Z"
   },
   {
    "duration": 4,
    "start_time": "2021-08-01T07:09:29.102Z"
   },
   {
    "duration": 67,
    "start_time": "2021-08-01T07:09:29.108Z"
   },
   {
    "duration": 20,
    "start_time": "2021-08-01T07:09:29.178Z"
   },
   {
    "duration": 410,
    "start_time": "2021-08-01T07:09:29.200Z"
   },
   {
    "duration": -1600,
    "start_time": "2021-08-01T07:09:31.212Z"
   },
   {
    "duration": 6,
    "start_time": "2021-08-01T07:20:03.735Z"
   },
   {
    "duration": 5,
    "start_time": "2021-08-01T07:20:54.996Z"
   },
   {
    "duration": 244,
    "start_time": "2021-08-01T07:21:49.892Z"
   },
   {
    "duration": 15,
    "start_time": "2021-08-01T07:22:04.669Z"
   },
   {
    "duration": 5,
    "start_time": "2021-08-01T07:22:49.753Z"
   },
   {
    "duration": 11,
    "start_time": "2021-08-01T07:22:51.885Z"
   },
   {
    "duration": 16,
    "start_time": "2021-08-01T07:23:05.050Z"
   },
   {
    "duration": 13,
    "start_time": "2021-08-01T07:23:26.470Z"
   },
   {
    "duration": 18,
    "start_time": "2021-08-01T07:23:46.938Z"
   },
   {
    "duration": 16,
    "start_time": "2021-08-01T07:24:00.882Z"
   },
   {
    "duration": 15,
    "start_time": "2021-08-01T07:24:13.637Z"
   },
   {
    "duration": 12,
    "start_time": "2021-08-01T07:24:40.814Z"
   },
   {
    "duration": 1849,
    "start_time": "2021-08-01T07:25:08.832Z"
   },
   {
    "duration": 208,
    "start_time": "2021-08-01T07:25:10.684Z"
   },
   {
    "duration": 112,
    "start_time": "2021-08-01T07:25:10.895Z"
   },
   {
    "duration": 66,
    "start_time": "2021-08-01T07:25:11.010Z"
   },
   {
    "duration": 551,
    "start_time": "2021-08-01T07:25:11.083Z"
   },
   {
    "duration": 264,
    "start_time": "2021-08-01T07:25:11.636Z"
   },
   {
    "duration": 152,
    "start_time": "2021-08-01T07:25:11.903Z"
   },
   {
    "duration": 69,
    "start_time": "2021-08-01T07:25:12.061Z"
   },
   {
    "duration": 700,
    "start_time": "2021-08-01T07:25:12.136Z"
   },
   {
    "duration": 218,
    "start_time": "2021-08-01T07:25:12.839Z"
   },
   {
    "duration": 90,
    "start_time": "2021-08-01T07:25:13.059Z"
   },
   {
    "duration": 71,
    "start_time": "2021-08-01T07:25:13.152Z"
   },
   {
    "duration": 551,
    "start_time": "2021-08-01T07:25:13.226Z"
   },
   {
    "duration": 15,
    "start_time": "2021-08-01T07:25:13.779Z"
   },
   {
    "duration": 29,
    "start_time": "2021-08-01T07:25:13.797Z"
   },
   {
    "duration": 45,
    "start_time": "2021-08-01T07:25:13.828Z"
   },
   {
    "duration": 23,
    "start_time": "2021-08-01T07:25:13.878Z"
   },
   {
    "duration": 90,
    "start_time": "2021-08-01T07:25:13.903Z"
   },
   {
    "duration": 73,
    "start_time": "2021-08-01T07:25:13.996Z"
   },
   {
    "duration": 106,
    "start_time": "2021-08-01T07:25:14.077Z"
   },
   {
    "duration": 108,
    "start_time": "2021-08-01T07:25:14.188Z"
   },
   {
    "duration": 95,
    "start_time": "2021-08-01T07:25:14.366Z"
   },
   {
    "duration": 12,
    "start_time": "2021-08-01T07:25:14.468Z"
   },
   {
    "duration": 17,
    "start_time": "2021-08-01T07:25:14.485Z"
   },
   {
    "duration": 3,
    "start_time": "2021-08-01T07:25:14.504Z"
   },
   {
    "duration": 54,
    "start_time": "2021-08-01T07:25:14.510Z"
   },
   {
    "duration": 27,
    "start_time": "2021-08-01T07:25:14.572Z"
   },
   {
    "duration": 418,
    "start_time": "2021-08-01T07:25:14.601Z"
   },
   {
    "duration": -1548,
    "start_time": "2021-08-01T07:25:16.569Z"
   },
   {
    "duration": 12,
    "start_time": "2021-08-01T08:00:44.741Z"
   },
   {
    "duration": 7046,
    "start_time": "2021-08-01T08:00:56.778Z"
   },
   {
    "duration": 15,
    "start_time": "2021-08-01T08:01:14.223Z"
   },
   {
    "duration": 8,
    "start_time": "2021-08-01T08:02:44.274Z"
   },
   {
    "duration": 31,
    "start_time": "2021-08-01T08:02:45.303Z"
   },
   {
    "duration": 1685,
    "start_time": "2021-08-01T08:02:53.925Z"
   },
   {
    "duration": 185,
    "start_time": "2021-08-01T08:02:55.613Z"
   },
   {
    "duration": 104,
    "start_time": "2021-08-01T08:02:55.801Z"
   },
   {
    "duration": 60,
    "start_time": "2021-08-01T08:02:55.908Z"
   },
   {
    "duration": 472,
    "start_time": "2021-08-01T08:02:55.971Z"
   },
   {
    "duration": 185,
    "start_time": "2021-08-01T08:02:56.445Z"
   },
   {
    "duration": 114,
    "start_time": "2021-08-01T08:02:56.632Z"
   },
   {
    "duration": 71,
    "start_time": "2021-08-01T08:02:56.751Z"
   },
   {
    "duration": 515,
    "start_time": "2021-08-01T08:02:56.826Z"
   },
   {
    "duration": 182,
    "start_time": "2021-08-01T08:02:57.343Z"
   },
   {
    "duration": 101,
    "start_time": "2021-08-01T08:02:57.527Z"
   },
   {
    "duration": 61,
    "start_time": "2021-08-01T08:02:57.631Z"
   },
   {
    "duration": 474,
    "start_time": "2021-08-01T08:02:57.694Z"
   },
   {
    "duration": 14,
    "start_time": "2021-08-01T08:02:58.170Z"
   },
   {
    "duration": 27,
    "start_time": "2021-08-01T08:02:58.186Z"
   },
   {
    "duration": 54,
    "start_time": "2021-08-01T08:02:58.215Z"
   },
   {
    "duration": 26,
    "start_time": "2021-08-01T08:02:58.272Z"
   },
   {
    "duration": 70,
    "start_time": "2021-08-01T08:02:58.300Z"
   },
   {
    "duration": 24,
    "start_time": "2021-08-01T08:02:58.375Z"
   },
   {
    "duration": 83,
    "start_time": "2021-08-01T08:02:58.402Z"
   },
   {
    "duration": 112,
    "start_time": "2021-08-01T08:02:58.564Z"
   },
   {
    "duration": 6,
    "start_time": "2021-08-01T08:02:58.679Z"
   },
   {
    "duration": 18,
    "start_time": "2021-08-01T08:02:58.766Z"
   },
   {
    "duration": 32,
    "start_time": "2021-08-01T08:02:58.865Z"
   },
   {
    "duration": 4,
    "start_time": "2021-08-01T08:02:58.900Z"
   },
   {
    "duration": 77,
    "start_time": "2021-08-01T08:02:58.908Z"
   },
   {
    "duration": 22,
    "start_time": "2021-08-01T08:02:58.988Z"
   },
   {
    "duration": 414,
    "start_time": "2021-08-01T08:02:59.012Z"
   },
   {
    "duration": -1568,
    "start_time": "2021-08-01T08:03:00.996Z"
   },
   {
    "duration": 24,
    "start_time": "2021-08-01T08:03:34.290Z"
   },
   {
    "duration": 1478,
    "start_time": "2021-08-01T08:03:43.034Z"
   },
   {
    "duration": 192,
    "start_time": "2021-08-01T08:03:44.515Z"
   },
   {
    "duration": 104,
    "start_time": "2021-08-01T08:03:44.710Z"
   },
   {
    "duration": 70,
    "start_time": "2021-08-01T08:03:44.817Z"
   },
   {
    "duration": 510,
    "start_time": "2021-08-01T08:03:44.889Z"
   },
   {
    "duration": 186,
    "start_time": "2021-08-01T08:03:45.401Z"
   },
   {
    "duration": 121,
    "start_time": "2021-08-01T08:03:45.590Z"
   },
   {
    "duration": 57,
    "start_time": "2021-08-01T08:03:45.715Z"
   },
   {
    "duration": 501,
    "start_time": "2021-08-01T08:03:45.775Z"
   },
   {
    "duration": 247,
    "start_time": "2021-08-01T08:03:46.282Z"
   },
   {
    "duration": 157,
    "start_time": "2021-08-01T08:03:46.532Z"
   },
   {
    "duration": 54,
    "start_time": "2021-08-01T08:03:46.692Z"
   },
   {
    "duration": 508,
    "start_time": "2021-08-01T08:03:46.762Z"
   },
   {
    "duration": 19,
    "start_time": "2021-08-01T08:03:47.273Z"
   },
   {
    "duration": 27,
    "start_time": "2021-08-01T08:03:47.295Z"
   },
   {
    "duration": 51,
    "start_time": "2021-08-01T08:03:47.325Z"
   },
   {
    "duration": 21,
    "start_time": "2021-08-01T08:03:47.380Z"
   },
   {
    "duration": 69,
    "start_time": "2021-08-01T08:03:47.404Z"
   },
   {
    "duration": 95,
    "start_time": "2021-08-01T08:03:47.476Z"
   },
   {
    "duration": 94,
    "start_time": "2021-08-01T08:03:47.574Z"
   },
   {
    "duration": 104,
    "start_time": "2021-08-01T08:03:47.672Z"
   },
   {
    "duration": 89,
    "start_time": "2021-08-01T08:03:47.780Z"
   },
   {
    "duration": 9,
    "start_time": "2021-08-01T08:03:47.877Z"
   },
   {
    "duration": 106,
    "start_time": "2021-08-01T08:03:47.890Z"
   },
   {
    "duration": 3,
    "start_time": "2021-08-01T08:03:47.999Z"
   },
   {
    "duration": 29,
    "start_time": "2021-08-01T08:03:48.005Z"
   },
   {
    "duration": 33,
    "start_time": "2021-08-01T08:03:48.062Z"
   },
   {
    "duration": 391,
    "start_time": "2021-08-01T08:03:48.098Z"
   },
   {
    "duration": -1645,
    "start_time": "2021-08-01T08:03:50.136Z"
   },
   {
    "duration": 11,
    "start_time": "2021-08-01T08:08:23.740Z"
   },
   {
    "duration": 17,
    "start_time": "2021-08-01T08:08:42.948Z"
   },
   {
    "duration": 18,
    "start_time": "2021-08-01T08:08:59.076Z"
   },
   {
    "duration": 17,
    "start_time": "2021-08-01T08:09:14.228Z"
   },
   {
    "duration": 16,
    "start_time": "2021-08-01T08:09:21.536Z"
   },
   {
    "duration": 16,
    "start_time": "2021-08-01T08:09:26.319Z"
   },
   {
    "duration": 278,
    "start_time": "2021-08-01T08:18:27.616Z"
   },
   {
    "duration": 16,
    "start_time": "2021-08-01T08:26:36.730Z"
   },
   {
    "duration": 11,
    "start_time": "2021-08-01T08:26:57.770Z"
   },
   {
    "duration": 7,
    "start_time": "2021-08-01T09:06:34.846Z"
   },
   {
    "duration": 275,
    "start_time": "2021-08-01T09:31:39.511Z"
   },
   {
    "duration": 287,
    "start_time": "2021-08-01T09:31:50.271Z"
   },
   {
    "duration": 429,
    "start_time": "2021-08-01T09:33:14.120Z"
   },
   {
    "duration": 416,
    "start_time": "2021-08-01T09:36:50.918Z"
   },
   {
    "duration": 507,
    "start_time": "2021-08-01T09:37:21.174Z"
   },
   {
    "duration": 546,
    "start_time": "2021-08-01T09:37:55.183Z"
   },
   {
    "duration": 3006,
    "start_time": "2021-08-01T09:38:09.751Z"
   },
   {
    "duration": 3691,
    "start_time": "2021-08-01T09:38:26.255Z"
   },
   {
    "duration": 2286,
    "start_time": "2021-08-01T09:39:20.635Z"
   },
   {
    "duration": 2495,
    "start_time": "2021-08-01T09:39:28.184Z"
   },
   {
    "duration": 2203,
    "start_time": "2021-08-01T09:39:59.395Z"
   },
   {
    "duration": 2091,
    "start_time": "2021-08-01T09:40:28.828Z"
   },
   {
    "duration": 2188,
    "start_time": "2021-08-01T09:40:46.892Z"
   },
   {
    "duration": 2076,
    "start_time": "2021-08-01T09:41:12.132Z"
   },
   {
    "duration": 2019,
    "start_time": "2021-08-01T09:41:21.816Z"
   },
   {
    "duration": 2021,
    "start_time": "2021-08-01T09:41:28.012Z"
   },
   {
    "duration": 8,
    "start_time": "2021-08-01T09:46:07.063Z"
   },
   {
    "duration": 7,
    "start_time": "2021-08-01T09:46:14.183Z"
   },
   {
    "duration": 267,
    "start_time": "2021-08-01T09:46:25.474Z"
   },
   {
    "duration": 6,
    "start_time": "2021-08-01T09:46:37.902Z"
   },
   {
    "duration": 5751,
    "start_time": "2021-08-01T09:47:00.823Z"
   },
   {
    "duration": 12,
    "start_time": "2021-08-01T09:47:58.883Z"
   },
   {
    "duration": 13,
    "start_time": "2021-08-01T09:48:53.288Z"
   },
   {
    "duration": 16,
    "start_time": "2021-08-01T09:49:14.004Z"
   },
   {
    "duration": 18,
    "start_time": "2021-08-01T09:49:36.224Z"
   },
   {
    "duration": 22,
    "start_time": "2021-08-01T09:49:43.957Z"
   },
   {
    "duration": 13,
    "start_time": "2021-08-01T09:50:19.713Z"
   },
   {
    "duration": 17,
    "start_time": "2021-08-01T09:50:27.581Z"
   },
   {
    "duration": 6062,
    "start_time": "2021-08-01T09:52:58.450Z"
   },
   {
    "duration": 27,
    "start_time": "2021-08-01T09:53:51.967Z"
   },
   {
    "duration": 27,
    "start_time": "2021-08-01T09:53:54.973Z"
   },
   {
    "duration": 26,
    "start_time": "2021-08-01T09:53:56.503Z"
   },
   {
    "duration": 1512,
    "start_time": "2021-08-01T09:54:22.062Z"
   },
   {
    "duration": 271,
    "start_time": "2021-08-01T09:54:23.577Z"
   },
   {
    "duration": 97,
    "start_time": "2021-08-01T09:54:23.851Z"
   },
   {
    "duration": 62,
    "start_time": "2021-08-01T09:54:23.951Z"
   },
   {
    "duration": 515,
    "start_time": "2021-08-01T09:54:24.016Z"
   },
   {
    "duration": 730,
    "start_time": "2021-08-01T09:54:24.534Z"
   },
   {
    "duration": 97,
    "start_time": "2021-08-01T09:54:25.266Z"
   },
   {
    "duration": 52,
    "start_time": "2021-08-01T09:54:25.368Z"
   },
   {
    "duration": 677,
    "start_time": "2021-08-01T09:54:25.423Z"
   },
   {
    "duration": 531,
    "start_time": "2021-08-01T09:54:26.103Z"
   },
   {
    "duration": 93,
    "start_time": "2021-08-01T09:54:26.637Z"
   },
   {
    "duration": 65,
    "start_time": "2021-08-01T09:54:26.733Z"
   },
   {
    "duration": 477,
    "start_time": "2021-08-01T09:54:26.801Z"
   },
   {
    "duration": 15,
    "start_time": "2021-08-01T09:54:27.280Z"
   },
   {
    "duration": 25,
    "start_time": "2021-08-01T09:54:27.298Z"
   },
   {
    "duration": 60,
    "start_time": "2021-08-01T09:54:27.326Z"
   },
   {
    "duration": 20,
    "start_time": "2021-08-01T09:54:27.388Z"
   },
   {
    "duration": 75,
    "start_time": "2021-08-01T09:54:27.411Z"
   },
   {
    "duration": 74,
    "start_time": "2021-08-01T09:54:27.489Z"
   },
   {
    "duration": 99,
    "start_time": "2021-08-01T09:54:27.568Z"
   },
   {
    "duration": 99,
    "start_time": "2021-08-01T09:54:27.671Z"
   },
   {
    "duration": 8,
    "start_time": "2021-08-01T09:54:27.774Z"
   },
   {
    "duration": 187,
    "start_time": "2021-08-01T09:54:27.788Z"
   },
   {
    "duration": 5788,
    "start_time": "2021-08-01T09:54:27.978Z"
   },
   {
    "duration": 19,
    "start_time": "2021-08-01T09:54:33.768Z"
   },
   {
    "duration": 2077,
    "start_time": "2021-08-01T09:58:14.560Z"
   },
   {
    "duration": 1951,
    "start_time": "2021-08-01T09:58:17.988Z"
   },
   {
    "duration": 1666,
    "start_time": "2021-08-01T10:15:51.538Z"
   },
   {
    "duration": 174,
    "start_time": "2021-08-01T10:15:53.207Z"
   },
   {
    "duration": 99,
    "start_time": "2021-08-01T10:15:53.384Z"
   },
   {
    "duration": 51,
    "start_time": "2021-08-01T10:15:53.486Z"
   },
   {
    "duration": 591,
    "start_time": "2021-08-01T10:15:53.540Z"
   },
   {
    "duration": 168,
    "start_time": "2021-08-01T10:15:54.134Z"
   },
   {
    "duration": 97,
    "start_time": "2021-08-01T10:15:54.305Z"
   },
   {
    "duration": 65,
    "start_time": "2021-08-01T10:15:54.404Z"
   },
   {
    "duration": 727,
    "start_time": "2021-08-01T10:15:54.473Z"
   },
   {
    "duration": 273,
    "start_time": "2021-08-01T10:15:55.205Z"
   },
   {
    "duration": 101,
    "start_time": "2021-08-01T10:15:55.481Z"
   },
   {
    "duration": 81,
    "start_time": "2021-08-01T10:15:55.584Z"
   },
   {
    "duration": 490,
    "start_time": "2021-08-01T10:15:55.668Z"
   },
   {
    "duration": 16,
    "start_time": "2021-08-01T10:15:56.160Z"
   },
   {
    "duration": 35,
    "start_time": "2021-08-01T10:15:56.178Z"
   },
   {
    "duration": 64,
    "start_time": "2021-08-01T10:15:56.216Z"
   },
   {
    "duration": 19,
    "start_time": "2021-08-01T10:15:56.283Z"
   },
   {
    "duration": 74,
    "start_time": "2021-08-01T10:15:56.304Z"
   },
   {
    "duration": 93,
    "start_time": "2021-08-01T10:15:56.381Z"
   },
   {
    "duration": 105,
    "start_time": "2021-08-01T10:15:56.481Z"
   },
   {
    "duration": 94,
    "start_time": "2021-08-01T10:15:56.678Z"
   },
   {
    "duration": 91,
    "start_time": "2021-08-01T10:15:56.777Z"
   },
   {
    "duration": 39,
    "start_time": "2021-08-01T10:15:56.872Z"
   },
   {
    "duration": 1965,
    "start_time": "2021-08-01T10:15:56.914Z"
   },
   {
    "duration": 2257,
    "start_time": "2021-08-01T10:15:58.881Z"
   },
   {
    "duration": 2836,
    "start_time": "2021-08-01T10:16:01.141Z"
   },
   {
    "duration": 1516,
    "start_time": "2021-08-01T10:23:47.781Z"
   },
   {
    "duration": 171,
    "start_time": "2021-08-01T10:23:49.300Z"
   },
   {
    "duration": 97,
    "start_time": "2021-08-01T10:23:49.474Z"
   },
   {
    "duration": 53,
    "start_time": "2021-08-01T10:23:49.575Z"
   },
   {
    "duration": 510,
    "start_time": "2021-08-01T10:23:49.631Z"
   },
   {
    "duration": 173,
    "start_time": "2021-08-01T10:23:50.145Z"
   },
   {
    "duration": 109,
    "start_time": "2021-08-01T10:23:50.321Z"
   },
   {
    "duration": 62,
    "start_time": "2021-08-01T10:23:50.436Z"
   },
   {
    "duration": 491,
    "start_time": "2021-08-01T10:23:50.501Z"
   },
   {
    "duration": 170,
    "start_time": "2021-08-01T10:23:50.994Z"
   },
   {
    "duration": 99,
    "start_time": "2021-08-01T10:23:51.166Z"
   },
   {
    "duration": 51,
    "start_time": "2021-08-01T10:23:51.267Z"
   },
   {
    "duration": 498,
    "start_time": "2021-08-01T10:23:51.320Z"
   },
   {
    "duration": 15,
    "start_time": "2021-08-01T10:23:51.820Z"
   },
   {
    "duration": 45,
    "start_time": "2021-08-01T10:23:51.838Z"
   },
   {
    "duration": 28,
    "start_time": "2021-08-01T10:23:51.886Z"
   },
   {
    "duration": 51,
    "start_time": "2021-08-01T10:23:51.917Z"
   },
   {
    "duration": 66,
    "start_time": "2021-08-01T10:23:51.971Z"
   },
   {
    "duration": 130,
    "start_time": "2021-08-01T10:23:52.040Z"
   },
   {
    "duration": 187,
    "start_time": "2021-08-01T10:23:52.175Z"
   },
   {
    "duration": 109,
    "start_time": "2021-08-01T10:23:52.365Z"
   },
   {
    "duration": 88,
    "start_time": "2021-08-01T10:23:52.478Z"
   },
   {
    "duration": 116,
    "start_time": "2021-08-01T10:23:52.574Z"
   },
   {
    "duration": 2080,
    "start_time": "2021-08-01T10:23:52.693Z"
   },
   {
    "duration": 2401,
    "start_time": "2021-08-01T10:23:54.776Z"
   },
   {
    "duration": 2694,
    "start_time": "2021-08-01T10:23:57.179Z"
   },
   {
    "duration": 72,
    "start_time": "2021-08-01T10:44:47.373Z"
   },
   {
    "duration": 56,
    "start_time": "2021-08-01T10:45:13.549Z"
   },
   {
    "duration": 72,
    "start_time": "2021-08-01T10:45:20.402Z"
   },
   {
    "duration": 621,
    "start_time": "2021-08-01T11:02:50.110Z"
   },
   {
    "duration": 56,
    "start_time": "2021-08-01T11:03:09.770Z"
   },
   {
    "duration": 7,
    "start_time": "2021-08-01T11:03:31.117Z"
   },
   {
    "duration": 480,
    "start_time": "2021-08-01T11:04:51.012Z"
   },
   {
    "duration": 547,
    "start_time": "2021-08-01T11:05:22.099Z"
   },
   {
    "duration": 25,
    "start_time": "2021-08-01T11:08:36.253Z"
   },
   {
    "duration": 34,
    "start_time": "2021-08-01T11:08:38.121Z"
   },
   {
    "duration": 1551,
    "start_time": "2021-08-01T11:08:54.703Z"
   },
   {
    "duration": 180,
    "start_time": "2021-08-01T11:08:56.257Z"
   },
   {
    "duration": 100,
    "start_time": "2021-08-01T11:08:56.439Z"
   },
   {
    "duration": 59,
    "start_time": "2021-08-01T11:08:56.541Z"
   },
   {
    "duration": 497,
    "start_time": "2021-08-01T11:08:56.603Z"
   },
   {
    "duration": 170,
    "start_time": "2021-08-01T11:08:57.103Z"
   },
   {
    "duration": 103,
    "start_time": "2021-08-01T11:08:57.275Z"
   },
   {
    "duration": 82,
    "start_time": "2021-08-01T11:08:57.382Z"
   },
   {
    "duration": 666,
    "start_time": "2021-08-01T11:08:57.469Z"
   },
   {
    "duration": 180,
    "start_time": "2021-08-01T11:08:58.139Z"
   },
   {
    "duration": 98,
    "start_time": "2021-08-01T11:08:58.321Z"
   },
   {
    "duration": 63,
    "start_time": "2021-08-01T11:08:58.422Z"
   },
   {
    "duration": 477,
    "start_time": "2021-08-01T11:08:58.488Z"
   },
   {
    "duration": 15,
    "start_time": "2021-08-01T11:08:58.968Z"
   },
   {
    "duration": 26,
    "start_time": "2021-08-01T11:08:58.986Z"
   },
   {
    "duration": 54,
    "start_time": "2021-08-01T11:08:59.015Z"
   },
   {
    "duration": 20,
    "start_time": "2021-08-01T11:08:59.072Z"
   },
   {
    "duration": 82,
    "start_time": "2021-08-01T11:08:59.094Z"
   },
   {
    "duration": 84,
    "start_time": "2021-08-01T11:08:59.179Z"
   },
   {
    "duration": 102,
    "start_time": "2021-08-01T11:08:59.267Z"
   },
   {
    "duration": 190,
    "start_time": "2021-08-01T11:08:59.378Z"
   },
   {
    "duration": 234,
    "start_time": "2021-08-01T11:08:59.577Z"
   },
   {
    "duration": 7,
    "start_time": "2021-08-01T11:08:59.814Z"
   },
   {
    "duration": 66,
    "start_time": "2021-08-01T11:08:59.824Z"
   },
   {
    "duration": 33,
    "start_time": "2021-08-01T11:08:59.893Z"
   },
   {
    "duration": 3132,
    "start_time": "2021-08-01T11:08:59.930Z"
   },
   {
    "duration": 2279,
    "start_time": "2021-08-01T11:09:03.068Z"
   },
   {
    "duration": 2284,
    "start_time": "2021-08-01T11:09:05.350Z"
   },
   {
    "duration": 28,
    "start_time": "2021-08-01T11:09:53.225Z"
   },
   {
    "duration": 6,
    "start_time": "2021-08-01T11:10:47.858Z"
   },
   {
    "duration": 48,
    "start_time": "2021-08-01T11:13:58.109Z"
   },
   {
    "duration": 21,
    "start_time": "2021-08-01T11:14:19.512Z"
   },
   {
    "duration": 32,
    "start_time": "2021-08-01T11:14:42.709Z"
   },
   {
    "duration": 503,
    "start_time": "2021-08-01T11:15:40.673Z"
   },
   {
    "duration": 416,
    "start_time": "2021-08-01T11:15:54.245Z"
   },
   {
    "duration": 47,
    "start_time": "2021-08-01T11:16:21.073Z"
   },
   {
    "duration": 8,
    "start_time": "2021-08-01T11:16:50.953Z"
   },
   {
    "duration": 436,
    "start_time": "2021-08-01T11:16:55.114Z"
   },
   {
    "duration": 3292,
    "start_time": "2021-08-01T11:17:24.754Z"
   },
   {
    "duration": 453,
    "start_time": "2021-08-01T11:17:53.550Z"
   },
   {
    "duration": 1573,
    "start_time": "2021-08-01T11:18:01.639Z"
   },
   {
    "duration": 187,
    "start_time": "2021-08-01T11:18:03.215Z"
   },
   {
    "duration": 105,
    "start_time": "2021-08-01T11:18:03.405Z"
   },
   {
    "duration": 66,
    "start_time": "2021-08-01T11:18:03.512Z"
   },
   {
    "duration": 509,
    "start_time": "2021-08-01T11:18:03.580Z"
   },
   {
    "duration": 263,
    "start_time": "2021-08-01T11:18:04.092Z"
   },
   {
    "duration": 162,
    "start_time": "2021-08-01T11:18:04.358Z"
   },
   {
    "duration": 85,
    "start_time": "2021-08-01T11:18:04.523Z"
   },
   {
    "duration": 669,
    "start_time": "2021-08-01T11:18:04.613Z"
   },
   {
    "duration": 229,
    "start_time": "2021-08-01T11:18:05.286Z"
   },
   {
    "duration": 98,
    "start_time": "2021-08-01T11:18:05.518Z"
   },
   {
    "duration": 63,
    "start_time": "2021-08-01T11:18:05.618Z"
   },
   {
    "duration": 493,
    "start_time": "2021-08-01T11:18:05.683Z"
   },
   {
    "duration": 15,
    "start_time": "2021-08-01T11:18:06.179Z"
   },
   {
    "duration": 32,
    "start_time": "2021-08-01T11:18:06.198Z"
   },
   {
    "duration": 42,
    "start_time": "2021-08-01T11:18:06.233Z"
   },
   {
    "duration": 20,
    "start_time": "2021-08-01T11:18:06.278Z"
   },
   {
    "duration": 75,
    "start_time": "2021-08-01T11:18:06.301Z"
   },
   {
    "duration": 87,
    "start_time": "2021-08-01T11:18:06.379Z"
   },
   {
    "duration": 106,
    "start_time": "2021-08-01T11:18:06.469Z"
   },
   {
    "duration": 286,
    "start_time": "2021-08-01T11:18:06.578Z"
   },
   {
    "duration": 145,
    "start_time": "2021-08-01T11:18:06.868Z"
   },
   {
    "duration": 69,
    "start_time": "2021-08-01T11:18:07.015Z"
   },
   {
    "duration": 32,
    "start_time": "2021-08-01T11:18:07.087Z"
   },
   {
    "duration": 2032,
    "start_time": "2021-08-01T11:18:07.122Z"
   },
   {
    "duration": 2153,
    "start_time": "2021-08-01T11:18:09.162Z"
   },
   {
    "duration": 2110,
    "start_time": "2021-08-01T11:18:11.320Z"
   },
   {
    "duration": 41,
    "start_time": "2021-08-01T11:18:51.990Z"
   },
   {
    "duration": 46,
    "start_time": "2021-08-01T11:19:36.230Z"
   },
   {
    "duration": 46,
    "start_time": "2021-08-01T11:19:49.530Z"
   },
   {
    "duration": 75,
    "start_time": "2021-08-01T11:20:54.610Z"
   },
   {
    "duration": 57,
    "start_time": "2021-08-01T11:22:07.932Z"
   },
   {
    "duration": 1826,
    "start_time": "2021-08-01T11:22:38.053Z"
   },
   {
    "duration": 173,
    "start_time": "2021-08-01T11:22:39.882Z"
   },
   {
    "duration": 109,
    "start_time": "2021-08-01T11:22:40.058Z"
   },
   {
    "duration": 54,
    "start_time": "2021-08-01T11:22:40.170Z"
   },
   {
    "duration": 702,
    "start_time": "2021-08-01T11:22:40.226Z"
   },
   {
    "duration": 252,
    "start_time": "2021-08-01T11:22:40.931Z"
   },
   {
    "duration": 156,
    "start_time": "2021-08-01T11:22:41.186Z"
   },
   {
    "duration": 77,
    "start_time": "2021-08-01T11:22:41.348Z"
   },
   {
    "duration": 679,
    "start_time": "2021-08-01T11:22:41.429Z"
   },
   {
    "duration": 245,
    "start_time": "2021-08-01T11:22:42.111Z"
   },
   {
    "duration": 152,
    "start_time": "2021-08-01T11:22:42.363Z"
   },
   {
    "duration": 74,
    "start_time": "2021-08-01T11:22:42.519Z"
   },
   {
    "duration": 676,
    "start_time": "2021-08-01T11:22:42.596Z"
   },
   {
    "duration": 19,
    "start_time": "2021-08-01T11:22:43.275Z"
   },
   {
    "duration": 35,
    "start_time": "2021-08-01T11:22:43.297Z"
   },
   {
    "duration": 47,
    "start_time": "2021-08-01T11:22:43.335Z"
   },
   {
    "duration": 26,
    "start_time": "2021-08-01T11:22:43.385Z"
   },
   {
    "duration": 94,
    "start_time": "2021-08-01T11:22:43.414Z"
   },
   {
    "duration": 55,
    "start_time": "2021-08-01T11:22:43.512Z"
   },
   {
    "duration": 195,
    "start_time": "2021-08-01T11:22:43.570Z"
   },
   {
    "duration": 106,
    "start_time": "2021-08-01T11:22:43.768Z"
   },
   {
    "duration": 232,
    "start_time": "2021-08-01T11:22:43.878Z"
   },
   {
    "duration": 30,
    "start_time": "2021-08-01T11:22:44.114Z"
   },
   {
    "duration": 56,
    "start_time": "2021-08-01T11:22:44.163Z"
   },
   {
    "duration": 2568,
    "start_time": "2021-08-01T11:22:44.221Z"
   },
   {
    "duration": 1948,
    "start_time": "2021-08-01T11:22:46.791Z"
   },
   {
    "duration": 2055,
    "start_time": "2021-08-01T11:22:48.741Z"
   },
   {
    "duration": 53,
    "start_time": "2021-08-01T11:24:28.038Z"
   },
   {
    "duration": 54,
    "start_time": "2021-08-01T11:24:32.485Z"
   },
   {
    "duration": 73,
    "start_time": "2021-08-01T11:24:44.074Z"
   },
   {
    "duration": 12,
    "start_time": "2021-08-01T11:25:12.562Z"
   },
   {
    "duration": 5,
    "start_time": "2021-08-01T11:37:05.500Z"
   },
   {
    "duration": 6,
    "start_time": "2021-08-01T11:37:13.360Z"
   },
   {
    "duration": 10,
    "start_time": "2021-08-01T11:37:53.732Z"
   },
   {
    "duration": 6,
    "start_time": "2021-08-01T11:38:06.608Z"
   },
   {
    "duration": 52,
    "start_time": "2021-08-01T11:46:54.182Z"
   },
   {
    "duration": 68,
    "start_time": "2021-08-01T11:47:10.146Z"
   },
   {
    "duration": 10,
    "start_time": "2021-08-01T11:49:27.963Z"
   },
   {
    "duration": 6,
    "start_time": "2021-08-01T11:50:41.812Z"
   },
   {
    "duration": 6,
    "start_time": "2021-08-01T11:50:52.895Z"
   },
   {
    "duration": 21,
    "start_time": "2021-08-01T11:58:52.471Z"
   },
   {
    "duration": 20,
    "start_time": "2021-08-01T11:59:05.600Z"
   },
   {
    "duration": 1850,
    "start_time": "2021-08-01T12:00:12.212Z"
   },
   {
    "duration": 193,
    "start_time": "2021-08-01T12:00:14.066Z"
   },
   {
    "duration": 109,
    "start_time": "2021-08-01T12:00:14.267Z"
   },
   {
    "duration": 56,
    "start_time": "2021-08-01T12:00:14.379Z"
   },
   {
    "duration": 584,
    "start_time": "2021-08-01T12:00:14.437Z"
   },
   {
    "duration": 241,
    "start_time": "2021-08-01T12:00:15.024Z"
   },
   {
    "duration": 171,
    "start_time": "2021-08-01T12:00:15.268Z"
   },
   {
    "duration": 80,
    "start_time": "2021-08-01T12:00:15.442Z"
   },
   {
    "duration": 670,
    "start_time": "2021-08-01T12:00:15.527Z"
   },
   {
    "duration": 260,
    "start_time": "2021-08-01T12:00:16.201Z"
   },
   {
    "duration": 107,
    "start_time": "2021-08-01T12:00:16.467Z"
   },
   {
    "duration": 61,
    "start_time": "2021-08-01T12:00:16.576Z"
   },
   {
    "duration": 576,
    "start_time": "2021-08-01T12:00:16.639Z"
   },
   {
    "duration": 14,
    "start_time": "2021-08-01T12:00:17.217Z"
   },
   {
    "duration": 44,
    "start_time": "2021-08-01T12:00:17.234Z"
   },
   {
    "duration": 29,
    "start_time": "2021-08-01T12:00:17.281Z"
   },
   {
    "duration": 49,
    "start_time": "2021-08-01T12:00:17.313Z"
   },
   {
    "duration": 29,
    "start_time": "2021-08-01T12:00:17.365Z"
   },
   {
    "duration": 81,
    "start_time": "2021-08-01T12:00:17.398Z"
   },
   {
    "duration": 107,
    "start_time": "2021-08-01T12:00:17.481Z"
   },
   {
    "duration": 29,
    "start_time": "2021-08-01T12:00:17.661Z"
   },
   {
    "duration": 93,
    "start_time": "2021-08-01T12:00:17.694Z"
   },
   {
    "duration": 156,
    "start_time": "2021-08-01T12:00:17.864Z"
   },
   {
    "duration": 25,
    "start_time": "2021-08-01T12:00:18.022Z"
   },
   {
    "duration": 73,
    "start_time": "2021-08-01T12:00:18.050Z"
   },
   {
    "duration": 2665,
    "start_time": "2021-08-01T12:00:18.126Z"
   },
   {
    "duration": 2391,
    "start_time": "2021-08-01T12:00:20.797Z"
   },
   {
    "duration": 3015,
    "start_time": "2021-08-01T12:00:23.194Z"
   },
   {
    "duration": 1735,
    "start_time": "2021-08-01T12:02:59.148Z"
   },
   {
    "duration": 194,
    "start_time": "2021-08-01T12:03:00.886Z"
   },
   {
    "duration": 107,
    "start_time": "2021-08-01T12:03:01.083Z"
   },
   {
    "duration": 52,
    "start_time": "2021-08-01T12:03:01.193Z"
   },
   {
    "duration": 554,
    "start_time": "2021-08-01T12:03:01.262Z"
   },
   {
    "duration": 252,
    "start_time": "2021-08-01T12:03:01.819Z"
   },
   {
    "duration": 102,
    "start_time": "2021-08-01T12:03:02.076Z"
   },
   {
    "duration": 57,
    "start_time": "2021-08-01T12:03:02.180Z"
   },
   {
    "duration": 514,
    "start_time": "2021-08-01T12:03:02.241Z"
   },
   {
    "duration": 258,
    "start_time": "2021-08-01T12:03:02.758Z"
   },
   {
    "duration": 156,
    "start_time": "2021-08-01T12:03:03.019Z"
   },
   {
    "duration": 51,
    "start_time": "2021-08-01T12:03:03.178Z"
   },
   {
    "duration": 489,
    "start_time": "2021-08-01T12:03:03.232Z"
   },
   {
    "duration": 13,
    "start_time": "2021-08-01T12:03:03.723Z"
   },
   {
    "duration": 37,
    "start_time": "2021-08-01T12:03:03.739Z"
   },
   {
    "duration": 21,
    "start_time": "2021-08-01T12:03:03.779Z"
   },
   {
    "duration": 30,
    "start_time": "2021-08-01T12:03:03.802Z"
   },
   {
    "duration": 64,
    "start_time": "2021-08-01T12:03:03.834Z"
   },
   {
    "duration": 164,
    "start_time": "2021-08-01T12:03:03.901Z"
   },
   {
    "duration": 26,
    "start_time": "2021-08-01T12:03:04.070Z"
   },
   {
    "duration": 101,
    "start_time": "2021-08-01T12:03:04.163Z"
   },
   {
    "duration": 153,
    "start_time": "2021-08-01T12:03:04.268Z"
   },
   {
    "duration": 30,
    "start_time": "2021-08-01T12:03:04.423Z"
   },
   {
    "duration": 71,
    "start_time": "2021-08-01T12:03:04.461Z"
   },
   {
    "duration": 2114,
    "start_time": "2021-08-01T12:03:04.534Z"
   },
   {
    "duration": 2211,
    "start_time": "2021-08-01T12:03:06.651Z"
   },
   {
    "duration": 2176,
    "start_time": "2021-08-01T12:03:08.868Z"
   },
   {
    "duration": 1553,
    "start_time": "2021-08-01T13:03:43.553Z"
   },
   {
    "duration": 280,
    "start_time": "2021-08-01T13:03:45.109Z"
   },
   {
    "duration": 103,
    "start_time": "2021-08-01T13:03:45.392Z"
   },
   {
    "duration": 66,
    "start_time": "2021-08-01T13:03:45.498Z"
   },
   {
    "duration": 688,
    "start_time": "2021-08-01T13:03:45.567Z"
   },
   {
    "duration": 215,
    "start_time": "2021-08-01T13:03:46.258Z"
   },
   {
    "duration": 166,
    "start_time": "2021-08-01T13:03:46.476Z"
   },
   {
    "duration": 61,
    "start_time": "2021-08-01T13:03:46.646Z"
   },
   {
    "duration": 483,
    "start_time": "2021-08-01T13:03:46.711Z"
   },
   {
    "duration": 176,
    "start_time": "2021-08-01T13:03:47.197Z"
   },
   {
    "duration": 105,
    "start_time": "2021-08-01T13:03:47.376Z"
   },
   {
    "duration": 51,
    "start_time": "2021-08-01T13:03:47.484Z"
   },
   {
    "duration": 506,
    "start_time": "2021-08-01T13:03:47.539Z"
   },
   {
    "duration": 19,
    "start_time": "2021-08-01T13:03:48.048Z"
   },
   {
    "duration": 26,
    "start_time": "2021-08-01T13:03:48.071Z"
   },
   {
    "duration": 19,
    "start_time": "2021-08-01T13:03:48.100Z"
   },
   {
    "duration": 56,
    "start_time": "2021-08-01T13:03:48.122Z"
   },
   {
    "duration": 47,
    "start_time": "2021-08-01T13:03:48.181Z"
   },
   {
    "duration": 141,
    "start_time": "2021-08-01T13:03:48.231Z"
   },
   {
    "duration": 97,
    "start_time": "2021-08-01T13:03:48.375Z"
   },
   {
    "duration": 91,
    "start_time": "2021-08-01T13:03:48.475Z"
   },
   {
    "duration": 227,
    "start_time": "2021-08-01T13:03:48.569Z"
   },
   {
    "duration": 31,
    "start_time": "2021-08-01T13:03:48.800Z"
   },
   {
    "duration": 1983,
    "start_time": "2021-08-01T13:03:48.834Z"
   },
   {
    "duration": 2143,
    "start_time": "2021-08-01T13:03:50.819Z"
   },
   {
    "duration": 1958,
    "start_time": "2021-08-01T13:03:52.964Z"
   },
   {
    "duration": 203,
    "start_time": "2021-08-02T08:15:53.523Z"
   },
   {
    "duration": 1125,
    "start_time": "2021-08-02T08:16:06.307Z"
   },
   {
    "duration": 130,
    "start_time": "2021-08-02T08:16:07.434Z"
   },
   {
    "duration": 54,
    "start_time": "2021-08-02T08:16:07.566Z"
   },
   {
    "duration": 34,
    "start_time": "2021-08-02T08:16:07.622Z"
   },
   {
    "duration": 297,
    "start_time": "2021-08-02T08:16:07.657Z"
   },
   {
    "duration": 128,
    "start_time": "2021-08-02T08:16:07.955Z"
   },
   {
    "duration": 51,
    "start_time": "2021-08-02T08:16:08.085Z"
   },
   {
    "duration": 33,
    "start_time": "2021-08-02T08:16:08.138Z"
   },
   {
    "duration": 302,
    "start_time": "2021-08-02T08:16:08.185Z"
   },
   {
    "duration": 126,
    "start_time": "2021-08-02T08:16:08.488Z"
   },
   {
    "duration": 48,
    "start_time": "2021-08-02T08:16:08.616Z"
   },
   {
    "duration": 46,
    "start_time": "2021-08-02T08:16:08.666Z"
   },
   {
    "duration": 289,
    "start_time": "2021-08-02T08:16:08.713Z"
   },
   {
    "duration": 11,
    "start_time": "2021-08-02T08:16:09.003Z"
   },
   {
    "duration": 18,
    "start_time": "2021-08-02T08:16:09.015Z"
   },
   {
    "duration": 13,
    "start_time": "2021-08-02T08:16:09.034Z"
   },
   {
    "duration": 37,
    "start_time": "2021-08-02T08:16:09.048Z"
   },
   {
    "duration": 32,
    "start_time": "2021-08-02T08:16:09.086Z"
   },
   {
    "duration": 64,
    "start_time": "2021-08-02T08:16:09.120Z"
   },
   {
    "duration": 103,
    "start_time": "2021-08-02T08:16:09.187Z"
   },
   {
    "duration": 96,
    "start_time": "2021-08-02T08:16:09.293Z"
   },
   {
    "duration": 218,
    "start_time": "2021-08-02T08:16:09.392Z"
   },
   {
    "duration": 17,
    "start_time": "2021-08-02T08:16:09.613Z"
   },
   {
    "duration": 57,
    "start_time": "2021-08-02T08:16:09.632Z"
   },
   {
    "duration": 1121,
    "start_time": "2021-08-02T08:16:09.691Z"
   },
   {
    "duration": 1115,
    "start_time": "2021-08-02T08:16:10.813Z"
   },
   {
    "duration": 1094,
    "start_time": "2021-08-02T08:16:11.930Z"
   },
   {
    "duration": 37,
    "start_time": "2021-08-02T08:16:40.113Z"
   },
   {
    "duration": 38,
    "start_time": "2021-08-02T08:17:01.523Z"
   },
   {
    "duration": 40,
    "start_time": "2021-08-02T08:17:13.867Z"
   },
   {
    "duration": 267,
    "start_time": "2021-08-02T08:46:38.678Z"
   },
   {
    "duration": 9,
    "start_time": "2021-08-02T08:53:00.429Z"
   },
   {
    "duration": 12,
    "start_time": "2021-08-02T08:54:30.905Z"
   },
   {
    "duration": 194,
    "start_time": "2021-08-02T08:55:07.222Z"
   },
   {
    "duration": 10,
    "start_time": "2021-08-02T08:55:22.028Z"
   },
   {
    "duration": 10,
    "start_time": "2021-08-02T08:55:30.578Z"
   },
   {
    "duration": 9,
    "start_time": "2021-08-02T08:55:46.818Z"
   },
   {
    "duration": 9,
    "start_time": "2021-08-02T08:55:50.840Z"
   },
   {
    "duration": 64,
    "start_time": "2021-08-02T09:44:37.545Z"
   },
   {
    "duration": 13,
    "start_time": "2021-08-02T09:44:42.349Z"
   },
   {
    "duration": 12,
    "start_time": "2021-08-02T09:44:55.921Z"
   },
   {
    "duration": 232,
    "start_time": "2021-08-02T09:46:00.882Z"
   },
   {
    "duration": 9,
    "start_time": "2021-08-02T09:46:06.419Z"
   },
   {
    "duration": 10,
    "start_time": "2021-08-02T09:46:16.838Z"
   },
   {
    "duration": 8,
    "start_time": "2021-08-02T09:46:26.261Z"
   },
   {
    "duration": 9,
    "start_time": "2021-08-02T09:46:29.930Z"
   },
   {
    "duration": 14,
    "start_time": "2021-08-02T09:46:38.402Z"
   },
   {
    "duration": 18,
    "start_time": "2021-08-02T09:46:54.030Z"
   },
   {
    "duration": 12,
    "start_time": "2021-08-02T09:47:01.749Z"
   },
   {
    "duration": 18,
    "start_time": "2021-08-02T09:47:05.359Z"
   },
   {
    "duration": 10,
    "start_time": "2021-08-02T09:47:38.340Z"
   },
   {
    "duration": 8,
    "start_time": "2021-08-02T09:47:45.751Z"
   },
   {
    "duration": 8,
    "start_time": "2021-08-02T09:47:48.952Z"
   },
   {
    "duration": 8,
    "start_time": "2021-08-02T09:47:52.701Z"
   },
   {
    "duration": 9,
    "start_time": "2021-08-02T09:47:59.270Z"
   },
   {
    "duration": 5,
    "start_time": "2021-08-02T09:48:24.048Z"
   },
   {
    "duration": 4,
    "start_time": "2021-08-02T09:49:52.399Z"
   },
   {
    "duration": 178,
    "start_time": "2021-08-02T15:39:56.697Z"
   },
   {
    "duration": 4,
    "start_time": "2021-08-02T15:40:07.147Z"
   },
   {
    "duration": 139,
    "start_time": "2021-08-02T15:40:08.259Z"
   },
   {
    "duration": 53,
    "start_time": "2021-08-02T15:40:08.532Z"
   },
   {
    "duration": 36,
    "start_time": "2021-08-02T15:40:08.922Z"
   },
   {
    "duration": 302,
    "start_time": "2021-08-02T15:40:09.769Z"
   },
   {
    "duration": 127,
    "start_time": "2021-08-02T15:40:10.815Z"
   },
   {
    "duration": 56,
    "start_time": "2021-08-02T15:40:11.263Z"
   },
   {
    "duration": 36,
    "start_time": "2021-08-02T15:40:12.303Z"
   },
   {
    "duration": 331,
    "start_time": "2021-08-02T15:40:13.660Z"
   },
   {
    "duration": 124,
    "start_time": "2021-08-02T15:40:15.266Z"
   },
   {
    "duration": 57,
    "start_time": "2021-08-02T15:40:15.836Z"
   },
   {
    "duration": 34,
    "start_time": "2021-08-02T15:40:16.856Z"
   },
   {
    "duration": 295,
    "start_time": "2021-08-02T15:40:17.021Z"
   },
   {
    "duration": 10,
    "start_time": "2021-08-02T15:40:18.387Z"
   },
   {
    "duration": 16,
    "start_time": "2021-08-02T15:40:19.601Z"
   },
   {
    "duration": 15,
    "start_time": "2021-08-02T15:40:20.207Z"
   },
   {
    "duration": 15,
    "start_time": "2021-08-02T15:40:20.745Z"
   },
   {
    "duration": 31,
    "start_time": "2021-08-02T15:40:27.351Z"
   },
   {
    "duration": 205,
    "start_time": "2021-08-02T15:40:29.000Z"
   },
   {
    "duration": 3,
    "start_time": "2021-08-02T15:51:27.929Z"
   },
   {
    "duration": 4,
    "start_time": "2021-08-02T15:53:24.276Z"
   },
   {
    "duration": 4,
    "start_time": "2021-08-02T15:54:11.904Z"
   },
   {
    "duration": 10,
    "start_time": "2021-08-02T15:54:32.434Z"
   },
   {
    "duration": 189,
    "start_time": "2021-08-02T15:54:50.305Z"
   },
   {
    "duration": 4,
    "start_time": "2021-08-02T15:54:58.299Z"
   },
   {
    "duration": 6,
    "start_time": "2021-08-02T16:06:23.056Z"
   },
   {
    "duration": 6,
    "start_time": "2021-08-02T16:16:29.158Z"
   },
   {
    "duration": 7,
    "start_time": "2021-08-02T16:17:17.846Z"
   },
   {
    "duration": 8,
    "start_time": "2021-08-02T16:17:36.242Z"
   },
   {
    "duration": 8,
    "start_time": "2021-08-02T16:18:11.930Z"
   },
   {
    "duration": 19,
    "start_time": "2021-08-02T16:38:23.632Z"
   },
   {
    "duration": 12,
    "start_time": "2021-08-02T16:38:40.893Z"
   },
   {
    "duration": 93,
    "start_time": "2021-08-02T16:39:33.995Z"
   },
   {
    "duration": 172,
    "start_time": "2021-08-02T16:52:28.836Z"
   },
   {
    "duration": 325,
    "start_time": "2021-08-02T17:01:11.643Z"
   },
   {
    "duration": 1105,
    "start_time": "2021-08-02T17:01:44.722Z"
   },
   {
    "duration": 137,
    "start_time": "2021-08-02T17:01:45.829Z"
   },
   {
    "duration": 61,
    "start_time": "2021-08-02T17:01:45.968Z"
   },
   {
    "duration": 54,
    "start_time": "2021-08-02T17:01:46.032Z"
   },
   {
    "duration": 308,
    "start_time": "2021-08-02T17:01:46.088Z"
   },
   {
    "duration": 131,
    "start_time": "2021-08-02T17:01:46.398Z"
   },
   {
    "duration": 62,
    "start_time": "2021-08-02T17:01:46.531Z"
   },
   {
    "duration": 37,
    "start_time": "2021-08-02T17:01:46.597Z"
   },
   {
    "duration": 302,
    "start_time": "2021-08-02T17:01:46.636Z"
   },
   {
    "duration": 128,
    "start_time": "2021-08-02T17:01:46.940Z"
   },
   {
    "duration": 56,
    "start_time": "2021-08-02T17:01:47.070Z"
   },
   {
    "duration": 36,
    "start_time": "2021-08-02T17:01:47.128Z"
   },
   {
    "duration": 298,
    "start_time": "2021-08-02T17:01:47.166Z"
   },
   {
    "duration": 10,
    "start_time": "2021-08-02T17:01:47.466Z"
   },
   {
    "duration": 21,
    "start_time": "2021-08-02T17:01:47.478Z"
   },
   {
    "duration": 12,
    "start_time": "2021-08-02T17:01:47.500Z"
   },
   {
    "duration": 12,
    "start_time": "2021-08-02T17:01:47.514Z"
   },
   {
    "duration": 28,
    "start_time": "2021-08-02T17:01:47.527Z"
   },
   {
    "duration": 31,
    "start_time": "2021-08-02T17:01:47.557Z"
   },
   {
    "duration": 196,
    "start_time": "2021-08-02T17:01:47.590Z"
   },
   {
    "duration": 103,
    "start_time": "2021-08-02T17:01:47.789Z"
   },
   {
    "duration": 191,
    "start_time": "2021-08-02T17:01:47.894Z"
   },
   {
    "duration": 196,
    "start_time": "2021-08-02T17:01:48.090Z"
   },
   {
    "duration": 128,
    "start_time": "2021-08-02T17:01:48.289Z"
   },
   {
    "duration": 374,
    "start_time": "2021-08-02T17:01:48.418Z"
   },
   {
    "duration": -64,
    "start_time": "2021-08-02T17:01:48.857Z"
   },
   {
    "duration": -75,
    "start_time": "2021-08-02T17:01:48.870Z"
   },
   {
    "duration": -90,
    "start_time": "2021-08-02T17:01:48.885Z"
   },
   {
    "duration": -107,
    "start_time": "2021-08-02T17:01:48.904Z"
   },
   {
    "duration": -122,
    "start_time": "2021-08-02T17:01:48.920Z"
   },
   {
    "duration": -134,
    "start_time": "2021-08-02T17:01:48.933Z"
   },
   {
    "duration": 41,
    "start_time": "2021-08-02T17:03:45.381Z"
   },
   {
    "duration": 174,
    "start_time": "2021-08-02T17:03:54.277Z"
   },
   {
    "duration": 149,
    "start_time": "2021-08-02T17:12:20.037Z"
   },
   {
    "duration": 114,
    "start_time": "2021-08-02T17:13:17.774Z"
   },
   {
    "duration": 274,
    "start_time": "2021-08-02T17:13:28.344Z"
   },
   {
    "duration": 75,
    "start_time": "2021-08-02T17:13:36.715Z"
   },
   {
    "duration": 239,
    "start_time": "2021-08-02T17:13:46.507Z"
   },
   {
    "duration": 182,
    "start_time": "2021-08-02T17:13:53.307Z"
   },
   {
    "duration": 98,
    "start_time": "2021-08-02T17:14:01.393Z"
   },
   {
    "duration": 64,
    "start_time": "2021-08-02T17:14:30.626Z"
   },
   {
    "duration": 125,
    "start_time": "2021-08-02T17:16:58.568Z"
   },
   {
    "duration": 36,
    "start_time": "2021-08-02T17:17:26.741Z"
   },
   {
    "duration": 40,
    "start_time": "2021-08-02T17:22:10.952Z"
   },
   {
    "duration": 298,
    "start_time": "2021-08-02T17:24:17.708Z"
   },
   {
    "duration": 296,
    "start_time": "2021-08-02T17:24:59.141Z"
   },
   {
    "duration": 3374,
    "start_time": "2021-08-02T17:25:23.199Z"
   },
   {
    "duration": 1114,
    "start_time": "2021-08-02T17:27:02.773Z"
   },
   {
    "duration": 3216,
    "start_time": "2021-08-02T17:32:03.731Z"
   },
   {
    "duration": 9790,
    "start_time": "2021-08-02T17:33:35.864Z"
   },
   {
    "duration": 9890,
    "start_time": "2021-08-02T17:34:05.601Z"
   },
   {
    "duration": 9811,
    "start_time": "2021-08-02T17:46:32.390Z"
   },
   {
    "duration": 9891,
    "start_time": "2021-08-02T17:46:52.624Z"
   },
   {
    "duration": 2237,
    "start_time": "2021-08-02T17:56:01.008Z"
   },
   {
    "duration": 8,
    "start_time": "2021-08-02T17:56:35.266Z"
   },
   {
    "duration": 2222,
    "start_time": "2021-08-02T17:57:17.394Z"
   },
   {
    "duration": 2271,
    "start_time": "2021-08-02T17:57:38.835Z"
   },
   {
    "duration": 2230,
    "start_time": "2021-08-02T17:58:47.755Z"
   },
   {
    "duration": 2219,
    "start_time": "2021-08-02T17:59:16.340Z"
   },
   {
    "duration": 2225,
    "start_time": "2021-08-02T18:00:04.000Z"
   },
   {
    "duration": 2199,
    "start_time": "2021-08-02T18:00:09.384Z"
   },
   {
    "duration": 2359,
    "start_time": "2021-08-02T18:00:22.217Z"
   },
   {
    "duration": 2251,
    "start_time": "2021-08-02T18:00:32.104Z"
   },
   {
    "duration": 2219,
    "start_time": "2021-08-02T18:00:52.544Z"
   },
   {
    "duration": 2275,
    "start_time": "2021-08-02T18:01:10.639Z"
   },
   {
    "duration": 3310,
    "start_time": "2021-08-02T18:08:05.596Z"
   },
   {
    "duration": 46,
    "start_time": "2021-08-02T18:10:48.198Z"
   },
   {
    "duration": 243,
    "start_time": "2021-08-02T18:11:00.189Z"
   },
   {
    "duration": 58,
    "start_time": "2021-08-02T18:11:27.846Z"
   },
   {
    "duration": 42,
    "start_time": "2021-08-02T18:24:41.120Z"
   },
   {
    "duration": 42,
    "start_time": "2021-08-02T18:26:31.709Z"
   },
   {
    "duration": 45,
    "start_time": "2021-08-02T18:27:29.860Z"
   },
   {
    "duration": 3257,
    "start_time": "2021-08-02T20:40:46.447Z"
   },
   {
    "duration": 1116,
    "start_time": "2021-08-02T20:41:05.794Z"
   },
   {
    "duration": 1072,
    "start_time": "2021-08-02T20:44:31.148Z"
   },
   {
    "duration": 3356,
    "start_time": "2021-08-02T20:58:28.587Z"
   },
   {
    "duration": 1110,
    "start_time": "2021-08-02T20:58:43.568Z"
   },
   {
    "duration": 1273,
    "start_time": "2021-08-02T20:59:20.799Z"
   },
   {
    "duration": 1252,
    "start_time": "2021-08-02T20:59:33.595Z"
   },
   {
    "duration": 1114,
    "start_time": "2021-08-02T20:59:50.247Z"
   },
   {
    "duration": 1285,
    "start_time": "2021-08-02T21:00:12.756Z"
   },
   {
    "duration": 1113,
    "start_time": "2021-08-02T21:00:21.844Z"
   },
   {
    "duration": 1162,
    "start_time": "2021-08-02T21:00:29.584Z"
   },
   {
    "duration": 1282,
    "start_time": "2021-08-02T21:05:48.304Z"
   },
   {
    "duration": 3328,
    "start_time": "2021-08-02T21:11:07.822Z"
   },
   {
    "duration": 3250,
    "start_time": "2021-08-02T21:11:16.562Z"
   },
   {
    "duration": 3238,
    "start_time": "2021-08-02T21:11:54.790Z"
   },
   {
    "duration": 3262,
    "start_time": "2021-08-02T21:12:48.079Z"
   },
   {
    "duration": 1084,
    "start_time": "2021-08-02T21:19:06.652Z"
   },
   {
    "duration": 3291,
    "start_time": "2021-08-02T21:19:28.933Z"
   },
   {
    "duration": 1095,
    "start_time": "2021-08-02T21:19:54.067Z"
   },
   {
    "duration": 3294,
    "start_time": "2021-08-02T21:20:10.062Z"
   },
   {
    "duration": 4963,
    "start_time": "2021-08-02T21:20:27.500Z"
   },
   {
    "duration": 3249,
    "start_time": "2021-08-02T21:20:45.563Z"
   },
   {
    "duration": 3320,
    "start_time": "2021-08-02T21:20:59.262Z"
   },
   {
    "duration": 3258,
    "start_time": "2021-08-02T21:22:03.597Z"
   },
   {
    "duration": 3278,
    "start_time": "2021-08-02T21:24:39.525Z"
   },
   {
    "duration": 3400,
    "start_time": "2021-08-02T21:26:29.888Z"
   },
   {
    "duration": 3258,
    "start_time": "2021-08-02T21:28:00.390Z"
   },
   {
    "duration": 3299,
    "start_time": "2021-08-02T21:29:43.052Z"
   },
   {
    "duration": 44,
    "start_time": "2021-08-02T21:32:04.857Z"
   },
   {
    "duration": 67,
    "start_time": "2021-08-02T21:33:20.289Z"
   },
   {
    "duration": 3253,
    "start_time": "2021-08-02T21:33:38.894Z"
   },
   {
    "duration": 46,
    "start_time": "2021-08-02T21:34:01.910Z"
   },
   {
    "duration": 1087,
    "start_time": "2021-08-02T21:34:55.943Z"
   },
   {
    "duration": 138,
    "start_time": "2021-08-02T21:34:57.032Z"
   },
   {
    "duration": 49,
    "start_time": "2021-08-02T21:34:57.172Z"
   },
   {
    "duration": 36,
    "start_time": "2021-08-02T21:34:57.223Z"
   },
   {
    "duration": 300,
    "start_time": "2021-08-02T21:34:57.260Z"
   },
   {
    "duration": 135,
    "start_time": "2021-08-02T21:34:57.562Z"
   },
   {
    "duration": 51,
    "start_time": "2021-08-02T21:34:57.698Z"
   },
   {
    "duration": 55,
    "start_time": "2021-08-02T21:34:57.751Z"
   },
   {
    "duration": 293,
    "start_time": "2021-08-02T21:34:57.808Z"
   },
   {
    "duration": 130,
    "start_time": "2021-08-02T21:34:58.103Z"
   },
   {
    "duration": 56,
    "start_time": "2021-08-02T21:34:58.235Z"
   },
   {
    "duration": 35,
    "start_time": "2021-08-02T21:34:58.293Z"
   },
   {
    "duration": 295,
    "start_time": "2021-08-02T21:34:58.330Z"
   },
   {
    "duration": 11,
    "start_time": "2021-08-02T21:34:58.627Z"
   },
   {
    "duration": 19,
    "start_time": "2021-08-02T21:34:58.640Z"
   },
   {
    "duration": 30,
    "start_time": "2021-08-02T21:34:58.661Z"
   },
   {
    "duration": 13,
    "start_time": "2021-08-02T21:34:58.692Z"
   },
   {
    "duration": 35,
    "start_time": "2021-08-02T21:34:58.707Z"
   },
   {
    "duration": 144,
    "start_time": "2021-08-02T21:34:58.743Z"
   },
   {
    "duration": 128,
    "start_time": "2021-08-02T21:34:58.889Z"
   },
   {
    "duration": 42,
    "start_time": "2021-08-02T21:34:59.018Z"
   },
   {
    "duration": 3276,
    "start_time": "2021-08-02T21:34:59.062Z"
   },
   {
    "duration": 3276,
    "start_time": "2021-08-02T21:35:02.341Z"
   },
   {
    "duration": 43,
    "start_time": "2021-08-02T21:35:05.619Z"
   },
   {
    "duration": 270,
    "start_time": "2021-08-02T21:39:45.242Z"
   },
   {
    "duration": 47,
    "start_time": "2021-08-02T21:45:39.501Z"
   },
   {
    "duration": 45,
    "start_time": "2021-08-02T21:45:53.585Z"
   },
   {
    "duration": 43,
    "start_time": "2021-08-02T21:46:08.021Z"
   },
   {
    "duration": 1516,
    "start_time": "2021-08-03T04:28:03.028Z"
   },
   {
    "duration": 192,
    "start_time": "2021-08-03T04:28:04.548Z"
   },
   {
    "duration": 89,
    "start_time": "2021-08-03T04:28:04.743Z"
   },
   {
    "duration": 60,
    "start_time": "2021-08-03T04:28:04.835Z"
   },
   {
    "duration": 477,
    "start_time": "2021-08-03T04:28:04.897Z"
   },
   {
    "duration": 179,
    "start_time": "2021-08-03T04:28:05.377Z"
   },
   {
    "duration": 83,
    "start_time": "2021-08-03T04:28:05.558Z"
   },
   {
    "duration": 51,
    "start_time": "2021-08-03T04:28:05.656Z"
   },
   {
    "duration": 462,
    "start_time": "2021-08-03T04:28:05.710Z"
   },
   {
    "duration": 165,
    "start_time": "2021-08-03T04:28:06.174Z"
   },
   {
    "duration": 97,
    "start_time": "2021-08-03T04:28:06.341Z"
   },
   {
    "duration": 58,
    "start_time": "2021-08-03T04:28:06.441Z"
   },
   {
    "duration": 470,
    "start_time": "2021-08-03T04:28:06.501Z"
   },
   {
    "duration": 15,
    "start_time": "2021-08-03T04:28:06.974Z"
   },
   {
    "duration": 25,
    "start_time": "2021-08-03T04:28:06.992Z"
   },
   {
    "duration": 46,
    "start_time": "2021-08-03T04:28:07.020Z"
   },
   {
    "duration": 21,
    "start_time": "2021-08-03T04:28:07.069Z"
   },
   {
    "duration": 86,
    "start_time": "2021-08-03T04:28:07.093Z"
   },
   {
    "duration": 175,
    "start_time": "2021-08-03T04:28:07.182Z"
   },
   {
    "duration": 141,
    "start_time": "2021-08-03T04:28:07.362Z"
   },
   {
    "duration": 79,
    "start_time": "2021-08-03T04:28:07.505Z"
   },
   {
    "duration": 5754,
    "start_time": "2021-08-03T04:28:07.586Z"
   },
   {
    "duration": 5930,
    "start_time": "2021-08-03T04:28:13.345Z"
   },
   {
    "duration": 78,
    "start_time": "2021-08-03T04:28:19.278Z"
   },
   {
    "duration": 5877,
    "start_time": "2021-08-03T04:40:43.915Z"
   },
   {
    "duration": 392,
    "start_time": "2021-08-03T04:43:37.948Z"
   },
   {
    "duration": 5753,
    "start_time": "2021-08-03T04:43:48.236Z"
   },
   {
    "duration": 5817,
    "start_time": "2021-08-03T04:44:45.170Z"
   },
   {
    "duration": 5960,
    "start_time": "2021-08-03T04:44:53.970Z"
   },
   {
    "duration": 1469,
    "start_time": "2021-08-03T04:45:06.311Z"
   },
   {
    "duration": 174,
    "start_time": "2021-08-03T04:45:07.783Z"
   },
   {
    "duration": 98,
    "start_time": "2021-08-03T04:45:07.961Z"
   },
   {
    "duration": 52,
    "start_time": "2021-08-03T04:45:08.062Z"
   },
   {
    "duration": 507,
    "start_time": "2021-08-03T04:45:08.117Z"
   },
   {
    "duration": 192,
    "start_time": "2021-08-03T04:45:08.627Z"
   },
   {
    "duration": 99,
    "start_time": "2021-08-03T04:45:08.821Z"
   },
   {
    "duration": 63,
    "start_time": "2021-08-03T04:45:08.924Z"
   },
   {
    "duration": 480,
    "start_time": "2021-08-03T04:45:08.990Z"
   },
   {
    "duration": 192,
    "start_time": "2021-08-03T04:45:09.473Z"
   },
   {
    "duration": 102,
    "start_time": "2021-08-03T04:45:09.667Z"
   },
   {
    "duration": 52,
    "start_time": "2021-08-03T04:45:09.772Z"
   },
   {
    "duration": 649,
    "start_time": "2021-08-03T04:45:09.827Z"
   },
   {
    "duration": 20,
    "start_time": "2021-08-03T04:45:10.480Z"
   },
   {
    "duration": 35,
    "start_time": "2021-08-03T04:45:10.502Z"
   },
   {
    "duration": 35,
    "start_time": "2021-08-03T04:45:10.539Z"
   },
   {
    "duration": 21,
    "start_time": "2021-08-03T04:45:10.576Z"
   },
   {
    "duration": 83,
    "start_time": "2021-08-03T04:45:10.599Z"
   },
   {
    "duration": 271,
    "start_time": "2021-08-03T04:45:10.684Z"
   },
   {
    "duration": 143,
    "start_time": "2021-08-03T04:45:10.958Z"
   },
   {
    "duration": 80,
    "start_time": "2021-08-03T04:45:11.104Z"
   },
   {
    "duration": 6115,
    "start_time": "2021-08-03T04:45:11.187Z"
   },
   {
    "duration": 5817,
    "start_time": "2021-08-03T04:45:17.306Z"
   },
   {
    "duration": 73,
    "start_time": "2021-08-03T04:45:23.126Z"
   },
   {
    "duration": 5735,
    "start_time": "2021-08-03T04:45:38.650Z"
   },
   {
    "duration": 5876,
    "start_time": "2021-08-03T04:45:49.444Z"
   },
   {
    "duration": 5996,
    "start_time": "2021-08-03T04:46:08.747Z"
   },
   {
    "duration": 420,
    "start_time": "2021-08-03T05:15:35.465Z"
   },
   {
    "duration": 441,
    "start_time": "2021-08-03T05:15:44.608Z"
   },
   {
    "duration": 490,
    "start_time": "2021-08-03T05:16:01.970Z"
   },
   {
    "duration": 283,
    "start_time": "2021-08-03T05:16:17.690Z"
   },
   {
    "duration": 265,
    "start_time": "2021-08-03T05:16:43.062Z"
   },
   {
    "duration": 277,
    "start_time": "2021-08-03T05:16:58.990Z"
   },
   {
    "duration": 459,
    "start_time": "2021-08-03T05:17:27.024Z"
   },
   {
    "duration": 294,
    "start_time": "2021-08-03T05:18:37.195Z"
   },
   {
    "duration": 272,
    "start_time": "2021-08-03T05:19:13.948Z"
   },
   {
    "duration": 727,
    "start_time": "2021-08-03T05:19:26.823Z"
   },
   {
    "duration": 467,
    "start_time": "2021-08-03T05:20:04.500Z"
   },
   {
    "duration": 454,
    "start_time": "2021-08-03T05:20:58.128Z"
   },
   {
    "duration": 11,
    "start_time": "2021-08-03T05:24:26.086Z"
   },
   {
    "duration": 473,
    "start_time": "2021-08-03T05:24:58.514Z"
   },
   {
    "duration": 428,
    "start_time": "2021-08-03T05:25:40.967Z"
   },
   {
    "duration": 313,
    "start_time": "2021-08-03T05:25:59.191Z"
   },
   {
    "duration": 279,
    "start_time": "2021-08-03T05:26:28.459Z"
   },
   {
    "duration": 33,
    "start_time": "2021-08-03T05:26:45.939Z"
   },
   {
    "duration": 20,
    "start_time": "2021-08-03T05:28:05.228Z"
   },
   {
    "duration": 24,
    "start_time": "2021-08-03T05:28:14.200Z"
   },
   {
    "duration": 26,
    "start_time": "2021-08-03T05:29:00.724Z"
   },
   {
    "duration": 27,
    "start_time": "2021-08-03T05:29:38.428Z"
   },
   {
    "duration": 24,
    "start_time": "2021-08-03T05:29:58.069Z"
   },
   {
    "duration": 25,
    "start_time": "2021-08-03T05:30:08.993Z"
   },
   {
    "duration": 309,
    "start_time": "2021-08-03T05:40:59.438Z"
   },
   {
    "duration": 34,
    "start_time": "2021-08-03T05:41:08.050Z"
   },
   {
    "duration": 31,
    "start_time": "2021-08-03T05:41:43.203Z"
   },
   {
    "duration": 32,
    "start_time": "2021-08-03T05:42:18.591Z"
   },
   {
    "duration": 30,
    "start_time": "2021-08-03T05:43:13.759Z"
   },
   {
    "duration": 60,
    "start_time": "2021-08-03T05:44:25.080Z"
   },
   {
    "duration": 69,
    "start_time": "2021-08-03T05:44:56.312Z"
   },
   {
    "duration": 32,
    "start_time": "2021-08-03T05:48:41.294Z"
   },
   {
    "duration": 66,
    "start_time": "2021-08-03T05:48:53.142Z"
   },
   {
    "duration": 495,
    "start_time": "2021-08-03T05:48:58.598Z"
   },
   {
    "duration": 34,
    "start_time": "2021-08-03T05:49:21.362Z"
   },
   {
    "duration": 1553,
    "start_time": "2021-08-03T05:50:12.715Z"
   },
   {
    "duration": 206,
    "start_time": "2021-08-03T05:50:14.271Z"
   },
   {
    "duration": 141,
    "start_time": "2021-08-03T05:50:14.481Z"
   },
   {
    "duration": 73,
    "start_time": "2021-08-03T05:50:14.626Z"
   },
   {
    "duration": 667,
    "start_time": "2021-08-03T05:50:14.702Z"
   },
   {
    "duration": 245,
    "start_time": "2021-08-03T05:50:15.372Z"
   },
   {
    "duration": 157,
    "start_time": "2021-08-03T05:50:15.620Z"
   },
   {
    "duration": 76,
    "start_time": "2021-08-03T05:50:15.782Z"
   },
   {
    "duration": 635,
    "start_time": "2021-08-03T05:50:15.862Z"
   },
   {
    "duration": 254,
    "start_time": "2021-08-03T05:50:16.500Z"
   },
   {
    "duration": 154,
    "start_time": "2021-08-03T05:50:16.757Z"
   },
   {
    "duration": 79,
    "start_time": "2021-08-03T05:50:16.914Z"
   },
   {
    "duration": 732,
    "start_time": "2021-08-03T05:50:16.996Z"
   },
   {
    "duration": 26,
    "start_time": "2021-08-03T05:50:17.731Z"
   },
   {
    "duration": 31,
    "start_time": "2021-08-03T05:50:17.760Z"
   },
   {
    "duration": 21,
    "start_time": "2021-08-03T05:50:17.793Z"
   },
   {
    "duration": 50,
    "start_time": "2021-08-03T05:50:17.816Z"
   },
   {
    "duration": 53,
    "start_time": "2021-08-03T05:50:17.868Z"
   },
   {
    "duration": 332,
    "start_time": "2021-08-03T05:50:17.924Z"
   },
   {
    "duration": 125,
    "start_time": "2021-08-03T05:50:18.258Z"
   },
   {
    "duration": 34,
    "start_time": "2021-08-03T05:50:18.385Z"
   },
   {
    "duration": 596,
    "start_time": "2021-08-03T05:50:18.421Z"
   },
   {
    "duration": 604,
    "start_time": "2021-08-03T05:50:18.416Z"
   },
   {
    "duration": 574,
    "start_time": "2021-08-03T05:50:18.447Z"
   },
   {
    "duration": 289,
    "start_time": "2021-08-03T05:51:57.468Z"
   },
   {
    "duration": 451,
    "start_time": "2021-08-03T05:52:37.196Z"
   },
   {
    "duration": 48,
    "start_time": "2021-08-03T06:16:01.921Z"
   },
   {
    "duration": 45,
    "start_time": "2021-08-03T06:16:55.625Z"
   },
   {
    "duration": 7013,
    "start_time": "2021-08-03T06:23:13.644Z"
   },
   {
    "duration": 434,
    "start_time": "2021-08-03T06:23:38.368Z"
   },
   {
    "duration": 1342,
    "start_time": "2021-08-03T06:25:12.745Z"
   },
   {
    "duration": 7021,
    "start_time": "2021-08-03T06:26:06.081Z"
   },
   {
    "duration": 327,
    "start_time": "2021-08-03T06:26:24.349Z"
   },
   {
    "duration": 25,
    "start_time": "2021-08-03T06:36:35.555Z"
   },
   {
    "duration": 43,
    "start_time": "2021-08-03T06:37:18.166Z"
   },
   {
    "duration": 58,
    "start_time": "2021-08-03T07:26:32.385Z"
   },
   {
    "duration": 1575,
    "start_time": "2021-08-03T07:27:40.844Z"
   },
   {
    "duration": 193,
    "start_time": "2021-08-03T07:27:42.422Z"
   },
   {
    "duration": 96,
    "start_time": "2021-08-03T07:27:42.618Z"
   },
   {
    "duration": 67,
    "start_time": "2021-08-03T07:27:42.717Z"
   },
   {
    "duration": 509,
    "start_time": "2021-08-03T07:27:42.786Z"
   },
   {
    "duration": 180,
    "start_time": "2021-08-03T07:27:43.298Z"
   },
   {
    "duration": 133,
    "start_time": "2021-08-03T07:27:43.481Z"
   },
   {
    "duration": 74,
    "start_time": "2021-08-03T07:27:43.618Z"
   },
   {
    "duration": 499,
    "start_time": "2021-08-03T07:27:43.696Z"
   },
   {
    "duration": 188,
    "start_time": "2021-08-03T07:27:44.198Z"
   },
   {
    "duration": 104,
    "start_time": "2021-08-03T07:27:44.389Z"
   },
   {
    "duration": 72,
    "start_time": "2021-08-03T07:27:44.495Z"
   },
   {
    "duration": 521,
    "start_time": "2021-08-03T07:27:44.570Z"
   },
   {
    "duration": 17,
    "start_time": "2021-08-03T07:27:45.094Z"
   },
   {
    "duration": 49,
    "start_time": "2021-08-03T07:27:45.113Z"
   },
   {
    "duration": 24,
    "start_time": "2021-08-03T07:27:45.166Z"
   },
   {
    "duration": 22,
    "start_time": "2021-08-03T07:27:45.193Z"
   },
   {
    "duration": 87,
    "start_time": "2021-08-03T07:27:45.219Z"
   },
   {
    "duration": 246,
    "start_time": "2021-08-03T07:27:45.309Z"
   },
   {
    "duration": 144,
    "start_time": "2021-08-03T07:27:45.560Z"
   },
   {
    "duration": 85,
    "start_time": "2021-08-03T07:27:45.707Z"
   },
   {
    "duration": 6266,
    "start_time": "2021-08-03T07:27:45.794Z"
   },
   {
    "duration": 6268,
    "start_time": "2021-08-03T07:27:52.064Z"
   },
   {
    "duration": 76,
    "start_time": "2021-08-03T07:27:58.334Z"
   },
   {
    "duration": 1544,
    "start_time": "2021-08-03T07:28:45.164Z"
   },
   {
    "duration": 180,
    "start_time": "2021-08-03T07:28:46.710Z"
   },
   {
    "duration": 104,
    "start_time": "2021-08-03T07:28:46.893Z"
   },
   {
    "duration": 67,
    "start_time": "2021-08-03T07:28:46.999Z"
   },
   {
    "duration": 500,
    "start_time": "2021-08-03T07:28:47.069Z"
   },
   {
    "duration": 182,
    "start_time": "2021-08-03T07:28:47.572Z"
   },
   {
    "duration": 105,
    "start_time": "2021-08-03T07:28:47.758Z"
   },
   {
    "duration": 51,
    "start_time": "2021-08-03T07:28:47.867Z"
   },
   {
    "duration": 510,
    "start_time": "2021-08-03T07:28:47.921Z"
   },
   {
    "duration": 178,
    "start_time": "2021-08-03T07:28:48.433Z"
   },
   {
    "duration": 103,
    "start_time": "2021-08-03T07:28:48.614Z"
   },
   {
    "duration": 63,
    "start_time": "2021-08-03T07:28:48.720Z"
   },
   {
    "duration": 492,
    "start_time": "2021-08-03T07:28:48.786Z"
   },
   {
    "duration": 14,
    "start_time": "2021-08-03T07:28:49.281Z"
   },
   {
    "duration": 27,
    "start_time": "2021-08-03T07:28:49.298Z"
   },
   {
    "duration": 51,
    "start_time": "2021-08-03T07:28:49.328Z"
   },
   {
    "duration": 20,
    "start_time": "2021-08-03T07:28:49.381Z"
   },
   {
    "duration": 94,
    "start_time": "2021-08-03T07:28:49.404Z"
   },
   {
    "duration": 170,
    "start_time": "2021-08-03T07:28:49.501Z"
   },
   {
    "duration": 143,
    "start_time": "2021-08-03T07:28:49.755Z"
   },
   {
    "duration": 77,
    "start_time": "2021-08-03T07:28:49.900Z"
   },
   {
    "duration": 6177,
    "start_time": "2021-08-03T07:28:49.980Z"
   },
   {
    "duration": 6352,
    "start_time": "2021-08-03T07:28:56.164Z"
   },
   {
    "duration": 81,
    "start_time": "2021-08-03T07:29:02.519Z"
   },
   {
    "duration": 1210,
    "start_time": "2021-08-03T12:39:51.285Z"
   },
   {
    "duration": 129,
    "start_time": "2021-08-03T12:39:52.498Z"
   },
   {
    "duration": 49,
    "start_time": "2021-08-03T12:39:52.630Z"
   },
   {
    "duration": 37,
    "start_time": "2021-08-03T12:39:52.681Z"
   },
   {
    "duration": 294,
    "start_time": "2021-08-03T12:39:52.719Z"
   },
   {
    "duration": 127,
    "start_time": "2021-08-03T12:39:53.014Z"
   },
   {
    "duration": 53,
    "start_time": "2021-08-03T12:39:53.143Z"
   },
   {
    "duration": 52,
    "start_time": "2021-08-03T12:39:53.198Z"
   },
   {
    "duration": 286,
    "start_time": "2021-08-03T12:39:53.252Z"
   },
   {
    "duration": 125,
    "start_time": "2021-08-03T12:39:53.540Z"
   },
   {
    "duration": 50,
    "start_time": "2021-08-03T12:39:53.667Z"
   },
   {
    "duration": 49,
    "start_time": "2021-08-03T12:39:53.719Z"
   },
   {
    "duration": 343,
    "start_time": "2021-08-03T12:39:53.770Z"
   },
   {
    "duration": 10,
    "start_time": "2021-08-03T12:39:54.115Z"
   },
   {
    "duration": 33,
    "start_time": "2021-08-03T12:39:54.126Z"
   },
   {
    "duration": 20,
    "start_time": "2021-08-03T12:39:54.161Z"
   },
   {
    "duration": 13,
    "start_time": "2021-08-03T12:39:54.183Z"
   },
   {
    "duration": 44,
    "start_time": "2021-08-03T12:39:54.198Z"
   },
   {
    "duration": 102,
    "start_time": "2021-08-03T12:39:54.244Z"
   },
   {
    "duration": 211,
    "start_time": "2021-08-03T12:39:54.348Z"
   },
   {
    "duration": 45,
    "start_time": "2021-08-03T12:41:41.116Z"
   },
   {
    "duration": 603,
    "start_time": "2021-08-03T12:41:46.749Z"
   },
   {
    "duration": 40,
    "start_time": "2021-08-03T12:41:54.985Z"
   },
   {
    "duration": 10,
    "start_time": "2021-08-03T12:41:58.234Z"
   },
   {
    "duration": 83,
    "start_time": "2021-08-03T12:42:52.332Z"
   },
   {
    "duration": 5928,
    "start_time": "2021-08-03T12:45:43.178Z"
   },
   {
    "duration": 11,
    "start_time": "2021-08-03T12:45:50.878Z"
   },
   {
    "duration": 1887,
    "start_time": "2021-08-03T14:45:53.953Z"
   },
   {
    "duration": 197,
    "start_time": "2021-08-03T14:45:55.842Z"
   },
   {
    "duration": 119,
    "start_time": "2021-08-03T14:45:56.043Z"
   },
   {
    "duration": 69,
    "start_time": "2021-08-03T14:45:56.165Z"
   },
   {
    "duration": 544,
    "start_time": "2021-08-03T14:45:56.239Z"
   },
   {
    "duration": 188,
    "start_time": "2021-08-03T14:45:56.786Z"
   },
   {
    "duration": 109,
    "start_time": "2021-08-03T14:45:56.977Z"
   },
   {
    "duration": 67,
    "start_time": "2021-08-03T14:45:57.092Z"
   },
   {
    "duration": 525,
    "start_time": "2021-08-03T14:45:57.163Z"
   },
   {
    "duration": 181,
    "start_time": "2021-08-03T14:45:57.690Z"
   },
   {
    "duration": 102,
    "start_time": "2021-08-03T14:45:57.874Z"
   },
   {
    "duration": 61,
    "start_time": "2021-08-03T14:45:57.979Z"
   },
   {
    "duration": 537,
    "start_time": "2021-08-03T14:45:58.042Z"
   },
   {
    "duration": 23,
    "start_time": "2021-08-03T14:45:58.582Z"
   },
   {
    "duration": 39,
    "start_time": "2021-08-03T14:45:58.608Z"
   },
   {
    "duration": 20,
    "start_time": "2021-08-03T14:45:58.649Z"
   },
   {
    "duration": 48,
    "start_time": "2021-08-03T14:45:58.672Z"
   },
   {
    "duration": 54,
    "start_time": "2021-08-03T14:45:58.724Z"
   },
   {
    "duration": 239,
    "start_time": "2021-08-03T14:45:58.780Z"
   },
   {
    "duration": 140,
    "start_time": "2021-08-03T14:45:59.022Z"
   },
   {
    "duration": 78,
    "start_time": "2021-08-03T14:45:59.165Z"
   },
   {
    "duration": 6606,
    "start_time": "2021-08-03T14:45:59.246Z"
   },
   {
    "duration": 6994,
    "start_time": "2021-08-03T14:46:05.857Z"
   },
   {
    "duration": 86,
    "start_time": "2021-08-03T14:46:12.854Z"
   },
   {
    "duration": 20,
    "start_time": "2021-08-03T14:48:59.524Z"
   },
   {
    "duration": 34,
    "start_time": "2021-08-03T15:21:16.513Z"
   },
   {
    "duration": 808,
    "start_time": "2021-08-03T15:24:01.623Z"
   },
   {
    "duration": 646,
    "start_time": "2021-08-03T15:25:11.762Z"
   },
   {
    "duration": 722,
    "start_time": "2021-08-03T15:25:31.455Z"
   },
   {
    "duration": 624,
    "start_time": "2021-08-03T15:25:46.928Z"
   },
   {
    "duration": 622,
    "start_time": "2021-08-03T15:28:53.257Z"
   },
   {
    "duration": 595,
    "start_time": "2021-08-03T15:29:00.484Z"
   },
   {
    "duration": 703,
    "start_time": "2021-08-03T15:29:39.505Z"
   },
   {
    "duration": 147,
    "start_time": "2021-08-03T15:29:47.412Z"
   },
   {
    "duration": 447,
    "start_time": "2021-08-03T15:30:01.332Z"
   },
   {
    "duration": 649,
    "start_time": "2021-08-03T15:30:22.567Z"
   },
   {
    "duration": 397,
    "start_time": "2021-08-03T15:30:50.221Z"
   },
   {
    "duration": 661,
    "start_time": "2021-08-03T15:31:06.406Z"
   },
   {
    "duration": 694,
    "start_time": "2021-08-03T15:31:55.398Z"
   },
   {
    "duration": 592,
    "start_time": "2021-08-03T15:32:18.842Z"
   },
   {
    "duration": 7436,
    "start_time": "2021-08-03T15:32:38.318Z"
   },
   {
    "duration": 7619,
    "start_time": "2021-08-03T15:34:37.947Z"
   },
   {
    "duration": 7311,
    "start_time": "2021-08-03T15:39:02.898Z"
   },
   {
    "duration": 7725,
    "start_time": "2021-08-03T15:41:54.559Z"
   },
   {
    "duration": 7662,
    "start_time": "2021-08-03T15:42:19.301Z"
   },
   {
    "duration": 7375,
    "start_time": "2021-08-03T15:42:43.291Z"
   },
   {
    "duration": 372,
    "start_time": "2021-08-03T15:43:06.168Z"
   },
   {
    "duration": 31,
    "start_time": "2021-08-03T15:46:16.426Z"
   },
   {
    "duration": 25,
    "start_time": "2021-08-03T15:47:04.894Z"
   },
   {
    "duration": 18,
    "start_time": "2021-08-03T15:47:34.246Z"
   },
   {
    "duration": 30,
    "start_time": "2021-08-03T15:49:12.887Z"
   },
   {
    "duration": 404,
    "start_time": "2021-08-03T16:11:35.983Z"
   },
   {
    "duration": 41,
    "start_time": "2021-08-03T16:12:15.087Z"
   },
   {
    "duration": 628,
    "start_time": "2021-08-03T16:13:01.608Z"
   },
   {
    "duration": 33,
    "start_time": "2021-08-03T16:13:19.335Z"
   },
   {
    "duration": 43,
    "start_time": "2021-08-03T16:17:04.093Z"
   },
   {
    "duration": 8,
    "start_time": "2021-08-03T16:20:41.150Z"
   },
   {
    "duration": 44,
    "start_time": "2021-08-03T16:21:01.183Z"
   },
   {
    "duration": 49,
    "start_time": "2021-08-03T16:21:50.783Z"
   },
   {
    "duration": 8,
    "start_time": "2021-08-03T16:22:23.927Z"
   },
   {
    "duration": 11,
    "start_time": "2021-08-03T16:24:33.573Z"
   },
   {
    "duration": 33,
    "start_time": "2021-08-03T16:28:29.226Z"
   },
   {
    "duration": 39,
    "start_time": "2021-08-03T16:33:32.306Z"
   },
   {
    "duration": 31,
    "start_time": "2021-08-03T16:34:01.454Z"
   },
   {
    "duration": 638,
    "start_time": "2021-08-03T16:34:14.915Z"
   },
   {
    "duration": 34,
    "start_time": "2021-08-03T16:34:28.126Z"
   },
   {
    "duration": 47,
    "start_time": "2021-08-03T16:35:19.586Z"
   },
   {
    "duration": 8,
    "start_time": "2021-08-03T16:37:10.071Z"
   },
   {
    "duration": 33,
    "start_time": "2021-08-03T16:40:32.641Z"
   },
   {
    "duration": 7,
    "start_time": "2021-08-03T16:48:13.641Z"
   },
   {
    "duration": 488,
    "start_time": "2021-08-03T16:49:42.134Z"
   },
   {
    "duration": 15,
    "start_time": "2021-08-03T16:49:56.202Z"
   },
   {
    "duration": 42,
    "start_time": "2021-08-03T16:51:29.304Z"
   },
   {
    "duration": 12,
    "start_time": "2021-08-03T16:52:17.814Z"
   },
   {
    "duration": 7,
    "start_time": "2021-08-03T16:55:51.169Z"
   },
   {
    "duration": 13,
    "start_time": "2021-08-03T16:56:03.293Z"
   },
   {
    "duration": 40,
    "start_time": "2021-08-03T16:56:29.942Z"
   },
   {
    "duration": 14,
    "start_time": "2021-08-03T17:02:39.081Z"
   },
   {
    "duration": 60,
    "start_time": "2021-08-03T17:03:44.066Z"
   },
   {
    "duration": 58,
    "start_time": "2021-08-03T17:03:53.269Z"
   },
   {
    "duration": 38,
    "start_time": "2021-08-03T17:03:58.629Z"
   },
   {
    "duration": 37,
    "start_time": "2021-08-03T17:05:04.746Z"
   },
   {
    "duration": 53,
    "start_time": "2021-08-03T17:05:23.007Z"
   },
   {
    "duration": 57,
    "start_time": "2021-08-03T17:05:34.194Z"
   },
   {
    "duration": 51,
    "start_time": "2021-08-03T17:05:44.338Z"
   },
   {
    "duration": 37,
    "start_time": "2021-08-03T17:06:00.331Z"
   },
   {
    "duration": 47,
    "start_time": "2021-08-03T17:06:28.996Z"
   },
   {
    "duration": 39,
    "start_time": "2021-08-03T17:06:38.268Z"
   },
   {
    "duration": 31,
    "start_time": "2021-08-03T17:07:15.623Z"
   },
   {
    "duration": 38,
    "start_time": "2021-08-03T17:08:15.388Z"
   },
   {
    "duration": 35,
    "start_time": "2021-08-03T17:08:41.228Z"
   },
   {
    "duration": 32,
    "start_time": "2021-08-03T17:09:08.544Z"
   },
   {
    "duration": 1518,
    "start_time": "2021-08-03T17:12:16.393Z"
   },
   {
    "duration": 177,
    "start_time": "2021-08-03T17:12:17.914Z"
   },
   {
    "duration": 85,
    "start_time": "2021-08-03T17:12:18.094Z"
   },
   {
    "duration": 59,
    "start_time": "2021-08-03T17:12:18.182Z"
   },
   {
    "duration": 493,
    "start_time": "2021-08-03T17:12:18.244Z"
   },
   {
    "duration": 175,
    "start_time": "2021-08-03T17:12:18.740Z"
   },
   {
    "duration": 101,
    "start_time": "2021-08-03T17:12:18.917Z"
   },
   {
    "duration": 50,
    "start_time": "2021-08-03T17:12:19.020Z"
   },
   {
    "duration": 508,
    "start_time": "2021-08-03T17:12:19.074Z"
   },
   {
    "duration": 186,
    "start_time": "2021-08-03T17:12:19.586Z"
   },
   {
    "duration": 103,
    "start_time": "2021-08-03T17:12:19.775Z"
   },
   {
    "duration": 62,
    "start_time": "2021-08-03T17:12:19.881Z"
   },
   {
    "duration": 503,
    "start_time": "2021-08-03T17:12:19.945Z"
   },
   {
    "duration": 13,
    "start_time": "2021-08-03T17:12:20.451Z"
   },
   {
    "duration": 46,
    "start_time": "2021-08-03T17:12:20.467Z"
   },
   {
    "duration": 18,
    "start_time": "2021-08-03T17:12:20.516Z"
   },
   {
    "duration": 19,
    "start_time": "2021-08-03T17:12:20.537Z"
   },
   {
    "duration": 85,
    "start_time": "2021-08-03T17:12:20.559Z"
   },
   {
    "duration": 261,
    "start_time": "2021-08-03T17:12:20.647Z"
   },
   {
    "duration": 217,
    "start_time": "2021-08-03T17:12:20.911Z"
   },
   {
    "duration": 31,
    "start_time": "2021-08-03T17:12:21.131Z"
   },
   {
    "duration": 3529,
    "start_time": "2021-08-03T17:12:21.165Z"
   },
   {
    "duration": 412,
    "start_time": "2021-08-03T17:12:24.285Z"
   },
   {
    "duration": 411,
    "start_time": "2021-08-03T17:12:24.287Z"
   },
   {
    "duration": 3417,
    "start_time": "2021-08-03T17:22:54.512Z"
   },
   {
    "duration": 8,
    "start_time": "2021-08-03T17:24:49.716Z"
   },
   {
    "duration": 132,
    "start_time": "2021-08-03T17:26:03.533Z"
   },
   {
    "duration": 175,
    "start_time": "2021-08-03T17:26:11.261Z"
   },
   {
    "duration": 122,
    "start_time": "2021-08-03T17:26:50.234Z"
   },
   {
    "duration": 57,
    "start_time": "2021-08-03T17:27:05.642Z"
   },
   {
    "duration": 13,
    "start_time": "2021-08-03T17:27:28.557Z"
   },
   {
    "duration": 725,
    "start_time": "2021-08-03T17:27:41.630Z"
   },
   {
    "duration": 34,
    "start_time": "2021-08-03T17:28:02.998Z"
   },
   {
    "duration": 3452,
    "start_time": "2021-08-03T17:28:54.674Z"
   },
   {
    "duration": 38,
    "start_time": "2021-08-03T17:44:56.222Z"
   },
   {
    "duration": 7151,
    "start_time": "2021-08-03T17:45:18.219Z"
   },
   {
    "duration": 7221,
    "start_time": "2021-08-03T17:45:27.651Z"
   },
   {
    "duration": 76,
    "start_time": "2021-08-03T17:45:39.540Z"
   },
   {
    "duration": 28,
    "start_time": "2021-08-03T17:46:12.671Z"
   },
   {
    "duration": 72,
    "start_time": "2021-08-03T17:46:19.948Z"
   },
   {
    "duration": 1536,
    "start_time": "2021-08-03T17:46:32.682Z"
   },
   {
    "duration": 173,
    "start_time": "2021-08-03T17:46:34.221Z"
   },
   {
    "duration": 87,
    "start_time": "2021-08-03T17:46:34.397Z"
   },
   {
    "duration": 63,
    "start_time": "2021-08-03T17:46:34.487Z"
   },
   {
    "duration": 671,
    "start_time": "2021-08-03T17:46:34.553Z"
   },
   {
    "duration": 236,
    "start_time": "2021-08-03T17:46:35.227Z"
   },
   {
    "duration": 156,
    "start_time": "2021-08-03T17:46:35.466Z"
   },
   {
    "duration": 50,
    "start_time": "2021-08-03T17:46:35.625Z"
   },
   {
    "duration": 485,
    "start_time": "2021-08-03T17:46:35.678Z"
   },
   {
    "duration": 216,
    "start_time": "2021-08-03T17:46:36.166Z"
   },
   {
    "duration": 125,
    "start_time": "2021-08-03T17:46:36.385Z"
   },
   {
    "duration": 49,
    "start_time": "2021-08-03T17:46:36.513Z"
   },
   {
    "duration": 485,
    "start_time": "2021-08-03T17:46:36.564Z"
   },
   {
    "duration": 14,
    "start_time": "2021-08-03T17:46:37.052Z"
   },
   {
    "duration": 41,
    "start_time": "2021-08-03T17:46:37.069Z"
   },
   {
    "duration": 21,
    "start_time": "2021-08-03T17:46:37.113Z"
   },
   {
    "duration": 35,
    "start_time": "2021-08-03T17:46:37.137Z"
   },
   {
    "duration": 67,
    "start_time": "2021-08-03T17:46:37.175Z"
   },
   {
    "duration": 262,
    "start_time": "2021-08-03T17:46:37.245Z"
   },
   {
    "duration": 145,
    "start_time": "2021-08-03T17:46:37.510Z"
   },
   {
    "duration": 11,
    "start_time": "2021-08-03T17:46:37.658Z"
   },
   {
    "duration": 52,
    "start_time": "2021-08-03T17:46:37.672Z"
   },
   {
    "duration": 7405,
    "start_time": "2021-08-03T17:46:37.728Z"
   },
   {
    "duration": 7358,
    "start_time": "2021-08-03T17:46:45.135Z"
   },
   {
    "duration": 76,
    "start_time": "2021-08-03T17:46:52.496Z"
   },
   {
    "duration": 53,
    "start_time": "2021-08-03T17:47:22.347Z"
   },
   {
    "duration": 70,
    "start_time": "2021-08-03T17:47:31.443Z"
   },
   {
    "duration": 661,
    "start_time": "2021-08-03T17:48:21.832Z"
   },
   {
    "duration": 29,
    "start_time": "2021-08-03T17:48:35.548Z"
   },
   {
    "duration": 684,
    "start_time": "2021-08-03T17:48:39.499Z"
   },
   {
    "duration": 957,
    "start_time": "2021-08-03T17:52:34.594Z"
   },
   {
    "duration": 2646,
    "start_time": "2021-08-03T17:52:52.599Z"
   },
   {
    "duration": 7054,
    "start_time": "2021-08-03T17:53:22.879Z"
   },
   {
    "duration": 7517,
    "start_time": "2021-08-03T17:53:43.283Z"
   },
   {
    "duration": 21,
    "start_time": "2021-08-03T17:53:57.135Z"
   },
   {
    "duration": 5324,
    "start_time": "2021-08-03T18:41:41.051Z"
   },
   {
    "duration": 37,
    "start_time": "2021-08-03T18:42:20.588Z"
   },
   {
    "duration": 8051,
    "start_time": "2021-08-03T18:43:42.985Z"
   },
   {
    "duration": 7173,
    "start_time": "2021-08-03T18:44:37.145Z"
   },
   {
    "duration": 17,
    "start_time": "2021-08-03T18:46:14.462Z"
   },
   {
    "duration": 7,
    "start_time": "2021-08-03T18:58:21.868Z"
   },
   {
    "duration": 13,
    "start_time": "2021-08-03T18:58:30.118Z"
   },
   {
    "duration": 24,
    "start_time": "2021-08-03T19:06:09.731Z"
   },
   {
    "duration": 34,
    "start_time": "2021-08-03T19:07:14.210Z"
   },
   {
    "duration": 64,
    "start_time": "2021-08-03T19:10:22.976Z"
   },
   {
    "duration": 38,
    "start_time": "2021-08-03T19:10:26.278Z"
   },
   {
    "duration": 53,
    "start_time": "2021-08-03T19:11:33.014Z"
   },
   {
    "duration": 28,
    "start_time": "2021-08-03T19:11:36.768Z"
   },
   {
    "duration": 1643,
    "start_time": "2021-08-03T19:11:46.535Z"
   },
   {
    "duration": 267,
    "start_time": "2021-08-03T19:11:48.182Z"
   },
   {
    "duration": 210,
    "start_time": "2021-08-03T19:11:48.453Z"
   },
   {
    "duration": 65,
    "start_time": "2021-08-03T19:11:48.666Z"
   },
   {
    "duration": 577,
    "start_time": "2021-08-03T19:11:48.734Z"
   },
   {
    "duration": 171,
    "start_time": "2021-08-03T19:11:49.314Z"
   },
   {
    "duration": 99,
    "start_time": "2021-08-03T19:11:49.488Z"
   },
   {
    "duration": 56,
    "start_time": "2021-08-03T19:11:49.604Z"
   },
   {
    "duration": 502,
    "start_time": "2021-08-03T19:11:49.664Z"
   },
   {
    "duration": 179,
    "start_time": "2021-08-03T19:11:50.169Z"
   },
   {
    "duration": 107,
    "start_time": "2021-08-03T19:11:50.350Z"
   },
   {
    "duration": 73,
    "start_time": "2021-08-03T19:11:50.460Z"
   },
   {
    "duration": 498,
    "start_time": "2021-08-03T19:11:50.535Z"
   },
   {
    "duration": 14,
    "start_time": "2021-08-03T19:11:51.036Z"
   },
   {
    "duration": 31,
    "start_time": "2021-08-03T19:11:51.052Z"
   },
   {
    "duration": 26,
    "start_time": "2021-08-03T19:11:51.102Z"
   },
   {
    "duration": 19,
    "start_time": "2021-08-03T19:11:51.130Z"
   },
   {
    "duration": 94,
    "start_time": "2021-08-03T19:11:51.151Z"
   },
   {
    "duration": 276,
    "start_time": "2021-08-03T19:11:51.247Z"
   },
   {
    "duration": 66,
    "start_time": "2021-08-03T19:11:51.601Z"
   },
   {
    "duration": 48,
    "start_time": "2021-08-03T19:11:51.670Z"
   },
   {
    "duration": 7447,
    "start_time": "2021-08-03T19:11:51.721Z"
   },
   {
    "duration": 7361,
    "start_time": "2021-08-03T19:11:59.172Z"
   },
   {
    "duration": 19,
    "start_time": "2021-08-03T19:12:06.536Z"
   },
   {
    "duration": 7652,
    "start_time": "2021-08-03T19:13:44.861Z"
   },
   {
    "duration": 18,
    "start_time": "2021-08-03T19:14:01.049Z"
   },
   {
    "duration": 68,
    "start_time": "2021-08-03T19:20:19.180Z"
   },
   {
    "duration": 43,
    "start_time": "2021-08-03T19:20:22.826Z"
   },
   {
    "duration": 54,
    "start_time": "2021-08-03T19:20:41.033Z"
   },
   {
    "duration": 31,
    "start_time": "2021-08-03T19:20:44.456Z"
   },
   {
    "duration": 66,
    "start_time": "2021-08-03T19:21:16.658Z"
   },
   {
    "duration": 54,
    "start_time": "2021-08-03T19:21:19.593Z"
   },
   {
    "duration": 50,
    "start_time": "2021-08-03T19:22:08.653Z"
   },
   {
    "duration": 29,
    "start_time": "2021-08-03T19:22:11.069Z"
   },
   {
    "duration": 44,
    "start_time": "2021-08-03T19:22:30.502Z"
   },
   {
    "duration": 1127,
    "start_time": "2021-08-05T07:30:18.630Z"
   },
   {
    "duration": 500,
    "start_time": "2021-08-05T07:30:19.759Z"
   },
   {
    "duration": 56,
    "start_time": "2021-08-05T07:30:20.262Z"
   },
   {
    "duration": 38,
    "start_time": "2021-08-05T07:30:20.320Z"
   },
   {
    "duration": 330,
    "start_time": "2021-08-05T07:30:20.359Z"
   },
   {
    "duration": 139,
    "start_time": "2021-08-05T07:30:20.691Z"
   },
   {
    "duration": 57,
    "start_time": "2021-08-05T07:30:20.831Z"
   },
   {
    "duration": 39,
    "start_time": "2021-08-05T07:30:20.891Z"
   },
   {
    "duration": 337,
    "start_time": "2021-08-05T07:30:20.933Z"
   },
   {
    "duration": 149,
    "start_time": "2021-08-05T07:30:21.272Z"
   },
   {
    "duration": 49,
    "start_time": "2021-08-05T07:30:21.423Z"
   },
   {
    "duration": 51,
    "start_time": "2021-08-05T07:30:21.474Z"
   },
   {
    "duration": 324,
    "start_time": "2021-08-05T07:30:21.527Z"
   },
   {
    "duration": 10,
    "start_time": "2021-08-05T07:30:21.853Z"
   },
   {
    "duration": 33,
    "start_time": "2021-08-05T07:30:21.865Z"
   },
   {
    "duration": 15,
    "start_time": "2021-08-05T07:30:21.900Z"
   },
   {
    "duration": 14,
    "start_time": "2021-08-05T07:30:21.916Z"
   },
   {
    "duration": 72,
    "start_time": "2021-08-05T07:30:21.931Z"
   },
   {
    "duration": 180,
    "start_time": "2021-08-05T07:30:22.005Z"
   },
   {
    "duration": 135,
    "start_time": "2021-08-05T07:30:22.187Z"
   },
   {
    "duration": 20,
    "start_time": "2021-08-05T07:30:22.324Z"
   },
   {
    "duration": 4368,
    "start_time": "2021-08-05T07:30:22.346Z"
   },
   {
    "duration": 4242,
    "start_time": "2021-08-05T07:30:26.716Z"
   },
   {
    "duration": 12,
    "start_time": "2021-08-05T07:30:30.960Z"
   },
   {
    "duration": 4,
    "start_time": "2021-08-05T07:30:41.867Z"
   }
  ],
  "kernelspec": {
   "display_name": "Python 3",
   "language": "python",
   "name": "python3"
  },
  "language_info": {
   "codemirror_mode": {
    "name": "ipython",
    "version": 3
   },
   "file_extension": ".py",
   "mimetype": "text/x-python",
   "name": "python",
   "nbconvert_exporter": "python",
   "pygments_lexer": "ipython3",
   "version": "3.8.8"
  },
  "toc": {
   "base_numbering": 1,
   "nav_menu": {
    "height": "157px",
    "width": "258px"
   },
   "number_sections": true,
   "sideBar": true,
   "skip_h1_title": true,
   "title_cell": "Table of Contents",
   "title_sidebar": "Contents",
   "toc_cell": false,
   "toc_position": {},
   "toc_section_display": true,
   "toc_window_display": false
  }
 },
 "nbformat": 4,
 "nbformat_minor": 2
}
