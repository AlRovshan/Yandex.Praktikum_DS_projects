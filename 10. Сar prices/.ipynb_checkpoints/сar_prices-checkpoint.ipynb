{
 "cells": [
  {
   "cell_type": "markdown",
   "metadata": {},
   "source": [
    "# Определение стоимости автомобилей"
   ]
  },
  {
   "cell_type": "markdown",
   "metadata": {},
   "source": [
    "Сервис по продаже автомобилей с пробегом разрабатывает приложение для привлечения новых клиентов. В нём можно быстро узнать рыночную стоимость своего автомобиля. На основе исторических данных: технические характеристики, комплектации и цены автомобилей нужно построить модель для определения стоимости. \n",
    "\n",
    "Заказчику важны:\n",
    "\n",
    "- качество предсказания;\n",
    "- скорость предсказания;\n",
    "- время обучения."
   ]
  },
  {
   "cell_type": "markdown",
   "metadata": {},
   "source": [
    "## Подготовка данных"
   ]
  },
  {
   "cell_type": "code",
   "execution_count": 1,
   "metadata": {},
   "outputs": [],
   "source": [
    "import warnings\n",
    "warnings.filterwarnings('ignore')\n",
    "import pandas as pd\n",
    "import numpy as np\n",
    "import nltk\n",
    "import matplotlib.pyplot as plt\n",
    "import seaborn as sns\n",
    "import lightgbm\n",
    "from sklearn.model_selection import train_test_split\n",
    "from sklearn.preprocessing import OneHotEncoder, OrdinalEncoder, StandardScaler\n",
    "from sklearn.linear_model import LinearRegression\n",
    "from sklearn.metrics import mean_squared_error as mse\n",
    "from catboost import CatBoostRegressor, cv, Pool, train"
   ]
  },
  {
   "cell_type": "code",
   "execution_count": 2,
   "metadata": {},
   "outputs": [],
   "source": [
    "def data_read(file):\n",
    "    \"\"\"\n",
    "        Функция принемает путь к файлу, выводить на экран 10 сторк таблицы,\n",
    "        информацию о столбцах, число дубликатов и возврашет таблицу типа DataFrame\n",
    "    \"\"\"\n",
    "    data = pd.read_csv(file, parse_dates=[0,12, 15])\n",
    "    display(data.head(10))\n",
    "    display(data.describe())\n",
    "    data.info(memory_usage='deep')\n",
    "    print(\"\\n\"+'Количество дубликатов:', data.duplicated().sum())\n",
    "    print(\"\\n\"+'Колическтво пустых значений')\n",
    "    df_null = data.isnull().sum()\n",
    "    print(df_null[df_null>0].sort_values(ascending=False))\n",
    "    print(\"\\n\"+'Процент пустых значений')\n",
    "    df_null_p = df_null/len(data)*100\n",
    "    print(df_null_p[df_null_p>0].sort_values(ascending=False))\n",
    "    return data"
   ]
  },
  {
   "cell_type": "code",
   "execution_count": 3,
   "metadata": {},
   "outputs": [
    {
     "data": {
      "text/html": [
       "<div>\n",
       "<style scoped>\n",
       "    .dataframe tbody tr th:only-of-type {\n",
       "        vertical-align: middle;\n",
       "    }\n",
       "\n",
       "    .dataframe tbody tr th {\n",
       "        vertical-align: top;\n",
       "    }\n",
       "\n",
       "    .dataframe thead th {\n",
       "        text-align: right;\n",
       "    }\n",
       "</style>\n",
       "<table border=\"1\" class=\"dataframe\">\n",
       "  <thead>\n",
       "    <tr style=\"text-align: right;\">\n",
       "      <th></th>\n",
       "      <th>DateCrawled</th>\n",
       "      <th>Price</th>\n",
       "      <th>VehicleType</th>\n",
       "      <th>RegistrationYear</th>\n",
       "      <th>Gearbox</th>\n",
       "      <th>Power</th>\n",
       "      <th>Model</th>\n",
       "      <th>Kilometer</th>\n",
       "      <th>RegistrationMonth</th>\n",
       "      <th>FuelType</th>\n",
       "      <th>Brand</th>\n",
       "      <th>NotRepaired</th>\n",
       "      <th>DateCreated</th>\n",
       "      <th>NumberOfPictures</th>\n",
       "      <th>PostalCode</th>\n",
       "      <th>LastSeen</th>\n",
       "    </tr>\n",
       "  </thead>\n",
       "  <tbody>\n",
       "    <tr>\n",
       "      <td>0</td>\n",
       "      <td>2016-03-24 11:52:17</td>\n",
       "      <td>480</td>\n",
       "      <td>NaN</td>\n",
       "      <td>1993</td>\n",
       "      <td>manual</td>\n",
       "      <td>0</td>\n",
       "      <td>golf</td>\n",
       "      <td>150000</td>\n",
       "      <td>0</td>\n",
       "      <td>petrol</td>\n",
       "      <td>volkswagen</td>\n",
       "      <td>NaN</td>\n",
       "      <td>2016-03-24</td>\n",
       "      <td>0</td>\n",
       "      <td>70435</td>\n",
       "      <td>2016-04-07 03:16:57</td>\n",
       "    </tr>\n",
       "    <tr>\n",
       "      <td>1</td>\n",
       "      <td>2016-03-24 10:58:45</td>\n",
       "      <td>18300</td>\n",
       "      <td>coupe</td>\n",
       "      <td>2011</td>\n",
       "      <td>manual</td>\n",
       "      <td>190</td>\n",
       "      <td>NaN</td>\n",
       "      <td>125000</td>\n",
       "      <td>5</td>\n",
       "      <td>gasoline</td>\n",
       "      <td>audi</td>\n",
       "      <td>yes</td>\n",
       "      <td>2016-03-24</td>\n",
       "      <td>0</td>\n",
       "      <td>66954</td>\n",
       "      <td>2016-04-07 01:46:50</td>\n",
       "    </tr>\n",
       "    <tr>\n",
       "      <td>2</td>\n",
       "      <td>2016-03-14 12:52:21</td>\n",
       "      <td>9800</td>\n",
       "      <td>suv</td>\n",
       "      <td>2004</td>\n",
       "      <td>auto</td>\n",
       "      <td>163</td>\n",
       "      <td>grand</td>\n",
       "      <td>125000</td>\n",
       "      <td>8</td>\n",
       "      <td>gasoline</td>\n",
       "      <td>jeep</td>\n",
       "      <td>NaN</td>\n",
       "      <td>2016-03-14</td>\n",
       "      <td>0</td>\n",
       "      <td>90480</td>\n",
       "      <td>2016-04-05 12:47:46</td>\n",
       "    </tr>\n",
       "    <tr>\n",
       "      <td>3</td>\n",
       "      <td>2016-03-17 16:54:04</td>\n",
       "      <td>1500</td>\n",
       "      <td>small</td>\n",
       "      <td>2001</td>\n",
       "      <td>manual</td>\n",
       "      <td>75</td>\n",
       "      <td>golf</td>\n",
       "      <td>150000</td>\n",
       "      <td>6</td>\n",
       "      <td>petrol</td>\n",
       "      <td>volkswagen</td>\n",
       "      <td>no</td>\n",
       "      <td>2016-03-17</td>\n",
       "      <td>0</td>\n",
       "      <td>91074</td>\n",
       "      <td>2016-03-17 17:40:17</td>\n",
       "    </tr>\n",
       "    <tr>\n",
       "      <td>4</td>\n",
       "      <td>2016-03-31 17:25:20</td>\n",
       "      <td>3600</td>\n",
       "      <td>small</td>\n",
       "      <td>2008</td>\n",
       "      <td>manual</td>\n",
       "      <td>69</td>\n",
       "      <td>fabia</td>\n",
       "      <td>90000</td>\n",
       "      <td>7</td>\n",
       "      <td>gasoline</td>\n",
       "      <td>skoda</td>\n",
       "      <td>no</td>\n",
       "      <td>2016-03-31</td>\n",
       "      <td>0</td>\n",
       "      <td>60437</td>\n",
       "      <td>2016-04-06 10:17:21</td>\n",
       "    </tr>\n",
       "    <tr>\n",
       "      <td>5</td>\n",
       "      <td>2016-04-04 17:36:23</td>\n",
       "      <td>650</td>\n",
       "      <td>sedan</td>\n",
       "      <td>1995</td>\n",
       "      <td>manual</td>\n",
       "      <td>102</td>\n",
       "      <td>3er</td>\n",
       "      <td>150000</td>\n",
       "      <td>10</td>\n",
       "      <td>petrol</td>\n",
       "      <td>bmw</td>\n",
       "      <td>yes</td>\n",
       "      <td>2016-04-04</td>\n",
       "      <td>0</td>\n",
       "      <td>33775</td>\n",
       "      <td>2016-04-06 19:17:07</td>\n",
       "    </tr>\n",
       "    <tr>\n",
       "      <td>6</td>\n",
       "      <td>2016-04-01 20:48:51</td>\n",
       "      <td>2200</td>\n",
       "      <td>convertible</td>\n",
       "      <td>2004</td>\n",
       "      <td>manual</td>\n",
       "      <td>109</td>\n",
       "      <td>2_reihe</td>\n",
       "      <td>150000</td>\n",
       "      <td>8</td>\n",
       "      <td>petrol</td>\n",
       "      <td>peugeot</td>\n",
       "      <td>no</td>\n",
       "      <td>2016-04-01</td>\n",
       "      <td>0</td>\n",
       "      <td>67112</td>\n",
       "      <td>2016-04-05 18:18:39</td>\n",
       "    </tr>\n",
       "    <tr>\n",
       "      <td>7</td>\n",
       "      <td>2016-03-21 18:54:38</td>\n",
       "      <td>0</td>\n",
       "      <td>sedan</td>\n",
       "      <td>1980</td>\n",
       "      <td>manual</td>\n",
       "      <td>50</td>\n",
       "      <td>other</td>\n",
       "      <td>40000</td>\n",
       "      <td>7</td>\n",
       "      <td>petrol</td>\n",
       "      <td>volkswagen</td>\n",
       "      <td>no</td>\n",
       "      <td>2016-03-21</td>\n",
       "      <td>0</td>\n",
       "      <td>19348</td>\n",
       "      <td>2016-03-25 16:47:58</td>\n",
       "    </tr>\n",
       "    <tr>\n",
       "      <td>8</td>\n",
       "      <td>2016-04-04 23:42:13</td>\n",
       "      <td>14500</td>\n",
       "      <td>bus</td>\n",
       "      <td>2014</td>\n",
       "      <td>manual</td>\n",
       "      <td>125</td>\n",
       "      <td>c_max</td>\n",
       "      <td>30000</td>\n",
       "      <td>8</td>\n",
       "      <td>petrol</td>\n",
       "      <td>ford</td>\n",
       "      <td>NaN</td>\n",
       "      <td>2016-04-04</td>\n",
       "      <td>0</td>\n",
       "      <td>94505</td>\n",
       "      <td>2016-04-04 23:42:13</td>\n",
       "    </tr>\n",
       "    <tr>\n",
       "      <td>9</td>\n",
       "      <td>2016-03-17 10:53:50</td>\n",
       "      <td>999</td>\n",
       "      <td>small</td>\n",
       "      <td>1998</td>\n",
       "      <td>manual</td>\n",
       "      <td>101</td>\n",
       "      <td>golf</td>\n",
       "      <td>150000</td>\n",
       "      <td>0</td>\n",
       "      <td>NaN</td>\n",
       "      <td>volkswagen</td>\n",
       "      <td>NaN</td>\n",
       "      <td>2016-03-17</td>\n",
       "      <td>0</td>\n",
       "      <td>27472</td>\n",
       "      <td>2016-03-31 17:17:06</td>\n",
       "    </tr>\n",
       "  </tbody>\n",
       "</table>\n",
       "</div>"
      ],
      "text/plain": [
       "          DateCrawled  Price  VehicleType  RegistrationYear Gearbox  Power  \\\n",
       "0 2016-03-24 11:52:17    480          NaN              1993  manual      0   \n",
       "1 2016-03-24 10:58:45  18300        coupe              2011  manual    190   \n",
       "2 2016-03-14 12:52:21   9800          suv              2004    auto    163   \n",
       "3 2016-03-17 16:54:04   1500        small              2001  manual     75   \n",
       "4 2016-03-31 17:25:20   3600        small              2008  manual     69   \n",
       "5 2016-04-04 17:36:23    650        sedan              1995  manual    102   \n",
       "6 2016-04-01 20:48:51   2200  convertible              2004  manual    109   \n",
       "7 2016-03-21 18:54:38      0        sedan              1980  manual     50   \n",
       "8 2016-04-04 23:42:13  14500          bus              2014  manual    125   \n",
       "9 2016-03-17 10:53:50    999        small              1998  manual    101   \n",
       "\n",
       "     Model  Kilometer  RegistrationMonth  FuelType       Brand NotRepaired  \\\n",
       "0     golf     150000                  0    petrol  volkswagen         NaN   \n",
       "1      NaN     125000                  5  gasoline        audi         yes   \n",
       "2    grand     125000                  8  gasoline        jeep         NaN   \n",
       "3     golf     150000                  6    petrol  volkswagen          no   \n",
       "4    fabia      90000                  7  gasoline       skoda          no   \n",
       "5      3er     150000                 10    petrol         bmw         yes   \n",
       "6  2_reihe     150000                  8    petrol     peugeot          no   \n",
       "7    other      40000                  7    petrol  volkswagen          no   \n",
       "8    c_max      30000                  8    petrol        ford         NaN   \n",
       "9     golf     150000                  0       NaN  volkswagen         NaN   \n",
       "\n",
       "  DateCreated  NumberOfPictures  PostalCode            LastSeen  \n",
       "0  2016-03-24                 0       70435 2016-04-07 03:16:57  \n",
       "1  2016-03-24                 0       66954 2016-04-07 01:46:50  \n",
       "2  2016-03-14                 0       90480 2016-04-05 12:47:46  \n",
       "3  2016-03-17                 0       91074 2016-03-17 17:40:17  \n",
       "4  2016-03-31                 0       60437 2016-04-06 10:17:21  \n",
       "5  2016-04-04                 0       33775 2016-04-06 19:17:07  \n",
       "6  2016-04-01                 0       67112 2016-04-05 18:18:39  \n",
       "7  2016-03-21                 0       19348 2016-03-25 16:47:58  \n",
       "8  2016-04-04                 0       94505 2016-04-04 23:42:13  \n",
       "9  2016-03-17                 0       27472 2016-03-31 17:17:06  "
      ]
     },
     "metadata": {},
     "output_type": "display_data"
    },
    {
     "data": {
      "text/html": [
       "<div>\n",
       "<style scoped>\n",
       "    .dataframe tbody tr th:only-of-type {\n",
       "        vertical-align: middle;\n",
       "    }\n",
       "\n",
       "    .dataframe tbody tr th {\n",
       "        vertical-align: top;\n",
       "    }\n",
       "\n",
       "    .dataframe thead th {\n",
       "        text-align: right;\n",
       "    }\n",
       "</style>\n",
       "<table border=\"1\" class=\"dataframe\">\n",
       "  <thead>\n",
       "    <tr style=\"text-align: right;\">\n",
       "      <th></th>\n",
       "      <th>Price</th>\n",
       "      <th>RegistrationYear</th>\n",
       "      <th>Power</th>\n",
       "      <th>Kilometer</th>\n",
       "      <th>RegistrationMonth</th>\n",
       "      <th>NumberOfPictures</th>\n",
       "      <th>PostalCode</th>\n",
       "    </tr>\n",
       "  </thead>\n",
       "  <tbody>\n",
       "    <tr>\n",
       "      <td>count</td>\n",
       "      <td>354369.000000</td>\n",
       "      <td>354369.000000</td>\n",
       "      <td>354369.000000</td>\n",
       "      <td>354369.000000</td>\n",
       "      <td>354369.000000</td>\n",
       "      <td>354369.0</td>\n",
       "      <td>354369.000000</td>\n",
       "    </tr>\n",
       "    <tr>\n",
       "      <td>mean</td>\n",
       "      <td>4416.656776</td>\n",
       "      <td>2004.234448</td>\n",
       "      <td>110.094337</td>\n",
       "      <td>128211.172535</td>\n",
       "      <td>5.714645</td>\n",
       "      <td>0.0</td>\n",
       "      <td>50508.689087</td>\n",
       "    </tr>\n",
       "    <tr>\n",
       "      <td>std</td>\n",
       "      <td>4514.158514</td>\n",
       "      <td>90.227958</td>\n",
       "      <td>189.850405</td>\n",
       "      <td>37905.341530</td>\n",
       "      <td>3.726421</td>\n",
       "      <td>0.0</td>\n",
       "      <td>25783.096248</td>\n",
       "    </tr>\n",
       "    <tr>\n",
       "      <td>min</td>\n",
       "      <td>0.000000</td>\n",
       "      <td>1000.000000</td>\n",
       "      <td>0.000000</td>\n",
       "      <td>5000.000000</td>\n",
       "      <td>0.000000</td>\n",
       "      <td>0.0</td>\n",
       "      <td>1067.000000</td>\n",
       "    </tr>\n",
       "    <tr>\n",
       "      <td>25%</td>\n",
       "      <td>1050.000000</td>\n",
       "      <td>1999.000000</td>\n",
       "      <td>69.000000</td>\n",
       "      <td>125000.000000</td>\n",
       "      <td>3.000000</td>\n",
       "      <td>0.0</td>\n",
       "      <td>30165.000000</td>\n",
       "    </tr>\n",
       "    <tr>\n",
       "      <td>50%</td>\n",
       "      <td>2700.000000</td>\n",
       "      <td>2003.000000</td>\n",
       "      <td>105.000000</td>\n",
       "      <td>150000.000000</td>\n",
       "      <td>6.000000</td>\n",
       "      <td>0.0</td>\n",
       "      <td>49413.000000</td>\n",
       "    </tr>\n",
       "    <tr>\n",
       "      <td>75%</td>\n",
       "      <td>6400.000000</td>\n",
       "      <td>2008.000000</td>\n",
       "      <td>143.000000</td>\n",
       "      <td>150000.000000</td>\n",
       "      <td>9.000000</td>\n",
       "      <td>0.0</td>\n",
       "      <td>71083.000000</td>\n",
       "    </tr>\n",
       "    <tr>\n",
       "      <td>max</td>\n",
       "      <td>20000.000000</td>\n",
       "      <td>9999.000000</td>\n",
       "      <td>20000.000000</td>\n",
       "      <td>150000.000000</td>\n",
       "      <td>12.000000</td>\n",
       "      <td>0.0</td>\n",
       "      <td>99998.000000</td>\n",
       "    </tr>\n",
       "  </tbody>\n",
       "</table>\n",
       "</div>"
      ],
      "text/plain": [
       "               Price  RegistrationYear          Power      Kilometer  \\\n",
       "count  354369.000000     354369.000000  354369.000000  354369.000000   \n",
       "mean     4416.656776       2004.234448     110.094337  128211.172535   \n",
       "std      4514.158514         90.227958     189.850405   37905.341530   \n",
       "min         0.000000       1000.000000       0.000000    5000.000000   \n",
       "25%      1050.000000       1999.000000      69.000000  125000.000000   \n",
       "50%      2700.000000       2003.000000     105.000000  150000.000000   \n",
       "75%      6400.000000       2008.000000     143.000000  150000.000000   \n",
       "max     20000.000000       9999.000000   20000.000000  150000.000000   \n",
       "\n",
       "       RegistrationMonth  NumberOfPictures     PostalCode  \n",
       "count      354369.000000          354369.0  354369.000000  \n",
       "mean            5.714645               0.0   50508.689087  \n",
       "std             3.726421               0.0   25783.096248  \n",
       "min             0.000000               0.0    1067.000000  \n",
       "25%             3.000000               0.0   30165.000000  \n",
       "50%             6.000000               0.0   49413.000000  \n",
       "75%             9.000000               0.0   71083.000000  \n",
       "max            12.000000               0.0   99998.000000  "
      ]
     },
     "metadata": {},
     "output_type": "display_data"
    },
    {
     "name": "stdout",
     "output_type": "stream",
     "text": [
      "<class 'pandas.core.frame.DataFrame'>\n",
      "RangeIndex: 354369 entries, 0 to 354368\n",
      "Data columns (total 16 columns):\n",
      "DateCrawled          354369 non-null datetime64[ns]\n",
      "Price                354369 non-null int64\n",
      "VehicleType          316879 non-null object\n",
      "RegistrationYear     354369 non-null int64\n",
      "Gearbox              334536 non-null object\n",
      "Power                354369 non-null int64\n",
      "Model                334664 non-null object\n",
      "Kilometer            354369 non-null int64\n",
      "RegistrationMonth    354369 non-null int64\n",
      "FuelType             321474 non-null object\n",
      "Brand                354369 non-null object\n",
      "NotRepaired          283215 non-null object\n",
      "DateCreated          354369 non-null datetime64[ns]\n",
      "NumberOfPictures     354369 non-null int64\n",
      "PostalCode           354369 non-null int64\n",
      "LastSeen             354369 non-null datetime64[ns]\n",
      "dtypes: datetime64[ns](3), int64(7), object(6)\n",
      "memory usage: 148.1 MB\n",
      "\n",
      "Количество дубликатов: 4\n",
      "\n",
      "Колическтво пустых значений\n",
      "NotRepaired    71154\n",
      "VehicleType    37490\n",
      "FuelType       32895\n",
      "Gearbox        19833\n",
      "Model          19705\n",
      "dtype: int64\n",
      "\n",
      "Процент пустых значений\n",
      "NotRepaired    20.079070\n",
      "VehicleType    10.579368\n",
      "FuelType        9.282697\n",
      "Gearbox         5.596709\n",
      "Model           5.560588\n",
      "dtype: float64\n"
     ]
    }
   ],
   "source": [
    "df = data_read('/datasets/autos.csv')"
   ]
  },
  {
   "cell_type": "markdown",
   "metadata": {},
   "source": [
    " Ошибки, выявленные в наборе данных:\n",
    "1. Типы данных не оптимизированы;\n",
    "2. Небольшое число  дубликатов;\n",
    "3. Пропуски данных в столбцах NotRepaired, VehicleType, FuelType, Gearbox, Model;\n",
    "4. Столбцы DateCrawled и DateCreated одинаковые;\n",
    "5. Столбцы NumberOfPictures, RegistrationMonth, PostalCode, LastSeen, DateCreated, DateCrawled являются лишними для построения модели;\n",
    "6. В столбцах Price, RegistrationYear, Power наблюдаются выбросы данных."
   ]
  },
  {
   "cell_type": "markdown",
   "metadata": {},
   "source": [
    "Удалим ненужные столбцы данных"
   ]
  },
  {
   "cell_type": "code",
   "execution_count": 4,
   "metadata": {},
   "outputs": [],
   "source": [
    "df = df.drop(['DateCreated', 'DateCrawled', 'RegistrationMonth', 'NumberOfPictures', 'PostalCode', 'LastSeen'], axis=1)\n",
    "df = df.drop_duplicates().reset_index(drop=True)"
   ]
  },
  {
   "cell_type": "markdown",
   "metadata": {},
   "source": [
    "Заполним пустые значения в столбцах NotRepaired, VehicleType, FuelType, Gearbox и Model"
   ]
  },
  {
   "cell_type": "code",
   "execution_count": 5,
   "metadata": {},
   "outputs": [],
   "source": [
    "#Пропуски в столбцах NotRepaired, Model заполним значением unknown\n",
    "for i in ['NotRepaired','Model']:\n",
    "    df[i] = df[i].fillna('unknown')\n",
    "\n",
    "#Пропуски в столбцах VehicleType, FuelType, Gearbox заполним самым популярным значением соотвествующей графе Model\n",
    "for i in ['VehicleType', 'FuelType', 'Gearbox']:\n",
    "    df[i] = df[i].fillna(df.groupby('Model')[i].transform(lambda x: x.value_counts().idxmax()))                        "
   ]
  },
  {
   "cell_type": "markdown",
   "metadata": {},
   "source": [
    "Оптимизируем типы данных"
   ]
  },
  {
   "cell_type": "code",
   "execution_count": 6,
   "metadata": {},
   "outputs": [
    {
     "name": "stdout",
     "output_type": "stream",
     "text": [
      "<class 'pandas.core.frame.DataFrame'>\n",
      "RangeIndex: 309329 entries, 0 to 309328\n",
      "Data columns (total 10 columns):\n",
      "Price               309329 non-null uint16\n",
      "VehicleType         309329 non-null category\n",
      "RegistrationYear    309329 non-null uint16\n",
      "Gearbox             309329 non-null category\n",
      "Power               309329 non-null uint16\n",
      "Model               309329 non-null category\n",
      "Kilometer           309329 non-null uint32\n",
      "FuelType            309329 non-null category\n",
      "Brand               309329 non-null category\n",
      "NotRepaired         309329 non-null category\n",
      "dtypes: category(6), uint16(3), uint32(1)\n",
      "memory usage: 5.0 MB\n"
     ]
    }
   ],
   "source": [
    "converted_int = df.select_dtypes(include=['int']).apply(pd.to_numeric,downcast='unsigned')\n",
    "df[converted_int.columns] = converted_int\n",
    "\n",
    "category = ['VehicleType', 'Gearbox', 'Model', 'FuelType', 'Brand', 'NotRepaired']\n",
    "for i in category:\n",
    "    df[i] = df[i].astype('category')\n",
    "\n",
    "df.info(memory_usage='deep')"
   ]
  },
  {
   "cell_type": "code",
   "execution_count": 7,
   "metadata": {
    "scrolled": false
   },
   "outputs": [
    {
     "data": {
      "image/png": "[encoded data removed]",
      "text/plain": [
       "<Figure size 1152x432 with 1 Axes>"
      ]
     },
     "metadata": {},
     "output_type": "display_data"
    },
    {
     "data": {
      "image/png": "[encoded data removed]",
      "text/plain": [
       "<Figure size 1152x432 with 1 Axes>"
      ]
     },
     "metadata": {},
     "output_type": "display_data"
    },
    {
     "data": {
      "image/png": "[encoded data removed]",
      "text/plain": [
       "<Figure size 1152x432 with 1 Axes>"
      ]
     },
     "metadata": {},
     "output_type": "display_data"
    },
    {
     "data": {
      "image/png": "[encoded data removed]",
      "text/plain": [
       "<Figure size 1152x432 with 1 Axes>"
      ]
     },
     "metadata": {},
     "output_type": "display_data"
    }
   ],
   "source": [
    "def show_hists(data, data_label):\n",
    "    \"\"\"\n",
    "    Функция на вход принемает датафрейм и названия столбцов датафрейма.\n",
    "    Выводом функции является цикл гистограмм каждого столбца датафрейма.\n",
    "    \"\"\"\n",
    "    sns.set()\n",
    "    plt.figure(figsize=(16, 6))\n",
    "    plt.title('Гистограмма столбца ' + data_label, fontsize=18)\n",
    "    plt.ylabel('Частота', fontsize=15)\n",
    "    sns.distplot(data, bins=20)\n",
    "    plt.show()\n",
    "\n",
    "numerical_features = ['Price', 'RegistrationYear', 'Power', 'Kilometer']\n",
    "for column in numerical_features:\n",
    "    show_hists(df[column], column)"
   ]
  },
  {
   "cell_type": "markdown",
   "metadata": {},
   "source": [
    "По гистограммам выше можно сделать следующие выводы:\n",
    "* В столбце Price есть большое число нулевых значений;\n",
    "* В столбце RegistrationYear есть большой хвост выбивающиеся по смыслу значений года регистрации автомобиля;\n",
    "* В столбце Power также есть значения не соответствующих по смыслу."
   ]
  },
  {
   "cell_type": "markdown",
   "metadata": {},
   "source": [
    "Выявим число выбросов в столбцах Price, RegistrationYear, Power"
   ]
  },
  {
   "cell_type": "code",
   "execution_count": 8,
   "metadata": {},
   "outputs": [
    {
     "name": "stdout",
     "output_type": "stream",
     "text": [
      "Количество автомобилей с нулевой ценой: 8904 (2.88%)\n",
      "Количество автомобилей с годом регистрации > 2021 года: 99 (0.03%)\n",
      "Количество автомобилей с годом регистрации < 1900 года: 63 (0.02%)\n",
      "Количество автомобилей с мощностью > 1000 л.с.: 296 (0.10%)\n",
      "Количество автомобилей с нулевой мощностью: 35978 (11.63%)\n"
     ]
    }
   ],
   "source": [
    "print('Количество автомобилей с нулевой ценой: {} ({:.2f}%)'.format(len(df.loc[df['Price'] == 0])\n",
    "                                                                ,100*len(df.loc[df['Price'] == 0])/len(df)) )\n",
    "print('Количество автомобилей с годом регистрации > 2021 года: {} ({:.2f}%)'.format(len(df.query('RegistrationYear > 2021'))\n",
    "                                                                ,100*len(df.query('RegistrationYear > 2021'))/len(df)) )\n",
    "print('Количество автомобилей с годом регистрации < 1900 года: {} ({:.2f}%)'.format(len(df.query('RegistrationYear < 1900'))\n",
    "                                                                ,100*len(df.query('RegistrationYear < 1900'))/len(df)) )\n",
    "print('Количество автомобилей с мощностью > 1000 л.с.: {} ({:.2f}%)'.format(len(df.query('Power > 1000'))\n",
    "                                                                ,100*len(df.query('Power > 1000'))/len(df)) )\n",
    "print('Количество автомобилей с нулевой мощностью: {} ({:.2f}%)'.format(len(df.query('Power == 0'))\n",
    "                                                                ,100*len(df.query('Power == 0'))/len(df)) )\n"
   ]
  },
  {
   "cell_type": "code",
   "execution_count": 9,
   "metadata": {},
   "outputs": [
    {
     "name": "stdout",
     "output_type": "stream",
     "text": [
      "<class 'pandas.core.frame.DataFrame'>\n",
      "Int64Index: 267138 entries, 1 to 309328\n",
      "Data columns (total 10 columns):\n",
      "Price               267138 non-null uint16\n",
      "VehicleType         267138 non-null category\n",
      "RegistrationYear    267138 non-null uint16\n",
      "Gearbox             267138 non-null category\n",
      "Power               267138 non-null uint16\n",
      "Model               267138 non-null category\n",
      "Kilometer           267138 non-null uint32\n",
      "FuelType            267138 non-null category\n",
      "Brand               267138 non-null category\n",
      "NotRepaired         267138 non-null category\n",
      "dtypes: category(6), uint16(3), uint32(1)\n",
      "memory usage: 6.4 MB\n"
     ]
    }
   ],
   "source": [
    "df = df.loc[df['Price'] != 0]\n",
    "df = df.query('RegistrationYear < 2021 and RegistrationYear > 1900')\n",
    "df = df.query('Power < 1000 and Power > 0')\n",
    "df.info()"
   ]
  },
  {
   "cell_type": "markdown",
   "metadata": {},
   "source": []
  },
  {
   "cell_type": "markdown",
   "metadata": {},
   "source": [
    "Удолим данные выбросы"
   ]
  },
  {
   "cell_type": "markdown",
   "metadata": {},
   "source": [
    "**Вывод:**\n",
    "\n",
    "В ходе выполнения первого пункта сделаны следующие действия:\n",
    "* оптимизированы типы данных\n",
    "* удалены дубликаты;\n",
    "* Заполнены пропуски данных в столбцах NotRepaired, VehicleType, FuelType, Gearbox, Model;\n",
    "* Столбцы DateCrawled, NumberOfPictures, RegistrationMonth, PostalCode, LastSeen удалены, т.к. являются лишними для построения модели;\n",
    "* Выявлены и удалены выбросы значений в столбцах Price, RegistrationYear, Power."
   ]
  },
  {
   "cell_type": "markdown",
   "metadata": {},
   "source": [
    "## Обучение моделей"
   ]
  },
  {
   "cell_type": "markdown",
   "metadata": {},
   "source": [
    "Для обуения используем модели LinearRegression, LightGBM и  CatBoost"
   ]
  },
  {
   "cell_type": "markdown",
   "metadata": {},
   "source": [
    "Подготовим данные для обучения"
   ]
  },
  {
   "cell_type": "code",
   "execution_count": 10,
   "metadata": {},
   "outputs": [
    {
     "name": "stdout",
     "output_type": "stream",
     "text": [
      "Размер признаков обучающей выборки: (213710, 9)\n",
      "Размер признаков тестовой выборки: (53428, 9)\n",
      "Размер целевого признака обучающей выборки: (213710,)\n",
      "Размер целевого признака тестовой выборки: (53428,)\n"
     ]
    }
   ],
   "source": [
    "target = df['Price']\n",
    "features = df.drop(['Price'], axis=1)\n",
    "\n",
    "features_train, features_test, target_train, target_test = train_test_split(features\n",
    "                                                                            , target, test_size=0.2, random_state=42)\n",
    "print('Размер признаков обучающей выборки:', features_train.shape)\n",
    "print('Размер признаков тестовой выборки:', features_test.shape)\n",
    "print('Размер целевого признака обучающей выборки:', target_train.shape)\n",
    "print('Размер целевого признака тестовой выборки:', target_test.shape)"
   ]
  },
  {
   "cell_type": "code",
   "execution_count": 11,
   "metadata": {},
   "outputs": [
    {
     "name": "stdout",
     "output_type": "stream",
     "text": [
      "Размер признаков обучающей выборки: (213710, 310)\n",
      "Размер признаков тестовой выборки: (53428, 310)\n"
     ]
    }
   ],
   "source": [
    "numerical_features = ['Kilometer', 'Power', 'RegistrationYear']\n",
    "categorical_features = ['VehicleType', 'Gearbox', 'Model', 'FuelType', 'Brand', 'NotRepaired']\n",
    "\n",
    "ohe_encoder = OneHotEncoder(dtype=np.bool, sparse=False, handle_unknown='ignore')\n",
    "features_train_ohe = ohe_encoder.fit_transform(features_train[categorical_features])\n",
    "features_test_ohe = ohe_encoder.transform(features_test[categorical_features])\n",
    "print('Размер признаков обучающей выборки:', features_train_ohe.shape)\n",
    "print('Размер признаков тестовой выборки:', features_test_ohe.shape)"
   ]
  },
  {
   "cell_type": "code",
   "execution_count": 12,
   "metadata": {},
   "outputs": [
    {
     "data": {
      "text/plain": [
       "((213710, 6), (53428, 6))"
      ]
     },
     "execution_count": 12,
     "metadata": {},
     "output_type": "execute_result"
    }
   ],
   "source": [
    "ordinal_encoder = OrdinalEncoder(dtype=np.int16)\n",
    "ordinal_encoder.fit(features[categorical_features])\n",
    "features_train_ord = ordinal_encoder.transform(features_train[categorical_features])\n",
    "features_test_ord = ordinal_encoder.transform(features_test[categorical_features])\n",
    "features_train_ord.shape, features_test_ord.shape"
   ]
  },
  {
   "cell_type": "code",
   "execution_count": 13,
   "metadata": {},
   "outputs": [
    {
     "name": "stdout",
     "output_type": "stream",
     "text": [
      "Размер признаков обучающей выборки: (213710, 3)\n",
      "Размер признаков тестовой выборки: (53428, 3)\n"
     ]
    }
   ],
   "source": [
    "scaler = StandardScaler()\n",
    "features_train_scal = scaler.fit_transform(features_train[numerical_features])\n",
    "features_test_scal = scaler.transform(features_test[numerical_features])\n",
    "print('Размер признаков обучающей выборки:', features_train_scal.shape)\n",
    "print('Размер признаков тестовой выборки:', features_test_scal.shape) "
   ]
  },
  {
   "cell_type": "markdown",
   "metadata": {},
   "source": [
    "**Модель LinearRegression**"
   ]
  },
  {
   "cell_type": "code",
   "execution_count": 14,
   "metadata": {},
   "outputs": [],
   "source": [
    "features_train_scal_ohe = np.concatenate((features_train_ohe, features_train_scal), axis=-1)\n",
    "features_test_scal_ohe = np.concatenate((features_test_ohe, features_test_scal), axis=-1)"
   ]
  },
  {
   "cell_type": "code",
   "execution_count": 15,
   "metadata": {},
   "outputs": [
    {
     "name": "stdout",
     "output_type": "stream",
     "text": [
      "CPU times: user 15.5 s, sys: 7.75 s, total: 23.3 s\n",
      "Wall time: 23.3 s\n"
     ]
    },
    {
     "data": {
      "text/plain": [
       "LinearRegression(copy_X=True, fit_intercept=True, n_jobs=None, normalize=False)"
      ]
     },
     "execution_count": 15,
     "metadata": {},
     "output_type": "execute_result"
    }
   ],
   "source": [
    "%%time\n",
    "linear_model = LinearRegression()\n",
    "linear_model.fit(features_train_scal_ohe, target_train)"
   ]
  },
  {
   "cell_type": "code",
   "execution_count": 16,
   "metadata": {},
   "outputs": [
    {
     "name": "stdout",
     "output_type": "stream",
     "text": [
      "CPU times: user 160 ms, sys: 28 ms, total: 188 ms\n",
      "Wall time: 187 ms\n"
     ]
    }
   ],
   "source": [
    "%%time\n",
    "predict = linear_model.predict(features_train_scal_ohe)"
   ]
  },
  {
   "cell_type": "code",
   "execution_count": 17,
   "metadata": {},
   "outputs": [
    {
     "name": "stdout",
     "output_type": "stream",
     "text": [
      "RMSE обучающей выборки: 2754.39\n"
     ]
    }
   ],
   "source": [
    "rmse_lr_train = mse(target_train, predict)**0.5\n",
    "print('RMSE обучающей выборки: {:.2f}'.format(rmse_lr_train))"
   ]
  },
  {
   "cell_type": "code",
   "execution_count": 18,
   "metadata": {},
   "outputs": [
    {
     "name": "stdout",
     "output_type": "stream",
     "text": [
      "CPU times: user 40.7 ms, sys: 0 ns, total: 40.7 ms\n",
      "Wall time: 14.5 ms\n"
     ]
    }
   ],
   "source": [
    "%%time\n",
    "predict = linear_model.predict(features_test_scal_ohe)"
   ]
  },
  {
   "cell_type": "code",
   "execution_count": 19,
   "metadata": {},
   "outputs": [
    {
     "name": "stdout",
     "output_type": "stream",
     "text": [
      "RMSE тестовой выборки: 2749.01\n"
     ]
    }
   ],
   "source": [
    "rmse_lr_test = mse(target_test, predict)**0.5\n",
    "print('RMSE тестовой выборки: {:.2f}'.format(rmse_lr_test)) "
   ]
  },
  {
   "cell_type": "markdown",
   "metadata": {},
   "source": [
    "**Модель CatBoost**"
   ]
  },
  {
   "cell_type": "code",
   "execution_count": 20,
   "metadata": {},
   "outputs": [],
   "source": [
    "train_pool = Pool(data=features_train, label=target_train, cat_features=categorical_features)\n",
    "params = {\"iterations\": 150,\n",
    "          \"learning_rate\": 1,\n",
    "          \"max_depth\": None,\n",
    "          \"loss_function\": \"RMSE\",\n",
    "          \"random_state\": 42,\n",
    "          \"bootstrap_type\": None,\n",
    "          \"min_data_in_leaf\": 1,\n",
    "          \"boosting_type\": 'Plain',\n",
    "          \"verbose\": False}\n",
    "bootstrap_type = ['MVS', 'Bernoulli']\n",
    "max_depth = [2, 3, 4]"
   ]
  },
  {
   "cell_type": "code",
   "execution_count": 21,
   "metadata": {},
   "outputs": [],
   "source": [
    "best_score = 10000\n",
    "for trap_type in bootstrap_type:\n",
    "    params['bootstrap_type'] = trap_type\n",
    "    for m_depth in max_depth:\n",
    "        params['max_depth'] = m_depth\n",
    "        score = cv(pool=train_pool, params=params, fold_count=2, plot=False).iloc[-1]['test-RMSE-mean']\n",
    "        if score < best_score:\n",
    "            best_score = score\n",
    "            best_param = (trap_type, m_depth)"
   ]
  },
  {
   "cell_type": "code",
   "execution_count": 22,
   "metadata": {},
   "outputs": [
    {
     "name": "stdout",
     "output_type": "stream",
     "text": [
      "Лучший RMSE: 1776.8731776978962\n"
     ]
    }
   ],
   "source": [
    "rmse_cb_train = best_score\n",
    "print('Лучший RMSE:', rmse_cb_train)"
   ]
  },
  {
   "cell_type": "code",
   "execution_count": 23,
   "metadata": {},
   "outputs": [
    {
     "name": "stdout",
     "output_type": "stream",
     "text": [
      "0:\tlearn: 3023.7279639\ttotal: 81.9ms\tremaining: 12.2s\n",
      "10:\tlearn: 2075.2676511\ttotal: 1.77s\tremaining: 22.4s\n",
      "20:\tlearn: 1957.2874000\ttotal: 3.36s\tremaining: 20.7s\n",
      "30:\tlearn: 1890.5952779\ttotal: 5.05s\tremaining: 19.4s\n",
      "40:\tlearn: 1849.9583138\ttotal: 6.56s\tremaining: 17.4s\n",
      "50:\tlearn: 1824.4678084\ttotal: 8.16s\tremaining: 15.8s\n",
      "60:\tlearn: 1804.7831119\ttotal: 9.75s\tremaining: 14.2s\n",
      "70:\tlearn: 1788.7453864\ttotal: 11.3s\tremaining: 12.6s\n",
      "80:\tlearn: 1774.3262175\ttotal: 12.8s\tremaining: 10.9s\n",
      "90:\tlearn: 1762.1384334\ttotal: 14.5s\tremaining: 9.43s\n",
      "100:\tlearn: 1754.1846250\ttotal: 16s\tremaining: 7.78s\n",
      "110:\tlearn: 1744.0798364\ttotal: 17.5s\tremaining: 6.16s\n",
      "120:\tlearn: 1735.8664062\ttotal: 19.1s\tremaining: 4.58s\n",
      "130:\tlearn: 1726.6555540\ttotal: 20.7s\tremaining: 3s\n",
      "140:\tlearn: 1721.9087898\ttotal: 22.2s\tremaining: 1.42s\n",
      "149:\tlearn: 1715.2558951\ttotal: 23.6s\tremaining: 0us\n",
      "CPU times: user 20.6 s, sys: 3.35 s, total: 23.9 s\n",
      "Wall time: 24.8 s\n"
     ]
    },
    {
     "data": {
      "text/plain": [
       "<catboost.core.CatBoostRegressor at 0x7f19b2bae990>"
      ]
     },
     "execution_count": 23,
     "metadata": {},
     "output_type": "execute_result"
    }
   ],
   "source": [
    "%%time\n",
    "boots_type = best_param[0]\n",
    "max_depth = best_param[1]\n",
    "catboost_model = CatBoostRegressor(iterations=150, learning_rate=1, max_depth=max_depth, bootstrap_type=boots_type,\n",
    "                       random_state=42, boosting_type='Plain', verbose=10)\n",
    "catboost_model.fit(train_pool);"
   ]
  },
  {
   "cell_type": "markdown",
   "metadata": {},
   "source": [
    "Важность признаков модели CatBoost"
   ]
  },
  {
   "cell_type": "code",
   "execution_count": 24,
   "metadata": {},
   "outputs": [
    {
     "data": {
      "text/html": [
       "<div>\n",
       "<style scoped>\n",
       "    .dataframe tbody tr th:only-of-type {\n",
       "        vertical-align: middle;\n",
       "    }\n",
       "\n",
       "    .dataframe tbody tr th {\n",
       "        vertical-align: top;\n",
       "    }\n",
       "\n",
       "    .dataframe thead th {\n",
       "        text-align: right;\n",
       "    }\n",
       "</style>\n",
       "<table border=\"1\" class=\"dataframe\">\n",
       "  <thead>\n",
       "    <tr style=\"text-align: right;\">\n",
       "      <th></th>\n",
       "      <th>Признаки</th>\n",
       "      <th>Важность</th>\n",
       "    </tr>\n",
       "  </thead>\n",
       "  <tbody>\n",
       "    <tr>\n",
       "      <td>1</td>\n",
       "      <td>RegistrationYear</td>\n",
       "      <td>44.044149</td>\n",
       "    </tr>\n",
       "    <tr>\n",
       "      <td>3</td>\n",
       "      <td>Power</td>\n",
       "      <td>26.443925</td>\n",
       "    </tr>\n",
       "    <tr>\n",
       "      <td>5</td>\n",
       "      <td>Kilometer</td>\n",
       "      <td>14.435213</td>\n",
       "    </tr>\n",
       "    <tr>\n",
       "      <td>7</td>\n",
       "      <td>Brand</td>\n",
       "      <td>6.969174</td>\n",
       "    </tr>\n",
       "    <tr>\n",
       "      <td>0</td>\n",
       "      <td>VehicleType</td>\n",
       "      <td>3.332673</td>\n",
       "    </tr>\n",
       "    <tr>\n",
       "      <td>8</td>\n",
       "      <td>NotRepaired</td>\n",
       "      <td>1.979488</td>\n",
       "    </tr>\n",
       "    <tr>\n",
       "      <td>4</td>\n",
       "      <td>Model</td>\n",
       "      <td>1.827765</td>\n",
       "    </tr>\n",
       "    <tr>\n",
       "      <td>6</td>\n",
       "      <td>FuelType</td>\n",
       "      <td>0.819485</td>\n",
       "    </tr>\n",
       "    <tr>\n",
       "      <td>2</td>\n",
       "      <td>Gearbox</td>\n",
       "      <td>0.148129</td>\n",
       "    </tr>\n",
       "  </tbody>\n",
       "</table>\n",
       "</div>"
      ],
      "text/plain": [
       "           Признаки   Важность\n",
       "1  RegistrationYear  44.044149\n",
       "3             Power  26.443925\n",
       "5         Kilometer  14.435213\n",
       "7             Brand   6.969174\n",
       "0       VehicleType   3.332673\n",
       "8       NotRepaired   1.979488\n",
       "4             Model   1.827765\n",
       "6          FuelType   0.819485\n",
       "2           Gearbox   0.148129"
      ]
     },
     "execution_count": 24,
     "metadata": {},
     "output_type": "execute_result"
    }
   ],
   "source": [
    "fi_cb = pd.DataFrame({'Признаки':features_test.columns,'Важность':catboost_model.feature_importances_})\n",
    "fi_cb = fi_cb.sort_values('Важность',ascending=False)\n",
    "fi_cb"
   ]
  },
  {
   "cell_type": "code",
   "execution_count": 25,
   "metadata": {},
   "outputs": [
    {
     "data": {
      "image/png": "[encoded data removed]",
      "text/plain": [
       "<Figure size 1152x648 with 1 Axes>"
      ]
     },
     "metadata": {},
     "output_type": "display_data"
    }
   ],
   "source": [
    "plt.figure(figsize=(16,9))\n",
    "sns.barplot(x='Важность', y =  'Признаки',data = fi_cb)\n",
    "plt.suptitle( 'Важность признаков модели CatBoost'+ \"\\n\")\n",
    "plt.ylabel('Признаки')\n",
    "plt.xlabel(\"\\n\" + 'Важность ')\n",
    "plt.grid()\n",
    "plt.show()"
   ]
  },
  {
   "cell_type": "markdown",
   "metadata": {},
   "source": [
    "По результатам значимости каждого признака для построения модли CatBoost предоставленным вышем, следует, что наиболее важным признаком является RegistrationYear, менее всего на мадель влияет признак Gearbox."
   ]
  },
  {
   "cell_type": "markdown",
   "metadata": {},
   "source": [
    "**Модель LightGBM**"
   ]
  },
  {
   "cell_type": "code",
   "execution_count": 26,
   "metadata": {},
   "outputs": [],
   "source": [
    "features_train_ord_scale = pd.concat((pd.DataFrame(features_train_ord, columns=categorical_features),\n",
    "                               pd.DataFrame(features_train_scal, columns=numerical_features)), axis=1)"
   ]
  },
  {
   "cell_type": "code",
   "execution_count": 27,
   "metadata": {},
   "outputs": [],
   "source": [
    "lgbm_train_data = lightgbm.Dataset(features_train_ord_scale, label=target_train\n",
    "                                   , categorical_feature=categorical_features, free_raw_data=False)\n",
    "param = {'learning_rate': 1,\n",
    "         'metric': 'rmse',\n",
    "         'stratify': False,\n",
    "         'seed': 42,\n",
    "         'objective': 'regression',\n",
    "         'verbosity': -1,\n",
    "        }\n",
    "booster_method = ['gbdt', 'gross']\n",
    "max_depth = [2, 3, 4]"
   ]
  },
  {
   "cell_type": "code",
   "execution_count": 28,
   "metadata": {},
   "outputs": [],
   "source": [
    "best_score = 10000\n",
    "for boost in booster_method:\n",
    "    params['boosting'] = boost\n",
    "    for m_depth in max_depth:\n",
    "        params['max_depth'] = m_depth\n",
    "        score = lightgbm.cv(param, lgbm_train_data, nfold=3, categorical_feature=categorical_features)\n",
    "        score = pd.DataFrame(score).iloc[-1]['rmse-mean']\n",
    "        if score < best_score:\n",
    "            best_score = score\n",
    "            best_param = (boost, m_depth)"
   ]
  },
  {
   "cell_type": "code",
   "execution_count": 29,
   "metadata": {},
   "outputs": [
    {
     "name": "stdout",
     "output_type": "stream",
     "text": [
      "Лучший RMSE: 1807.629161475201\n"
     ]
    }
   ],
   "source": [
    "rmse_lgbm_train = best_score\n",
    "print('Лучший RMSE:', rmse_lgbm_train)"
   ]
  },
  {
   "cell_type": "code",
   "execution_count": 30,
   "metadata": {},
   "outputs": [
    {
     "name": "stdout",
     "output_type": "stream",
     "text": [
      "CPU times: user 14.8 s, sys: 128 ms, total: 14.9 s\n",
      "Wall time: 15 s\n"
     ]
    }
   ],
   "source": [
    "%%time\n",
    "param['max_depth'] = best_param[1]\n",
    "param['boosting'] = best_param[0]\n",
    "lgbm_model = lightgbm.train(param, lgbm_train_data, categorical_feature=categorical_features, num_boost_round=150)"
   ]
  },
  {
   "cell_type": "markdown",
   "metadata": {},
   "source": [
    "Важность признаков модели LightGBM"
   ]
  },
  {
   "cell_type": "code",
   "execution_count": 31,
   "metadata": {},
   "outputs": [
    {
     "data": {
      "text/plain": [
       "<matplotlib.axes._subplots.AxesSubplot at 0x7f19af94a150>"
      ]
     },
     "execution_count": 31,
     "metadata": {},
     "output_type": "execute_result"
    },
    {
     "data": {
      "image/png": "[encoded data removed]",
      "text/plain": [
       "<Figure size 432x288 with 1 Axes>"
      ]
     },
     "metadata": {},
     "output_type": "display_data"
    }
   ],
   "source": [
    "lightgbm.plot_importance(lgbm_model )"
   ]
  },
  {
   "cell_type": "markdown",
   "metadata": {},
   "source": [
    "По графику значимости каждого признака для построения модли LightGBM предоставленным вышем, следует, что наиболее важным признаком является Model и RegistrationYear, менее всего на мадель влияют признаки Gearbox и FuelType."
   ]
  },
  {
   "cell_type": "markdown",
   "metadata": {},
   "source": [
    "**Вывод:**\n",
    "\n",
    "Результаты обучения моделей приведены в таблице ниже:"
   ]
  },
  {
   "cell_type": "code",
   "execution_count": 32,
   "metadata": {},
   "outputs": [
    {
     "data": {
      "text/html": [
       "<div>\n",
       "<style scoped>\n",
       "    .dataframe tbody tr th:only-of-type {\n",
       "        vertical-align: middle;\n",
       "    }\n",
       "\n",
       "    .dataframe tbody tr th {\n",
       "        vertical-align: top;\n",
       "    }\n",
       "\n",
       "    .dataframe thead th {\n",
       "        text-align: right;\n",
       "    }\n",
       "</style>\n",
       "<table border=\"1\" class=\"dataframe\">\n",
       "  <thead>\n",
       "    <tr style=\"text-align: right;\">\n",
       "      <th></th>\n",
       "      <th>RMSE</th>\n",
       "      <th>Время обучения (сек.)</th>\n",
       "    </tr>\n",
       "  </thead>\n",
       "  <tbody>\n",
       "    <tr>\n",
       "      <td>LinearRegression</td>\n",
       "      <td>2754.392176</td>\n",
       "      <td>21</td>\n",
       "    </tr>\n",
       "    <tr>\n",
       "      <td>CatBoost</td>\n",
       "      <td>1776.873178</td>\n",
       "      <td>23.7</td>\n",
       "    </tr>\n",
       "    <tr>\n",
       "      <td>LightGBM</td>\n",
       "      <td>1807.629161</td>\n",
       "      <td>3.69</td>\n",
       "    </tr>\n",
       "  </tbody>\n",
       "</table>\n",
       "</div>"
      ],
      "text/plain": [
       "                         RMSE Время обучения (сек.)\n",
       "LinearRegression  2754.392176                    21\n",
       "CatBoost          1776.873178                  23.7\n",
       "LightGBM          1807.629161                  3.69"
      ]
     },
     "execution_count": 32,
     "metadata": {},
     "output_type": "execute_result"
    }
   ],
   "source": [
    "d = ({'RMSE':[rmse_lr_train,rmse_cb_train,rmse_lgbm_train]\n",
    "      ,'Время обучения (сек.)':['21','23.7','3.69']})\n",
    "data = pd.DataFrame(data=d, index=['LinearRegression','CatBoost','LightGBM'])\n",
    "data"
   ]
  },
  {
   "cell_type": "markdown",
   "metadata": {},
   "source": [
    "Лучшей моделью по качеству можно назвать модель LinearRegression (RMSE: 2698.23, время обучения: 30 сек.), среди моделей градиентного бустинга наилучшей является LightGBM (RMSE: 1808.49, время обучения: 3.69 сек.)."
   ]
  },
  {
   "cell_type": "markdown",
   "metadata": {},
   "source": [
    "## Анализ моделей"
   ]
  },
  {
   "cell_type": "code",
   "execution_count": 33,
   "metadata": {},
   "outputs": [],
   "source": [
    "features_test_ord_scale = pd.concat((pd.DataFrame(features_test_ord, columns=categorical_features),\n",
    "                               pd.DataFrame(features_test_scal, columns=numerical_features)), axis=1)\n",
    "test_pool = Pool(data=features_test_ord_scale, cat_features=categorical_features)"
   ]
  },
  {
   "cell_type": "code",
   "execution_count": 34,
   "metadata": {},
   "outputs": [
    {
     "name": "stdout",
     "output_type": "stream",
     "text": [
      "CPU times: user 36.7 ms, sys: 0 ns, total: 36.7 ms\n",
      "Wall time: 51.5 ms\n"
     ]
    }
   ],
   "source": [
    "%%time\n",
    "predict = catboost_model.predict(test_pool)"
   ]
  },
  {
   "cell_type": "code",
   "execution_count": 35,
   "metadata": {},
   "outputs": [
    {
     "name": "stdout",
     "output_type": "stream",
     "text": [
      "RMSE тестовой выборки:7177.37\n"
     ]
    }
   ],
   "source": [
    "rmse_cb_test = mse(target_test, predict)**0.5\n",
    "print('RMSE тестовой выборки:{:.2f}'.format(rmse_cb_test))"
   ]
  },
  {
   "cell_type": "code",
   "execution_count": 36,
   "metadata": {},
   "outputs": [
    {
     "name": "stdout",
     "output_type": "stream",
     "text": [
      "CPU times: user 347 ms, sys: 0 ns, total: 347 ms\n",
      "Wall time: 290 ms\n"
     ]
    }
   ],
   "source": [
    "%%time\n",
    "predict = lgbm_model.predict(features_test_ord_scale)"
   ]
  },
  {
   "cell_type": "code",
   "execution_count": 37,
   "metadata": {},
   "outputs": [
    {
     "name": "stdout",
     "output_type": "stream",
     "text": [
      "RMSE тестовой выборки:1772.34\n"
     ]
    }
   ],
   "source": [
    "rmse_lgbm_test = mse(target_test, predict)**0.5\n",
    "print('RMSE тестовой выборки:{:.2f}'.format(rmse_lgbm_test))"
   ]
  },
  {
   "cell_type": "markdown",
   "metadata": {},
   "source": [
    "**Вывод:**"
   ]
  },
  {
   "cell_type": "markdown",
   "metadata": {},
   "source": [
    "Результаты предсказаний моделей приведены в таблице ниже:"
   ]
  },
  {
   "cell_type": "code",
   "execution_count": 38,
   "metadata": {},
   "outputs": [
    {
     "data": {
      "text/html": [
       "<div>\n",
       "<style scoped>\n",
       "    .dataframe tbody tr th:only-of-type {\n",
       "        vertical-align: middle;\n",
       "    }\n",
       "\n",
       "    .dataframe tbody tr th {\n",
       "        vertical-align: top;\n",
       "    }\n",
       "\n",
       "    .dataframe thead th {\n",
       "        text-align: right;\n",
       "    }\n",
       "</style>\n",
       "<table border=\"1\" class=\"dataframe\">\n",
       "  <thead>\n",
       "    <tr style=\"text-align: right;\">\n",
       "      <th></th>\n",
       "      <th>RMSE</th>\n",
       "      <th>Время предсказания (сек.)</th>\n",
       "    </tr>\n",
       "  </thead>\n",
       "  <tbody>\n",
       "    <tr>\n",
       "      <td>LinearRegression</td>\n",
       "      <td>2749.010792</td>\n",
       "      <td>0.010</td>\n",
       "    </tr>\n",
       "    <tr>\n",
       "      <td>CatBoost</td>\n",
       "      <td>7177.371241</td>\n",
       "      <td>0.008</td>\n",
       "    </tr>\n",
       "    <tr>\n",
       "      <td>LightGBM</td>\n",
       "      <td>1772.341909</td>\n",
       "      <td>0.281</td>\n",
       "    </tr>\n",
       "  </tbody>\n",
       "</table>\n",
       "</div>"
      ],
      "text/plain": [
       "                         RMSE Время предсказания (сек.)\n",
       "LinearRegression  2749.010792                     0.010\n",
       "CatBoost          7177.371241                     0.008\n",
       "LightGBM          1772.341909                     0.281"
      ]
     },
     "execution_count": 38,
     "metadata": {},
     "output_type": "execute_result"
    }
   ],
   "source": [
    "d = ({'RMSE':[rmse_lr_test, rmse_cb_test, rmse_lgbm_test]\n",
    "      ,'Время предсказания (сек.)':['0.010','0.008','0.281']})\n",
    "data = pd.DataFrame(data=d, index=['LinearRegression','CatBoost','LightGBM'])\n",
    "data"
   ]
  },
  {
   "cell_type": "markdown",
   "metadata": {},
   "source": [
    "Модель LinearRegression также показывает лучшее качество (RMSE: 2698.23, время предсказания: 101 мс.). Качество моделей градиентного бустинга примерно одинаковое. Наилучшей по времени наилучшей является CatBoost (RMSE: 1743.65, время обучения: 8 мс.)."
   ]
  },
  {
   "cell_type": "markdown",
   "metadata": {},
   "source": [
    "## Общий вывод"
   ]
  },
  {
   "cell_type": "markdown",
   "metadata": {},
   "source": [
    "В ходе выполнения проекта о определении стоимости автомобилей были выполнены следующие шаги:\n",
    "\n",
    "1) Загружены и подготовлены данные\n",
    "\n",
    "Произведена оптимизация типов данных, удалены дубликаты, заполнены пропуски данных, удалены лишние столбцы, а также выявлены и удалены выбросы значений в столбцах.\n",
    "\n",
    "2) Обучены модели LinearRegression, CatBoost, LightGBM\n",
    "\n",
    "Лучшей моделью по качеству можно назвать модель LinearRegression (RMSE: 2698.23, время обучения: 30 сек.), среди моделей градиентного бустинга наилучшей является LightGBM (RMSE: 1808.49, время обучения: 3.69 сек.).\n",
    "\n",
    "3) Проанализированы модели\n",
    "\n",
    "Модель LinearRegression также показывает лушее качество (RMSE: 2698.23, время предсказания: 101 мс.). Качество моделей градиентного бустинга примерно одинаковое, наилучшей по времени наилучшей является CatBoost (RMSE: 1743.65, время обучения: 8 мс.), что во много раз опережает время предсказания модели LightGBM (RMSE: 1775.01, время обучения: 281 мс.).\n",
    "\n",
    "Исходя из итогов приведенных выше, следует, что лучшей моделью градиентного бустинга можно считать модель CatBoost."
   ]
  }
 ],
 "metadata": {
  "ExecuteTimeLog": [
   {
    "duration": 1253,
    "start_time": "2021-09-23T10:34:13.702Z"
   },
   {
    "duration": 4,
    "start_time": "2021-09-23T10:34:14.958Z"
   },
   {
    "duration": 2783,
    "start_time": "2021-09-23T10:34:14.968Z"
   },
   {
    "duration": 112968,
    "start_time": "2021-09-23T10:34:17.753Z"
   },
   {
    "duration": 4,
    "start_time": "2021-09-23T10:37:52.546Z"
   },
   {
    "duration": 2839,
    "start_time": "2021-09-23T10:37:54.977Z"
   },
   {
    "duration": 565,
    "start_time": "2021-09-23T13:40:26.718Z"
   },
   {
    "duration": 3479,
    "start_time": "2021-09-23T13:41:14.938Z"
   },
   {
    "duration": 835,
    "start_time": "2021-09-23T13:43:23.319Z"
   },
   {
    "duration": 2008,
    "start_time": "2021-09-23T13:48:35.602Z"
   },
   {
    "duration": 997,
    "start_time": "2021-09-23T13:56:34.862Z"
   },
   {
    "duration": 92,
    "start_time": "2021-09-23T13:56:35.769Z"
   },
   {
    "duration": 24,
    "start_time": "2021-09-23T13:57:08.366Z"
   },
   {
    "duration": 1766,
    "start_time": "2021-09-23T13:57:10.190Z"
   },
   {
    "duration": 385,
    "start_time": "2021-09-23T14:01:11.372Z"
   },
   {
    "duration": 10473,
    "start_time": "2021-09-23T14:01:28.248Z"
   },
   {
    "duration": 1165,
    "start_time": "2021-09-23T14:01:39.864Z"
   },
   {
    "duration": 20,
    "start_time": "2021-09-23T14:02:01.885Z"
   },
   {
    "duration": 112,
    "start_time": "2021-09-23T14:12:52.869Z"
   },
   {
    "duration": 1192,
    "start_time": "2021-09-23T14:16:11.413Z"
   },
   {
    "duration": 6,
    "start_time": "2021-09-23T14:16:12.607Z"
   },
   {
    "duration": 3744,
    "start_time": "2021-09-23T14:16:12.616Z"
   },
   {
    "duration": 126,
    "start_time": "2021-09-23T14:16:16.236Z"
   },
   {
    "duration": 75,
    "start_time": "2021-09-23T14:16:16.288Z"
   },
   {
    "duration": 72,
    "start_time": "2021-09-23T14:16:16.293Z"
   },
   {
    "duration": 69,
    "start_time": "2021-09-23T14:16:16.297Z"
   },
   {
    "duration": 1703,
    "start_time": "2021-09-23T14:18:21.173Z"
   },
   {
    "duration": 6,
    "start_time": "2021-09-23T14:18:22.878Z"
   },
   {
    "duration": 3732,
    "start_time": "2021-09-23T14:18:22.887Z"
   },
   {
    "duration": 115,
    "start_time": "2021-09-23T14:18:26.506Z"
   },
   {
    "duration": 64,
    "start_time": "2021-09-23T14:18:26.558Z"
   },
   {
    "duration": 56,
    "start_time": "2021-09-23T14:18:26.567Z"
   },
   {
    "duration": 50,
    "start_time": "2021-09-23T14:18:26.574Z"
   },
   {
    "duration": 1211,
    "start_time": "2021-09-23T14:18:39.875Z"
   },
   {
    "duration": 5,
    "start_time": "2021-09-23T14:18:41.088Z"
   },
   {
    "duration": 3644,
    "start_time": "2021-09-23T14:18:41.095Z"
   },
   {
    "duration": 101,
    "start_time": "2021-09-23T14:18:44.641Z"
   },
   {
    "duration": 97,
    "start_time": "2021-09-23T14:18:44.646Z"
   },
   {
    "duration": 66,
    "start_time": "2021-09-23T14:18:44.679Z"
   },
   {
    "duration": 61,
    "start_time": "2021-09-23T14:18:44.685Z"
   },
   {
    "duration": 1259,
    "start_time": "2021-09-23T14:19:53.167Z"
   },
   {
    "duration": 6,
    "start_time": "2021-09-23T14:19:54.429Z"
   },
   {
    "duration": 3870,
    "start_time": "2021-09-23T14:19:54.437Z"
   },
   {
    "duration": 130,
    "start_time": "2021-09-23T14:19:58.179Z"
   },
   {
    "duration": 71,
    "start_time": "2021-09-23T14:19:58.238Z"
   },
   {
    "duration": 67,
    "start_time": "2021-09-23T14:19:58.243Z"
   },
   {
    "duration": 63,
    "start_time": "2021-09-23T14:19:58.248Z"
   },
   {
    "duration": 1228,
    "start_time": "2021-09-23T14:20:43.548Z"
   },
   {
    "duration": 5,
    "start_time": "2021-09-23T14:20:44.778Z"
   },
   {
    "duration": 2886,
    "start_time": "2021-09-23T14:20:44.784Z"
   },
   {
    "duration": 37,
    "start_time": "2021-09-23T14:20:47.672Z"
   },
   {
    "duration": 187,
    "start_time": "2021-09-23T14:20:47.711Z"
   },
   {
    "duration": 1279,
    "start_time": "2021-09-23T14:20:47.900Z"
   },
   {
    "duration": 1401,
    "start_time": "2021-09-23T14:20:49.181Z"
   },
   {
    "duration": 24,
    "start_time": "2021-09-23T14:21:30.045Z"
   },
   {
    "duration": 3,
    "start_time": "2021-09-23T14:30:03.461Z"
   },
   {
    "duration": 411,
    "start_time": "2021-09-23T14:30:38.249Z"
   },
   {
    "duration": 3,
    "start_time": "2021-09-23T14:30:58.201Z"
   },
   {
    "duration": 953,
    "start_time": "2021-09-23T14:30:59.139Z"
   },
   {
    "duration": 426,
    "start_time": "2021-09-23T14:52:33.415Z"
   },
   {
    "duration": 942,
    "start_time": "2021-09-23T14:52:48.709Z"
   },
   {
    "duration": 926,
    "start_time": "2021-09-23T14:53:05.542Z"
   },
   {
    "duration": 36,
    "start_time": "2021-09-23T15:00:38.970Z"
   },
   {
    "duration": 1095,
    "start_time": "2021-09-23T15:00:40.772Z"
   },
   {
    "duration": 367,
    "start_time": "2021-09-23T15:06:24.306Z"
   },
   {
    "duration": 343,
    "start_time": "2021-09-23T15:06:34.236Z"
   },
   {
    "duration": 122,
    "start_time": "2021-09-23T15:06:41.087Z"
   },
   {
    "duration": 454,
    "start_time": "2021-09-23T15:06:50.611Z"
   },
   {
    "duration": 28,
    "start_time": "2021-09-23T15:08:05.627Z"
   },
   {
    "duration": 444,
    "start_time": "2021-09-23T15:08:13.838Z"
   },
   {
    "duration": 23,
    "start_time": "2021-09-23T15:09:27.653Z"
   },
   {
    "duration": 394,
    "start_time": "2021-09-23T15:11:20.639Z"
   },
   {
    "duration": 4,
    "start_time": "2021-09-23T15:12:36.107Z"
   },
   {
    "duration": 4,
    "start_time": "2021-09-23T15:12:41.547Z"
   },
   {
    "duration": 368,
    "start_time": "2021-09-23T15:13:27.449Z"
   },
   {
    "duration": 365,
    "start_time": "2021-09-23T15:13:44.231Z"
   },
   {
    "duration": 3,
    "start_time": "2021-09-23T15:13:59.822Z"
   },
   {
    "duration": 4,
    "start_time": "2021-09-23T15:14:16.229Z"
   },
   {
    "duration": 369,
    "start_time": "2021-09-23T15:14:50.946Z"
   },
   {
    "duration": 4,
    "start_time": "2021-09-23T15:15:08.512Z"
   },
   {
    "duration": 10,
    "start_time": "2021-09-23T15:15:08.724Z"
   },
   {
    "duration": 2768,
    "start_time": "2021-09-23T15:15:08.944Z"
   },
   {
    "duration": 39,
    "start_time": "2021-09-23T15:15:11.714Z"
   },
   {
    "duration": 199,
    "start_time": "2021-09-23T15:15:11.755Z"
   },
   {
    "duration": 78,
    "start_time": "2021-09-23T15:15:11.956Z"
   },
   {
    "duration": 24,
    "start_time": "2021-09-23T15:15:22.713Z"
   },
   {
    "duration": 88,
    "start_time": "2021-09-23T15:15:50.108Z"
   },
   {
    "duration": 22,
    "start_time": "2021-09-23T15:15:51.370Z"
   },
   {
    "duration": 1221,
    "start_time": "2021-09-23T15:15:58.690Z"
   },
   {
    "duration": 131,
    "start_time": "2021-09-23T15:19:09.886Z"
   },
   {
    "duration": 174,
    "start_time": "2021-09-23T15:19:13.384Z"
   },
   {
    "duration": 1687,
    "start_time": "2021-09-23T15:35:20.564Z"
   },
   {
    "duration": 3,
    "start_time": "2021-09-23T15:35:56.080Z"
   },
   {
    "duration": 2628,
    "start_time": "2021-09-23T15:35:56.876Z"
   },
   {
    "duration": 3,
    "start_time": "2021-09-23T15:36:30.403Z"
   },
   {
    "duration": 1701,
    "start_time": "2021-09-23T15:36:31.039Z"
   },
   {
    "duration": 3,
    "start_time": "2021-09-23T15:43:21.555Z"
   },
   {
    "duration": 4,
    "start_time": "2021-09-23T15:43:21.986Z"
   },
   {
    "duration": 2828,
    "start_time": "2021-09-23T15:43:22.493Z"
   },
   {
    "duration": 460,
    "start_time": "2021-09-23T15:43:26.169Z"
   },
   {
    "duration": 160,
    "start_time": "2021-09-23T15:43:29.411Z"
   },
   {
    "duration": 83,
    "start_time": "2021-09-23T15:44:44.624Z"
   },
   {
    "duration": 179,
    "start_time": "2021-09-23T15:45:13.012Z"
   },
   {
    "duration": 1221,
    "start_time": "2021-09-23T15:45:31.036Z"
   },
   {
    "duration": 5,
    "start_time": "2021-09-23T15:45:32.259Z"
   },
   {
    "duration": 2889,
    "start_time": "2021-09-23T15:45:32.266Z"
   },
   {
    "duration": 494,
    "start_time": "2021-09-23T15:45:35.157Z"
   },
   {
    "duration": 179,
    "start_time": "2021-09-23T15:45:35.653Z"
   },
   {
    "duration": 97,
    "start_time": "2021-09-23T15:45:35.834Z"
   },
   {
    "duration": 203,
    "start_time": "2021-09-23T15:45:35.934Z"
   },
   {
    "duration": 3,
    "start_time": "2021-09-23T15:45:36.139Z"
   },
   {
    "duration": 1707,
    "start_time": "2021-09-23T15:45:36.144Z"
   },
   {
    "duration": 4,
    "start_time": "2021-09-23T15:55:16.320Z"
   },
   {
    "duration": 5,
    "start_time": "2021-09-23T15:55:16.593Z"
   },
   {
    "duration": 2918,
    "start_time": "2021-09-23T15:55:16.816Z"
   },
   {
    "duration": 558,
    "start_time": "2021-09-23T15:55:19.736Z"
   },
   {
    "duration": 181,
    "start_time": "2021-09-23T15:55:20.296Z"
   },
   {
    "duration": 1138,
    "start_time": "2021-09-23T15:55:21.588Z"
   },
   {
    "duration": 188,
    "start_time": "2021-09-23T15:55:32.479Z"
   },
   {
    "duration": 1671,
    "start_time": "2021-09-23T15:55:34.184Z"
   },
   {
    "duration": 31,
    "start_time": "2021-09-23T15:58:24.174Z"
   },
   {
    "duration": 1011,
    "start_time": "2021-09-23T15:59:43.469Z"
   },
   {
    "duration": 30,
    "start_time": "2021-09-23T15:59:44.482Z"
   },
   {
    "duration": 1273,
    "start_time": "2021-09-23T15:59:54.872Z"
   },
   {
    "duration": 5,
    "start_time": "2021-09-23T15:59:56.147Z"
   },
   {
    "duration": 2873,
    "start_time": "2021-09-23T15:59:56.154Z"
   },
   {
    "duration": 588,
    "start_time": "2021-09-23T15:59:59.029Z"
   },
   {
    "duration": 173,
    "start_time": "2021-09-23T15:59:59.619Z"
   },
   {
    "duration": 1175,
    "start_time": "2021-09-23T15:59:59.794Z"
   },
   {
    "duration": 24,
    "start_time": "2021-09-23T16:00:00.971Z"
   },
   {
    "duration": 207,
    "start_time": "2021-09-23T16:00:00.998Z"
   },
   {
    "duration": 1739,
    "start_time": "2021-09-23T16:00:01.207Z"
   },
   {
    "duration": 1237,
    "start_time": "2021-09-23T16:02:04.035Z"
   },
   {
    "duration": 5,
    "start_time": "2021-09-23T16:02:05.277Z"
   },
   {
    "duration": 2995,
    "start_time": "2021-09-23T16:02:05.284Z"
   },
   {
    "duration": 490,
    "start_time": "2021-09-23T16:02:08.281Z"
   },
   {
    "duration": 174,
    "start_time": "2021-09-23T16:02:08.773Z"
   },
   {
    "duration": 1161,
    "start_time": "2021-09-23T16:02:08.949Z"
   },
   {
    "duration": 24,
    "start_time": "2021-09-23T16:02:10.112Z"
   },
   {
    "duration": 207,
    "start_time": "2021-09-23T16:02:10.138Z"
   },
   {
    "duration": 1619,
    "start_time": "2021-09-23T16:02:10.348Z"
   },
   {
    "duration": 3,
    "start_time": "2021-09-23T17:36:23.937Z"
   },
   {
    "duration": 5,
    "start_time": "2021-09-23T17:36:24.683Z"
   },
   {
    "duration": 2924,
    "start_time": "2021-09-23T17:36:27.460Z"
   },
   {
    "duration": 5,
    "start_time": "2021-09-23T17:37:32.554Z"
   },
   {
    "duration": 2736,
    "start_time": "2021-09-23T17:37:33.461Z"
   },
   {
    "duration": 4,
    "start_time": "2021-09-23T17:38:00.833Z"
   },
   {
    "duration": 869,
    "start_time": "2021-09-23T17:38:01.687Z"
   },
   {
    "duration": 5,
    "start_time": "2021-09-23T17:38:32.787Z"
   },
   {
    "duration": 2850,
    "start_time": "2021-09-23T17:38:33.346Z"
   },
   {
    "duration": 4,
    "start_time": "2021-09-23T17:40:17.426Z"
   },
   {
    "duration": 5,
    "start_time": "2021-09-23T17:40:17.726Z"
   },
   {
    "duration": 3009,
    "start_time": "2021-09-23T17:40:18.251Z"
   },
   {
    "duration": 1217,
    "start_time": "2021-09-23T17:40:38.835Z"
   },
   {
    "duration": 5,
    "start_time": "2021-09-23T17:40:40.055Z"
   },
   {
    "duration": 2979,
    "start_time": "2021-09-23T17:40:40.063Z"
   },
   {
    "duration": 449,
    "start_time": "2021-09-23T17:40:43.044Z"
   },
   {
    "duration": 102,
    "start_time": "2021-09-23T17:40:43.495Z"
   },
   {
    "duration": 1165,
    "start_time": "2021-09-23T17:40:43.599Z"
   },
   {
    "duration": 344,
    "start_time": "2021-09-23T17:40:44.766Z"
   },
   {
    "duration": 1614,
    "start_time": "2021-09-23T17:40:45.112Z"
   },
   {
    "duration": 4,
    "start_time": "2021-09-23T17:41:27.725Z"
   },
   {
    "duration": 1602,
    "start_time": "2021-09-23T17:41:28.428Z"
   },
   {
    "duration": 5,
    "start_time": "2021-09-23T17:41:45.910Z"
   },
   {
    "duration": 2711,
    "start_time": "2021-09-23T17:41:46.644Z"
   },
   {
    "duration": 5,
    "start_time": "2021-09-23T17:42:06.302Z"
   },
   {
    "duration": 3203,
    "start_time": "2021-09-23T17:42:06.874Z"
   },
   {
    "duration": 4,
    "start_time": "2021-09-23T17:42:52.551Z"
   },
   {
    "duration": 2690,
    "start_time": "2021-09-23T17:42:53.068Z"
   },
   {
    "duration": 5,
    "start_time": "2021-09-23T17:43:05.099Z"
   },
   {
    "duration": 2400,
    "start_time": "2021-09-23T17:43:05.535Z"
   },
   {
    "duration": 1252,
    "start_time": "2021-09-23T17:43:39.534Z"
   },
   {
    "duration": 6,
    "start_time": "2021-09-23T17:43:40.789Z"
   },
   {
    "duration": 2774,
    "start_time": "2021-09-23T17:43:40.798Z"
   },
   {
    "duration": 320,
    "start_time": "2021-09-23T17:43:43.573Z"
   },
   {
    "duration": 1169,
    "start_time": "2021-09-23T17:43:43.895Z"
   },
   {
    "duration": 191,
    "start_time": "2021-09-23T17:43:45.065Z"
   },
   {
    "duration": 1657,
    "start_time": "2021-09-23T17:43:45.258Z"
   },
   {
    "duration": 1677,
    "start_time": "2021-09-24T05:47:56.924Z"
   },
   {
    "duration": 8,
    "start_time": "2021-09-24T05:47:58.604Z"
   },
   {
    "duration": 3888,
    "start_time": "2021-09-24T05:47:58.614Z"
   },
   {
    "duration": 495,
    "start_time": "2021-09-24T05:48:02.505Z"
   },
   {
    "duration": 1860,
    "start_time": "2021-09-24T05:48:03.002Z"
   },
   {
    "duration": 266,
    "start_time": "2021-09-24T05:48:04.864Z"
   },
   {
    "duration": 2711,
    "start_time": "2021-09-24T05:48:05.132Z"
   },
   {
    "duration": 1154,
    "start_time": "2021-09-26T04:31:12.227Z"
   },
   {
    "duration": 5,
    "start_time": "2021-09-26T04:31:13.383Z"
   },
   {
    "duration": 2492,
    "start_time": "2021-09-26T04:31:13.390Z"
   },
   {
    "duration": 330,
    "start_time": "2021-09-26T04:31:15.884Z"
   },
   {
    "duration": 1140,
    "start_time": "2021-09-26T04:31:16.216Z"
   },
   {
    "duration": 191,
    "start_time": "2021-09-26T04:31:17.358Z"
   },
   {
    "duration": 1588,
    "start_time": "2021-09-26T04:31:17.551Z"
   },
   {
    "duration": 7,
    "start_time": "2021-09-26T04:32:12.006Z"
   },
   {
    "duration": 6,
    "start_time": "2021-09-26T04:32:22.703Z"
   },
   {
    "duration": 11,
    "start_time": "2021-09-26T04:32:34.231Z"
   },
   {
    "duration": 456,
    "start_time": "2021-09-26T04:32:56.972Z"
   },
   {
    "duration": 10,
    "start_time": "2021-09-26T04:33:11.743Z"
   },
   {
    "duration": 31,
    "start_time": "2021-09-26T04:33:41.240Z"
   },
   {
    "duration": 10,
    "start_time": "2021-09-26T04:33:58.812Z"
   },
   {
    "duration": 1235,
    "start_time": "2021-09-26T05:43:28.945Z"
   },
   {
    "duration": 6,
    "start_time": "2021-09-26T05:43:30.182Z"
   },
   {
    "duration": 2599,
    "start_time": "2021-09-26T05:43:30.190Z"
   },
   {
    "duration": 317,
    "start_time": "2021-09-26T05:43:32.791Z"
   },
   {
    "duration": 1226,
    "start_time": "2021-09-26T05:43:33.110Z"
   },
   {
    "duration": 246,
    "start_time": "2021-09-26T05:43:34.339Z"
   },
   {
    "duration": 1613,
    "start_time": "2021-09-26T05:43:34.586Z"
   },
   {
    "duration": 1095,
    "start_time": "2021-09-26T05:48:10.263Z"
   },
   {
    "duration": 4,
    "start_time": "2021-09-26T05:51:25.337Z"
   },
   {
    "duration": 4,
    "start_time": "2021-09-26T05:51:25.573Z"
   },
   {
    "duration": 2396,
    "start_time": "2021-09-26T05:51:25.773Z"
   },
   {
    "duration": 295,
    "start_time": "2021-09-26T05:51:28.172Z"
   },
   {
    "duration": 1260,
    "start_time": "2021-09-26T05:51:28.469Z"
   },
   {
    "duration": 113,
    "start_time": "2021-09-26T05:55:53.509Z"
   },
   {
    "duration": 121,
    "start_time": "2021-09-26T05:56:12.503Z"
   },
   {
    "duration": 113,
    "start_time": "2021-09-26T05:56:24.256Z"
   },
   {
    "duration": 131,
    "start_time": "2021-09-26T05:57:16.092Z"
   },
   {
    "duration": 1220,
    "start_time": "2021-09-26T05:58:23.145Z"
   },
   {
    "duration": 2348,
    "start_time": "2021-09-26T05:58:35.421Z"
   },
   {
    "duration": 332,
    "start_time": "2021-09-26T05:58:40.417Z"
   },
   {
    "duration": 1456,
    "start_time": "2021-09-26T05:58:41.517Z"
   },
   {
    "duration": 1142,
    "start_time": "2021-09-26T05:59:20.053Z"
   },
   {
    "duration": 553,
    "start_time": "2021-09-26T06:22:00.546Z"
   },
   {
    "duration": 43,
    "start_time": "2021-09-26T06:22:06.354Z"
   },
   {
    "duration": 59,
    "start_time": "2021-09-26T06:25:08.548Z"
   },
   {
    "duration": 62,
    "start_time": "2021-09-26T06:25:18.899Z"
   },
   {
    "duration": 427,
    "start_time": "2021-09-26T06:25:25.679Z"
   },
   {
    "duration": 67,
    "start_time": "2021-09-26T06:25:30.435Z"
   },
   {
    "duration": 63,
    "start_time": "2021-09-26T06:25:47.095Z"
   },
   {
    "duration": 64,
    "start_time": "2021-09-26T06:25:51.102Z"
   },
   {
    "duration": 64,
    "start_time": "2021-09-26T06:25:57.208Z"
   },
   {
    "duration": 56,
    "start_time": "2021-09-26T06:31:12.594Z"
   },
   {
    "duration": 40,
    "start_time": "2021-09-26T06:35:38.125Z"
   },
   {
    "duration": 50,
    "start_time": "2021-09-26T06:37:17.983Z"
   },
   {
    "duration": 1217,
    "start_time": "2021-09-26T06:38:43.854Z"
   },
   {
    "duration": 5,
    "start_time": "2021-09-26T06:38:45.073Z"
   },
   {
    "duration": 2576,
    "start_time": "2021-09-26T06:38:45.080Z"
   },
   {
    "duration": 329,
    "start_time": "2021-09-26T06:38:47.658Z"
   },
   {
    "duration": 1255,
    "start_time": "2021-09-26T06:38:47.989Z"
   },
   {
    "duration": 183,
    "start_time": "2021-09-26T06:38:49.246Z"
   },
   {
    "duration": 1754,
    "start_time": "2021-09-26T06:38:49.431Z"
   },
   {
    "duration": 37,
    "start_time": "2021-09-26T06:38:51.187Z"
   },
   {
    "duration": 225,
    "start_time": "2021-09-26T06:45:02.206Z"
   },
   {
    "duration": 261,
    "start_time": "2021-09-26T06:45:22.302Z"
   },
   {
    "duration": 136,
    "start_time": "2021-09-26T06:45:43.223Z"
   },
   {
    "duration": 1191,
    "start_time": "2021-09-26T06:45:59.596Z"
   },
   {
    "duration": 5,
    "start_time": "2021-09-26T06:46:00.789Z"
   },
   {
    "duration": 2547,
    "start_time": "2021-09-26T06:46:00.795Z"
   },
   {
    "duration": 328,
    "start_time": "2021-09-26T06:46:03.344Z"
   },
   {
    "duration": 1155,
    "start_time": "2021-09-26T06:46:03.674Z"
   },
   {
    "duration": 202,
    "start_time": "2021-09-26T06:46:04.830Z"
   },
   {
    "duration": 1613,
    "start_time": "2021-09-26T06:46:05.034Z"
   },
   {
    "duration": 118,
    "start_time": "2021-09-26T06:46:06.649Z"
   },
   {
    "duration": 83,
    "start_time": "2021-09-26T06:56:00.398Z"
   },
   {
    "duration": 79,
    "start_time": "2021-09-26T06:56:13.570Z"
   },
   {
    "duration": 1234,
    "start_time": "2021-09-26T06:56:22.736Z"
   },
   {
    "duration": 5,
    "start_time": "2021-09-26T06:56:23.971Z"
   },
   {
    "duration": 2445,
    "start_time": "2021-09-26T06:56:23.978Z"
   },
   {
    "duration": 311,
    "start_time": "2021-09-26T06:56:26.424Z"
   },
   {
    "duration": 1148,
    "start_time": "2021-09-26T06:56:26.737Z"
   },
   {
    "duration": 184,
    "start_time": "2021-09-26T06:56:27.887Z"
   },
   {
    "duration": 1600,
    "start_time": "2021-09-26T06:56:28.076Z"
   },
   {
    "duration": 121,
    "start_time": "2021-09-26T06:56:29.679Z"
   },
   {
    "duration": 1677,
    "start_time": "2021-09-26T06:59:31.854Z"
   },
   {
    "duration": 8,
    "start_time": "2021-09-26T06:59:33.534Z"
   },
   {
    "duration": 2569,
    "start_time": "2021-09-26T06:59:33.544Z"
   },
   {
    "duration": 328,
    "start_time": "2021-09-26T06:59:36.115Z"
   },
   {
    "duration": 1287,
    "start_time": "2021-09-26T06:59:36.445Z"
   },
   {
    "duration": 191,
    "start_time": "2021-09-26T06:59:37.734Z"
   },
   {
    "duration": 1706,
    "start_time": "2021-09-26T06:59:37.928Z"
   },
   {
    "duration": 157,
    "start_time": "2021-09-26T06:59:39.637Z"
   },
   {
    "duration": 121,
    "start_time": "2021-09-26T07:00:16.534Z"
   },
   {
    "duration": 14,
    "start_time": "2021-09-26T08:00:35.054Z"
   },
   {
    "duration": 4,
    "start_time": "2021-09-26T08:01:36.838Z"
   },
   {
    "duration": 14,
    "start_time": "2021-09-26T08:01:42.534Z"
   },
   {
    "duration": 1540,
    "start_time": "2021-09-26T16:05:45.127Z"
   },
   {
    "duration": 9,
    "start_time": "2021-09-26T16:05:46.669Z"
   },
   {
    "duration": 3783,
    "start_time": "2021-09-26T16:05:46.681Z"
   },
   {
    "duration": 509,
    "start_time": "2021-09-26T16:05:50.467Z"
   },
   {
    "duration": 1851,
    "start_time": "2021-09-26T16:05:50.978Z"
   },
   {
    "duration": 264,
    "start_time": "2021-09-26T16:05:52.831Z"
   },
   {
    "duration": 2664,
    "start_time": "2021-09-26T16:05:53.098Z"
   },
   {
    "duration": 76,
    "start_time": "2021-09-26T16:05:55.766Z"
   },
   {
    "duration": 139,
    "start_time": "2021-09-26T16:05:55.861Z"
   },
   {
    "duration": 1548,
    "start_time": "2021-09-26T16:29:22.849Z"
   },
   {
    "duration": 8,
    "start_time": "2021-09-26T16:29:24.399Z"
   },
   {
    "duration": 4074,
    "start_time": "2021-09-26T16:29:24.411Z"
   },
   {
    "duration": 474,
    "start_time": "2021-09-26T16:29:28.488Z"
   },
   {
    "duration": 1864,
    "start_time": "2021-09-26T16:29:28.965Z"
   },
   {
    "duration": 257,
    "start_time": "2021-09-26T16:29:30.831Z"
   },
   {
    "duration": 2647,
    "start_time": "2021-09-26T16:29:31.090Z"
   },
   {
    "duration": 85,
    "start_time": "2021-09-26T16:29:33.739Z"
   },
   {
    "duration": 188,
    "start_time": "2021-09-26T16:29:33.828Z"
   },
   {
    "duration": 1708,
    "start_time": "2021-09-26T16:29:34.019Z"
   },
   {
    "duration": 7,
    "start_time": "2021-09-26T16:30:14.029Z"
   },
   {
    "duration": 398,
    "start_time": "2021-09-26T16:31:34.508Z"
   },
   {
    "duration": 1189,
    "start_time": "2021-09-26T16:31:41.198Z"
   },
   {
    "duration": 1589,
    "start_time": "2021-09-26T16:38:23.347Z"
   },
   {
    "duration": 8,
    "start_time": "2021-09-26T16:38:24.938Z"
   },
   {
    "duration": 4334,
    "start_time": "2021-09-26T16:38:24.949Z"
   },
   {
    "duration": 514,
    "start_time": "2021-09-26T16:38:29.286Z"
   },
   {
    "duration": 2288,
    "start_time": "2021-09-26T16:38:29.803Z"
   },
   {
    "duration": 289,
    "start_time": "2021-09-26T16:38:32.094Z"
   },
   {
    "duration": 2794,
    "start_time": "2021-09-26T16:38:32.385Z"
   },
   {
    "duration": 85,
    "start_time": "2021-09-26T16:38:35.182Z"
   },
   {
    "duration": 169,
    "start_time": "2021-09-26T16:38:35.270Z"
   },
   {
    "duration": 1053,
    "start_time": "2021-09-26T16:38:35.443Z"
   },
   {
    "duration": 1093,
    "start_time": "2021-09-26T16:38:36.500Z"
   },
   {
    "duration": 6,
    "start_time": "2021-09-26T16:41:04.483Z"
   },
   {
    "duration": 6,
    "start_time": "2021-09-26T16:41:16.292Z"
   },
   {
    "duration": 25,
    "start_time": "2021-09-26T17:34:02.931Z"
   },
   {
    "duration": 5102,
    "start_time": "2021-09-26T17:36:01.251Z"
   },
   {
    "duration": 1690,
    "start_time": "2021-09-26T17:58:17.072Z"
   },
   {
    "duration": 10,
    "start_time": "2021-09-26T17:58:18.765Z"
   },
   {
    "duration": 3931,
    "start_time": "2021-09-26T17:58:18.779Z"
   },
   {
    "duration": 563,
    "start_time": "2021-09-26T17:58:22.714Z"
   },
   {
    "duration": 2051,
    "start_time": "2021-09-26T17:58:23.281Z"
   },
   {
    "duration": 317,
    "start_time": "2021-09-26T17:58:25.335Z"
   },
   {
    "duration": 3119,
    "start_time": "2021-09-26T17:58:25.663Z"
   },
   {
    "duration": 160,
    "start_time": "2021-09-26T17:58:28.786Z"
   },
   {
    "duration": 129,
    "start_time": "2021-09-26T17:58:28.948Z"
   },
   {
    "duration": 458,
    "start_time": "2021-09-26T17:58:29.080Z"
   },
   {
    "duration": -738,
    "start_time": "2021-09-26T17:58:30.278Z"
   },
   {
    "duration": -775,
    "start_time": "2021-09-26T17:58:30.317Z"
   },
   {
    "duration": -789,
    "start_time": "2021-09-26T17:58:30.333Z"
   },
   {
    "duration": -807,
    "start_time": "2021-09-26T17:58:30.352Z"
   },
   {
    "duration": -821,
    "start_time": "2021-09-26T17:58:30.367Z"
   },
   {
    "duration": -827,
    "start_time": "2021-09-26T17:58:30.374Z"
   },
   {
    "duration": 1512,
    "start_time": "2021-09-26T17:59:14.411Z"
   },
   {
    "duration": 7,
    "start_time": "2021-09-26T17:59:15.926Z"
   },
   {
    "duration": 4108,
    "start_time": "2021-09-26T17:59:15.936Z"
   },
   {
    "duration": 509,
    "start_time": "2021-09-26T17:59:20.047Z"
   },
   {
    "duration": 2071,
    "start_time": "2021-09-26T17:59:20.559Z"
   },
   {
    "duration": 281,
    "start_time": "2021-09-26T17:59:22.632Z"
   },
   {
    "duration": 3056,
    "start_time": "2021-09-26T17:59:22.916Z"
   },
   {
    "duration": 161,
    "start_time": "2021-09-26T17:59:25.976Z"
   },
   {
    "duration": 132,
    "start_time": "2021-09-26T17:59:26.141Z"
   },
   {
    "duration": 109,
    "start_time": "2021-09-26T17:59:26.276Z"
   },
   {
    "duration": 776,
    "start_time": "2021-09-26T17:59:26.387Z"
   },
   {
    "duration": 534,
    "start_time": "2021-09-26T17:59:27.166Z"
   },
   {
    "duration": -319,
    "start_time": "2021-09-26T17:59:28.021Z"
   },
   {
    "duration": -321,
    "start_time": "2021-09-26T17:59:28.025Z"
   },
   {
    "duration": -324,
    "start_time": "2021-09-26T17:59:28.029Z"
   },
   {
    "duration": -327,
    "start_time": "2021-09-26T17:59:28.033Z"
   },
   {
    "duration": 2178,
    "start_time": "2021-09-26T18:03:01.526Z"
   },
   {
    "duration": 9,
    "start_time": "2021-09-26T18:03:03.708Z"
   },
   {
    "duration": 3997,
    "start_time": "2021-09-26T18:03:03.721Z"
   },
   {
    "duration": 394,
    "start_time": "2021-09-26T18:03:07.720Z"
   },
   {
    "duration": 2082,
    "start_time": "2021-09-26T18:03:08.117Z"
   },
   {
    "duration": 377,
    "start_time": "2021-09-26T18:03:10.202Z"
   },
   {
    "duration": 3124,
    "start_time": "2021-09-26T18:03:10.581Z"
   },
   {
    "duration": 175,
    "start_time": "2021-09-26T18:03:13.709Z"
   },
   {
    "duration": 133,
    "start_time": "2021-09-26T18:03:13.889Z"
   },
   {
    "duration": 94,
    "start_time": "2021-09-26T18:03:14.026Z"
   },
   {
    "duration": 764,
    "start_time": "2021-09-26T18:03:14.123Z"
   },
   {
    "duration": 1839,
    "start_time": "2021-09-26T18:03:14.890Z"
   },
   {
    "duration": -340,
    "start_time": "2021-09-26T18:03:17.072Z"
   },
   {
    "duration": -349,
    "start_time": "2021-09-26T18:03:17.083Z"
   },
   {
    "duration": -354,
    "start_time": "2021-09-26T18:03:17.090Z"
   },
   {
    "duration": -370,
    "start_time": "2021-09-26T18:03:17.108Z"
   },
   {
    "duration": 1536,
    "start_time": "2021-09-26T18:04:22.577Z"
   },
   {
    "duration": 9,
    "start_time": "2021-09-26T18:04:24.117Z"
   },
   {
    "duration": 4119,
    "start_time": "2021-09-26T18:04:24.129Z"
   },
   {
    "duration": 387,
    "start_time": "2021-09-26T18:04:28.251Z"
   },
   {
    "duration": 1883,
    "start_time": "2021-09-26T18:04:28.641Z"
   },
   {
    "duration": 292,
    "start_time": "2021-09-26T18:04:30.526Z"
   },
   {
    "duration": 3094,
    "start_time": "2021-09-26T18:04:30.821Z"
   },
   {
    "duration": 182,
    "start_time": "2021-09-26T18:04:33.918Z"
   },
   {
    "duration": 128,
    "start_time": "2021-09-26T18:04:34.104Z"
   },
   {
    "duration": 96,
    "start_time": "2021-09-26T18:04:34.236Z"
   },
   {
    "duration": 769,
    "start_time": "2021-09-26T18:04:34.335Z"
   },
   {
    "duration": 35,
    "start_time": "2021-09-26T18:04:35.107Z"
   },
   {
    "duration": 469,
    "start_time": "2021-09-26T18:04:35.144Z"
   },
   {
    "duration": -275,
    "start_time": "2021-09-26T18:04:35.891Z"
   },
   {
    "duration": -278,
    "start_time": "2021-09-26T18:04:35.897Z"
   },
   {
    "duration": -280,
    "start_time": "2021-09-26T18:04:35.901Z"
   },
   {
    "duration": 234,
    "start_time": "2021-09-26T18:05:08.918Z"
   },
   {
    "duration": 28297,
    "start_time": "2021-09-26T18:05:15.479Z"
   },
   {
    "duration": 209,
    "start_time": "2021-09-26T18:08:43.259Z"
   },
   {
    "duration": 87,
    "start_time": "2021-09-26T18:08:44.678Z"
   },
   {
    "duration": 6,
    "start_time": "2021-09-26T18:09:07.521Z"
   },
   {
    "duration": 7,
    "start_time": "2021-09-26T18:09:17.309Z"
   },
   {
    "duration": 8,
    "start_time": "2021-09-26T18:09:22.129Z"
   },
   {
    "duration": 7,
    "start_time": "2021-09-26T18:09:32.899Z"
   },
   {
    "duration": 8,
    "start_time": "2021-09-26T18:09:42.649Z"
   },
   {
    "duration": 1720,
    "start_time": "2021-09-26T18:14:39.827Z"
   },
   {
    "duration": 11,
    "start_time": "2021-09-26T18:14:41.550Z"
   },
   {
    "duration": 3853,
    "start_time": "2021-09-26T18:14:41.564Z"
   },
   {
    "duration": 414,
    "start_time": "2021-09-26T18:14:45.419Z"
   },
   {
    "duration": 2028,
    "start_time": "2021-09-26T18:14:45.835Z"
   },
   {
    "duration": 273,
    "start_time": "2021-09-26T18:14:47.865Z"
   },
   {
    "duration": 2734,
    "start_time": "2021-09-26T18:14:48.141Z"
   },
   {
    "duration": 173,
    "start_time": "2021-09-26T18:14:50.881Z"
   },
   {
    "duration": 118,
    "start_time": "2021-09-26T18:14:51.062Z"
   },
   {
    "duration": 91,
    "start_time": "2021-09-26T18:14:51.182Z"
   },
   {
    "duration": 948,
    "start_time": "2021-09-26T18:14:51.276Z"
   },
   {
    "duration": 40,
    "start_time": "2021-09-26T18:14:52.226Z"
   },
   {
    "duration": 301,
    "start_time": "2021-09-26T18:14:52.268Z"
   },
   {
    "duration": 29103,
    "start_time": "2021-09-26T18:14:52.571Z"
   },
   {
    "duration": 291,
    "start_time": "2021-09-26T18:15:21.677Z"
   },
   {
    "duration": 93,
    "start_time": "2021-09-26T18:15:21.971Z"
   },
   {
    "duration": 295,
    "start_time": "2021-09-26T18:15:22.067Z"
   },
   {
    "duration": 443,
    "start_time": "2021-09-26T18:15:22.365Z"
   },
   {
    "duration": 194,
    "start_time": "2021-09-26T18:16:38.774Z"
   },
   {
    "duration": 6,
    "start_time": "2021-09-26T18:16:39.756Z"
   },
   {
    "duration": 178,
    "start_time": "2021-09-26T18:16:40.887Z"
   },
   {
    "duration": 260,
    "start_time": "2021-09-26T18:16:42.095Z"
   },
   {
    "duration": 50,
    "start_time": "2021-09-26T18:17:12.513Z"
   },
   {
    "duration": 6,
    "start_time": "2021-09-26T18:17:13.533Z"
   },
   {
    "duration": 211,
    "start_time": "2021-09-26T18:17:36.753Z"
   },
   {
    "duration": 6,
    "start_time": "2021-09-26T18:17:37.063Z"
   },
   {
    "duration": 29,
    "start_time": "2021-09-26T18:17:37.733Z"
   },
   {
    "duration": 6,
    "start_time": "2021-09-26T18:17:38.583Z"
   },
   {
    "duration": 1749,
    "start_time": "2021-09-26T18:23:25.016Z"
   },
   {
    "duration": 7,
    "start_time": "2021-09-26T18:23:26.768Z"
   },
   {
    "duration": 4251,
    "start_time": "2021-09-26T18:23:26.778Z"
   },
   {
    "duration": 430,
    "start_time": "2021-09-26T18:23:31.032Z"
   },
   {
    "duration": 1965,
    "start_time": "2021-09-26T18:23:31.465Z"
   },
   {
    "duration": 309,
    "start_time": "2021-09-26T18:23:33.433Z"
   },
   {
    "duration": 3066,
    "start_time": "2021-09-26T18:23:33.745Z"
   },
   {
    "duration": 167,
    "start_time": "2021-09-26T18:23:36.815Z"
   },
   {
    "duration": 156,
    "start_time": "2021-09-26T18:23:36.985Z"
   },
   {
    "duration": 98,
    "start_time": "2021-09-26T18:23:37.143Z"
   },
   {
    "duration": 782,
    "start_time": "2021-09-26T18:23:37.244Z"
   },
   {
    "duration": 604,
    "start_time": "2021-09-26T18:23:38.029Z"
   },
   {
    "duration": 49,
    "start_time": "2021-09-26T18:23:38.636Z"
   },
   {
    "duration": 296,
    "start_time": "2021-09-26T18:23:38.687Z"
   },
   {
    "duration": 28389,
    "start_time": "2021-09-26T18:23:38.985Z"
   },
   {
    "duration": 290,
    "start_time": "2021-09-26T18:24:07.377Z"
   },
   {
    "duration": 93,
    "start_time": "2021-09-26T18:24:07.669Z"
   },
   {
    "duration": 111,
    "start_time": "2021-09-26T18:24:07.765Z"
   },
   {
    "duration": 84,
    "start_time": "2021-09-26T18:24:07.879Z"
   },
   {
    "duration": 105,
    "start_time": "2021-09-26T18:24:07.966Z"
   },
   {
    "duration": 467,
    "start_time": "2021-09-26T18:35:43.889Z"
   },
   {
    "duration": 1712,
    "start_time": "2021-09-26T18:37:12.819Z"
   },
   {
    "duration": 9,
    "start_time": "2021-09-26T18:37:14.534Z"
   },
   {
    "duration": 3934,
    "start_time": "2021-09-26T18:37:14.546Z"
   },
   {
    "duration": 422,
    "start_time": "2021-09-26T18:37:18.483Z"
   },
   {
    "duration": 1983,
    "start_time": "2021-09-26T18:37:18.907Z"
   },
   {
    "duration": 259,
    "start_time": "2021-09-26T18:37:20.892Z"
   },
   {
    "duration": 2763,
    "start_time": "2021-09-26T18:37:21.154Z"
   },
   {
    "duration": 170,
    "start_time": "2021-09-26T18:37:23.921Z"
   },
   {
    "duration": 129,
    "start_time": "2021-09-26T18:37:24.095Z"
   },
   {
    "duration": 89,
    "start_time": "2021-09-26T18:37:24.226Z"
   },
   {
    "duration": 786,
    "start_time": "2021-09-26T18:37:24.318Z"
   },
   {
    "duration": 621,
    "start_time": "2021-09-26T18:37:25.106Z"
   },
   {
    "duration": 44,
    "start_time": "2021-09-26T18:37:25.730Z"
   },
   {
    "duration": 302,
    "start_time": "2021-09-26T18:37:25.777Z"
   },
   {
    "duration": 28684,
    "start_time": "2021-09-26T18:37:26.081Z"
   },
   {
    "duration": 295,
    "start_time": "2021-09-26T18:37:54.767Z"
   },
   {
    "duration": 9,
    "start_time": "2021-09-26T18:37:55.066Z"
   },
   {
    "duration": 99,
    "start_time": "2021-09-26T18:37:55.164Z"
   },
   {
    "duration": 96,
    "start_time": "2021-09-26T18:37:55.267Z"
   },
   {
    "duration": 11,
    "start_time": "2021-09-26T18:37:55.366Z"
   },
   {
    "duration": 446,
    "start_time": "2021-09-26T18:37:55.381Z"
   },
   {
    "duration": -348,
    "start_time": "2021-09-26T18:37:56.179Z"
   },
   {
    "duration": -350,
    "start_time": "2021-09-26T18:37:56.184Z"
   },
   {
    "duration": -352,
    "start_time": "2021-09-26T18:37:56.188Z"
   },
   {
    "duration": 6,
    "start_time": "2021-09-26T18:39:57.551Z"
   },
   {
    "duration": 969,
    "start_time": "2021-09-26T18:40:05.081Z"
   },
   {
    "duration": 122967,
    "start_time": "2021-09-26T18:40:58.342Z"
   },
   {
    "duration": 1546,
    "start_time": "2021-09-26T18:49:04.910Z"
   },
   {
    "duration": 7,
    "start_time": "2021-09-26T18:49:06.459Z"
   },
   {
    "duration": 3849,
    "start_time": "2021-09-26T18:49:06.469Z"
   },
   {
    "duration": 391,
    "start_time": "2021-09-26T18:49:10.321Z"
   },
   {
    "duration": 1949,
    "start_time": "2021-09-26T18:49:10.714Z"
   },
   {
    "duration": 283,
    "start_time": "2021-09-26T18:49:12.666Z"
   },
   {
    "duration": 2685,
    "start_time": "2021-09-26T18:49:12.952Z"
   },
   {
    "duration": 166,
    "start_time": "2021-09-26T18:49:15.641Z"
   },
   {
    "duration": 128,
    "start_time": "2021-09-26T18:49:15.811Z"
   },
   {
    "duration": 76,
    "start_time": "2021-09-26T18:49:15.942Z"
   },
   {
    "duration": 766,
    "start_time": "2021-09-26T18:49:16.021Z"
   },
   {
    "duration": 625,
    "start_time": "2021-09-26T18:49:16.790Z"
   },
   {
    "duration": 45,
    "start_time": "2021-09-26T18:49:17.418Z"
   },
   {
    "duration": 314,
    "start_time": "2021-09-26T18:49:17.467Z"
   },
   {
    "duration": 32195,
    "start_time": "2021-09-26T18:49:17.784Z"
   },
   {
    "duration": 286,
    "start_time": "2021-09-26T18:49:49.982Z"
   },
   {
    "duration": 91,
    "start_time": "2021-09-26T18:49:50.271Z"
   },
   {
    "duration": 105,
    "start_time": "2021-09-26T18:49:50.365Z"
   },
   {
    "duration": 91,
    "start_time": "2021-09-26T18:49:50.473Z"
   },
   {
    "duration": 30,
    "start_time": "2021-09-26T18:49:50.568Z"
   },
   {
    "duration": 399,
    "start_time": "2021-09-26T18:49:50.601Z"
   },
   {
    "duration": -345,
    "start_time": "2021-09-26T18:49:51.348Z"
   },
   {
    "duration": -350,
    "start_time": "2021-09-26T18:49:51.354Z"
   },
   {
    "duration": -352,
    "start_time": "2021-09-26T18:49:51.358Z"
   },
   {
    "duration": -355,
    "start_time": "2021-09-26T18:49:51.362Z"
   },
   {
    "duration": -358,
    "start_time": "2021-09-26T18:49:51.366Z"
   },
   {
    "duration": -397,
    "start_time": "2021-09-26T18:49:51.407Z"
   },
   {
    "duration": -400,
    "start_time": "2021-09-26T18:49:51.411Z"
   },
   {
    "duration": 1673,
    "start_time": "2021-09-26T18:52:25.099Z"
   },
   {
    "duration": 9,
    "start_time": "2021-09-26T18:52:26.776Z"
   },
   {
    "duration": 3981,
    "start_time": "2021-09-26T18:52:26.790Z"
   },
   {
    "duration": 395,
    "start_time": "2021-09-26T18:52:30.775Z"
   },
   {
    "duration": 2100,
    "start_time": "2021-09-26T18:52:31.173Z"
   },
   {
    "duration": 298,
    "start_time": "2021-09-26T18:52:33.276Z"
   },
   {
    "duration": 2766,
    "start_time": "2021-09-26T18:52:33.577Z"
   },
   {
    "duration": 173,
    "start_time": "2021-09-26T18:52:36.347Z"
   },
   {
    "duration": 123,
    "start_time": "2021-09-26T18:52:36.523Z"
   },
   {
    "duration": 80,
    "start_time": "2021-09-26T18:52:36.649Z"
   },
   {
    "duration": 786,
    "start_time": "2021-09-26T18:52:36.732Z"
   },
   {
    "duration": 626,
    "start_time": "2021-09-26T18:52:37.521Z"
   },
   {
    "duration": 42,
    "start_time": "2021-09-26T18:52:38.149Z"
   },
   {
    "duration": 314,
    "start_time": "2021-09-26T18:52:38.193Z"
   },
   {
    "duration": 29068,
    "start_time": "2021-09-26T18:52:38.509Z"
   },
   {
    "duration": 286,
    "start_time": "2021-09-26T18:53:07.580Z"
   },
   {
    "duration": 95,
    "start_time": "2021-09-26T18:53:07.870Z"
   },
   {
    "duration": 100,
    "start_time": "2021-09-26T18:53:07.968Z"
   },
   {
    "duration": 196,
    "start_time": "2021-09-26T18:53:08.070Z"
   },
   {
    "duration": 11,
    "start_time": "2021-09-26T18:53:08.269Z"
   },
   {
    "duration": 4380,
    "start_time": "2021-09-26T18:53:08.284Z"
   },
   {
    "duration": 1089614,
    "start_time": "2021-09-26T18:53:12.667Z"
   },
   {
    "duration": 4,
    "start_time": "2021-09-26T19:11:22.286Z"
   },
   {
    "duration": 177118,
    "start_time": "2021-09-26T19:11:22.294Z"
   },
   {
    "duration": 6,
    "start_time": "2021-09-26T19:14:19.462Z"
   },
   {
    "duration": 349757,
    "start_time": "2021-09-26T19:14:19.471Z"
   },
   {
    "duration": 6,
    "start_time": "2021-09-26T19:20:09.230Z"
   },
   {
    "duration": 34730,
    "start_time": "2021-09-26T19:20:09.238Z"
   },
   {
    "duration": 1206,
    "start_time": "2021-09-27T03:54:59.973Z"
   },
   {
    "duration": 6,
    "start_time": "2021-09-27T03:55:01.181Z"
   },
   {
    "duration": 2299,
    "start_time": "2021-09-27T03:55:01.189Z"
   },
   {
    "duration": 238,
    "start_time": "2021-09-27T03:55:03.490Z"
   },
   {
    "duration": 1032,
    "start_time": "2021-09-27T03:55:03.730Z"
   },
   {
    "duration": 178,
    "start_time": "2021-09-27T03:55:04.764Z"
   },
   {
    "duration": 1514,
    "start_time": "2021-09-27T03:55:04.944Z"
   },
   {
    "duration": 122,
    "start_time": "2021-09-27T03:55:06.460Z"
   },
   {
    "duration": 80,
    "start_time": "2021-09-27T03:55:06.584Z"
   },
   {
    "duration": 48,
    "start_time": "2021-09-27T03:55:06.666Z"
   },
   {
    "duration": 416,
    "start_time": "2021-09-27T03:55:06.715Z"
   },
   {
    "duration": 298,
    "start_time": "2021-09-27T03:55:07.133Z"
   },
   {
    "duration": 31,
    "start_time": "2021-09-27T03:55:07.432Z"
   },
   {
    "duration": 208,
    "start_time": "2021-09-27T03:55:07.464Z"
   },
   {
    "duration": 22177,
    "start_time": "2021-09-27T03:55:07.674Z"
   },
   {
    "duration": 301,
    "start_time": "2021-09-27T03:55:29.853Z"
   },
   {
    "duration": 6,
    "start_time": "2021-09-27T03:55:30.156Z"
   },
   {
    "duration": 99,
    "start_time": "2021-09-27T03:55:30.164Z"
   },
   {
    "duration": 90,
    "start_time": "2021-09-27T03:55:30.265Z"
   },
   {
    "duration": 8,
    "start_time": "2021-09-27T03:55:30.449Z"
   },
   {
    "duration": 2193,
    "start_time": "2021-09-27T03:55:30.458Z"
   },
   {
    "duration": 164602,
    "start_time": "2021-09-27T03:55:32.652Z"
   },
   {
    "duration": 3,
    "start_time": "2021-09-27T03:58:17.258Z"
   },
   {
    "duration": 25437,
    "start_time": "2021-09-27T03:58:17.263Z"
   },
   {
    "duration": 3,
    "start_time": "2021-09-27T03:58:42.702Z"
   },
   {
    "duration": 77873,
    "start_time": "2021-09-27T03:58:42.706Z"
   },
   {
    "duration": 4,
    "start_time": "2021-09-27T04:00:00.581Z"
   },
   {
    "duration": 7969,
    "start_time": "2021-09-27T04:00:00.586Z"
   },
   {
    "duration": 9,
    "start_time": "2021-09-27T04:00:08.557Z"
   },
   {
    "duration": 586,
    "start_time": "2021-09-27T04:00:08.567Z"
   },
   {
    "duration": 11,
    "start_time": "2021-09-27T04:00:09.155Z"
   },
   {
    "duration": 4,
    "start_time": "2021-09-27T04:00:09.167Z"
   },
   {
    "duration": 885,
    "start_time": "2021-09-27T04:00:09.173Z"
   },
   {
    "duration": 5,
    "start_time": "2021-09-27T04:00:10.059Z"
   },
   {
    "duration": 8,
    "start_time": "2021-09-27T04:12:44.578Z"
   },
   {
    "duration": 9,
    "start_time": "2021-09-27T04:17:44.569Z"
   },
   {
    "duration": 8,
    "start_time": "2021-09-27T04:19:15.241Z"
   },
   {
    "duration": 3441,
    "start_time": "2021-09-27T04:26:12.810Z"
   },
   {
    "duration": 1201,
    "start_time": "2021-09-27T04:41:37.244Z"
   },
   {
    "duration": 5,
    "start_time": "2021-09-27T04:41:38.447Z"
   },
   {
    "duration": 2291,
    "start_time": "2021-09-27T04:41:38.454Z"
   },
   {
    "duration": 234,
    "start_time": "2021-09-27T04:41:40.746Z"
   },
   {
    "duration": 1168,
    "start_time": "2021-09-27T04:41:40.981Z"
   },
   {
    "duration": 166,
    "start_time": "2021-09-27T04:41:42.150Z"
   },
   {
    "duration": 1493,
    "start_time": "2021-09-27T04:41:42.317Z"
   },
   {
    "duration": 125,
    "start_time": "2021-09-27T04:41:43.812Z"
   },
   {
    "duration": 71,
    "start_time": "2021-09-27T04:41:43.950Z"
   },
   {
    "duration": 63,
    "start_time": "2021-09-27T04:41:44.023Z"
   },
   {
    "duration": 420,
    "start_time": "2021-09-27T04:41:44.088Z"
   },
   {
    "duration": 307,
    "start_time": "2021-09-27T04:41:44.510Z"
   },
   {
    "duration": 31,
    "start_time": "2021-09-27T04:41:44.819Z"
   },
   {
    "duration": 208,
    "start_time": "2021-09-27T04:41:44.852Z"
   },
   {
    "duration": 21194,
    "start_time": "2021-09-27T04:41:45.062Z"
   },
   {
    "duration": 198,
    "start_time": "2021-09-27T04:42:06.258Z"
   },
   {
    "duration": 6,
    "start_time": "2021-09-27T04:42:06.549Z"
   },
   {
    "duration": 106,
    "start_time": "2021-09-27T04:42:06.557Z"
   },
   {
    "duration": 85,
    "start_time": "2021-09-27T04:42:06.666Z"
   },
   {
    "duration": 98,
    "start_time": "2021-09-27T04:42:06.754Z"
   },
   {
    "duration": 2052,
    "start_time": "2021-09-27T04:42:06.854Z"
   },
   {
    "duration": 157776,
    "start_time": "2021-09-27T04:42:08.907Z"
   },
   {
    "duration": 3,
    "start_time": "2021-09-27T04:44:46.687Z"
   },
   {
    "duration": 23746,
    "start_time": "2021-09-27T04:44:46.693Z"
   },
   {
    "duration": 3,
    "start_time": "2021-09-27T04:45:10.441Z"
   },
   {
    "duration": 81305,
    "start_time": "2021-09-27T04:45:10.445Z"
   },
   {
    "duration": 3,
    "start_time": "2021-09-27T04:46:31.752Z"
   },
   {
    "duration": 3693,
    "start_time": "2021-09-27T04:46:31.757Z"
   },
   {
    "duration": 9,
    "start_time": "2021-09-27T04:46:35.452Z"
   },
   {
    "duration": 590,
    "start_time": "2021-09-27T04:46:35.463Z"
   },
   {
    "duration": 11,
    "start_time": "2021-09-27T04:46:36.055Z"
   },
   {
    "duration": 3,
    "start_time": "2021-09-27T04:46:36.068Z"
   },
   {
    "duration": 376,
    "start_time": "2021-09-27T04:46:36.073Z"
   },
   {
    "duration": 4,
    "start_time": "2021-09-27T04:46:36.451Z"
   },
   {
    "duration": 9,
    "start_time": "2021-09-27T04:46:36.457Z"
   },
   {
    "duration": 8,
    "start_time": "2021-09-27T04:59:05.422Z"
   },
   {
    "duration": 9,
    "start_time": "2021-09-27T05:01:34.221Z"
   },
   {
    "duration": 10,
    "start_time": "2021-09-27T05:01:39.527Z"
   },
   {
    "duration": 1166,
    "start_time": "2021-09-27T07:34:49.129Z"
   },
   {
    "duration": 5,
    "start_time": "2021-09-27T07:34:50.297Z"
   },
   {
    "duration": 2347,
    "start_time": "2021-09-27T07:34:50.304Z"
   },
   {
    "duration": 223,
    "start_time": "2021-09-27T07:35:59.484Z"
   },
   {
    "duration": 1085,
    "start_time": "2021-09-27T07:36:00.527Z"
   },
   {
    "duration": 154,
    "start_time": "2021-09-27T07:36:01.614Z"
   },
   {
    "duration": 1609,
    "start_time": "2021-09-27T07:36:01.770Z"
   },
   {
    "duration": 121,
    "start_time": "2021-09-27T07:36:03.381Z"
   },
   {
    "duration": 77,
    "start_time": "2021-09-27T07:36:03.504Z"
   },
   {
    "duration": 48,
    "start_time": "2021-09-27T07:43:01.331Z"
   },
   {
    "duration": 442,
    "start_time": "2021-09-27T07:43:02.125Z"
   },
   {
    "duration": 352,
    "start_time": "2021-09-27T07:43:03.149Z"
   },
   {
    "duration": 23,
    "start_time": "2021-09-27T07:43:06.219Z"
   },
   {
    "duration": 187,
    "start_time": "2021-09-27T07:44:21.470Z"
   },
   {
    "duration": 27088,
    "start_time": "2021-09-27T07:44:23.410Z"
   },
   {
    "duration": 291,
    "start_time": "2021-09-27T07:44:50.500Z"
   },
   {
    "duration": 87,
    "start_time": "2021-09-27T07:44:50.798Z"
   },
   {
    "duration": 124,
    "start_time": "2021-09-27T07:44:50.887Z"
   },
   {
    "duration": 69,
    "start_time": "2021-09-27T07:44:51.014Z"
   },
   {
    "duration": 1313,
    "start_time": "2021-09-27T09:32:04.405Z"
   },
   {
    "duration": 4,
    "start_time": "2021-09-27T09:32:05.720Z"
   },
   {
    "duration": 2561,
    "start_time": "2021-09-27T09:32:05.726Z"
   },
   {
    "duration": 298,
    "start_time": "2021-09-27T09:32:08.290Z"
   },
   {
    "duration": 1123,
    "start_time": "2021-09-27T09:32:08.590Z"
   },
   {
    "duration": 155,
    "start_time": "2021-09-27T09:32:12.413Z"
   },
   {
    "duration": 1521,
    "start_time": "2021-09-27T09:32:12.570Z"
   },
   {
    "duration": 122,
    "start_time": "2021-09-27T09:32:14.093Z"
   },
   {
    "duration": 70,
    "start_time": "2021-09-27T09:32:15.229Z"
   },
   {
    "duration": 42,
    "start_time": "2021-09-27T09:32:19.061Z"
   },
   {
    "duration": 423,
    "start_time": "2021-09-27T09:32:19.517Z"
   },
   {
    "duration": 300,
    "start_time": "2021-09-27T09:32:21.009Z"
   },
   {
    "duration": 24,
    "start_time": "2021-09-27T09:32:21.701Z"
   },
   {
    "duration": 197,
    "start_time": "2021-09-27T09:32:23.009Z"
   },
   {
    "duration": 22685,
    "start_time": "2021-09-27T09:32:23.769Z"
   },
   {
    "duration": 208,
    "start_time": "2021-09-27T09:32:46.545Z"
   },
   {
    "duration": 5,
    "start_time": "2021-09-27T09:32:46.846Z"
   },
   {
    "duration": 102,
    "start_time": "2021-09-27T09:32:46.853Z"
   },
   {
    "duration": 4,
    "start_time": "2021-09-27T09:32:47.045Z"
   },
   {
    "duration": 1201,
    "start_time": "2021-09-27T09:36:27.859Z"
   },
   {
    "duration": 6,
    "start_time": "2021-09-27T09:36:29.062Z"
   },
   {
    "duration": 2535,
    "start_time": "2021-09-27T09:36:29.071Z"
   },
   {
    "duration": 224,
    "start_time": "2021-09-27T09:36:31.609Z"
   },
   {
    "duration": 1273,
    "start_time": "2021-09-27T09:36:31.834Z"
   },
   {
    "duration": 262,
    "start_time": "2021-09-27T09:36:33.109Z"
   },
   {
    "duration": 1943,
    "start_time": "2021-09-27T09:36:33.372Z"
   },
   {
    "duration": 110,
    "start_time": "2021-09-27T09:36:35.318Z"
   },
   {
    "duration": 80,
    "start_time": "2021-09-27T09:36:35.431Z"
   },
   {
    "duration": 55,
    "start_time": "2021-09-27T09:36:35.513Z"
   },
   {
    "duration": 432,
    "start_time": "2021-09-27T09:36:35.570Z"
   },
   {
    "duration": 309,
    "start_time": "2021-09-27T09:36:36.004Z"
   },
   {
    "duration": 31,
    "start_time": "2021-09-27T09:36:36.315Z"
   },
   {
    "duration": 197,
    "start_time": "2021-09-27T09:36:36.347Z"
   },
   {
    "duration": 21501,
    "start_time": "2021-09-27T09:36:36.546Z"
   },
   {
    "duration": 296,
    "start_time": "2021-09-27T09:36:58.049Z"
   },
   {
    "duration": 7,
    "start_time": "2021-09-27T09:36:58.347Z"
   },
   {
    "duration": 98,
    "start_time": "2021-09-27T09:36:58.357Z"
   },
   {
    "duration": 89,
    "start_time": "2021-09-27T09:36:58.457Z"
   },
   {
    "duration": 6,
    "start_time": "2021-09-27T09:36:58.548Z"
   },
   {
    "duration": 96,
    "start_time": "2021-09-27T09:36:58.556Z"
   },
   {
    "duration": 367,
    "start_time": "2021-09-27T09:36:58.654Z"
   },
   {
    "duration": -802,
    "start_time": "2021-09-27T09:36:59.825Z"
   },
   {
    "duration": -811,
    "start_time": "2021-09-27T09:36:59.835Z"
   },
   {
    "duration": -838,
    "start_time": "2021-09-27T09:36:59.863Z"
   },
   {
    "duration": -847,
    "start_time": "2021-09-27T09:36:59.873Z"
   },
   {
    "duration": -855,
    "start_time": "2021-09-27T09:36:59.882Z"
   },
   {
    "duration": -863,
    "start_time": "2021-09-27T09:36:59.891Z"
   },
   {
    "duration": -868,
    "start_time": "2021-09-27T09:36:59.897Z"
   },
   {
    "duration": -872,
    "start_time": "2021-09-27T09:36:59.902Z"
   },
   {
    "duration": -875,
    "start_time": "2021-09-27T09:36:59.906Z"
   },
   {
    "duration": -878,
    "start_time": "2021-09-27T09:36:59.911Z"
   },
   {
    "duration": -881,
    "start_time": "2021-09-27T09:36:59.915Z"
   },
   {
    "duration": -885,
    "start_time": "2021-09-27T09:36:59.920Z"
   },
   {
    "duration": -889,
    "start_time": "2021-09-27T09:36:59.925Z"
   },
   {
    "duration": 379,
    "start_time": "2021-09-27T09:39:06.001Z"
   },
   {
    "duration": 264,
    "start_time": "2021-09-27T09:39:57.448Z"
   },
   {
    "duration": 290,
    "start_time": "2021-09-27T09:39:58.168Z"
   },
   {
    "duration": 135,
    "start_time": "2021-09-27T09:40:16.997Z"
   },
   {
    "duration": 177629,
    "start_time": "2021-09-27T09:40:18.357Z"
   },
   {
    "duration": 3,
    "start_time": "2021-09-27T09:47:51.851Z"
   },
   {
    "duration": 214,
    "start_time": "2021-09-27T09:47:55.033Z"
   },
   {
    "duration": 25870,
    "start_time": "2021-09-27T09:48:27.411Z"
   },
   {
    "duration": 281,
    "start_time": "2021-09-27T09:49:09.781Z"
   },
   {
    "duration": -808,
    "start_time": "2021-09-27T09:49:10.872Z"
   },
   {
    "duration": 3,
    "start_time": "2021-09-27T09:49:10.245Z"
   },
   {
    "duration": 6,
    "start_time": "2021-09-27T09:49:38.894Z"
   },
   {
    "duration": 4,
    "start_time": "2021-09-27T09:49:39.975Z"
   },
   {
    "duration": 90275,
    "start_time": "2021-09-27T09:49:41.310Z"
   },
   {
    "duration": 353,
    "start_time": "2021-09-27T13:55:35.681Z"
   },
   {
    "duration": 1635,
    "start_time": "2021-09-27T13:55:44.813Z"
   },
   {
    "duration": 11,
    "start_time": "2021-09-27T13:55:46.451Z"
   },
   {
    "duration": 3814,
    "start_time": "2021-09-27T13:55:46.464Z"
   },
   {
    "duration": 368,
    "start_time": "2021-09-27T13:55:50.281Z"
   },
   {
    "duration": 1811,
    "start_time": "2021-09-27T13:55:50.651Z"
   },
   {
    "duration": 280,
    "start_time": "2021-09-27T13:55:52.464Z"
   },
   {
    "duration": 2659,
    "start_time": "2021-09-27T13:55:52.746Z"
   },
   {
    "duration": 156,
    "start_time": "2021-09-27T13:55:55.407Z"
   },
   {
    "duration": 110,
    "start_time": "2021-09-27T13:55:55.567Z"
   },
   {
    "duration": 63,
    "start_time": "2021-09-27T13:55:55.680Z"
   },
   {
    "duration": 614,
    "start_time": "2021-09-27T13:55:55.761Z"
   },
   {
    "duration": 499,
    "start_time": "2021-09-27T13:55:56.377Z"
   },
   {
    "duration": 32,
    "start_time": "2021-09-27T13:55:56.879Z"
   },
   {
    "duration": 298,
    "start_time": "2021-09-27T13:55:56.914Z"
   },
   {
    "duration": 23149,
    "start_time": "2021-09-27T13:55:57.215Z"
   },
   {
    "duration": 202,
    "start_time": "2021-09-27T13:56:20.366Z"
   },
   {
    "duration": 95,
    "start_time": "2021-09-27T13:56:20.570Z"
   },
   {
    "duration": 121,
    "start_time": "2021-09-27T13:56:20.667Z"
   },
   {
    "duration": 74,
    "start_time": "2021-09-27T13:56:20.790Z"
   },
   {
    "duration": 382,
    "start_time": "2021-09-27T13:56:20.866Z"
   },
   {
    "duration": -727,
    "start_time": "2021-09-27T13:56:21.978Z"
   },
   {
    "duration": -727,
    "start_time": "2021-09-27T13:56:21.981Z"
   },
   {
    "duration": -762,
    "start_time": "2021-09-27T13:56:22.018Z"
   },
   {
    "duration": -766,
    "start_time": "2021-09-27T13:56:22.024Z"
   },
   {
    "duration": -766,
    "start_time": "2021-09-27T13:56:22.026Z"
   },
   {
    "duration": -765,
    "start_time": "2021-09-27T13:56:22.027Z"
   },
   {
    "duration": -765,
    "start_time": "2021-09-27T13:56:22.029Z"
   },
   {
    "duration": -765,
    "start_time": "2021-09-27T13:56:22.031Z"
   },
   {
    "duration": -765,
    "start_time": "2021-09-27T13:56:22.033Z"
   },
   {
    "duration": -765,
    "start_time": "2021-09-27T13:56:22.035Z"
   },
   {
    "duration": -765,
    "start_time": "2021-09-27T13:56:22.037Z"
   },
   {
    "duration": -765,
    "start_time": "2021-09-27T13:56:22.039Z"
   },
   {
    "duration": -763,
    "start_time": "2021-09-27T13:56:22.040Z"
   },
   {
    "duration": -763,
    "start_time": "2021-09-27T13:56:22.042Z"
   },
   {
    "duration": -763,
    "start_time": "2021-09-27T13:56:22.043Z"
   },
   {
    "duration": 262,
    "start_time": "2021-09-27T13:57:03.778Z"
   },
   {
    "duration": 193,
    "start_time": "2021-09-27T14:08:03.412Z"
   },
   {
    "duration": 214280,
    "start_time": "2021-09-27T14:08:05.616Z"
   },
   {
    "duration": 4,
    "start_time": "2021-09-27T14:11:39.899Z"
   },
   {
    "duration": 33357,
    "start_time": "2021-09-27T14:11:39.906Z"
   },
   {
    "duration": 13,
    "start_time": "2021-09-27T14:12:13.265Z"
   },
   {
    "duration": 7,
    "start_time": "2021-09-27T14:18:16.978Z"
   },
   {
    "duration": 5,
    "start_time": "2021-09-27T14:18:17.370Z"
   },
   {
    "duration": 114287,
    "start_time": "2021-09-27T14:18:17.889Z"
   },
   {
    "duration": 4,
    "start_time": "2021-09-27T14:20:12.179Z"
   },
   {
    "duration": 5180,
    "start_time": "2021-09-27T14:20:12.186Z"
   },
   {
    "duration": 361,
    "start_time": "2021-09-27T14:20:17.369Z"
   },
   {
    "duration": -732,
    "start_time": "2021-09-27T14:20:18.465Z"
   },
   {
    "duration": -732,
    "start_time": "2021-09-27T14:20:18.466Z"
   },
   {
    "duration": -733,
    "start_time": "2021-09-27T14:20:18.468Z"
   },
   {
    "duration": -774,
    "start_time": "2021-09-27T14:20:18.511Z"
   },
   {
    "duration": -774,
    "start_time": "2021-09-27T14:20:18.512Z"
   },
   {
    "duration": -774,
    "start_time": "2021-09-27T14:20:18.514Z"
   },
   {
    "duration": -774,
    "start_time": "2021-09-27T14:20:18.515Z"
   },
   {
    "duration": 262,
    "start_time": "2021-09-27T14:23:40.950Z"
   },
   {
    "duration": 279,
    "start_time": "2021-09-27T14:23:48.564Z"
   },
   {
    "duration": 561,
    "start_time": "2021-09-27T14:34:24.086Z"
   },
   {
    "duration": 574,
    "start_time": "2021-09-27T14:34:45.854Z"
   },
   {
    "duration": 13,
    "start_time": "2021-09-27T14:35:20.371Z"
   },
   {
    "duration": 618,
    "start_time": "2021-09-27T14:35:21.318Z"
   },
   {
    "duration": 240,
    "start_time": "2021-09-27T14:35:38.762Z"
   },
   {
    "duration": 19,
    "start_time": "2021-09-27T14:35:46.235Z"
   },
   {
    "duration": 284,
    "start_time": "2021-09-27T14:35:47.003Z"
   },
   {
    "duration": 13,
    "start_time": "2021-09-27T14:35:59.481Z"
   },
   {
    "duration": 645,
    "start_time": "2021-09-27T14:36:00.231Z"
   },
   {
    "duration": 292,
    "start_time": "2021-09-27T14:39:56.952Z"
   },
   {
    "duration": 593,
    "start_time": "2021-09-27T14:40:01.896Z"
   },
   {
    "duration": 398,
    "start_time": "2021-09-27T14:40:13.280Z"
   },
   {
    "duration": 582,
    "start_time": "2021-09-27T14:40:31.752Z"
   },
   {
    "duration": 283,
    "start_time": "2021-09-27T14:42:11.918Z"
   },
   {
    "duration": 285,
    "start_time": "2021-09-27T14:42:43.276Z"
   },
   {
    "duration": 250,
    "start_time": "2021-09-27T14:44:33.318Z"
   },
   {
    "duration": 4886,
    "start_time": "2021-09-27T14:46:10.820Z"
   },
   {
    "duration": 70,
    "start_time": "2021-09-27T14:46:31.949Z"
   },
   {
    "duration": 1606,
    "start_time": "2021-09-27T14:47:23.548Z"
   },
   {
    "duration": 505,
    "start_time": "2021-09-27T14:48:03.828Z"
   },
   {
    "duration": 333,
    "start_time": "2021-09-27T14:49:37.434Z"
   },
   {
    "duration": 282,
    "start_time": "2021-09-27T14:49:52.934Z"
   },
   {
    "duration": 108,
    "start_time": "2021-09-27T14:51:48.434Z"
   },
   {
    "duration": 520,
    "start_time": "2021-09-27T14:51:54.643Z"
   },
   {
    "duration": 587,
    "start_time": "2021-09-27T14:53:29.280Z"
   },
   {
    "duration": 573,
    "start_time": "2021-09-27T14:53:52.629Z"
   },
   {
    "duration": 1041,
    "start_time": "2021-09-27T14:55:10.060Z"
   },
   {
    "duration": 668,
    "start_time": "2021-09-27T14:55:42.909Z"
   },
   {
    "duration": 670,
    "start_time": "2021-09-27T14:55:53.273Z"
   },
   {
    "duration": 864,
    "start_time": "2021-09-27T14:56:20.549Z"
   },
   {
    "duration": 649,
    "start_time": "2021-09-27T14:56:31.946Z"
   },
   {
    "duration": 734,
    "start_time": "2021-09-27T15:02:16.224Z"
   },
   {
    "duration": 308,
    "start_time": "2021-09-27T15:17:17.021Z"
   },
   {
    "duration": 15,
    "start_time": "2021-09-27T15:18:12.093Z"
   },
   {
    "duration": 542,
    "start_time": "2021-09-27T15:19:40.445Z"
   },
   {
    "duration": 45,
    "start_time": "2021-09-27T15:19:50.748Z"
   },
   {
    "duration": 294,
    "start_time": "2021-09-27T15:21:30.511Z"
   },
   {
    "duration": 343,
    "start_time": "2021-09-27T15:25:02.748Z"
   },
   {
    "duration": 39,
    "start_time": "2021-09-27T15:25:19.625Z"
   },
   {
    "duration": 1362,
    "start_time": "2021-09-27T15:25:43.752Z"
   },
   {
    "duration": 4,
    "start_time": "2021-09-27T15:34:25.403Z"
   },
   {
    "duration": 275,
    "start_time": "2021-09-27T15:35:20.220Z"
   },
   {
    "duration": 12,
    "start_time": "2021-09-27T15:35:41.420Z"
   },
   {
    "duration": 307,
    "start_time": "2021-09-27T15:36:29.022Z"
   },
   {
    "duration": 298,
    "start_time": "2021-09-27T15:36:41.030Z"
   },
   {
    "duration": 6,
    "start_time": "2021-09-27T15:36:47.063Z"
   },
   {
    "duration": 6,
    "start_time": "2021-09-27T15:38:08.188Z"
   },
   {
    "duration": 8,
    "start_time": "2021-09-27T15:38:54.107Z"
   },
   {
    "duration": 5,
    "start_time": "2021-09-27T15:39:08.842Z"
   },
   {
    "duration": 668,
    "start_time": "2021-09-27T15:41:35.549Z"
   },
   {
    "duration": 732,
    "start_time": "2021-09-27T15:41:47.900Z"
   },
   {
    "duration": 6,
    "start_time": "2021-09-27T15:41:56.802Z"
   },
   {
    "duration": 12,
    "start_time": "2021-09-27T15:42:07.251Z"
   },
   {
    "duration": 293,
    "start_time": "2021-09-27T15:42:16.287Z"
   },
   {
    "duration": 284,
    "start_time": "2021-09-27T15:42:31.847Z"
   },
   {
    "duration": 93,
    "start_time": "2021-09-27T15:42:37.524Z"
   },
   {
    "duration": 472,
    "start_time": "2021-09-27T15:42:41.117Z"
   },
   {
    "duration": 14114,
    "start_time": "2021-09-27T16:24:52.005Z"
   },
   {
    "duration": 25065,
    "start_time": "2021-09-27T16:25:49.632Z"
   },
   {
    "duration": 264,
    "start_time": "2021-09-27T16:56:47.620Z"
   },
   {
    "duration": 296,
    "start_time": "2021-09-27T17:00:38.970Z"
   },
   {
    "duration": 6,
    "start_time": "2021-09-27T17:15:56.953Z"
   },
   {
    "duration": 5,
    "start_time": "2021-09-27T17:16:23.778Z"
   },
   {
    "duration": 6,
    "start_time": "2021-09-27T17:18:31.734Z"
   },
   {
    "duration": 9,
    "start_time": "2021-09-27T17:18:43.543Z"
   },
   {
    "duration": 691,
    "start_time": "2021-09-27T17:18:45.874Z"
   },
   {
    "duration": 266,
    "start_time": "2021-09-27T18:03:29.191Z"
   },
   {
    "duration": 17,
    "start_time": "2021-09-27T18:03:43.459Z"
   },
   {
    "duration": 704,
    "start_time": "2021-09-27T18:03:45.443Z"
   },
   {
    "duration": 268,
    "start_time": "2021-09-27T19:37:00.626Z"
   },
   {
    "duration": 372,
    "start_time": "2021-09-27T19:37:33.324Z"
   },
   {
    "duration": 678,
    "start_time": "2021-09-27T19:38:14.321Z"
   },
   {
    "duration": 296,
    "start_time": "2021-09-27T19:38:50.573Z"
   },
   {
    "duration": 235,
    "start_time": "2021-09-27T19:41:56.054Z"
   },
   {
    "duration": 251,
    "start_time": "2021-09-27T19:42:46.637Z"
   },
   {
    "duration": 270,
    "start_time": "2021-09-27T19:43:00.967Z"
   },
   {
    "duration": 305,
    "start_time": "2021-09-27T19:43:43.423Z"
   },
   {
    "duration": 7,
    "start_time": "2021-09-27T19:43:49.171Z"
   },
   {
    "duration": 10,
    "start_time": "2021-09-27T19:43:49.863Z"
   },
   {
    "duration": 11,
    "start_time": "2021-09-27T19:44:29.567Z"
   },
   {
    "duration": 6,
    "start_time": "2021-09-27T19:44:41.942Z"
   },
   {
    "duration": 14,
    "start_time": "2021-09-27T19:44:44.592Z"
   },
   {
    "duration": 282,
    "start_time": "2021-09-27T19:44:59.376Z"
   },
   {
    "duration": 7,
    "start_time": "2021-09-27T19:45:04.304Z"
   },
   {
    "duration": 88,
    "start_time": "2021-09-27T19:51:15.287Z"
   },
   {
    "duration": 373,
    "start_time": "2021-09-27T19:51:25.531Z"
   },
   {
    "duration": 235,
    "start_time": "2021-09-27T19:58:49.371Z"
   },
   {
    "duration": 384,
    "start_time": "2021-09-27T19:59:04.691Z"
   },
   {
    "duration": 502,
    "start_time": "2021-09-27T19:59:16.472Z"
   },
   {
    "duration": 255,
    "start_time": "2021-09-27T20:01:17.680Z"
   },
   {
    "duration": 286,
    "start_time": "2021-09-27T20:01:24.132Z"
   },
   {
    "duration": 504,
    "start_time": "2021-09-27T20:01:42.854Z"
   },
   {
    "duration": 6,
    "start_time": "2021-09-27T20:03:24.251Z"
   },
   {
    "duration": 11,
    "start_time": "2021-09-27T20:03:38.097Z"
   },
   {
    "duration": 8,
    "start_time": "2021-09-27T20:04:02.705Z"
   },
   {
    "duration": 10,
    "start_time": "2021-09-27T20:04:03.401Z"
   },
   {
    "duration": 284,
    "start_time": "2021-09-27T20:04:18.494Z"
   },
   {
    "duration": 6,
    "start_time": "2021-09-27T20:04:22.836Z"
   },
   {
    "duration": 9,
    "start_time": "2021-09-27T20:04:24.254Z"
   },
   {
    "duration": 1599,
    "start_time": "2022-01-30T11:15:00.666Z"
   },
   {
    "duration": 963,
    "start_time": "2022-01-30T11:15:01.306Z"
   },
   {
    "duration": 916,
    "start_time": "2022-01-30T11:15:01.354Z"
   },
   {
    "duration": 912,
    "start_time": "2022-01-30T11:15:01.359Z"
   },
   {
    "duration": 910,
    "start_time": "2022-01-30T11:15:01.361Z"
   },
   {
    "duration": 910,
    "start_time": "2022-01-30T11:15:01.362Z"
   },
   {
    "duration": 909,
    "start_time": "2022-01-30T11:15:01.364Z"
   },
   {
    "duration": 909,
    "start_time": "2022-01-30T11:15:01.365Z"
   },
   {
    "duration": 908,
    "start_time": "2022-01-30T11:15:01.367Z"
   },
   {
    "duration": 907,
    "start_time": "2022-01-30T11:15:01.369Z"
   },
   {
    "duration": 906,
    "start_time": "2022-01-30T11:15:01.371Z"
   },
   {
    "duration": 905,
    "start_time": "2022-01-30T11:15:01.373Z"
   },
   {
    "duration": 904,
    "start_time": "2022-01-30T11:15:01.375Z"
   },
   {
    "duration": 904,
    "start_time": "2022-01-30T11:15:01.376Z"
   },
   {
    "duration": 903,
    "start_time": "2022-01-30T11:15:01.378Z"
   },
   {
    "duration": 901,
    "start_time": "2022-01-30T11:15:01.380Z"
   },
   {
    "duration": 901,
    "start_time": "2022-01-30T11:15:01.381Z"
   },
   {
    "duration": 900,
    "start_time": "2022-01-30T11:15:01.383Z"
   },
   {
    "duration": 900,
    "start_time": "2022-01-30T11:15:01.384Z"
   },
   {
    "duration": 899,
    "start_time": "2022-01-30T11:15:01.386Z"
   },
   {
    "duration": 898,
    "start_time": "2022-01-30T11:15:01.388Z"
   },
   {
    "duration": 897,
    "start_time": "2022-01-30T11:15:01.390Z"
   },
   {
    "duration": 896,
    "start_time": "2022-01-30T11:15:01.392Z"
   },
   {
    "duration": 895,
    "start_time": "2022-01-30T11:15:01.394Z"
   },
   {
    "duration": 879,
    "start_time": "2022-01-30T11:15:01.411Z"
   },
   {
    "duration": 876,
    "start_time": "2022-01-30T11:15:01.415Z"
   },
   {
    "duration": 875,
    "start_time": "2022-01-30T11:15:01.417Z"
   },
   {
    "duration": 874,
    "start_time": "2022-01-30T11:15:01.419Z"
   },
   {
    "duration": 874,
    "start_time": "2022-01-30T11:15:01.420Z"
   },
   {
    "duration": 873,
    "start_time": "2022-01-30T11:15:01.422Z"
   },
   {
    "duration": 872,
    "start_time": "2022-01-30T11:15:01.424Z"
   },
   {
    "duration": 872,
    "start_time": "2022-01-30T11:15:01.425Z"
   },
   {
    "duration": 871,
    "start_time": "2022-01-30T11:15:01.427Z"
   },
   {
    "duration": 869,
    "start_time": "2022-01-30T11:15:01.429Z"
   },
   {
    "duration": 870,
    "start_time": "2022-01-30T11:15:01.430Z"
   },
   {
    "duration": 868,
    "start_time": "2022-01-30T11:15:01.432Z"
   },
   {
    "duration": 868,
    "start_time": "2022-01-30T11:15:01.433Z"
   },
   {
    "duration": 868,
    "start_time": "2022-01-30T11:15:01.435Z"
   },
   {
    "duration": 104271,
    "start_time": "2022-01-30T11:18:03.824Z"
   },
   {
    "duration": 1597,
    "start_time": "2022-01-30T11:20:20.597Z"
   },
   {
    "duration": 952,
    "start_time": "2022-01-30T11:20:21.245Z"
   },
   {
    "duration": 887,
    "start_time": "2022-01-30T11:20:21.312Z"
   },
   {
    "duration": 887,
    "start_time": "2022-01-30T11:20:21.313Z"
   },
   {
    "duration": 885,
    "start_time": "2022-01-30T11:20:21.316Z"
   },
   {
    "duration": 881,
    "start_time": "2022-01-30T11:20:21.321Z"
   },
   {
    "duration": 879,
    "start_time": "2022-01-30T11:20:21.324Z"
   },
   {
    "duration": 878,
    "start_time": "2022-01-30T11:20:21.326Z"
   },
   {
    "duration": 877,
    "start_time": "2022-01-30T11:20:21.327Z"
   },
   {
    "duration": 876,
    "start_time": "2022-01-30T11:20:21.329Z"
   },
   {
    "duration": 876,
    "start_time": "2022-01-30T11:20:21.330Z"
   },
   {
    "duration": 874,
    "start_time": "2022-01-30T11:20:21.333Z"
   },
   {
    "duration": 873,
    "start_time": "2022-01-30T11:20:21.335Z"
   },
   {
    "duration": 872,
    "start_time": "2022-01-30T11:20:21.337Z"
   },
   {
    "duration": 871,
    "start_time": "2022-01-30T11:20:21.339Z"
   },
   {
    "duration": 871,
    "start_time": "2022-01-30T11:20:21.340Z"
   },
   {
    "duration": 870,
    "start_time": "2022-01-30T11:20:21.342Z"
   },
   {
    "duration": 877,
    "start_time": "2022-01-30T11:20:21.343Z"
   },
   {
    "duration": 876,
    "start_time": "2022-01-30T11:20:21.345Z"
   },
   {
    "duration": 876,
    "start_time": "2022-01-30T11:20:21.346Z"
   },
   {
    "duration": 876,
    "start_time": "2022-01-30T11:20:21.348Z"
   },
   {
    "duration": 874,
    "start_time": "2022-01-30T11:20:21.351Z"
   },
   {
    "duration": 874,
    "start_time": "2022-01-30T11:20:21.352Z"
   },
   {
    "duration": 873,
    "start_time": "2022-01-30T11:20:21.354Z"
   },
   {
    "duration": 845,
    "start_time": "2022-01-30T11:20:21.383Z"
   },
   {
    "duration": 841,
    "start_time": "2022-01-30T11:20:21.388Z"
   },
   {
    "duration": 842,
    "start_time": "2022-01-30T11:20:21.389Z"
   },
   {
    "duration": 841,
    "start_time": "2022-01-30T11:20:21.391Z"
   },
   {
    "duration": 840,
    "start_time": "2022-01-30T11:20:21.393Z"
   },
   {
    "duration": 839,
    "start_time": "2022-01-30T11:20:21.394Z"
   },
   {
    "duration": 839,
    "start_time": "2022-01-30T11:20:21.395Z"
   },
   {
    "duration": 839,
    "start_time": "2022-01-30T11:20:21.397Z"
   },
   {
    "duration": 838,
    "start_time": "2022-01-30T11:20:21.399Z"
   },
   {
    "duration": 837,
    "start_time": "2022-01-30T11:20:21.401Z"
   },
   {
    "duration": 837,
    "start_time": "2022-01-30T11:20:21.402Z"
   },
   {
    "duration": 836,
    "start_time": "2022-01-30T11:20:21.404Z"
   },
   {
    "duration": 836,
    "start_time": "2022-01-30T11:20:21.405Z"
   },
   {
    "duration": 835,
    "start_time": "2022-01-30T11:20:21.407Z"
   },
   {
    "duration": 1279,
    "start_time": "2022-01-30T11:20:46.105Z"
   },
   {
    "duration": 5,
    "start_time": "2022-01-30T11:20:47.386Z"
   },
   {
    "duration": 2289,
    "start_time": "2022-01-30T11:20:47.396Z"
   },
   {
    "duration": 239,
    "start_time": "2022-01-30T11:20:49.687Z"
   },
   {
    "duration": 1139,
    "start_time": "2022-01-30T11:20:49.928Z"
   },
   {
    "duration": 157,
    "start_time": "2022-01-30T11:20:51.068Z"
   },
   {
    "duration": 1657,
    "start_time": "2022-01-30T11:20:51.227Z"
   },
   {
    "duration": 49,
    "start_time": "2022-01-30T11:20:52.887Z"
   },
   {
    "duration": 63,
    "start_time": "2022-01-30T11:20:52.937Z"
   },
   {
    "duration": 45,
    "start_time": "2022-01-30T11:20:53.012Z"
   },
   {
    "duration": 432,
    "start_time": "2022-01-30T11:20:53.058Z"
   },
   {
    "duration": 317,
    "start_time": "2022-01-30T11:20:53.492Z"
   },
   {
    "duration": 23,
    "start_time": "2022-01-30T11:20:53.810Z"
   },
   {
    "duration": 234,
    "start_time": "2022-01-30T11:20:53.835Z"
   },
   {
    "duration": 23350,
    "start_time": "2022-01-30T11:20:54.071Z"
   },
   {
    "duration": 204,
    "start_time": "2022-01-30T11:21:17.423Z"
   },
   {
    "duration": 94,
    "start_time": "2022-01-30T11:21:17.629Z"
   },
   {
    "duration": 85,
    "start_time": "2022-01-30T11:21:17.726Z"
   },
   {
    "duration": 12,
    "start_time": "2022-01-30T11:21:17.813Z"
   },
   {
    "duration": 235,
    "start_time": "2022-01-30T11:21:17.827Z"
   },
   {
    "duration": 163310,
    "start_time": "2022-01-30T11:21:18.063Z"
   },
   {
    "duration": 3,
    "start_time": "2022-01-30T11:24:01.375Z"
   },
   {
    "duration": 24773,
    "start_time": "2022-01-30T11:24:01.379Z"
   },
   {
    "duration": 9,
    "start_time": "2022-01-30T11:24:26.154Z"
   },
   {
    "duration": 420,
    "start_time": "2022-01-30T11:24:26.164Z"
   },
   {
    "duration": 6,
    "start_time": "2022-01-30T11:24:26.587Z"
   },
   {
    "duration": 3,
    "start_time": "2022-01-30T11:24:26.595Z"
   },
   {
    "duration": 409247,
    "start_time": "2022-01-30T11:24:26.616Z"
   },
   {
    "duration": 49,
    "start_time": "2022-01-30T11:31:15.865Z"
   },
   {
    "duration": 15016,
    "start_time": "2022-01-30T11:31:15.916Z"
   },
   {
    "duration": 328,
    "start_time": "2022-01-30T11:31:30.934Z"
   },
   {
    "duration": 8,
    "start_time": "2022-01-30T11:31:31.263Z"
   },
   {
    "duration": 590,
    "start_time": "2022-01-30T11:31:31.273Z"
   },
   {
    "duration": 59,
    "start_time": "2022-01-30T11:31:31.864Z"
   },
   {
    "duration": 4,
    "start_time": "2022-01-30T11:31:31.925Z"
   },
   {
    "duration": 299,
    "start_time": "2022-01-30T11:31:31.931Z"
   },
   {
    "duration": 83,
    "start_time": "2022-01-30T11:31:32.232Z"
   },
   {
    "duration": 11,
    "start_time": "2022-01-30T11:31:32.317Z"
   }
  ],
  "kernelspec": {
   "display_name": "Python 3",
   "language": "python",
   "name": "python3"
  },
  "language_info": {
   "codemirror_mode": {
    "name": "ipython",
    "version": 3
   },
   "file_extension": ".py",
   "mimetype": "text/x-python",
   "name": "python",
   "nbconvert_exporter": "python",
   "pygments_lexer": "ipython3",
   "version": "3.8.8"
  },
  "toc": {
   "base_numbering": 1,
   "nav_menu": {},
   "number_sections": true,
   "sideBar": true,
   "skip_h1_title": true,
   "title_cell": "Table of Contents",
   "title_sidebar": "Contents",
   "toc_cell": false,
   "toc_position": {},
   "toc_section_display": true,
   "toc_window_display": false
  }
 },
 "nbformat": 4,
 "nbformat_minor": 2
}
