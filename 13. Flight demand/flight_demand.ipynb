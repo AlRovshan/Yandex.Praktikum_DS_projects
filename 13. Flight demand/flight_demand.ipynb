{
 "cells": [
  {
   "cell_type": "markdown",
   "metadata": {},
   "source": [
    "# Спрос на рейсы авиакомпании"
   ]
  },
  {
   "cell_type": "markdown",
   "metadata": {},
   "source": [
    "Для авиакомпании, выполняющая внутренние пассажирские перевозки, необхадимо понять предпочтения пользователей, покупающих билеты на разные направления.\n",
    "\n",
    "Целью проекта является изучение базы данных и анализ спроса пассажиров на рейсы в города, где проходят крупнейшие культурные фестивали."
   ]
  },
  {
   "cell_type": "markdown",
   "metadata": {},
   "source": [
    "В налиичии файлы с результатами запросов из предыдущих заданий.\n",
    "\n",
    "**query_1.csv** — результат первого запроса. В нём содержится такая информация:\n",
    "\n",
    "- *model* — **модель самолета;\n",
    "- *flights_amount* — количество рейсов для каждой модели самолетов *model* в сентябре 2018 года.\n",
    "\n",
    "**query_3.csv** — результат третьего запроса. В нём содержится такая информация:\n",
    "\n",
    "- *city* — город;\n",
    "- *average_flights* — среднее количество рейсов, прибывающих в город (*city*) за день в сентябре 2018 года.\n",
    "\n",
    " Для этих двух наборов данных нужно:\n",
    "\n",
    "- импортировать файлы;\n",
    "- изучить данные в них;\n",
    "- проверить типы данных на корректность;\n",
    "- выбрать топ-10 городов по количеству рейсов;\n",
    "- построить графики: модели самолётов и количество рейсов, города и количество рейсов, топ-10 городов и количество рейсов;\n",
    "- сделать выводы по каждому из графиков, пояснить результат.\n"
   ]
  },
  {
   "cell_type": "markdown",
   "metadata": {
    "toc": true
   },
   "source": [
    "<h1>Содержание<span class=\"tocSkip\"></span></h1>\n",
    "<div class=\"toc\"><ul class=\"toc-item\"><li><span><a href=\"#Аналитика\" data-toc-modified-id=\"Аналитика-1\"><span class=\"toc-item-num\">1&nbsp;&nbsp;</span>Аналитика</a></span></li><li><span><a href=\"#Общие-выводы\" data-toc-modified-id=\"Общие-выводы-2\"><span class=\"toc-item-num\">2&nbsp;&nbsp;</span>Общие выводы</a></span></li><li><span><a href=\"#Чек-лист-проверки\" data-toc-modified-id=\"Чек-лист-проверки-3\"><span class=\"toc-item-num\">3&nbsp;&nbsp;</span>Чек-лист проверки</a></span></li></ul></div>"
   ]
  },
  {
   "cell_type": "markdown",
   "metadata": {},
   "source": [
    "## Аналитика"
   ]
  },
  {
   "cell_type": "code",
   "execution_count": 1,
   "metadata": {},
   "outputs": [],
   "source": [
    "import pandas as pd\n",
    "import numpy as np\n",
    "import matplotlib.pyplot as plt\n",
    "import seaborn as sns"
   ]
  },
  {
   "cell_type": "markdown",
   "metadata": {},
   "source": [
    "* **Импорт данных**"
   ]
  },
  {
   "cell_type": "code",
   "execution_count": 2,
   "metadata": {},
   "outputs": [],
   "source": [
    "def data_read(file):\n",
    "    \"\"\"\n",
    "        Функция принемает путь к файлу, выводить на экран 10 сторк таблицы,\n",
    "        информацию о столбцах, число дубликатов и возврашет таблицу типа DataFrame\n",
    "    \"\"\"\n",
    "    data = pd.read_csv(file)\n",
    "    display(data.head(10))\n",
    "    display(data.describe())\n",
    "    data.info(memory_usage='deep')\n",
    "    return data"
   ]
  },
  {
   "cell_type": "code",
   "execution_count": 3,
   "metadata": {},
   "outputs": [
    {
     "data": {
      "text/html": [
       "<div>\n",
       "<style scoped>\n",
       "    .dataframe tbody tr th:only-of-type {\n",
       "        vertical-align: middle;\n",
       "    }\n",
       "\n",
       "    .dataframe tbody tr th {\n",
       "        vertical-align: top;\n",
       "    }\n",
       "\n",
       "    .dataframe thead th {\n",
       "        text-align: right;\n",
       "    }\n",
       "</style>\n",
       "<table border=\"1\" class=\"dataframe\">\n",
       "  <thead>\n",
       "    <tr style=\"text-align: right;\">\n",
       "      <th></th>\n",
       "      <th>model</th>\n",
       "      <th>flights_amount</th>\n",
       "    </tr>\n",
       "  </thead>\n",
       "  <tbody>\n",
       "    <tr>\n",
       "      <td>0</td>\n",
       "      <td>Airbus A319-100</td>\n",
       "      <td>607</td>\n",
       "    </tr>\n",
       "    <tr>\n",
       "      <td>1</td>\n",
       "      <td>Airbus A321-200</td>\n",
       "      <td>960</td>\n",
       "    </tr>\n",
       "    <tr>\n",
       "      <td>2</td>\n",
       "      <td>Boeing 737-300</td>\n",
       "      <td>630</td>\n",
       "    </tr>\n",
       "    <tr>\n",
       "      <td>3</td>\n",
       "      <td>Boeing 767-300</td>\n",
       "      <td>600</td>\n",
       "    </tr>\n",
       "    <tr>\n",
       "      <td>4</td>\n",
       "      <td>Boeing 777-300</td>\n",
       "      <td>300</td>\n",
       "    </tr>\n",
       "    <tr>\n",
       "      <td>5</td>\n",
       "      <td>Bombardier CRJ-200</td>\n",
       "      <td>4446</td>\n",
       "    </tr>\n",
       "    <tr>\n",
       "      <td>6</td>\n",
       "      <td>Cessna 208 Caravan</td>\n",
       "      <td>4557</td>\n",
       "    </tr>\n",
       "    <tr>\n",
       "      <td>7</td>\n",
       "      <td>Sukhoi SuperJet-100</td>\n",
       "      <td>4185</td>\n",
       "    </tr>\n",
       "  </tbody>\n",
       "</table>\n",
       "</div>"
      ],
      "text/plain": [
       "                 model  flights_amount\n",
       "0      Airbus A319-100             607\n",
       "1      Airbus A321-200             960\n",
       "2       Boeing 737-300             630\n",
       "3       Boeing 767-300             600\n",
       "4       Boeing 777-300             300\n",
       "5   Bombardier CRJ-200            4446\n",
       "6   Cessna 208 Caravan            4557\n",
       "7  Sukhoi SuperJet-100            4185"
      ]
     },
     "metadata": {},
     "output_type": "display_data"
    },
    {
     "data": {
      "text/html": [
       "<div>\n",
       "<style scoped>\n",
       "    .dataframe tbody tr th:only-of-type {\n",
       "        vertical-align: middle;\n",
       "    }\n",
       "\n",
       "    .dataframe tbody tr th {\n",
       "        vertical-align: top;\n",
       "    }\n",
       "\n",
       "    .dataframe thead th {\n",
       "        text-align: right;\n",
       "    }\n",
       "</style>\n",
       "<table border=\"1\" class=\"dataframe\">\n",
       "  <thead>\n",
       "    <tr style=\"text-align: right;\">\n",
       "      <th></th>\n",
       "      <th>flights_amount</th>\n",
       "    </tr>\n",
       "  </thead>\n",
       "  <tbody>\n",
       "    <tr>\n",
       "      <td>count</td>\n",
       "      <td>8.000000</td>\n",
       "    </tr>\n",
       "    <tr>\n",
       "      <td>mean</td>\n",
       "      <td>2035.625000</td>\n",
       "    </tr>\n",
       "    <tr>\n",
       "      <td>std</td>\n",
       "      <td>1965.203947</td>\n",
       "    </tr>\n",
       "    <tr>\n",
       "      <td>min</td>\n",
       "      <td>300.000000</td>\n",
       "    </tr>\n",
       "    <tr>\n",
       "      <td>25%</td>\n",
       "      <td>605.250000</td>\n",
       "    </tr>\n",
       "    <tr>\n",
       "      <td>50%</td>\n",
       "      <td>795.000000</td>\n",
       "    </tr>\n",
       "    <tr>\n",
       "      <td>75%</td>\n",
       "      <td>4250.250000</td>\n",
       "    </tr>\n",
       "    <tr>\n",
       "      <td>max</td>\n",
       "      <td>4557.000000</td>\n",
       "    </tr>\n",
       "  </tbody>\n",
       "</table>\n",
       "</div>"
      ],
      "text/plain": [
       "       flights_amount\n",
       "count        8.000000\n",
       "mean      2035.625000\n",
       "std       1965.203947\n",
       "min        300.000000\n",
       "25%        605.250000\n",
       "50%        795.000000\n",
       "75%       4250.250000\n",
       "max       4557.000000"
      ]
     },
     "metadata": {},
     "output_type": "display_data"
    },
    {
     "name": "stdout",
     "output_type": "stream",
     "text": [
      "<class 'pandas.core.frame.DataFrame'>\n",
      "RangeIndex: 8 entries, 0 to 7\n",
      "Data columns (total 2 columns):\n",
      "model             8 non-null object\n",
      "flights_amount    8 non-null int64\n",
      "dtypes: int64(1), object(1)\n",
      "memory usage: 775.0 bytes\n"
     ]
    }
   ],
   "source": [
    "df1 = data_read('/datasets/query_1.csv')"
   ]
  },
  {
   "cell_type": "markdown",
   "metadata": {},
   "source": [
    "Ошибок данных в первом запросе не выявлено."
   ]
  },
  {
   "cell_type": "code",
   "execution_count": 4,
   "metadata": {},
   "outputs": [
    {
     "data": {
      "text/html": [
       "<div>\n",
       "<style scoped>\n",
       "    .dataframe tbody tr th:only-of-type {\n",
       "        vertical-align: middle;\n",
       "    }\n",
       "\n",
       "    .dataframe tbody tr th {\n",
       "        vertical-align: top;\n",
       "    }\n",
       "\n",
       "    .dataframe thead th {\n",
       "        text-align: right;\n",
       "    }\n",
       "</style>\n",
       "<table border=\"1\" class=\"dataframe\">\n",
       "  <thead>\n",
       "    <tr style=\"text-align: right;\">\n",
       "      <th></th>\n",
       "      <th>city</th>\n",
       "      <th>average_flights</th>\n",
       "    </tr>\n",
       "  </thead>\n",
       "  <tbody>\n",
       "    <tr>\n",
       "      <td>0</td>\n",
       "      <td>Абакан</td>\n",
       "      <td>3.870968</td>\n",
       "    </tr>\n",
       "    <tr>\n",
       "      <td>1</td>\n",
       "      <td>Анадырь</td>\n",
       "      <td>1.000000</td>\n",
       "    </tr>\n",
       "    <tr>\n",
       "      <td>2</td>\n",
       "      <td>Анапа</td>\n",
       "      <td>2.161290</td>\n",
       "    </tr>\n",
       "    <tr>\n",
       "      <td>3</td>\n",
       "      <td>Архангельск</td>\n",
       "      <td>5.354839</td>\n",
       "    </tr>\n",
       "    <tr>\n",
       "      <td>4</td>\n",
       "      <td>Астрахань</td>\n",
       "      <td>2.451613</td>\n",
       "    </tr>\n",
       "    <tr>\n",
       "      <td>5</td>\n",
       "      <td>Барнаул</td>\n",
       "      <td>2.612903</td>\n",
       "    </tr>\n",
       "    <tr>\n",
       "      <td>6</td>\n",
       "      <td>Белгород</td>\n",
       "      <td>6.000000</td>\n",
       "    </tr>\n",
       "    <tr>\n",
       "      <td>7</td>\n",
       "      <td>Белоярский</td>\n",
       "      <td>2.000000</td>\n",
       "    </tr>\n",
       "    <tr>\n",
       "      <td>8</td>\n",
       "      <td>Благовещенск</td>\n",
       "      <td>1.000000</td>\n",
       "    </tr>\n",
       "    <tr>\n",
       "      <td>9</td>\n",
       "      <td>Братск</td>\n",
       "      <td>1.000000</td>\n",
       "    </tr>\n",
       "  </tbody>\n",
       "</table>\n",
       "</div>"
      ],
      "text/plain": [
       "           city  average_flights\n",
       "0        Абакан         3.870968\n",
       "1       Анадырь         1.000000\n",
       "2         Анапа         2.161290\n",
       "3   Архангельск         5.354839\n",
       "4     Астрахань         2.451613\n",
       "5       Барнаул         2.612903\n",
       "6      Белгород         6.000000\n",
       "7    Белоярский         2.000000\n",
       "8  Благовещенск         1.000000\n",
       "9        Братск         1.000000"
      ]
     },
     "metadata": {},
     "output_type": "display_data"
    },
    {
     "data": {
      "text/html": [
       "<div>\n",
       "<style scoped>\n",
       "    .dataframe tbody tr th:only-of-type {\n",
       "        vertical-align: middle;\n",
       "    }\n",
       "\n",
       "    .dataframe tbody tr th {\n",
       "        vertical-align: top;\n",
       "    }\n",
       "\n",
       "    .dataframe thead th {\n",
       "        text-align: right;\n",
       "    }\n",
       "</style>\n",
       "<table border=\"1\" class=\"dataframe\">\n",
       "  <thead>\n",
       "    <tr style=\"text-align: right;\">\n",
       "      <th></th>\n",
       "      <th>average_flights</th>\n",
       "    </tr>\n",
       "  </thead>\n",
       "  <tbody>\n",
       "    <tr>\n",
       "      <td>count</td>\n",
       "      <td>101.000000</td>\n",
       "    </tr>\n",
       "    <tr>\n",
       "      <td>mean</td>\n",
       "      <td>5.494189</td>\n",
       "    </tr>\n",
       "    <tr>\n",
       "      <td>std</td>\n",
       "      <td>13.119790</td>\n",
       "    </tr>\n",
       "    <tr>\n",
       "      <td>min</td>\n",
       "      <td>1.000000</td>\n",
       "    </tr>\n",
       "    <tr>\n",
       "      <td>25%</td>\n",
       "      <td>2.000000</td>\n",
       "    </tr>\n",
       "    <tr>\n",
       "      <td>50%</td>\n",
       "      <td>3.000000</td>\n",
       "    </tr>\n",
       "    <tr>\n",
       "      <td>75%</td>\n",
       "      <td>5.870968</td>\n",
       "    </tr>\n",
       "    <tr>\n",
       "      <td>max</td>\n",
       "      <td>129.774194</td>\n",
       "    </tr>\n",
       "  </tbody>\n",
       "</table>\n",
       "</div>"
      ],
      "text/plain": [
       "       average_flights\n",
       "count       101.000000\n",
       "mean          5.494189\n",
       "std          13.119790\n",
       "min           1.000000\n",
       "25%           2.000000\n",
       "50%           3.000000\n",
       "75%           5.870968\n",
       "max         129.774194"
      ]
     },
     "metadata": {},
     "output_type": "display_data"
    },
    {
     "name": "stdout",
     "output_type": "stream",
     "text": [
      "<class 'pandas.core.frame.DataFrame'>\n",
      "RangeIndex: 101 entries, 0 to 100\n",
      "Data columns (total 2 columns):\n",
      "city               101 non-null object\n",
      "average_flights    101 non-null float64\n",
      "dtypes: float64(1), object(1)\n",
      "memory usage: 10.7 KB\n"
     ]
    }
   ],
   "source": [
    "df2 = data_read('/datasets/query_3.csv')"
   ]
  },
  {
   "cell_type": "markdown",
   "metadata": {},
   "source": [
    "Значения во втором запросе столбца average_flights имеют дробную часть, следовательно, необходимо перевести данный столбец к целочисленному типу данных. Также в задачах проекта требуется общее число рейсов, поэтому на основе среднего числа рейсов найдем общее."
   ]
  },
  {
   "cell_type": "code",
   "execution_count": 5,
   "metadata": {},
   "outputs": [],
   "source": [
    "df2['average_flights'] = df2['average_flights'].astype('int')\n",
    "df2['flights_amount'] = df2['average_flights'] * 30"
   ]
  },
  {
   "cell_type": "markdown",
   "metadata": {},
   "source": [
    "**Вывод:**\n",
    "\n",
    "В данном пункте были импортированы и изучены данные. В второй таблице тип данных среднего числа полетов в день записан в float, что не соответствует по смыслу столба. Для данной таблицы тип данных переведен в int, а также посчитано общее число полетов для каждого города."
   ]
  },
  {
   "cell_type": "markdown",
   "metadata": {},
   "source": [
    "* **Топ-10 городов по количеству рейсов**"
   ]
  },
  {
   "cell_type": "code",
   "execution_count": 6,
   "metadata": {},
   "outputs": [
    {
     "data": {
      "text/html": [
       "<div>\n",
       "<style scoped>\n",
       "    .dataframe tbody tr th:only-of-type {\n",
       "        vertical-align: middle;\n",
       "    }\n",
       "\n",
       "    .dataframe tbody tr th {\n",
       "        vertical-align: top;\n",
       "    }\n",
       "\n",
       "    .dataframe thead th {\n",
       "        text-align: right;\n",
       "    }\n",
       "</style>\n",
       "<table border=\"1\" class=\"dataframe\">\n",
       "  <thead>\n",
       "    <tr style=\"text-align: right;\">\n",
       "      <th></th>\n",
       "      <th>city</th>\n",
       "      <th>average_flights</th>\n",
       "      <th>flights_amount</th>\n",
       "    </tr>\n",
       "  </thead>\n",
       "  <tbody>\n",
       "    <tr>\n",
       "      <td>0</td>\n",
       "      <td>Москва</td>\n",
       "      <td>129</td>\n",
       "      <td>3870</td>\n",
       "    </tr>\n",
       "    <tr>\n",
       "      <td>1</td>\n",
       "      <td>Санкт-Петербург</td>\n",
       "      <td>31</td>\n",
       "      <td>930</td>\n",
       "    </tr>\n",
       "    <tr>\n",
       "      <td>2</td>\n",
       "      <td>Новосибирск</td>\n",
       "      <td>17</td>\n",
       "      <td>510</td>\n",
       "    </tr>\n",
       "    <tr>\n",
       "      <td>3</td>\n",
       "      <td>Екатеринбург</td>\n",
       "      <td>11</td>\n",
       "      <td>330</td>\n",
       "    </tr>\n",
       "    <tr>\n",
       "      <td>4</td>\n",
       "      <td>Красноярск</td>\n",
       "      <td>11</td>\n",
       "      <td>330</td>\n",
       "    </tr>\n",
       "    <tr>\n",
       "      <td>5</td>\n",
       "      <td>Пермь</td>\n",
       "      <td>10</td>\n",
       "      <td>300</td>\n",
       "    </tr>\n",
       "    <tr>\n",
       "      <td>6</td>\n",
       "      <td>Ростов-на-Дону</td>\n",
       "      <td>10</td>\n",
       "      <td>300</td>\n",
       "    </tr>\n",
       "    <tr>\n",
       "      <td>7</td>\n",
       "      <td>Брянск</td>\n",
       "      <td>10</td>\n",
       "      <td>300</td>\n",
       "    </tr>\n",
       "    <tr>\n",
       "      <td>8</td>\n",
       "      <td>Ульяновск</td>\n",
       "      <td>9</td>\n",
       "      <td>270</td>\n",
       "    </tr>\n",
       "    <tr>\n",
       "      <td>9</td>\n",
       "      <td>Советский</td>\n",
       "      <td>9</td>\n",
       "      <td>270</td>\n",
       "    </tr>\n",
       "  </tbody>\n",
       "</table>\n",
       "</div>"
      ],
      "text/plain": [
       "              city  average_flights  flights_amount\n",
       "0           Москва              129            3870\n",
       "1  Санкт-Петербург               31             930\n",
       "2      Новосибирск               17             510\n",
       "3     Екатеринбург               11             330\n",
       "4       Красноярск               11             330\n",
       "5            Пермь               10             300\n",
       "6   Ростов-на-Дону               10             300\n",
       "7           Брянск               10             300\n",
       "8        Ульяновск                9             270\n",
       "9        Советский                9             270"
      ]
     },
     "execution_count": 6,
     "metadata": {},
     "output_type": "execute_result"
    }
   ],
   "source": [
    "df2 = df2.sort_values(by = ['average_flights'], ascending = False).reset_index(drop=True)\n",
    "df2.head(10)"
   ]
  },
  {
   "cell_type": "markdown",
   "metadata": {},
   "source": [
    "* **Графики распределения количества рейсов от модели самолетов городов**"
   ]
  },
  {
   "cell_type": "code",
   "execution_count": 7,
   "metadata": {},
   "outputs": [],
   "source": [
    "def bar_plot(data, x, y, l, w, tittle, ylabel):\n",
    "    plt.figure(figsize=(l,w))\n",
    "    plt.grid()\n",
    "    sns.barplot(x = x, y = y, data = data)\n",
    "    plt.suptitle(tittle, fontsize=18)\n",
    "    plt.ylabel(ylabel, fontsize=14)\n",
    "    plt.xlabel('Количество рейсов', fontsize=14)"
   ]
  },
  {
   "cell_type": "code",
   "execution_count": 8,
   "metadata": {
    "scrolled": false
   },
   "outputs": [
    {
     "data": {
      "image/png": "[encoded data removed]",
      "text/plain": [
       "<Figure size 1152x504 with 1 Axes>"
      ]
     },
     "metadata": {
      "needs_background": "light"
     },
     "output_type": "display_data"
    },
    {
     "data": {
      "image/png": "[encoded data removed]",
      "text/plain": [
       "<Figure size 1152x1440 with 1 Axes>"
      ]
     },
     "metadata": {
      "needs_background": "light"
     },
     "output_type": "display_data"
    },
    {
     "data": {
      "image/png": "[encoded data removed]",
      "text/plain": [
       "<Figure size 1152x504 with 1 Axes>"
      ]
     },
     "metadata": {
      "needs_background": "light"
     },
     "output_type": "display_data"
    }
   ],
   "source": [
    "df2_top10 = df2.loc[:10,:]\n",
    "df1 = df1.sort_values(by = 'flights_amount', ascending=False)\n",
    "bar_plot(df1, df1['flights_amount'], df1['model'], 16,7, 'Модели самолётов и количество рейсов', 'Модель')\n",
    "bar_plot(df2, df2['flights_amount'], df2['city'], 16,20, 'Города и количество рейсов', 'Город')\n",
    "bar_plot(df2_top10, df2_top10['flights_amount'], df2_top10['city'], 16,7, 'Топ-10 городов и количество рейсов', 'Город')"
   ]
  },
  {
   "cell_type": "markdown",
   "metadata": {},
   "source": [
    "1) По графику модели самолётов и количества рейсов видно, что наиболее часто используемыми самолетами являются Cessna 208 Caravan, Bombardier CRJ-200 и Sukhoi SuperJet-100, которые являются малогабаритными и используется в региональной авиации;\n",
    "\n",
    "2) График городов и количества рейсов показывает, что Москва значительно выделяется по числу полетов на фоне остальных;\n",
    "\n",
    "3) В первой десятке городов, кроме Москвы и Санкт-Петербурга, также  расположились города – миллионники, промышленные центры и туристические районы."
   ]
  },
  {
   "cell_type": "markdown",
   "metadata": {},
   "source": [
    "## Общие выводы"
   ]
  },
  {
   "cell_type": "markdown",
   "metadata": {},
   "source": [
    "В ходе выполнения проекта аналитика в авиакомпании были произведены импортирование данных, изменение типов данных, выбраны ТОП-10 городов с наибольшим числом перелётов, построены графики распределения количества рейсов от модели самолета, городов и ТОП-10 городов. \n",
    "\n",
    "На основе данных выявлены следующие особенности:\n",
    "\n",
    "* Популярными моделями самолетов являются Cessna 208 Caravan, Bombardier CRJ-200 и Sukhoi SuperJet-100, которые являются малогабаритными и используется в региональной авиации;\n",
    "\n",
    "* Москва значительно выделяется по числу полетов на фоне остальных городов;\n",
    "\n",
    "* В первой десятке городов, кроме Москвы и Санкт-Петербурга, также расположились города – миллионники, промышленные центры и туристические районы."
   ]
  }
 ],
 "metadata": {
  "ExecuteTimeLog": [
   {
    "duration": 309,
    "start_time": "2021-11-08T11:36:10.166Z"
   },
   {
    "duration": 1138,
    "start_time": "2021-11-08T11:36:32.066Z"
   },
   {
    "duration": 16,
    "start_time": "2021-11-08T11:36:33.206Z"
   },
   {
    "duration": 10,
    "start_time": "2021-11-08T11:36:43.105Z"
   },
   {
    "duration": 28,
    "start_time": "2021-11-08T11:37:33.083Z"
   },
   {
    "duration": 6,
    "start_time": "2021-11-08T11:37:33.285Z"
   },
   {
    "duration": 6,
    "start_time": "2021-11-08T11:37:33.486Z"
   },
   {
    "duration": 88,
    "start_time": "2021-11-08T11:39:02.714Z"
   },
   {
    "duration": 3,
    "start_time": "2021-11-08T11:40:09.589Z"
   },
   {
    "duration": 90,
    "start_time": "2021-11-08T11:40:10.046Z"
   },
   {
    "duration": 5,
    "start_time": "2021-11-08T11:40:39.392Z"
   },
   {
    "duration": 76,
    "start_time": "2021-11-08T11:40:41.426Z"
   },
   {
    "duration": 6,
    "start_time": "2021-11-08T11:40:42.315Z"
   },
   {
    "duration": 8,
    "start_time": "2021-11-08T11:40:44.464Z"
   },
   {
    "duration": 34,
    "start_time": "2021-11-08T11:41:22.543Z"
   },
   {
    "duration": 34,
    "start_time": "2021-11-08T11:41:23.362Z"
   },
   {
    "duration": 4,
    "start_time": "2021-11-08T11:42:26.512Z"
   },
   {
    "duration": 33,
    "start_time": "2021-11-08T11:42:27.166Z"
   },
   {
    "duration": 33,
    "start_time": "2021-11-08T11:42:27.729Z"
   },
   {
    "duration": 392,
    "start_time": "2021-11-08T11:47:43.072Z"
   },
   {
    "duration": 5,
    "start_time": "2021-11-08T11:47:52.505Z"
   },
   {
    "duration": 5,
    "start_time": "2021-11-08T11:48:06.655Z"
   },
   {
    "duration": 5,
    "start_time": "2021-11-08T11:48:13.837Z"
   },
   {
    "duration": 225,
    "start_time": "2021-11-08T11:49:20.404Z"
   },
   {
    "duration": 272,
    "start_time": "2021-11-08T11:52:15.268Z"
   },
   {
    "duration": 3,
    "start_time": "2021-11-08T11:52:20.368Z"
   },
   {
    "duration": 3,
    "start_time": "2021-11-08T11:52:20.645Z"
   },
   {
    "duration": 32,
    "start_time": "2021-11-08T11:52:21.489Z"
   },
   {
    "duration": 31,
    "start_time": "2021-11-08T11:52:21.761Z"
   },
   {
    "duration": 26121,
    "start_time": "2021-11-08T11:52:24.249Z"
   },
   {
    "duration": 1626,
    "start_time": "2021-11-08T11:59:25.340Z"
   },
   {
    "duration": 315,
    "start_time": "2021-11-08T12:00:03.929Z"
   },
   {
    "duration": 425,
    "start_time": "2021-11-08T12:00:09.633Z"
   },
   {
    "duration": 738,
    "start_time": "2021-11-08T12:01:24.860Z"
   },
   {
    "duration": 429,
    "start_time": "2021-11-08T12:01:34.423Z"
   },
   {
    "duration": 841,
    "start_time": "2021-11-08T12:02:20.804Z"
   },
   {
    "duration": 728,
    "start_time": "2021-11-08T12:02:21.648Z"
   },
   {
    "duration": 4,
    "start_time": "2021-11-08T12:06:39.282Z"
   },
   {
    "duration": 32,
    "start_time": "2021-11-08T12:06:39.512Z"
   },
   {
    "duration": 34,
    "start_time": "2021-11-08T12:06:39.900Z"
   },
   {
    "duration": 262,
    "start_time": "2021-11-08T12:07:23.084Z"
   },
   {
    "duration": 336,
    "start_time": "2021-11-08T12:07:29.452Z"
   },
   {
    "duration": 379,
    "start_time": "2021-11-08T12:07:37.203Z"
   },
   {
    "duration": 11,
    "start_time": "2021-11-08T12:07:43.108Z"
   },
   {
    "duration": 10,
    "start_time": "2021-11-08T12:08:14.678Z"
   },
   {
    "duration": 7,
    "start_time": "2021-11-08T12:08:30.649Z"
   },
   {
    "duration": 5,
    "start_time": "2021-11-08T12:08:44.111Z"
   },
   {
    "duration": 10,
    "start_time": "2021-11-08T12:08:49.944Z"
   },
   {
    "duration": 11,
    "start_time": "2021-11-08T12:09:16.561Z"
   },
   {
    "duration": 7,
    "start_time": "2021-11-08T12:09:40.030Z"
   },
   {
    "duration": 4,
    "start_time": "2021-11-08T12:09:48.239Z"
   },
   {
    "duration": 11,
    "start_time": "2021-11-08T12:09:49.086Z"
   },
   {
    "duration": 32,
    "start_time": "2021-11-08T12:10:04.877Z"
   },
   {
    "duration": 10,
    "start_time": "2021-11-08T12:10:09.850Z"
   },
   {
    "duration": 4,
    "start_time": "2021-11-08T12:10:14.483Z"
   },
   {
    "duration": 10,
    "start_time": "2021-11-08T12:10:14.993Z"
   },
   {
    "duration": 31,
    "start_time": "2021-11-08T12:10:49.887Z"
   },
   {
    "duration": 181,
    "start_time": "2021-11-08T12:22:04.518Z"
   },
   {
    "duration": 231,
    "start_time": "2021-11-08T12:22:24.413Z"
   },
   {
    "duration": 260,
    "start_time": "2021-11-08T12:22:50.081Z"
   },
   {
    "duration": 260,
    "start_time": "2021-11-08T12:23:47.979Z"
   },
   {
    "duration": 263,
    "start_time": "2021-11-08T12:25:11.319Z"
   },
   {
    "duration": 594,
    "start_time": "2021-11-08T12:25:45.406Z"
   },
   {
    "duration": 604,
    "start_time": "2021-11-08T12:25:50.630Z"
   },
   {
    "duration": 274,
    "start_time": "2021-11-08T12:25:53.580Z"
   },
   {
    "duration": 3,
    "start_time": "2021-11-08T12:26:50.203Z"
   },
   {
    "duration": 10,
    "start_time": "2021-11-08T12:26:50.830Z"
   },
   {
    "duration": 8,
    "start_time": "2021-11-08T12:27:15.297Z"
   },
   {
    "duration": 8,
    "start_time": "2021-11-08T12:27:31.256Z"
   },
   {
    "duration": 270,
    "start_time": "2021-11-08T12:44:56.171Z"
   },
   {
    "duration": 7228,
    "start_time": "2021-11-08T12:45:08.323Z"
   },
   {
    "duration": 7672,
    "start_time": "2021-11-08T12:45:17.935Z"
   },
   {
    "duration": 1574,
    "start_time": "2021-11-08T12:45:59.515Z"
   },
   {
    "duration": 1337,
    "start_time": "2021-11-08T12:46:27.565Z"
   },
   {
    "duration": 1695,
    "start_time": "2021-11-08T12:50:14.035Z"
   },
   {
    "duration": 1723,
    "start_time": "2021-11-08T12:50:44.943Z"
   },
   {
    "duration": 1801,
    "start_time": "2021-11-08T12:51:03.095Z"
   },
   {
    "duration": 1832,
    "start_time": "2021-11-08T12:53:21.676Z"
   },
   {
    "duration": 1703,
    "start_time": "2021-11-08T12:53:36.177Z"
   },
   {
    "duration": 1882,
    "start_time": "2021-11-08T12:53:48.177Z"
   },
   {
    "duration": 1863,
    "start_time": "2021-11-08T12:54:19.633Z"
   },
   {
    "duration": 2002,
    "start_time": "2021-11-08T12:54:24.362Z"
   },
   {
    "duration": 270,
    "start_time": "2021-11-08T12:56:17.840Z"
   },
   {
    "duration": 9,
    "start_time": "2021-11-08T12:58:18.234Z"
   },
   {
    "duration": 1979,
    "start_time": "2021-11-08T12:58:26.214Z"
   },
   {
    "duration": 597,
    "start_time": "2021-11-08T12:58:38.969Z"
   },
   {
    "duration": 434,
    "start_time": "2021-11-08T12:58:50.067Z"
   },
   {
    "duration": 311,
    "start_time": "2021-11-08T12:59:03.897Z"
   },
   {
    "duration": 2,
    "start_time": "2021-11-08T14:21:15.420Z"
   },
   {
    "duration": 1974,
    "start_time": "2021-11-08T14:34:36.081Z"
   },
   {
    "duration": 2442,
    "start_time": "2021-11-08T14:35:02.561Z"
   },
   {
    "duration": 2103,
    "start_time": "2021-11-08T14:35:19.910Z"
   },
   {
    "duration": 1740,
    "start_time": "2021-11-08T14:35:41.982Z"
   },
   {
    "duration": 2151,
    "start_time": "2021-11-08T14:35:55.545Z"
   },
   {
    "duration": 3,
    "start_time": "2021-11-08T14:38:16.743Z"
   },
   {
    "duration": 6,
    "start_time": "2021-11-08T14:38:26.236Z"
   },
   {
    "duration": 9,
    "start_time": "2021-11-08T14:38:31.348Z"
   },
   {
    "duration": 5,
    "start_time": "2021-11-08T14:39:45.520Z"
   },
   {
    "duration": 12,
    "start_time": "2021-11-08T14:39:46.397Z"
   },
   {
    "duration": 9,
    "start_time": "2021-11-08T14:40:15.524Z"
   },
   {
    "duration": 274,
    "start_time": "2021-11-08T14:40:46.098Z"
   },
   {
    "duration": 2062,
    "start_time": "2021-11-08T14:40:50.953Z"
   },
   {
    "duration": 458,
    "start_time": "2021-11-08T14:40:55.819Z"
   },
   {
    "duration": 7,
    "start_time": "2021-11-08T14:52:26.825Z"
   },
   {
    "duration": 4,
    "start_time": "2021-11-08T15:01:54.955Z"
   },
   {
    "duration": 259,
    "start_time": "2021-11-08T15:02:42.926Z"
   },
   {
    "duration": 7023,
    "start_time": "2021-11-08T15:03:20.354Z"
   },
   {
    "duration": 3944,
    "start_time": "2021-11-08T15:03:50.111Z"
   },
   {
    "duration": 3736,
    "start_time": "2021-11-08T15:04:14.966Z"
   },
   {
    "duration": 2724,
    "start_time": "2021-11-08T15:04:40.899Z"
   },
   {
    "duration": 279,
    "start_time": "2021-11-08T15:15:17.021Z"
   },
   {
    "duration": 3,
    "start_time": "2021-11-08T15:15:19.676Z"
   },
   {
    "duration": 2501,
    "start_time": "2021-11-08T15:15:20.431Z"
   },
   {
    "duration": 4,
    "start_time": "2021-11-08T15:16:14.393Z"
   },
   {
    "duration": 2805,
    "start_time": "2021-11-08T15:16:15.396Z"
   },
   {
    "duration": 4,
    "start_time": "2021-11-08T15:18:21.065Z"
   },
   {
    "duration": 2529,
    "start_time": "2021-11-08T15:18:21.718Z"
   },
   {
    "duration": 4,
    "start_time": "2021-11-08T15:18:45.865Z"
   },
   {
    "duration": 2553,
    "start_time": "2021-11-08T15:18:46.777Z"
   },
   {
    "duration": 3,
    "start_time": "2021-11-08T16:06:40.168Z"
   },
   {
    "duration": 2735,
    "start_time": "2021-11-08T16:06:40.725Z"
   },
   {
    "duration": 4,
    "start_time": "2021-11-08T16:06:53.100Z"
   },
   {
    "duration": 811,
    "start_time": "2021-11-08T16:06:53.709Z"
   },
   {
    "duration": 6,
    "start_time": "2021-11-08T16:07:05.308Z"
   },
   {
    "duration": 2498,
    "start_time": "2021-11-08T16:07:05.956Z"
   },
   {
    "duration": 2702,
    "start_time": "2021-11-08T16:07:20.296Z"
   },
   {
    "duration": 2646,
    "start_time": "2021-11-08T16:07:51.878Z"
   },
   {
    "duration": 2550,
    "start_time": "2021-11-08T16:08:05.655Z"
   },
   {
    "duration": 2615,
    "start_time": "2021-11-08T16:08:30.411Z"
   },
   {
    "duration": 4,
    "start_time": "2021-11-08T16:09:33.753Z"
   },
   {
    "duration": 2481,
    "start_time": "2021-11-08T16:09:34.754Z"
   },
   {
    "duration": 4,
    "start_time": "2021-11-08T16:09:58.444Z"
   },
   {
    "duration": 3012,
    "start_time": "2021-11-08T16:09:59.268Z"
   },
   {
    "duration": 5,
    "start_time": "2021-11-08T16:10:38.502Z"
   },
   {
    "duration": 959,
    "start_time": "2021-11-08T16:10:39.362Z"
   },
   {
    "duration": 330,
    "start_time": "2021-11-08T16:11:43.667Z"
   },
   {
    "duration": 4,
    "start_time": "2021-11-08T16:16:16.571Z"
   },
   {
    "duration": 949,
    "start_time": "2021-11-08T16:16:24.397Z"
   },
   {
    "duration": 5,
    "start_time": "2021-11-08T16:16:38.821Z"
   },
   {
    "duration": 4471,
    "start_time": "2021-11-08T16:16:39.333Z"
   },
   {
    "duration": 4,
    "start_time": "2021-11-08T16:19:22.391Z"
   },
   {
    "duration": 316,
    "start_time": "2021-11-08T16:19:24.367Z"
   },
   {
    "duration": 4,
    "start_time": "2021-11-08T16:19:47.919Z"
   },
   {
    "duration": 3184,
    "start_time": "2021-11-08T16:19:48.520Z"
   },
   {
    "duration": 4,
    "start_time": "2021-11-08T16:20:09.840Z"
   },
   {
    "duration": 2696,
    "start_time": "2021-11-08T16:20:10.600Z"
   },
   {
    "duration": 4,
    "start_time": "2021-11-08T16:21:03.629Z"
   },
   {
    "duration": 2605,
    "start_time": "2021-11-08T16:21:04.004Z"
   },
   {
    "duration": 1117,
    "start_time": "2021-11-08T16:21:43.090Z"
   },
   {
    "duration": 3,
    "start_time": "2021-11-08T16:21:44.209Z"
   },
   {
    "duration": 47,
    "start_time": "2021-11-08T16:21:44.215Z"
   },
   {
    "duration": 33,
    "start_time": "2021-11-08T16:21:44.264Z"
   },
   {
    "duration": 6,
    "start_time": "2021-11-08T16:21:44.299Z"
   },
   {
    "duration": 10,
    "start_time": "2021-11-08T16:21:44.306Z"
   },
   {
    "duration": 30,
    "start_time": "2021-11-08T16:21:44.318Z"
   },
   {
    "duration": 2644,
    "start_time": "2021-11-08T16:21:44.350Z"
   },
   {
    "duration": 2709,
    "start_time": "2021-11-08T16:22:42.035Z"
   },
   {
    "duration": 2731,
    "start_time": "2021-11-08T16:24:14.416Z"
   },
   {
    "duration": 1180,
    "start_time": "2021-11-08T16:24:24.920Z"
   },
   {
    "duration": 5,
    "start_time": "2021-11-08T16:24:26.102Z"
   },
   {
    "duration": 43,
    "start_time": "2021-11-08T16:24:26.109Z"
   },
   {
    "duration": 33,
    "start_time": "2021-11-08T16:24:26.155Z"
   },
   {
    "duration": 5,
    "start_time": "2021-11-08T16:24:26.190Z"
   },
   {
    "duration": 24,
    "start_time": "2021-11-08T16:24:26.197Z"
   },
   {
    "duration": 9,
    "start_time": "2021-11-08T16:24:26.222Z"
   },
   {
    "duration": 2563,
    "start_time": "2021-11-08T16:24:26.233Z"
   },
   {
    "duration": 1196,
    "start_time": "2021-11-08T16:24:59.180Z"
   },
   {
    "duration": 13,
    "start_time": "2021-11-08T16:25:00.386Z"
   },
   {
    "duration": 93,
    "start_time": "2021-11-08T16:25:00.410Z"
   },
   {
    "duration": 64,
    "start_time": "2021-11-08T16:25:00.516Z"
   },
   {
    "duration": 9,
    "start_time": "2021-11-08T16:25:00.582Z"
   },
   {
    "duration": 50,
    "start_time": "2021-11-08T16:25:00.593Z"
   },
   {
    "duration": 15,
    "start_time": "2021-11-08T16:25:00.662Z"
   },
   {
    "duration": 2793,
    "start_time": "2021-11-08T16:25:00.687Z"
   },
   {
    "duration": 1223,
    "start_time": "2021-11-08T16:25:23.437Z"
   },
   {
    "duration": 3,
    "start_time": "2021-11-08T16:25:24.663Z"
   },
   {
    "duration": 41,
    "start_time": "2021-11-08T16:25:24.668Z"
   },
   {
    "duration": 36,
    "start_time": "2021-11-08T16:25:24.711Z"
   },
   {
    "duration": 9,
    "start_time": "2021-11-08T16:25:24.748Z"
   },
   {
    "duration": 9,
    "start_time": "2021-11-08T16:25:24.759Z"
   },
   {
    "duration": 5,
    "start_time": "2021-11-08T16:25:24.769Z"
   },
   {
    "duration": 2506,
    "start_time": "2021-11-08T16:25:24.776Z"
   },
   {
    "duration": 2298,
    "start_time": "2021-11-08T16:25:45.601Z"
   },
   {
    "duration": 2323,
    "start_time": "2021-11-08T16:26:36.363Z"
   },
   {
    "duration": 2400,
    "start_time": "2021-11-08T16:26:51.007Z"
   },
   {
    "duration": 2511,
    "start_time": "2021-11-08T16:27:07.163Z"
   },
   {
    "duration": 2526,
    "start_time": "2021-11-08T16:27:13.721Z"
   },
   {
    "duration": 2381,
    "start_time": "2021-11-08T16:27:27.397Z"
   },
   {
    "duration": 1488,
    "start_time": "2021-11-09T15:14:32.449Z"
   },
   {
    "duration": 5,
    "start_time": "2021-11-09T15:14:33.940Z"
   },
   {
    "duration": 61,
    "start_time": "2021-11-09T15:14:33.949Z"
   },
   {
    "duration": 54,
    "start_time": "2021-11-09T15:14:34.013Z"
   },
   {
    "duration": 10,
    "start_time": "2021-11-09T15:14:34.070Z"
   },
   {
    "duration": 18,
    "start_time": "2021-11-09T15:14:34.083Z"
   },
   {
    "duration": 7,
    "start_time": "2021-11-09T15:14:34.104Z"
   },
   {
    "duration": 5675,
    "start_time": "2021-11-09T15:14:34.114Z"
   },
   {
    "duration": 430,
    "start_time": "2021-11-09T15:19:02.386Z"
   },
   {
    "duration": 9,
    "start_time": "2021-11-09T15:19:10.711Z"
   }
  ],
  "kernelspec": {
   "display_name": "Python 3",
   "language": "python",
   "name": "python3"
  },
  "language_info": {
   "codemirror_mode": {
    "name": "ipython",
    "version": 3
   },
   "file_extension": ".py",
   "mimetype": "text/x-python",
   "name": "python",
   "nbconvert_exporter": "python",
   "pygments_lexer": "ipython3",
   "version": "3.8.8"
  },
  "toc": {
   "base_numbering": 1,
   "nav_menu": {},
   "number_sections": true,
   "sideBar": true,
   "skip_h1_title": true,
   "title_cell": "Содержание",
   "title_sidebar": "Contents",
   "toc_cell": true,
   "toc_position": {},
   "toc_section_display": true,
   "toc_window_display": true
  }
 },
 "nbformat": 4,
 "nbformat_minor": 2
}
