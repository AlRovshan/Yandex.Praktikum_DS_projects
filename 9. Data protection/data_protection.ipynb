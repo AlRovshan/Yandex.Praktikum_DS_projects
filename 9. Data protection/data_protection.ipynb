{
 "cells": [
  {
   "cell_type": "markdown",
   "metadata": {},
   "source": [
    "# Защита персональных данных клиентов"
   ]
  },
  {
   "cell_type": "markdown",
   "metadata": {},
   "source": [
    "**Цель проекта:**\n",
    "\n",
    "Защитить данные клиентов страховой компании.\n",
    "\n",
    "**Задачи проекта:**\n",
    "1. Разработать такой метод преобразования данных, чтобы по ним было сложно восстановить персональную информацию. \n",
    "2. Обосновать корректность его работы.\n",
    "3. Защитить данные так, чтобы при преобразовании качество моделей машинного обучения не ухудшилось."
   ]
  },
  {
   "cell_type": "markdown",
   "metadata": {
    "toc": true
   },
   "source": [
    "<h1>Содержание<span class=\"tocSkip\"></span></h1>\n",
    "<div class=\"toc\"><ul class=\"toc-item\"><li><span><a href=\"#Загрузка-данных\" data-toc-modified-id=\"Загрузка-данных-1\"><span class=\"toc-item-num\">1&nbsp;&nbsp;</span>Загрузка данных</a></span><ul class=\"toc-item\"><li><span><a href=\"#Вывод\" data-toc-modified-id=\"Вывод-1.1\"><span class=\"toc-item-num\">1.1&nbsp;&nbsp;</span>Вывод</a></span></li></ul></li><li><span><a href=\"#Умножение-матриц\" data-toc-modified-id=\"Умножение-матриц-2\"><span class=\"toc-item-num\">2&nbsp;&nbsp;</span>Умножение матриц</a></span></li><li><span><a href=\"#Алгоритм-преобразования\" data-toc-modified-id=\"Алгоритм-преобразования-3\"><span class=\"toc-item-num\">3&nbsp;&nbsp;</span>Алгоритм преобразования</a></span></li><li><span><a href=\"#Проверка-алгоритма\" data-toc-modified-id=\"Проверка-алгоритма-4\"><span class=\"toc-item-num\">4&nbsp;&nbsp;</span>Проверка алгоритма</a></span><ul class=\"toc-item\"><li><span><a href=\"#Вывод:\" data-toc-modified-id=\"Вывод:-4.1\"><span class=\"toc-item-num\">4.1&nbsp;&nbsp;</span>Вывод:</a></span></li></ul></li><li><span><a href=\"#Вывод:\" data-toc-modified-id=\"Вывод:-5\"><span class=\"toc-item-num\">5&nbsp;&nbsp;</span>Вывод:</a></span></li><li><span><a href=\"#Чек-лист-проверки\" data-toc-modified-id=\"Чек-лист-проверки-6\"><span class=\"toc-item-num\">6&nbsp;&nbsp;</span>Чек-лист проверки</a></span></li></ul></div>"
   ]
  },
  {
   "cell_type": "markdown",
   "metadata": {},
   "source": [
    "## Загрузка данных"
   ]
  },
  {
   "cell_type": "code",
   "execution_count": 1,
   "metadata": {},
   "outputs": [],
   "source": [
    "import warnings\n",
    "warnings.filterwarnings('ignore')\n",
    "import pandas as pd\n",
    "import numpy as np\n",
    "import matplotlib.pyplot as plt\n",
    "import seaborn as sns \n",
    "from sklearn.model_selection import train_test_split\n",
    "from sklearn.linear_model import LinearRegression\n",
    "from sklearn.metrics import r2_score"
   ]
  },
  {
   "cell_type": "code",
   "execution_count": 2,
   "metadata": {},
   "outputs": [],
   "source": [
    "def data_read(file):\n",
    "    \"\"\"\n",
    "        Функция принемает путь к файлу, выводить на экран 10 сторк таблицы,\n",
    "        информацию о столбцах, число дубликатов и возврашет таблицу типа DataFrame\n",
    "    \"\"\"\n",
    "    data = pd.read_csv(file)\n",
    "    display(data.head(10))\n",
    "    display(data.describe())\n",
    "    data.info(memory_usage='deep')\n",
    "    print(\"\\n\"+'Количество дубликатов:', data.duplicated().sum())\n",
    "    return data"
   ]
  },
  {
   "cell_type": "code",
   "execution_count": 3,
   "metadata": {},
   "outputs": [
    {
     "data": {
      "text/html": [
       "<div>\n",
       "<style scoped>\n",
       "    .dataframe tbody tr th:only-of-type {\n",
       "        vertical-align: middle;\n",
       "    }\n",
       "\n",
       "    .dataframe tbody tr th {\n",
       "        vertical-align: top;\n",
       "    }\n",
       "\n",
       "    .dataframe thead th {\n",
       "        text-align: right;\n",
       "    }\n",
       "</style>\n",
       "<table border=\"1\" class=\"dataframe\">\n",
       "  <thead>\n",
       "    <tr style=\"text-align: right;\">\n",
       "      <th></th>\n",
       "      <th>Пол</th>\n",
       "      <th>Возраст</th>\n",
       "      <th>Зарплата</th>\n",
       "      <th>Члены семьи</th>\n",
       "      <th>Страховые выплаты</th>\n",
       "    </tr>\n",
       "  </thead>\n",
       "  <tbody>\n",
       "    <tr>\n",
       "      <td>0</td>\n",
       "      <td>1</td>\n",
       "      <td>41.0</td>\n",
       "      <td>49600.0</td>\n",
       "      <td>1</td>\n",
       "      <td>0</td>\n",
       "    </tr>\n",
       "    <tr>\n",
       "      <td>1</td>\n",
       "      <td>0</td>\n",
       "      <td>46.0</td>\n",
       "      <td>38000.0</td>\n",
       "      <td>1</td>\n",
       "      <td>1</td>\n",
       "    </tr>\n",
       "    <tr>\n",
       "      <td>2</td>\n",
       "      <td>0</td>\n",
       "      <td>29.0</td>\n",
       "      <td>21000.0</td>\n",
       "      <td>0</td>\n",
       "      <td>0</td>\n",
       "    </tr>\n",
       "    <tr>\n",
       "      <td>3</td>\n",
       "      <td>0</td>\n",
       "      <td>21.0</td>\n",
       "      <td>41700.0</td>\n",
       "      <td>2</td>\n",
       "      <td>0</td>\n",
       "    </tr>\n",
       "    <tr>\n",
       "      <td>4</td>\n",
       "      <td>1</td>\n",
       "      <td>28.0</td>\n",
       "      <td>26100.0</td>\n",
       "      <td>0</td>\n",
       "      <td>0</td>\n",
       "    </tr>\n",
       "    <tr>\n",
       "      <td>5</td>\n",
       "      <td>1</td>\n",
       "      <td>43.0</td>\n",
       "      <td>41000.0</td>\n",
       "      <td>2</td>\n",
       "      <td>1</td>\n",
       "    </tr>\n",
       "    <tr>\n",
       "      <td>6</td>\n",
       "      <td>1</td>\n",
       "      <td>39.0</td>\n",
       "      <td>39700.0</td>\n",
       "      <td>2</td>\n",
       "      <td>0</td>\n",
       "    </tr>\n",
       "    <tr>\n",
       "      <td>7</td>\n",
       "      <td>1</td>\n",
       "      <td>25.0</td>\n",
       "      <td>38600.0</td>\n",
       "      <td>4</td>\n",
       "      <td>0</td>\n",
       "    </tr>\n",
       "    <tr>\n",
       "      <td>8</td>\n",
       "      <td>1</td>\n",
       "      <td>36.0</td>\n",
       "      <td>49700.0</td>\n",
       "      <td>1</td>\n",
       "      <td>0</td>\n",
       "    </tr>\n",
       "    <tr>\n",
       "      <td>9</td>\n",
       "      <td>1</td>\n",
       "      <td>32.0</td>\n",
       "      <td>51700.0</td>\n",
       "      <td>1</td>\n",
       "      <td>0</td>\n",
       "    </tr>\n",
       "  </tbody>\n",
       "</table>\n",
       "</div>"
      ],
      "text/plain": [
       "   Пол  Возраст  Зарплата  Члены семьи  Страховые выплаты\n",
       "0    1     41.0   49600.0            1                  0\n",
       "1    0     46.0   38000.0            1                  1\n",
       "2    0     29.0   21000.0            0                  0\n",
       "3    0     21.0   41700.0            2                  0\n",
       "4    1     28.0   26100.0            0                  0\n",
       "5    1     43.0   41000.0            2                  1\n",
       "6    1     39.0   39700.0            2                  0\n",
       "7    1     25.0   38600.0            4                  0\n",
       "8    1     36.0   49700.0            1                  0\n",
       "9    1     32.0   51700.0            1                  0"
      ]
     },
     "metadata": {},
     "output_type": "display_data"
    },
    {
     "data": {
      "text/html": [
       "<div>\n",
       "<style scoped>\n",
       "    .dataframe tbody tr th:only-of-type {\n",
       "        vertical-align: middle;\n",
       "    }\n",
       "\n",
       "    .dataframe tbody tr th {\n",
       "        vertical-align: top;\n",
       "    }\n",
       "\n",
       "    .dataframe thead th {\n",
       "        text-align: right;\n",
       "    }\n",
       "</style>\n",
       "<table border=\"1\" class=\"dataframe\">\n",
       "  <thead>\n",
       "    <tr style=\"text-align: right;\">\n",
       "      <th></th>\n",
       "      <th>Пол</th>\n",
       "      <th>Возраст</th>\n",
       "      <th>Зарплата</th>\n",
       "      <th>Члены семьи</th>\n",
       "      <th>Страховые выплаты</th>\n",
       "    </tr>\n",
       "  </thead>\n",
       "  <tbody>\n",
       "    <tr>\n",
       "      <td>count</td>\n",
       "      <td>5000.000000</td>\n",
       "      <td>5000.000000</td>\n",
       "      <td>5000.000000</td>\n",
       "      <td>5000.000000</td>\n",
       "      <td>5000.000000</td>\n",
       "    </tr>\n",
       "    <tr>\n",
       "      <td>mean</td>\n",
       "      <td>0.499000</td>\n",
       "      <td>30.952800</td>\n",
       "      <td>39916.360000</td>\n",
       "      <td>1.194200</td>\n",
       "      <td>0.148000</td>\n",
       "    </tr>\n",
       "    <tr>\n",
       "      <td>std</td>\n",
       "      <td>0.500049</td>\n",
       "      <td>8.440807</td>\n",
       "      <td>9900.083569</td>\n",
       "      <td>1.091387</td>\n",
       "      <td>0.463183</td>\n",
       "    </tr>\n",
       "    <tr>\n",
       "      <td>min</td>\n",
       "      <td>0.000000</td>\n",
       "      <td>18.000000</td>\n",
       "      <td>5300.000000</td>\n",
       "      <td>0.000000</td>\n",
       "      <td>0.000000</td>\n",
       "    </tr>\n",
       "    <tr>\n",
       "      <td>25%</td>\n",
       "      <td>0.000000</td>\n",
       "      <td>24.000000</td>\n",
       "      <td>33300.000000</td>\n",
       "      <td>0.000000</td>\n",
       "      <td>0.000000</td>\n",
       "    </tr>\n",
       "    <tr>\n",
       "      <td>50%</td>\n",
       "      <td>0.000000</td>\n",
       "      <td>30.000000</td>\n",
       "      <td>40200.000000</td>\n",
       "      <td>1.000000</td>\n",
       "      <td>0.000000</td>\n",
       "    </tr>\n",
       "    <tr>\n",
       "      <td>75%</td>\n",
       "      <td>1.000000</td>\n",
       "      <td>37.000000</td>\n",
       "      <td>46600.000000</td>\n",
       "      <td>2.000000</td>\n",
       "      <td>0.000000</td>\n",
       "    </tr>\n",
       "    <tr>\n",
       "      <td>max</td>\n",
       "      <td>1.000000</td>\n",
       "      <td>65.000000</td>\n",
       "      <td>79000.000000</td>\n",
       "      <td>6.000000</td>\n",
       "      <td>5.000000</td>\n",
       "    </tr>\n",
       "  </tbody>\n",
       "</table>\n",
       "</div>"
      ],
      "text/plain": [
       "               Пол      Возраст      Зарплата  Члены семьи  Страховые выплаты\n",
       "count  5000.000000  5000.000000   5000.000000  5000.000000        5000.000000\n",
       "mean      0.499000    30.952800  39916.360000     1.194200           0.148000\n",
       "std       0.500049     8.440807   9900.083569     1.091387           0.463183\n",
       "min       0.000000    18.000000   5300.000000     0.000000           0.000000\n",
       "25%       0.000000    24.000000  33300.000000     0.000000           0.000000\n",
       "50%       0.000000    30.000000  40200.000000     1.000000           0.000000\n",
       "75%       1.000000    37.000000  46600.000000     2.000000           0.000000\n",
       "max       1.000000    65.000000  79000.000000     6.000000           5.000000"
      ]
     },
     "metadata": {},
     "output_type": "display_data"
    },
    {
     "name": "stdout",
     "output_type": "stream",
     "text": [
      "<class 'pandas.core.frame.DataFrame'>\n",
      "RangeIndex: 5000 entries, 0 to 4999\n",
      "Data columns (total 5 columns):\n",
      "Пол                  5000 non-null int64\n",
      "Возраст              5000 non-null float64\n",
      "Зарплата             5000 non-null float64\n",
      "Члены семьи          5000 non-null int64\n",
      "Страховые выплаты    5000 non-null int64\n",
      "dtypes: float64(2), int64(3)\n",
      "memory usage: 195.4 KB\n",
      "\n",
      "Количество дубликатов: 153\n"
     ]
    }
   ],
   "source": [
    "df = data_read('/datasets/insurance.csv')"
   ]
  },
  {
   "cell_type": "markdown",
   "metadata": {},
   "source": [
    "Переведем столбцы типа float в int, удалим все дубликаты из таблицы, а также переведем названия всех колонок в нижний регистр."
   ]
  },
  {
   "cell_type": "code",
   "execution_count": 4,
   "metadata": {},
   "outputs": [
    {
     "name": "stdout",
     "output_type": "stream",
     "text": [
      "<class 'pandas.core.frame.DataFrame'>\n",
      "RangeIndex: 4847 entries, 0 to 4846\n",
      "Data columns (total 5 columns):\n",
      "пол                  4847 non-null int64\n",
      "возраст              4847 non-null int64\n",
      "зарплата             4847 non-null int64\n",
      "члены семьи          4847 non-null int64\n",
      "страховые выплаты    4847 non-null int64\n",
      "dtypes: int64(5)\n",
      "memory usage: 189.5 KB\n"
     ]
    }
   ],
   "source": [
    "df[['Возраст','Зарплата']] = df[['Возраст','Зарплата']].astype('int')\n",
    "df = df.drop_duplicates().reset_index(drop=True)\n",
    "df.columns = df.columns.str.lower()\n",
    "df.info()"
   ]
  },
  {
   "cell_type": "markdown",
   "metadata": {},
   "source": [
    "Построим гистограммы каждого столбца таблицы"
   ]
  },
  {
   "cell_type": "code",
   "execution_count": 5,
   "metadata": {
    "scrolled": false
   },
   "outputs": [
    {
     "data": {
      "image/png": "[encoded data removed]",
      "text/plain": [
       "<Figure size 1152x432 with 1 Axes>"
      ]
     },
     "metadata": {},
     "output_type": "display_data"
    },
    {
     "data": {
      "image/png": "[encoded data removed]",
      "text/plain": [
       "<Figure size 1152x432 with 1 Axes>"
      ]
     },
     "metadata": {},
     "output_type": "display_data"
    },
    {
     "data": {
      "image/png": "[encoded data removed]",
      "text/plain": [
       "<Figure size 1152x432 with 1 Axes>"
      ]
     },
     "metadata": {},
     "output_type": "display_data"
    },
    {
     "data": {
      "image/png": "[encoded data removed]",
      "text/plain": [
       "<Figure size 1152x432 with 1 Axes>"
      ]
     },
     "metadata": {},
     "output_type": "display_data"
    },
    {
     "data": {
      "image/png": "[encoded data removed]",
      "text/plain": [
       "<Figure size 1152x432 with 1 Axes>"
      ]
     },
     "metadata": {},
     "output_type": "display_data"
    }
   ],
   "source": [
    "def show_hists(data, data_label):\n",
    "    \"\"\"\n",
    "    Функция на вход принемает датафрейм и названия столбцов датафрейма.\n",
    "    Выводом функции является цикл гистограмм каждого столбца датафрейма.\n",
    "    \"\"\"\n",
    "    sns.set()\n",
    "    plt.figure(figsize=(16, 6))\n",
    "    plt.title('Гистограмма столбца ' + data_label, fontsize=18)\n",
    "    plt.ylabel('Частота', fontsize=15)\n",
    "    sns.distplot(data, bins=20)\n",
    "    plt.show()\n",
    "    \n",
    "for column in df.columns:\n",
    "    show_hists(df[column], column)"
   ]
  },
  {
   "cell_type": "markdown",
   "metadata": {},
   "source": [
    "### Вывод\n",
    "\n"
   ]
  },
  {
   "cell_type": "markdown",
   "metadata": {},
   "source": [
    "В ходе выполнения пункта 1 выявлены и удалены дублекаты значений, данные типа float перевдены в int, названия всех столбцов переведены в нижний регистр, а также построены гистограммы на осное данных всех столбцов датафрейма."
   ]
  },
  {
   "cell_type": "markdown",
   "metadata": {},
   "source": [
    "## Умножение матриц"
   ]
  },
  {
   "cell_type": "markdown",
   "metadata": {},
   "source": [
    "**Вопрос:** \n",
    "\n",
    "Признаки умножают на обратимую матрицу. Изменится ли качество линейной регрессии?\n",
    "\n",
    "Обозначения:\n",
    "\n",
    "- $X$ — матрица признаков (нулевой столбец состоит из единиц)\n",
    "\n",
    "- $y$ — вектор целевого признака\n",
    "\n",
    "- $P$ — матрица, на которую умножаются признаки\n",
    "\n",
    "- $w$ — вектор весов линейной регрессии (нулевой элемент равен сдвигу)\n",
    "\n",
    "- $E$ - единичная матрица\n",
    "\n",
    "Задача обучения:\n",
    "\n",
    "$$\n",
    "w = \\arg\\min_w MSE(Xw, y)\n",
    "$$\n",
    "\n",
    "Формула обучения:\n",
    "\n",
    "$$\n",
    "w = (X^T X)^{-1} X^T y\n",
    "$$\n",
    "\n",
    "Предсказания:\n",
    "\n",
    "$$\n",
    "a = Xw\n",
    "$$\n",
    "\n",
    "Свойство единичной матрицы:\n",
    "\n",
    "$$\n",
    "AE = EA = A\n",
    "$$\n",
    "\n",
    "$$\n",
    "АА^{-1} = A^{-1}A = E\n",
    "$$\n",
    "\n",
    "**Доказать:**\n",
    "\n",
    "$ a_1 = a_2 $, где $ a_1 $- предсказания данных, $ a_2 $- предсказания данных, признаки которой умножаются на матрицу P\n",
    "\n",
    "**Решение:**\n",
    "\n",
    "Если $ a_1 = Xw_1 $, то $ a_2 = PXw_2 $, тогда:\n",
    "\n",
    "$ Xw_1 = PXw_2 $\n",
    "\n",
    "$ X(X^T X)^{-1} X^T y = PX ((PX)^T PX)^{-1} (PX)^T y $\n",
    "\n",
    "$ X(X^T X)^{-1} X^T y = PX (P^TP(X^T X))^{-1} P^T X^T y $\n",
    "\n",
    "$ X(X^T X)^{-1} X^T y = PX (P^T)^{-1} P^{-1}(X^T X)^{-1} P^T X^T y $\n",
    "\n",
    "$ X(X^T X)^{-1} X^T y = X(X^T X)^{-1} X^T y $\n",
    "\n",
    "**Ответ:** \n",
    "\n",
    "При умножении матрицы признаков на случайную обратимую матрицу, качество линейной регрессии не изменится."
   ]
  },
  {
   "cell_type": "markdown",
   "metadata": {},
   "source": [
    "## Алгоритм преобразования"
   ]
  },
  {
   "cell_type": "markdown",
   "metadata": {},
   "source": [
    "**Алгоритм**\n",
    "\n",
    "Создадим случайную матрицу размера MxM, где M равна ширине матрицы признаков. Далее умножим матрицу признаков на данную случайную обратимую матрицу."
   ]
  },
  {
   "cell_type": "markdown",
   "metadata": {},
   "source": [
    "**Обоснование**\n",
    "\n",
    "Обоснование приведено в пункте 2"
   ]
  },
  {
   "cell_type": "markdown",
   "metadata": {},
   "source": [
    "## Проверка алгоритма"
   ]
  },
  {
   "cell_type": "markdown",
   "metadata": {},
   "source": [
    "Обучим модель и проверим её качество с помошью библиотеки sklearn "
   ]
  },
  {
   "cell_type": "code",
   "execution_count": 6,
   "metadata": {},
   "outputs": [],
   "source": [
    "target = df['страховые выплаты']\n",
    "features = df.drop('страховые выплаты', axis=1)\n",
    "train_features, valid_features, train_target, valid_target = train_test_split(features, target,\n",
    "                                                                              test_size=0.25, random_state=12345)"
   ]
  },
  {
   "cell_type": "code",
   "execution_count": 7,
   "metadata": {},
   "outputs": [
    {
     "name": "stdout",
     "output_type": "stream",
     "text": [
      "R-квадрат: 0.6058148129897009\n",
      "CPU times: user 6.3 ms, sys: 0 ns, total: 6.3 ms\n",
      "Wall time: 5.03 ms\n"
     ]
    }
   ],
   "source": [
    "%%time\n",
    "model = LinearRegression().fit(train_features, train_target)\n",
    "valid_predicted = np.around(model.predict(valid_features)).astype('int')\n",
    "r2_skl =  r2_score(valid_target, valid_predicted)\n",
    "print('R-квадрат:', r2_skl)"
   ]
  },
  {
   "cell_type": "markdown",
   "metadata": {},
   "source": [
    "Обучим модель и проверим её качество с помощью матричного умножения"
   ]
  },
  {
   "cell_type": "code",
   "execution_count": 8,
   "metadata": {},
   "outputs": [
    {
     "name": "stdout",
     "output_type": "stream",
     "text": [
      "R-квадрат: 0.6058148129897009\n",
      "CPU times: user 29.8 ms, sys: 23.7 ms, total: 53.6 ms\n",
      "Wall time: 12.4 ms\n"
     ]
    }
   ],
   "source": [
    "%%time\n",
    "class LinearRegression:\n",
    "    def fit(self, train_features, train_target):\n",
    "        y = train_target\n",
    "        X = np.concatenate((np.ones((train_features.shape[0], 1)), train_features), axis=1)\n",
    "        w = np.linalg.inv(X.T.dot(X)).dot(X.T).dot(y)\n",
    "        self.w = w[1:]\n",
    "        self.w0 = w[0]\n",
    "\n",
    "    def predict(self, test_features):\n",
    "        return np.around(test_features.dot(self.w) + (self.w0)).astype('int')\n",
    "    \n",
    "model = LinearRegression()\n",
    "model.fit(train_features, train_target)\n",
    "predictions = model.predict(valid_features)\n",
    "r2_mat = r2_score(valid_target, predictions)\n",
    "print('R-квадрат:', r2_mat)"
   ]
  },
  {
   "cell_type": "markdown",
   "metadata": {},
   "source": [
    "Обучим модель и проверим её качество на преобразованных данных"
   ]
  },
  {
   "cell_type": "code",
   "execution_count": 9,
   "metadata": {},
   "outputs": [
    {
     "data": {
      "text/plain": [
       "array([[ 1.,  0.,  0.,  0.],\n",
       "       [-0.,  1., -0., -0.],\n",
       "       [ 0.,  0.,  1.,  0.],\n",
       "       [-0., -0.,  0.,  1.]])"
      ]
     },
     "execution_count": 9,
     "metadata": {},
     "output_type": "execute_result"
    }
   ],
   "source": [
    "P = np.random.sample((4,4))\n",
    "#Проверка матрицы на обратимость\n",
    "np.around(np.linalg.inv(P).dot(P))"
   ]
  },
  {
   "cell_type": "markdown",
   "metadata": {},
   "source": [
    "Полученная случайная матрица является обратимой"
   ]
  },
  {
   "cell_type": "code",
   "execution_count": 10,
   "metadata": {},
   "outputs": [
    {
     "data": {
      "text/plain": [
       "array([[37447.83743939, 16653.2228155 ,  7251.21419042,  3689.30759545],\n",
       "       [28697.44793821, 12762.59485216,  5560.22747444,  2832.5289894 ],\n",
       "       [15861.07813889,  7053.73900659,  3073.66741407,  1566.68607718],\n",
       "       ...,\n",
       "       [25589.38559087, 11379.70781542,  4953.77710388,  2518.46221736],\n",
       "       [24686.10528462, 10979.52127377,  4780.22056143,  2430.83343824],\n",
       "       [30649.90995051, 13630.00982811,  5933.73413979,  3017.63312926]])"
      ]
     },
     "execution_count": 10,
     "metadata": {},
     "output_type": "execute_result"
    }
   ],
   "source": [
    "features = features.values\n",
    "features_transformed = features.dot(P)\n",
    "features_transformed"
   ]
  },
  {
   "cell_type": "code",
   "execution_count": 11,
   "metadata": {},
   "outputs": [],
   "source": [
    "train_features, valid_features, train_target, valid_target = train_test_split(features_transformed, target,\n",
    "                                                                              test_size=0.25, random_state=12345)"
   ]
  },
  {
   "cell_type": "code",
   "execution_count": 12,
   "metadata": {},
   "outputs": [
    {
     "name": "stdout",
     "output_type": "stream",
     "text": [
      "R-квадрат: 0.6058148129897009\n",
      "CPU times: user 7.69 ms, sys: 866 µs, total: 8.55 ms\n",
      "Wall time: 2.07 ms\n"
     ]
    }
   ],
   "source": [
    "%%time\n",
    "model = LinearRegression()\n",
    "model.fit(train_features, train_target)\n",
    "predictions_trans = model.predict(valid_features)\n",
    "r2_trans = r2_score(valid_target, predictions_trans)\n",
    "print('R-квадрат:', r2_trans)"
   ]
  },
  {
   "cell_type": "markdown",
   "metadata": {},
   "source": [
    "### Вывод:"
   ]
  },
  {
   "cell_type": "markdown",
   "metadata": {},
   "source": [
    "В данном пункте запрограммирован алгоритм шифрования данных с применением матричных операций. Метрикой R2 проверено качество моделей до и после преобразования данных."
   ]
  },
  {
   "cell_type": "code",
   "execution_count": 13,
   "metadata": {},
   "outputs": [
    {
     "data": {
      "text/html": [
       "<div>\n",
       "<style scoped>\n",
       "    .dataframe tbody tr th:only-of-type {\n",
       "        vertical-align: middle;\n",
       "    }\n",
       "\n",
       "    .dataframe tbody tr th {\n",
       "        vertical-align: top;\n",
       "    }\n",
       "\n",
       "    .dataframe thead th {\n",
       "        text-align: right;\n",
       "    }\n",
       "</style>\n",
       "<table border=\"1\" class=\"dataframe\">\n",
       "  <thead>\n",
       "    <tr style=\"text-align: right;\">\n",
       "      <th></th>\n",
       "      <th>метрика R2</th>\n",
       "    </tr>\n",
       "  </thead>\n",
       "  <tbody>\n",
       "    <tr>\n",
       "      <td>модель до преобразования</td>\n",
       "      <td>0.605815</td>\n",
       "    </tr>\n",
       "    <tr>\n",
       "      <td>модель после преобразования</td>\n",
       "      <td>0.605815</td>\n",
       "    </tr>\n",
       "  </tbody>\n",
       "</table>\n",
       "</div>"
      ],
      "text/plain": [
       "                             метрика R2\n",
       "модель до преобразования       0.605815\n",
       "модель после преобразования    0.605815"
      ]
     },
     "execution_count": 13,
     "metadata": {},
     "output_type": "execute_result"
    }
   ],
   "source": [
    "d = ({'метрика R2':[r2_skl, r2_trans]})\n",
    "df = pd.DataFrame(data=d, index=['модель до преобразования','модель после преобразования'])\n",
    "df"
   ]
  },
  {
   "cell_type": "markdown",
   "metadata": {},
   "source": [
    "Таблица выше говорит о том, что качество модели не менятся при преобразовании данных."
   ]
  },
  {
   "cell_type": "markdown",
   "metadata": {},
   "source": [
    "## Вывод:"
   ]
  },
  {
   "cell_type": "markdown",
   "metadata": {},
   "source": [
    "В ходе выполнения проекта о защите персональных данных клиента проведены следующие шаги:\n",
    "\n",
    "1) Загружены данные. Выявлены и удалены дубликаты значений, данные типа float переведены в int, названия всех столбцов переведены в нижний регистр, а также построены гистограммы на основе данных всех столбцов датафрейма.\n",
    "\n",
    "2) Обосновано утверждение, что при умножении матрицы признаков на случайную обратимую матрицу, качество линейной регрессии не изменится.\n",
    "\n",
    "3) Приведен алгоритм преобразования данных.\n",
    "\n",
    "4) Запрограммирован алгоритм шифрования данных с применением матричных операций. Метрикой R2 проверено качество моделей до и после преобразования данных и выяснено, что метрика качества не меняется и равна 0.61."
   ]
  }
 ],
 "metadata": {
  "ExecuteTimeLog": [
   {
    "duration": 1476,
    "start_time": "2021-08-18T17:19:10.310Z"
   },
   {
    "duration": 5,
    "start_time": "2021-08-18T17:19:11.788Z"
   },
   {
    "duration": 2410,
    "start_time": "2021-08-18T17:19:11.796Z"
   },
   {
    "duration": -844,
    "start_time": "2021-08-18T17:19:15.053Z"
   },
   {
    "duration": -844,
    "start_time": "2021-08-18T17:19:15.054Z"
   },
   {
    "duration": -844,
    "start_time": "2021-08-18T17:19:15.056Z"
   },
   {
    "duration": 1494,
    "start_time": "2021-08-18T17:19:50.795Z"
   },
   {
    "duration": 5,
    "start_time": "2021-08-18T17:19:52.291Z"
   },
   {
    "duration": 43,
    "start_time": "2021-08-18T17:19:52.299Z"
   },
   {
    "duration": 28,
    "start_time": "2021-08-18T17:19:52.345Z"
   },
   {
    "duration": 6,
    "start_time": "2021-08-18T17:19:52.375Z"
   },
   {
    "duration": 4433,
    "start_time": "2021-08-18T17:19:52.384Z"
   },
   {
    "duration": 5,
    "start_time": "2021-08-18T17:22:11.168Z"
   },
   {
    "duration": 651,
    "start_time": "2021-08-18T17:22:12.359Z"
   },
   {
    "duration": 74,
    "start_time": "2021-08-18T17:22:43.227Z"
   },
   {
    "duration": 519,
    "start_time": "2021-08-18T17:22:43.620Z"
   },
   {
    "duration": 6,
    "start_time": "2021-08-18T17:22:50.265Z"
   },
   {
    "duration": 540,
    "start_time": "2021-08-18T17:22:50.727Z"
   },
   {
    "duration": 5,
    "start_time": "2021-08-18T17:24:28.988Z"
   },
   {
    "duration": 528,
    "start_time": "2021-08-18T17:24:29.347Z"
   },
   {
    "duration": 4,
    "start_time": "2021-08-18T17:24:52.760Z"
   },
   {
    "duration": 2850,
    "start_time": "2021-08-18T17:24:53.827Z"
   },
   {
    "duration": 5,
    "start_time": "2021-08-18T17:25:13.827Z"
   },
   {
    "duration": 3090,
    "start_time": "2021-08-18T17:25:15.740Z"
   },
   {
    "duration": 5,
    "start_time": "2021-08-18T17:25:44.247Z"
   },
   {
    "duration": 3084,
    "start_time": "2021-08-18T17:25:45.339Z"
   },
   {
    "duration": 4,
    "start_time": "2021-08-18T17:26:44.289Z"
   },
   {
    "duration": 3198,
    "start_time": "2021-08-18T17:26:44.540Z"
   },
   {
    "duration": 5,
    "start_time": "2021-08-18T17:27:49.936Z"
   },
   {
    "duration": 544,
    "start_time": "2021-08-18T17:27:50.307Z"
   },
   {
    "duration": 5,
    "start_time": "2021-08-18T17:28:08.589Z"
   },
   {
    "duration": 3166,
    "start_time": "2021-08-18T17:28:09.367Z"
   },
   {
    "duration": 5,
    "start_time": "2021-08-18T17:44:14.488Z"
   },
   {
    "duration": 4,
    "start_time": "2021-08-18T18:03:07.440Z"
   },
   {
    "duration": 5,
    "start_time": "2021-08-18T18:06:30.159Z"
   },
   {
    "duration": 486,
    "start_time": "2021-08-18T18:59:36.447Z"
   },
   {
    "duration": 1527,
    "start_time": "2021-08-18T19:00:25.633Z"
   },
   {
    "duration": 5,
    "start_time": "2021-08-18T19:00:27.163Z"
   },
   {
    "duration": 43,
    "start_time": "2021-08-18T19:00:27.171Z"
   },
   {
    "duration": 7,
    "start_time": "2021-08-18T19:00:27.217Z"
   },
   {
    "duration": 5,
    "start_time": "2021-08-18T19:00:27.227Z"
   },
   {
    "duration": 3191,
    "start_time": "2021-08-18T19:00:27.234Z"
   },
   {
    "duration": 6,
    "start_time": "2021-08-18T19:00:30.427Z"
   },
   {
    "duration": 403,
    "start_time": "2021-08-18T19:00:30.436Z"
   },
   {
    "duration": 7,
    "start_time": "2021-08-18T19:01:04.036Z"
   },
   {
    "duration": 491,
    "start_time": "2021-08-18T19:01:04.684Z"
   },
   {
    "duration": 15,
    "start_time": "2021-08-18T19:01:21.195Z"
   },
   {
    "duration": 5,
    "start_time": "2021-08-18T19:01:21.443Z"
   },
   {
    "duration": 3376,
    "start_time": "2021-08-18T19:01:21.635Z"
   },
   {
    "duration": 6,
    "start_time": "2021-08-18T19:01:25.014Z"
   },
   {
    "duration": 437,
    "start_time": "2021-08-18T19:01:25.024Z"
   },
   {
    "duration": 621,
    "start_time": "2021-08-18T19:04:15.964Z"
   },
   {
    "duration": 448,
    "start_time": "2021-08-18T19:04:24.155Z"
   },
   {
    "duration": 239,
    "start_time": "2021-08-18T19:05:31.564Z"
   },
   {
    "duration": 5,
    "start_time": "2021-08-18T19:05:38.943Z"
   },
   {
    "duration": 6,
    "start_time": "2021-08-18T19:05:47.216Z"
   },
   {
    "duration": 274,
    "start_time": "2021-08-18T19:06:05.509Z"
   },
   {
    "duration": 297,
    "start_time": "2021-08-18T19:06:32.836Z"
   },
   {
    "duration": 8,
    "start_time": "2021-08-18T19:06:46.095Z"
   },
   {
    "duration": 7,
    "start_time": "2021-08-18T19:06:55.772Z"
   },
   {
    "duration": 6,
    "start_time": "2021-08-18T19:10:42.515Z"
   },
   {
    "duration": 5,
    "start_time": "2021-08-18T19:11:11.715Z"
   },
   {
    "duration": 613,
    "start_time": "2021-08-18T19:11:29.082Z"
   },
   {
    "duration": 277,
    "start_time": "2021-08-18T19:11:57.023Z"
   },
   {
    "duration": 604,
    "start_time": "2021-08-18T19:12:16.445Z"
   },
   {
    "duration": 653,
    "start_time": "2021-08-18T19:12:33.082Z"
   },
   {
    "duration": 440,
    "start_time": "2021-08-18T19:12:55.083Z"
   },
   {
    "duration": 1465,
    "start_time": "2021-08-19T09:05:03.694Z"
   },
   {
    "duration": 5,
    "start_time": "2021-08-19T09:05:05.162Z"
   },
   {
    "duration": 55,
    "start_time": "2021-08-19T09:05:05.170Z"
   },
   {
    "duration": 12,
    "start_time": "2021-08-19T09:05:05.228Z"
   },
   {
    "duration": 5,
    "start_time": "2021-08-19T09:05:05.254Z"
   },
   {
    "duration": 2950,
    "start_time": "2021-08-19T09:05:05.261Z"
   },
   {
    "duration": 6,
    "start_time": "2021-08-19T09:05:08.213Z"
   },
   {
    "duration": 34,
    "start_time": "2021-08-19T09:05:08.222Z"
   },
   {
    "duration": 7,
    "start_time": "2021-08-19T09:05:08.260Z"
   },
   {
    "duration": 643,
    "start_time": "2021-08-19T09:05:08.271Z"
   },
   {
    "duration": 60,
    "start_time": "2021-08-19T09:15:54.910Z"
   },
   {
    "duration": 6,
    "start_time": "2021-08-19T10:32:22.673Z"
   },
   {
    "duration": 34,
    "start_time": "2021-08-19T10:32:23.333Z"
   },
   {
    "duration": 15,
    "start_time": "2021-08-19T10:32:26.711Z"
   },
   {
    "duration": 7,
    "start_time": "2021-08-19T10:33:31.043Z"
   },
   {
    "duration": 86,
    "start_time": "2021-08-19T10:33:31.471Z"
   },
   {
    "duration": 19,
    "start_time": "2021-08-19T10:33:33.632Z"
   },
   {
    "duration": 17,
    "start_time": "2021-08-19T10:35:14.382Z"
   },
   {
    "duration": 22,
    "start_time": "2021-08-19T10:35:15.600Z"
   },
   {
    "duration": 20,
    "start_time": "2021-08-19T10:35:17.591Z"
   },
   {
    "duration": 1107,
    "start_time": "2021-08-20T06:05:06.187Z"
   },
   {
    "duration": 3,
    "start_time": "2021-08-20T06:05:07.296Z"
   },
   {
    "duration": 36,
    "start_time": "2021-08-20T06:05:07.301Z"
   },
   {
    "duration": 8,
    "start_time": "2021-08-20T06:05:07.338Z"
   },
   {
    "duration": 3,
    "start_time": "2021-08-20T06:05:07.348Z"
   },
   {
    "duration": 1939,
    "start_time": "2021-08-20T06:05:07.353Z"
   },
   {
    "duration": 4,
    "start_time": "2021-08-20T06:05:09.294Z"
   },
   {
    "duration": 13,
    "start_time": "2021-08-20T06:05:09.300Z"
   },
   {
    "duration": 69,
    "start_time": "2021-08-20T06:05:09.315Z"
   },
   {
    "duration": 103,
    "start_time": "2021-08-20T06:05:09.386Z"
   },
   {
    "duration": 1502,
    "start_time": "2021-08-21T06:19:05.596Z"
   },
   {
    "duration": 5,
    "start_time": "2021-08-21T06:19:07.101Z"
   },
   {
    "duration": 54,
    "start_time": "2021-08-21T06:19:07.108Z"
   },
   {
    "duration": 11,
    "start_time": "2021-08-21T06:19:07.164Z"
   },
   {
    "duration": 5,
    "start_time": "2021-08-21T06:19:07.178Z"
   },
   {
    "duration": 3029,
    "start_time": "2021-08-21T06:19:07.185Z"
   },
   {
    "duration": 9,
    "start_time": "2021-08-21T06:19:10.217Z"
   },
   {
    "duration": 433,
    "start_time": "2021-08-21T06:19:10.229Z"
   },
   {
    "duration": -811,
    "start_time": "2021-08-21T06:19:11.475Z"
   },
   {
    "duration": -816,
    "start_time": "2021-08-21T06:19:11.482Z"
   },
   {
    "duration": -820,
    "start_time": "2021-08-21T06:19:11.487Z"
   },
   {
    "duration": 1511,
    "start_time": "2021-08-21T06:19:43.981Z"
   },
   {
    "duration": 5,
    "start_time": "2021-08-21T06:19:45.495Z"
   },
   {
    "duration": 47,
    "start_time": "2021-08-21T06:19:45.503Z"
   },
   {
    "duration": 21,
    "start_time": "2021-08-21T06:19:45.552Z"
   },
   {
    "duration": 5,
    "start_time": "2021-08-21T06:19:45.575Z"
   },
   {
    "duration": 3088,
    "start_time": "2021-08-21T06:19:45.582Z"
   },
   {
    "duration": 9,
    "start_time": "2021-08-21T06:19:48.672Z"
   },
   {
    "duration": 406,
    "start_time": "2021-08-21T06:19:48.683Z"
   },
   {
    "duration": -734,
    "start_time": "2021-08-21T06:19:49.826Z"
   },
   {
    "duration": -737,
    "start_time": "2021-08-21T06:19:49.830Z"
   },
   {
    "duration": -739,
    "start_time": "2021-08-21T06:19:49.833Z"
   },
   {
    "duration": 1665,
    "start_time": "2021-08-21T06:20:10.930Z"
   },
   {
    "duration": 4,
    "start_time": "2021-08-21T06:20:12.598Z"
   },
   {
    "duration": 57,
    "start_time": "2021-08-21T06:20:12.605Z"
   },
   {
    "duration": 11,
    "start_time": "2021-08-21T06:20:12.665Z"
   },
   {
    "duration": 4,
    "start_time": "2021-08-21T06:20:12.679Z"
   },
   {
    "duration": 3085,
    "start_time": "2021-08-21T06:20:12.685Z"
   },
   {
    "duration": 9,
    "start_time": "2021-08-21T06:20:15.773Z"
   },
   {
    "duration": 418,
    "start_time": "2021-08-21T06:20:15.785Z"
   },
   {
    "duration": -671,
    "start_time": "2021-08-21T06:20:16.877Z"
   },
   {
    "duration": -677,
    "start_time": "2021-08-21T06:20:16.885Z"
   },
   {
    "duration": -679,
    "start_time": "2021-08-21T06:20:16.888Z"
   },
   {
    "duration": 1578,
    "start_time": "2021-08-21T06:31:19.825Z"
   },
   {
    "duration": 5,
    "start_time": "2021-08-21T06:31:21.406Z"
   },
   {
    "duration": 53,
    "start_time": "2021-08-21T06:31:21.415Z"
   },
   {
    "duration": 12,
    "start_time": "2021-08-21T06:31:21.471Z"
   },
   {
    "duration": 5,
    "start_time": "2021-08-21T06:31:21.486Z"
   },
   {
    "duration": 3177,
    "start_time": "2021-08-21T06:31:21.494Z"
   },
   {
    "duration": 10,
    "start_time": "2021-08-21T06:31:24.673Z"
   },
   {
    "duration": 12,
    "start_time": "2021-08-21T06:31:24.686Z"
   },
   {
    "duration": 8,
    "start_time": "2021-08-21T06:31:24.703Z"
   },
   {
    "duration": 64,
    "start_time": "2021-08-21T06:31:24.714Z"
   },
   {
    "duration": 195,
    "start_time": "2021-08-21T06:31:24.781Z"
   },
   {
    "duration": 531,
    "start_time": "2021-08-21T06:32:14.168Z"
   },
   {
    "duration": 421,
    "start_time": "2021-08-21T06:32:30.397Z"
   },
   {
    "duration": 373,
    "start_time": "2021-08-21T06:32:35.016Z"
   },
   {
    "duration": 380,
    "start_time": "2021-08-21T06:33:01.716Z"
   },
   {
    "duration": 1570,
    "start_time": "2021-08-21T06:33:29.343Z"
   },
   {
    "duration": 5,
    "start_time": "2021-08-21T06:33:30.916Z"
   },
   {
    "duration": 64,
    "start_time": "2021-08-21T06:33:30.924Z"
   },
   {
    "duration": 12,
    "start_time": "2021-08-21T06:33:30.991Z"
   },
   {
    "duration": 11,
    "start_time": "2021-08-21T06:33:31.005Z"
   },
   {
    "duration": 3274,
    "start_time": "2021-08-21T06:33:31.018Z"
   },
   {
    "duration": 9,
    "start_time": "2021-08-21T06:33:34.294Z"
   },
   {
    "duration": 75,
    "start_time": "2021-08-21T06:33:34.305Z"
   },
   {
    "duration": 9,
    "start_time": "2021-08-21T06:33:34.469Z"
   },
   {
    "duration": 93,
    "start_time": "2021-08-21T06:33:34.480Z"
   },
   {
    "duration": 193,
    "start_time": "2021-08-21T06:33:34.576Z"
   },
   {
    "duration": 1602,
    "start_time": "2021-08-21T06:35:27.144Z"
   },
   {
    "duration": 6,
    "start_time": "2021-08-21T06:35:28.749Z"
   },
   {
    "duration": 43,
    "start_time": "2021-08-21T06:35:28.768Z"
   },
   {
    "duration": 12,
    "start_time": "2021-08-21T06:35:28.815Z"
   },
   {
    "duration": 4,
    "start_time": "2021-08-21T06:35:28.830Z"
   },
   {
    "duration": 3285,
    "start_time": "2021-08-21T06:35:28.837Z"
   },
   {
    "duration": 9,
    "start_time": "2021-08-21T06:35:32.125Z"
   },
   {
    "duration": 12,
    "start_time": "2021-08-21T06:35:32.136Z"
   },
   {
    "duration": 8,
    "start_time": "2021-08-21T06:35:32.168Z"
   },
   {
    "duration": 17,
    "start_time": "2021-08-21T06:35:32.180Z"
   },
   {
    "duration": 100,
    "start_time": "2021-08-21T06:35:32.199Z"
   },
   {
    "duration": 1511,
    "start_time": "2021-08-21T06:36:51.781Z"
   },
   {
    "duration": 5,
    "start_time": "2021-08-21T06:36:53.295Z"
   },
   {
    "duration": 43,
    "start_time": "2021-08-21T06:36:53.303Z"
   },
   {
    "duration": 26,
    "start_time": "2021-08-21T06:36:53.349Z"
   },
   {
    "duration": 5,
    "start_time": "2021-08-21T06:36:53.378Z"
   },
   {
    "duration": 3042,
    "start_time": "2021-08-21T06:36:53.385Z"
   },
   {
    "duration": 10,
    "start_time": "2021-08-21T06:36:56.429Z"
   },
   {
    "duration": 31,
    "start_time": "2021-08-21T06:36:56.441Z"
   },
   {
    "duration": 8,
    "start_time": "2021-08-21T06:36:56.475Z"
   },
   {
    "duration": 14,
    "start_time": "2021-08-21T06:36:56.485Z"
   },
   {
    "duration": 111,
    "start_time": "2021-08-21T06:36:56.502Z"
   },
   {
    "duration": 6,
    "start_time": "2021-08-21T08:50:34.247Z"
   },
   {
    "duration": 5,
    "start_time": "2021-08-21T08:53:35.454Z"
   },
   {
    "duration": 5,
    "start_time": "2021-08-21T08:54:08.698Z"
   },
   {
    "duration": 4,
    "start_time": "2021-08-21T08:54:16.483Z"
   },
   {
    "duration": 6,
    "start_time": "2021-08-21T08:54:42.313Z"
   },
   {
    "duration": 5,
    "start_time": "2021-08-21T08:54:43.481Z"
   },
   {
    "duration": 1506,
    "start_time": "2021-08-21T08:55:39.589Z"
   },
   {
    "duration": 5,
    "start_time": "2021-08-21T08:55:41.098Z"
   },
   {
    "duration": 43,
    "start_time": "2021-08-21T08:55:41.107Z"
   },
   {
    "duration": 14,
    "start_time": "2021-08-21T08:55:41.166Z"
   },
   {
    "duration": 6,
    "start_time": "2021-08-21T08:55:41.183Z"
   },
   {
    "duration": 3075,
    "start_time": "2021-08-21T08:55:41.192Z"
   },
   {
    "duration": 10,
    "start_time": "2021-08-21T08:55:44.269Z"
   },
   {
    "duration": 14,
    "start_time": "2021-08-21T08:55:44.281Z"
   },
   {
    "duration": 8,
    "start_time": "2021-08-21T08:55:44.299Z"
   },
   {
    "duration": 26,
    "start_time": "2021-08-21T08:55:44.310Z"
   },
   {
    "duration": 134,
    "start_time": "2021-08-21T08:55:44.338Z"
   },
   {
    "duration": 92,
    "start_time": "2021-08-21T08:55:44.476Z"
   },
   {
    "duration": 9,
    "start_time": "2021-08-21T08:55:44.571Z"
   },
   {
    "duration": 85,
    "start_time": "2021-08-21T08:55:44.582Z"
   },
   {
    "duration": 21,
    "start_time": "2021-08-21T08:56:44.943Z"
   },
   {
    "duration": 15,
    "start_time": "2021-08-21T08:56:53.144Z"
   },
   {
    "duration": 14,
    "start_time": "2021-08-21T08:56:57.602Z"
   },
   {
    "duration": 6,
    "start_time": "2021-08-21T08:58:00.157Z"
   },
   {
    "duration": 7,
    "start_time": "2021-08-21T08:59:02.602Z"
   },
   {
    "duration": 5,
    "start_time": "2021-08-21T08:59:34.902Z"
   },
   {
    "duration": 24,
    "start_time": "2021-08-21T08:59:59.415Z"
   },
   {
    "duration": 17,
    "start_time": "2021-08-21T09:00:08.491Z"
   },
   {
    "duration": 15,
    "start_time": "2021-08-21T09:00:18.003Z"
   },
   {
    "duration": 76,
    "start_time": "2021-08-21T09:05:32.718Z"
   },
   {
    "duration": 17,
    "start_time": "2021-08-21T09:05:37.626Z"
   },
   {
    "duration": 16,
    "start_time": "2021-08-21T09:05:51.930Z"
   },
   {
    "duration": 15,
    "start_time": "2021-08-21T09:06:56.830Z"
   },
   {
    "duration": 18,
    "start_time": "2021-08-21T09:07:30.928Z"
   },
   {
    "duration": 15,
    "start_time": "2021-08-21T09:12:38.563Z"
   },
   {
    "duration": 13,
    "start_time": "2021-08-21T09:13:11.884Z"
   },
   {
    "duration": 13,
    "start_time": "2021-08-21T09:13:25.682Z"
   },
   {
    "duration": 16,
    "start_time": "2021-08-21T09:13:33.022Z"
   },
   {
    "duration": 21,
    "start_time": "2021-08-21T09:13:39.128Z"
   },
   {
    "duration": 6,
    "start_time": "2021-08-21T10:08:39.623Z"
   },
   {
    "duration": 5,
    "start_time": "2021-08-21T10:09:21.971Z"
   },
   {
    "duration": 5,
    "start_time": "2021-08-21T10:09:43.710Z"
   },
   {
    "duration": 5,
    "start_time": "2021-08-21T10:10:10.191Z"
   },
   {
    "duration": 5,
    "start_time": "2021-08-21T10:10:15.858Z"
   },
   {
    "duration": 5,
    "start_time": "2021-08-21T10:10:33.050Z"
   },
   {
    "duration": 5,
    "start_time": "2021-08-21T10:10:41.191Z"
   },
   {
    "duration": 6,
    "start_time": "2021-08-21T10:13:05.834Z"
   },
   {
    "duration": 7,
    "start_time": "2021-08-21T10:13:48.411Z"
   },
   {
    "duration": 5,
    "start_time": "2021-08-21T10:15:04.249Z"
   },
   {
    "duration": 13,
    "start_time": "2021-08-21T10:15:37.070Z"
   },
   {
    "duration": 16,
    "start_time": "2021-08-21T10:15:46.250Z"
   },
   {
    "duration": 17,
    "start_time": "2021-08-21T10:16:41.690Z"
   },
   {
    "duration": 6,
    "start_time": "2021-08-21T10:16:46.944Z"
   },
   {
    "duration": 15,
    "start_time": "2021-08-21T10:17:05.710Z"
   },
   {
    "duration": 9,
    "start_time": "2021-08-21T10:20:17.250Z"
   },
   {
    "duration": 10,
    "start_time": "2021-08-21T10:20:30.250Z"
   },
   {
    "duration": 11,
    "start_time": "2021-08-21T10:21:16.170Z"
   },
   {
    "duration": 11,
    "start_time": "2021-08-21T10:21:32.699Z"
   },
   {
    "duration": 13,
    "start_time": "2021-08-21T10:21:40.210Z"
   },
   {
    "duration": 9,
    "start_time": "2021-08-21T10:22:28.490Z"
   },
   {
    "duration": 10,
    "start_time": "2021-08-21T10:23:02.330Z"
   },
   {
    "duration": 504,
    "start_time": "2021-08-21T10:23:43.570Z"
   },
   {
    "duration": 10,
    "start_time": "2021-08-21T10:23:50.690Z"
   },
   {
    "duration": 10,
    "start_time": "2021-08-21T10:23:58.590Z"
   },
   {
    "duration": 5,
    "start_time": "2021-08-21T10:24:15.795Z"
   },
   {
    "duration": 7,
    "start_time": "2021-08-21T10:27:43.571Z"
   },
   {
    "duration": 8,
    "start_time": "2021-08-21T10:28:05.931Z"
   },
   {
    "duration": 1572,
    "start_time": "2021-08-21T10:32:01.230Z"
   },
   {
    "duration": 5,
    "start_time": "2021-08-21T10:32:02.805Z"
   },
   {
    "duration": 45,
    "start_time": "2021-08-21T10:32:02.813Z"
   },
   {
    "duration": 12,
    "start_time": "2021-08-21T10:32:02.867Z"
   },
   {
    "duration": 5,
    "start_time": "2021-08-21T10:32:02.881Z"
   },
   {
    "duration": 3519,
    "start_time": "2021-08-21T10:32:02.889Z"
   },
   {
    "duration": 9,
    "start_time": "2021-08-21T10:32:06.410Z"
   },
   {
    "duration": 29,
    "start_time": "2021-08-21T10:32:06.421Z"
   },
   {
    "duration": 24,
    "start_time": "2021-08-21T10:32:06.453Z"
   },
   {
    "duration": 101,
    "start_time": "2021-08-21T10:32:06.479Z"
   },
   {
    "duration": 11,
    "start_time": "2021-08-21T10:32:06.667Z"
   },
   {
    "duration": 12,
    "start_time": "2021-08-21T10:33:52.484Z"
   },
   {
    "duration": 8,
    "start_time": "2021-08-21T10:33:53.771Z"
   },
   {
    "duration": 5,
    "start_time": "2021-08-21T10:34:03.841Z"
   },
   {
    "duration": 8,
    "start_time": "2021-08-21T10:34:17.124Z"
   },
   {
    "duration": 6,
    "start_time": "2021-08-21T10:34:29.430Z"
   },
   {
    "duration": 412,
    "start_time": "2021-08-21T10:35:02.931Z"
   },
   {
    "duration": 106,
    "start_time": "2021-08-21T10:35:06.665Z"
   },
   {
    "duration": 9,
    "start_time": "2021-08-21T10:35:09.531Z"
   },
   {
    "duration": 9,
    "start_time": "2021-08-21T10:35:23.303Z"
   },
   {
    "duration": 9,
    "start_time": "2021-08-21T10:35:42.163Z"
   },
   {
    "duration": 11,
    "start_time": "2021-08-21T10:35:50.983Z"
   },
   {
    "duration": 10,
    "start_time": "2021-08-21T10:36:43.312Z"
   },
   {
    "duration": 7,
    "start_time": "2021-08-21T10:37:03.332Z"
   },
   {
    "duration": 7,
    "start_time": "2021-08-21T10:37:09.092Z"
   },
   {
    "duration": 6,
    "start_time": "2021-08-21T10:37:16.963Z"
   },
   {
    "duration": 5,
    "start_time": "2021-08-21T10:37:21.043Z"
   },
   {
    "duration": 5,
    "start_time": "2021-08-21T10:37:31.053Z"
   },
   {
    "duration": 7,
    "start_time": "2021-08-21T10:38:07.892Z"
   },
   {
    "duration": 8,
    "start_time": "2021-08-21T10:38:43.571Z"
   },
   {
    "duration": 8,
    "start_time": "2021-08-21T10:38:56.751Z"
   },
   {
    "duration": 7,
    "start_time": "2021-08-21T10:39:00.952Z"
   },
   {
    "duration": 7,
    "start_time": "2021-08-21T10:39:04.412Z"
   },
   {
    "duration": 8,
    "start_time": "2021-08-21T10:39:18.872Z"
   },
   {
    "duration": 8,
    "start_time": "2021-08-21T10:39:24.731Z"
   },
   {
    "duration": 9,
    "start_time": "2021-08-21T10:39:27.964Z"
   },
   {
    "duration": 7,
    "start_time": "2021-08-21T10:39:30.864Z"
   },
   {
    "duration": 7,
    "start_time": "2021-08-21T10:39:41.222Z"
   },
   {
    "duration": 9,
    "start_time": "2021-08-21T10:39:47.203Z"
   },
   {
    "duration": 7,
    "start_time": "2021-08-21T10:40:07.432Z"
   },
   {
    "duration": 9,
    "start_time": "2021-08-21T10:40:35.571Z"
   },
   {
    "duration": 4,
    "start_time": "2021-08-21T10:42:34.451Z"
   },
   {
    "duration": 11,
    "start_time": "2021-08-21T10:51:41.171Z"
   },
   {
    "duration": 11,
    "start_time": "2021-08-21T10:51:56.611Z"
   },
   {
    "duration": 11,
    "start_time": "2021-08-21T10:52:00.651Z"
   },
   {
    "duration": 12,
    "start_time": "2021-08-21T10:52:09.723Z"
   },
   {
    "duration": 13,
    "start_time": "2021-08-21T10:52:31.411Z"
   },
   {
    "duration": 13,
    "start_time": "2021-08-21T10:52:36.592Z"
   },
   {
    "duration": 13,
    "start_time": "2021-08-21T10:52:41.291Z"
   },
   {
    "duration": 13,
    "start_time": "2021-08-21T10:52:46.451Z"
   },
   {
    "duration": 8,
    "start_time": "2021-08-21T10:54:03.043Z"
   },
   {
    "duration": 8,
    "start_time": "2021-08-21T10:57:17.331Z"
   },
   {
    "duration": 1522,
    "start_time": "2021-08-21T13:17:04.377Z"
   },
   {
    "duration": 5,
    "start_time": "2021-08-21T13:17:05.902Z"
   },
   {
    "duration": 50,
    "start_time": "2021-08-21T13:17:05.909Z"
   },
   {
    "duration": 16,
    "start_time": "2021-08-21T13:17:05.962Z"
   },
   {
    "duration": 5,
    "start_time": "2021-08-21T13:17:05.980Z"
   },
   {
    "duration": 3153,
    "start_time": "2021-08-21T13:17:05.988Z"
   },
   {
    "duration": 24,
    "start_time": "2021-08-21T13:17:09.143Z"
   },
   {
    "duration": 10,
    "start_time": "2021-08-21T13:17:09.170Z"
   },
   {
    "duration": 122,
    "start_time": "2021-08-21T13:17:09.182Z"
   },
   {
    "duration": 69,
    "start_time": "2021-08-21T13:17:09.307Z"
   },
   {
    "duration": 8,
    "start_time": "2021-08-21T13:17:09.467Z"
   },
   {
    "duration": 415,
    "start_time": "2021-08-21T13:18:03.611Z"
   },
   {
    "duration": 5,
    "start_time": "2021-08-21T13:18:20.799Z"
   },
   {
    "duration": 7,
    "start_time": "2021-08-21T13:43:54.920Z"
   },
   {
    "duration": 224,
    "start_time": "2021-08-21T13:44:13.412Z"
   },
   {
    "duration": 5,
    "start_time": "2021-08-21T13:45:33.409Z"
   },
   {
    "duration": 222,
    "start_time": "2021-08-21T13:45:53.849Z"
   },
   {
    "duration": 264,
    "start_time": "2021-08-21T13:46:01.491Z"
   },
   {
    "duration": 269,
    "start_time": "2021-08-21T13:46:42.118Z"
   },
   {
    "duration": 215,
    "start_time": "2021-08-21T13:46:49.227Z"
   },
   {
    "duration": 7,
    "start_time": "2021-08-21T13:47:00.955Z"
   },
   {
    "duration": 230,
    "start_time": "2021-08-21T13:47:18.750Z"
   },
   {
    "duration": 1524,
    "start_time": "2021-08-22T04:59:32.778Z"
   },
   {
    "duration": 5,
    "start_time": "2021-08-22T04:59:34.305Z"
   },
   {
    "duration": 55,
    "start_time": "2021-08-22T04:59:34.313Z"
   },
   {
    "duration": 13,
    "start_time": "2021-08-22T04:59:34.371Z"
   },
   {
    "duration": 4,
    "start_time": "2021-08-22T04:59:34.387Z"
   },
   {
    "duration": 3043,
    "start_time": "2021-08-22T04:59:34.394Z"
   },
   {
    "duration": 23,
    "start_time": "2021-08-22T04:59:37.439Z"
   },
   {
    "duration": 12,
    "start_time": "2021-08-22T04:59:37.465Z"
   },
   {
    "duration": 183,
    "start_time": "2021-08-22T04:59:37.479Z"
   },
   {
    "duration": 11,
    "start_time": "2021-08-22T04:59:37.665Z"
   },
   {
    "duration": 8,
    "start_time": "2021-08-22T04:59:37.764Z"
   },
   {
    "duration": 12,
    "start_time": "2021-08-22T04:59:37.775Z"
   },
   {
    "duration": 6,
    "start_time": "2021-08-22T05:02:06.253Z"
   },
   {
    "duration": 1676,
    "start_time": "2021-08-22T05:14:28.586Z"
   },
   {
    "duration": 6,
    "start_time": "2021-08-22T05:14:30.264Z"
   },
   {
    "duration": 72,
    "start_time": "2021-08-22T05:14:30.273Z"
   },
   {
    "duration": 21,
    "start_time": "2021-08-22T05:14:30.348Z"
   },
   {
    "duration": 6,
    "start_time": "2021-08-22T05:14:30.372Z"
   },
   {
    "duration": 3020,
    "start_time": "2021-08-22T05:14:30.380Z"
   },
   {
    "duration": 10,
    "start_time": "2021-08-22T05:14:33.402Z"
   },
   {
    "duration": 16,
    "start_time": "2021-08-22T05:14:33.416Z"
   },
   {
    "duration": 133,
    "start_time": "2021-08-22T05:14:33.435Z"
   },
   {
    "duration": 93,
    "start_time": "2021-08-22T05:14:33.572Z"
   },
   {
    "duration": 10,
    "start_time": "2021-08-22T05:14:33.669Z"
   },
   {
    "duration": 10,
    "start_time": "2021-08-22T05:14:33.681Z"
   },
   {
    "duration": 5,
    "start_time": "2021-08-22T05:14:33.762Z"
   },
   {
    "duration": 11,
    "start_time": "2021-08-22T05:14:33.769Z"
   },
   {
    "duration": 1679,
    "start_time": "2021-08-22T05:15:20.023Z"
   },
   {
    "duration": 7,
    "start_time": "2021-08-22T05:15:21.705Z"
   },
   {
    "duration": 106,
    "start_time": "2021-08-22T05:15:21.716Z"
   },
   {
    "duration": 37,
    "start_time": "2021-08-22T05:15:21.826Z"
   },
   {
    "duration": 6,
    "start_time": "2021-08-22T05:15:21.866Z"
   },
   {
    "duration": 3138,
    "start_time": "2021-08-22T05:15:21.875Z"
   },
   {
    "duration": 9,
    "start_time": "2021-08-22T05:15:25.016Z"
   },
   {
    "duration": 13,
    "start_time": "2021-08-22T05:15:25.028Z"
   },
   {
    "duration": 111,
    "start_time": "2021-08-22T05:15:25.063Z"
   },
   {
    "duration": 93,
    "start_time": "2021-08-22T05:15:25.177Z"
   },
   {
    "duration": 96,
    "start_time": "2021-08-22T05:15:25.273Z"
   },
   {
    "duration": 14,
    "start_time": "2021-08-22T05:15:25.372Z"
   },
   {
    "duration": 6,
    "start_time": "2021-08-22T05:15:25.389Z"
   },
   {
    "duration": 13,
    "start_time": "2021-08-22T05:15:25.398Z"
   },
   {
    "duration": 1938,
    "start_time": "2021-08-25T11:35:31.258Z"
   },
   {
    "duration": 6,
    "start_time": "2021-08-25T11:35:33.200Z"
   },
   {
    "duration": 106,
    "start_time": "2021-08-25T11:35:33.211Z"
   },
   {
    "duration": 11,
    "start_time": "2021-08-25T11:35:33.320Z"
   },
   {
    "duration": 23,
    "start_time": "2021-08-25T11:35:33.334Z"
   },
   {
    "duration": 4335,
    "start_time": "2021-08-25T11:35:33.360Z"
   },
   {
    "duration": 13,
    "start_time": "2021-08-25T11:35:37.699Z"
   },
   {
    "duration": 22,
    "start_time": "2021-08-25T11:35:37.715Z"
   },
   {
    "duration": 130,
    "start_time": "2021-08-25T11:35:37.741Z"
   },
   {
    "duration": 83,
    "start_time": "2021-08-25T11:35:37.879Z"
   },
   {
    "duration": 19,
    "start_time": "2021-08-25T11:35:37.966Z"
   },
   {
    "duration": 68,
    "start_time": "2021-08-25T11:35:37.990Z"
   },
   {
    "duration": 18,
    "start_time": "2021-08-25T11:35:38.062Z"
   },
   {
    "duration": 12,
    "start_time": "2021-08-25T11:35:38.084Z"
   },
   {
    "duration": 8,
    "start_time": "2021-08-25T11:37:35.794Z"
   },
   {
    "duration": 9,
    "start_time": "2021-08-25T11:37:54.346Z"
   },
   {
    "duration": 746,
    "start_time": "2021-08-25T13:05:01.574Z"
   },
   {
    "duration": 22,
    "start_time": "2021-08-25T13:05:02.374Z"
   },
   {
    "duration": 1630,
    "start_time": "2021-08-25T13:05:11.579Z"
   },
   {
    "duration": 11,
    "start_time": "2021-08-25T13:05:13.212Z"
   },
   {
    "duration": 143,
    "start_time": "2021-08-25T13:05:13.227Z"
   },
   {
    "duration": 14,
    "start_time": "2021-08-25T13:05:13.374Z"
   },
   {
    "duration": 30,
    "start_time": "2021-08-25T13:05:13.391Z"
   },
   {
    "duration": 27,
    "start_time": "2021-08-25T13:05:13.423Z"
   },
   {
    "duration": 3386,
    "start_time": "2021-08-25T13:05:13.453Z"
   },
   {
    "duration": 20,
    "start_time": "2021-08-25T13:05:16.841Z"
   },
   {
    "duration": 24,
    "start_time": "2021-08-25T13:05:16.866Z"
   },
   {
    "duration": 62,
    "start_time": "2021-08-25T13:05:16.893Z"
   },
   {
    "duration": 12,
    "start_time": "2021-08-25T13:05:16.958Z"
   },
   {
    "duration": 82,
    "start_time": "2021-08-25T13:05:16.974Z"
   },
   {
    "duration": 107,
    "start_time": "2021-08-25T13:05:17.060Z"
   },
   {
    "duration": 6,
    "start_time": "2021-08-25T13:05:17.173Z"
   },
   {
    "duration": 8,
    "start_time": "2021-08-25T13:05:17.182Z"
   },
   {
    "duration": 1413,
    "start_time": "2021-08-26T10:16:19.649Z"
   },
   {
    "duration": 5,
    "start_time": "2021-08-26T10:16:21.064Z"
   },
   {
    "duration": 104,
    "start_time": "2021-08-26T10:16:21.074Z"
   },
   {
    "duration": 15,
    "start_time": "2021-08-26T10:16:21.181Z"
   },
   {
    "duration": 8,
    "start_time": "2021-08-26T10:16:21.682Z"
   },
   {
    "duration": 5,
    "start_time": "2021-08-26T10:16:22.201Z"
   },
   {
    "duration": 2969,
    "start_time": "2021-08-26T10:16:24.121Z"
   },
   {
    "duration": 5,
    "start_time": "2021-08-26T10:17:27.143Z"
   },
   {
    "duration": 6,
    "start_time": "2021-08-26T10:17:27.402Z"
   },
   {
    "duration": 63,
    "start_time": "2021-08-26T10:17:28.073Z"
   },
   {
    "duration": 17,
    "start_time": "2021-08-26T10:17:31.082Z"
   },
   {
    "duration": 5,
    "start_time": "2021-08-26T10:17:36.924Z"
   },
   {
    "duration": 2996,
    "start_time": "2021-08-26T10:17:38.084Z"
   },
   {
    "duration": 9,
    "start_time": "2021-08-26T10:17:46.170Z"
   },
   {
    "duration": 9,
    "start_time": "2021-08-26T10:17:46.658Z"
   },
   {
    "duration": 20,
    "start_time": "2021-08-26T10:17:47.442Z"
   },
   {
    "duration": 13,
    "start_time": "2021-08-26T10:17:50.301Z"
   },
   {
    "duration": 8,
    "start_time": "2021-08-26T10:17:57.061Z"
   },
   {
    "duration": 11,
    "start_time": "2021-08-26T10:17:57.441Z"
   },
   {
    "duration": 4,
    "start_time": "2021-08-26T10:21:49.732Z"
   },
   {
    "duration": 7,
    "start_time": "2021-08-26T10:21:58.142Z"
   },
   {
    "duration": 13,
    "start_time": "2021-08-26T10:22:05.180Z"
   },
   {
    "duration": 1753,
    "start_time": "2021-08-26T10:23:05.609Z"
   },
   {
    "duration": 5,
    "start_time": "2021-08-26T10:23:16.751Z"
   },
   {
    "duration": 5,
    "start_time": "2021-08-26T10:23:47.329Z"
   },
   {
    "duration": 7,
    "start_time": "2021-08-26T10:23:48.762Z"
   },
   {
    "duration": 15,
    "start_time": "2021-08-26T10:24:08.170Z"
   },
   {
    "duration": 7,
    "start_time": "2021-08-26T10:24:32.042Z"
   },
   {
    "duration": 493,
    "start_time": "2021-08-26T10:25:33.078Z"
   },
   {
    "duration": 1632,
    "start_time": "2021-08-27T07:39:31.252Z"
   },
   {
    "duration": 6,
    "start_time": "2021-08-27T07:39:32.887Z"
   },
   {
    "duration": 77,
    "start_time": "2021-08-27T07:39:34.852Z"
   },
   {
    "duration": 17,
    "start_time": "2021-08-27T07:39:36.924Z"
   },
   {
    "duration": 5,
    "start_time": "2021-08-27T07:39:38.100Z"
   },
   {
    "duration": 3144,
    "start_time": "2021-08-27T07:39:39.523Z"
   },
   {
    "duration": 9,
    "start_time": "2021-08-27T07:39:47.165Z"
   },
   {
    "duration": 10,
    "start_time": "2021-08-27T07:39:47.772Z"
   },
   {
    "duration": 124,
    "start_time": "2021-08-27T07:39:48.790Z"
   },
   {
    "duration": 9,
    "start_time": "2021-08-27T07:39:49.881Z"
   },
   {
    "duration": 8,
    "start_time": "2021-08-27T07:39:50.363Z"
   },
   {
    "duration": 5,
    "start_time": "2021-08-27T07:41:06.238Z"
   },
   {
    "duration": 16,
    "start_time": "2021-08-27T07:41:08.544Z"
   },
   {
    "duration": 539,
    "start_time": "2021-08-27T07:41:32.272Z"
   },
   {
    "duration": 415,
    "start_time": "2021-08-27T07:41:57.932Z"
   },
   {
    "duration": 387,
    "start_time": "2021-08-27T07:42:08.752Z"
   },
   {
    "duration": 655,
    "start_time": "2021-08-27T07:43:32.151Z"
   },
   {
    "duration": 8,
    "start_time": "2021-08-27T07:44:02.161Z"
   },
   {
    "duration": 18,
    "start_time": "2021-08-27T07:44:14.852Z"
   },
   {
    "duration": 6,
    "start_time": "2021-08-27T07:44:54.593Z"
   },
   {
    "duration": 19,
    "start_time": "2021-08-27T07:44:58.613Z"
   },
   {
    "duration": 7219,
    "start_time": "2021-08-27T07:45:21.955Z"
   },
   {
    "duration": 11,
    "start_time": "2021-08-27T07:45:50.611Z"
   },
   {
    "duration": 11,
    "start_time": "2021-08-27T07:46:31.240Z"
   },
   {
    "duration": 823,
    "start_time": "2021-08-27T07:53:24.031Z"
   },
   {
    "duration": 25,
    "start_time": "2021-08-27T07:53:43.983Z"
   },
   {
    "duration": 24,
    "start_time": "2021-08-27T07:54:06.972Z"
   },
   {
    "duration": 8,
    "start_time": "2021-08-27T08:21:09.332Z"
   },
   {
    "duration": 5,
    "start_time": "2021-08-27T08:26:21.493Z"
   },
   {
    "duration": 18,
    "start_time": "2021-08-27T08:26:22.785Z"
   },
   {
    "duration": 13,
    "start_time": "2021-08-27T08:26:34.440Z"
   },
   {
    "duration": 7,
    "start_time": "2021-08-27T08:26:34.537Z"
   },
   {
    "duration": 70,
    "start_time": "2021-08-27T08:26:34.776Z"
   },
   {
    "duration": 26,
    "start_time": "2021-08-27T08:26:35.343Z"
   },
   {
    "duration": 7,
    "start_time": "2021-08-27T08:26:35.888Z"
   },
   {
    "duration": 3102,
    "start_time": "2021-08-27T08:26:36.103Z"
   },
   {
    "duration": 10,
    "start_time": "2021-08-27T08:26:39.207Z"
   },
   {
    "duration": 14,
    "start_time": "2021-08-27T08:26:39.220Z"
   },
   {
    "duration": 16,
    "start_time": "2021-08-27T08:26:39.871Z"
   },
   {
    "duration": 8,
    "start_time": "2021-08-27T08:26:40.683Z"
   },
   {
    "duration": 10,
    "start_time": "2021-08-27T08:26:41.411Z"
   },
   {
    "duration": 4,
    "start_time": "2021-08-27T08:26:42.012Z"
   },
   {
    "duration": 22,
    "start_time": "2021-08-27T08:26:42.792Z"
   },
   {
    "duration": 26,
    "start_time": "2021-08-27T08:26:44.081Z"
   },
   {
    "duration": 10,
    "start_time": "2021-08-27T08:26:58.132Z"
   },
   {
    "duration": 81,
    "start_time": "2021-08-27T08:27:14.231Z"
   },
   {
    "duration": 22,
    "start_time": "2021-08-27T08:31:07.389Z"
   },
   {
    "duration": 17,
    "start_time": "2021-08-27T08:31:46.479Z"
   },
   {
    "duration": 18,
    "start_time": "2021-08-27T08:34:01.952Z"
   },
   {
    "duration": 4,
    "start_time": "2021-08-27T08:34:57.244Z"
   },
   {
    "duration": 5,
    "start_time": "2021-08-27T08:34:57.472Z"
   },
   {
    "duration": 70,
    "start_time": "2021-08-27T08:34:57.673Z"
   },
   {
    "duration": 17,
    "start_time": "2021-08-27T08:34:58.172Z"
   },
   {
    "duration": 5,
    "start_time": "2021-08-27T08:34:58.891Z"
   },
   {
    "duration": 3336,
    "start_time": "2021-08-27T08:34:59.423Z"
   },
   {
    "duration": 11,
    "start_time": "2021-08-27T08:35:02.811Z"
   },
   {
    "duration": 11,
    "start_time": "2021-08-27T08:35:03.492Z"
   },
   {
    "duration": 14,
    "start_time": "2021-08-27T08:35:03.860Z"
   },
   {
    "duration": 9,
    "start_time": "2021-08-27T08:35:04.871Z"
   },
   {
    "duration": 8,
    "start_time": "2021-08-27T08:35:05.845Z"
   },
   {
    "duration": 16,
    "start_time": "2021-08-27T08:35:13.680Z"
   },
   {
    "duration": 13,
    "start_time": "2021-08-27T08:35:58.820Z"
   },
   {
    "duration": 1683,
    "start_time": "2021-08-27T08:36:34.280Z"
   },
   {
    "duration": 5,
    "start_time": "2021-08-27T08:36:35.966Z"
   },
   {
    "duration": 95,
    "start_time": "2021-08-27T08:36:35.974Z"
   },
   {
    "duration": 33,
    "start_time": "2021-08-27T08:36:36.071Z"
   },
   {
    "duration": 11,
    "start_time": "2021-08-27T08:36:36.109Z"
   },
   {
    "duration": 3452,
    "start_time": "2021-08-27T08:36:36.123Z"
   },
   {
    "duration": 9,
    "start_time": "2021-08-27T08:36:39.577Z"
   },
   {
    "duration": 23,
    "start_time": "2021-08-27T08:36:39.602Z"
   },
   {
    "duration": 179,
    "start_time": "2021-08-27T08:36:39.630Z"
   },
   {
    "duration": 103,
    "start_time": "2021-08-27T08:36:39.813Z"
   },
   {
    "duration": 10,
    "start_time": "2021-08-27T08:36:39.918Z"
   },
   {
    "duration": 18,
    "start_time": "2021-08-27T08:36:39.930Z"
   },
   {
    "duration": 99,
    "start_time": "2021-08-27T08:36:40.001Z"
   },
   {
    "duration": 11,
    "start_time": "2021-08-27T08:36:40.103Z"
   },
   {
    "duration": 11,
    "start_time": "2021-08-27T08:36:40.119Z"
   },
   {
    "duration": 90,
    "start_time": "2021-08-27T08:36:40.133Z"
   },
   {
    "duration": 10,
    "start_time": "2021-08-27T08:36:40.301Z"
   },
   {
    "duration": 103,
    "start_time": "2021-08-27T08:36:40.314Z"
   },
   {
    "duration": 27,
    "start_time": "2021-08-27T08:37:02.190Z"
   },
   {
    "duration": 119,
    "start_time": "2021-08-27T08:37:49.594Z"
   },
   {
    "duration": 808,
    "start_time": "2021-08-27T08:38:19.416Z"
   },
   {
    "duration": 106,
    "start_time": "2021-08-27T08:38:27.395Z"
   },
   {
    "duration": 1613,
    "start_time": "2021-08-27T08:38:44.665Z"
   },
   {
    "duration": 6,
    "start_time": "2021-08-27T08:38:46.281Z"
   },
   {
    "duration": 77,
    "start_time": "2021-08-27T08:38:46.305Z"
   },
   {
    "duration": 25,
    "start_time": "2021-08-27T08:38:46.385Z"
   },
   {
    "duration": 6,
    "start_time": "2021-08-27T08:38:46.413Z"
   },
   {
    "duration": 3488,
    "start_time": "2021-08-27T08:38:46.422Z"
   },
   {
    "duration": 11,
    "start_time": "2021-08-27T08:38:49.912Z"
   },
   {
    "duration": 14,
    "start_time": "2021-08-27T08:38:49.927Z"
   },
   {
    "duration": 158,
    "start_time": "2021-08-27T08:38:49.945Z"
   },
   {
    "duration": 14,
    "start_time": "2021-08-27T08:38:50.109Z"
   },
   {
    "duration": 12,
    "start_time": "2021-08-27T08:38:50.202Z"
   },
   {
    "duration": 17,
    "start_time": "2021-08-27T08:38:50.223Z"
   },
   {
    "duration": 100,
    "start_time": "2021-08-27T08:38:50.304Z"
   },
   {
    "duration": 10,
    "start_time": "2021-08-27T08:38:50.417Z"
   },
   {
    "duration": 22,
    "start_time": "2021-08-27T08:38:50.430Z"
   },
   {
    "duration": 92,
    "start_time": "2021-08-27T08:38:50.513Z"
   },
   {
    "duration": 91,
    "start_time": "2021-08-27T08:38:50.613Z"
   },
   {
    "duration": 11,
    "start_time": "2021-08-27T08:38:50.709Z"
   },
   {
    "duration": 11,
    "start_time": "2021-08-27T08:38:50.723Z"
   },
   {
    "duration": 557,
    "start_time": "2021-08-27T08:40:10.673Z"
   },
   {
    "duration": 537,
    "start_time": "2021-08-27T08:40:18.964Z"
   },
   {
    "duration": 7337,
    "start_time": "2021-08-27T08:40:37.774Z"
   },
   {
    "duration": 9,
    "start_time": "2021-08-27T08:41:07.316Z"
   },
   {
    "duration": 10335,
    "start_time": "2021-08-27T08:41:33.142Z"
   },
   {
    "duration": 17,
    "start_time": "2021-08-27T08:41:45.795Z"
   },
   {
    "duration": 9,
    "start_time": "2021-08-27T08:41:54.654Z"
   },
   {
    "duration": 8,
    "start_time": "2021-08-27T08:42:27.474Z"
   },
   {
    "duration": 12,
    "start_time": "2021-08-27T08:42:31.406Z"
   },
   {
    "duration": 13,
    "start_time": "2021-08-27T08:43:41.303Z"
   },
   {
    "duration": 12,
    "start_time": "2021-08-27T08:43:56.854Z"
   },
   {
    "duration": 136,
    "start_time": "2021-08-27T08:47:26.134Z"
   },
   {
    "duration": 130,
    "start_time": "2021-08-27T08:47:49.582Z"
   },
   {
    "duration": 19,
    "start_time": "2021-08-27T08:48:27.294Z"
   },
   {
    "duration": 17,
    "start_time": "2021-08-27T08:48:42.870Z"
   },
   {
    "duration": 16,
    "start_time": "2021-08-27T08:48:59.615Z"
   },
   {
    "duration": 60,
    "start_time": "2021-08-27T08:56:14.042Z"
   },
   {
    "duration": 18,
    "start_time": "2021-08-27T08:56:16.454Z"
   },
   {
    "duration": 10,
    "start_time": "2021-08-27T08:56:17.883Z"
   },
   {
    "duration": 11,
    "start_time": "2021-08-27T08:56:19.534Z"
   },
   {
    "duration": 83,
    "start_time": "2021-08-27T08:56:20.926Z"
   },
   {
    "duration": 12,
    "start_time": "2021-08-27T08:56:22.062Z"
   },
   {
    "duration": 12,
    "start_time": "2021-08-27T08:56:23.026Z"
   },
   {
    "duration": 5,
    "start_time": "2021-08-27T09:31:46.726Z"
   },
   {
    "duration": 5,
    "start_time": "2021-08-27T09:31:46.850Z"
   },
   {
    "duration": 75,
    "start_time": "2021-08-27T09:31:47.165Z"
   },
   {
    "duration": 22,
    "start_time": "2021-08-27T09:31:47.807Z"
   },
   {
    "duration": 4,
    "start_time": "2021-08-27T09:31:48.474Z"
   },
   {
    "duration": 3388,
    "start_time": "2021-08-27T09:31:48.777Z"
   },
   {
    "duration": 9,
    "start_time": "2021-08-27T09:31:52.168Z"
   },
   {
    "duration": 10,
    "start_time": "2021-08-27T09:31:52.455Z"
   },
   {
    "duration": 14,
    "start_time": "2021-08-27T09:31:53.184Z"
   },
   {
    "duration": 11,
    "start_time": "2021-08-27T09:31:54.794Z"
   },
   {
    "duration": 8,
    "start_time": "2021-08-27T09:31:55.454Z"
   },
   {
    "duration": 15,
    "start_time": "2021-08-27T09:31:58.582Z"
   },
   {
    "duration": 447,
    "start_time": "2021-08-27T09:32:17.726Z"
   },
   {
    "duration": 9,
    "start_time": "2021-08-27T09:32:34.296Z"
   },
   {
    "duration": 8,
    "start_time": "2021-08-27T09:33:01.326Z"
   },
   {
    "duration": 5,
    "start_time": "2021-08-27T09:35:35.675Z"
   },
   {
    "duration": 26,
    "start_time": "2021-08-27T09:37:09.555Z"
   },
   {
    "duration": 414,
    "start_time": "2021-08-27T09:37:16.686Z"
   },
   {
    "duration": 10,
    "start_time": "2021-08-27T09:37:33.353Z"
   },
   {
    "duration": 11,
    "start_time": "2021-08-27T09:37:34.546Z"
   },
   {
    "duration": 1331,
    "start_time": "2021-09-04T08:06:48.088Z"
   },
   {
    "duration": 4,
    "start_time": "2021-09-04T08:06:49.421Z"
   },
   {
    "duration": 60,
    "start_time": "2021-09-04T08:06:49.496Z"
   },
   {
    "duration": 13,
    "start_time": "2021-09-04T08:06:51.196Z"
   },
   {
    "duration": 4,
    "start_time": "2021-09-04T08:06:53.056Z"
   },
   {
    "duration": 2079,
    "start_time": "2021-09-04T08:06:53.960Z"
   },
   {
    "duration": 8,
    "start_time": "2021-09-04T08:07:01.009Z"
   },
   {
    "duration": 10,
    "start_time": "2021-09-04T08:07:02.456Z"
   },
   {
    "duration": 101,
    "start_time": "2021-09-04T08:07:03.606Z"
   },
   {
    "duration": 7,
    "start_time": "2021-09-04T08:07:06.036Z"
   },
   {
    "duration": 8,
    "start_time": "2021-09-04T08:07:07.077Z"
   },
   {
    "duration": 6,
    "start_time": "2021-09-04T08:07:56.237Z"
   },
   {
    "duration": 9,
    "start_time": "2021-09-04T08:43:56.816Z"
   },
   {
    "duration": 521,
    "start_time": "2021-09-04T08:47:13.277Z"
   },
   {
    "duration": 355,
    "start_time": "2021-09-04T08:47:32.467Z"
   },
   {
    "duration": 4,
    "start_time": "2021-09-04T08:47:47.990Z"
   },
   {
    "duration": 4,
    "start_time": "2021-09-04T08:47:48.230Z"
   },
   {
    "duration": 49,
    "start_time": "2021-09-04T08:47:48.513Z"
   },
   {
    "duration": 15,
    "start_time": "2021-09-04T08:47:49.228Z"
   },
   {
    "duration": 3,
    "start_time": "2021-09-04T08:47:50.870Z"
   },
   {
    "duration": 1936,
    "start_time": "2021-09-04T08:47:51.285Z"
   },
   {
    "duration": 8,
    "start_time": "2021-09-04T08:47:54.775Z"
   },
   {
    "duration": 9,
    "start_time": "2021-09-04T08:47:58.909Z"
   },
   {
    "duration": 12,
    "start_time": "2021-09-04T08:47:59.297Z"
   },
   {
    "duration": 7,
    "start_time": "2021-09-04T08:48:00.472Z"
   },
   {
    "duration": 7,
    "start_time": "2021-09-04T08:48:01.154Z"
   },
   {
    "duration": 10,
    "start_time": "2021-09-04T08:48:02.176Z"
   },
   {
    "duration": 6,
    "start_time": "2021-09-04T08:48:03.625Z"
   },
   {
    "duration": 693,
    "start_time": "2021-09-04T08:49:05.332Z"
   },
   {
    "duration": 1296,
    "start_time": "2021-09-04T08:49:46.126Z"
   },
   {
    "duration": 5,
    "start_time": "2021-09-04T08:50:31.272Z"
   },
   {
    "duration": 7,
    "start_time": "2021-09-04T08:50:32.641Z"
   },
   {
    "duration": 6,
    "start_time": "2021-09-12T13:01:52.262Z"
   },
   {
    "duration": 4,
    "start_time": "2021-09-12T13:03:11.291Z"
   },
   {
    "duration": 329,
    "start_time": "2021-09-12T13:03:11.883Z"
   },
   {
    "duration": 1508,
    "start_time": "2021-09-12T13:03:20.350Z"
   },
   {
    "duration": 5,
    "start_time": "2021-09-12T13:03:21.861Z"
   },
   {
    "duration": 83,
    "start_time": "2021-09-12T13:03:21.869Z"
   },
   {
    "duration": 15,
    "start_time": "2021-09-12T13:03:21.955Z"
   },
   {
    "duration": 38,
    "start_time": "2021-09-12T13:03:21.972Z"
   },
   {
    "duration": 1225,
    "start_time": "2021-09-12T13:03:22.013Z"
   },
   {
    "duration": 629,
    "start_time": "2021-09-12T13:03:22.612Z"
   },
   {
    "duration": 624,
    "start_time": "2021-09-12T13:03:22.619Z"
   },
   {
    "duration": 631,
    "start_time": "2021-09-12T13:03:22.623Z"
   },
   {
    "duration": 628,
    "start_time": "2021-09-12T13:03:22.628Z"
   },
   {
    "duration": 625,
    "start_time": "2021-09-12T13:03:22.632Z"
   },
   {
    "duration": 622,
    "start_time": "2021-09-12T13:03:22.637Z"
   },
   {
    "duration": 619,
    "start_time": "2021-09-12T13:03:22.641Z"
   },
   {
    "duration": 615,
    "start_time": "2021-09-12T13:03:22.647Z"
   },
   {
    "duration": 612,
    "start_time": "2021-09-12T13:03:22.652Z"
   },
   {
    "duration": 609,
    "start_time": "2021-09-12T13:03:22.657Z"
   },
   {
    "duration": 605,
    "start_time": "2021-09-12T13:03:22.662Z"
   },
   {
    "duration": 600,
    "start_time": "2021-09-12T13:03:22.668Z"
   },
   {
    "duration": 583,
    "start_time": "2021-09-12T13:03:22.687Z"
   },
   {
    "duration": 572,
    "start_time": "2021-09-12T13:03:22.699Z"
   },
   {
    "duration": 5,
    "start_time": "2021-09-12T13:04:18.834Z"
   },
   {
    "duration": 3102,
    "start_time": "2021-09-12T13:04:19.406Z"
   },
   {
    "duration": 5,
    "start_time": "2021-09-12T13:04:27.535Z"
   },
   {
    "duration": 3193,
    "start_time": "2021-09-12T13:04:28.883Z"
   },
   {
    "duration": 290,
    "start_time": "2021-09-12T13:06:31.992Z"
   },
   {
    "duration": 16,
    "start_time": "2021-09-12T13:06:44.911Z"
   },
   {
    "duration": 5,
    "start_time": "2021-09-12T13:06:47.038Z"
   },
   {
    "duration": 3030,
    "start_time": "2021-09-12T13:06:47.855Z"
   },
   {
    "duration": 1569,
    "start_time": "2021-09-15T19:50:56.029Z"
   },
   {
    "duration": 7,
    "start_time": "2021-09-15T19:50:57.601Z"
   },
   {
    "duration": 75,
    "start_time": "2021-09-15T19:50:57.611Z"
   },
   {
    "duration": 16,
    "start_time": "2021-09-15T19:50:57.689Z"
   },
   {
    "duration": 5,
    "start_time": "2021-09-15T19:50:57.707Z"
   },
   {
    "duration": 2960,
    "start_time": "2021-09-15T19:50:57.715Z"
   },
   {
    "duration": 9608,
    "start_time": "2021-09-15T19:51:00.677Z"
   },
   {
    "duration": -78,
    "start_time": "2021-09-15T19:51:10.366Z"
   },
   {
    "duration": -78,
    "start_time": "2021-09-15T19:51:10.368Z"
   },
   {
    "duration": -78,
    "start_time": "2021-09-15T19:51:10.369Z"
   },
   {
    "duration": -79,
    "start_time": "2021-09-15T19:51:10.371Z"
   },
   {
    "duration": -78,
    "start_time": "2021-09-15T19:51:10.372Z"
   },
   {
    "duration": -79,
    "start_time": "2021-09-15T19:51:10.374Z"
   },
   {
    "duration": -79,
    "start_time": "2021-09-15T19:51:10.375Z"
   },
   {
    "duration": -78,
    "start_time": "2021-09-15T19:51:10.376Z"
   },
   {
    "duration": -80,
    "start_time": "2021-09-15T19:51:10.379Z"
   },
   {
    "duration": -81,
    "start_time": "2021-09-15T19:51:10.381Z"
   },
   {
    "duration": -80,
    "start_time": "2021-09-15T19:51:10.382Z"
   },
   {
    "duration": -80,
    "start_time": "2021-09-15T19:51:10.383Z"
   },
   {
    "duration": -80,
    "start_time": "2021-09-15T19:51:10.385Z"
   },
   {
    "duration": 9,
    "start_time": "2021-09-15T19:59:59.258Z"
   },
   {
    "duration": 10,
    "start_time": "2021-09-15T20:00:00.829Z"
   },
   {
    "duration": 143,
    "start_time": "2021-09-15T20:00:01.215Z"
   },
   {
    "duration": 9,
    "start_time": "2021-09-15T20:00:01.474Z"
   },
   {
    "duration": 8,
    "start_time": "2021-09-15T20:00:01.782Z"
   },
   {
    "duration": 13,
    "start_time": "2021-09-15T20:00:02.070Z"
   },
   {
    "duration": 7,
    "start_time": "2021-09-15T20:00:02.314Z"
   },
   {
    "duration": 6,
    "start_time": "2021-09-15T20:00:02.562Z"
   },
   {
    "duration": 8,
    "start_time": "2021-09-15T20:00:02.822Z"
   },
   {
    "duration": 352,
    "start_time": "2021-09-15T20:00:03.022Z"
   },
   {
    "duration": -28,
    "start_time": "2021-09-15T20:00:03.405Z"
   },
   {
    "duration": 8,
    "start_time": "2021-09-15T20:00:03.486Z"
   },
   {
    "duration": 151,
    "start_time": "2021-09-16T13:19:26.405Z"
   },
   {
    "duration": 336,
    "start_time": "2021-09-16T13:25:21.047Z"
   },
   {
    "duration": 1571,
    "start_time": "2021-09-16T13:44:46.222Z"
   },
   {
    "duration": 5,
    "start_time": "2021-09-16T13:44:47.795Z"
   },
   {
    "duration": 77,
    "start_time": "2021-09-16T13:44:47.803Z"
   },
   {
    "duration": 16,
    "start_time": "2021-09-16T13:44:47.882Z"
   },
   {
    "duration": 3093,
    "start_time": "2021-09-16T13:44:47.901Z"
   },
   {
    "duration": 11,
    "start_time": "2021-09-16T13:44:50.998Z"
   },
   {
    "duration": 33,
    "start_time": "2021-09-16T13:44:51.011Z"
   },
   {
    "duration": 106,
    "start_time": "2021-09-16T13:44:51.062Z"
   },
   {
    "duration": 98,
    "start_time": "2021-09-16T13:44:51.172Z"
   },
   {
    "duration": 91,
    "start_time": "2021-09-16T13:44:51.273Z"
   },
   {
    "duration": 9,
    "start_time": "2021-09-16T13:44:51.367Z"
   },
   {
    "duration": 507,
    "start_time": "2021-09-16T13:44:51.380Z"
   },
   {
    "duration": -10,
    "start_time": "2021-09-16T13:44:51.900Z"
   },
   {
    "duration": -29,
    "start_time": "2021-09-16T13:44:51.920Z"
   },
   {
    "duration": -62,
    "start_time": "2021-09-16T13:44:51.954Z"
   },
   {
    "duration": -91,
    "start_time": "2021-09-16T13:44:51.985Z"
   },
   {
    "duration": -117,
    "start_time": "2021-09-16T13:44:52.012Z"
   },
   {
    "duration": -155,
    "start_time": "2021-09-16T13:44:52.051Z"
   },
   {
    "duration": -164,
    "start_time": "2021-09-16T13:44:52.061Z"
   },
   {
    "duration": -184,
    "start_time": "2021-09-16T13:44:52.083Z"
   },
   {
    "duration": 1540,
    "start_time": "2021-09-16T13:51:49.346Z"
   },
   {
    "duration": 6,
    "start_time": "2021-09-16T13:51:50.888Z"
   },
   {
    "duration": 96,
    "start_time": "2021-09-16T13:51:50.898Z"
   },
   {
    "duration": 19,
    "start_time": "2021-09-16T13:51:50.996Z"
   },
   {
    "duration": 3586,
    "start_time": "2021-09-16T13:51:51.018Z"
   },
   {
    "duration": 9,
    "start_time": "2021-09-16T13:51:54.607Z"
   },
   {
    "duration": 33,
    "start_time": "2021-09-16T13:51:54.619Z"
   },
   {
    "duration": 120,
    "start_time": "2021-09-16T13:51:54.656Z"
   },
   {
    "duration": 185,
    "start_time": "2021-09-16T13:51:54.780Z"
   },
   {
    "duration": 14,
    "start_time": "2021-09-16T13:51:54.968Z"
   },
   {
    "duration": 451,
    "start_time": "2021-09-16T13:51:54.984Z"
   },
   {
    "duration": 8,
    "start_time": "2021-09-16T13:51:55.437Z"
   },
   {
    "duration": 342,
    "start_time": "2021-09-16T13:51:55.447Z"
   },
   {
    "duration": 42,
    "start_time": "2021-09-16T13:51:55.750Z"
   },
   {
    "duration": 14,
    "start_time": "2021-09-16T13:51:55.779Z"
   },
   {
    "duration": 7,
    "start_time": "2021-09-16T13:52:05.896Z"
   },
   {
    "duration": 9,
    "start_time": "2021-09-16T13:52:07.899Z"
   },
   {
    "duration": 296,
    "start_time": "2021-09-16T13:52:08.643Z"
   },
   {
    "duration": 841,
    "start_time": "2021-09-16T13:52:09.582Z"
   },
   {
    "duration": 481,
    "start_time": "2021-09-16T13:52:11.107Z"
   },
   {
    "duration": 1678,
    "start_time": "2021-09-16T18:24:18.923Z"
   },
   {
    "duration": 7,
    "start_time": "2021-09-16T18:24:20.604Z"
   },
   {
    "duration": 82,
    "start_time": "2021-09-16T18:24:20.615Z"
   },
   {
    "duration": 17,
    "start_time": "2021-09-16T18:24:20.700Z"
   },
   {
    "duration": 3301,
    "start_time": "2021-09-16T18:24:20.720Z"
   },
   {
    "duration": 11,
    "start_time": "2021-09-16T18:24:24.025Z"
   },
   {
    "duration": 57,
    "start_time": "2021-09-16T18:24:24.038Z"
   },
   {
    "duration": 157,
    "start_time": "2021-09-16T18:24:24.099Z"
   },
   {
    "duration": 10,
    "start_time": "2021-09-16T18:24:24.260Z"
   },
   {
    "duration": 19,
    "start_time": "2021-09-16T18:24:24.356Z"
   },
   {
    "duration": 26,
    "start_time": "2021-09-16T18:24:24.377Z"
   },
   {
    "duration": 59,
    "start_time": "2021-09-16T18:24:24.406Z"
   },
   {
    "duration": 503,
    "start_time": "2021-09-16T18:24:24.469Z"
   },
   {
    "duration": 160,
    "start_time": "2021-09-16T18:24:24.815Z"
   },
   {
    "duration": 153,
    "start_time": "2021-09-16T18:24:24.823Z"
   },
   {
    "duration": 263,
    "start_time": "2021-09-16T18:54:28.123Z"
   },
   {
    "duration": 1565,
    "start_time": "2021-09-16T18:54:45.241Z"
   },
   {
    "duration": 5,
    "start_time": "2021-09-16T18:54:46.808Z"
   },
   {
    "duration": 90,
    "start_time": "2021-09-16T18:54:46.816Z"
   },
   {
    "duration": 18,
    "start_time": "2021-09-16T18:54:46.909Z"
   },
   {
    "duration": 3254,
    "start_time": "2021-09-16T18:54:46.930Z"
   },
   {
    "duration": 9,
    "start_time": "2021-09-16T18:54:50.186Z"
   },
   {
    "duration": 25,
    "start_time": "2021-09-16T18:54:50.197Z"
   },
   {
    "duration": 132,
    "start_time": "2021-09-16T18:54:50.225Z"
   },
   {
    "duration": 96,
    "start_time": "2021-09-16T18:54:50.361Z"
   },
   {
    "duration": 8,
    "start_time": "2021-09-16T18:54:50.460Z"
   },
   {
    "duration": 19,
    "start_time": "2021-09-16T18:54:50.470Z"
   },
   {
    "duration": 74,
    "start_time": "2021-09-16T18:54:50.491Z"
   },
   {
    "duration": 426,
    "start_time": "2021-09-16T18:58:19.794Z"
   },
   {
    "duration": 278,
    "start_time": "2021-09-16T18:58:42.751Z"
   },
   {
    "duration": 92,
    "start_time": "2021-09-16T18:58:54.387Z"
   },
   {
    "duration": 12,
    "start_time": "2021-09-16T18:59:02.955Z"
   },
   {
    "duration": 325,
    "start_time": "2021-09-16T19:00:22.515Z"
   },
   {
    "duration": 11,
    "start_time": "2021-09-16T19:00:38.614Z"
   },
   {
    "duration": 1605,
    "start_time": "2021-09-16T21:04:46.001Z"
   },
   {
    "duration": 6,
    "start_time": "2021-09-16T21:04:47.609Z"
   },
   {
    "duration": 83,
    "start_time": "2021-09-16T21:04:47.618Z"
   },
   {
    "duration": 18,
    "start_time": "2021-09-16T21:04:49.627Z"
   },
   {
    "duration": 3104,
    "start_time": "2021-09-16T21:04:51.219Z"
   },
   {
    "duration": 714,
    "start_time": "2021-09-20T16:13:09.692Z"
   },
   {
    "duration": 1531,
    "start_time": "2021-09-20T16:24:15.784Z"
   },
   {
    "duration": 5,
    "start_time": "2021-09-20T16:24:17.318Z"
   },
   {
    "duration": 89,
    "start_time": "2021-09-20T16:24:17.326Z"
   },
   {
    "duration": 45,
    "start_time": "2021-09-20T16:24:17.420Z"
   },
   {
    "duration": 5698,
    "start_time": "2021-09-20T16:24:17.469Z"
   },
   {
    "duration": 13,
    "start_time": "2021-09-20T16:24:23.170Z"
   },
   {
    "duration": 14,
    "start_time": "2021-09-20T16:24:23.186Z"
   },
   {
    "duration": 156,
    "start_time": "2021-09-20T16:24:23.204Z"
   },
   {
    "duration": 94,
    "start_time": "2021-09-20T16:24:23.364Z"
   },
   {
    "duration": 15,
    "start_time": "2021-09-20T16:24:23.461Z"
   },
   {
    "duration": 5,
    "start_time": "2021-09-20T16:24:23.557Z"
   },
   {
    "duration": 11,
    "start_time": "2021-09-20T16:24:23.565Z"
   },
   {
    "duration": 179,
    "start_time": "2021-09-20T16:24:23.579Z"
   },
   {
    "duration": 8,
    "start_time": "2021-09-20T16:27:35.680Z"
   },
   {
    "duration": 1516,
    "start_time": "2021-09-20T16:32:14.603Z"
   },
   {
    "duration": 5,
    "start_time": "2021-09-20T16:32:16.122Z"
   },
   {
    "duration": 80,
    "start_time": "2021-09-20T16:32:16.130Z"
   },
   {
    "duration": 18,
    "start_time": "2021-09-20T16:32:16.212Z"
   },
   {
    "duration": 3065,
    "start_time": "2021-09-20T16:32:16.256Z"
   },
   {
    "duration": 10,
    "start_time": "2021-09-20T16:32:19.325Z"
   },
   {
    "duration": 11,
    "start_time": "2021-09-20T16:32:19.356Z"
   },
   {
    "duration": 184,
    "start_time": "2021-09-20T16:32:19.371Z"
   },
   {
    "duration": 10,
    "start_time": "2021-09-20T16:32:19.560Z"
   },
   {
    "duration": 8,
    "start_time": "2021-09-20T16:32:19.657Z"
   },
   {
    "duration": 92,
    "start_time": "2021-09-20T16:32:19.668Z"
   },
   {
    "duration": 12,
    "start_time": "2021-09-20T16:32:19.762Z"
   },
   {
    "duration": 86,
    "start_time": "2021-09-20T16:32:19.777Z"
   }
  ],
  "kernelspec": {
   "display_name": "Python 3",
   "language": "python",
   "name": "python3"
  },
  "language_info": {
   "codemirror_mode": {
    "name": "ipython",
    "version": 3
   },
   "file_extension": ".py",
   "mimetype": "text/x-python",
   "name": "python",
   "nbconvert_exporter": "python",
   "pygments_lexer": "ipython3",
   "version": "3.8.8"
  },
  "toc": {
   "base_numbering": 1,
   "nav_menu": {},
   "number_sections": true,
   "sideBar": true,
   "skip_h1_title": true,
   "title_cell": "Содержание",
   "title_sidebar": "Contents",
   "toc_cell": true,
   "toc_position": {
    "height": "542.4px",
    "left": "396px",
    "top": "138.8px",
    "width": "289.6px"
   },
   "toc_section_display": true,
   "toc_window_display": true
  }
 },
 "nbformat": 4,
 "nbformat_minor": 2
}
